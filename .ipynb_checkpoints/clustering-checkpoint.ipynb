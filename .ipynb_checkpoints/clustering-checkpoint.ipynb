{
 "cells": [
  {
   "cell_type": "code",
   "execution_count": 1,
   "metadata": {
    "scrolled": true
   },
   "outputs": [],
   "source": [
    "#!pip install wing\n",
    "#!pip install umap-learn\n",
    "#!pip install hdbscan\n",
    "# !pip install plotly_express"
   ]
  },
  {
   "cell_type": "code",
   "execution_count": 2,
   "metadata": {},
   "outputs": [],
   "source": [
    "import pandas as pd, numpy as np\n",
    "import wing\n",
    "from wing.pd_utils import da\n",
    "from wing.preprocess import numericalize, train_cats, add_datepart, proc_df\n",
    "from sklearn.preprocessing import scale\n",
    "import umap\n",
    "import plotly_express\n",
    "import hdbscan\n",
    "%matplotlib inline\n",
    "path_data = \"./data/\""
   ]
  },
  {
   "cell_type": "markdown",
   "metadata": {},
   "source": [
    "## Preprocessing "
   ]
  },
  {
   "cell_type": "code",
   "execution_count": 12,
   "metadata": {},
   "outputs": [],
   "source": [
    "df = pd.read_csv(path_data + 'sipri-report-explosions.csv')\n",
    "df.date = list(map(lambda x: ('19' + str(x)), df.date))\n",
    "df.date = pd.to_datetime(df.date, format='%Y%m%d')\n",
    "add_datepart(df, 'date', drop=True)"
   ]
  },
  {
   "cell_type": "code",
   "execution_count": 13,
   "metadata": {},
   "outputs": [
    {
     "name": "stderr",
     "output_type": "stream",
     "text": [
      "/Users/tomroth/anaconda3/lib/python3.7/site-packages/ipykernel_launcher.py:2: SettingWithCopyWarning:\n",
      "\n",
      "\n",
      "A value is trying to be set on a copy of a slice from a DataFrame\n",
      "\n",
      "See the caveats in the documentation: http://pandas.pydata.org/pandas-docs/stable/indexing.html#indexing-view-versus-copy\n",
      "\n",
      "/Users/tomroth/anaconda3/lib/python3.7/site-packages/ipykernel_launcher.py:3: SettingWithCopyWarning:\n",
      "\n",
      "\n",
      "A value is trying to be set on a copy of a slice from a DataFrame\n",
      "\n",
      "See the caveats in the documentation: http://pandas.pydata.org/pandas-docs/stable/indexing.html#indexing-view-versus-copy\n",
      "\n"
     ]
    }
   ],
   "source": [
    "# Replace missing values with 0 for yield columns \n",
    "df.yield_1[df.yield_1.isna()] = df.yield_1.mean()\n",
    "df.yield_u[df.yield_u.isna()] = df.yield_u.mean()"
   ]
  },
  {
   "cell_type": "code",
   "execution_count": 14,
   "metadata": {},
   "outputs": [],
   "source": [
    "df['hour'] = list(map(lambda x: str(x)[0:2],df.origin_t))\n",
    "df['hour'] = list(map(lambda x: '0' if x.find('.') != -1  else x, df['hour']))\n",
    "df['hour'] = list(map(lambda x: str(x[0]) if int(x) >= 24 else x, df['hour']))"
   ]
  },
  {
   "cell_type": "code",
   "execution_count": 15,
   "metadata": {},
   "outputs": [],
   "source": [
    "atmospheric_c = ['ATMOSPH','AIRDROP','TOWER','BALLOON','SURFACE','BARGE','ROCKET',\n",
    "                'CRATER', 'UW', 'SPACE', 'WATER SU','SHIP','WATERSUR']\n",
    "underground_c = ['SHAFT', 'TUNNEL', 'SHAFT/GR', 'SHAFT/LG','UG','GALLERY','MINE']\n",
    "def preprocess_type(x): \n",
    "    if   x in atmospheric_c: return 'ATMOSPHERIC'\n",
    "    elif x in underground_c: return 'UNDERGROUND'\n",
    "    else:                    return 'uncategorized'\n",
    "df['type_cat'] = list(map(preprocess_type, df.type))"
   ]
  },
  {
   "cell_type": "code",
   "execution_count": 16,
   "metadata": {},
   "outputs": [],
   "source": [
    "# indicator variables \n",
    "df['mb_I'] = list(map(lambda x: 1 if x > 0 else 0, df['mb']))\n",
    "df['Ms_I'] = list(map(lambda x: 1 if x > 0 else 0, df['Ms']))"
   ]
  },
  {
   "cell_type": "code",
   "execution_count": 17,
   "metadata": {},
   "outputs": [],
   "source": [
    "key = 'id_no'\n",
    "df.set_index(key, inplace=True)\n",
    "df1=df.copy()"
   ]
  },
  {
   "cell_type": "code",
   "execution_count": 18,
   "metadata": {},
   "outputs": [],
   "source": [
    "train_cats(df)  # str --> category \n",
    "cols_to_numericalize = ['country', 'region', 'source', 'purpose', 'type_cat']\n",
    "for c in cols_to_numericalize: \n",
    "    numericalize(df, df[c], c + \"_code\", None)\n",
    "dropcols = cols_to_numericalize + \\\n",
    "    ['name', 'date_long', 'origin_t', '_Year', '_Is_month_end', '_Is_month_start', \n",
    "    '_Is_year_end', '_Is_year_start','_Is_quarter_end', '_Is_quarter_start', '_Elapsed']\n",
    "df.drop(columns = dropcols, inplace=True)"
   ]
  },
  {
   "cell_type": "code",
   "execution_count": 19,
   "metadata": {},
   "outputs": [],
   "source": [
    "# scientific viewpoint \n",
    "keepcols = ['mb', 'Ms', 'depth', 'yield_1', 'yield_u', 'year', 'country_code', 'type_cat_code']\n",
    "df_env = df[keepcols]\n",
    "df_env_s =  (df_env-df_env.mean())/df_env.std()"
   ]
  },
  {
   "cell_type": "markdown",
   "metadata": {},
   "source": [
    "## Clustering "
   ]
  },
  {
   "cell_type": "code",
   "execution_count": 24,
   "metadata": {},
   "outputs": [
    {
     "name": "stdout",
     "output_type": "stream",
     "text": [
      "CPU times: user 9.44 s, sys: 152 ms, total: 9.59 s\n",
      "Wall time: 9.26 s\n"
     ]
    }
   ],
   "source": [
    "fit = umap.UMAP(n_neighbors=100,min_dist=0)\n",
    "%time u = fit.fit_transform(df_env_s)"
   ]
  },
  {
   "cell_type": "code",
   "execution_count": 25,
   "metadata": {},
   "outputs": [],
   "source": [
    "df1['x'],df1['y'] = u[:,0],u[:,1]"
   ]
  },
  {
   "cell_type": "code",
   "execution_count": 26,
   "metadata": {},
   "outputs": [
    {
     "data": {
      "text/plain": [
       "Index(['origin_t', 'country', 'region', 'source', 'latitude', 'longitude',\n",
       "       'mb', 'Ms', 'depth', 'yield_1', 'yield_u', 'purpose', 'name', 'type',\n",
       "       'date_long', 'year', '_Year', '_Month', '_Week', '_Day', '_Dayofweek',\n",
       "       '_Dayofyear', '_Quarter', '_Is_month_end', '_Is_month_start',\n",
       "       '_Is_quarter_end', '_Is_quarter_start', '_Is_year_end',\n",
       "       '_Is_year_start', '_Elapsed', 'hour', 'type_cat', 'mb_I', 'Ms_I', 'x',\n",
       "       'y'],\n",
       "      dtype='object')"
      ]
     },
     "execution_count": 26,
     "metadata": {},
     "output_type": "execute_result"
    }
   ],
   "source": [
    "df1.columns"
   ]
  },
  {
   "cell_type": "code",
   "execution_count": 33,
   "metadata": {},
   "outputs": [
    {
     "data": {
      "application/vnd.plotly.v1+json": {
       "config": {
        "linkText": "Export to plot.ly",
        "plotlyServerURL": "https://plot.ly",
        "showLink": false
       },
       "data": [
        {
         "customdata": [
          [
           1945,
           "USA",
           "TOWER",
           "ATMOSPHERIC",
           "ALAMOGORDO",
           1945
          ]
         ],
         "hoverlabel": {
          "namelength": 0
         },
         "hovertemplate": "region=%{customdata[4]}<br>x=%{x}<br>y=%{y}<br>year=%{customdata[5]}<br>country=%{customdata[1]}<br>type=%{customdata[2]}<br>type_cat=%{customdata[3]}",
         "legendgroup": "region=ALAMOGORDO",
         "marker": {
          "color": "#636efa",
          "symbol": "circle"
         },
         "mode": "markers",
         "name": "region=ALAMOGORDO",
         "showlegend": true,
         "type": "scattergl",
         "uid": "9ff368f3-8f89-4449-a6cd-ffe20047e442",
         "x": [
          -6.857891082763672
         ],
         "xaxis": "x",
         "y": [
          -16.797060012817383
         ],
         "yaxis": "y"
        },
        {
         "customdata": [
          [
           1945,
           "USA",
           "AIRDROP",
           "ATMOSPHERIC",
           "HIROSHIMA",
           1945
          ]
         ],
         "hoverlabel": {
          "namelength": 0
         },
         "hovertemplate": "region=%{customdata[4]}<br>x=%{x}<br>y=%{y}<br>year=%{customdata[5]}<br>country=%{customdata[1]}<br>type=%{customdata[2]}<br>type_cat=%{customdata[3]}",
         "legendgroup": "region=HIROSHIMA",
         "marker": {
          "color": "#EF553B",
          "symbol": "circle"
         },
         "mode": "markers",
         "name": "region=HIROSHIMA",
         "showlegend": true,
         "type": "scattergl",
         "uid": "4a3e344a-77bd-40f2-b1f5-b56af9cf112b",
         "x": [
          -6.8616943359375
         ],
         "xaxis": "x",
         "y": [
          -16.79298210144043
         ],
         "yaxis": "y"
        },
        {
         "customdata": [
          [
           1945,
           "USA",
           "AIRDROP",
           "ATMOSPHERIC",
           "NAGASAKI",
           1945
          ]
         ],
         "hoverlabel": {
          "namelength": 0
         },
         "hovertemplate": "region=%{customdata[4]}<br>x=%{x}<br>y=%{y}<br>year=%{customdata[5]}<br>country=%{customdata[1]}<br>type=%{customdata[2]}<br>type_cat=%{customdata[3]}",
         "legendgroup": "region=NAGASAKI",
         "marker": {
          "color": "#00cc96",
          "symbol": "circle"
         },
         "mode": "markers",
         "name": "region=NAGASAKI",
         "showlegend": true,
         "type": "scattergl",
         "uid": "81b2b313-2ff3-4878-8ea9-f62ab82d795f",
         "x": [
          -6.8267822265625
         ],
         "xaxis": "x",
         "y": [
          -16.81055450439453
         ],
         "yaxis": "y"
        },
        {
         "customdata": [
          [
           1946,
           "USA",
           "AIRDROP",
           "ATMOSPHERIC",
           "BIKINI",
           1946
          ],
          [
           1946,
           "USA",
           "UW",
           "ATMOSPHERIC",
           "BIKINI",
           1946
          ],
          [
           1954,
           "USA",
           "SURFACE",
           "ATMOSPHERIC",
           "BIKINI",
           1954
          ],
          [
           1954,
           "USA",
           "BARGE",
           "ATMOSPHERIC",
           "BIKINI",
           1954
          ],
          [
           1954,
           "USA",
           "SURFACE",
           "ATMOSPHERIC",
           "BIKINI",
           1954
          ],
          [
           1954,
           "USA",
           "BARGE",
           "ATMOSPHERIC",
           "BIKINI",
           1954
          ],
          [
           1954,
           "USA",
           "BARGE",
           "ATMOSPHERIC",
           "BIKINI",
           1954
          ],
          [
           1956,
           "USA",
           "AIRDROP",
           "ATMOSPHERIC",
           "BIKINI",
           1956
          ],
          [
           1956,
           "USA",
           "SURFACE",
           "ATMOSPHERIC",
           "BIKINI",
           1956
          ],
          [
           1956,
           "USA",
           "BARGE",
           "ATMOSPHERIC",
           "BIKINI",
           1956
          ],
          [
           1956,
           "USA",
           "BARGE",
           "ATMOSPHERIC",
           "BIKINI",
           1956
          ],
          [
           1956,
           "USA",
           "BARGE",
           "ATMOSPHERIC",
           "BIKINI",
           1956
          ],
          [
           1956,
           "USA",
           "BARGE",
           "ATMOSPHERIC",
           "BIKINI",
           1956
          ],
          [
           1958,
           "USA",
           "BARGE",
           "ATMOSPHERIC",
           "BIKINI",
           1958
          ],
          [
           1958,
           "USA",
           "BARGE",
           "ATMOSPHERIC",
           "BIKINI",
           1958
          ],
          [
           1958,
           "USA",
           "BARGE",
           "ATMOSPHERIC",
           "BIKINI",
           1958
          ],
          [
           1958,
           "USA",
           "BARGE",
           "ATMOSPHERIC",
           "BIKINI",
           1958
          ],
          [
           1958,
           "USA",
           "BARGE",
           "ATMOSPHERIC",
           "BIKINI",
           1958
          ],
          [
           1958,
           "USA",
           "BARGE",
           "ATMOSPHERIC",
           "BIKINI",
           1958
          ],
          [
           1958,
           "USA",
           "BARGE",
           "ATMOSPHERIC",
           "BIKINI",
           1958
          ],
          [
           1958,
           "USA",
           "BARGE",
           "ATMOSPHERIC",
           "BIKINI",
           1958
          ],
          [
           1958,
           "USA",
           "BARGE",
           "ATMOSPHERIC",
           "BIKINI",
           1958
          ],
          [
           1958,
           "USA",
           "BARGE",
           "ATMOSPHERIC",
           "BIKINI",
           1958
          ]
         ],
         "hoverlabel": {
          "namelength": 0
         },
         "hovertemplate": "region=%{customdata[4]}<br>x=%{x}<br>y=%{y}<br>year=%{customdata[5]}<br>country=%{customdata[1]}<br>type=%{customdata[2]}<br>type_cat=%{customdata[3]}",
         "legendgroup": "region=BIKINI",
         "marker": {
          "color": "#ab63fa",
          "symbol": "circle"
         },
         "mode": "markers",
         "name": "region=BIKINI",
         "showlegend": true,
         "type": "scattergl",
         "uid": "5efbfc17-538b-40a2-b420-cf7b29c50116",
         "x": [
          -6.8739166259765625,
          -6.816501617431641,
          -4.464802265167236,
          -4.532745361328125,
          -6.177918910980225,
          -4.550962448120117,
          -4.489987850189209,
          -4.6556715965271,
          -4.702268600463867,
          -4.491791248321533,
          -4.976086616516113,
          -4.643605709075928,
          -4.626570701599121,
          -4.948553085327148,
          -3.904247522354126,
          -3.9373779296875,
          -4.3350348472595215,
          -4.308861255645752,
          -4.3590264320373535,
          -3.8539154529571533,
          -4.357484817504883,
          -4.507093906402588,
          -4.0020751953125
         ],
         "xaxis": "x",
         "y": [
          -16.814632415771484,
          -16.84231948852539,
          -14.586102485656738,
          -14.519474983215332,
          -17.0346736907959,
          -14.523579597473145,
          -14.575789451599121,
          -14.445642471313477,
          -14.407055854797363,
          -16.596691131591797,
          -14.566648483276367,
          -14.470849990844727,
          -14.484118461608887,
          -14.434479713439941,
          -16.7283992767334,
          -16.724878311157227,
          -16.646764755249023,
          -16.61548614501953,
          -16.575626373291016,
          -16.767093658447266,
          -16.62175750732422,
          -14.56000804901123,
          -16.680334091186523
         ],
         "yaxis": "y"
        },
        {
         "customdata": [
          [
           1948,
           "USA",
           "TOWER",
           "ATMOSPHERIC",
           "ENEWETAK",
           1948
          ],
          [
           1948,
           "USA",
           "TOWER",
           "ATMOSPHERIC",
           "ENEWETAK",
           1948
          ],
          [
           1948,
           "USA",
           "TOWER",
           "ATMOSPHERIC",
           "ENEWETAK",
           1948
          ],
          [
           1951,
           "USA",
           "TOWER",
           "ATMOSPHERIC",
           "ENEWETAK",
           1951
          ],
          [
           1951,
           "USA",
           "TOWER",
           "ATMOSPHERIC",
           "ENEWETAK",
           1951
          ],
          [
           1951,
           "USA",
           "TOWER",
           "ATMOSPHERIC",
           "ENEWETAK",
           1951
          ],
          [
           1951,
           "USA",
           "TOWER",
           "ATMOSPHERIC",
           "ENEWETAK",
           1951
          ],
          [
           1952,
           "USA",
           "SURFACE",
           "ATMOSPHERIC",
           "ENEWETAK",
           1952
          ],
          [
           1952,
           "USA",
           "AIRDROP",
           "ATMOSPHERIC",
           "ENEWETAK",
           1952
          ],
          [
           1954,
           "USA",
           "BARGE",
           "ATMOSPHERIC",
           "ENEWETAK",
           1954
          ],
          [
           1956,
           "USA",
           "SURFACE",
           "ATMOSPHERIC",
           "ENEWETAK",
           1956
          ],
          [
           1956,
           "USA",
           "TOWER",
           "ATMOSPHERIC",
           "ENEWETAK",
           1956
          ],
          [
           1956,
           "USA",
           "TOWER",
           "ATMOSPHERIC",
           "ENEWETAK",
           1956
          ],
          [
           1956,
           "USA",
           "SURFACE",
           "ATMOSPHERIC",
           "ENEWETAK",
           1956
          ],
          [
           1956,
           "USA",
           "TOWER",
           "ATMOSPHERIC",
           "ENEWETAK",
           1956
          ],
          [
           1956,
           "USA",
           "TOWER",
           "ATMOSPHERIC",
           "ENEWETAK",
           1956
          ],
          [
           1956,
           "USA",
           "AIRDROP",
           "ATMOSPHERIC",
           "ENEWETAK",
           1956
          ],
          [
           1956,
           "USA",
           "TOWER",
           "ATMOSPHERIC",
           "ENEWETAK",
           1956
          ],
          [
           1956,
           "USA",
           "TOWER",
           "ATMOSPHERIC",
           "ENEWETAK",
           1956
          ],
          [
           1956,
           "USA",
           "BARGE",
           "ATMOSPHERIC",
           "ENEWETAK",
           1956
          ],
          [
           1956,
           "USA",
           "BARGE",
           "ATMOSPHERIC",
           "ENEWETAK",
           1956
          ],
          [
           1958,
           "USA",
           "SURFACE",
           "ATMOSPHERIC",
           "ENEWETAK",
           1958
          ],
          [
           1958,
           "USA",
           "BARGE",
           "ATMOSPHERIC",
           "ENEWETAK",
           1958
          ],
          [
           1958,
           "USA",
           "SURFACE",
           "ATMOSPHERIC",
           "ENEWETAK",
           1958
          ],
          [
           1958,
           "USA",
           "UW",
           "ATMOSPHERIC",
           "ENEWETAK",
           1958
          ],
          [
           1958,
           "USA",
           "BARGE",
           "ATMOSPHERIC",
           "ENEWETAK",
           1958
          ],
          [
           1958,
           "USA",
           "BARGE",
           "ATMOSPHERIC",
           "ENEWETAK",
           1958
          ],
          [
           1958,
           "USA",
           "BARGE",
           "ATMOSPHERIC",
           "ENEWETAK",
           1958
          ],
          [
           1958,
           "USA",
           "BARGE",
           "ATMOSPHERIC",
           "ENEWETAK",
           1958
          ],
          [
           1958,
           "USA",
           "BARGE",
           "ATMOSPHERIC",
           "ENEWETAK",
           1958
          ],
          [
           1958,
           "USA",
           "UW",
           "ATMOSPHERIC",
           "ENEWETAK",
           1958
          ],
          [
           1958,
           "USA",
           "BARGE",
           "ATMOSPHERIC",
           "ENEWETAK",
           1958
          ],
          [
           1958,
           "USA",
           "BARGE",
           "ATMOSPHERIC",
           "ENEWETAK",
           1958
          ],
          [
           1958,
           "USA",
           "BARGE",
           "ATMOSPHERIC",
           "ENEWETAK",
           1958
          ],
          [
           1958,
           "USA",
           "BARGE",
           "ATMOSPHERIC",
           "ENEWETAK",
           1958
          ],
          [
           1958,
           "USA",
           "BARGE",
           "ATMOSPHERIC",
           "ENEWETAK",
           1958
          ],
          [
           1958,
           "USA",
           "BARGE",
           "ATMOSPHERIC",
           "ENEWETAK",
           1958
          ],
          [
           1958,
           "USA",
           "BARGE",
           "ATMOSPHERIC",
           "ENEWETAK",
           1958
          ],
          [
           1958,
           "USA",
           "BARGE",
           "ATMOSPHERIC",
           "ENEWETAK",
           1958
          ],
          [
           1958,
           "USA",
           "BARGE",
           "ATMOSPHERIC",
           "ENEWETAK",
           1958
          ],
          [
           1958,
           "USA",
           "BARGE",
           "ATMOSPHERIC",
           "ENEWETAK",
           1958
          ],
          [
           1958,
           "USA",
           "SURFACE",
           "ATMOSPHERIC",
           "ENEWETAK",
           1958
          ],
          [
           1958,
           "USA",
           "SURFACE",
           "ATMOSPHERIC",
           "ENEWETAK",
           1958
          ]
         ],
         "hoverlabel": {
          "namelength": 0
         },
         "hovertemplate": "region=%{customdata[4]}<br>x=%{x}<br>y=%{y}<br>year=%{customdata[5]}<br>country=%{customdata[1]}<br>type=%{customdata[2]}<br>type_cat=%{customdata[3]}",
         "legendgroup": "region=ENEWETAK",
         "marker": {
          "color": "#19d3f3",
          "symbol": "circle"
         },
         "mode": "markers",
         "name": "region=ENEWETAK",
         "showlegend": true,
         "type": "scattergl",
         "uid": "bed8f22b-3fcc-4e85-8a2e-7ad7a542f1c6",
         "x": [
          -6.8951191902160645,
          -6.892535209655762,
          -6.792673587799072,
          -6.921408653259277,
          -6.876763820648193,
          -6.862260341644287,
          -6.88928747177124,
          -4.51138973236084,
          -6.727851390838623,
          -4.903061389923096,
          -5.13408899307251,
          -5.144587516784668,
          -5.15564489364624,
          -5.144309997558594,
          -5.135511875152588,
          -5.143871307373047,
          -5.142096996307373,
          -5.1273274421691895,
          -4.55623722076416,
          -4.899763107299805,
          -4.535398006439209,
          -3.8671600818634033,
          -3.99540114402771,
          -4.955017566680908,
          -3.7713253498077393,
          -3.8292551040649414,
          -4.337722301483154,
          -3.8444905281066895,
          -3.848445415496826,
          -3.887709379196167,
          -3.8491976261138916,
          -4.9559173583984375,
          -3.8619773387908936,
          -5.0968403816223145,
          -4.521956443786621,
          -3.8245177268981934,
          -4.359534740447998,
          -3.793520450592041,
          -4.370876312255859,
          -4.325313568115234,
          -4.889882564544678,
          -3.7558603286743164,
          -3.7758970260620117
         ],
         "xaxis": "x",
         "y": [
          -16.823686599731445,
          -16.822612762451172,
          -16.851716995239258,
          -16.838197708129883,
          -16.824424743652344,
          -16.82807731628418,
          -16.854021072387695,
          -14.541131973266602,
          -16.837162017822266,
          -14.390058517456055,
          -16.93842315673828,
          -16.924821853637695,
          -16.940122604370117,
          -16.940393447875977,
          -16.931772232055664,
          -16.92926025390625,
          -16.931798934936523,
          -16.93158721923828,
          -16.626317977905273,
          -14.385152816772461,
          -16.627763748168945,
          -16.754621505737305,
          -16.691810607910156,
          -14.43271541595459,
          -16.840906143188477,
          -16.779884338378906,
          -16.592884063720703,
          -16.770523071289062,
          -16.7657527923584,
          -16.727489471435547,
          -16.78068733215332,
          -14.411571502685547,
          -16.751510620117188,
          -14.620589256286621,
          -14.543532371520996,
          -16.778650283813477,
          -16.548532485961914,
          -16.805580139160156,
          -16.617313385009766,
          -16.632156372070312,
          -14.36057186126709,
          -16.829814910888672,
          -16.828943252563477
         ],
         "yaxis": "y"
        },
        {
         "customdata": [
          [
           1949,
           "USSR",
           "SURFACE",
           "ATMOSPHERIC",
           "SEMI KAZAKH",
           1949
          ],
          [
           1951,
           "USSR",
           "SURFACE",
           "ATMOSPHERIC",
           "SEMI KAZAKH",
           1951
          ],
          [
           1951,
           "USSR",
           "AIRDROP",
           "ATMOSPHERIC",
           "SEMI KAZAKH",
           1951
          ],
          [
           1953,
           "USSR",
           "SURFACE",
           "ATMOSPHERIC",
           "SEMI KAZAKH",
           1953
          ],
          [
           1953,
           "USSR",
           "ATMOSPH",
           "ATMOSPHERIC",
           "SEMI KAZAKH",
           1953
          ],
          [
           1953,
           "USSR",
           "ATMOSPH",
           "ATMOSPHERIC",
           "SEMI KAZAKH",
           1953
          ],
          [
           1953,
           "USSR",
           "ATMOSPH",
           "ATMOSPHERIC",
           "SEMI KAZAKH",
           1953
          ],
          [
           1953,
           "USSR",
           "ATMOSPH",
           "ATMOSPHERIC",
           "SEMI KAZAKH",
           1953
          ],
          [
           1954,
           "USSR",
           "ATMOSPH",
           "ATMOSPHERIC",
           "SEMI KAZAKH",
           1954
          ],
          [
           1954,
           "USSR",
           "ATMOSPH",
           "ATMOSPHERIC",
           "SEMI KAZAKH",
           1954
          ],
          [
           1954,
           "USSR",
           "ATMOSPH",
           "ATMOSPHERIC",
           "SEMI KAZAKH",
           1954
          ],
          [
           1954,
           "USSR",
           "SURFACE",
           "ATMOSPHERIC",
           "SEMI KAZAKH",
           1954
          ],
          [
           1954,
           "USSR",
           "ATMOSPH",
           "ATMOSPHERIC",
           "SEMI KAZAKH",
           1954
          ],
          [
           1954,
           "USSR",
           "SURFACE",
           "ATMOSPHERIC",
           "SEMI KAZAKH",
           1954
          ],
          [
           1954,
           "USSR",
           "ATMOSPH",
           "ATMOSPHERIC",
           "SEMI KAZAKH",
           1954
          ],
          [
           1954,
           "USSR",
           "ATMOSPH",
           "ATMOSPHERIC",
           "SEMI KAZAKH",
           1954
          ],
          [
           1954,
           "USSR",
           "SURFACE",
           "ATMOSPHERIC",
           "SEMI KAZAKH",
           1954
          ],
          [
           1955,
           "USSR",
           "SURFACE",
           "ATMOSPHERIC",
           "SEMI KAZAKH",
           1955
          ],
          [
           1955,
           "USSR",
           "SURFACE",
           "ATMOSPHERIC",
           "SEMI KAZAKH",
           1955
          ],
          [
           1955,
           "USSR",
           "SURFACE",
           "ATMOSPHERIC",
           "SEMI KAZAKH",
           1955
          ],
          [
           1955,
           "USSR",
           "ATMOSPH",
           "ATMOSPHERIC",
           "SEMI KAZAKH",
           1955
          ],
          [
           1955,
           "USSR",
           "ATMOSPH",
           "ATMOSPHERIC",
           "SEMI KAZAKH",
           1955
          ],
          [
           1956,
           "USSR",
           "SURFACE",
           "ATMOSPHERIC",
           "SEMI KAZAKH",
           1956
          ],
          [
           1956,
           "USSR",
           "SURFACE",
           "ATMOSPHERIC",
           "SEMI KAZAKH",
           1956
          ],
          [
           1956,
           "USSR",
           "SURFACE",
           "ATMOSPHERIC",
           "SEMI KAZAKH",
           1956
          ],
          [
           1956,
           "USSR",
           "ATMOSPH",
           "ATMOSPHERIC",
           "SEMI KAZAKH",
           1956
          ],
          [
           1956,
           "USSR",
           "ATMOSPH",
           "ATMOSPHERIC",
           "SEMI KAZAKH",
           1956
          ],
          [
           1956,
           "USSR",
           "ATMOSPH",
           "ATMOSPHERIC",
           "SEMI KAZAKH",
           1956
          ],
          [
           1956,
           "USSR",
           "ATMOSPH",
           "ATMOSPHERIC",
           "SEMI KAZAKH",
           1956
          ],
          [
           1956,
           "USSR",
           "ATMOSPH",
           "ATMOSPHERIC",
           "SEMI KAZAKH",
           1956
          ],
          [
           1957,
           "USSR",
           "ATMOSPH",
           "ATMOSPHERIC",
           "SEMI KAZAKH",
           1957
          ],
          [
           1957,
           "USSR",
           "ATMOSPH",
           "ATMOSPHERIC",
           "SEMI KAZAKH",
           1957
          ],
          [
           1957,
           "USSR",
           "ATMOSPH",
           "ATMOSPHERIC",
           "SEMI KAZAKH",
           1957
          ],
          [
           1957,
           "USSR",
           "ATMOSPH",
           "ATMOSPHERIC",
           "SEMI KAZAKH",
           1957
          ],
          [
           1957,
           "USSR",
           "ATMOSPH",
           "ATMOSPHERIC",
           "SEMI KAZAKH",
           1957
          ],
          [
           1957,
           "USSR",
           "ATMOSPH",
           "ATMOSPHERIC",
           "SEMI KAZAKH",
           1957
          ],
          [
           1957,
           "USSR",
           "ATMOSPH",
           "ATMOSPHERIC",
           "SEMI KAZAKH",
           1957
          ],
          [
           1957,
           "USSR",
           "ATMOSPH",
           "ATMOSPHERIC",
           "SEMI KAZAKH",
           1957
          ],
          [
           1957,
           "USSR",
           "ATMOSPH",
           "ATMOSPHERIC",
           "SEMI KAZAKH",
           1957
          ],
          [
           1957,
           "USSR",
           "ATMOSPH",
           "ATMOSPHERIC",
           "SEMI KAZAKH",
           1957
          ],
          [
           1957,
           "USSR",
           "ATMOSPH",
           "ATMOSPHERIC",
           "SEMI KAZAKH",
           1957
          ],
          [
           1958,
           "USSR",
           "ATMOSPH",
           "ATMOSPHERIC",
           "SEMI KAZAKH",
           1958
          ],
          [
           1958,
           "USSR",
           "ATMOSPH",
           "ATMOSPHERIC",
           "SEMI KAZAKH",
           1958
          ],
          [
           1958,
           "USSR",
           "ATMOSPH",
           "ATMOSPHERIC",
           "SEMI KAZAKH",
           1958
          ],
          [
           1958,
           "USSR",
           "ATMOSPH",
           "ATMOSPHERIC",
           "SEMI KAZAKH",
           1958
          ],
          [
           1958,
           "USSR",
           "ATMOSPH",
           "ATMOSPHERIC",
           "SEMI KAZAKH",
           1958
          ],
          [
           1958,
           "USSR",
           "ATMOSPH",
           "ATMOSPHERIC",
           "SEMI KAZAKH",
           1958
          ],
          [
           1958,
           "USSR",
           "ATMOSPH",
           "ATMOSPHERIC",
           "SEMI KAZAKH",
           1958
          ],
          [
           1958,
           "USSR",
           "ATMOSPH",
           "ATMOSPHERIC",
           "SEMI KAZAKH",
           1958
          ],
          [
           1961,
           "USSR",
           "ATMOSPH",
           "ATMOSPHERIC",
           "SEMI KAZAKH",
           1961
          ],
          [
           1961,
           "USSR",
           "ATMOSPH",
           "ATMOSPHERIC",
           "SEMI KAZAKH",
           1961
          ],
          [
           1961,
           "USSR",
           "ATMOSPH",
           "ATMOSPHERIC",
           "SEMI KAZAKH",
           1961
          ],
          [
           1961,
           "USSR",
           "ATMOSPH",
           "ATMOSPHERIC",
           "SEMI KAZAKH",
           1961
          ],
          [
           1961,
           "USSR",
           "SURFACE",
           "ATMOSPHERIC",
           "SEMI KAZAKH",
           1961
          ],
          [
           1961,
           "USSR",
           "ATMOSPH",
           "ATMOSPHERIC",
           "SEMI KAZAKH",
           1961
          ],
          [
           1961,
           "USSR",
           "ATMOSPH",
           "ATMOSPHERIC",
           "SEMI KAZAKH",
           1961
          ],
          [
           1961,
           "USSR",
           "ATMOSPH",
           "ATMOSPHERIC",
           "SEMI KAZAKH",
           1961
          ],
          [
           1961,
           "USSR",
           "SURFACE",
           "ATMOSPHERIC",
           "SEMI KAZAKH",
           1961
          ],
          [
           1961,
           "USSR",
           "ATMOSPH",
           "ATMOSPHERIC",
           "SEMI KAZAKH",
           1961
          ],
          [
           1961,
           "USSR",
           "SURFACE",
           "ATMOSPHERIC",
           "SEMI KAZAKH",
           1961
          ],
          [
           1961,
           "USSR",
           "ATMOSPH",
           "ATMOSPHERIC",
           "SEMI KAZAKH",
           1961
          ],
          [
           1961,
           "USSR",
           "SURFACE",
           "ATMOSPHERIC",
           "SEMI KAZAKH",
           1961
          ],
          [
           1961,
           "USSR",
           "ATMOSPH",
           "ATMOSPHERIC",
           "SEMI KAZAKH",
           1961
          ],
          [
           1961,
           "USSR",
           "ATMOSPH",
           "ATMOSPHERIC",
           "SEMI KAZAKH",
           1961
          ],
          [
           1961,
           "USSR",
           "ATMOSPH",
           "ATMOSPHERIC",
           "SEMI KAZAKH",
           1961
          ],
          [
           1961,
           "USSR",
           "ATMOSPH",
           "ATMOSPHERIC",
           "SEMI KAZAKH",
           1961
          ],
          [
           1961,
           "USSR",
           "ATMOSPH",
           "ATMOSPHERIC",
           "SEMI KAZAKH",
           1961
          ],
          [
           1961,
           "USSR",
           "TUNNEL",
           "UNDERGROUND",
           "SEMI KAZAKH",
           1961
          ],
          [
           1961,
           "USSR",
           "ATMOSPH",
           "ATMOSPHERIC",
           "SEMI KAZAKH",
           1961
          ],
          [
           1961,
           "USSR",
           "ATMOSPH",
           "ATMOSPHERIC",
           "SEMI KAZAKH",
           1961
          ],
          [
           1961,
           "USSR",
           "ATMOSPH",
           "ATMOSPHERIC",
           "SEMI KAZAKH",
           1961
          ],
          [
           1961,
           "USSR",
           "ATMOSPH",
           "ATMOSPHERIC",
           "SEMI KAZAKH",
           1961
          ],
          [
           1961,
           "USSR",
           "ATMOSPH",
           "ATMOSPHERIC",
           "SEMI KAZAKH",
           1961
          ],
          [
           1961,
           "USSR",
           "ATMOSPH",
           "ATMOSPHERIC",
           "SEMI KAZAKH",
           1961
          ],
          [
           1961,
           "USSR",
           "ATMOSPH",
           "ATMOSPHERIC",
           "SEMI KAZAKH",
           1961
          ],
          [
           1961,
           "USSR",
           "SURFACE",
           "ATMOSPHERIC",
           "SEMI KAZAKH",
           1961
          ],
          [
           1961,
           "USSR",
           "ATMOSPH",
           "ATMOSPHERIC",
           "SEMI KAZAKH",
           1961
          ],
          [
           1961,
           "USSR",
           "SURFACE",
           "ATMOSPHERIC",
           "SEMI KAZAKH",
           1961
          ],
          [
           1962,
           "USSR",
           "TUNNEL",
           "UNDERGROUND",
           "SEMI KAZAKH",
           1962
          ],
          [
           1962,
           "USSR",
           "ATMOSPH",
           "ATMOSPHERIC",
           "SEMI KAZAKH",
           1962
          ],
          [
           1962,
           "USSR",
           "ATMOSPH",
           "ATMOSPHERIC",
           "SEMI KAZAKH",
           1962
          ],
          [
           1962,
           "USSR",
           "ATMOSPH",
           "ATMOSPHERIC",
           "SEMI KAZAKH",
           1962
          ],
          [
           1962,
           "USSR",
           "SURFACE",
           "ATMOSPHERIC",
           "SEMI KAZAKH",
           1962
          ],
          [
           1962,
           "USSR",
           "ATMOSPH",
           "ATMOSPHERIC",
           "SEMI KAZAKH",
           1962
          ],
          [
           1962,
           "USSR",
           "ATMOSPH",
           "ATMOSPHERIC",
           "SEMI KAZAKH",
           1962
          ],
          [
           1962,
           "USSR",
           "ATMOSPH",
           "ATMOSPHERIC",
           "SEMI KAZAKH",
           1962
          ],
          [
           1962,
           "USSR",
           "ATMOSPH",
           "ATMOSPHERIC",
           "SEMI KAZAKH",
           1962
          ],
          [
           1962,
           "USSR",
           "ATMOSPH",
           "ATMOSPHERIC",
           "SEMI KAZAKH",
           1962
          ],
          [
           1962,
           "USSR",
           "ATMOSPH",
           "ATMOSPHERIC",
           "SEMI KAZAKH",
           1962
          ],
          [
           1962,
           "USSR",
           "ATMOSPH",
           "ATMOSPHERIC",
           "SEMI KAZAKH",
           1962
          ],
          [
           1962,
           "USSR",
           "ATMOSPH",
           "ATMOSPHERIC",
           "SEMI KAZAKH",
           1962
          ],
          [
           1962,
           "USSR",
           "SURFACE",
           "ATMOSPHERIC",
           "SEMI KAZAKH",
           1962
          ],
          [
           1962,
           "USSR",
           "ATMOSPH",
           "ATMOSPHERIC",
           "SEMI KAZAKH",
           1962
          ],
          [
           1962,
           "USSR",
           "SURFACE",
           "ATMOSPHERIC",
           "SEMI KAZAKH",
           1962
          ],
          [
           1962,
           "USSR",
           "ATMOSPH",
           "ATMOSPHERIC",
           "SEMI KAZAKH",
           1962
          ],
          [
           1962,
           "USSR",
           "ATMOSPH",
           "ATMOSPHERIC",
           "SEMI KAZAKH",
           1962
          ],
          [
           1962,
           "USSR",
           "ATMOSPH",
           "ATMOSPHERIC",
           "SEMI KAZAKH",
           1962
          ],
          [
           1962,
           "USSR",
           "ATMOSPH",
           "ATMOSPHERIC",
           "SEMI KAZAKH",
           1962
          ],
          [
           1962,
           "USSR",
           "ATMOSPH",
           "ATMOSPHERIC",
           "SEMI KAZAKH",
           1962
          ],
          [
           1962,
           "USSR",
           "ATMOSPH",
           "ATMOSPHERIC",
           "SEMI KAZAKH",
           1962
          ],
          [
           1962,
           "USSR",
           "ATMOSPH",
           "ATMOSPHERIC",
           "SEMI KAZAKH",
           1962
          ],
          [
           1962,
           "USSR",
           "ATMOSPH",
           "ATMOSPHERIC",
           "SEMI KAZAKH",
           1962
          ],
          [
           1962,
           "USSR",
           "SURFACE",
           "ATMOSPHERIC",
           "SEMI KAZAKH",
           1962
          ],
          [
           1962,
           "USSR",
           "ATMOSPH",
           "ATMOSPHERIC",
           "SEMI KAZAKH",
           1962
          ],
          [
           1962,
           "USSR",
           "ATMOSPH",
           "ATMOSPHERIC",
           "SEMI KAZAKH",
           1962
          ],
          [
           1962,
           "USSR",
           "ATMOSPH",
           "ATMOSPHERIC",
           "SEMI KAZAKH",
           1962
          ],
          [
           1962,
           "USSR",
           "ATMOSPH",
           "ATMOSPHERIC",
           "SEMI KAZAKH",
           1962
          ],
          [
           1962,
           "USSR",
           "SURFACE",
           "ATMOSPHERIC",
           "SEMI KAZAKH",
           1962
          ],
          [
           1962,
           "USSR",
           "SURFACE",
           "ATMOSPHERIC",
           "SEMI KAZAKH",
           1962
          ],
          [
           1962,
           "USSR",
           "SURFACE",
           "ATMOSPHERIC",
           "SEMI KAZAKH",
           1962
          ],
          [
           1962,
           "USSR",
           "ATMOSPH",
           "ATMOSPHERIC",
           "SEMI KAZAKH",
           1962
          ],
          [
           1962,
           "USSR",
           "ATMOSPH",
           "ATMOSPHERIC",
           "SEMI KAZAKH",
           1962
          ],
          [
           1962,
           "USSR",
           "SURFACE",
           "ATMOSPHERIC",
           "SEMI KAZAKH",
           1962
          ],
          [
           1962,
           "USSR",
           "SURFACE",
           "ATMOSPHERIC",
           "SEMI KAZAKH",
           1962
          ],
          [
           1962,
           "USSR",
           "ATMOSPH",
           "ATMOSPHERIC",
           "SEMI KAZAKH",
           1962
          ],
          [
           1962,
           "USSR",
           "SURFACE",
           "ATMOSPHERIC",
           "SEMI KAZAKH",
           1962
          ],
          [
           1962,
           "USSR",
           "SURFACE",
           "ATMOSPHERIC",
           "SEMI KAZAKH",
           1962
          ],
          [
           1962,
           "USSR",
           "SURFACE",
           "ATMOSPHERIC",
           "SEMI KAZAKH",
           1962
          ],
          [
           1964,
           "USSR",
           "TUNNEL",
           "UNDERGROUND",
           "SEMI KAZAKH",
           1964
          ],
          [
           1964,
           "USSR",
           "TUNNEL",
           "UNDERGROUND",
           "SEMI KAZAKH",
           1964
          ],
          [
           1964,
           "USSR",
           "TUNNEL",
           "UNDERGROUND",
           "SEMI KAZAKH",
           1964
          ],
          [
           1964,
           "USSR",
           "TUNNEL",
           "UNDERGROUND",
           "SEMI KAZAKH",
           1964
          ],
          [
           1964,
           "USSR",
           "TUNNEL",
           "UNDERGROUND",
           "SEMI KAZAKH",
           1964
          ],
          [
           1964,
           "USSR",
           "TUNNEL",
           "UNDERGROUND",
           "SEMI KAZAKH",
           1964
          ],
          [
           1964,
           "USSR",
           "TUNNEL",
           "UNDERGROUND",
           "SEMI KAZAKH",
           1964
          ],
          [
           1965,
           "USSR",
           "SHAFT",
           "UNDERGROUND",
           "SEMI KAZAKH",
           1965
          ],
          [
           1965,
           "USSR",
           "TUNNEL",
           "UNDERGROUND",
           "SEMI KAZAKH",
           1965
          ],
          [
           1965,
           "USSR",
           "TUNNEL",
           "UNDERGROUND",
           "SEMI KAZAKH",
           1965
          ],
          [
           1965,
           "USSR",
           "TUNNEL",
           "UNDERGROUND",
           "SEMI KAZAKH",
           1965
          ],
          [
           1965,
           "USSR",
           "TUNNEL",
           "UNDERGROUND",
           "SEMI KAZAKH",
           1965
          ],
          [
           1965,
           "USSR",
           "TUNNEL",
           "UNDERGROUND",
           "SEMI KAZAKH",
           1965
          ],
          [
           1965,
           "USSR",
           "TUNNEL",
           "UNDERGROUND",
           "SEMI KAZAKH",
           1965
          ],
          [
           1965,
           "USSR",
           "TUNNEL",
           "UNDERGROUND",
           "SEMI KAZAKH",
           1965
          ],
          [
           1965,
           "USSR",
           "TUNNEL",
           "UNDERGROUND",
           "SEMI KAZAKH",
           1965
          ],
          [
           1965,
           "USSR",
           "SHAFT",
           "UNDERGROUND",
           "SEMI KAZAKH",
           1965
          ],
          [
           1965,
           "USSR",
           "TUNNEL",
           "UNDERGROUND",
           "SEMI KAZAKH",
           1965
          ],
          [
           1965,
           "USSR",
           "TUNNEL",
           "UNDERGROUND",
           "SEMI KAZAKH",
           1965
          ],
          [
           1966,
           "USSR",
           "TUNNEL",
           "UNDERGROUND",
           "SEMI KAZAKH",
           1966
          ],
          [
           1966,
           "USSR",
           "TUNNEL",
           "UNDERGROUND",
           "SEMI KAZAKH",
           1966
          ],
          [
           1966,
           "USSR",
           "TUNNEL",
           "UNDERGROUND",
           "SEMI KAZAKH",
           1966
          ],
          [
           1966,
           "USSR",
           "TUNNEL",
           "UNDERGROUND",
           "SEMI KAZAKH",
           1966
          ],
          [
           1966,
           "USSR",
           "TUNNEL",
           "UNDERGROUND",
           "SEMI KAZAKH",
           1966
          ],
          [
           1966,
           "USSR",
           "TUNNEL",
           "UNDERGROUND",
           "SEMI KAZAKH",
           1966
          ],
          [
           1966,
           "USSR",
           "TUNNEL",
           "UNDERGROUND",
           "SEMI KAZAKH",
           1966
          ],
          [
           1966,
           "USSR",
           "TUNNEL",
           "UNDERGROUND",
           "SEMI KAZAKH",
           1966
          ],
          [
           1966,
           "USSR",
           "TUNNEL",
           "UNDERGROUND",
           "SEMI KAZAKH",
           1966
          ],
          [
           1966,
           "USSR",
           "TUNNEL",
           "UNDERGROUND",
           "SEMI KAZAKH",
           1966
          ],
          [
           1966,
           "USSR",
           "TUNNEL",
           "UNDERGROUND",
           "SEMI KAZAKH",
           1966
          ],
          [
           1966,
           "USSR",
           "TUNNEL",
           "UNDERGROUND",
           "SEMI KAZAKH",
           1966
          ],
          [
           1966,
           "USSR",
           "SHAFT",
           "UNDERGROUND",
           "SEMI KAZAKH",
           1966
          ],
          [
           1966,
           "USSR",
           "SHAFT",
           "UNDERGROUND",
           "SEMI KAZAKH",
           1966
          ],
          [
           1967,
           "USSR",
           "TUNNEL",
           "UNDERGROUND",
           "SEMI KAZAKH",
           1967
          ],
          [
           1967,
           "USSR",
           "TUNNEL",
           "UNDERGROUND",
           "SEMI KAZAKH",
           1967
          ],
          [
           1967,
           "USSR",
           "TUNNEL",
           "UNDERGROUND",
           "SEMI KAZAKH",
           1967
          ],
          [
           1967,
           "USSR",
           "TUNNEL",
           "UNDERGROUND",
           "SEMI KAZAKH",
           1967
          ],
          [
           1967,
           "USSR",
           "TUNNEL",
           "UNDERGROUND",
           "SEMI KAZAKH",
           1967
          ],
          [
           1967,
           "USSR",
           "TUNNEL",
           "UNDERGROUND",
           "SEMI KAZAKH",
           1967
          ],
          [
           1967,
           "USSR",
           "TUNNEL",
           "UNDERGROUND",
           "SEMI KAZAKH",
           1967
          ],
          [
           1967,
           "USSR",
           "TUNNEL",
           "UNDERGROUND",
           "SEMI KAZAKH",
           1967
          ],
          [
           1967,
           "USSR",
           "TUNNEL",
           "UNDERGROUND",
           "SEMI KAZAKH",
           1967
          ],
          [
           1967,
           "USSR",
           "SHAFT",
           "UNDERGROUND",
           "SEMI KAZAKH",
           1967
          ],
          [
           1967,
           "USSR",
           "SHAFT",
           "UNDERGROUND",
           "SEMI KAZAKH",
           1967
          ],
          [
           1967,
           "USSR",
           "TUNNEL",
           "UNDERGROUND",
           "SEMI KAZAKH",
           1967
          ],
          [
           1967,
           "USSR",
           "TUNNEL",
           "UNDERGROUND",
           "SEMI KAZAKH",
           1967
          ],
          [
           1967,
           "USSR",
           "SHAFT",
           "UNDERGROUND",
           "SEMI KAZAKH",
           1967
          ],
          [
           1967,
           "USSR",
           "TUNNEL",
           "UNDERGROUND",
           "SEMI KAZAKH",
           1967
          ],
          [
           1968,
           "USSR",
           "TUNNEL",
           "UNDERGROUND",
           "SEMI KAZAKH",
           1968
          ],
          [
           1968,
           "USSR",
           "TUNNEL",
           "UNDERGROUND",
           "SEMI KAZAKH",
           1968
          ],
          [
           1968,
           "USSR",
           "TUNNEL",
           "UNDERGROUND",
           "SEMI KAZAKH",
           1968
          ],
          [
           1968,
           "USSR",
           "TUNNEL",
           "UNDERGROUND",
           "SEMI KAZAKH",
           1968
          ],
          [
           1968,
           "USSR",
           "SHAFT",
           "UNDERGROUND",
           "SEMI KAZAKH",
           1968
          ],
          [
           1968,
           "USSR",
           "TUNNEL",
           "UNDERGROUND",
           "SEMI KAZAKH",
           1968
          ],
          [
           1968,
           "USSR",
           "TUNNEL",
           "UNDERGROUND",
           "SEMI KAZAKH",
           1968
          ],
          [
           1968,
           "USSR",
           "TUNNEL",
           "UNDERGROUND",
           "SEMI KAZAKH",
           1968
          ],
          [
           1968,
           "USSR",
           "TUNNEL",
           "UNDERGROUND",
           "SEMI KAZAKH",
           1968
          ],
          [
           1968,
           "USSR",
           "SHAFT",
           "UNDERGROUND",
           "SEMI KAZAKH",
           1968
          ],
          [
           1968,
           "USSR",
           "TUNNEL",
           "UNDERGROUND",
           "SEMI KAZAKH",
           1968
          ],
          [
           1968,
           "USSR",
           "TUNNEL",
           "UNDERGROUND",
           "SEMI KAZAKH",
           1968
          ],
          [
           1968,
           "USSR",
           "SHAFT",
           "UNDERGROUND",
           "SEMI KAZAKH",
           1968
          ],
          [
           1968,
           "USSR",
           "TUNNEL",
           "UNDERGROUND",
           "SEMI KAZAKH",
           1968
          ],
          [
           1969,
           "USSR",
           "TUNNEL",
           "UNDERGROUND",
           "SEMI KAZAKH",
           1969
          ],
          [
           1969,
           "USSR",
           "TUNNEL",
           "UNDERGROUND",
           "SEMI KAZAKH",
           1969
          ],
          [
           1969,
           "USSR",
           "TUNNEL",
           "UNDERGROUND",
           "SEMI KAZAKH",
           1969
          ],
          [
           1969,
           "USSR",
           "TUNNEL",
           "UNDERGROUND",
           "SEMI KAZAKH",
           1969
          ],
          [
           1969,
           "USSR",
           "SHAFT",
           "UNDERGROUND",
           "SEMI KAZAKH",
           1969
          ],
          [
           1969,
           "USSR",
           "TUNNEL",
           "UNDERGROUND",
           "SEMI KAZAKH",
           1969
          ],
          [
           1969,
           "USSR",
           "TUNNEL",
           "UNDERGROUND",
           "SEMI KAZAKH",
           1969
          ],
          [
           1969,
           "USSR",
           "TUNNEL",
           "UNDERGROUND",
           "SEMI KAZAKH",
           1969
          ],
          [
           1969,
           "USSR",
           "TUNNEL",
           "UNDERGROUND",
           "SEMI KAZAKH",
           1969
          ],
          [
           1969,
           "USSR",
           "TUNNEL",
           "UNDERGROUND",
           "SEMI KAZAKH",
           1969
          ],
          [
           1969,
           "USSR",
           "TUNNEL",
           "UNDERGROUND",
           "SEMI KAZAKH",
           1969
          ],
          [
           1969,
           "USSR",
           "SHAFT",
           "UNDERGROUND",
           "SEMI KAZAKH",
           1969
          ],
          [
           1969,
           "USSR",
           "SHAFT",
           "UNDERGROUND",
           "SEMI KAZAKH",
           1969
          ],
          [
           1969,
           "USSR",
           "TUNNEL",
           "UNDERGROUND",
           "SEMI KAZAKH",
           1969
          ],
          [
           1970,
           "USSR",
           "TUNNEL",
           "UNDERGROUND",
           "SEMI KAZAKH",
           1970
          ],
          [
           1970,
           "USSR",
           "TUNNEL",
           "UNDERGROUND",
           "SEMI KAZAKH",
           1970
          ],
          [
           1970,
           "USSR",
           "TUNNEL",
           "UNDERGROUND",
           "SEMI KAZAKH",
           1970
          ],
          [
           1970,
           "USSR",
           "TUNNEL",
           "UNDERGROUND",
           "SEMI KAZAKH",
           1970
          ],
          [
           1970,
           "USSR",
           "TUNNEL",
           "UNDERGROUND",
           "SEMI KAZAKH",
           1970
          ],
          [
           1970,
           "USSR",
           "TUNNEL",
           "UNDERGROUND",
           "SEMI KAZAKH",
           1970
          ],
          [
           1970,
           "USSR",
           "SHAFT",
           "UNDERGROUND",
           "SEMI KAZAKH",
           1970
          ],
          [
           1970,
           "USSR",
           "TUNNEL",
           "UNDERGROUND",
           "SEMI KAZAKH",
           1970
          ],
          [
           1970,
           "USSR",
           "TUNNEL",
           "UNDERGROUND",
           "SEMI KAZAKH",
           1970
          ],
          [
           1970,
           "USSR",
           "TUNNEL",
           "UNDERGROUND",
           "SEMI KAZAKH",
           1970
          ],
          [
           1970,
           "USSR",
           "SHAFT",
           "UNDERGROUND",
           "SEMI KAZAKH",
           1970
          ],
          [
           1970,
           "USSR",
           "TUNNEL",
           "UNDERGROUND",
           "SEMI KAZAKH",
           1970
          ],
          [
           1971,
           "USSR",
           "TUNNEL",
           "UNDERGROUND",
           "SEMI KAZAKH",
           1971
          ],
          [
           1971,
           "USSR",
           "TUNNEL",
           "UNDERGROUND",
           "SEMI KAZAKH",
           1971
          ],
          [
           1971,
           "USSR",
           "TUNNEL",
           "UNDERGROUND",
           "SEMI KAZAKH",
           1971
          ],
          [
           1971,
           "USSR",
           "TUNNEL",
           "UNDERGROUND",
           "SEMI KAZAKH",
           1971
          ],
          [
           1971,
           "USSR",
           "TUNNEL",
           "UNDERGROUND",
           "SEMI KAZAKH",
           1971
          ],
          [
           1971,
           "USSR",
           "TUNNEL",
           "UNDERGROUND",
           "SEMI KAZAKH",
           1971
          ],
          [
           1971,
           "USSR",
           "SHAFT",
           "UNDERGROUND",
           "SEMI KAZAKH",
           1971
          ],
          [
           1971,
           "USSR",
           "SHAFT",
           "UNDERGROUND",
           "SEMI KAZAKH",
           1971
          ],
          [
           1971,
           "USSR",
           "SHAFT",
           "UNDERGROUND",
           "SEMI KAZAKH",
           1971
          ],
          [
           1971,
           "USSR",
           "SHAFT",
           "UNDERGROUND",
           "SEMI KAZAKH",
           1971
          ],
          [
           1971,
           "USSR",
           "SHAFT",
           "UNDERGROUND",
           "SEMI KAZAKH",
           1971
          ],
          [
           1971,
           "USSR",
           "TUNNEL",
           "UNDERGROUND",
           "SEMI KAZAKH",
           1971
          ],
          [
           1971,
           "USSR",
           "TUNNEL",
           "UNDERGROUND",
           "SEMI KAZAKH",
           1971
          ],
          [
           1971,
           "USSR",
           "TUNNEL",
           "UNDERGROUND",
           "SEMI KAZAKH",
           1971
          ],
          [
           1971,
           "USSR",
           "TUNNEL",
           "UNDERGROUND",
           "SEMI KAZAKH",
           1971
          ],
          [
           1972,
           "USSR",
           "SHAFT",
           "UNDERGROUND",
           "SEMI KAZAKH",
           1972
          ],
          [
           1972,
           "USSR",
           "TUNNEL",
           "UNDERGROUND",
           "SEMI KAZAKH",
           1972
          ],
          [
           1972,
           "USSR",
           "TUNNEL",
           "UNDERGROUND",
           "SEMI KAZAKH",
           1972
          ],
          [
           1972,
           "USSR",
           "TUNNEL",
           "UNDERGROUND",
           "SEMI KAZAKH",
           1972
          ],
          [
           1972,
           "USSR",
           "TUNNEL",
           "UNDERGROUND",
           "SEMI KAZAKH",
           1972
          ],
          [
           1972,
           "USSR",
           "TUNNEL",
           "UNDERGROUND",
           "SEMI KAZAKH",
           1972
          ],
          [
           1972,
           "USSR",
           "TUNNEL",
           "UNDERGROUND",
           "SEMI KAZAKH",
           1972
          ],
          [
           1972,
           "USSR",
           "SHAFT",
           "UNDERGROUND",
           "SEMI KAZAKH",
           1972
          ],
          [
           1972,
           "USSR",
           "SHAFT",
           "UNDERGROUND",
           "SEMI KAZAKH",
           1972
          ],
          [
           1972,
           "USSR",
           "SHAFT",
           "UNDERGROUND",
           "SEMI KAZAKH",
           1972
          ],
          [
           1972,
           "USSR",
           "TUNNEL",
           "UNDERGROUND",
           "SEMI KAZAKH",
           1972
          ],
          [
           1972,
           "USSR",
           "SHAFT",
           "UNDERGROUND",
           "SEMI KAZAKH",
           1972
          ],
          [
           1972,
           "USSR",
           "TUNNEL",
           "UNDERGROUND",
           "SEMI KAZAKH",
           1972
          ],
          [
           1973,
           "USSR",
           "TUNNEL",
           "UNDERGROUND",
           "SEMI KAZAKH",
           1973
          ],
          [
           1973,
           "USSR",
           "SHAFT",
           "UNDERGROUND",
           "SEMI KAZAKH",
           1973
          ],
          [
           1973,
           "USSR",
           "TUNNEL",
           "UNDERGROUND",
           "SEMI KAZAKH",
           1973
          ],
          [
           1973,
           "USSR",
           "SHAFT",
           "UNDERGROUND",
           "SEMI KAZAKH",
           1973
          ],
          [
           1973,
           "USSR",
           "SHAFT",
           "UNDERGROUND",
           "SEMI KAZAKH",
           1973
          ],
          [
           1973,
           "USSR",
           "TUNNEL",
           "UNDERGROUND",
           "SEMI KAZAKH",
           1973
          ],
          [
           1973,
           "USSR",
           "SHAFT",
           "UNDERGROUND",
           "SEMI KAZAKH",
           1973
          ],
          [
           1973,
           "USSR",
           "SHAFT",
           "UNDERGROUND",
           "SEMI KAZAKH",
           1973
          ],
          [
           1973,
           "USSR",
           "TUNNEL",
           "UNDERGROUND",
           "SEMI KAZAKH",
           1973
          ],
          [
           1974,
           "USSR",
           "TUNNEL",
           "UNDERGROUND",
           "SEMI KAZAKH",
           1974
          ],
          [
           1974,
           "USSR",
           "TUNNEL",
           "UNDERGROUND",
           "SEMI KAZAKH",
           1974
          ],
          [
           1974,
           "USSR",
           "SHAFT",
           "UNDERGROUND",
           "SEMI KAZAKH",
           1974
          ],
          [
           1974,
           "USSR",
           "TUNNEL",
           "UNDERGROUND",
           "SEMI KAZAKH",
           1974
          ],
          [
           1974,
           "USSR",
           "SHAFT",
           "UNDERGROUND",
           "SEMI KAZAKH",
           1974
          ],
          [
           1974,
           "USSR",
           "TUNNEL",
           "UNDERGROUND",
           "SEMI KAZAKH",
           1974
          ],
          [
           1974,
           "USSR",
           "SHAFT",
           "UNDERGROUND",
           "SEMI KAZAKH",
           1974
          ],
          [
           1974,
           "USSR",
           "SHAFT",
           "UNDERGROUND",
           "SEMI KAZAKH",
           1974
          ],
          [
           1974,
           "USSR",
           "TUNNEL",
           "UNDERGROUND",
           "SEMI KAZAKH",
           1974
          ],
          [
           1974,
           "USSR",
           "SHAFT",
           "UNDERGROUND",
           "SEMI KAZAKH",
           1974
          ],
          [
           1974,
           "USSR",
           "SHAFT",
           "UNDERGROUND",
           "SEMI KAZAKH",
           1974
          ],
          [
           1974,
           "USSR",
           "SHAFT",
           "UNDERGROUND",
           "SEMI KAZAKH",
           1974
          ],
          [
           1974,
           "USSR",
           "TUNNEL",
           "UNDERGROUND",
           "SEMI KAZAKH",
           1974
          ],
          [
           1974,
           "USSR",
           "TUNNEL",
           "UNDERGROUND",
           "SEMI KAZAKH",
           1974
          ],
          [
           1974,
           "USSR",
           "SHAFT",
           "UNDERGROUND",
           "SEMI KAZAKH",
           1974
          ],
          [
           1975,
           "USSR",
           "TUNNEL",
           "UNDERGROUND",
           "SEMI KAZAKH",
           1975
          ],
          [
           1975,
           "USSR",
           "TUNNEL",
           "UNDERGROUND",
           "SEMI KAZAKH",
           1975
          ],
          [
           1975,
           "USSR",
           "TUNNEL",
           "UNDERGROUND",
           "SEMI KAZAKH",
           1975
          ],
          [
           1975,
           "USSR",
           "SHAFT",
           "UNDERGROUND",
           "SEMI KAZAKH",
           1975
          ],
          [
           1975,
           "USSR",
           "TUNNEL",
           "UNDERGROUND",
           "SEMI KAZAKH",
           1975
          ],
          [
           1975,
           "USSR",
           "SHAFT",
           "UNDERGROUND",
           "SEMI KAZAKH",
           1975
          ],
          [
           1975,
           "USSR",
           "SHAFT",
           "UNDERGROUND",
           "SEMI KAZAKH",
           1975
          ],
          [
           1975,
           "USSR",
           "TUNNEL",
           "UNDERGROUND",
           "SEMI KAZAKH",
           1975
          ],
          [
           1975,
           "USSR",
           "TUNNEL",
           "UNDERGROUND",
           "SEMI KAZAKH",
           1975
          ],
          [
           1975,
           "USSR",
           "SHAFT",
           "UNDERGROUND",
           "SEMI KAZAKH",
           1975
          ],
          [
           1975,
           "USSR",
           "TUNNEL",
           "UNDERGROUND",
           "SEMI KAZAKH",
           1975
          ],
          [
           1975,
           "USSR",
           "SHAFT",
           "UNDERGROUND",
           "SEMI KAZAKH",
           1975
          ],
          [
           1976,
           "USSR",
           "TUNNEL",
           "UNDERGROUND",
           "SEMI KAZAKH",
           1976
          ],
          [
           1976,
           "USSR",
           "TUNNEL",
           "UNDERGROUND",
           "SEMI KAZAKH",
           1976
          ],
          [
           1976,
           "USSR",
           "TUNNEL",
           "UNDERGROUND",
           "SEMI KAZAKH",
           1976
          ],
          [
           1976,
           "USSR",
           "SHAFT",
           "UNDERGROUND",
           "SEMI KAZAKH",
           1976
          ],
          [
           1976,
           "USSR",
           "TUNNEL",
           "UNDERGROUND",
           "SEMI KAZAKH",
           1976
          ],
          [
           1976,
           "USSR",
           "TUNNEL",
           "UNDERGROUND",
           "SEMI KAZAKH",
           1976
          ],
          [
           1976,
           "USSR",
           "SHAFT",
           "UNDERGROUND",
           "SEMI KAZAKH",
           1976
          ],
          [
           1976,
           "USSR",
           "SHAFT",
           "UNDERGROUND",
           "SEMI KAZAKH",
           1976
          ],
          [
           1976,
           "USSR",
           "TUNNEL",
           "UNDERGROUND",
           "SEMI KAZAKH",
           1976
          ],
          [
           1976,
           "USSR",
           "SHAFT",
           "UNDERGROUND",
           "SEMI KAZAKH",
           1976
          ],
          [
           1976,
           "USSR",
           "SHAFT",
           "UNDERGROUND",
           "SEMI KAZAKH",
           1976
          ],
          [
           1976,
           "USSR",
           "TUNNEL",
           "UNDERGROUND",
           "SEMI KAZAKH",
           1976
          ],
          [
           1976,
           "USSR",
           "SHAFT",
           "UNDERGROUND",
           "SEMI KAZAKH",
           1976
          ],
          [
           1976,
           "USSR",
           "SHAFT",
           "UNDERGROUND",
           "SEMI KAZAKH",
           1976
          ],
          [
           1976,
           "USSR",
           "SHAFT",
           "UNDERGROUND",
           "SEMI KAZAKH",
           1976
          ],
          [
           1976,
           "USSR",
           "TUNNEL",
           "UNDERGROUND",
           "SEMI KAZAKH",
           1976
          ],
          [
           1977,
           "USSR",
           "SHAFT",
           "UNDERGROUND",
           "SEMI KAZAKH",
           1977
          ],
          [
           1977,
           "USSR",
           "TUNNEL",
           "UNDERGROUND",
           "SEMI KAZAKH",
           1977
          ],
          [
           1977,
           "USSR",
           "TUNNEL",
           "UNDERGROUND",
           "SEMI KAZAKH",
           1977
          ],
          [
           1977,
           "USSR",
           "SHAFT",
           "UNDERGROUND",
           "SEMI KAZAKH",
           1977
          ],
          [
           1977,
           "USSR",
           "SHAFT",
           "UNDERGROUND",
           "SEMI KAZAKH",
           1977
          ],
          [
           1977,
           "USSR",
           "TUNNEL",
           "UNDERGROUND",
           "SEMI KAZAKH",
           1977
          ],
          [
           1977,
           "USSR",
           "TUNNEL",
           "UNDERGROUND",
           "SEMI KAZAKH",
           1977
          ],
          [
           1977,
           "USSR",
           "SHAFT",
           "UNDERGROUND",
           "SEMI KAZAKH",
           1977
          ],
          [
           1977,
           "USSR",
           "TUNNEL",
           "UNDERGROUND",
           "SEMI KAZAKH",
           1977
          ],
          [
           1977,
           "USSR",
           "SHAFT",
           "UNDERGROUND",
           "SEMI KAZAKH",
           1977
          ],
          [
           1977,
           "USSR",
           "SHAFT",
           "UNDERGROUND",
           "SEMI KAZAKH",
           1977
          ],
          [
           1977,
           "USSR",
           "TUNNEL",
           "UNDERGROUND",
           "SEMI KAZAKH",
           1977
          ],
          [
           1977,
           "USSR",
           "SHAFT",
           "UNDERGROUND",
           "SEMI KAZAKH",
           1977
          ],
          [
           1977,
           "USSR",
           "TUNNEL",
           "UNDERGROUND",
           "SEMI KAZAKH",
           1977
          ],
          [
           1977,
           "USSR",
           "TUNNEL",
           "UNDERGROUND",
           "SEMI KAZAKH",
           1977
          ],
          [
           1978,
           "USSR",
           "SHAFT",
           "UNDERGROUND",
           "SEMI KAZAKH",
           1978
          ],
          [
           1978,
           "USSR",
           "TUNNEL",
           "UNDERGROUND",
           "SEMI KAZAKH",
           1978
          ],
          [
           1978,
           "USSR",
           "TUNNEL",
           "UNDERGROUND",
           "SEMI KAZAKH",
           1978
          ],
          [
           1978,
           "USSR",
           "TUNNEL",
           "UNDERGROUND",
           "SEMI KAZAKH",
           1978
          ],
          [
           1978,
           "USSR",
           "TUNNEL",
           "UNDERGROUND",
           "SEMI KAZAKH",
           1978
          ],
          [
           1978,
           "USSR",
           "TUNNEL",
           "UNDERGROUND",
           "SEMI KAZAKH",
           1978
          ],
          [
           1978,
           "USSR",
           "SHAFT",
           "UNDERGROUND",
           "SEMI KAZAKH",
           1978
          ],
          [
           1978,
           "USSR",
           "SHAFT",
           "UNDERGROUND",
           "SEMI KAZAKH",
           1978
          ],
          [
           1978,
           "USSR",
           "TUNNEL",
           "UNDERGROUND",
           "SEMI KAZAKH",
           1978
          ],
          [
           1978,
           "USSR",
           "TUNNEL",
           "UNDERGROUND",
           "SEMI KAZAKH",
           1978
          ],
          [
           1978,
           "USSR",
           "SHAFT",
           "UNDERGROUND",
           "SEMI KAZAKH",
           1978
          ],
          [
           1978,
           "USSR",
           "SHAFT",
           "UNDERGROUND",
           "SEMI KAZAKH",
           1978
          ],
          [
           1978,
           "USSR",
           "TUNNEL",
           "UNDERGROUND",
           "SEMI KAZAKH",
           1978
          ],
          [
           1978,
           "USSR",
           "TUNNEL",
           "UNDERGROUND",
           "SEMI KAZAKH",
           1978
          ],
          [
           1978,
           "USSR",
           "TUNNEL",
           "UNDERGROUND",
           "SEMI KAZAKH",
           1978
          ],
          [
           1978,
           "USSR",
           "SHAFT",
           "UNDERGROUND",
           "SEMI KAZAKH",
           1978
          ],
          [
           1978,
           "USSR",
           "SHAFT",
           "UNDERGROUND",
           "SEMI KAZAKH",
           1978
          ],
          [
           1978,
           "USSR",
           "TUNNEL",
           "UNDERGROUND",
           "SEMI KAZAKH",
           1978
          ],
          [
           1978,
           "USSR",
           "TUNNEL",
           "UNDERGROUND",
           "SEMI KAZAKH",
           1978
          ],
          [
           1978,
           "USSR",
           "TUNNEL",
           "UNDERGROUND",
           "SEMI KAZAKH",
           1978
          ],
          [
           1979,
           "USSR",
           "SHAFT",
           "UNDERGROUND",
           "SEMI KAZAKH",
           1979
          ],
          [
           1979,
           "USSR",
           "SHAFT",
           "UNDERGROUND",
           "SEMI KAZAKH",
           1979
          ],
          [
           1979,
           "USSR",
           "TUNNEL",
           "UNDERGROUND",
           "SEMI KAZAKH",
           1979
          ],
          [
           1979,
           "USSR",
           "TUNNEL",
           "UNDERGROUND",
           "SEMI KAZAKH",
           1979
          ],
          [
           1979,
           "USSR",
           "TUNNEL",
           "UNDERGROUND",
           "SEMI KAZAKH",
           1979
          ],
          [
           1979,
           "USSR",
           "TUNNEL",
           "UNDERGROUND",
           "SEMI KAZAKH",
           1979
          ],
          [
           1979,
           "USSR",
           "TUNNEL",
           "UNDERGROUND",
           "SEMI KAZAKH",
           1979
          ],
          [
           1979,
           "USSR",
           "SHAFT",
           "UNDERGROUND",
           "SEMI KAZAKH",
           1979
          ],
          [
           1979,
           "USSR",
           "SHAFT",
           "UNDERGROUND",
           "SEMI KAZAKH",
           1979
          ],
          [
           1979,
           "USSR",
           "SHAFT",
           "UNDERGROUND",
           "SEMI KAZAKH",
           1979
          ],
          [
           1979,
           "USSR",
           "TUNNEL",
           "UNDERGROUND",
           "SEMI KAZAKH",
           1979
          ],
          [
           1979,
           "USSR",
           "SHAFT",
           "UNDERGROUND",
           "SEMI KAZAKH",
           1979
          ],
          [
           1979,
           "USSR",
           "SHAFT",
           "UNDERGROUND",
           "SEMI KAZAKH",
           1979
          ],
          [
           1979,
           "USSR",
           "TUNNEL",
           "UNDERGROUND",
           "SEMI KAZAKH",
           1979
          ],
          [
           1979,
           "USSR",
           "TUNNEL",
           "UNDERGROUND",
           "SEMI KAZAKH",
           1979
          ],
          [
           1979,
           "USSR",
           "SHAFT",
           "UNDERGROUND",
           "SEMI KAZAKH",
           1979
          ],
          [
           1979,
           "USSR",
           "TUNNEL",
           "UNDERGROUND",
           "SEMI KAZAKH",
           1979
          ],
          [
           1979,
           "USSR",
           "SHAFT",
           "UNDERGROUND",
           "SEMI KAZAKH",
           1979
          ],
          [
           1979,
           "USSR",
           "TUNNEL",
           "UNDERGROUND",
           "SEMI KAZAKH",
           1979
          ],
          [
           1979,
           "USSR",
           "SHAFT",
           "UNDERGROUND",
           "SEMI KAZAKH",
           1979
          ],
          [
           1980,
           "USSR",
           "TUNNEL",
           "UNDERGROUND",
           "SEMI KAZAKH",
           1980
          ],
          [
           1980,
           "USSR",
           "SHAFT",
           "UNDERGROUND",
           "SEMI KAZAKH",
           1980
          ],
          [
           1980,
           "USSR",
           "TUNNEL",
           "UNDERGROUND",
           "SEMI KAZAKH",
           1980
          ],
          [
           1980,
           "USSR",
           "SHAFT",
           "UNDERGROUND",
           "SEMI KAZAKH",
           1980
          ],
          [
           1980,
           "USSR",
           "TUNNEL",
           "UNDERGROUND",
           "SEMI KAZAKH",
           1980
          ],
          [
           1980,
           "USSR",
           "SHAFT",
           "UNDERGROUND",
           "SEMI KAZAKH",
           1980
          ],
          [
           1980,
           "USSR",
           "TUNNEL",
           "UNDERGROUND",
           "SEMI KAZAKH",
           1980
          ],
          [
           1980,
           "USSR",
           "SHAFT",
           "UNDERGROUND",
           "SEMI KAZAKH",
           1980
          ],
          [
           1980,
           "USSR",
           "TUNNEL",
           "UNDERGROUND",
           "SEMI KAZAKH",
           1980
          ],
          [
           1980,
           "USSR",
           "SHAFT",
           "UNDERGROUND",
           "SEMI KAZAKH",
           1980
          ],
          [
           1980,
           "USSR",
           "TUNNEL",
           "UNDERGROUND",
           "SEMI KAZAKH",
           1980
          ],
          [
           1980,
           "USSR",
           "SHAFT",
           "UNDERGROUND",
           "SEMI KAZAKH",
           1980
          ],
          [
           1980,
           "USSR",
           "TUNNEL",
           "UNDERGROUND",
           "SEMI KAZAKH",
           1980
          ],
          [
           1980,
           "USSR",
           "TUNNEL",
           "UNDERGROUND",
           "SEMI KAZAKH",
           1980
          ],
          [
           1980,
           "USSR",
           "TUNNEL",
           "UNDERGROUND",
           "SEMI KAZAKH",
           1980
          ],
          [
           1980,
           "USSR",
           "SHAFT",
           "UNDERGROUND",
           "SEMI KAZAKH",
           1980
          ],
          [
           1980,
           "USSR",
           "TUNNEL",
           "UNDERGROUND",
           "SEMI KAZAKH",
           1980
          ],
          [
           1980,
           "USSR",
           "SHAFT",
           "UNDERGROUND",
           "SEMI KAZAKH",
           1980
          ],
          [
           1981,
           "USSR",
           "TUNNEL",
           "UNDERGROUND",
           "SEMI KAZAKH",
           1981
          ],
          [
           1981,
           "USSR",
           "SHAFT",
           "UNDERGROUND",
           "SEMI KAZAKH",
           1981
          ],
          [
           1981,
           "USSR",
           "SHAFT",
           "UNDERGROUND",
           "SEMI KAZAKH",
           1981
          ],
          [
           1981,
           "USSR",
           "SHAFT",
           "UNDERGROUND",
           "SEMI KAZAKH",
           1981
          ],
          [
           1981,
           "USSR",
           "TUNNEL",
           "UNDERGROUND",
           "SEMI KAZAKH",
           1981
          ],
          [
           1981,
           "USSR",
           "TUNNEL",
           "UNDERGROUND",
           "SEMI KAZAKH",
           1981
          ],
          [
           1981,
           "USSR",
           "TUNNEL",
           "UNDERGROUND",
           "SEMI KAZAKH",
           1981
          ],
          [
           1981,
           "USSR",
           "TUNNEL",
           "UNDERGROUND",
           "SEMI KAZAKH",
           1981
          ],
          [
           1981,
           "USSR",
           "SHAFT",
           "UNDERGROUND",
           "SEMI KAZAKH",
           1981
          ],
          [
           1981,
           "USSR",
           "TUNNEL",
           "UNDERGROUND",
           "SEMI KAZAKH",
           1981
          ],
          [
           1981,
           "USSR",
           "SHAFT",
           "UNDERGROUND",
           "SEMI KAZAKH",
           1981
          ],
          [
           1981,
           "USSR",
           "TUNNEL",
           "UNDERGROUND",
           "SEMI KAZAKH",
           1981
          ],
          [
           1981,
           "USSR",
           "SHAFT",
           "UNDERGROUND",
           "SEMI KAZAKH",
           1981
          ],
          [
           1981,
           "USSR",
           "TUNNEL",
           "UNDERGROUND",
           "SEMI KAZAKH",
           1981
          ],
          [
           1981,
           "USSR",
           "SHAFT",
           "UNDERGROUND",
           "SEMI KAZAKH",
           1981
          ],
          [
           1982,
           "USSR",
           "TUNNEL",
           "UNDERGROUND",
           "SEMI KAZAKH",
           1982
          ],
          [
           1982,
           "USSR",
           "SHAFT",
           "UNDERGROUND",
           "SEMI KAZAKH",
           1982
          ],
          [
           1982,
           "USSR",
           "TUNNEL",
           "UNDERGROUND",
           "SEMI KAZAKH",
           1982
          ],
          [
           1982,
           "USSR",
           "SHAFT",
           "UNDERGROUND",
           "SEMI KAZAKH",
           1982
          ],
          [
           1982,
           "USSR",
           "TUNNEL",
           "UNDERGROUND",
           "SEMI KAZAKH",
           1982
          ],
          [
           1982,
           "USSR",
           "SHAFT",
           "UNDERGROUND",
           "SEMI KAZAKH",
           1982
          ],
          [
           1982,
           "USSR",
           "TUNNEL",
           "UNDERGROUND",
           "SEMI KAZAKH",
           1982
          ],
          [
           1982,
           "USSR",
           "SHAFT",
           "UNDERGROUND",
           "SEMI KAZAKH",
           1982
          ],
          [
           1982,
           "USSR",
           "TUNNEL",
           "UNDERGROUND",
           "SEMI KAZAKH",
           1982
          ],
          [
           1982,
           "USSR",
           "SHAFT",
           "UNDERGROUND",
           "SEMI KAZAKH",
           1982
          ],
          [
           1983,
           "USSR",
           "TUNNEL",
           "UNDERGROUND",
           "SEMI KAZAKH",
           1983
          ],
          [
           1983,
           "USSR",
           "TUNNEL",
           "UNDERGROUND",
           "SEMI KAZAKH",
           1983
          ],
          [
           1983,
           "USSR",
           "TUNNEL",
           "UNDERGROUND",
           "SEMI KAZAKH",
           1983
          ],
          [
           1983,
           "USSR",
           "TUNNEL",
           "UNDERGROUND",
           "SEMI KAZAKH",
           1983
          ],
          [
           1983,
           "USSR",
           "SHAFT",
           "UNDERGROUND",
           "SEMI KAZAKH",
           1983
          ],
          [
           1983,
           "USSR",
           "TUNNEL",
           "UNDERGROUND",
           "SEMI KAZAKH",
           1983
          ],
          [
           1983,
           "USSR",
           "TUNNEL",
           "UNDERGROUND",
           "SEMI KAZAKH",
           1983
          ],
          [
           1983,
           "USSR",
           "SHAFT",
           "UNDERGROUND",
           "SEMI KAZAKH",
           1983
          ],
          [
           1983,
           "USSR",
           "SHAFT",
           "UNDERGROUND",
           "SEMI KAZAKH",
           1983
          ],
          [
           1983,
           "USSR",
           "TUNNEL",
           "UNDERGROUND",
           "SEMI KAZAKH",
           1983
          ],
          [
           1983,
           "USSR",
           "SHAFT",
           "UNDERGROUND",
           "SEMI KAZAKH",
           1983
          ],
          [
           1983,
           "USSR",
           "TUNNEL",
           "UNDERGROUND",
           "SEMI KAZAKH",
           1983
          ],
          [
           1983,
           "USSR",
           "TUNNEL",
           "UNDERGROUND",
           "SEMI KAZAKH",
           1983
          ],
          [
           1983,
           "USSR",
           "TUNNEL",
           "UNDERGROUND",
           "SEMI KAZAKH",
           1983
          ],
          [
           1984,
           "USSR",
           "SHAFT",
           "UNDERGROUND",
           "SEMI KAZAKH",
           1984
          ],
          [
           1984,
           "USSR",
           "SHAFT",
           "UNDERGROUND",
           "SEMI KAZAKH",
           1984
          ],
          [
           1984,
           "USSR",
           "SHAFT",
           "UNDERGROUND",
           "SEMI KAZAKH",
           1984
          ],
          [
           1984,
           "USSR",
           "TUNNEL",
           "UNDERGROUND",
           "SEMI KAZAKH",
           1984
          ],
          [
           1984,
           "USSR",
           "SHAFT",
           "UNDERGROUND",
           "SEMI KAZAKH",
           1984
          ],
          [
           1984,
           "USSR",
           "SHAFT",
           "UNDERGROUND",
           "SEMI KAZAKH",
           1984
          ],
          [
           1984,
           "USSR",
           "SHAFT",
           "UNDERGROUND",
           "SEMI KAZAKH",
           1984
          ],
          [
           1984,
           "USSR",
           "TUNNEL",
           "UNDERGROUND",
           "SEMI KAZAKH",
           1984
          ],
          [
           1984,
           "USSR",
           "TUNNEL",
           "UNDERGROUND",
           "SEMI KAZAKH",
           1984
          ],
          [
           1984,
           "USSR",
           "SHAFT",
           "UNDERGROUND",
           "SEMI KAZAKH",
           1984
          ],
          [
           1984,
           "USSR",
           "TUNNEL",
           "UNDERGROUND",
           "SEMI KAZAKH",
           1984
          ],
          [
           1984,
           "USSR",
           "SHAFT",
           "UNDERGROUND",
           "SEMI KAZAKH",
           1984
          ],
          [
           1984,
           "USSR",
           "SHAFT",
           "UNDERGROUND",
           "SEMI KAZAKH",
           1984
          ],
          [
           1984,
           "USSR",
           "SHAFT",
           "UNDERGROUND",
           "SEMI KAZAKH",
           1984
          ],
          [
           1985,
           "USSR",
           "SHAFT",
           "UNDERGROUND",
           "SEMI KAZAKH",
           1985
          ],
          [
           1985,
           "USSR",
           "SHAFT",
           "UNDERGROUND",
           "SEMI KAZAKH",
           1985
          ],
          [
           1985,
           "USSR",
           "SHAFT",
           "UNDERGROUND",
           "SEMI KAZAKH",
           1985
          ],
          [
           1985,
           "USSR",
           "SHAFT",
           "UNDERGROUND",
           "SEMI KAZAKH",
           1985
          ],
          [
           1985,
           "USSR",
           "TUNNEL",
           "UNDERGROUND",
           "SEMI KAZAKH",
           1985
          ],
          [
           1985,
           "USSR",
           "TUNNEL",
           "UNDERGROUND",
           "SEMI KAZAKH",
           1985
          ],
          [
           1985,
           "USSR",
           "SHAFT",
           "UNDERGROUND",
           "SEMI KAZAKH",
           1985
          ],
          [
           1985,
           "USSR",
           "TUNNEL",
           "UNDERGROUND",
           "SEMI KAZAKH",
           1985
          ],
          [
           1987,
           "USSR",
           "TUNNEL",
           "UNDERGROUND",
           "SEMI KAZAKH",
           1987
          ],
          [
           1987,
           "USSR",
           "SHAFT",
           "UNDERGROUND",
           "SEMI KAZAKH",
           1987
          ],
          [
           1987,
           "USSR",
           "SHAFT",
           "UNDERGROUND",
           "SEMI KAZAKH",
           1987
          ],
          [
           1987,
           "USSR",
           "TUNNEL",
           "UNDERGROUND",
           "SEMI KAZAKH",
           1987
          ],
          [
           1987,
           "USSR",
           "SHAFT",
           "UNDERGROUND",
           "SEMI KAZAKH",
           1987
          ],
          [
           1987,
           "USSR",
           "TUNNEL",
           "UNDERGROUND",
           "SEMI KAZAKH",
           1987
          ],
          [
           1987,
           "USSR",
           "TUNNEL",
           "UNDERGROUND",
           "SEMI KAZAKH",
           1987
          ],
          [
           1987,
           "USSR",
           "SHAFT",
           "UNDERGROUND",
           "SEMI KAZAKH",
           1987
          ],
          [
           1987,
           "USSR",
           "TUNNEL",
           "UNDERGROUND",
           "SEMI KAZAKH",
           1987
          ],
          [
           1987,
           "USSR",
           "SHAFT",
           "UNDERGROUND",
           "SEMI KAZAKH",
           1987
          ],
          [
           1987,
           "USSR",
           "TUNNEL",
           "UNDERGROUND",
           "SEMI KAZAKH",
           1987
          ],
          [
           1987,
           "USSR",
           "TUNNEL",
           "UNDERGROUND",
           "SEMI KAZAKH",
           1987
          ],
          [
           1987,
           "USSR",
           "SHAFT",
           "UNDERGROUND",
           "SEMI KAZAKH",
           1987
          ],
          [
           1987,
           "USSR",
           "SHAFT",
           "UNDERGROUND",
           "SEMI KAZAKH",
           1987
          ],
          [
           1987,
           "USSR",
           "TUNNEL",
           "UNDERGROUND",
           "SEMI KAZAKH",
           1987
          ],
          [
           1987,
           "USSR",
           "SHAFT",
           "UNDERGROUND",
           "SEMI KAZAKH",
           1987
          ],
          [
           1988,
           "USSR",
           "TUNNEL",
           "UNDERGROUND",
           "SEMI KAZAKH",
           1988
          ],
          [
           1988,
           "USSR",
           "SHAFT",
           "UNDERGROUND",
           "SEMI KAZAKH",
           1988
          ],
          [
           1988,
           "USSR",
           "SHAFT",
           "UNDERGROUND",
           "SEMI KAZAKH",
           1988
          ],
          [
           1988,
           "USSR",
           "TUNNEL",
           "UNDERGROUND",
           "SEMI KAZAKH",
           1988
          ],
          [
           1988,
           "USSR",
           "SHAFT",
           "UNDERGROUND",
           "SEMI KAZAKH",
           1988
          ],
          [
           1988,
           "USSR",
           "SHAFT",
           "UNDERGROUND",
           "SEMI KAZAKH",
           1988
          ],
          [
           1988,
           "USSR",
           "SHAFT",
           "UNDERGROUND",
           "SEMI KAZAKH",
           1988
          ],
          [
           1988,
           "USSR",
           "TUNNEL",
           "UNDERGROUND",
           "SEMI KAZAKH",
           1988
          ],
          [
           1988,
           "USSR",
           "SHAFT",
           "UNDERGROUND",
           "SEMI KAZAKH",
           1988
          ],
          [
           1988,
           "USSR",
           "TUNNEL",
           "UNDERGROUND",
           "SEMI KAZAKH",
           1988
          ],
          [
           1988,
           "USSR",
           "SHAFT",
           "UNDERGROUND",
           "SEMI KAZAKH",
           1988
          ],
          [
           1988,
           "USSR",
           "TUNNEL",
           "UNDERGROUND",
           "SEMI KAZAKH",
           1988
          ],
          [
           1989,
           "USSR",
           "SHAFT",
           "UNDERGROUND",
           "SEMI KAZAKH",
           1989
          ],
          [
           1989,
           "USSR",
           "SHAFT",
           "UNDERGROUND",
           "SEMI KAZAKH",
           1989
          ],
          [
           1989,
           "USSR",
           "TUNNEL",
           "UNDERGROUND",
           "SEMI KAZAKH",
           1989
          ],
          [
           1989,
           "USSR",
           "SHAFT",
           "UNDERGROUND",
           "SEMI KAZAKH",
           1989
          ],
          [
           1989,
           "USSR",
           "SHAFT",
           "UNDERGROUND",
           "SEMI KAZAKH",
           1989
          ],
          [
           1989,
           "USSR",
           "TUNNEL",
           "UNDERGROUND",
           "SEMI KAZAKH",
           1989
          ],
          [
           1989,
           "USSR",
           "SHAFT",
           "UNDERGROUND",
           "SEMI KAZAKH",
           1989
          ]
         ],
         "hoverlabel": {
          "namelength": 0
         },
         "hovertemplate": "region=%{customdata[4]}<br>x=%{x}<br>y=%{y}<br>year=%{customdata[5]}<br>country=%{customdata[1]}<br>type=%{customdata[2]}<br>type_cat=%{customdata[3]}",
         "legendgroup": "region=SEMI KAZAKH",
         "marker": {
          "color": "#e763fa",
          "symbol": "circle"
         },
         "mode": "markers",
         "name": "region=SEMI KAZAKH",
         "showlegend": true,
         "type": "scattergl",
         "uid": "e4daa687-de8e-430c-8878-db93ffec4fd9",
         "x": [
          -4.099156379699707,
          -4.101940631866455,
          -4.110116481781006,
          -4.1551432609558105,
          -4.134659767150879,
          -4.168168544769287,
          -4.130486488342285,
          -4.132348537445068,
          -4.12492036819458,
          -4.1412434577941895,
          -4.141899108886719,
          -4.13526725769043,
          -4.134971618652344,
          -4.1385297775268555,
          -4.143625259399414,
          -4.136481761932373,
          -4.136841297149658,
          -4.205085277557373,
          -4.2195963859558105,
          -4.203779697418213,
          -4.172005653381348,
          -4.742173194885254,
          -4.278809070587158,
          -4.282100200653076,
          -4.21720552444458,
          -4.692020416259766,
          -4.2272186279296875,
          -4.248961925506592,
          -4.663239002227783,
          -4.233549118041992,
          -4.330424785614014,
          -4.363896369934082,
          -4.328169345855713,
          -4.6436448097229,
          -4.333978652954102,
          -4.228036403656006,
          -4.537719249725342,
          -4.2596821784973145,
          -4.338850975036621,
          -4.339454650878906,
          -4.32631254196167,
          -4.111454963684082,
          -4.110249042510986,
          -4.1184539794921875,
          -4.102997779846191,
          -4.090692520141602,
          -4.11241340637207,
          -4.092194557189941,
          -4.106964588165283,
          -3.4030978679656982,
          -3.3221096992492676,
          -3.404301166534424,
          -3.0810182094573975,
          -3.0743486881256104,
          -3.099337577819824,
          -3.0507171154022217,
          -3.3137569427490234,
          -3.0926012992858887,
          -3.331156015396118,
          -3.060208559036255,
          -3.0811803340911865,
          -3.0767650604248047,
          -3.2657980918884277,
          -3.0683674812316895,
          -3.056222677230835,
          -3.172844409942627,
          -3.3762006759643555,
          10.973039627075195,
          -3.3971054553985596,
          -3.2698709964752197,
          -3.3319568634033203,
          -3.081508159637451,
          -3.0958950519561768,
          -3.1355719566345215,
          -3.0663821697235107,
          -3.079587459564209,
          -3.0761191844940186,
          -3.0657670497894287,
          10.935626983642578,
          -6.492570400238037,
          -6.531791687011719,
          -6.403477191925049,
          -6.072983741760254,
          -6.045233726501465,
          -6.0760064125061035,
          -6.170799732208252,
          -6.458838939666748,
          -6.484458923339844,
          -6.025289535522461,
          -6.063226699829102,
          -6.4732818603515625,
          -6.621100902557373,
          -6.615401268005371,
          -6.044922828674316,
          -6.567245006561279,
          -6.035002708435059,
          -6.062439918518066,
          -6.172478199005127,
          -6.051533222198486,
          -6.04498291015625,
          -6.019862651824951,
          -6.039855480194092,
          -6.586339473724365,
          -6.059206008911133,
          -6.452601909637451,
          -6.288355827331543,
          -6.0596208572387695,
          -6.610249042510986,
          -6.613361835479736,
          -6.645702362060547,
          -6.093503952026367,
          -6.079291343688965,
          -6.622016906738281,
          -6.615470886230469,
          -6.515453815460205,
          -6.615246772766113,
          -6.6399664878845215,
          -6.61586856842041,
          -10.910293579101562,
          -10.915101051330566,
          10.921509742736816,
          -10.924112319946289,
          10.912421226501465,
          10.907492637634277,
          -10.964600563049316,
          -10.972494125366211,
          10.92455768585205,
          -10.954475402832031,
          10.891237258911133,
          -11.05461597442627,
          -11.003067970275879,
          -11.05605697631836,
          -11.019062995910645,
          -10.993803977966309,
          10.902849197387695,
          -10.99216365814209,
          -11.0055570602417,
          -11.038052558898926,
          -11.102811813354492,
          -11.05532455444336,
          -11.110322952270508,
          -11.005542755126953,
          -11.072196960449219,
          -11.076983451843262,
          -11.071200370788574,
          -11.10236930847168,
          -11.095048904418945,
          10.870744705200195,
          10.866240501403809,
          10.856539726257324,
          -11.07442855834961,
          10.795026779174805,
          -11.146087646484375,
          -11.125115394592285,
          -11.168953895568848,
          -11.126800537109375,
          -11.129623413085938,
          -11.13193130493164,
          -11.14394760131836,
          10.78392505645752,
          -11.109511375427246,
          -11.135302543640137,
          -11.138736724853516,
          -11.130664825439453,
          -11.215126991271973,
          -11.158564567565918,
          -11.36491584777832,
          -11.425419807434082,
          10.721391677856445,
          -11.364178657531738,
          -11.413549423217773,
          -11.347302436828613,
          -11.412169456481934,
          -11.401345252990723,
          -11.281743049621582,
          10.719332695007324,
          10.71568775177002,
          -11.374174118041992,
          10.720844268798828,
          -11.363844871520996,
          -11.768604278564453,
          10.638723373413086,
          10.637557029724121,
          -11.563824653625488,
          -11.580056190490723,
          -11.531915664672852,
          -11.724923133850098,
          -11.531238555908203,
          -11.509675025939941,
          10.632431030273438,
          10.636404037475586,
          -11.822325706481934,
          -11.79532241821289,
          -11.522734642028809,
          -11.91453742980957,
          10.532183647155762,
          -11.818913459777832,
          10.523966789245605,
          -11.94000244140625,
          10.551522254943848,
          -11.890175819396973,
          -11.901114463806152,
          -11.917247772216797,
          10.519549369812012,
          -11.908802032470703,
          -11.868059158325195,
          10.456574440002441,
          -12.02377986907959,
          10.42264175415039,
          10.45968246459961,
          -12.037921905517578,
          -12.106224060058594,
          -12.042342185974121,
          -12.113253593444824,
          -12.092063903808594,
          -12.073796272277832,
          -12.067873001098633,
          -12.12121868133545,
          -12.135101318359375,
          -12.03492259979248,
          10.43266487121582,
          -12.233658790588379,
          -12.197710990905762,
          -12.322630882263184,
          10.384099960327148,
          -12.204060554504395,
          -12.339460372924805,
          -12.33865737915039,
          -12.156752586364746,
          -12.320516586303711,
          -12.063105583190918,
          -12.178411483764648,
          10.373854637145996,
          10.360525131225586,
          -12.537354469299316,
          -12.534790992736816,
          -12.514606475830078,
          -11.826127052307129,
          10.291007995605469,
          -11.76091480255127,
          10.260903358459473,
          -11.720047950744629,
          10.26695728302002,
          -12.784981727600098,
          10.187413215637207,
          10.192193031311035,
          -12.696783065795898,
          -12.857948303222656,
          -12.78446102142334,
          -12.704937934875488,
          10.186302185058594,
          -12.764870643615723,
          -12.703639030456543,
          10.19137191772461,
          -12.771414756774902,
          -12.766103744506836,
          -12.787429809570312,
          -11.838706016540527,
          -13.016180992126465,
          10.093881607055664,
          -12.970268249511719,
          -12.967630386352539,
          -13.012500762939453,
          -12.956668853759766,
          10.11021900177002,
          -12.96587085723877,
          -12.905306816101074,
          -11.903502464294434,
          -12.976699829101562,
          -11.894302368164062,
          -13.114310264587402,
          9.98392391204834,
          9.982906341552734,
          -13.11141300201416,
          -13.187957763671875,
          -13.050148010253906,
          -13.185430526733398,
          -13.234286308288574,
          -13.14107608795166,
          9.991519927978516,
          -13.241344451904297,
          -13.170731544494629,
          -13.254571914672852,
          -13.174606323242188,
          10.006043434143066,
          -11.664999961853027,
          -13.389604568481445,
          9.904623031616211,
          -13.420169830322266,
          -13.341060638427734,
          -11.952439308166504,
          -13.44570255279541,
          -13.452399253845215,
          -13.336877822875977,
          -13.31727123260498,
          -13.316438674926758,
          9.896294593811035,
          9.878893852233887,
          -11.520163536071777,
          -13.570378303527832,
          9.88687801361084,
          -13.760573387145996,
          -13.490030288696289,
          -11.501710891723633,
          9.839735984802246,
          -13.822441101074219,
          9.805057525634766,
          -11.686351776123047,
          -11.512914657592773,
          -13.496575355529785,
          -13.723275184631348,
          -11.619743347167969,
          -11.706298828125,
          -13.850507736206055,
          -13.702173233032227,
          -13.732278823852539,
          -11.625121116638184,
          -13.667654037475586,
          -11.667165756225586,
          -13.822755813598633,
          -13.821104049682617,
          -13.925315856933594,
          -13.915608406066895,
          9.70989990234375,
          9.701886177062988,
          -13.949446678161621,
          -13.974958419799805,
          9.705777168273926,
          -11.7149076461792,
          -11.897262573242188,
          -11.627364158630371,
          9.730298042297363,
          -11.9113187789917,
          -11.686396598815918,
          -13.9012451171875,
          -13.969464302062988,
          -11.763705253601074,
          -13.838367462158203,
          -11.760882377624512,
          -13.89203929901123,
          -11.758176803588867,
          9.628697395324707,
          -14.11636734008789,
          -14.19787883758545,
          -14.231842041015625,
          -14.209942817687988,
          -14.207352638244629,
          9.615557670593262,
          -11.579087257385254,
          -14.216421127319336,
          -11.697199821472168,
          -14.088783264160156,
          -11.679951667785645,
          9.616561889648438,
          9.616427421569824,
          9.612833023071289,
          -11.665746688842773,
          -14.046565055847168,
          -14.158860206604004,
          9.603108406066895,
          -14.365559577941895,
          -11.88143253326416,
          -11.555699348449707,
          9.600828170776367,
          -14.375678062438965,
          -14.36682415008545,
          -14.376055717468262,
          -11.964177131652832,
          9.598591804504395,
          -11.84895133972168,
          -14.425722122192383,
          -11.674077987670898,
          -14.392666816711426,
          -11.936058044433594,
          -14.627901077270508,
          -11.991724014282227,
          -14.604033470153809,
          -11.93065357208252,
          -14.630417823791504,
          -11.567662239074707,
          -14.585091590881348,
          -11.903261184692383,
          -11.587713241577148,
          -14.664399147033691,
          9.456369400024414,
          -14.708486557006836,
          -14.701576232910156,
          -14.725565910339355,
          -11.96003532409668,
          -14.739331245422363,
          -14.711187362670898,
          -14.843960762023926,
          -11.987236022949219,
          9.4729642868042,
          -14.759594917297363,
          -14.72406005859375,
          9.475628852844238,
          -14.77344036102295,
          -11.974111557006836,
          -14.886011123657227,
          -11.968306541442871,
          -14.871546745300293,
          -11.95253849029541,
          -14.969823837280273,
          -11.979753494262695,
          -14.772058486938477,
          -14.788959503173828,
          -11.943778038024902,
          -14.765973091125488,
          -14.906039237976074,
          -14.959089279174805,
          -14.957733154296875,
          -11.995351791381836,
          -11.99675464630127,
          -12.13740062713623,
          -12.164510726928711,
          9.478537559509277,
          9.47580623626709,
          -15.119409561157227,
          -14.898606300354004,
          -15.152164459228516,
          -15.127544403076172,
          -12.176458358764648,
          9.397266387939453,
          -12.173861503601074,
          -15.135919570922852,
          9.41110897064209,
          9.435471534729004,
          -12.116072654724121,
          -15.138620376586914,
          -14.966651916503906,
          -15.032062530517578,
          -12.180191993713379,
          -12.175557136535645,
          -15.145003318786621,
          -12.170768737792969,
          -15.138426780700684,
          -12.176520347595215,
          -12.170477867126465,
          -15.149545669555664,
          -12.163847923278809,
          -15.161629676818848,
          -12.178229331970215,
          -15.162076950073242,
          -15.131757736206055,
          -15.117265701293945,
          -11.989412307739258,
          -15.001666069030762,
          -11.960135459899902,
          -12.148961067199707,
          -15.155715942382812,
          -15.1465482711792,
          -11.873528480529785,
          -15.121963500976562,
          -12.165037155151367
         ],
         "xaxis": "x",
         "y": [
          -11.424264907836914,
          -11.576620101928711,
          -11.625903129577637,
          -11.393631935119629,
          -11.350528717041016,
          -11.384618759155273,
          -11.353249549865723,
          -11.352614402770996,
          -11.345727920532227,
          -11.30886459350586,
          -11.335809707641602,
          -11.341318130493164,
          -11.341044425964355,
          -11.345108032226562,
          -11.371410369873047,
          -11.3471040725708,
          -11.349984169006348,
          -11.512247085571289,
          -11.473543167114258,
          -11.514019966125488,
          -11.472078323364258,
          -14.082353591918945,
          -11.710454940795898,
          -11.747271537780762,
          -11.723771095275879,
          -13.912537574768066,
          -11.70017147064209,
          -11.710907936096191,
          -13.88281536102295,
          -11.742859840393066,
          -11.909783363342285,
          -11.89144515991211,
          -11.907133102416992,
          -13.774524688720703,
          -11.892684936523438,
          -12.454766273498535,
          -13.550516128540039,
          -11.985417366027832,
          -11.929425239562988,
          -11.886738777160645,
          -11.921457290649414,
          -12.270130157470703,
          -12.239201545715332,
          -12.273713111877441,
          -12.297161102294922,
          -12.252462387084961,
          -12.274274826049805,
          -12.250211715698242,
          -12.271705627441406,
          -13.426549911499023,
          -13.373398780822754,
          -13.424825668334961,
          -13.217218399047852,
          -13.216697692871094,
          -13.17402172088623,
          -13.194981575012207,
          -13.361947059631348,
          -13.233570098876953,
          -13.371973037719727,
          -13.207791328430176,
          -13.21893310546875,
          -13.220467567443848,
          -13.34870433807373,
          -13.212125778198242,
          -13.205437660217285,
          -13.28076457977295,
          -13.404138565063477,
          18.58462905883789,
          -13.416662216186523,
          -13.339282989501953,
          -13.367887496948242,
          -13.221942901611328,
          -13.23458480834961,
          -13.254007339477539,
          -13.206704139709473,
          -13.218246459960938,
          -13.203048706054688,
          -13.209129333496094,
          18.62187957763672,
          -12.546748161315918,
          -12.564764976501465,
          -12.524797439575195,
          -12.42284870147705,
          -12.401581764221191,
          -12.436819076538086,
          -12.491310119628906,
          -12.532221794128418,
          -12.536551475524902,
          -12.39707088470459,
          -12.414015769958496,
          -12.52830982208252,
          -12.596882820129395,
          -12.610493659973145,
          -12.406612396240234,
          -12.583244323730469,
          -12.393671989440918,
          -12.432737350463867,
          -12.447628021240234,
          -12.411076545715332,
          -12.398726463317871,
          -12.373062133789062,
          -12.399572372436523,
          -12.602920532226562,
          -12.41474723815918,
          -12.543085098266602,
          -12.506667137145996,
          -12.417262077331543,
          -12.591581344604492,
          -12.590719223022461,
          -12.583118438720703,
          -12.403861045837402,
          -12.406801223754883,
          -12.59158706665039,
          -12.590874671936035,
          -12.559795379638672,
          -12.595718383789062,
          -12.61264419555664,
          -12.598223686218262,
          6.537246227264404,
          6.574943542480469,
          18.641332626342773,
          6.532464027404785,
          18.65033721923828,
          18.655542373657227,
          6.556309223175049,
          6.570371150970459,
          18.641389846801758,
          6.581274032592773,
          18.67543601989746,
          6.708930492401123,
          6.559421062469482,
          6.719934940338135,
          6.662174701690674,
          6.614389896392822,
          18.66094207763672,
          6.597432613372803,
          6.686159133911133,
          6.535031795501709,
          6.5684356689453125,
          6.558941841125488,
          6.74752140045166,
          6.604990482330322,
          6.566776275634766,
          6.715303421020508,
          6.712071418762207,
          6.7610602378845215,
          6.542466163635254,
          18.70126724243164,
          18.70797348022461,
          18.71928596496582,
          6.581018447875977,
          18.804954528808594,
          6.531462669372559,
          6.755549907684326,
          6.585877418518066,
          6.746396064758301,
          6.764707088470459,
          6.742186069488525,
          6.774538040161133,
          18.818073272705078,
          6.739454746246338,
          6.770133018493652,
          6.751471519470215,
          6.7600178718566895,
          6.80901575088501,
          6.764653205871582,
          6.890436172485352,
          6.872680187225342,
          18.904769897460938,
          6.880848407745361,
          6.8903632164001465,
          6.863892555236816,
          6.8899383544921875,
          6.8853559494018555,
          6.7041239738464355,
          18.906949996948242,
          18.91084098815918,
          6.865888595581055,
          18.905519485473633,
          6.870270729064941,
          6.945874214172363,
          19.026193618774414,
          19.028470993041992,
          6.944550037384033,
          6.970025539398193,
          6.935268402099609,
          7.000070571899414,
          6.9424004554748535,
          6.915472030639648,
          19.035451889038086,
          19.03094482421875,
          6.960848331451416,
          6.957696437835693,
          6.936965465545654,
          7.045287609100342,
          19.184696197509766,
          7.06858491897583,
          19.195762634277344,
          7.0151848793029785,
          19.160913467407227,
          7.044193744659424,
          7.0648369789123535,
          7.047397613525391,
          19.20274543762207,
          7.050263404846191,
          7.0177130699157715,
          19.304309844970703,
          6.988036632537842,
          19.35202980041504,
          19.293790817260742,
          7.049124240875244,
          7.1837592124938965,
          7.073630332946777,
          7.122491359710693,
          7.125916481018066,
          7.09796142578125,
          7.055411338806152,
          7.126838684082031,
          7.183605670928955,
          7.0526909828186035,
          19.33774185180664,
          7.188573360443115,
          7.155858039855957,
          7.293808937072754,
          19.412466049194336,
          7.162127494812012,
          7.332348346710205,
          7.291064262390137,
          7.126067638397217,
          7.279184818267822,
          7.059840202331543,
          7.115783214569092,
          19.429136276245117,
          19.450820922851562,
          7.3666205406188965,
          7.3806867599487305,
          7.368255615234375,
          -3.9102728366851807,
          19.583290100097656,
          -3.9256367683410645,
          19.632427215576172,
          -3.981344223022461,
          19.62233543395996,
          7.6541619300842285,
          19.762746810913086,
          19.758546829223633,
          7.504910469055176,
          7.554287910461426,
          7.612564563751221,
          7.500589847564697,
          19.764667510986328,
          7.580041885375977,
          7.485197067260742,
          19.756811141967773,
          7.623135566711426,
          7.58583402633667,
          7.620974063873291,
          -3.8576431274414062,
          7.661887168884277,
          19.931396484375,
          7.67165470123291,
          7.640853404998779,
          7.680361747741699,
          7.741273403167725,
          19.913267135620117,
          7.6935224533081055,
          7.718898296356201,
          -3.9112319946289062,
          7.737665176391602,
          -3.9268722534179688,
          7.862201690673828,
          20.166868209838867,
          20.16670036315918,
          7.897660255432129,
          7.8680100440979,
          7.92401647567749,
          7.867572784423828,
          7.7722697257995605,
          7.902559280395508,
          20.16077423095703,
          7.7830023765563965,
          7.901533603668213,
          7.794326305389404,
          7.727383613586426,
          20.1356258392334,
          -4.105922698974609,
          7.9525275230407715,
          20.31733512878418,
          8.03026294708252,
          7.866539478302002,
          -3.892965793609619,
          8.05465030670166,
          8.051833152770996,
          7.80278205871582,
          7.87665319442749,
          7.8490447998046875,
          20.335357666015625,
          20.360414505004883,
          -4.463975429534912,
          8.149255752563477,
          20.344112396240234,
          8.258742332458496,
          8.008910179138184,
          -4.460118770599365,
          20.451677322387695,
          8.320101737976074,
          20.488157272338867,
          -4.093357086181641,
          -4.432837009429932,
          8.010245323181152,
          8.221049308776855,
          -4.267883777618408,
          -4.0992865562438965,
          8.347530364990234,
          8.202751159667969,
          8.229833602905273,
          -4.207249164581299,
          8.17679214477539,
          -4.098056316375732,
          8.318209648132324,
          8.318617820739746,
          8.380658149719238,
          8.37043571472168,
          20.735126495361328,
          20.749038696289062,
          8.401336669921875,
          8.433794021606445,
          20.743383407592773,
          -4.097545146942139,
          -4.000697612762451,
          -4.263708114624023,
          20.691925048828125,
          -3.908174991607666,
          -4.197346210479736,
          8.381559371948242,
          8.405167579650879,
          -4.113954067230225,
          8.325573921203613,
          -4.135781288146973,
          8.390646934509277,
          -4.12421989440918,
          20.872591018676758,
          8.532100677490234,
          8.583663940429688,
          8.589193344116211,
          8.571684837341309,
          8.576203346252441,
          20.896602630615234,
          -4.461927890777588,
          8.579815864562988,
          -4.230134963989258,
          8.519722938537598,
          -4.245431423187256,
          20.89370346069336,
          20.895254135131836,
          20.8953857421875,
          -4.250077724456787,
          8.498002052307129,
          8.526503562927246,
          20.91758918762207,
          8.678385734558105,
          -4.172003746032715,
          -4.594174861907959,
          20.921592712402344,
          8.721224784851074,
          8.718080520629883,
          8.726505279541016,
          -4.156732082366943,
          20.924320220947266,
          -4.200250625610352,
          8.774615287780762,
          -4.3712077140808105,
          8.738740921020508,
          -4.268563270568848,
          8.868700981140137,
          -4.293212413787842,
          8.956951141357422,
          -4.1300225257873535,
          8.97103500366211,
          -4.523778438568115,
          8.876221656799316,
          -4.332030296325684,
          -4.575125694274902,
          8.823295593261719,
          21.182106018066406,
          9.013821601867676,
          9.025849342346191,
          8.957820892333984,
          -4.365634918212891,
          9.10721492767334,
          9.119989395141602,
          8.93059253692627,
          -4.361205101013184,
          21.149084091186523,
          8.947966575622559,
          8.97537899017334,
          21.14783477783203,
          8.937204360961914,
          -4.393676280975342,
          8.969205856323242,
          -4.454751491546631,
          8.96545124053955,
          -4.144466400146484,
          8.945494651794434,
          -4.418912410736084,
          9.082595825195312,
          9.116869926452637,
          -4.427626609802246,
          9.133877754211426,
          8.950125694274902,
          8.938764572143555,
          8.927018165588379,
          -4.4791975021362305,
          -4.483701705932617,
          -4.820657253265381,
          -4.840478897094727,
          21.143112182617188,
          21.149089813232422,
          9.020845413208008,
          9.052755355834961,
          9.171463012695312,
          9.061553955078125,
          -4.87341833114624,
          21.273618698120117,
          -4.86731481552124,
          9.128488540649414,
          21.2614803314209,
          21.208904266357422,
          -4.783840656280518,
          9.10281753540039,
          9.172383308410645,
          9.212034225463867,
          -4.8715949058532715,
          -4.872267246246338,
          9.179641723632812,
          -4.868804931640625,
          9.179180145263672,
          -4.870888710021973,
          -4.864927291870117,
          9.178485870361328,
          -4.86427116394043,
          9.181780815124512,
          -4.879206657409668,
          9.183554649353027,
          9.102075576782227,
          9.156785011291504,
          -4.353707790374756,
          9.207988739013672,
          -4.353814125061035,
          -4.829073905944824,
          9.173224449157715,
          9.094643592834473,
          -4.69265604019165,
          9.165715217590332,
          -4.8611741065979
         ],
         "yaxis": "y"
        },
        {
         "customdata": [
          [
           1951,
           "USA",
           "AIRDROP",
           "ATMOSPHERIC",
           "NTS",
           1951
          ],
          [
           1951,
           "USA",
           "AIRDROP",
           "ATMOSPHERIC",
           "NTS",
           1951
          ],
          [
           1951,
           "USA",
           "AIRDROP",
           "ATMOSPHERIC",
           "NTS",
           1951
          ],
          [
           1951,
           "USA",
           "AIRDROP",
           "ATMOSPHERIC",
           "NTS",
           1951
          ],
          [
           1951,
           "USA",
           "AIRDROP",
           "ATMOSPHERIC",
           "NTS",
           1951
          ],
          [
           1951,
           "USA",
           "TOWER",
           "ATMOSPHERIC",
           "NTS",
           1951
          ],
          [
           1951,
           "USA",
           "AIRDROP",
           "ATMOSPHERIC",
           "NTS",
           1951
          ],
          [
           1951,
           "USA",
           "AIRDROP",
           "ATMOSPHERIC",
           "NTS",
           1951
          ],
          [
           1951,
           "USA",
           "AIRDROP",
           "ATMOSPHERIC",
           "NTS",
           1951
          ],
          [
           1951,
           "USA",
           "AIRDROP",
           "ATMOSPHERIC",
           "NTS",
           1951
          ],
          [
           1951,
           "USA",
           "SURFACE",
           "ATMOSPHERIC",
           "NTS",
           1951
          ],
          [
           1951,
           "USA",
           "CRATER",
           "ATMOSPHERIC",
           "NTS",
           1951
          ],
          [
           1952,
           "USA",
           "AIRDROP",
           "ATMOSPHERIC",
           "NTS",
           1952
          ],
          [
           1952,
           "USA",
           "AIRDROP",
           "ATMOSPHERIC",
           "NTS",
           1952
          ],
          [
           1952,
           "USA",
           "AIRDROP",
           "ATMOSPHERIC",
           "NTS",
           1952
          ],
          [
           1952,
           "USA",
           "AIRDROP",
           "ATMOSPHERIC",
           "NTS",
           1952
          ],
          [
           1952,
           "USA",
           "TOWER",
           "ATMOSPHERIC",
           "NTS",
           1952
          ],
          [
           1952,
           "USA",
           "TOWER",
           "ATMOSPHERIC",
           "NTS",
           1952
          ],
          [
           1952,
           "USA",
           "TOWER",
           "ATMOSPHERIC",
           "NTS",
           1952
          ],
          [
           1952,
           "USA",
           "TOWER",
           "ATMOSPHERIC",
           "NTS",
           1952
          ],
          [
           1953,
           "USA",
           "TOWER",
           "ATMOSPHERIC",
           "NTS",
           1953
          ],
          [
           1953,
           "USA",
           "TOWER",
           "ATMOSPHERIC",
           "NTS",
           1953
          ],
          [
           1953,
           "USA",
           "TOWER",
           "ATMOSPHERIC",
           "NTS",
           1953
          ],
          [
           1953,
           "USA",
           "AIRDROP",
           "ATMOSPHERIC",
           "NTS",
           1953
          ],
          [
           1953,
           "USA",
           "TOWER",
           "ATMOSPHERIC",
           "NTS",
           1953
          ],
          [
           1953,
           "USA",
           "TOWER",
           "ATMOSPHERIC",
           "NTS",
           1953
          ],
          [
           1953,
           "USA",
           "TOWER",
           "ATMOSPHERIC",
           "NTS",
           1953
          ],
          [
           1953,
           "USA",
           "AIRDROP",
           "ATMOSPHERIC",
           "NTS",
           1953
          ],
          [
           1953,
           "USA",
           "TOWER",
           "ATMOSPHERIC",
           "NTS",
           1953
          ],
          [
           1953,
           "USA",
           "ATMOSPH",
           "ATMOSPHERIC",
           "NTS",
           1953
          ],
          [
           1953,
           "USA",
           "AIRDROP",
           "ATMOSPHERIC",
           "NTS",
           1953
          ],
          [
           1955,
           "USA",
           "AIRDROP",
           "ATMOSPHERIC",
           "NTS",
           1955
          ],
          [
           1955,
           "USA",
           "TOWER",
           "ATMOSPHERIC",
           "NTS",
           1955
          ],
          [
           1955,
           "USA",
           "TOWER",
           "ATMOSPHERIC",
           "NTS",
           1955
          ],
          [
           1955,
           "USA",
           "TOWER",
           "ATMOSPHERIC",
           "NTS",
           1955
          ],
          [
           1955,
           "USA",
           "TOWER",
           "ATMOSPHERIC",
           "NTS",
           1955
          ],
          [
           1955,
           "USA",
           "TOWER",
           "ATMOSPHERIC",
           "NTS",
           1955
          ],
          [
           1955,
           "USA",
           "CRATER",
           "ATMOSPHERIC",
           "NTS",
           1955
          ],
          [
           1955,
           "USA",
           "TOWER",
           "ATMOSPHERIC",
           "NTS",
           1955
          ],
          [
           1955,
           "USA",
           "AIRDROP",
           "ATMOSPHERIC",
           "NTS",
           1955
          ],
          [
           1955,
           "USA",
           "AIRDROP",
           "ATMOSPHERIC",
           "NTS",
           1955
          ],
          [
           1955,
           "USA",
           "TOWER",
           "ATMOSPHERIC",
           "NTS",
           1955
          ],
          [
           1955,
           "USA",
           "TOWER",
           "ATMOSPHERIC",
           "NTS",
           1955
          ],
          [
           1955,
           "USA",
           "TOWER",
           "ATMOSPHERIC",
           "NTS",
           1955
          ],
          [
           1955,
           "USA",
           "TOWER",
           "ATMOSPHERIC",
           "NTS",
           1955
          ],
          [
           1955,
           "USA",
           "SURFACE",
           "ATMOSPHERIC",
           "NTS",
           1955
          ],
          [
           1955,
           "USA",
           "SURFACE",
           "ATMOSPHERIC",
           "NTS",
           1955
          ],
          [
           1955,
           "USA",
           "SURFACE",
           "ATMOSPHERIC",
           "NTS",
           1955
          ],
          [
           1956,
           "USA",
           "SURFACE",
           "ATMOSPHERIC",
           "NTS",
           1956
          ],
          [
           1957,
           "USA",
           "TOWER",
           "ATMOSPHERIC",
           "NTS",
           1957
          ],
          [
           1957,
           "USA",
           "TOWER",
           "ATMOSPHERIC",
           "NTS",
           1957
          ],
          [
           1957,
           "USA",
           "BALLOON",
           "ATMOSPHERIC",
           "NTS",
           1957
          ],
          [
           1957,
           "USA",
           "BALLOON",
           "ATMOSPHERIC",
           "NTS",
           1957
          ],
          [
           1957,
           "USA",
           "BALLOON",
           "ATMOSPHERIC",
           "NTS",
           1957
          ],
          [
           1957,
           "USA",
           "SURFACE",
           "ATMOSPHERIC",
           "NTS",
           1957
          ],
          [
           1957,
           "USA",
           "BALLOON",
           "ATMOSPHERIC",
           "NTS",
           1957
          ],
          [
           1957,
           "USA",
           "TOWER",
           "ATMOSPHERIC",
           "NTS",
           1957
          ],
          [
           1957,
           "USA",
           "ROCKET",
           "ATMOSPHERIC",
           "NTS",
           1957
          ],
          [
           1957,
           "USA",
           "TOWER",
           "ATMOSPHERIC",
           "NTS",
           1957
          ],
          [
           1957,
           "USA",
           "BALLOON",
           "ATMOSPHERIC",
           "NTS",
           1957
          ],
          [
           1957,
           "USA",
           "SHAFT",
           "UNDERGROUND",
           "NTS",
           1957
          ],
          [
           1957,
           "USA",
           "BALLOON",
           "ATMOSPHERIC",
           "NTS",
           1957
          ],
          [
           1957,
           "USA",
           "TUNNEL",
           "UNDERGROUND",
           "NTS",
           1957
          ],
          [
           1957,
           "USA",
           "TOWER",
           "ATMOSPHERIC",
           "NTS",
           1957
          ],
          [
           1957,
           "USA",
           "BALLOON",
           "ATMOSPHERIC",
           "NTS",
           1957
          ],
          [
           1957,
           "USA",
           "SHAFT",
           "UNDERGROUND",
           "NTS",
           1957
          ],
          [
           1957,
           "USA",
           "BALLOON",
           "ATMOSPHERIC",
           "NTS",
           1957
          ],
          [
           1957,
           "USA",
           "TOWER",
           "ATMOSPHERIC",
           "NTS",
           1957
          ],
          [
           1957,
           "USA",
           "TOWER",
           "ATMOSPHERIC",
           "NTS",
           1957
          ],
          [
           1957,
           "USA",
           "BALLOON",
           "ATMOSPHERIC",
           "NTS",
           1957
          ],
          [
           1957,
           "USA",
           "SURFACE",
           "ATMOSPHERIC",
           "NTS",
           1957
          ],
          [
           1957,
           "USA",
           "BALLOON",
           "ATMOSPHERIC",
           "NTS",
           1957
          ],
          [
           1957,
           "USA",
           "TOWER",
           "ATMOSPHERIC",
           "NTS",
           1957
          ],
          [
           1957,
           "USA",
           "BALLOON",
           "ATMOSPHERIC",
           "NTS",
           1957
          ],
          [
           1957,
           "USA",
           "TUNNEL",
           "UNDERGROUND",
           "NTS",
           1957
          ],
          [
           1957,
           "USA",
           "TOWER",
           "ATMOSPHERIC",
           "NTS",
           1957
          ],
          [
           1957,
           "USA",
           "BALLOON",
           "ATMOSPHERIC",
           "NTS",
           1957
          ],
          [
           1957,
           "USA",
           "BALLOON",
           "ATMOSPHERIC",
           "NTS",
           1957
          ],
          [
           1957,
           "USA",
           "SHAFT",
           "UNDERGROUND",
           "NTS",
           1957
          ],
          [
           1957,
           "USA",
           "SURFACE",
           "ATMOSPHERIC",
           "NTS",
           1957
          ],
          [
           1958,
           "USA",
           "TUNNEL",
           "UNDERGROUND",
           "NTS",
           1958
          ],
          [
           1958,
           "USA",
           "TUNNEL",
           "UNDERGROUND",
           "NTS",
           1958
          ],
          [
           1958,
           "USA",
           "SHAFT",
           "UNDERGROUND",
           "NTS",
           1958
          ],
          [
           1958,
           "USA",
           "SHAFT",
           "UNDERGROUND",
           "NTS",
           1958
          ],
          [
           1958,
           "USA",
           "BALLOON",
           "ATMOSPHERIC",
           "NTS",
           1958
          ],
          [
           1958,
           "USA",
           "SHAFT",
           "UNDERGROUND",
           "NTS",
           1958
          ],
          [
           1958,
           "USA",
           "TUNNEL",
           "UNDERGROUND",
           "NTS",
           1958
          ],
          [
           1958,
           "USA",
           "SHAFT",
           "UNDERGROUND",
           "NTS",
           1958
          ],
          [
           1958,
           "USA",
           "TUNNEL",
           "UNDERGROUND",
           "NTS",
           1958
          ],
          [
           1958,
           "USA",
           "BALLOON",
           "ATMOSPHERIC",
           "NTS",
           1958
          ],
          [
           1958,
           "USA",
           "BALLOON",
           "ATMOSPHERIC",
           "NTS",
           1958
          ],
          [
           1958,
           "USA",
           "SHAFT",
           "UNDERGROUND",
           "NTS",
           1958
          ],
          [
           1958,
           "USA",
           "TUNNEL",
           "UNDERGROUND",
           "NTS",
           1958
          ],
          [
           1958,
           "USA",
           "TOWER",
           "ATMOSPHERIC",
           "NTS",
           1958
          ],
          [
           1958,
           "USA",
           "BALLOON",
           "ATMOSPHERIC",
           "NTS",
           1958
          ],
          [
           1958,
           "USA",
           "TUNNEL",
           "UNDERGROUND",
           "NTS",
           1958
          ],
          [
           1958,
           "USA",
           "TOWER",
           "ATMOSPHERIC",
           "NTS",
           1958
          ],
          [
           1958,
           "USA",
           "TUNNEL",
           "UNDERGROUND",
           "NTS",
           1958
          ],
          [
           1958,
           "USA",
           "BALLOON",
           "ATMOSPHERIC",
           "NTS",
           1958
          ],
          [
           1958,
           "USA",
           "SURFACE",
           "ATMOSPHERIC",
           "NTS",
           1958
          ],
          [
           1958,
           "USA",
           "TOWER",
           "ATMOSPHERIC",
           "NTS",
           1958
          ],
          [
           1958,
           "USA",
           "SHAFT",
           "UNDERGROUND",
           "NTS",
           1958
          ],
          [
           1958,
           "USA",
           "BALLOON",
           "ATMOSPHERIC",
           "NTS",
           1958
          ],
          [
           1958,
           "USA",
           "BALLOON",
           "ATMOSPHERIC",
           "NTS",
           1958
          ],
          [
           1958,
           "USA",
           "BALLOON",
           "ATMOSPHERIC",
           "NTS",
           1958
          ],
          [
           1958,
           "USA",
           "TOWER",
           "ATMOSPHERIC",
           "NTS",
           1958
          ],
          [
           1958,
           "USA",
           "TOWER",
           "ATMOSPHERIC",
           "NTS",
           1958
          ],
          [
           1958,
           "USA",
           "SURFACE",
           "ATMOSPHERIC",
           "NTS",
           1958
          ],
          [
           1958,
           "USA",
           "TOWER",
           "ATMOSPHERIC",
           "NTS",
           1958
          ],
          [
           1958,
           "USA",
           "BALLOON",
           "ATMOSPHERIC",
           "NTS",
           1958
          ],
          [
           1958,
           "USA",
           "BALLOON",
           "ATMOSPHERIC",
           "NTS",
           1958
          ],
          [
           1958,
           "USA",
           "TOWER",
           "ATMOSPHERIC",
           "NTS",
           1958
          ],
          [
           1958,
           "USA",
           "TUNNEL",
           "UNDERGROUND",
           "NTS",
           1958
          ],
          [
           1958,
           "USA",
           "TOWER",
           "ATMOSPHERIC",
           "NTS",
           1958
          ],
          [
           1958,
           "USA",
           "TOWER",
           "ATMOSPHERIC",
           "NTS",
           1958
          ],
          [
           1958,
           "USA",
           "BALLOON",
           "ATMOSPHERIC",
           "NTS",
           1958
          ],
          [
           1958,
           "USA",
           "TUNNEL",
           "UNDERGROUND",
           "NTS",
           1958
          ],
          [
           1958,
           "USA",
           "TOWER",
           "ATMOSPHERIC",
           "NTS",
           1958
          ],
          [
           1958,
           "USA",
           "SURFACE",
           "ATMOSPHERIC",
           "NTS",
           1958
          ],
          [
           1961,
           "USA",
           "TUNNEL",
           "UNDERGROUND",
           "NTS",
           1961
          ],
          [
           1961,
           "USA",
           "SHAFT",
           "UNDERGROUND",
           "NTS",
           1961
          ],
          [
           1961,
           "USA",
           "SHAFT",
           "UNDERGROUND",
           "NTS",
           1961
          ],
          [
           1961,
           "USA",
           "TUNNEL",
           "UNDERGROUND",
           "NTS",
           1961
          ],
          [
           1961,
           "USA",
           "SHAFT",
           "UNDERGROUND",
           "NTS",
           1961
          ],
          [
           1961,
           "USA",
           "SHAFT",
           "UNDERGROUND",
           "NTS",
           1961
          ],
          [
           1961,
           "USA",
           "SHAFT",
           "UNDERGROUND",
           "NTS",
           1961
          ],
          [
           1961,
           "USA",
           "SHAFT",
           "UNDERGROUND",
           "NTS",
           1961
          ],
          [
           1961,
           "USA",
           "TUNNEL",
           "UNDERGROUND",
           "NTS",
           1961
          ],
          [
           1962,
           "USA",
           "SHAFT",
           "UNDERGROUND",
           "NTS",
           1962
          ],
          [
           1962,
           "USA",
           "SHAFT",
           "UNDERGROUND",
           "NTS",
           1962
          ],
          [
           1962,
           "USA",
           "SHAFT",
           "UNDERGROUND",
           "NTS",
           1962
          ],
          [
           1962,
           "USA",
           "SHAFT",
           "UNDERGROUND",
           "NTS",
           1962
          ],
          [
           1962,
           "USA",
           "SHAFT",
           "UNDERGROUND",
           "NTS",
           1962
          ],
          [
           1962,
           "USA",
           "SHAFT",
           "UNDERGROUND",
           "NTS",
           1962
          ],
          [
           1962,
           "USA",
           "SHAFT",
           "UNDERGROUND",
           "NTS",
           1962
          ],
          [
           1962,
           "USA",
           "SHAFT",
           "UNDERGROUND",
           "NTS",
           1962
          ],
          [
           1962,
           "USA",
           "SHAFT",
           "UNDERGROUND",
           "NTS",
           1962
          ],
          [
           1962,
           "USA",
           "SHAFT",
           "UNDERGROUND",
           "NTS",
           1962
          ],
          [
           1962,
           "UK",
           "SHAFT",
           "UNDERGROUND",
           "NTS",
           1962
          ],
          [
           1962,
           "USA",
           "CRATER",
           "ATMOSPHERIC",
           "NTS",
           1962
          ],
          [
           1962,
           "USA",
           "SHAFT",
           "UNDERGROUND",
           "NTS",
           1962
          ],
          [
           1962,
           "USA",
           "SHAFT",
           "UNDERGROUND",
           "NTS",
           1962
          ],
          [
           1962,
           "USA",
           "SHAFT",
           "UNDERGROUND",
           "NTS",
           1962
          ],
          [
           1962,
           "USA",
           "SHAFT",
           "UNDERGROUND",
           "NTS",
           1962
          ],
          [
           1962,
           "USA",
           "SHAFT",
           "UNDERGROUND",
           "NTS",
           1962
          ],
          [
           1962,
           "USA",
           "SHAFT",
           "UNDERGROUND",
           "NTS",
           1962
          ],
          [
           1962,
           "USA",
           "SHAFT",
           "UNDERGROUND",
           "NTS",
           1962
          ],
          [
           1962,
           "USA",
           "SHAFT",
           "UNDERGROUND",
           "NTS",
           1962
          ],
          [
           1962,
           "USA",
           "TUNNEL",
           "UNDERGROUND",
           "NTS",
           1962
          ],
          [
           1962,
           "USA",
           "SHAFT",
           "UNDERGROUND",
           "NTS",
           1962
          ],
          [
           1962,
           "USA",
           "SHAFT",
           "UNDERGROUND",
           "NTS",
           1962
          ],
          [
           1962,
           "USA",
           "SHAFT",
           "UNDERGROUND",
           "NTS",
           1962
          ],
          [
           1962,
           "USA",
           "SHAFT",
           "UNDERGROUND",
           "NTS",
           1962
          ],
          [
           1962,
           "USA",
           "SHAFT",
           "UNDERGROUND",
           "NTS",
           1962
          ],
          [
           1962,
           "USA",
           "SHAFT",
           "UNDERGROUND",
           "NTS",
           1962
          ],
          [
           1962,
           "USA",
           "SHAFT",
           "UNDERGROUND",
           "NTS",
           1962
          ],
          [
           1962,
           "USA",
           "SHAFT",
           "UNDERGROUND",
           "NTS",
           1962
          ],
          [
           1962,
           "USA",
           "SHAFT",
           "UNDERGROUND",
           "NTS",
           1962
          ],
          [
           1962,
           "USA",
           "TUNNEL",
           "UNDERGROUND",
           "NTS",
           1962
          ],
          [
           1962,
           "USA",
           "SHAFT",
           "UNDERGROUND",
           "NTS",
           1962
          ],
          [
           1962,
           "USA",
           "SHAFT",
           "UNDERGROUND",
           "NTS",
           1962
          ],
          [
           1962,
           "USA",
           "TUNNEL",
           "UNDERGROUND",
           "NTS",
           1962
          ],
          [
           1962,
           "USA",
           "SHAFT",
           "UNDERGROUND",
           "NTS",
           1962
          ],
          [
           1962,
           "USA",
           "CRATER",
           "ATMOSPHERIC",
           "NTS",
           1962
          ],
          [
           1962,
           "USA",
           "SURFACE",
           "ATMOSPHERIC",
           "NTS",
           1962
          ],
          [
           1962,
           "USA",
           "CRATER",
           "ATMOSPHERIC",
           "NTS",
           1962
          ],
          [
           1962,
           "USA",
           "SHAFT",
           "UNDERGROUND",
           "NTS",
           1962
          ],
          [
           1962,
           "USA",
           "TOWER",
           "ATMOSPHERIC",
           "NTS",
           1962
          ],
          [
           1962,
           "USA",
           "SURFACE",
           "ATMOSPHERIC",
           "NTS",
           1962
          ],
          [
           1962,
           "USA",
           "SHAFT",
           "UNDERGROUND",
           "NTS",
           1962
          ],
          [
           1962,
           "USA",
           "SHAFT",
           "UNDERGROUND",
           "NTS",
           1962
          ],
          [
           1962,
           "USA",
           "SHAFT",
           "UNDERGROUND",
           "NTS",
           1962
          ],
          [
           1962,
           "USA",
           "SHAFT",
           "UNDERGROUND",
           "NTS",
           1962
          ],
          [
           1962,
           "USA",
           "SHAFT",
           "UNDERGROUND",
           "NTS",
           1962
          ],
          [
           1962,
           "USA",
           "SHAFT",
           "UNDERGROUND",
           "NTS",
           1962
          ],
          [
           1962,
           "USA",
           "SHAFT",
           "UNDERGROUND",
           "NTS",
           1962
          ],
          [
           1962,
           "USA",
           "SHAFT",
           "UNDERGROUND",
           "NTS",
           1962
          ],
          [
           1962,
           "USA",
           "SHAFT",
           "UNDERGROUND",
           "NTS",
           1962
          ],
          [
           1962,
           "USA",
           "SHAFT",
           "UNDERGROUND",
           "NTS",
           1962
          ],
          [
           1962,
           "USA",
           "SHAFT",
           "UNDERGROUND",
           "NTS",
           1962
          ],
          [
           1962,
           "USA",
           "SHAFT",
           "UNDERGROUND",
           "NTS",
           1962
          ],
          [
           1962,
           "USA",
           "SHAFT",
           "UNDERGROUND",
           "NTS",
           1962
          ],
          [
           1962,
           "USA",
           "SHAFT",
           "UNDERGROUND",
           "NTS",
           1962
          ],
          [
           1962,
           "USA",
           "SHAFT",
           "UNDERGROUND",
           "NTS",
           1962
          ],
          [
           1962,
           "USA",
           "SHAFT",
           "UNDERGROUND",
           "NTS",
           1962
          ],
          [
           1962,
           "USA",
           "SHAFT",
           "UNDERGROUND",
           "NTS",
           1962
          ],
          [
           1962,
           "UK",
           "SHAFT",
           "UNDERGROUND",
           "NTS",
           1962
          ],
          [
           1962,
           "USA",
           "TUNNEL",
           "UNDERGROUND",
           "NTS",
           1962
          ],
          [
           1962,
           "USA",
           "SHAFT",
           "UNDERGROUND",
           "NTS",
           1962
          ],
          [
           1962,
           "USA",
           "SHAFT",
           "UNDERGROUND",
           "NTS",
           1962
          ],
          [
           1963,
           "USA",
           "SHAFT",
           "UNDERGROUND",
           "NTS",
           1963
          ],
          [
           1963,
           "USA",
           "SHAFT",
           "UNDERGROUND",
           "NTS",
           1963
          ],
          [
           1963,
           "USA",
           "SHAFT",
           "UNDERGROUND",
           "NTS",
           1963
          ],
          [
           1963,
           "USA",
           "SHAFT",
           "UNDERGROUND",
           "NTS",
           1963
          ],
          [
           1963,
           "USA",
           "SHAFT",
           "UNDERGROUND",
           "NTS",
           1963
          ],
          [
           1963,
           "USA",
           "SHAFT",
           "UNDERGROUND",
           "NTS",
           1963
          ],
          [
           1963,
           "USA",
           "SHAFT",
           "UNDERGROUND",
           "NTS",
           1963
          ],
          [
           1963,
           "USA",
           "SHAFT",
           "UNDERGROUND",
           "NTS",
           1963
          ],
          [
           1963,
           "USA",
           "SHAFT",
           "UNDERGROUND",
           "NTS",
           1963
          ],
          [
           1963,
           "USA",
           "SHAFT",
           "UNDERGROUND",
           "NTS",
           1963
          ],
          [
           1963,
           "USA",
           "SHAFT",
           "UNDERGROUND",
           "NTS",
           1963
          ],
          [
           1963,
           "USA",
           "SHAFT",
           "UNDERGROUND",
           "NTS",
           1963
          ],
          [
           1963,
           "USA",
           "SHAFT",
           "UNDERGROUND",
           "NTS",
           1963
          ],
          [
           1963,
           "USA",
           "SHAFT",
           "UNDERGROUND",
           "NTS",
           1963
          ],
          [
           1963,
           "USA",
           "SHAFT",
           "UNDERGROUND",
           "NTS",
           1963
          ],
          [
           1963,
           "USA",
           "SHAFT",
           "UNDERGROUND",
           "NTS",
           1963
          ],
          [
           1963,
           "USA",
           "SHAFT",
           "UNDERGROUND",
           "NTS",
           1963
          ],
          [
           1963,
           "USA",
           "SHAFT",
           "UNDERGROUND",
           "NTS",
           1963
          ],
          [
           1963,
           "USA",
           "SHAFT",
           "UNDERGROUND",
           "NTS",
           1963
          ],
          [
           1963,
           "USA",
           "SHAFT",
           "UNDERGROUND",
           "NTS",
           1963
          ],
          [
           1963,
           "USA",
           "TUNNEL",
           "UNDERGROUND",
           "NTS",
           1963
          ],
          [
           1963,
           "USA",
           "SHAFT",
           "UNDERGROUND",
           "NTS",
           1963
          ],
          [
           1963,
           "USA",
           "SHAFT",
           "UNDERGROUND",
           "NTS",
           1963
          ],
          [
           1963,
           "USA",
           "SHAFT",
           "UNDERGROUND",
           "NTS",
           1963
          ],
          [
           1963,
           "USA",
           "SHAFT",
           "UNDERGROUND",
           "NTS",
           1963
          ],
          [
           1963,
           "USA",
           "SHAFT",
           "UNDERGROUND",
           "NTS",
           1963
          ],
          [
           1963,
           "USA",
           "SHAFT",
           "UNDERGROUND",
           "NTS",
           1963
          ],
          [
           1963,
           "USA",
           "SHAFT",
           "UNDERGROUND",
           "NTS",
           1963
          ],
          [
           1963,
           "USA",
           "SHAFT",
           "UNDERGROUND",
           "NTS",
           1963
          ],
          [
           1963,
           "USA",
           "SHAFT",
           "UNDERGROUND",
           "NTS",
           1963
          ],
          [
           1963,
           "USA",
           "SHAFT",
           "UNDERGROUND",
           "NTS",
           1963
          ],
          [
           1963,
           "USA",
           "SHAFT",
           "UNDERGROUND",
           "NTS",
           1963
          ],
          [
           1963,
           "USA",
           "SHAFT",
           "UNDERGROUND",
           "NTS",
           1963
          ],
          [
           1963,
           "USA",
           "SHAFT",
           "UNDERGROUND",
           "NTS",
           1963
          ],
          [
           1963,
           "USA",
           "SHAFT",
           "UNDERGROUND",
           "NTS",
           1963
          ],
          [
           1963,
           "USA",
           "SHAFT",
           "UNDERGROUND",
           "NTS",
           1963
          ],
          [
           1963,
           "USA",
           "SHAFT",
           "UNDERGROUND",
           "NTS",
           1963
          ],
          [
           1963,
           "USA",
           "SHAFT",
           "UNDERGROUND",
           "NTS",
           1963
          ],
          [
           1963,
           "USA",
           "SHAFT",
           "UNDERGROUND",
           "NTS",
           1963
          ],
          [
           1963,
           "USA",
           "SHAFT",
           "UNDERGROUND",
           "NTS",
           1963
          ],
          [
           1963,
           "USA",
           "SHAFT",
           "UNDERGROUND",
           "NTS",
           1963
          ],
          [
           1963,
           "USA",
           "SHAFT",
           "UNDERGROUND",
           "NTS",
           1963
          ],
          [
           1964,
           "USA",
           "SHAFT",
           "UNDERGROUND",
           "NTS",
           1964
          ],
          [
           1964,
           "USA",
           "SHAFT",
           "UNDERGROUND",
           "NTS",
           1964
          ],
          [
           1964,
           "USA",
           "SHAFT",
           "UNDERGROUND",
           "NTS",
           1964
          ],
          [
           1964,
           "USA",
           "SHAFT",
           "UNDERGROUND",
           "NTS",
           1964
          ],
          [
           1964,
           "USA",
           "SHAFT",
           "UNDERGROUND",
           "NTS",
           1964
          ],
          [
           1964,
           "USA",
           "SHAFT",
           "UNDERGROUND",
           "NTS",
           1964
          ],
          [
           1964,
           "USA",
           "SHAFT",
           "UNDERGROUND",
           "NTS",
           1964
          ],
          [
           1964,
           "USA",
           "SHAFT",
           "UNDERGROUND",
           "NTS",
           1964
          ],
          [
           1964,
           "USA",
           "SHAFT",
           "UNDERGROUND",
           "NTS",
           1964
          ],
          [
           1964,
           "USA",
           "SHAFT",
           "UNDERGROUND",
           "NTS",
           1964
          ],
          [
           1964,
           "USA",
           "SHAFT",
           "UNDERGROUND",
           "NTS",
           1964
          ],
          [
           1964,
           "USA",
           "SHAFT",
           "UNDERGROUND",
           "NTS",
           1964
          ],
          [
           1964,
           "USA",
           "SHAFT",
           "UNDERGROUND",
           "NTS",
           1964
          ],
          [
           1964,
           "USA",
           "SHAFT",
           "UNDERGROUND",
           "NTS",
           1964
          ],
          [
           1964,
           "USA",
           "SHAFT",
           "UNDERGROUND",
           "NTS",
           1964
          ],
          [
           1964,
           "USA",
           "SHAFT",
           "UNDERGROUND",
           "NTS",
           1964
          ],
          [
           1964,
           "USA",
           "SHAFT",
           "UNDERGROUND",
           "NTS",
           1964
          ],
          [
           1964,
           "USA",
           "SHAFT",
           "UNDERGROUND",
           "NTS",
           1964
          ],
          [
           1964,
           "USA",
           "SHAFT",
           "UNDERGROUND",
           "NTS",
           1964
          ],
          [
           1964,
           "USA",
           "SHAFT",
           "UNDERGROUND",
           "NTS",
           1964
          ],
          [
           1964,
           "USA",
           "SHAFT",
           "UNDERGROUND",
           "NTS",
           1964
          ],
          [
           1964,
           "USA",
           "SHAFT",
           "UNDERGROUND",
           "NTS",
           1964
          ],
          [
           1964,
           "USA",
           "SHAFT",
           "UNDERGROUND",
           "NTS",
           1964
          ],
          [
           1964,
           "USA",
           "SHAFT",
           "UNDERGROUND",
           "NTS",
           1964
          ],
          [
           1964,
           "UK",
           "SHAFT",
           "UNDERGROUND",
           "NTS",
           1964
          ],
          [
           1964,
           "USA",
           "SHAFT",
           "UNDERGROUND",
           "NTS",
           1964
          ],
          [
           1964,
           "USA",
           "SHAFT",
           "UNDERGROUND",
           "NTS",
           1964
          ],
          [
           1964,
           "USA",
           "SHAFT",
           "UNDERGROUND",
           "NTS",
           1964
          ],
          [
           1964,
           "USA",
           "SHAFT",
           "UNDERGROUND",
           "NTS",
           1964
          ],
          [
           1964,
           "USA",
           "SHAFT",
           "UNDERGROUND",
           "NTS",
           1964
          ],
          [
           1964,
           "USA",
           "SHAFT",
           "UNDERGROUND",
           "NTS",
           1964
          ],
          [
           1964,
           "USA",
           "SHAFT",
           "UNDERGROUND",
           "NTS",
           1964
          ],
          [
           1964,
           "USA",
           "SHAFT",
           "UNDERGROUND",
           "NTS",
           1964
          ],
          [
           1964,
           "UK",
           "SHAFT",
           "UNDERGROUND",
           "NTS",
           1964
          ],
          [
           1964,
           "USA",
           "SHAFT",
           "UNDERGROUND",
           "NTS",
           1964
          ],
          [
           1964,
           "USA",
           "SHAFT",
           "UNDERGROUND",
           "NTS",
           1964
          ],
          [
           1964,
           "USA",
           "SHAFT",
           "UNDERGROUND",
           "NTS",
           1964
          ],
          [
           1964,
           "USA",
           "SHAFT",
           "UNDERGROUND",
           "NTS",
           1964
          ],
          [
           1964,
           "USA",
           "SHAFT",
           "UNDERGROUND",
           "NTS",
           1964
          ],
          [
           1964,
           "USA",
           "SHAFT",
           "UNDERGROUND",
           "NTS",
           1964
          ],
          [
           1964,
           "USA",
           "SHAFT",
           "UNDERGROUND",
           "NTS",
           1964
          ],
          [
           1964,
           "USA",
           "SHAFT",
           "UNDERGROUND",
           "NTS",
           1964
          ],
          [
           1964,
           "USA",
           "SHAFT",
           "UNDERGROUND",
           "NTS",
           1964
          ],
          [
           1964,
           "USA",
           "SHAFT",
           "UNDERGROUND",
           "NTS",
           1964
          ],
          [
           1964,
           "USA",
           "SHAFT",
           "UNDERGROUND",
           "NTS",
           1964
          ],
          [
           1964,
           "USA",
           "SHAFT",
           "UNDERGROUND",
           "NTS",
           1964
          ],
          [
           1965,
           "USA",
           "SHAFT",
           "UNDERGROUND",
           "NTS",
           1965
          ],
          [
           1965,
           "USA",
           "SHAFT",
           "UNDERGROUND",
           "NTS",
           1965
          ],
          [
           1965,
           "USA",
           "SHAFT",
           "UNDERGROUND",
           "NTS",
           1965
          ],
          [
           1965,
           "USA",
           "SHAFT",
           "UNDERGROUND",
           "NTS",
           1965
          ],
          [
           1965,
           "USA",
           "SHAFT",
           "UNDERGROUND",
           "NTS",
           1965
          ],
          [
           1965,
           "USA",
           "SHAFT",
           "UNDERGROUND",
           "NTS",
           1965
          ],
          [
           1965,
           "USA",
           "SHAFT",
           "UNDERGROUND",
           "NTS",
           1965
          ],
          [
           1965,
           "USA",
           "SHAFT",
           "UNDERGROUND",
           "NTS",
           1965
          ],
          [
           1965,
           "USA",
           "SHAFT",
           "UNDERGROUND",
           "NTS",
           1965
          ],
          [
           1965,
           "USA",
           "SHAFT",
           "UNDERGROUND",
           "NTS",
           1965
          ],
          [
           1965,
           "USA",
           "SHAFT",
           "UNDERGROUND",
           "NTS",
           1965
          ],
          [
           1965,
           "USA",
           "CRATER",
           "ATMOSPHERIC",
           "NTS",
           1965
          ],
          [
           1965,
           "USA",
           "TUNNEL",
           "UNDERGROUND",
           "NTS",
           1965
          ],
          [
           1965,
           "USA",
           "SHAFT",
           "UNDERGROUND",
           "NTS",
           1965
          ],
          [
           1965,
           "USA",
           "SHAFT",
           "UNDERGROUND",
           "NTS",
           1965
          ],
          [
           1965,
           "USA",
           "SHAFT",
           "UNDERGROUND",
           "NTS",
           1965
          ],
          [
           1965,
           "USA",
           "SHAFT",
           "UNDERGROUND",
           "NTS",
           1965
          ],
          [
           1965,
           "USA",
           "SHAFT",
           "UNDERGROUND",
           "NTS",
           1965
          ],
          [
           1965,
           "USA",
           "SHAFT",
           "UNDERGROUND",
           "NTS",
           1965
          ],
          [
           1965,
           "USA",
           "SHAFT",
           "UNDERGROUND",
           "NTS",
           1965
          ],
          [
           1965,
           "USA",
           "SHAFT",
           "UNDERGROUND",
           "NTS",
           1965
          ],
          [
           1965,
           "USA",
           "SHAFT",
           "UNDERGROUND",
           "NTS",
           1965
          ],
          [
           1965,
           "USA",
           "SHAFT",
           "UNDERGROUND",
           "NTS",
           1965
          ],
          [
           1965,
           "USA",
           "TUNNEL",
           "UNDERGROUND",
           "NTS",
           1965
          ],
          [
           1965,
           "USA",
           "SHAFT",
           "UNDERGROUND",
           "NTS",
           1965
          ],
          [
           1965,
           "USA",
           "SHAFT",
           "UNDERGROUND",
           "NTS",
           1965
          ],
          [
           1965,
           "USA",
           "SHAFT",
           "UNDERGROUND",
           "NTS",
           1965
          ],
          [
           1965,
           "USA",
           "SHAFT",
           "UNDERGROUND",
           "NTS",
           1965
          ],
          [
           1965,
           "USA",
           "SHAFT",
           "UNDERGROUND",
           "NTS",
           1965
          ],
          [
           1965,
           "USA",
           "SHAFT",
           "UNDERGROUND",
           "NTS",
           1965
          ],
          [
           1965,
           "USA",
           "SHAFT",
           "UNDERGROUND",
           "NTS",
           1965
          ],
          [
           1965,
           "UK",
           "SHAFT",
           "UNDERGROUND",
           "NTS",
           1965
          ],
          [
           1965,
           "USA",
           "SHAFT",
           "UNDERGROUND",
           "NTS",
           1965
          ],
          [
           1965,
           "USA",
           "SHAFT",
           "UNDERGROUND",
           "NTS",
           1965
          ],
          [
           1965,
           "USA",
           "SHAFT",
           "UNDERGROUND",
           "NTS",
           1965
          ],
          [
           1965,
           "USA",
           "SHAFT",
           "UNDERGROUND",
           "NTS",
           1965
          ],
          [
           1965,
           "USA",
           "SHAFT",
           "UNDERGROUND",
           "NTS",
           1965
          ],
          [
           1965,
           "USA",
           "SHAFT",
           "UNDERGROUND",
           "NTS",
           1965
          ],
          [
           1966,
           "USA",
           "SHAFT",
           "UNDERGROUND",
           "NTS",
           1966
          ],
          [
           1966,
           "USA",
           "SHAFT",
           "UNDERGROUND",
           "NTS",
           1966
          ],
          [
           1966,
           "USA",
           "SHAFT",
           "UNDERGROUND",
           "NTS",
           1966
          ],
          [
           1966,
           "USA",
           "SHAFT",
           "UNDERGROUND",
           "NTS",
           1966
          ],
          [
           1966,
           "USA",
           "SHAFT",
           "UNDERGROUND",
           "NTS",
           1966
          ],
          [
           1966,
           "USA",
           "SHAFT",
           "UNDERGROUND",
           "NTS",
           1966
          ],
          [
           1966,
           "USA",
           "SHAFT",
           "UNDERGROUND",
           "NTS",
           1966
          ],
          [
           1966,
           "USA",
           "TUNNEL",
           "UNDERGROUND",
           "NTS",
           1966
          ],
          [
           1966,
           "USA",
           "SHAFT",
           "UNDERGROUND",
           "NTS",
           1966
          ],
          [
           1966,
           "USA",
           "SHAFT",
           "UNDERGROUND",
           "NTS",
           1966
          ],
          [
           1966,
           "USA",
           "SHAFT",
           "UNDERGROUND",
           "NTS",
           1966
          ],
          [
           1966,
           "USA",
           "SHAFT",
           "UNDERGROUND",
           "NTS",
           1966
          ],
          [
           1966,
           "USA",
           "SHAFT",
           "UNDERGROUND",
           "NTS",
           1966
          ],
          [
           1966,
           "USA",
           "SHAFT",
           "UNDERGROUND",
           "NTS",
           1966
          ],
          [
           1966,
           "USA",
           "SHAFT",
           "UNDERGROUND",
           "NTS",
           1966
          ],
          [
           1966,
           "USA",
           "SHAFT",
           "UNDERGROUND",
           "NTS",
           1966
          ],
          [
           1966,
           "USA",
           "SHAFT",
           "UNDERGROUND",
           "NTS",
           1966
          ],
          [
           1966,
           "USA",
           "SHAFT",
           "UNDERGROUND",
           "NTS",
           1966
          ],
          [
           1966,
           "USA",
           "SHAFT",
           "UNDERGROUND",
           "NTS",
           1966
          ],
          [
           1966,
           "USA",
           "SHAFT",
           "UNDERGROUND",
           "NTS",
           1966
          ],
          [
           1966,
           "USA",
           "SHAFT",
           "UNDERGROUND",
           "NTS",
           1966
          ],
          [
           1966,
           "USA",
           "SHAFT",
           "UNDERGROUND",
           "NTS",
           1966
          ],
          [
           1966,
           "USA",
           "SHAFT",
           "UNDERGROUND",
           "NTS",
           1966
          ],
          [
           1966,
           "USA",
           "SHAFT",
           "UNDERGROUND",
           "NTS",
           1966
          ],
          [
           1966,
           "USA",
           "SHAFT",
           "UNDERGROUND",
           "NTS",
           1966
          ],
          [
           1966,
           "USA",
           "SHAFT",
           "UNDERGROUND",
           "NTS",
           1966
          ],
          [
           1966,
           "USA",
           "TUNNEL",
           "UNDERGROUND",
           "NTS",
           1966
          ],
          [
           1966,
           "USA",
           "SHAFT",
           "UNDERGROUND",
           "NTS",
           1966
          ],
          [
           1966,
           "USA",
           "SHAFT",
           "UNDERGROUND",
           "NTS",
           1966
          ],
          [
           1966,
           "USA",
           "TUNNEL",
           "UNDERGROUND",
           "NTS",
           1966
          ],
          [
           1966,
           "USA",
           "SHAFT",
           "UNDERGROUND",
           "NTS",
           1966
          ],
          [
           1966,
           "USA",
           "SHAFT",
           "UNDERGROUND",
           "NTS",
           1966
          ],
          [
           1966,
           "USA",
           "SHAFT",
           "UNDERGROUND",
           "NTS",
           1966
          ],
          [
           1966,
           "USA",
           "SHAFT",
           "UNDERGROUND",
           "NTS",
           1966
          ],
          [
           1966,
           "USA",
           "SHAFT",
           "UNDERGROUND",
           "NTS",
           1966
          ],
          [
           1966,
           "USA",
           "SHAFT",
           "UNDERGROUND",
           "NTS",
           1966
          ],
          [
           1966,
           "USA",
           "SHAFT",
           "UNDERGROUND",
           "NTS",
           1966
          ],
          [
           1966,
           "USA",
           "SHAFT",
           "UNDERGROUND",
           "NTS",
           1966
          ],
          [
           1966,
           "USA",
           "SHAFT",
           "UNDERGROUND",
           "NTS",
           1966
          ],
          [
           1966,
           "USA",
           "SHAFT",
           "UNDERGROUND",
           "NTS",
           1966
          ],
          [
           1966,
           "USA",
           "SHAFT",
           "UNDERGROUND",
           "NTS",
           1966
          ],
          [
           1966,
           "USA",
           "SHAFT",
           "UNDERGROUND",
           "NTS",
           1966
          ],
          [
           1966,
           "USA",
           "SHAFT",
           "UNDERGROUND",
           "NTS",
           1966
          ],
          [
           1966,
           "USA",
           "SHAFT",
           "UNDERGROUND",
           "NTS",
           1966
          ],
          [
           1966,
           "USA",
           "SHAFT",
           "UNDERGROUND",
           "NTS",
           1966
          ],
          [
           1966,
           "USA",
           "SHAFT",
           "UNDERGROUND",
           "NTS",
           1966
          ],
          [
           1966,
           "USA",
           "SHAFT",
           "UNDERGROUND",
           "NTS",
           1966
          ],
          [
           1967,
           "USA",
           "SHAFT",
           "UNDERGROUND",
           "NTS",
           1967
          ],
          [
           1967,
           "USA",
           "SHAFT",
           "UNDERGROUND",
           "NTS",
           1967
          ],
          [
           1967,
           "USA",
           "SHAFT",
           "UNDERGROUND",
           "NTS",
           1967
          ],
          [
           1967,
           "USA",
           "SHAFT",
           "UNDERGROUND",
           "NTS",
           1967
          ],
          [
           1967,
           "USA",
           "SHAFT",
           "UNDERGROUND",
           "NTS",
           1967
          ],
          [
           1967,
           "USA",
           "SHAFT",
           "UNDERGROUND",
           "NTS",
           1967
          ],
          [
           1967,
           "USA",
           "SHAFT",
           "UNDERGROUND",
           "NTS",
           1967
          ],
          [
           1967,
           "USA",
           "SHAFT",
           "UNDERGROUND",
           "NTS",
           1967
          ],
          [
           1967,
           "USA",
           "SHAFT",
           "UNDERGROUND",
           "NTS",
           1967
          ],
          [
           1967,
           "USA",
           "SHAFT",
           "UNDERGROUND",
           "NTS",
           1967
          ],
          [
           1967,
           "USA",
           "SHAFT",
           "UNDERGROUND",
           "NTS",
           1967
          ],
          [
           1967,
           "USA",
           "SHAFT",
           "UNDERGROUND",
           "NTS",
           1967
          ],
          [
           1967,
           "USA",
           "SHAFT",
           "UNDERGROUND",
           "NTS",
           1967
          ],
          [
           1967,
           "USA",
           "SHAFT",
           "UNDERGROUND",
           "NTS",
           1967
          ],
          [
           1967,
           "USA",
           "SHAFT",
           "UNDERGROUND",
           "NTS",
           1967
          ],
          [
           1967,
           "USA",
           "SHAFT",
           "UNDERGROUND",
           "NTS",
           1967
          ],
          [
           1967,
           "USA",
           "SHAFT",
           "UNDERGROUND",
           "NTS",
           1967
          ],
          [
           1967,
           "USA",
           "SHAFT",
           "UNDERGROUND",
           "NTS",
           1967
          ],
          [
           1967,
           "USA",
           "SHAFT",
           "UNDERGROUND",
           "NTS",
           1967
          ],
          [
           1967,
           "USA",
           "SHAFT",
           "UNDERGROUND",
           "NTS",
           1967
          ],
          [
           1967,
           "USA",
           "SHAFT",
           "UNDERGROUND",
           "NTS",
           1967
          ],
          [
           1967,
           "USA",
           "TUNNEL",
           "UNDERGROUND",
           "NTS",
           1967
          ],
          [
           1967,
           "USA",
           "SHAFT",
           "UNDERGROUND",
           "NTS",
           1967
          ],
          [
           1967,
           "USA",
           "SHAFT",
           "UNDERGROUND",
           "NTS",
           1967
          ],
          [
           1967,
           "USA",
           "SHAFT",
           "UNDERGROUND",
           "NTS",
           1967
          ],
          [
           1967,
           "USA",
           "SHAFT",
           "UNDERGROUND",
           "NTS",
           1967
          ],
          [
           1967,
           "USA",
           "SHAFT",
           "UNDERGROUND",
           "NTS",
           1967
          ],
          [
           1967,
           "USA",
           "SHAFT",
           "UNDERGROUND",
           "NTS",
           1967
          ],
          [
           1967,
           "USA",
           "SHAFT",
           "UNDERGROUND",
           "NTS",
           1967
          ],
          [
           1967,
           "USA",
           "TUNNEL",
           "UNDERGROUND",
           "NTS",
           1967
          ],
          [
           1967,
           "USA",
           "SHAFT",
           "UNDERGROUND",
           "NTS",
           1967
          ],
          [
           1967,
           "USA",
           "SHAFT",
           "UNDERGROUND",
           "NTS",
           1967
          ],
          [
           1967,
           "USA",
           "SHAFT",
           "UNDERGROUND",
           "NTS",
           1967
          ],
          [
           1967,
           "USA",
           "SHAFT",
           "UNDERGROUND",
           "NTS",
           1967
          ],
          [
           1967,
           "USA",
           "SHAFT",
           "UNDERGROUND",
           "NTS",
           1967
          ],
          [
           1967,
           "USA",
           "SHAFT",
           "UNDERGROUND",
           "NTS",
           1967
          ],
          [
           1967,
           "USA",
           "SHAFT",
           "UNDERGROUND",
           "NTS",
           1967
          ],
          [
           1967,
           "USA",
           "SHAFT",
           "UNDERGROUND",
           "NTS",
           1967
          ],
          [
           1967,
           "USA",
           "SHAFT",
           "UNDERGROUND",
           "NTS",
           1967
          ],
          [
           1967,
           "USA",
           "SHAFT",
           "UNDERGROUND",
           "NTS",
           1967
          ],
          [
           1967,
           "USA",
           "SHAFT",
           "UNDERGROUND",
           "NTS",
           1967
          ],
          [
           1968,
           "USA",
           "SHAFT",
           "UNDERGROUND",
           "NTS",
           1968
          ],
          [
           1968,
           "USA",
           "SHAFT",
           "UNDERGROUND",
           "NTS",
           1968
          ],
          [
           1968,
           "USA",
           "SHAFT",
           "UNDERGROUND",
           "NTS",
           1968
          ],
          [
           1968,
           "USA",
           "CRATER",
           "ATMOSPHERIC",
           "NTS",
           1968
          ],
          [
           1968,
           "USA",
           "SHAFT",
           "UNDERGROUND",
           "NTS",
           1968
          ],
          [
           1968,
           "USA",
           "SHAFT",
           "UNDERGROUND",
           "NTS",
           1968
          ],
          [
           1968,
           "USA",
           "SHAFT",
           "UNDERGROUND",
           "NTS",
           1968
          ],
          [
           1968,
           "USA",
           "TUNNEL",
           "UNDERGROUND",
           "NTS",
           1968
          ],
          [
           1968,
           "USA",
           "SHAFT",
           "UNDERGROUND",
           "NTS",
           1968
          ],
          [
           1968,
           "USA",
           "CRATER",
           "ATMOSPHERIC",
           "NTS",
           1968
          ],
          [
           1968,
           "USA",
           "SHAFT",
           "UNDERGROUND",
           "NTS",
           1968
          ],
          [
           1968,
           "USA",
           "SHAFT",
           "UNDERGROUND",
           "NTS",
           1968
          ],
          [
           1968,
           "USA",
           "SHAFT",
           "UNDERGROUND",
           "NTS",
           1968
          ],
          [
           1968,
           "USA",
           "SHAFT",
           "UNDERGROUND",
           "NTS",
           1968
          ],
          [
           1968,
           "USA",
           "SHAFT",
           "UNDERGROUND",
           "NTS",
           1968
          ],
          [
           1968,
           "USA",
           "SHAFT",
           "UNDERGROUND",
           "NTS",
           1968
          ],
          [
           1968,
           "USA",
           "SHAFT",
           "UNDERGROUND",
           "NTS",
           1968
          ],
          [
           1968,
           "USA",
           "SHAFT",
           "UNDERGROUND",
           "NTS",
           1968
          ],
          [
           1968,
           "USA",
           "SHAFT",
           "UNDERGROUND",
           "NTS",
           1968
          ],
          [
           1968,
           "USA",
           "SHAFT",
           "UNDERGROUND",
           "NTS",
           1968
          ],
          [
           1968,
           "USA",
           "SHAFT",
           "UNDERGROUND",
           "NTS",
           1968
          ],
          [
           1968,
           "USA",
           "SHAFT",
           "UNDERGROUND",
           "NTS",
           1968
          ],
          [
           1968,
           "USA",
           "SHAFT",
           "UNDERGROUND",
           "NTS",
           1968
          ],
          [
           1968,
           "USA",
           "SHAFT",
           "UNDERGROUND",
           "NTS",
           1968
          ],
          [
           1968,
           "USA",
           "SHAFT",
           "UNDERGROUND",
           "NTS",
           1968
          ],
          [
           1968,
           "USA",
           "SHAFT",
           "UNDERGROUND",
           "NTS",
           1968
          ],
          [
           1968,
           "USA",
           "SHAFT",
           "UNDERGROUND",
           "NTS",
           1968
          ],
          [
           1968,
           "USA",
           "SHAFT",
           "UNDERGROUND",
           "NTS",
           1968
          ],
          [
           1968,
           "USA",
           "SHAFT",
           "UNDERGROUND",
           "NTS",
           1968
          ],
          [
           1968,
           "USA",
           "SHAFT",
           "UNDERGROUND",
           "NTS",
           1968
          ],
          [
           1968,
           "USA",
           "SHAFT",
           "UNDERGROUND",
           "NTS",
           1968
          ],
          [
           1968,
           "USA",
           "SHAFT",
           "UNDERGROUND",
           "NTS",
           1968
          ],
          [
           1968,
           "USA",
           "SHAFT",
           "UNDERGROUND",
           "NTS",
           1968
          ],
          [
           1968,
           "USA",
           "SHAFT",
           "UNDERGROUND",
           "NTS",
           1968
          ],
          [
           1968,
           "USA",
           "SHAFT",
           "UNDERGROUND",
           "NTS",
           1968
          ],
          [
           1968,
           "USA",
           "SHAFT",
           "UNDERGROUND",
           "NTS",
           1968
          ],
          [
           1968,
           "USA",
           "SHAFT",
           "UNDERGROUND",
           "NTS",
           1968
          ],
          [
           1968,
           "USA",
           "TUNNEL",
           "UNDERGROUND",
           "NTS",
           1968
          ],
          [
           1968,
           "USA",
           "SHAFT",
           "UNDERGROUND",
           "NTS",
           1968
          ],
          [
           1968,
           "USA",
           "SHAFT",
           "UNDERGROUND",
           "NTS",
           1968
          ],
          [
           1968,
           "USA",
           "SHAFT",
           "UNDERGROUND",
           "NTS",
           1968
          ],
          [
           1968,
           "USA",
           "SHAFT",
           "UNDERGROUND",
           "NTS",
           1968
          ],
          [
           1968,
           "USA",
           "SHAFT",
           "UNDERGROUND",
           "NTS",
           1968
          ],
          [
           1968,
           "USA",
           "SHAFT",
           "UNDERGROUND",
           "NTS",
           1968
          ],
          [
           1968,
           "USA",
           "SHAFT",
           "UNDERGROUND",
           "NTS",
           1968
          ],
          [
           1968,
           "USA",
           "SHAFT",
           "UNDERGROUND",
           "NTS",
           1968
          ],
          [
           1968,
           "USA",
           "SHAFT",
           "UNDERGROUND",
           "NTS",
           1968
          ],
          [
           1968,
           "USA",
           "SHAFT",
           "UNDERGROUND",
           "NTS",
           1968
          ],
          [
           1968,
           "USA",
           "TUNNEL",
           "UNDERGROUND",
           "NTS",
           1968
          ],
          [
           1968,
           "USA",
           "SHAFT",
           "UNDERGROUND",
           "NTS",
           1968
          ],
          [
           1968,
           "USA",
           "CRATER",
           "ATMOSPHERIC",
           "NTS",
           1968
          ],
          [
           1968,
           "USA",
           "SHAFT",
           "UNDERGROUND",
           "NTS",
           1968
          ],
          [
           1968,
           "USA",
           "SHAFT",
           "UNDERGROUND",
           "NTS",
           1968
          ],
          [
           1968,
           "USA",
           "SHAFT",
           "UNDERGROUND",
           "NTS",
           1968
          ],
          [
           1968,
           "USA",
           "SHAFT",
           "UNDERGROUND",
           "NTS",
           1968
          ],
          [
           1969,
           "USA",
           "SHAFT",
           "UNDERGROUND",
           "NTS",
           1969
          ],
          [
           1969,
           "USA",
           "SHAFT",
           "UNDERGROUND",
           "NTS",
           1969
          ],
          [
           1969,
           "USA",
           "SHAFT",
           "UNDERGROUND",
           "NTS",
           1969
          ],
          [
           1969,
           "USA",
           "SHAFT",
           "UNDERGROUND",
           "NTS",
           1969
          ],
          [
           1969,
           "USA",
           "SHAFT",
           "UNDERGROUND",
           "NTS",
           1969
          ],
          [
           1969,
           "USA",
           "SHAFT",
           "UNDERGROUND",
           "NTS",
           1969
          ],
          [
           1969,
           "USA",
           "SHAFT",
           "UNDERGROUND",
           "NTS",
           1969
          ],
          [
           1969,
           "USA",
           "TUNNEL",
           "UNDERGROUND",
           "NTS",
           1969
          ],
          [
           1969,
           "USA",
           "SHAFT",
           "UNDERGROUND",
           "NTS",
           1969
          ],
          [
           1969,
           "USA",
           "SHAFT",
           "UNDERGROUND",
           "NTS",
           1969
          ],
          [
           1969,
           "USA",
           "SHAFT",
           "UNDERGROUND",
           "NTS",
           1969
          ],
          [
           1969,
           "USA",
           "SHAFT",
           "UNDERGROUND",
           "NTS",
           1969
          ],
          [
           1969,
           "USA",
           "SHAFT",
           "UNDERGROUND",
           "NTS",
           1969
          ],
          [
           1969,
           "USA",
           "SHAFT",
           "UNDERGROUND",
           "NTS",
           1969
          ],
          [
           1969,
           "USA",
           "SHAFT",
           "UNDERGROUND",
           "NTS",
           1969
          ],
          [
           1969,
           "USA",
           "SHAFT",
           "UNDERGROUND",
           "NTS",
           1969
          ],
          [
           1969,
           "USA",
           "SHAFT",
           "UNDERGROUND",
           "NTS",
           1969
          ],
          [
           1969,
           "USA",
           "SHAFT",
           "UNDERGROUND",
           "NTS",
           1969
          ],
          [
           1969,
           "USA",
           "SHAFT",
           "UNDERGROUND",
           "NTS",
           1969
          ],
          [
           1969,
           "USA",
           "SHAFT",
           "UNDERGROUND",
           "NTS",
           1969
          ],
          [
           1969,
           "USA",
           "SHAFT",
           "UNDERGROUND",
           "NTS",
           1969
          ],
          [
           1969,
           "USA",
           "SHAFT",
           "UNDERGROUND",
           "NTS",
           1969
          ],
          [
           1969,
           "USA",
           "SHAFT",
           "UNDERGROUND",
           "NTS",
           1969
          ],
          [
           1969,
           "USA",
           "TUNNEL",
           "UNDERGROUND",
           "NTS",
           1969
          ],
          [
           1969,
           "USA",
           "SHAFT",
           "UNDERGROUND",
           "NTS",
           1969
          ],
          [
           1969,
           "USA",
           "SHAFT",
           "UNDERGROUND",
           "NTS",
           1969
          ],
          [
           1969,
           "USA",
           "SHAFT",
           "UNDERGROUND",
           "NTS",
           1969
          ],
          [
           1969,
           "USA",
           "SHAFT",
           "UNDERGROUND",
           "NTS",
           1969
          ],
          [
           1969,
           "USA",
           "SHAFT",
           "UNDERGROUND",
           "NTS",
           1969
          ],
          [
           1969,
           "USA",
           "SHAFT",
           "UNDERGROUND",
           "NTS",
           1969
          ],
          [
           1969,
           "USA",
           "SHAFT",
           "UNDERGROUND",
           "NTS",
           1969
          ],
          [
           1969,
           "USA",
           "SHAFT",
           "UNDERGROUND",
           "NTS",
           1969
          ],
          [
           1969,
           "USA",
           "SHAFT",
           "UNDERGROUND",
           "NTS",
           1969
          ],
          [
           1969,
           "USA",
           "SHAFT",
           "UNDERGROUND",
           "NTS",
           1969
          ],
          [
           1969,
           "USA",
           "SHAFT",
           "UNDERGROUND",
           "NTS",
           1969
          ],
          [
           1969,
           "USA",
           "SHAFT",
           "UNDERGROUND",
           "NTS",
           1969
          ],
          [
           1969,
           "USA",
           "SHAFT",
           "UNDERGROUND",
           "NTS",
           1969
          ],
          [
           1969,
           "USA",
           "SHAFT",
           "UNDERGROUND",
           "NTS",
           1969
          ],
          [
           1969,
           "USA",
           "TUNNEL",
           "UNDERGROUND",
           "NTS",
           1969
          ],
          [
           1969,
           "USA",
           "SHAFT",
           "UNDERGROUND",
           "NTS",
           1969
          ],
          [
           1969,
           "USA",
           "SHAFT",
           "UNDERGROUND",
           "NTS",
           1969
          ],
          [
           1969,
           "USA",
           "SHAFT",
           "UNDERGROUND",
           "NTS",
           1969
          ],
          [
           1969,
           "USA",
           "SHAFT",
           "UNDERGROUND",
           "NTS",
           1969
          ],
          [
           1969,
           "USA",
           "SHAFT",
           "UNDERGROUND",
           "NTS",
           1969
          ],
          [
           1970,
           "USA",
           "SHAFT",
           "UNDERGROUND",
           "NTS",
           1970
          ],
          [
           1970,
           "USA",
           "SHAFT",
           "UNDERGROUND",
           "NTS",
           1970
          ],
          [
           1970,
           "USA",
           "SHAFT",
           "UNDERGROUND",
           "NTS",
           1970
          ],
          [
           1970,
           "USA",
           "SHAFT",
           "UNDERGROUND",
           "NTS",
           1970
          ],
          [
           1970,
           "USA",
           "SHAFT",
           "UNDERGROUND",
           "NTS",
           1970
          ],
          [
           1970,
           "USA",
           "TUNNEL",
           "UNDERGROUND",
           "NTS",
           1970
          ],
          [
           1970,
           "USA",
           "SHAFT",
           "UNDERGROUND",
           "NTS",
           1970
          ],
          [
           1970,
           "USA",
           "SHAFT",
           "UNDERGROUND",
           "NTS",
           1970
          ],
          [
           1970,
           "USA",
           "SHAFT",
           "UNDERGROUND",
           "NTS",
           1970
          ],
          [
           1970,
           "USA",
           "SHAFT",
           "UNDERGROUND",
           "NTS",
           1970
          ],
          [
           1970,
           "USA",
           "SHAFT",
           "UNDERGROUND",
           "NTS",
           1970
          ],
          [
           1970,
           "USA",
           "SHAFT",
           "UNDERGROUND",
           "NTS",
           1970
          ],
          [
           1970,
           "USA",
           "SHAFT",
           "UNDERGROUND",
           "NTS",
           1970
          ],
          [
           1970,
           "USA",
           "SHAFT",
           "UNDERGROUND",
           "NTS",
           1970
          ],
          [
           1970,
           "USA",
           "SHAFT",
           "UNDERGROUND",
           "NTS",
           1970
          ],
          [
           1970,
           "USA",
           "SHAFT",
           "UNDERGROUND",
           "NTS",
           1970
          ],
          [
           1970,
           "USA",
           "SHAFT",
           "UNDERGROUND",
           "NTS",
           1970
          ],
          [
           1970,
           "USA",
           "SHAFT",
           "UNDERGROUND",
           "NTS",
           1970
          ],
          [
           1970,
           "USA",
           "TUNNEL",
           "UNDERGROUND",
           "NTS",
           1970
          ],
          [
           1970,
           "USA",
           "TUNNEL",
           "UNDERGROUND",
           "NTS",
           1970
          ],
          [
           1970,
           "USA",
           "SHAFT",
           "UNDERGROUND",
           "NTS",
           1970
          ],
          [
           1970,
           "USA",
           "SHAFT",
           "UNDERGROUND",
           "NTS",
           1970
          ],
          [
           1970,
           "USA",
           "SHAFT",
           "UNDERGROUND",
           "NTS",
           1970
          ],
          [
           1970,
           "USA",
           "TUNNEL",
           "UNDERGROUND",
           "NTS",
           1970
          ],
          [
           1970,
           "USA",
           "SHAFT",
           "UNDERGROUND",
           "NTS",
           1970
          ],
          [
           1970,
           "USA",
           "SHAFT",
           "UNDERGROUND",
           "NTS",
           1970
          ],
          [
           1970,
           "USA",
           "SHAFT",
           "UNDERGROUND",
           "NTS",
           1970
          ],
          [
           1970,
           "USA",
           "SHAFT",
           "UNDERGROUND",
           "NTS",
           1970
          ],
          [
           1970,
           "USA",
           "SHAFT",
           "UNDERGROUND",
           "NTS",
           1970
          ],
          [
           1970,
           "USA",
           "SHAFT",
           "UNDERGROUND",
           "NTS",
           1970
          ],
          [
           1970,
           "USA",
           "SHAFT",
           "UNDERGROUND",
           "NTS",
           1970
          ],
          [
           1970,
           "USA",
           "SHAFT",
           "UNDERGROUND",
           "NTS",
           1970
          ],
          [
           1970,
           "USA",
           "SHAFT",
           "UNDERGROUND",
           "NTS",
           1970
          ],
          [
           1970,
           "USA",
           "SHAFT",
           "UNDERGROUND",
           "NTS",
           1970
          ],
          [
           1970,
           "USA",
           "SHAFT",
           "UNDERGROUND",
           "NTS",
           1970
          ],
          [
           1970,
           "USA",
           "SHAFT",
           "UNDERGROUND",
           "NTS",
           1970
          ],
          [
           1970,
           "USA",
           "SHAFT",
           "UNDERGROUND",
           "NTS",
           1970
          ],
          [
           1970,
           "USA",
           "SHAFT",
           "UNDERGROUND",
           "NTS",
           1970
          ],
          [
           1970,
           "USA",
           "SHAFT",
           "UNDERGROUND",
           "NTS",
           1970
          ],
          [
           1971,
           "USA",
           "SHAFT",
           "UNDERGROUND",
           "NTS",
           1971
          ],
          [
           1971,
           "USA",
           "SHAFT",
           "UNDERGROUND",
           "NTS",
           1971
          ],
          [
           1971,
           "USA",
           "SHAFT",
           "UNDERGROUND",
           "NTS",
           1971
          ],
          [
           1971,
           "USA",
           "SHAFT",
           "UNDERGROUND",
           "NTS",
           1971
          ],
          [
           1971,
           "USA",
           "TUNNEL",
           "UNDERGROUND",
           "NTS",
           1971
          ],
          [
           1971,
           "USA",
           "TUNNEL",
           "UNDERGROUND",
           "NTS",
           1971
          ],
          [
           1971,
           "USA",
           "SHAFT",
           "UNDERGROUND",
           "NTS",
           1971
          ],
          [
           1971,
           "USA",
           "SHAFT",
           "UNDERGROUND",
           "NTS",
           1971
          ],
          [
           1971,
           "USA",
           "SHAFT",
           "UNDERGROUND",
           "NTS",
           1971
          ],
          [
           1971,
           "USA",
           "SHAFT",
           "UNDERGROUND",
           "NTS",
           1971
          ],
          [
           1971,
           "USA",
           "SHAFT",
           "UNDERGROUND",
           "NTS",
           1971
          ],
          [
           1971,
           "USA",
           "SHAFT",
           "UNDERGROUND",
           "NTS",
           1971
          ],
          [
           1971,
           "USA",
           "SHAFT",
           "UNDERGROUND",
           "NTS",
           1971
          ],
          [
           1971,
           "USA",
           "SHAFT",
           "UNDERGROUND",
           "NTS",
           1971
          ],
          [
           1971,
           "USA",
           "SHAFT",
           "UNDERGROUND",
           "NTS",
           1971
          ],
          [
           1971,
           "USA",
           "SHAFT",
           "UNDERGROUND",
           "NTS",
           1971
          ],
          [
           1971,
           "USA",
           "SHAFT",
           "UNDERGROUND",
           "NTS",
           1971
          ],
          [
           1971,
           "USA",
           "SHAFT",
           "UNDERGROUND",
           "NTS",
           1971
          ],
          [
           1971,
           "USA",
           "SHAFT",
           "UNDERGROUND",
           "NTS",
           1971
          ],
          [
           1971,
           "USA",
           "SHAFT",
           "UNDERGROUND",
           "NTS",
           1971
          ],
          [
           1971,
           "USA",
           "SHAFT",
           "UNDERGROUND",
           "NTS",
           1971
          ],
          [
           1971,
           "USA",
           "SHAFT",
           "UNDERGROUND",
           "NTS",
           1971
          ],
          [
           1971,
           "USA",
           "SHAFT",
           "UNDERGROUND",
           "NTS",
           1971
          ],
          [
           1972,
           "USA",
           "SHAFT",
           "UNDERGROUND",
           "NTS",
           1972
          ],
          [
           1972,
           "USA",
           "SHAFT",
           "UNDERGROUND",
           "NTS",
           1972
          ],
          [
           1972,
           "USA",
           "SHAFT",
           "UNDERGROUND",
           "NTS",
           1972
          ],
          [
           1972,
           "USA",
           "SHAFT",
           "UNDERGROUND",
           "NTS",
           1972
          ],
          [
           1972,
           "USA",
           "SHAFT",
           "UNDERGROUND",
           "NTS",
           1972
          ],
          [
           1972,
           "USA",
           "SHAFT",
           "UNDERGROUND",
           "NTS",
           1972
          ],
          [
           1972,
           "USA",
           "SHAFT",
           "UNDERGROUND",
           "NTS",
           1972
          ],
          [
           1972,
           "USA",
           "TUNNEL",
           "UNDERGROUND",
           "NTS",
           1972
          ],
          [
           1972,
           "USA",
           "SHAFT",
           "UNDERGROUND",
           "NTS",
           1972
          ],
          [
           1972,
           "USA",
           "SHAFT",
           "UNDERGROUND",
           "NTS",
           1972
          ],
          [
           1972,
           "USA",
           "SHAFT",
           "UNDERGROUND",
           "NTS",
           1972
          ],
          [
           1972,
           "USA",
           "SHAFT",
           "UNDERGROUND",
           "NTS",
           1972
          ],
          [
           1972,
           "USA",
           "SHAFT",
           "UNDERGROUND",
           "NTS",
           1972
          ],
          [
           1972,
           "USA",
           "SHAFT",
           "UNDERGROUND",
           "NTS",
           1972
          ],
          [
           1972,
           "USA",
           "SHAFT",
           "UNDERGROUND",
           "NTS",
           1972
          ],
          [
           1972,
           "USA",
           "TUNNEL",
           "UNDERGROUND",
           "NTS",
           1972
          ],
          [
           1972,
           "USA",
           "SHAFT",
           "UNDERGROUND",
           "NTS",
           1972
          ],
          [
           1972,
           "USA",
           "SHAFT",
           "UNDERGROUND",
           "NTS",
           1972
          ],
          [
           1972,
           "USA",
           "SHAFT",
           "UNDERGROUND",
           "NTS",
           1972
          ],
          [
           1972,
           "USA",
           "SHAFT",
           "UNDERGROUND",
           "NTS",
           1972
          ],
          [
           1972,
           "USA",
           "SHAFT",
           "UNDERGROUND",
           "NTS",
           1972
          ],
          [
           1972,
           "USA",
           "SHAFT",
           "UNDERGROUND",
           "NTS",
           1972
          ],
          [
           1972,
           "USA",
           "SHAFT",
           "UNDERGROUND",
           "NTS",
           1972
          ],
          [
           1972,
           "USA",
           "SHAFT",
           "UNDERGROUND",
           "NTS",
           1972
          ],
          [
           1972,
           "USA",
           "SHAFT",
           "UNDERGROUND",
           "NTS",
           1972
          ],
          [
           1972,
           "USA",
           "SHAFT",
           "UNDERGROUND",
           "NTS",
           1972
          ],
          [
           1972,
           "USA",
           "SHAFT",
           "UNDERGROUND",
           "NTS",
           1972
          ],
          [
           1973,
           "USA",
           "SHAFT",
           "UNDERGROUND",
           "NTS",
           1973
          ],
          [
           1973,
           "USA",
           "SHAFT",
           "UNDERGROUND",
           "NTS",
           1973
          ],
          [
           1973,
           "USA",
           "SHAFT",
           "UNDERGROUND",
           "NTS",
           1973
          ],
          [
           1973,
           "USA",
           "SHAFT",
           "UNDERGROUND",
           "NTS",
           1973
          ],
          [
           1973,
           "USA",
           "SHAFT",
           "UNDERGROUND",
           "NTS",
           1973
          ],
          [
           1973,
           "USA",
           "SHAFT",
           "UNDERGROUND",
           "NTS",
           1973
          ],
          [
           1973,
           "USA",
           "SHAFT",
           "UNDERGROUND",
           "NTS",
           1973
          ],
          [
           1973,
           "USA",
           "SHAFT",
           "UNDERGROUND",
           "NTS",
           1973
          ],
          [
           1973,
           "USA",
           "SHAFT",
           "UNDERGROUND",
           "NTS",
           1973
          ],
          [
           1973,
           "USA",
           "SHAFT",
           "UNDERGROUND",
           "NTS",
           1973
          ],
          [
           1973,
           "USA",
           "TUNNEL",
           "UNDERGROUND",
           "NTS",
           1973
          ],
          [
           1973,
           "USA",
           "SHAFT",
           "UNDERGROUND",
           "NTS",
           1973
          ],
          [
           1973,
           "USA",
           "SHAFT",
           "UNDERGROUND",
           "NTS",
           1973
          ],
          [
           1973,
           "USA",
           "SHAFT",
           "UNDERGROUND",
           "NTS",
           1973
          ],
          [
           1973,
           "USA",
           "SHAFT",
           "UNDERGROUND",
           "NTS",
           1973
          ],
          [
           1973,
           "USA",
           "SHAFT",
           "UNDERGROUND",
           "NTS",
           1973
          ],
          [
           1973,
           "USA",
           "SHAFT",
           "UNDERGROUND",
           "NTS",
           1973
          ],
          [
           1973,
           "USA",
           "TUNNEL",
           "UNDERGROUND",
           "NTS",
           1973
          ],
          [
           1973,
           "USA",
           "SHAFT",
           "UNDERGROUND",
           "NTS",
           1973
          ],
          [
           1973,
           "USA",
           "SHAFT",
           "UNDERGROUND",
           "NTS",
           1973
          ],
          [
           1973,
           "USA",
           "SHAFT",
           "UNDERGROUND",
           "NTS",
           1973
          ],
          [
           1973,
           "USA",
           "SHAFT",
           "UNDERGROUND",
           "NTS",
           1973
          ],
          [
           1973,
           "USA",
           "SHAFT",
           "UNDERGROUND",
           "NTS",
           1973
          ],
          [
           1974,
           "USA",
           "SHAFT",
           "UNDERGROUND",
           "NTS",
           1974
          ],
          [
           1974,
           "USA",
           "SHAFT",
           "UNDERGROUND",
           "NTS",
           1974
          ],
          [
           1974,
           "USA",
           "SHAFT",
           "UNDERGROUND",
           "NTS",
           1974
          ],
          [
           1974,
           "USA",
           "SHAFT",
           "UNDERGROUND",
           "NTS",
           1974
          ],
          [
           1974,
           "USA",
           "SHAFT",
           "UNDERGROUND",
           "NTS",
           1974
          ],
          [
           1974,
           "USA",
           "SHAFT",
           "UNDERGROUND",
           "NTS",
           1974
          ],
          [
           1974,
           "USA",
           "SHAFT",
           "UNDERGROUND",
           "NTS",
           1974
          ],
          [
           1974,
           "USA",
           "SHAFT",
           "UNDERGROUND",
           "NTS",
           1974
          ],
          [
           1974,
           "UK",
           "SHAFT",
           "UNDERGROUND",
           "NTS",
           1974
          ],
          [
           1974,
           "USA",
           "SHAFT",
           "UNDERGROUND",
           "NTS",
           1974
          ],
          [
           1974,
           "USA",
           "TUNNEL",
           "UNDERGROUND",
           "NTS",
           1974
          ],
          [
           1974,
           "USA",
           "SHAFT",
           "UNDERGROUND",
           "NTS",
           1974
          ],
          [
           1974,
           "USA",
           "SHAFT",
           "UNDERGROUND",
           "NTS",
           1974
          ],
          [
           1974,
           "USA",
           "SHAFT",
           "UNDERGROUND",
           "NTS",
           1974
          ],
          [
           1974,
           "USA",
           "SHAFT",
           "UNDERGROUND",
           "NTS",
           1974
          ],
          [
           1974,
           "USA",
           "SHAFT",
           "UNDERGROUND",
           "NTS",
           1974
          ],
          [
           1974,
           "USA",
           "SHAFT",
           "UNDERGROUND",
           "NTS",
           1974
          ],
          [
           1974,
           "USA",
           "SHAFT",
           "UNDERGROUND",
           "NTS",
           1974
          ],
          [
           1974,
           "USA",
           "SHAFT",
           "UNDERGROUND",
           "NTS",
           1974
          ],
          [
           1974,
           "USA",
           "TUNNEL",
           "UNDERGROUND",
           "NTS",
           1974
          ],
          [
           1974,
           "USA",
           "SHAFT",
           "UNDERGROUND",
           "NTS",
           1974
          ],
          [
           1974,
           "USA",
           "SHAFT",
           "UNDERGROUND",
           "NTS",
           1974
          ],
          [
           1974,
           "USA",
           "SHAFT",
           "UNDERGROUND",
           "NTS",
           1974
          ],
          [
           1975,
           "USA",
           "SHAFT",
           "UNDERGROUND",
           "NTS",
           1975
          ],
          [
           1975,
           "USA",
           "SHAFT",
           "UNDERGROUND",
           "NTS",
           1975
          ],
          [
           1975,
           "USA",
           "SHAFT",
           "UNDERGROUND",
           "NTS",
           1975
          ],
          [
           1975,
           "USA",
           "SHAFT",
           "UNDERGROUND",
           "NTS",
           1975
          ],
          [
           1975,
           "USA",
           "SHAFT",
           "UNDERGROUND",
           "NTS",
           1975
          ],
          [
           1975,
           "USA",
           "TUNNEL",
           "UNDERGROUND",
           "NTS",
           1975
          ],
          [
           1975,
           "USA",
           "SHAFT",
           "UNDERGROUND",
           "NTS",
           1975
          ],
          [
           1975,
           "USA",
           "SHAFT",
           "UNDERGROUND",
           "NTS",
           1975
          ],
          [
           1975,
           "USA",
           "SHAFT",
           "UNDERGROUND",
           "NTS",
           1975
          ],
          [
           1975,
           "USA",
           "SHAFT",
           "UNDERGROUND",
           "NTS",
           1975
          ],
          [
           1975,
           "USA",
           "SHAFT",
           "UNDERGROUND",
           "NTS",
           1975
          ],
          [
           1975,
           "USA",
           "SHAFT",
           "UNDERGROUND",
           "NTS",
           1975
          ],
          [
           1975,
           "USA",
           "SHAFT",
           "UNDERGROUND",
           "NTS",
           1975
          ],
          [
           1975,
           "USA",
           "SHAFT",
           "UNDERGROUND",
           "NTS",
           1975
          ],
          [
           1975,
           "USA",
           "SHAFT",
           "UNDERGROUND",
           "NTS",
           1975
          ],
          [
           1975,
           "USA",
           "SHAFT",
           "UNDERGROUND",
           "NTS",
           1975
          ],
          [
           1975,
           "USA",
           "TUNNEL",
           "UNDERGROUND",
           "NTS",
           1975
          ],
          [
           1975,
           "USA",
           "SHAFT",
           "UNDERGROUND",
           "NTS",
           1975
          ],
          [
           1975,
           "USA",
           "SHAFT",
           "UNDERGROUND",
           "NTS",
           1975
          ],
          [
           1975,
           "USA",
           "SHAFT",
           "UNDERGROUND",
           "NTS",
           1975
          ],
          [
           1975,
           "USA",
           "SHAFT",
           "UNDERGROUND",
           "NTS",
           1975
          ],
          [
           1975,
           "USA",
           "SHAFT",
           "UNDERGROUND",
           "NTS",
           1975
          ],
          [
           1976,
           "USA",
           "SHAFT",
           "UNDERGROUND",
           "NTS",
           1976
          ],
          [
           1976,
           "USA",
           "SHAFT",
           "UNDERGROUND",
           "NTS",
           1976
          ],
          [
           1976,
           "USA",
           "SHAFT",
           "UNDERGROUND",
           "NTS",
           1976
          ],
          [
           1976,
           "USA",
           "SHAFT",
           "UNDERGROUND",
           "NTS",
           1976
          ],
          [
           1976,
           "USA",
           "SHAFT",
           "UNDERGROUND",
           "NTS",
           1976
          ],
          [
           1976,
           "USA",
           "SHAFT",
           "UNDERGROUND",
           "NTS",
           1976
          ],
          [
           1976,
           "USA",
           "SHAFT",
           "UNDERGROUND",
           "NTS",
           1976
          ],
          [
           1976,
           "USA",
           "SHAFT",
           "UNDERGROUND",
           "NTS",
           1976
          ],
          [
           1976,
           "USA",
           "SHAFT",
           "UNDERGROUND",
           "NTS",
           1976
          ],
          [
           1976,
           "USA",
           "SHAFT",
           "UNDERGROUND",
           "NTS",
           1976
          ],
          [
           1976,
           "USA",
           "TUNNEL",
           "UNDERGROUND",
           "NTS",
           1976
          ],
          [
           1976,
           "USA",
           "SHAFT",
           "UNDERGROUND",
           "NTS",
           1976
          ],
          [
           1976,
           "USA",
           "SHAFT",
           "UNDERGROUND",
           "NTS",
           1976
          ],
          [
           1976,
           "UK",
           "SHAFT",
           "UNDERGROUND",
           "NTS",
           1976
          ],
          [
           1976,
           "USA",
           "SHAFT",
           "UNDERGROUND",
           "NTS",
           1976
          ],
          [
           1976,
           "USA",
           "SHAFT",
           "UNDERGROUND",
           "NTS",
           1976
          ],
          [
           1976,
           "USA",
           "SHAFT",
           "UNDERGROUND",
           "NTS",
           1976
          ],
          [
           1976,
           "USA",
           "SHAFT",
           "UNDERGROUND",
           "NTS",
           1976
          ],
          [
           1976,
           "USA",
           "SHAFT",
           "UNDERGROUND",
           "NTS",
           1976
          ],
          [
           1976,
           "USA",
           "SHAFT",
           "UNDERGROUND",
           "NTS",
           1976
          ],
          [
           1976,
           "USA",
           "SHAFT",
           "UNDERGROUND",
           "NTS",
           1976
          ],
          [
           1977,
           "USA",
           "SHAFT",
           "UNDERGROUND",
           "NTS",
           1977
          ],
          [
           1977,
           "USA",
           "SHAFT",
           "UNDERGROUND",
           "NTS",
           1977
          ],
          [
           1977,
           "USA",
           "SHAFT",
           "UNDERGROUND",
           "NTS",
           1977
          ],
          [
           1977,
           "USA",
           "SHAFT",
           "UNDERGROUND",
           "NTS",
           1977
          ],
          [
           1977,
           "USA",
           "SHAFT",
           "UNDERGROUND",
           "NTS",
           1977
          ],
          [
           1977,
           "USA",
           "SHAFT",
           "UNDERGROUND",
           "NTS",
           1977
          ],
          [
           1977,
           "USA",
           "SHAFT",
           "UNDERGROUND",
           "NTS",
           1977
          ],
          [
           1977,
           "USA",
           "SHAFT",
           "UNDERGROUND",
           "NTS",
           1977
          ],
          [
           1977,
           "USA",
           "SHAFT",
           "UNDERGROUND",
           "NTS",
           1977
          ],
          [
           1977,
           "USA",
           "SHAFT",
           "UNDERGROUND",
           "NTS",
           1977
          ],
          [
           1977,
           "USA",
           "SHAFT",
           "UNDERGROUND",
           "NTS",
           1977
          ],
          [
           1977,
           "USA",
           "SHAFT",
           "UNDERGROUND",
           "NTS",
           1977
          ],
          [
           1977,
           "USA",
           "SHAFT",
           "UNDERGROUND",
           "NTS",
           1977
          ],
          [
           1977,
           "USA",
           "SHAFT",
           "UNDERGROUND",
           "NTS",
           1977
          ],
          [
           1977,
           "USA",
           "SHAFT",
           "UNDERGROUND",
           "NTS",
           1977
          ],
          [
           1977,
           "USA",
           "TUNNEL",
           "UNDERGROUND",
           "NTS",
           1977
          ],
          [
           1977,
           "USA",
           "SHAFT",
           "UNDERGROUND",
           "NTS",
           1977
          ],
          [
           1977,
           "USA",
           "SHAFT",
           "UNDERGROUND",
           "NTS",
           1977
          ],
          [
           1977,
           "USA",
           "SHAFT",
           "UNDERGROUND",
           "NTS",
           1977
          ],
          [
           1977,
           "USA",
           "SHAFT",
           "UNDERGROUND",
           "NTS",
           1977
          ],
          [
           1978,
           "USA",
           "SHAFT",
           "UNDERGROUND",
           "NTS",
           1978
          ],
          [
           1978,
           "USA",
           "SHAFT",
           "UNDERGROUND",
           "NTS",
           1978
          ],
          [
           1978,
           "USA",
           "SHAFT",
           "UNDERGROUND",
           "NTS",
           1978
          ],
          [
           1978,
           "USA",
           "SHAFT",
           "UNDERGROUND",
           "NTS",
           1978
          ],
          [
           1978,
           "USA",
           "SHAFT",
           "UNDERGROUND",
           "NTS",
           1978
          ],
          [
           1978,
           "UK",
           "SHAFT",
           "UNDERGROUND",
           "NTS",
           1978
          ],
          [
           1978,
           "USA",
           "SHAFT",
           "UNDERGROUND",
           "NTS",
           1978
          ],
          [
           1978,
           "USA",
           "SHAFT",
           "UNDERGROUND",
           "NTS",
           1978
          ],
          [
           1978,
           "USA",
           "SHAFT",
           "UNDERGROUND",
           "NTS",
           1978
          ],
          [
           1978,
           "USA",
           "SHAFT",
           "UNDERGROUND",
           "NTS",
           1978
          ],
          [
           1978,
           "USA",
           "SHAFT",
           "UNDERGROUND",
           "NTS",
           1978
          ],
          [
           1978,
           "USA",
           "SHAFT",
           "UNDERGROUND",
           "NTS",
           1978
          ],
          [
           1978,
           "USA",
           "SHAFT",
           "UNDERGROUND",
           "NTS",
           1978
          ],
          [
           1978,
           "USA",
           "TUNNEL",
           "UNDERGROUND",
           "NTS",
           1978
          ],
          [
           1978,
           "USA",
           "SHAFT",
           "UNDERGROUND",
           "NTS",
           1978
          ],
          [
           1978,
           "USA",
           "SHAFT",
           "UNDERGROUND",
           "NTS",
           1978
          ],
          [
           1978,
           "USA",
           "SHAFT",
           "UNDERGROUND",
           "NTS",
           1978
          ],
          [
           1978,
           "USA",
           "SHAFT",
           "UNDERGROUND",
           "NTS",
           1978
          ],
          [
           1978,
           "UK",
           "SHAFT",
           "UNDERGROUND",
           "NTS",
           1978
          ],
          [
           1978,
           "USA",
           "SHAFT",
           "UNDERGROUND",
           "NTS",
           1978
          ],
          [
           1978,
           "USA",
           "SHAFT",
           "UNDERGROUND",
           "NTS",
           1978
          ],
          [
           1979,
           "USA",
           "SHAFT",
           "UNDERGROUND",
           "NTS",
           1979
          ],
          [
           1979,
           "USA",
           "SHAFT",
           "UNDERGROUND",
           "NTS",
           1979
          ],
          [
           1979,
           "USA",
           "SHAFT",
           "UNDERGROUND",
           "NTS",
           1979
          ],
          [
           1979,
           "USA",
           "SHAFT",
           "UNDERGROUND",
           "NTS",
           1979
          ],
          [
           1979,
           "USA",
           "SHAFT",
           "UNDERGROUND",
           "NTS",
           1979
          ],
          [
           1979,
           "USA",
           "SHAFT",
           "UNDERGROUND",
           "NTS",
           1979
          ],
          [
           1979,
           "USA",
           "SHAFT",
           "UNDERGROUND",
           "NTS",
           1979
          ],
          [
           1979,
           "USA",
           "SHAFT",
           "UNDERGROUND",
           "NTS",
           1979
          ],
          [
           1979,
           "USA",
           "SHAFT",
           "UNDERGROUND",
           "NTS",
           1979
          ],
          [
           1979,
           "USA",
           "SHAFT",
           "UNDERGROUND",
           "NTS",
           1979
          ],
          [
           1979,
           "UK",
           "SHAFT",
           "UNDERGROUND",
           "NTS",
           1979
          ],
          [
           1979,
           "USA",
           "SHAFT",
           "UNDERGROUND",
           "NTS",
           1979
          ],
          [
           1979,
           "USA",
           "SHAFT",
           "UNDERGROUND",
           "NTS",
           1979
          ],
          [
           1979,
           "USA",
           "SHAFT",
           "UNDERGROUND",
           "NTS",
           1979
          ],
          [
           1979,
           "USA",
           "SHAFT",
           "UNDERGROUND",
           "NTS",
           1979
          ],
          [
           1979,
           "USA",
           "SHAFT",
           "UNDERGROUND",
           "NTS",
           1979
          ],
          [
           1980,
           "USA",
           "SHAFT",
           "UNDERGROUND",
           "NTS",
           1980
          ],
          [
           1980,
           "USA",
           "SHAFT",
           "UNDERGROUND",
           "NTS",
           1980
          ],
          [
           1980,
           "USA",
           "SHAFT",
           "UNDERGROUND",
           "NTS",
           1980
          ],
          [
           1980,
           "USA",
           "SHAFT",
           "UNDERGROUND",
           "NTS",
           1980
          ],
          [
           1980,
           "UK",
           "SHAFT",
           "UNDERGROUND",
           "NTS",
           1980
          ],
          [
           1980,
           "USA",
           "SHAFT",
           "UNDERGROUND",
           "NTS",
           1980
          ],
          [
           1980,
           "USA",
           "SHAFT",
           "UNDERGROUND",
           "NTS",
           1980
          ],
          [
           1980,
           "USA",
           "SHAFT",
           "UNDERGROUND",
           "NTS",
           1980
          ],
          [
           1980,
           "USA",
           "SHAFT",
           "UNDERGROUND",
           "NTS",
           1980
          ],
          [
           1980,
           "USA",
           "SHAFT",
           "UNDERGROUND",
           "NTS",
           1980
          ],
          [
           1980,
           "USA",
           "SHAFT",
           "UNDERGROUND",
           "NTS",
           1980
          ],
          [
           1980,
           "USA",
           "SHAFT",
           "UNDERGROUND",
           "NTS",
           1980
          ],
          [
           1980,
           "USA",
           "SHAFT",
           "UNDERGROUND",
           "NTS",
           1980
          ],
          [
           1980,
           "UK",
           "SHAFT",
           "UNDERGROUND",
           "NTS",
           1980
          ],
          [
           1980,
           "USA",
           "TUNNEL",
           "UNDERGROUND",
           "NTS",
           1980
          ],
          [
           1980,
           "USA",
           "SHAFT",
           "UNDERGROUND",
           "NTS",
           1980
          ],
          [
           1980,
           "UK",
           "SHAFT",
           "UNDERGROUND",
           "NTS",
           1980
          ],
          [
           1981,
           "USA",
           "SHAFT",
           "UNDERGROUND",
           "NTS",
           1981
          ],
          [
           1981,
           "USA",
           "SHAFT",
           "UNDERGROUND",
           "NTS",
           1981
          ],
          [
           1981,
           "USA",
           "SHAFT",
           "UNDERGROUND",
           "NTS",
           1981
          ],
          [
           1981,
           "USA",
           "SHAFT",
           "UNDERGROUND",
           "NTS",
           1981
          ],
          [
           1981,
           "USA",
           "SHAFT",
           "UNDERGROUND",
           "NTS",
           1981
          ],
          [
           1981,
           "USA",
           "SHAFT",
           "UNDERGROUND",
           "NTS",
           1981
          ],
          [
           1981,
           "USA",
           "SHAFT",
           "UNDERGROUND",
           "NTS",
           1981
          ],
          [
           1981,
           "USA",
           "SHAFT",
           "UNDERGROUND",
           "NTS",
           1981
          ],
          [
           1981,
           "USA",
           "SHAFT",
           "UNDERGROUND",
           "NTS",
           1981
          ],
          [
           1981,
           "USA",
           "SHAFT",
           "UNDERGROUND",
           "NTS",
           1981
          ],
          [
           1981,
           "USA",
           "SHAFT",
           "UNDERGROUND",
           "NTS",
           1981
          ],
          [
           1981,
           "USA",
           "SHAFT",
           "UNDERGROUND",
           "NTS",
           1981
          ],
          [
           1981,
           "USA",
           "SHAFT",
           "UNDERGROUND",
           "NTS",
           1981
          ],
          [
           1981,
           "USA",
           "SHAFT",
           "UNDERGROUND",
           "NTS",
           1981
          ],
          [
           1981,
           "UK",
           "SHAFT",
           "UNDERGROUND",
           "NTS",
           1981
          ],
          [
           1981,
           "USA",
           "SHAFT",
           "UNDERGROUND",
           "NTS",
           1981
          ],
          [
           1981,
           "USA",
           "SHAFT",
           "UNDERGROUND",
           "NTS",
           1981
          ],
          [
           1982,
           "USA",
           "SHAFT",
           "UNDERGROUND",
           "NTS",
           1982
          ],
          [
           1982,
           "USA",
           "SHAFT",
           "UNDERGROUND",
           "NTS",
           1982
          ],
          [
           1982,
           "USA",
           "SHAFT",
           "UNDERGROUND",
           "NTS",
           1982
          ],
          [
           1982,
           "USA",
           "SHAFT",
           "UNDERGROUND",
           "NTS",
           1982
          ],
          [
           1982,
           "UK",
           "SHAFT",
           "UNDERGROUND",
           "NTS",
           1982
          ],
          [
           1982,
           "USA",
           "SHAFT",
           "UNDERGROUND",
           "NTS",
           1982
          ],
          [
           1982,
           "USA",
           "SHAFT",
           "UNDERGROUND",
           "NTS",
           1982
          ],
          [
           1982,
           "USA",
           "SHAFT",
           "UNDERGROUND",
           "NTS",
           1982
          ],
          [
           1982,
           "USA",
           "SHAFT",
           "UNDERGROUND",
           "NTS",
           1982
          ],
          [
           1982,
           "USA",
           "SHAFT",
           "UNDERGROUND",
           "NTS",
           1982
          ],
          [
           1982,
           "USA",
           "SHAFT",
           "UNDERGROUND",
           "NTS",
           1982
          ],
          [
           1982,
           "USA",
           "SHAFT",
           "UNDERGROUND",
           "NTS",
           1982
          ],
          [
           1982,
           "USA",
           "SHAFT",
           "UNDERGROUND",
           "NTS",
           1982
          ],
          [
           1982,
           "USA",
           "TUNNEL",
           "UNDERGROUND",
           "NTS",
           1982
          ],
          [
           1982,
           "USA",
           "TUNNEL",
           "UNDERGROUND",
           "NTS",
           1982
          ],
          [
           1982,
           "USA",
           "SHAFT",
           "UNDERGROUND",
           "NTS",
           1982
          ],
          [
           1982,
           "USA",
           "SHAFT",
           "UNDERGROUND",
           "NTS",
           1982
          ],
          [
           1982,
           "USA",
           "SHAFT",
           "UNDERGROUND",
           "NTS",
           1982
          ],
          [
           1982,
           "USA",
           "SHAFT",
           "UNDERGROUND",
           "NTS",
           1982
          ],
          [
           1983,
           "USA",
           "SHAFT",
           "UNDERGROUND",
           "NTS",
           1983
          ],
          [
           1983,
           "USA",
           "SHAFT",
           "UNDERGROUND",
           "NTS",
           1983
          ],
          [
           1983,
           "USA",
           "SHAFT",
           "UNDERGROUND",
           "NTS",
           1983
          ],
          [
           1983,
           "USA",
           "SHAFT",
           "UNDERGROUND",
           "NTS",
           1983
          ],
          [
           1983,
           "UK",
           "SHAFT",
           "UNDERGROUND",
           "NTS",
           1983
          ],
          [
           1983,
           "USA",
           "SHAFT",
           "UNDERGROUND",
           "NTS",
           1983
          ],
          [
           1983,
           "USA",
           "SHAFT",
           "UNDERGROUND",
           "NTS",
           1983
          ],
          [
           1983,
           "USA",
           "TUNNEL",
           "UNDERGROUND",
           "NTS",
           1983
          ],
          [
           1983,
           "USA",
           "SHAFT",
           "UNDERGROUND",
           "NTS",
           1983
          ],
          [
           1983,
           "USA",
           "SHAFT",
           "UNDERGROUND",
           "NTS",
           1983
          ],
          [
           1983,
           "USA",
           "SHAFT",
           "UNDERGROUND",
           "NTS",
           1983
          ],
          [
           1983,
           "USA",
           "SHAFT",
           "UNDERGROUND",
           "NTS",
           1983
          ],
          [
           1983,
           "USA",
           "SHAFT",
           "UNDERGROUND",
           "NTS",
           1983
          ],
          [
           1983,
           "USA",
           "TUNNEL",
           "UNDERGROUND",
           "NTS",
           1983
          ],
          [
           1983,
           "USA",
           "SHAFT",
           "UNDERGROUND",
           "NTS",
           1983
          ],
          [
           1983,
           "USA",
           "SHAFT",
           "UNDERGROUND",
           "NTS",
           1983
          ],
          [
           1983,
           "USA",
           "SHAFT",
           "UNDERGROUND",
           "NTS",
           1983
          ],
          [
           1983,
           "USA",
           "SHAFT",
           "UNDERGROUND",
           "NTS",
           1983
          ],
          [
           1983,
           "USA",
           "SHAFT",
           "UNDERGROUND",
           "NTS",
           1983
          ],
          [
           1984,
           "USA",
           "SHAFT",
           "UNDERGROUND",
           "NTS",
           1984
          ],
          [
           1984,
           "USA",
           "TUNNEL",
           "UNDERGROUND",
           "NTS",
           1984
          ],
          [
           1984,
           "USA",
           "SHAFT",
           "UNDERGROUND",
           "NTS",
           1984
          ],
          [
           1984,
           "USA",
           "SHAFT",
           "UNDERGROUND",
           "NTS",
           1984
          ],
          [
           1984,
           "UK",
           "SHAFT",
           "UNDERGROUND",
           "NTS",
           1984
          ],
          [
           1984,
           "USA",
           "SHAFT",
           "UNDERGROUND",
           "NTS",
           1984
          ],
          [
           1984,
           "USA",
           "SHAFT",
           "UNDERGROUND",
           "NTS",
           1984
          ],
          [
           1984,
           "USA",
           "SHAFT",
           "UNDERGROUND",
           "NTS",
           1984
          ],
          [
           1984,
           "USA",
           "SHAFT",
           "UNDERGROUND",
           "NTS",
           1984
          ],
          [
           1984,
           "USA",
           "SHAFT",
           "UNDERGROUND",
           "NTS",
           1984
          ],
          [
           1984,
           "USA",
           "SHAFT",
           "UNDERGROUND",
           "NTS",
           1984
          ],
          [
           1984,
           "USA",
           "SHAFT",
           "UNDERGROUND",
           "NTS",
           1984
          ],
          [
           1984,
           "USA",
           "SHAFT",
           "UNDERGROUND",
           "NTS",
           1984
          ],
          [
           1984,
           "USA",
           "SHAFT",
           "UNDERGROUND",
           "NTS",
           1984
          ],
          [
           1984,
           "USA",
           "SHAFT",
           "UNDERGROUND",
           "NTS",
           1984
          ],
          [
           1984,
           "USA",
           "SHAFT",
           "UNDERGROUND",
           "NTS",
           1984
          ],
          [
           1984,
           "USA",
           "SHAFT",
           "UNDERGROUND",
           "NTS",
           1984
          ],
          [
           1984,
           "UK",
           "SHAFT",
           "UNDERGROUND",
           "NTS",
           1984
          ],
          [
           1984,
           "USA",
           "SHAFT",
           "UNDERGROUND",
           "NTS",
           1984
          ],
          [
           1984,
           "USA",
           "SHAFT",
           "UNDERGROUND",
           "NTS",
           1984
          ],
          [
           1985,
           "USA",
           "SHAFT",
           "UNDERGROUND",
           "NTS",
           1985
          ],
          [
           1985,
           "USA",
           "SHAFT",
           "UNDERGROUND",
           "NTS",
           1985
          ],
          [
           1985,
           "USA",
           "SHAFT",
           "UNDERGROUND",
           "NTS",
           1985
          ],
          [
           1985,
           "USA",
           "TUNNEL",
           "UNDERGROUND",
           "NTS",
           1985
          ],
          [
           1985,
           "USA",
           "SHAFT",
           "UNDERGROUND",
           "NTS",
           1985
          ],
          [
           1985,
           "USA",
           "SHAFT",
           "UNDERGROUND",
           "NTS",
           1985
          ],
          [
           1985,
           "USA",
           "SHAFT",
           "UNDERGROUND",
           "NTS",
           1985
          ],
          [
           1985,
           "USA",
           "SHAFT",
           "UNDERGROUND",
           "NTS",
           1985
          ],
          [
           1985,
           "USA",
           "SHAFT",
           "UNDERGROUND",
           "NTS",
           1985
          ],
          [
           1985,
           "USA",
           "SHAFT",
           "UNDERGROUND",
           "NTS",
           1985
          ],
          [
           1985,
           "USA",
           "SHAFT",
           "UNDERGROUND",
           "NTS",
           1985
          ],
          [
           1985,
           "USA",
           "SHAFT",
           "UNDERGROUND",
           "NTS",
           1985
          ],
          [
           1985,
           "USA",
           "TUNNEL",
           "UNDERGROUND",
           "NTS",
           1985
          ],
          [
           1985,
           "USA",
           "TUNNEL",
           "UNDERGROUND",
           "NTS",
           1985
          ],
          [
           1985,
           "USA",
           "SHAFT",
           "UNDERGROUND",
           "NTS",
           1985
          ],
          [
           1985,
           "USA",
           "SHAFT",
           "UNDERGROUND",
           "NTS",
           1985
          ],
          [
           1985,
           "UK",
           "SHAFT",
           "UNDERGROUND",
           "NTS",
           1985
          ],
          [
           1985,
           "USA",
           "SHAFT",
           "UNDERGROUND",
           "NTS",
           1985
          ],
          [
           1986,
           "USA",
           "SHAFT",
           "UNDERGROUND",
           "NTS",
           1986
          ],
          [
           1986,
           "USA",
           "TUNNEL",
           "UNDERGROUND",
           "NTS",
           1986
          ],
          [
           1986,
           "USA",
           "SHAFT",
           "UNDERGROUND",
           "NTS",
           1986
          ],
          [
           1986,
           "USA",
           "SHAFT",
           "UNDERGROUND",
           "NTS",
           1986
          ],
          [
           1986,
           "USA",
           "SHAFT",
           "UNDERGROUND",
           "NTS",
           1986
          ],
          [
           1986,
           "USA",
           "SHAFT",
           "UNDERGROUND",
           "NTS",
           1986
          ],
          [
           1986,
           "UK",
           "SHAFT",
           "UNDERGROUND",
           "NTS",
           1986
          ],
          [
           1986,
           "USA",
           "SHAFT",
           "UNDERGROUND",
           "NTS",
           1986
          ],
          [
           1986,
           "USA",
           "SHAFT",
           "UNDERGROUND",
           "NTS",
           1986
          ],
          [
           1986,
           "USA",
           "SHAFT",
           "UNDERGROUND",
           "NTS",
           1986
          ],
          [
           1986,
           "USA",
           "SHAFT",
           "UNDERGROUND",
           "NTS",
           1986
          ],
          [
           1986,
           "USA",
           "SHAFT",
           "UNDERGROUND",
           "NTS",
           1986
          ],
          [
           1986,
           "USA",
           "SHAFT",
           "UNDERGROUND",
           "NTS",
           1986
          ],
          [
           1986,
           "USA",
           "SHAFT",
           "UNDERGROUND",
           "NTS",
           1986
          ],
          [
           1986,
           "USA",
           "SHAFT",
           "UNDERGROUND",
           "NTS",
           1986
          ],
          [
           1987,
           "USA",
           "SHAFT",
           "UNDERGROUND",
           "NTS",
           1987
          ],
          [
           1987,
           "USA",
           "SHAFT",
           "UNDERGROUND",
           "NTS",
           1987
          ],
          [
           1987,
           "USA",
           "TUNNEL",
           "UNDERGROUND",
           "NTS",
           1987
          ],
          [
           1987,
           "USA",
           "SHAFT",
           "UNDERGROUND",
           "NTS",
           1987
          ],
          [
           1987,
           "USA",
           "SHAFT",
           "UNDERGROUND",
           "NTS",
           1987
          ],
          [
           1987,
           "USA",
           "SHAFT",
           "UNDERGROUND",
           "NTS",
           1987
          ],
          [
           1987,
           "USA",
           "SHAFT",
           "UNDERGROUND",
           "NTS",
           1987
          ],
          [
           1987,
           "USA",
           "TUNNEL",
           "UNDERGROUND",
           "NTS",
           1987
          ],
          [
           1987,
           "USA",
           "SHAFT",
           "UNDERGROUND",
           "NTS",
           1987
          ],
          [
           1987,
           "UK",
           "SHAFT",
           "UNDERGROUND",
           "NTS",
           1987
          ],
          [
           1987,
           "USA",
           "SHAFT",
           "UNDERGROUND",
           "NTS",
           1987
          ],
          [
           1987,
           "USA",
           "SHAFT",
           "UNDERGROUND",
           "NTS",
           1987
          ],
          [
           1987,
           "USA",
           "SHAFT",
           "UNDERGROUND",
           "NTS",
           1987
          ],
          [
           1987,
           "USA",
           "SHAFT",
           "UNDERGROUND",
           "NTS",
           1987
          ],
          [
           1987,
           "USA",
           "TUNNEL",
           "UNDERGROUND",
           "NTS",
           1987
          ],
          [
           1988,
           "USA",
           "SHAFT",
           "UNDERGROUND",
           "NTS",
           1988
          ],
          [
           1988,
           "USA",
           "SHAFT",
           "UNDERGROUND",
           "NTS",
           1988
          ],
          [
           1988,
           "USA",
           "SHAFT",
           "UNDERGROUND",
           "NTS",
           1988
          ],
          [
           1988,
           "USA",
           "SHAFT",
           "UNDERGROUND",
           "NTS",
           1988
          ],
          [
           1988,
           "USA",
           "SHAFT",
           "UNDERGROUND",
           "NTS",
           1988
          ],
          [
           1988,
           "USA",
           "SHAFT",
           "UNDERGROUND",
           "NTS",
           1988
          ],
          [
           1988,
           "USA",
           "SHAFT",
           "UNDERGROUND",
           "NTS",
           1988
          ],
          [
           1988,
           "USA",
           "SHAFT",
           "UNDERGROUND",
           "NTS",
           1988
          ],
          [
           1988,
           "USA",
           "SHAFT",
           "UNDERGROUND",
           "NTS",
           1988
          ],
          [
           1988,
           "USA",
           "SHAFT",
           "UNDERGROUND",
           "NTS",
           1988
          ],
          [
           1988,
           "USA",
           "SHAFT",
           "UNDERGROUND",
           "NTS",
           1988
          ],
          [
           1988,
           "USA",
           "SHAFT",
           "UNDERGROUND",
           "NTS",
           1988
          ],
          [
           1988,
           "USA",
           "SHAFT",
           "UNDERGROUND",
           "NTS",
           1988
          ],
          [
           1988,
           "USA",
           "SHAFT",
           "UNDERGROUND",
           "NTS",
           1988
          ],
          [
           1988,
           "USA",
           "TUNNEL",
           "UNDERGROUND",
           "NTS",
           1988
          ],
          [
           1989,
           "USA",
           "SHAFT",
           "UNDERGROUND",
           "NTS",
           1989
          ],
          [
           1989,
           "USA",
           "SHAFT",
           "UNDERGROUND",
           "NTS",
           1989
          ],
          [
           1989,
           "USA",
           "SHAFT",
           "UNDERGROUND",
           "NTS",
           1989
          ],
          [
           1989,
           "USA",
           "SHAFT",
           "UNDERGROUND",
           "NTS",
           1989
          ],
          [
           1989,
           "USA",
           "SHAFT",
           "UNDERGROUND",
           "NTS",
           1989
          ],
          [
           1989,
           "USA",
           "SHAFT",
           "UNDERGROUND",
           "NTS",
           1989
          ],
          [
           1989,
           "USA",
           "SHAFT",
           "UNDERGROUND",
           "NTS",
           1989
          ],
          [
           1989,
           "USA",
           "TUNNEL",
           "UNDERGROUND",
           "NTS",
           1989
          ],
          [
           1989,
           "USA",
           "SHAFT",
           "UNDERGROUND",
           "NTS",
           1989
          ],
          [
           1989,
           "USA",
           "SHAFT",
           "UNDERGROUND",
           "NTS",
           1989
          ],
          [
           1989,
           "UK",
           "SHAFT",
           "UNDERGROUND",
           "NTS",
           1989
          ],
          [
           1989,
           "USA",
           "SHAFT",
           "UNDERGROUND",
           "NTS",
           1989
          ],
          [
           1990,
           "USA",
           "SHAFT",
           "UNDERGROUND",
           "NTS",
           1990
          ],
          [
           1990,
           "USA",
           "SHAFT",
           "UNDERGROUND",
           "NTS",
           1990
          ],
          [
           1990,
           "USA",
           "SHAFT",
           "UNDERGROUND",
           "NTS",
           1990
          ],
          [
           1990,
           "USA",
           "SHAFT",
           "UNDERGROUND",
           "NTS",
           1990
          ],
          [
           1990,
           "USA",
           "TUNNEL",
           "UNDERGROUND",
           "NTS",
           1990
          ],
          [
           1990,
           "USA",
           "SHAFT",
           "UNDERGROUND",
           "NTS",
           1990
          ],
          [
           1990,
           "USA",
           "SHAFT",
           "UNDERGROUND",
           "NTS",
           1990
          ],
          [
           1990,
           "USA",
           "SHAFT",
           "UNDERGROUND",
           "NTS",
           1990
          ],
          [
           1990,
           "UK",
           "SHAFT",
           "UNDERGROUND",
           "NTS",
           1990
          ],
          [
           1991,
           "USA",
           "SHAFT",
           "UNDERGROUND",
           "NTS",
           1991
          ],
          [
           1991,
           "USA",
           "SHAFT",
           "UNDERGROUND",
           "NTS",
           1991
          ],
          [
           1991,
           "USA",
           "SHAFT",
           "UNDERGROUND",
           "NTS",
           1991
          ],
          [
           1991,
           "USA",
           "SHAFT",
           "UNDERGROUND",
           "NTS",
           1991
          ],
          [
           1991,
           "USA",
           "SHAFT",
           "UNDERGROUND",
           "NTS",
           1991
          ],
          [
           1991,
           "USA",
           "TUNNEL",
           "UNDERGROUND",
           "NTS",
           1991
          ],
          [
           1991,
           "USA",
           "SHAFT",
           "UNDERGROUND",
           "NTS",
           1991
          ],
          [
           1991,
           "UK",
           "SHAFT",
           "UNDERGROUND",
           "NTS",
           1991
          ],
          [
           1992,
           "USA",
           "SHAFT",
           "UNDERGROUND",
           "NTS",
           1992
          ],
          [
           1992,
           "USA",
           "TUNNEL",
           "UNDERGROUND",
           "NTS",
           1992
          ],
          [
           1992,
           "USA",
           "SHAFT",
           "UNDERGROUND",
           "NTS",
           1992
          ],
          [
           1992,
           "USA",
           "SHAFT",
           "UNDERGROUND",
           "NTS",
           1992
          ],
          [
           1992,
           "USA",
           "TUNNEL",
           "UNDERGROUND",
           "NTS",
           1992
          ],
          [
           1992,
           "USA",
           "SHAFT",
           "UNDERGROUND",
           "NTS",
           1992
          ]
         ],
         "hoverlabel": {
          "namelength": 0
         },
         "hovertemplate": "region=%{customdata[4]}<br>x=%{x}<br>y=%{y}<br>year=%{customdata[5]}<br>country=%{customdata[1]}<br>type=%{customdata[2]}<br>type_cat=%{customdata[3]}",
         "legendgroup": "region=NTS",
         "marker": {
          "color": "#FECB52",
          "symbol": "circle"
         },
         "mode": "markers",
         "name": "region=NTS",
         "showlegend": true,
         "type": "scattergl",
         "uid": "ca46b0a8-d396-4cf9-9ca9-a5922d5e6400",
         "x": [
          -6.890990257263184,
          -6.899757385253906,
          -6.910024166107178,
          -6.903582572937012,
          -6.8785624504089355,
          -6.928850173950195,
          -6.900265216827393,
          -6.906647682189941,
          -6.904460906982422,
          -6.894350051879883,
          -6.9084153175354,
          -6.898007392883301,
          -6.7446513175964355,
          -6.759697437286377,
          -6.768383026123047,
          -6.744706630706787,
          -6.759721755981445,
          -6.72022819519043,
          -6.6980390548706055,
          -6.7365193367004395,
          -6.567066669464111,
          -6.562803268432617,
          -6.592250347137451,
          -6.563228130340576,
          -6.570645809173584,
          -6.569457530975342,
          -6.53890323638916,
          -6.563592910766602,
          -6.557415962219238,
          -6.5719428062438965,
          -6.562145709991455,
          -5.779457092285156,
          -5.783916473388672,
          -5.7650065422058105,
          -5.73465633392334,
          -5.777542591094971,
          -5.773773670196533,
          -5.780789375305176,
          -5.77617073059082,
          -5.766567707061768,
          -4.945301055908203,
          -5.77493143081665,
          -5.770881652832031,
          -5.776797771453857,
          -5.768500328063965,
          -5.772706031799316,
          -5.774572372436523,
          -5.775278568267822,
          -5.140385627746582,
          -4.72068977355957,
          -4.700887203216553,
          -4.743466854095459,
          -4.682894229888916,
          -4.6891865730285645,
          -4.7093634605407715,
          -4.673330783843994,
          -4.665999412536621,
          -4.334980010986328,
          -4.715347766876221,
          -4.738530158996582,
          11.379721641540527,
          -4.673022747039795,
          11.385348320007324,
          -4.695006847381592,
          -4.682966232299805,
          11.386545181274414,
          -4.701024532318115,
          -4.691095352172852,
          -4.702392578125,
          -4.714372158050537,
          -4.695533275604248,
          -4.703725814819336,
          -4.696246147155762,
          -4.671078205108643,
          3.358086109161377,
          -4.698246479034424,
          -4.657511234283447,
          -4.717522621154785,
          11.375650405883789,
          -4.703359603881836,
          11.38412857055664,
          11.384123802185059,
          11.383896827697754,
          11.38063907623291,
          -3.8336057662963867,
          11.380637168884277,
          11.38399887084961,
          11.38457202911377,
          11.383947372436523,
          -3.9186995029449463,
          -3.802182912826538,
          11.399261474609375,
          3.38590407371521,
          -3.7733287811279297,
          -3.9091763496398926,
          11.383318901062012,
          -3.7930757999420166,
          3.333192825317383,
          -3.7861509323120117,
          -3.778069257736206,
          -3.7974116802215576,
          11.383566856384277,
          -3.837019205093384,
          -3.8865108489990234,
          -3.7791130542755127,
          -3.785142183303833,
          -3.784668445587158,
          -3.7735140323638916,
          -3.796623706817627,
          -3.901136636734009,
          -3.906402349472046,
          -3.7810218334198,
          11.381646156311035,
          -3.7992780208587646,
          -3.7685189247131348,
          -5.173884391784668,
          11.382702827453613,
          -3.786215305328369,
          -3.7891829013824463,
          3.367863893508911,
          3.4100780487060547,
          29.802169799804688,
          29.827877044677734,
          29.846466064453125,
          3.345905303955078,
          3.357692003250122,
          29.868261337280273,
          3.381246566772461,
          29.83478355407715,
          29.740169525146484,
          30.032718658447266,
          3.3584086894989014,
          29.672916412353516,
          3.3709921836853027,
          3.3542022705078125,
          29.99399757385254,
          29.682497024536133,
          30.032005310058594,
          26.478858947753906,
          -4.17158842086792,
          29.952207565307617,
          29.7037410736084,
          30.038419723510742,
          29.682584762573242,
          3.355100393295288,
          29.84593963623047,
          30.018688201904297,
          30.039737701416016,
          3.366929054260254,
          30.107831954956055,
          30.01300048828125,
          30.048412322998047,
          30.024682998657227,
          29.711854934692383,
          29.66042709350586,
          30.036170959472656,
          30.022262573242188,
          3.3239352703094482,
          29.92417335510254,
          30.06244468688965,
          3.3571953773498535,
          30.033884048461914,
          3.3570892810821533,
          -5.969627380371094,
          -6.0590691566467285,
          -6.044443607330322,
          29.919469833374023,
          -6.050375461578369,
          -6.046754837036133,
          30.005937576293945,
          30.019927978515625,
          30.031694412231445,
          30.018693923950195,
          30.048603057861328,
          30.033954620361328,
          30.03406524658203,
          29.77924346923828,
          30.03500747680664,
          30.03426742553711,
          30.032245635986328,
          29.903560638427734,
          30.021648406982422,
          30.00981330871582,
          30.00752830505371,
          30.02793312072754,
          30.019620895385742,
          26.477195739746094,
          30.019994735717773,
          30.0216064453125,
          30.022003173828125,
          25.779634475708008,
          3.3459503650665283,
          25.701019287109375,
          25.755876541137695,
          25.785873413085938,
          25.751190185546875,
          25.749183654785156,
          25.73322296142578,
          25.71136474609375,
          25.789913177490234,
          25.786325454711914,
          25.724971771240234,
          25.761192321777344,
          25.76889991760254,
          25.760255813598633,
          25.705291748046875,
          25.766035079956055,
          25.72517204284668,
          25.740997314453125,
          25.765527725219727,
          25.762893676757812,
          25.75589370727539,
          25.751445770263672,
          25.77273178100586,
          25.768573760986328,
          25.80171012878418,
          25.74867057800293,
          25.763694763183594,
          25.760631561279297,
          25.706388473510742,
          25.781763076782227,
          25.775056838989258,
          25.79534149169922,
          25.723854064941406,
          3.386056423187256,
          25.77525520324707,
          25.769020080566406,
          25.78455924987793,
          25.772876739501953,
          25.763248443603516,
          25.779937744140625,
          25.769636154174805,
          28.306114196777344,
          28.387462615966797,
          28.376636505126953,
          28.406822204589844,
          28.41252899169922,
          28.43312644958496,
          28.37264060974121,
          28.312408447265625,
          28.375564575195312,
          28.37193489074707,
          28.39339256286621,
          28.352243423461914,
          28.34919548034668,
          28.296031951904297,
          28.36874771118164,
          28.37615966796875,
          28.382041931152344,
          28.376535415649414,
          28.38558578491211,
          28.39064598083496,
          28.378559112548828,
          28.363590240478516,
          28.424678802490234,
          28.315271377563477,
          25.57674789428711,
          28.394939422607422,
          28.383024215698242,
          28.4373836517334,
          28.410642623901367,
          28.397411346435547,
          28.408124923706055,
          28.39885711669922,
          28.387054443359375,
          25.577260971069336,
          28.388805389404297,
          28.396671295166016,
          28.388896942138672,
          28.38959503173828,
          28.389799118041992,
          28.41564178466797,
          28.303510665893555,
          28.390993118286133,
          28.4206485748291,
          28.44551658630371,
          28.39745330810547,
          28.42886734008789,
          24.13272476196289,
          24.105052947998047,
          24.127233505249023,
          24.111772537231445,
          24.086509704589844,
          24.11935043334961,
          24.12932777404785,
          24.10033416748047,
          24.12386703491211,
          24.086626052856445,
          24.100887298583984,
          -6.0387043952941895,
          3.352069854736328,
          24.133041381835938,
          24.135379791259766,
          24.10513687133789,
          24.15830421447754,
          24.10786247253418,
          24.10888671875,
          24.137020111083984,
          24.13758087158203,
          24.1195125579834,
          24.119394302368164,
          24.10817527770996,
          24.119728088378906,
          24.12131690979004,
          3.4354302883148193,
          24.122947692871094,
          24.12318992614746,
          24.10654640197754,
          3.2183749675750732,
          3.367309331893921,
          24.120519638061523,
          24.12015151977539,
          24.12184715270996,
          3.463984727859497,
          24.120512008666992,
          3.439171314239502,
          26.543935775756836,
          26.50172996520996,
          26.57021141052246,
          26.569765090942383,
          26.572113037109375,
          26.576555252075195,
          26.515016555786133,
          26.59822654724121,
          26.554101943969727,
          26.576814651489258,
          26.538652420043945,
          26.56045913696289,
          26.61629295349121,
          26.566448211669922,
          26.573715209960938,
          26.546878814697266,
          26.562047958374023,
          26.554948806762695,
          26.535085678100586,
          26.558338165283203,
          3.1858437061309814,
          3.4390478134155273,
          3.1659348011016846,
          3.494518995285034,
          3.474506378173828,
          3.309079647064209,
          3.4615883827209473,
          3.471390724182129,
          26.57419776916504,
          26.543659210205078,
          26.372304916381836,
          26.55599594116211,
          3.430668354034424,
          26.545040130615234,
          26.544546127319336,
          26.55595588684082,
          3.184638500213623,
          26.55656623840332,
          26.54068374633789,
          26.572378158569336,
          26.55575942993164,
          26.553442001342773,
          26.538034439086914,
          26.55646324157715,
          3.167541265487671,
          26.55906867980957,
          3.4273300170898438,
          19.796770095825195,
          3.3523306846618652,
          3.4117085933685303,
          19.826854705810547,
          3.159555435180664,
          3.1742067337036133,
          3.495208740234375,
          19.799419403076172,
          19.8103084564209,
          19.818912506103516,
          19.793394088745117,
          19.79006576538086,
          19.779943466186523,
          19.792911529541016,
          19.774900436401367,
          3.2459523677825928,
          3.454310655593872,
          3.477018117904663,
          3.4414846897125244,
          19.80681037902832,
          19.797300338745117,
          19.81047248840332,
          3.1694111824035645,
          19.797758102416992,
          3.2533299922943115,
          19.77957534790039,
          19.796669006347656,
          3.1369097232818604,
          19.818517684936523,
          3.2360000610351562,
          3.267648935317993,
          19.81223487854004,
          19.79587173461914,
          3.467592477798462,
          3.4563112258911133,
          19.7973575592041,
          19.797298431396484,
          19.796672821044922,
          3.294292688369751,
          19.796907424926758,
          19.797122955322266,
          17.996049880981445,
          17.959985733032227,
          18.036725997924805,
          -6.0058159828186035,
          18.005409240722656,
          3.463599681854248,
          18.028188705444336,
          3.188774585723877,
          18.004446029663086,
          -5.9983015060424805,
          18.022077560424805,
          3.3897809982299805,
          18.00575065612793,
          18.00551414489746,
          3.154897451400757,
          3.161128044128418,
          17.990236282348633,
          3.4142398834228516,
          17.967119216918945,
          18.02155113220215,
          3.177690029144287,
          17.99449920654297,
          18.00469207763672,
          18.0046329498291,
          3.3763515949249268,
          18.03725242614746,
          18.017953872680664,
          3.274752378463745,
          17.986122131347656,
          17.937131881713867,
          18.000843048095703,
          17.996158599853516,
          18.00600814819336,
          17.943288803100586,
          3.364004611968994,
          3.4138681888580322,
          3.2066454887390137,
          3.1838290691375732,
          18.004575729370117,
          18.005765914916992,
          18.005163192749023,
          17.99750328063965,
          18.008697509765625,
          18.006399154663086,
          17.96636390686035,
          18.006593704223633,
          17.99215316772461,
          18.007793426513672,
          3.16776180267334,
          18.006202697753906,
          -5.9693193435668945,
          18.006723403930664,
          18.007095336914062,
          18.00582504272461,
          3.415862560272217,
          15.786762237548828,
          3.198676824569702,
          15.787374496459961,
          3.131166696548462,
          15.78906536102295,
          15.797555923461914,
          15.796194076538086,
          15.801604270935059,
          15.80742073059082,
          15.803380966186523,
          3.0558457374572754,
          3.1272099018096924,
          15.79444694519043,
          3.185349702835083,
          3.1662678718566895,
          3.249892234802246,
          15.825254440307617,
          3.1419320106506348,
          15.817708015441895,
          3.038769245147705,
          15.820554733276367,
          15.942163467407227,
          3.2392311096191406,
          15.787718772888184,
          15.803120613098145,
          15.816595077514648,
          15.787809371948242,
          3.3361074924468994,
          15.80337905883789,
          15.80351734161377,
          3.3327436447143555,
          15.800453186035156,
          15.82576847076416,
          15.864930152893066,
          15.848254203796387,
          15.834028244018555,
          3.1501388549804688,
          15.79967975616455,
          3.0617570877075195,
          15.81481647491455,
          15.803648948669434,
          3.2131452560424805,
          3.085198163986206,
          15.947474479675293,
          11.887404441833496,
          11.881542205810547,
          3.1826670169830322,
          11.897453308105469,
          11.899476051330566,
          11.911375999450684,
          11.898625373840332,
          3.146204948425293,
          3.027984380722046,
          11.888290405273438,
          11.903337478637695,
          11.907293319702148,
          -4.526735305786133,
          3.026972770690918,
          3.033745527267456,
          11.88885498046875,
          3.0177440643310547,
          11.891386985778809,
          3.089146614074707,
          11.875893592834473,
          11.929763793945312,
          11.877248764038086,
          3.1164028644561768,
          3.0672662258148193,
          3.1860849857330322,
          11.887354850769043,
          11.887247085571289,
          11.887356758117676,
          11.887236595153809,
          3.2004575729370117,
          11.887212753295898,
          11.900402069091797,
          11.871621131896973,
          11.887330055236816,
          3.1245152950286865,
          3.084185838699341,
          11.887371063232422,
          3.2110583782196045,
          3.0858919620513916,
          3.050488233566284,
          3.0235910415649414,
          8.5984525680542,
          3.114173650741577,
          8.56898307800293,
          8.584378242492676,
          3.11142897605896,
          8.597580909729004,
          8.607232093811035,
          8.597949981689453,
          8.598026275634766,
          8.598067283630371,
          3.1218361854553223,
          8.609769821166992,
          2.9801812171936035,
          8.598615646362305,
          2.979046106338501,
          8.598686218261719,
          8.59867000579834,
          8.59861946105957,
          3.034822702407837,
          8.598651885986328,
          8.598638534545898,
          13.135017395019531,
          13.17187213897705,
          13.153060913085938,
          13.148866653442383,
          13.14851188659668,
          2.932955265045166,
          13.12750244140625,
          2.9098644256591797,
          13.126093864440918,
          2.925090789794922,
          2.9178338050842285,
          13.15509033203125,
          13.13247013092041,
          13.174674034118652,
          13.143966674804688,
          2.916905641555786,
          13.14193058013916,
          13.150541305541992,
          -12.274003982543945,
          2.9363901615142822,
          13.17490291595459,
          13.14588451385498,
          13.153083801269531,
          13.144452095031738,
          13.151611328125,
          2.9033429622650146,
          13.132369041442871,
          13.199651718139648,
          2.7707173824310303,
          13.190978050231934,
          13.172111511230469,
          2.917942762374878,
          2.682299852371216,
          13.148412704467773,
          13.193598747253418,
          13.169108390808105,
          13.157783508300781,
          2.8561007976531982,
          2.666316509246826,
          2.8034067153930664,
          2.8771579265594482,
          13.151009559631348,
          13.164453506469727,
          13.160505294799805,
          2.8826513290405273,
          2.8894615173339844,
          2.8870928287506104,
          13.176152229309082,
          13.158373832702637,
          13.162043571472168,
          13.145113945007324,
          2.6052393913269043,
          13.170280456542969,
          13.147430419921875,
          13.16118049621582,
          13.186528205871582,
          13.170392990112305,
          2.8579487800598145,
          2.4692959785461426,
          13.161392211914062,
          2.7994062900543213,
          2.639812707901001,
          13.162378311157227,
          2.8469278812408447,
          2.6320078372955322,
          2.8641672134399414,
          -12.338095664978027,
          13.162972450256348,
          13.155099868774414,
          13.131342887878418,
          13.1616849899292,
          13.163813591003418,
          2.858489751815796,
          13.12465763092041,
          13.1245756149292,
          13.154278755187988,
          2.588169813156128,
          2.5741071701049805,
          2.755270481109619,
          2.8159995079040527,
          2.697556257247925,
          13.084921836853027,
          2.574270725250244,
          2.594726085662842,
          13.1527099609375,
          13.151365280151367,
          2.6327273845672607,
          13.046172142028809,
          2.816741466522217,
          2.7991762161254883,
          -11.981614112854004,
          2.8145508766174316,
          2.650736093521118,
          2.7399849891662598,
          -12.329245567321777,
          -12.03172492980957,
          2.5617825984954834,
          2.545893669128418,
          -11.944464683532715,
          2.5882694721221924,
          13.150774002075195,
          2.5907421112060547,
          -11.934353828430176,
          -12.18378734588623,
          -12.287771224975586,
          2.7024261951446533,
          13.151336669921875,
          2.5927369594573975,
          -12.393056869506836,
          13.147693634033203,
          13.14667797088623,
          13.141204833984375,
          2.664477825164795,
          13.152249336242676,
          13.147917747497559,
          2.5521364212036133,
          10.611062049865723,
          10.590177536010742,
          -11.983424186706543,
          -12.316061019897461,
          2.527991533279419,
          10.585283279418945,
          10.583372116088867,
          -12.000144958496094,
          10.572627067565918,
          10.579689979553223,
          2.544862985610962,
          10.576639175415039,
          2.573390245437622,
          2.5897703170776367,
          2.549795389175415,
          2.6129934787750244,
          -12.302190780639648,
          2.585421085357666,
          2.5238442420959473,
          10.572601318359375,
          2.5082812309265137,
          2.537409543991089,
          2.513374090194702,
          2.524704933166504,
          10.484869003295898,
          2.2292797565460205,
          -12.316909790039062,
          10.468929290771484,
          10.457247734069824,
          10.481742858886719,
          2.531111717224121,
          -12.310547828674316,
          2.4896485805511475,
          2.549823522567749,
          2.475297451019287,
          -12.303424835205078,
          10.497163772583008,
          2.522507905960083,
          2.190786123275757,
          10.483885765075684,
          2.496938467025757,
          2.4493799209594727,
          -12.321715354919434,
          2.413775682449341,
          2.4694764614105225,
          10.35694694519043,
          -12.324992179870605,
          2.503690242767334,
          2.3812196254730225,
          2.4493746757507324,
          2.4287068843841553,
          2.137211322784424,
          -12.35495376586914,
          10.37393569946289,
          -12.328519821166992,
          2.487457036972046,
          10.384535789489746,
          2.398874044418335,
          2.477965831756592,
          2.3573873043060303,
          -12.356404304504395,
          -12.384053230285645,
          2.4156482219696045,
          10.029376983642578,
          2.163708448410034,
          2.4339308738708496,
          -12.330443382263184,
          2.4324612617492676,
          2.3868935108184814,
          10.034432411193848,
          2.1554901599884033,
          2.3845276832580566,
          2.4534406661987305,
          2.1299612522125244,
          2.0170669555664062,
          9.949285507202148,
          9.959432601928711,
          9.963197708129883,
          2.3826005458831787,
          -12.313699722290039,
          9.968249320983887,
          9.967168807983398,
          9.929078102111816,
          9.962044715881348,
          9.956558227539062,
          9.953795433044434,
          2.263422727584839,
          2.276634931564331,
          -12.33749771118164,
          2.289386034011841,
          2.381765842437744,
          -12.328981399536133,
          2.0193183422088623,
          1.9560821056365967,
          2.297501564025879,
          1.9539762735366821,
          2.3165581226348877,
          -12.274256706237793,
          9.865612030029297,
          -12.296279907226562,
          2.3290562629699707,
          -12.305824279785156,
          9.851649284362793,
          9.877237319946289,
          2.233445882797241,
          2.2123420238494873,
          2.1917574405670166,
          9.865234375,
          2.312053680419922,
          2.2978157997131348,
          9.813979148864746,
          2.2691283226013184,
          1.9662137031555176,
          1.8781100511550903,
          2.1072916984558105,
          2.273202419281006,
          2.3228189945220947,
          9.754029273986816,
          2.3059942722320557,
          2.315296173095703,
          2.2655348777770996,
          2.284071922302246,
          1.9273128509521484,
          9.814234733581543,
          9.758260726928711,
          9.82662582397461,
          9.767319679260254,
          9.761054992675781,
          1.982438087463379,
          2.206679344177246,
          2.1903514862060547,
          1.8024379014968872,
          2.2305233478546143,
          1.8246221542358398,
          2.2184581756591797,
          2.291511297225952,
          1.8384695053100586,
          2.1928200721740723,
          2.2379066944122314,
          1.8840216398239136,
          2.2344539165496826,
          2.1895482540130615,
          9.70805549621582,
          1.9542936086654663,
          2.2164602279663086,
          2.2230026721954346,
          1.8194189071655273,
          1.975803017616272,
          2.2270984649658203,
          2.0008950233459473,
          1.705694556236267,
          -12.289077758789062,
          1.9370880126953125,
          -12.285798072814941,
          1.7111620903015137,
          2.0420310497283936,
          2.0994014739990234,
          1.7535338401794434,
          8.97543716430664,
          2.062246084213257,
          2.011660575866699,
          2.0740671157836914,
          8.924933433532715,
          1.993560552597046,
          8.942490577697754,
          1.8136471509933472,
          1.717663288116455,
          1.6796776056289673,
          1.7239463329315186,
          8.82718563079834,
          1.6887892484664917,
          1.9622551202774048,
          1.6453701257705688,
          1.739173412322998,
          1.6709212064743042,
          2.048511505126953,
          8.810215950012207,
          8.83997631072998,
          1.6343404054641724,
          8.8785400390625,
          1.6348501443862915,
          1.6710407733917236,
          8.797152519226074,
          1.9212740659713745,
          -12.321602821350098,
          1.6380373239517212,
          8.809292793273926,
          -12.340049743652344,
          8.782499313354492,
          8.799857139587402,
          8.797096252441406,
          1.7216542959213257,
          -12.344793319702148,
          -12.353354454040527,
          1.6226134300231934,
          8.807039260864258,
          8.798823356628418,
          1.543456792831421,
          8.755410194396973,
          1.625888466835022,
          8.646982192993164,
          1.5482405424118042,
          8.650327682495117,
          8.656532287597656,
          -12.367147445678711,
          -12.37106704711914,
          8.745810508728027,
          1.5558923482894897,
          -12.371082305908203,
          8.755758285522461,
          8.753156661987305,
          1.5499221086502075,
          1.5640041828155518,
          8.480031967163086,
          1.547227144241333,
          1.6409810781478882,
          8.46829605102539,
          8.484627723693848,
          1.5546979904174805,
          8.491095542907715,
          1.570962905883789,
          8.470145225524902,
          1.7335944175720215,
          8.476527214050293,
          -12.328568458557129,
          8.435821533203125,
          -12.342963218688965,
          8.423352241516113,
          1.593673825263977,
          8.431169509887695,
          8.415396690368652,
          -12.341814994812012,
          1.7395811080932617,
          1.5539796352386475,
          -12.3346529006958,
          1.5507651567459106,
          8.394608497619629,
          8.425603866577148,
          8.398894309997559,
          1.5355292558670044,
          1.609358549118042,
          1.557173490524292,
          8.386460304260254,
          8.387722969055176,
          8.389077186584473,
          1.5588375329971313,
          8.389272689819336
         ],
         "xaxis": "x",
         "y": [
          -16.823129653930664,
          -16.827783584594727,
          -16.831897735595703,
          -16.82303237915039,
          -16.80900764465332,
          -16.83879852294922,
          -16.822423934936523,
          -16.825292587280273,
          -16.840341567993164,
          -16.83149528503418,
          -16.83472442626953,
          -16.83559799194336,
          -16.921852111816406,
          -16.91324806213379,
          -16.876819610595703,
          -16.91635513305664,
          -16.907852172851562,
          -16.929821014404297,
          -16.950149536132812,
          -16.919803619384766,
          -17.003196716308594,
          -17.001821517944336,
          -16.99749755859375,
          -16.98650360107422,
          -17.002643585205078,
          -16.99910545349121,
          -17.017532348632812,
          -17.005189895629883,
          -17.0013370513916,
          -16.998571395874023,
          -16.99684715270996,
          -17.09389305114746,
          -17.091354370117188,
          -17.088584899902344,
          -17.088808059692383,
          -17.09444808959961,
          -17.08979034423828,
          -17.092021942138672,
          -17.091588973999023,
          -17.09025001525879,
          -16.755205154418945,
          -17.090259552001953,
          -17.08937644958496,
          -17.090351104736328,
          -17.09001350402832,
          -17.08989143371582,
          -17.08980941772461,
          -17.089879989624023,
          -16.934118270874023,
          -16.847137451171875,
          -16.880462646484375,
          -16.8904972076416,
          -16.818103790283203,
          -16.82822036743164,
          -16.874908447265625,
          -16.81905174255371,
          -16.81208610534668,
          -16.77933120727539,
          -16.83008575439453,
          -16.861473083496094,
          -1.377448320388794,
          -16.821823120117188,
          -1.3659393787384033,
          -16.83181381225586,
          -16.818763732910156,
          -1.3675785064697266,
          -16.84752082824707,
          -16.823829650878906,
          -16.834766387939453,
          -16.853145599365234,
          -16.854045867919922,
          -16.84671401977539,
          -16.840436935424805,
          -16.818490982055664,
          -10.56151294708252,
          -16.822452545166016,
          -16.81135368347168,
          -16.835155487060547,
          -1.3559151887893677,
          -16.86433219909668,
          -1.3665180206298828,
          -1.366530418395996,
          -1.3669228553771973,
          -1.3689512014389038,
          -16.77018928527832,
          -1.3701953887939453,
          -1.366436243057251,
          -1.3658223152160645,
          -1.3665764331817627,
          -16.674589157104492,
          -16.799842834472656,
          -1.3535420894622803,
          -10.503778457641602,
          -16.83213996887207,
          -16.681310653686523,
          -1.3676166534423828,
          -16.81035614013672,
          -10.578661918640137,
          -16.81488037109375,
          -16.824661254882812,
          -16.812885284423828,
          -1.3670709133148193,
          -16.724817276000977,
          -16.705434799194336,
          -16.83368492126465,
          -16.81795310974121,
          -16.819456100463867,
          -16.825122833251953,
          -16.80600357055664,
          -16.68939781188965,
          -16.68381118774414,
          -16.82127571105957,
          -1.3694005012512207,
          -16.810152053833008,
          -16.830730438232422,
          -16.85183334350586,
          -1.36850106716156,
          -16.817699432373047,
          -16.812135696411133,
          -10.54259967803955,
          -10.465913772583008,
          12.605439186096191,
          12.601223945617676,
          12.585865020751953,
          -10.534247398376465,
          -10.565675735473633,
          12.569730758666992,
          -10.565078735351562,
          12.528108596801758,
          12.593506813049316,
          12.547074317932129,
          -10.551962852478027,
          12.61938190460205,
          -10.605770111083984,
          -10.55263614654541,
          12.517165184020996,
          12.615302085876465,
          12.489714622497559,
          3.302968978881836,
          -16.557966232299805,
          12.56010627746582,
          12.608614921569824,
          12.47623348236084,
          12.609514236450195,
          -10.57030963897705,
          12.577171325683594,
          12.494678497314453,
          12.472390174865723,
          -10.552550315856934,
          12.424093246459961,
          12.515660285949707,
          12.474950790405273,
          12.491927146911621,
          12.611235618591309,
          12.6283597946167,
          12.483307838439941,
          12.491355895996094,
          -10.548243522644043,
          12.522287368774414,
          12.451993942260742,
          -10.657241821289062,
          12.485032081604004,
          -10.54927921295166,
          -14.547758102416992,
          -14.480877876281738,
          -14.484291076660156,
          12.5580472946167,
          -14.48971939086914,
          -14.490791320800781,
          12.508066177368164,
          12.491941452026367,
          12.484824180603027,
          12.492799758911133,
          12.491579055786133,
          12.48692512512207,
          12.478899955749512,
          12.617801666259766,
          12.477157592773438,
          12.477715492248535,
          12.483380317687988,
          12.550743103027344,
          12.4899263381958,
          12.493112564086914,
          12.502437591552734,
          12.484155654907227,
          12.490646362304688,
          3.3031885623931885,
          12.488279342651367,
          12.4895601272583,
          12.48924732208252,
          3.62508225440979,
          -10.59128189086914,
          3.70898699760437,
          3.652040481567383,
          3.6247949600219727,
          3.6598801612854004,
          3.662458658218384,
          3.6785924434661865,
          3.698634147644043,
          3.6227896213531494,
          3.625192880630493,
          3.6605167388916016,
          3.6494853496551514,
          3.641477346420288,
          3.651224374771118,
          3.706035614013672,
          3.645022392272949,
          3.702629804611206,
          3.676741361618042,
          3.6470143795013428,
          3.6540162563323975,
          3.654543399810791,
          3.6607234477996826,
          3.6394195556640625,
          3.6432571411132812,
          3.6122400760650635,
          3.6624929904937744,
          3.644697666168213,
          3.6523754596710205,
          3.722839593887329,
          3.632143974304199,
          3.6391828060150146,
          3.618772029876709,
          3.691042900085449,
          -10.929792404174805,
          3.6476998329162598,
          3.645174503326416,
          3.636464834213257,
          3.6482443809509277,
          3.6505649089813232,
          3.63677978515625,
          3.6454973220825195,
          -5.150742530822754,
          -4.904437065124512,
          -5.057312488555908,
          -5.031007766723633,
          -5.027135848999023,
          -5.025110244750977,
          -5.065277099609375,
          -5.138314247131348,
          -5.0625433921813965,
          -5.069711685180664,
          -5.046350002288818,
          -5.087789058685303,
          -5.078189849853516,
          -5.1554036140441895,
          -5.068739891052246,
          -5.061842441558838,
          -5.046355724334717,
          -5.0609965324401855,
          -5.052657604217529,
          -5.046655654907227,
          -5.0594940185546875,
          -5.074021339416504,
          -5.013257026672363,
          -5.1333112716674805,
          -0.7664385437965393,
          -5.042991638183594,
          -5.054693698883057,
          -4.903077602386475,
          -5.027049541473389,
          -5.040215492248535,
          -5.027497291564941,
          -5.039059162139893,
          -5.050573348999023,
          -0.764542818069458,
          -5.048728942871094,
          -5.036008834838867,
          -5.048417091369629,
          -5.047703266143799,
          -5.0474467277526855,
          -4.962841033935547,
          -5.145142555236816,
          -5.046209335327148,
          -4.935335159301758,
          -4.895378112792969,
          -5.039538383483887,
          -4.949160575866699,
          -0.5845597386360168,
          -0.5834600329399109,
          -0.5567774176597595,
          -0.6197176575660706,
          -0.5738410949707031,
          -0.5974889397621155,
          -0.5989310145378113,
          -0.820728600025177,
          -0.6004344820976257,
          -0.7780684232711792,
          -0.57737135887146,
          -14.471593856811523,
          -10.965941429138184,
          -0.6115272641181946,
          -0.5817006230354309,
          -0.6115610003471375,
          -0.5577313899993896,
          -0.6083953380584717,
          -0.6207015514373779,
          -0.5782490372657776,
          -0.6431995630264282,
          -0.5970772504806519,
          -0.5976256728172302,
          -0.6074755787849426,
          -0.5976450443267822,
          -0.5943924188613892,
          -11.12950611114502,
          -0.5950502157211304,
          -0.5951069593429565,
          -0.5809096693992615,
          -10.867679595947266,
          -11.056243896484375,
          -0.597871720790863,
          -0.5984922647476196,
          -0.5997044444084167,
          -11.12380313873291,
          -0.5970603227615356,
          -11.112451553344727,
          -11.310076713562012,
          -11.284073829650879,
          -11.335675239562988,
          -11.336531639099121,
          -11.338183403015137,
          -11.341973304748535,
          -11.294683456420898,
          -11.315784454345703,
          -11.319305419921875,
          -11.330839157104492,
          -11.303504943847656,
          -11.324923515319824,
          -11.380273818969727,
          -11.333627700805664,
          -11.338034629821777,
          -11.327208518981934,
          -11.32656192779541,
          -11.319815635681152,
          -11.299727439880371,
          -11.306570053100586,
          -10.996716499328613,
          -11.172749519348145,
          -11.031439781188965,
          -11.210518836975098,
          -11.200003623962402,
          -11.10029125213623,
          -11.162160873413086,
          -11.198387145996094,
          -11.338900566101074,
          -11.311933517456055,
          -11.247608184814453,
          -11.322195053100586,
          -11.249881744384766,
          -11.310395240783691,
          -11.331096649169922,
          -11.322978019714355,
          -11.04873275756836,
          -11.322648048400879,
          -11.306987762451172,
          -11.338212013244629,
          -11.322378158569336,
          -11.320090293884277,
          -11.33938217163086,
          -11.323386192321777,
          -11.053977966308594,
          -11.326437950134277,
          -11.329843521118164,
          -11.150482177734375,
          -11.249444007873535,
          -11.171475410461426,
          -11.120294570922852,
          -11.113128662109375,
          -11.113204002380371,
          -11.212953567504883,
          -11.147690773010254,
          -11.13687801361084,
          -11.12825870513916,
          -11.153797149658203,
          -11.157134056091309,
          -11.16720199584961,
          -11.154220581054688,
          -11.172247886657715,
          -11.154284477233887,
          -11.24524211883545,
          -11.24685001373291,
          -11.202731132507324,
          -11.140385627746582,
          -11.149886131286621,
          -11.13671875,
          -11.074723243713379,
          -11.149648666381836,
          -11.2285737991333,
          -11.167601585388184,
          -11.150588035583496,
          -11.076029777526855,
          -11.128705978393555,
          -11.180305480957031,
          -11.212398529052734,
          -11.135045051574707,
          -11.151422500610352,
          -11.236616134643555,
          -11.262340545654297,
          -11.149876594543457,
          -11.149946212768555,
          -11.150593757629395,
          -11.225883483886719,
          -11.150352478027344,
          -11.150128364562988,
          -15.228171348571777,
          -15.34140396118164,
          -15.192704200744629,
          -14.273313522338867,
          -15.223804473876953,
          -11.38519287109375,
          -15.202061653137207,
          -11.261603355407715,
          -15.21561336517334,
          -14.285531044006348,
          -15.235746383666992,
          -11.378413200378418,
          -15.223989486694336,
          -15.224093437194824,
          -11.320976257324219,
          -11.383255958557129,
          -15.2070894241333,
          -11.372518539428711,
          -15.24771785736084,
          -15.210087776184082,
          -11.283209800720215,
          -15.229952812194824,
          -15.224026679992676,
          -15.224523544311523,
          -11.412732124328613,
          -15.232133865356445,
          -15.213739395141602,
          -11.441649436950684,
          -15.25260066986084,
          -15.326521873474121,
          -15.246086120605469,
          -15.236736297607422,
          -15.226340293884277,
          -15.319794654846191,
          -11.366801261901855,
          -11.334310531616211,
          -11.402806282043457,
          -11.308977127075195,
          -15.225292205810547,
          -15.226194381713867,
          -15.22691822052002,
          -15.227633476257324,
          -15.223251342773438,
          -15.225065231323242,
          -15.286192893981934,
          -15.225955963134766,
          -15.241336822509766,
          -15.226929664611816,
          -11.327857971191406,
          -15.224552154541016,
          -14.222528457641602,
          -15.225625991821289,
          -15.224220275878906,
          -15.225648880004883,
          -11.382648468017578,
          -16.635358810424805,
          -11.579171180725098,
          -16.63372039794922,
          -11.556769371032715,
          -16.62832260131836,
          -16.621076583862305,
          -16.62139892578125,
          -16.616111755371094,
          -16.610055923461914,
          -16.614334106445312,
          -11.71179485321045,
          -11.56821060180664,
          -16.622163772583008,
          -11.629396438598633,
          -11.646286010742188,
          -11.56938362121582,
          -16.58989906311035,
          -11.569775581359863,
          -16.59954071044922,
          -11.665154457092285,
          -16.597034454345703,
          -16.52204704284668,
          -11.577859878540039,
          -16.629474639892578,
          -16.614757537841797,
          -16.601240158081055,
          -16.629657745361328,
          -11.487980842590332,
          -16.61396026611328,
          -16.613893508911133,
          -11.547698020935059,
          -16.616966247558594,
          -16.59101104736328,
          -16.557722091674805,
          -16.57680892944336,
          -16.582990646362305,
          -11.57719898223877,
          -16.61787223815918,
          -11.634002685546875,
          -16.60226058959961,
          -16.6137752532959,
          -11.602045059204102,
          -11.622058868408203,
          -16.51546859741211,
          -18.97208023071289,
          -18.966211318969727,
          -11.689005851745605,
          -18.979093551635742,
          -18.9836483001709,
          -18.99559211730957,
          -18.98023223876953,
          -11.737565040588379,
          -11.869468688964844,
          -18.97294807434082,
          -18.988027572631836,
          -18.98849868774414,
          -14.352702140808105,
          -11.8839693069458,
          -11.873764038085938,
          -18.97347640991211,
          -11.880175590515137,
          -18.976055145263672,
          -11.777168273925781,
          -18.96054458618164,
          -19.01090431213379,
          -18.96199607849121,
          -11.740327835083008,
          -11.725874900817871,
          -11.689969062805176,
          -18.972003936767578,
          -18.971899032592773,
          -18.972000122070312,
          -18.97186851501465,
          -11.704424858093262,
          -18.971942901611328,
          -18.98161506652832,
          -18.956256866455078,
          -18.97197151184082,
          -11.746832847595215,
          -11.784770011901855,
          -18.972021102905273,
          -11.659202575683594,
          -11.76506233215332,
          -11.931028366088867,
          -11.953778266906738,
          27.38228988647461,
          -11.819531440734863,
          27.411863327026367,
          27.39643096923828,
          -11.836298942565918,
          27.38319969177246,
          27.37654685974121,
          27.382999420166016,
          27.382898330688477,
          27.382844924926758,
          -11.808127403259277,
          27.37063217163086,
          -12.070744514465332,
          27.382246017456055,
          -12.057680130004883,
          27.382160186767578,
          27.38215446472168,
          27.382221221923828,
          -11.976531028747559,
          27.382122039794922,
          27.38214683532715,
          31.777116775512695,
          31.735759735107422,
          31.768346786499023,
          31.751930236816406,
          31.786497116088867,
          -12.32500171661377,
          31.781049728393555,
          -12.337835311889648,
          31.806114196777344,
          -12.359350204467773,
          -12.329662322998047,
          31.745525360107422,
          31.781700134277344,
          31.75264549255371,
          31.811662673950195,
          -12.321453094482422,
          31.784469604492188,
          31.791648864746094,
          -3.9858477115631104,
          -12.358322143554688,
          31.727031707763672,
          31.76236343383789,
          31.746084213256836,
          31.753864288330078,
          31.74863052368164,
          -12.350050926208496,
          31.788108825683594,
          31.644184112548828,
          -12.539291381835938,
          31.638437271118164,
          31.64004898071289,
          -12.470316886901855,
          -12.66789722442627,
          31.6507625579834,
          31.614959716796875,
          31.642623901367188,
          31.618432998657227,
          -12.438556671142578,
          -12.670439720153809,
          -12.599726676940918,
          -12.473675727844238,
          31.659812927246094,
          31.62556266784668,
          31.660898208618164,
          -12.4771728515625,
          -12.545621871948242,
          -12.542854309082031,
          31.65863609313965,
          31.632251739501953,
          31.648921966552734,
          31.56369972229004,
          -12.823780059814453,
          31.597240447998047,
          31.575298309326172,
          31.557231903076172,
          31.530712127685547,
          31.573904037475586,
          -12.663854598999023,
          -13.182246208190918,
          31.565706253051758,
          -12.760729789733887,
          -12.763076782226562,
          31.546520233154297,
          -12.668728828430176,
          -12.787923812866211,
          -12.611811637878418,
          -3.9676713943481445,
          31.543977737426758,
          31.516502380371094,
          31.530820846557617,
          31.578018188476562,
          31.519548416137695,
          -12.638577461242676,
          31.467538833618164,
          31.389677047729492,
          31.428964614868164,
          -12.85800552368164,
          -12.923181533813477,
          -12.846452713012695,
          -12.770750045776367,
          -12.912245750427246,
          31.14832878112793,
          -12.89357852935791,
          -12.87804126739502,
          31.4329891204834,
          31.42980194091797,
          -12.719247817993164,
          31.14581871032715,
          -12.79951000213623,
          -12.840396881103516,
          -3.8483715057373047,
          -12.751888275146484,
          -12.78466510772705,
          -12.870155334472656,
          -3.944352149963379,
          -3.9094884395599365,
          -12.95069694519043,
          -12.96178913116455,
          -3.878570079803467,
          -12.903321266174316,
          31.34480094909668,
          -12.89503002166748,
          -3.871744155883789,
          -3.966309070587158,
          -3.966735601425171,
          -13.125667572021484,
          31.331401824951172,
          -12.964179039001465,
          -4.035499095916748,
          31.335689544677734,
          31.331289291381836,
          31.2607364654541,
          -13.02743911743164,
          31.348224639892578,
          31.33757781982422,
          -12.98869800567627,
          23.967954635620117,
          23.947010040283203,
          -3.890913724899292,
          -4.005433559417725,
          -13.080622673034668,
          23.940444946289062,
          23.937759399414062,
          -3.9345669746398926,
          23.925203323364258,
          23.93280029296875,
          -13.01514720916748,
          23.92910385131836,
          -13.387205123901367,
          -13.276779174804688,
          -13.451666831970215,
          -13.302469253540039,
          -4.021182060241699,
          -13.319046020507812,
          -13.070879936218262,
          23.923763275146484,
          -13.71855354309082,
          -13.06498908996582,
          -13.692753791809082,
          -13.083137512207031,
          23.803302764892578,
          -13.735776901245117,
          -4.011146545410156,
          23.786035537719727,
          23.770246505737305,
          23.798521041870117,
          -13.702882766723633,
          -4.016902923583984,
          -13.132102012634277,
          -13.45454216003418,
          -13.399373054504395,
          -4.036158561706543,
          23.815690994262695,
          -13.630261421203613,
          -13.85176944732666,
          23.802013397216797,
          -13.133901596069336,
          -13.740022659301758,
          -4.055702209472656,
          -13.655664443969727,
          -13.718746185302734,
          23.636680603027344,
          -4.039953231811523,
          -13.72099494934082,
          -13.587660789489746,
          -13.748078346252441,
          -13.667603492736816,
          -13.921549797058105,
          -4.062991619110107,
          23.660152435302734,
          -4.033401966094971,
          -13.727389335632324,
          23.67410659790039,
          -13.889093399047852,
          -13.822433471679688,
          -13.826227188110352,
          -4.086369514465332,
          -4.044483661651611,
          -13.890558242797852,
          23.220237731933594,
          -13.753896713256836,
          -13.87142562866211,
          -4.067394733428955,
          -13.824458122253418,
          -13.890729904174805,
          23.223060607910156,
          -13.968912124633789,
          -13.810125350952148,
          -13.801467895507812,
          -14.009367942810059,
          -14.12444019317627,
          23.130420684814453,
          23.139934539794922,
          23.144453048706055,
          -14.029629707336426,
          -4.096813201904297,
          23.14928436279297,
          23.148544311523438,
          23.10877799987793,
          23.142990112304688,
          23.137371063232422,
          23.134416580200195,
          -14.04371452331543,
          -14.093978881835938,
          -4.110837459564209,
          -14.056827545166016,
          -13.982501983642578,
          -4.134324073791504,
          -14.334061622619629,
          -14.245223045349121,
          -14.233380317687988,
          -14.193482398986816,
          -14.354548454284668,
          -4.212191104888916,
          23.042678833007812,
          -4.1039652824401855,
          -14.242526054382324,
          -4.127547264099121,
          23.028886795043945,
          23.055126190185547,
          -14.15157413482666,
          -14.153754234313965,
          -14.216962814331055,
          23.04206085205078,
          -14.277379989624023,
          -14.226968765258789,
          22.991222381591797,
          -14.50039005279541,
          -14.374306678771973,
          -14.350646018981934,
          -14.16242790222168,
          -14.49301815032959,
          -14.44782829284668,
          22.925432205200195,
          -14.458406448364258,
          -14.47695541381836,
          -14.483932495117188,
          -14.465594291687012,
          -14.377877235412598,
          22.991567611694336,
          22.92776107788086,
          23.003278732299805,
          22.93553352355957,
          22.928743362426758,
          -14.353196144104004,
          -14.58220386505127,
          -14.597162246704102,
          -14.50507640838623,
          -14.581948280334473,
          -14.321470260620117,
          -14.57304859161377,
          -14.53091049194336,
          -14.441812515258789,
          -14.559139251708984,
          -14.55035400390625,
          -14.47136402130127,
          -14.551756858825684,
          -14.585930824279785,
          22.88908576965332,
          -14.514427185058594,
          -14.570985794067383,
          -14.568085670471191,
          -14.33632755279541,
          -14.533698081970215,
          -14.561933517456055,
          -14.611780166625977,
          -14.583054542541504,
          -4.3281354904174805,
          -14.632268905639648,
          -4.322543144226074,
          -14.557778358459473,
          -14.634344100952148,
          -14.657867431640625,
          -14.582173347473145,
          22.273292541503906,
          -14.639369010925293,
          -14.605660438537598,
          -14.652449607849121,
          22.237701416015625,
          -14.60520076751709,
          22.25003433227539,
          -14.409568786621094,
          -14.600227355957031,
          -14.649086952209473,
          -14.66019058227539,
          22.17131233215332,
          -14.586746215820312,
          -14.660706520080566,
          -14.676962852478027,
          -14.465179443359375,
          -14.60722541809082,
          -14.641722679138184,
          22.158287048339844,
          22.1790828704834,
          -14.63683032989502,
          22.218791961669922,
          -14.634370803833008,
          -14.608881950378418,
          22.153667449951172,
          -14.678277969360352,
          -4.434798717498779,
          -14.619111061096191,
          22.16838836669922,
          -4.471941947937012,
          22.13698387145996,
          22.156461715698242,
          22.153100967407227,
          -14.510522842407227,
          -4.433628559112549,
          -4.47370719909668,
          -14.681174278259277,
          22.16299819946289,
          22.155750274658203,
          -14.728367805480957,
          22.119789123535156,
          -14.73447036743164,
          22.05132484436035,
          -14.724371910095215,
          22.0531063079834,
          22.060100555419922,
          -4.510320663452148,
          -4.478389263153076,
          22.11481285095215,
          -14.705521583557129,
          -4.50177526473999,
          22.125802993774414,
          22.12236976623535,
          -14.728192329406738,
          -14.709589958190918,
          21.945100784301758,
          -14.734923362731934,
          -14.724028587341309,
          21.935407638549805,
          21.947587966918945,
          -14.732625007629395,
          21.95743179321289,
          -14.710549354553223,
          21.937461853027344,
          -14.488212585449219,
          21.945356369018555,
          -4.485496520996094,
          21.908233642578125,
          -4.5049004554748535,
          21.8978214263916,
          -14.710577011108398,
          21.90224266052246,
          21.888307571411133,
          -4.483684539794922,
          -14.523575782775879,
          -14.7102689743042,
          -4.490293502807617,
          -14.728572845458984,
          21.86878776550293,
          21.8986873626709,
          21.86954689025879,
          -14.745973587036133,
          -14.57416820526123,
          -14.721784591674805,
          21.866670608520508,
          21.867435455322266,
          21.868244171142578,
          -14.734762191772461,
          21.868412017822266
         ],
         "yaxis": "y"
        },
        {
         "customdata": [
          [
           1952,
           "UK",
           "SHIP",
           "ATMOSPHERIC",
           "MONTEB AUSTR",
           1952
          ],
          [
           1956,
           "UK",
           "TOWER",
           "ATMOSPHERIC",
           "MONTEB AUSTR",
           1956
          ],
          [
           1956,
           "UK",
           "TOWER",
           "ATMOSPHERIC",
           "MONTEB AUSTR",
           1956
          ]
         ],
         "hoverlabel": {
          "namelength": 0
         },
         "hovertemplate": "region=%{customdata[4]}<br>x=%{x}<br>y=%{y}<br>year=%{customdata[5]}<br>country=%{customdata[1]}<br>type=%{customdata[2]}<br>type_cat=%{customdata[3]}",
         "legendgroup": "region=MONTEB AUSTR",
         "marker": {
          "color": "#FFA15A",
          "symbol": "circle"
         },
         "mode": "markers",
         "name": "region=MONTEB AUSTR",
         "showlegend": true,
         "type": "scattergl",
         "uid": "ff672426-e9c3-4db7-89e6-26daa12505b2",
         "x": [
          -5.329634666442871,
          -5.30458927154541,
          -5.264474391937256
         ],
         "xaxis": "x",
         "y": [
          -16.242231369018555,
          -16.21128273010254,
          -16.200685501098633
         ],
         "yaxis": "y"
        },
        {
         "customdata": [
          [
           1953,
           "UK",
           "TOWER",
           "ATMOSPHERIC",
           "EMU AUSTR",
           1953
          ],
          [
           1953,
           "UK",
           "TOWER",
           "ATMOSPHERIC",
           "EMU AUSTR",
           1953
          ]
         ],
         "hoverlabel": {
          "namelength": 0
         },
         "hovertemplate": "region=%{customdata[4]}<br>x=%{x}<br>y=%{y}<br>year=%{customdata[5]}<br>country=%{customdata[1]}<br>type=%{customdata[2]}<br>type_cat=%{customdata[3]}",
         "legendgroup": "region=EMU AUSTR",
         "marker": {
          "color": "#FF6692",
          "symbol": "circle"
         },
         "mode": "markers",
         "name": "region=EMU AUSTR",
         "showlegend": true,
         "type": "scattergl",
         "uid": "cca27404-fbbd-46ed-a164-b55258511145",
         "x": [
          -5.34221076965332,
          -5.31643009185791
         ],
         "xaxis": "x",
         "y": [
          -16.306442260742188,
          -16.33827018737793
         ],
         "yaxis": "y"
        },
        {
         "customdata": [
          [
           1954,
           "USSR",
           "ATMOSPH",
           "ATMOSPHERIC",
           "ORENBG RUSS",
           1954
          ],
          [
           1970,
           "USSR",
           "SHAFT",
           "UNDERGROUND",
           "ORENBG RUSS",
           1970
          ],
          [
           1971,
           "USSR",
           "SHAFT",
           "UNDERGROUND",
           "ORENBG RUSS",
           1971
          ],
          [
           1972,
           "USSR",
           "SHAFT",
           "UNDERGROUND",
           "ORENBG RUSS",
           1972
          ],
          [
           1972,
           "USSR",
           "SHAFT",
           "UNDERGROUND",
           "ORENBG RUSS",
           1972
          ],
          [
           1973,
           "USSR",
           "SHAFT",
           "UNDERGROUND",
           "ORENBG RUSS",
           1973
          ]
         ],
         "hoverlabel": {
          "namelength": 0
         },
         "hovertemplate": "region=%{customdata[4]}<br>x=%{x}<br>y=%{y}<br>year=%{customdata[5]}<br>country=%{customdata[1]}<br>type=%{customdata[2]}<br>type_cat=%{customdata[3]}",
         "legendgroup": "region=ORENBG RUSS",
         "marker": {
          "color": "#B6E880",
          "symbol": "circle"
         },
         "mode": "markers",
         "name": "region=ORENBG RUSS",
         "showlegend": true,
         "type": "scattergl",
         "uid": "e432fd11-8168-4e7f-8f2b-f88ccd730e30",
         "x": [
          -4.14616584777832,
          -11.742587089538574,
          -12.124739646911621,
          -12.281476974487305,
          -12.387686729431152,
          -12.568273544311523
         ],
         "xaxis": "x",
         "y": [
          -11.359123229980469,
          7.020112037658691,
          7.176426410675049,
          7.248500823974609,
          7.35791540145874,
          7.421329498291016
         ],
         "yaxis": "y"
        },
        {
         "customdata": [
          [
           1955,
           "USA",
           "UW",
           "ATMOSPHERIC",
           "OFFUSWCOAST",
           1955
          ]
         ],
         "hoverlabel": {
          "namelength": 0
         },
         "hovertemplate": "region=%{customdata[4]}<br>x=%{x}<br>y=%{y}<br>year=%{customdata[5]}<br>country=%{customdata[1]}<br>type=%{customdata[2]}<br>type_cat=%{customdata[3]}",
         "legendgroup": "region=OFFUSWCOAST",
         "marker": {
          "color": "#636efa",
          "symbol": "circle"
         },
         "mode": "markers",
         "name": "region=OFFUSWCOAST",
         "showlegend": true,
         "type": "scattergl",
         "uid": "8489a79a-f4c5-47ee-a796-88107820074f",
         "x": [
          -5.771299362182617
         ],
         "xaxis": "x",
         "y": [
          -17.086565017700195
         ],
         "yaxis": "y"
        },
        {
         "customdata": [
          [
           1955,
           "USSR",
           "UW",
           "ATMOSPHERIC",
           "NZ RUSS",
           1955
          ],
          [
           1957,
           "USSR",
           "AIRDROP",
           "ATMOSPHERIC",
           "NZ RUSS",
           1957
          ],
          [
           1957,
           "USSR",
           "ATMOSPH",
           "ATMOSPHERIC",
           "NZ RUSS",
           1957
          ],
          [
           1957,
           "USSR",
           "UW",
           "ATMOSPHERIC",
           "NZ RUSS",
           1957
          ],
          [
           1958,
           "USSR",
           "ATMOSPH",
           "ATMOSPHERIC",
           "NZ RUSS",
           1958
          ],
          [
           1958,
           "USSR",
           "ATMOSPH",
           "ATMOSPHERIC",
           "NZ RUSS",
           1958
          ],
          [
           1958,
           "USSR",
           "ATMOSPH",
           "ATMOSPHERIC",
           "NZ RUSS",
           1958
          ],
          [
           1958,
           "USSR",
           "ATMOSPH",
           "ATMOSPHERIC",
           "NZ RUSS",
           1958
          ],
          [
           1958,
           "USSR",
           "ATMOSPH",
           "ATMOSPHERIC",
           "NZ RUSS",
           1958
          ],
          [
           1958,
           "USSR",
           "ATMOSPH",
           "ATMOSPHERIC",
           "NZ RUSS",
           1958
          ],
          [
           1958,
           "USSR",
           "ATMOSPH",
           "ATMOSPHERIC",
           "NZ RUSS",
           1958
          ],
          [
           1958,
           "USSR",
           "ATMOSPH",
           "ATMOSPHERIC",
           "NZ RUSS",
           1958
          ],
          [
           1958,
           "USSR",
           "ATMOSPH",
           "ATMOSPHERIC",
           "NZ RUSS",
           1958
          ],
          [
           1958,
           "USSR",
           "ATMOSPH",
           "ATMOSPHERIC",
           "NZ RUSS",
           1958
          ],
          [
           1958,
           "USSR",
           "ATMOSPH",
           "ATMOSPHERIC",
           "NZ RUSS",
           1958
          ],
          [
           1958,
           "USSR",
           "ATMOSPH",
           "ATMOSPHERIC",
           "NZ RUSS",
           1958
          ],
          [
           1958,
           "USSR",
           "ATMOSPH",
           "ATMOSPHERIC",
           "NZ RUSS",
           1958
          ],
          [
           1958,
           "USSR",
           "ATMOSPH",
           "ATMOSPHERIC",
           "NZ RUSS",
           1958
          ],
          [
           1958,
           "USSR",
           "ATMOSPH",
           "ATMOSPHERIC",
           "NZ RUSS",
           1958
          ],
          [
           1958,
           "USSR",
           "ATMOSPH",
           "ATMOSPHERIC",
           "NZ RUSS",
           1958
          ],
          [
           1958,
           "USSR",
           "ATMOSPH",
           "ATMOSPHERIC",
           "NZ RUSS",
           1958
          ],
          [
           1958,
           "USSR",
           "ATMOSPH",
           "ATMOSPHERIC",
           "NZ RUSS",
           1958
          ],
          [
           1958,
           "USSR",
           "ATMOSPH",
           "ATMOSPHERIC",
           "NZ RUSS",
           1958
          ],
          [
           1958,
           "USSR",
           "ATMOSPH",
           "ATMOSPHERIC",
           "NZ RUSS",
           1958
          ],
          [
           1958,
           "USSR",
           "ATMOSPH",
           "ATMOSPHERIC",
           "NZ RUSS",
           1958
          ],
          [
           1958,
           "USSR",
           "ATMOSPH",
           "ATMOSPHERIC",
           "NZ RUSS",
           1958
          ],
          [
           1958,
           "USSR",
           "ATMOSPH",
           "ATMOSPHERIC",
           "NZ RUSS",
           1958
          ],
          [
           1958,
           "USSR",
           "ATMOSPH",
           "ATMOSPHERIC",
           "NZ RUSS",
           1958
          ],
          [
           1961,
           "USSR",
           "ATMOSPH",
           "ATMOSPHERIC",
           "NZ RUSS",
           1961
          ],
          [
           1961,
           "USSR",
           "ATMOSPH",
           "ATMOSPHERIC",
           "NZ RUSS",
           1961
          ],
          [
           1961,
           "USSR",
           "ATMOSPH",
           "ATMOSPHERIC",
           "NZ RUSS",
           1961
          ],
          [
           1961,
           "USSR",
           "ATMOSPH",
           "ATMOSPHERIC",
           "NZ RUSS",
           1961
          ],
          [
           1961,
           "USSR",
           "ATMOSPH",
           "ATMOSPHERIC",
           "NZ RUSS",
           1961
          ],
          [
           1961,
           "USSR",
           "ATMOSPH",
           "ATMOSPHERIC",
           "NZ RUSS",
           1961
          ],
          [
           1961,
           "USSR",
           "ATMOSPH",
           "ATMOSPHERIC",
           "NZ RUSS",
           1961
          ],
          [
           1961,
           "USSR",
           "ATMOSPH",
           "ATMOSPHERIC",
           "NZ RUSS",
           1961
          ],
          [
           1961,
           "USSR",
           "ATMOSPH",
           "ATMOSPHERIC",
           "NZ RUSS",
           1961
          ],
          [
           1961,
           "USSR",
           "ATMOSPH",
           "ATMOSPHERIC",
           "NZ RUSS",
           1961
          ],
          [
           1961,
           "USSR",
           "ATMOSPH",
           "ATMOSPHERIC",
           "NZ RUSS",
           1961
          ],
          [
           1961,
           "USSR",
           "ATMOSPH",
           "ATMOSPHERIC",
           "NZ RUSS",
           1961
          ],
          [
           1961,
           "USSR",
           "ATMOSPH",
           "ATMOSPHERIC",
           "NZ RUSS",
           1961
          ],
          [
           1961,
           "USSR",
           "ATMOSPH",
           "ATMOSPHERIC",
           "NZ RUSS",
           1961
          ],
          [
           1961,
           "USSR",
           "ATMOSPH",
           "ATMOSPHERIC",
           "NZ RUSS",
           1961
          ],
          [
           1961,
           "USSR",
           "UW",
           "ATMOSPHERIC",
           "NZ RUSS",
           1961
          ],
          [
           1961,
           "USSR",
           "ATMOSPH",
           "ATMOSPHERIC",
           "NZ RUSS",
           1961
          ],
          [
           1961,
           "USSR",
           "WATERSUR",
           "ATMOSPHERIC",
           "NZ RUSS",
           1961
          ],
          [
           1961,
           "USSR",
           "ATMOSPH",
           "ATMOSPHERIC",
           "NZ RUSS",
           1961
          ],
          [
           1961,
           "USSR",
           "ATMOSPH",
           "ATMOSPHERIC",
           "NZ RUSS",
           1961
          ],
          [
           1961,
           "USSR",
           "ATMOSPH",
           "ATMOSPHERIC",
           "NZ RUSS",
           1961
          ],
          [
           1961,
           "USSR",
           "ATMOSPH",
           "ATMOSPHERIC",
           "NZ RUSS",
           1961
          ],
          [
           1961,
           "USSR",
           "ATMOSPH",
           "ATMOSPHERIC",
           "NZ RUSS",
           1961
          ],
          [
           1961,
           "USSR",
           "ATMOSPH",
           "ATMOSPHERIC",
           "NZ RUSS",
           1961
          ],
          [
           1961,
           "USSR",
           "ATMOSPH",
           "ATMOSPHERIC",
           "NZ RUSS",
           1961
          ],
          [
           1961,
           "USSR",
           "ATMOSPH",
           "ATMOSPHERIC",
           "NZ RUSS",
           1961
          ],
          [
           1962,
           "USSR",
           "ATMOSPH",
           "ATMOSPHERIC",
           "NZ RUSS",
           1962
          ],
          [
           1962,
           "USSR",
           "ATMOSPH",
           "ATMOSPHERIC",
           "NZ RUSS",
           1962
          ],
          [
           1962,
           "USSR",
           "ATMOSPH",
           "ATMOSPHERIC",
           "NZ RUSS",
           1962
          ],
          [
           1962,
           "USSR",
           "ATMOSPH",
           "ATMOSPHERIC",
           "NZ RUSS",
           1962
          ],
          [
           1962,
           "USSR",
           "WATER SU",
           "ATMOSPHERIC",
           "NZ RUSS",
           1962
          ],
          [
           1962,
           "USSR",
           "ATMOSPH",
           "ATMOSPHERIC",
           "NZ RUSS",
           1962
          ],
          [
           1962,
           "USSR",
           "ATMOSPH",
           "ATMOSPHERIC",
           "NZ RUSS",
           1962
          ],
          [
           1962,
           "USSR",
           "ATMOSPH",
           "ATMOSPHERIC",
           "NZ RUSS",
           1962
          ],
          [
           1962,
           "USSR",
           "ATMOSPH",
           "ATMOSPHERIC",
           "NZ RUSS",
           1962
          ],
          [
           1962,
           "USSR",
           "ATMOSPH",
           "ATMOSPHERIC",
           "NZ RUSS",
           1962
          ],
          [
           1962,
           "USSR",
           "ATMOSPH",
           "ATMOSPHERIC",
           "NZ RUSS",
           1962
          ],
          [
           1962,
           "USSR",
           "ATMOSPH",
           "ATMOSPHERIC",
           "NZ RUSS",
           1962
          ],
          [
           1962,
           "USSR",
           "ATMOSPH",
           "ATMOSPHERIC",
           "NZ RUSS",
           1962
          ],
          [
           1962,
           "USSR",
           "ATMOSPH",
           "ATMOSPHERIC",
           "NZ RUSS",
           1962
          ],
          [
           1962,
           "USSR",
           "ATMOSPH",
           "ATMOSPHERIC",
           "NZ RUSS",
           1962
          ],
          [
           1962,
           "USSR",
           "ATMOSPH",
           "ATMOSPHERIC",
           "NZ RUSS",
           1962
          ],
          [
           1962,
           "USSR",
           "ATMOSPH",
           "ATMOSPHERIC",
           "NZ RUSS",
           1962
          ],
          [
           1962,
           "USSR",
           "ATMOSPH",
           "ATMOSPHERIC",
           "NZ RUSS",
           1962
          ],
          [
           1962,
           "USSR",
           "ATMOSPH",
           "ATMOSPHERIC",
           "NZ RUSS",
           1962
          ],
          [
           1962,
           "USSR",
           "ATMOSPH",
           "ATMOSPHERIC",
           "NZ RUSS",
           1962
          ],
          [
           1962,
           "USSR",
           "ATMOSPH",
           "ATMOSPHERIC",
           "NZ RUSS",
           1962
          ],
          [
           1962,
           "USSR",
           "ATMOSPH",
           "ATMOSPHERIC",
           "NZ RUSS",
           1962
          ],
          [
           1962,
           "USSR",
           "ATMOSPH",
           "ATMOSPHERIC",
           "NZ RUSS",
           1962
          ],
          [
           1962,
           "USSR",
           "ATMOSPH",
           "ATMOSPHERIC",
           "NZ RUSS",
           1962
          ],
          [
           1962,
           "USSR",
           "ATMOSPH",
           "ATMOSPHERIC",
           "NZ RUSS",
           1962
          ],
          [
           1962,
           "USSR",
           "ATMOSPH",
           "ATMOSPHERIC",
           "NZ RUSS",
           1962
          ],
          [
           1962,
           "USSR",
           "ATMOSPH",
           "ATMOSPHERIC",
           "NZ RUSS",
           1962
          ],
          [
           1962,
           "USSR",
           "ATMOSPH",
           "ATMOSPHERIC",
           "NZ RUSS",
           1962
          ],
          [
           1962,
           "USSR",
           "ATMOSPH",
           "ATMOSPHERIC",
           "NZ RUSS",
           1962
          ],
          [
           1962,
           "USSR",
           "ATMOSPH",
           "ATMOSPHERIC",
           "NZ RUSS",
           1962
          ],
          [
           1962,
           "USSR",
           "ATMOSPH",
           "ATMOSPHERIC",
           "NZ RUSS",
           1962
          ],
          [
           1962,
           "USSR",
           "ATMOSPH",
           "ATMOSPHERIC",
           "NZ RUSS",
           1962
          ],
          [
           1962,
           "USSR",
           "ATMOSPH",
           "ATMOSPHERIC",
           "NZ RUSS",
           1962
          ],
          [
           1962,
           "USSR",
           "ATMOSPH",
           "ATMOSPHERIC",
           "NZ RUSS",
           1962
          ],
          [
           1962,
           "USSR",
           "ATMOSPH",
           "ATMOSPHERIC",
           "NZ RUSS",
           1962
          ],
          [
           1962,
           "USSR",
           "ATMOSPH",
           "ATMOSPHERIC",
           "NZ RUSS",
           1962
          ],
          [
           1964,
           "USSR",
           "TUNNEL",
           "UNDERGROUND",
           "NZ RUSS",
           1964
          ],
          [
           1964,
           "USSR",
           "TUNNEL",
           "UNDERGROUND",
           "NZ RUSS",
           1964
          ],
          [
           1966,
           "USSR",
           "TUNNEL",
           "UNDERGROUND",
           "NZ RUSS",
           1966
          ],
          [
           1966,
           "USSR",
           "TUNNEL",
           "UNDERGROUND",
           "NZ RUSS",
           1966
          ],
          [
           1967,
           "USSR",
           "TUNNEL",
           "UNDERGROUND",
           "NZ RUSS",
           1967
          ],
          [
           1968,
           "USSR",
           "TUNNEL",
           "UNDERGROUND",
           "NZ RUSS",
           1968
          ],
          [
           1969,
           "USSR",
           "TUNNEL",
           "UNDERGROUND",
           "NZ RUSS",
           1969
          ],
          [
           1970,
           "USSR",
           "TUNNEL",
           "UNDERGROUND",
           "NZ RUSS",
           1970
          ],
          [
           1971,
           "USSR",
           "TUNNEL",
           "UNDERGROUND",
           "NZ RUSS",
           1971
          ],
          [
           1972,
           "USSR",
           "SHAFT",
           "UNDERGROUND",
           "NZ RUSS",
           1972
          ],
          [
           1972,
           "USSR",
           "TUNNEL",
           "UNDERGROUND",
           "NZ RUSS",
           1972
          ],
          [
           1973,
           "USSR",
           "TUNNEL",
           "UNDERGROUND",
           "NZ RUSS",
           1973
          ],
          [
           1973,
           "USSR",
           "SHAFT",
           "UNDERGROUND",
           "NZ RUSS",
           1973
          ],
          [
           1973,
           "USSR",
           "SHAFT",
           "UNDERGROUND",
           "NZ RUSS",
           1973
          ],
          [
           1974,
           "USSR",
           "TUNNEL",
           "UNDERGROUND",
           "NZ RUSS",
           1974
          ],
          [
           1974,
           "USSR",
           "SHAFT",
           "UNDERGROUND",
           "NZ RUSS",
           1974
          ],
          [
           1975,
           "USSR",
           "TUNNEL",
           "UNDERGROUND",
           "NZ RUSS",
           1975
          ],
          [
           1975,
           "USSR",
           "SHAFT",
           "UNDERGROUND",
           "NZ RUSS",
           1975
          ],
          [
           1975,
           "USSR",
           "SHAFT",
           "UNDERGROUND",
           "NZ RUSS",
           1975
          ],
          [
           1975,
           "USSR",
           "TUNNEL",
           "UNDERGROUND",
           "NZ RUSS",
           1975
          ],
          [
           1976,
           "USSR",
           "TUNNEL",
           "UNDERGROUND",
           "NZ RUSS",
           1976
          ],
          [
           1976,
           "USSR",
           "TUNNEL",
           "UNDERGROUND",
           "NZ RUSS",
           1976
          ],
          [
           1977,
           "USSR",
           "TUNNEL",
           "UNDERGROUND",
           "NZ RUSS",
           1977
          ],
          [
           1977,
           "USSR",
           "TUNNEL",
           "UNDERGROUND",
           "NZ RUSS",
           1977
          ],
          [
           1978,
           "USSR",
           "TUNNEL",
           "UNDERGROUND",
           "NZ RUSS",
           1978
          ],
          [
           1978,
           "USSR",
           "TUNNEL",
           "UNDERGROUND",
           "NZ RUSS",
           1978
          ],
          [
           1979,
           "USSR",
           "TUNNEL",
           "UNDERGROUND",
           "NZ RUSS",
           1979
          ],
          [
           1979,
           "USSR",
           "TUNNEL",
           "UNDERGROUND",
           "NZ RUSS",
           1979
          ],
          [
           1981,
           "USSR",
           "TUNNEL",
           "UNDERGROUND",
           "NZ RUSS",
           1981
          ],
          [
           1982,
           "USSR",
           "TUNNEL",
           "UNDERGROUND",
           "NZ RUSS",
           1982
          ],
          [
           1983,
           "USSR",
           "TUNNEL",
           "UNDERGROUND",
           "NZ RUSS",
           1983
          ],
          [
           1983,
           "USSR",
           "TUNNEL",
           "UNDERGROUND",
           "NZ RUSS",
           1983
          ],
          [
           1984,
           "USSR",
           "TUNNEL",
           "UNDERGROUND",
           "NZ RUSS",
           1984
          ],
          [
           1984,
           "USSR",
           "TUNNEL",
           "UNDERGROUND",
           "NZ RUSS",
           1984
          ],
          [
           1987,
           "USSR",
           "TUNNEL",
           "UNDERGROUND",
           "NZ RUSS",
           1987
          ],
          [
           1988,
           "USSR",
           "TUNNEL",
           "UNDERGROUND",
           "NZ RUSS",
           1988
          ],
          [
           1988,
           "USSR",
           "TUNNEL",
           "UNDERGROUND",
           "NZ RUSS",
           1988
          ],
          [
           1990,
           "USSR",
           "TUNNEL",
           "UNDERGROUND",
           "NZ RUSS",
           1990
          ]
         ],
         "hoverlabel": {
          "namelength": 0
         },
         "hovertemplate": "region=%{customdata[4]}<br>x=%{x}<br>y=%{y}<br>year=%{customdata[5]}<br>country=%{customdata[1]}<br>type=%{customdata[2]}<br>type_cat=%{customdata[3]}",
         "legendgroup": "region=NZ RUSS",
         "marker": {
          "color": "#EF553B",
          "symbol": "circle"
         },
         "mode": "markers",
         "name": "region=NZ RUSS",
         "showlegend": true,
         "type": "scattergl",
         "uid": "e974747d-f654-4130-96f1-c92d48910f49",
         "x": [
          -4.185125827789307,
          -4.786067485809326,
          -4.709467887878418,
          -4.309280872344971,
          -4.692668914794922,
          -4.191278457641602,
          -4.777787685394287,
          -4.13311767578125,
          -4.645254611968994,
          -4.737512111663818,
          -4.697842121124268,
          -4.212558746337891,
          -4.115480422973633,
          -4.103309631347656,
          -4.113938808441162,
          -4.108341693878174,
          -4.088626384735107,
          -4.789811134338379,
          -4.757704734802246,
          -4.742276668548584,
          -4.110452175140381,
          -4.110294818878174,
          -4.300257682800293,
          -4.104221343994141,
          -4.69656229019165,
          -4.6918559074401855,
          -4.1669487953186035,
          -4.11090612411499,
          -4.717713356018066,
          -3.3948047161102295,
          -4.757803916931152,
          -3.284975051879883,
          -4.754692077636719,
          -4.77802848815918,
          -4.730062961578369,
          -4.677839756011963,
          -4.882993698120117,
          -4.843217372894287,
          -4.6783447265625,
          -4.627410411834717,
          -3.3989405632019043,
          -4.789764404296875,
          -4.501369953155518,
          -3.228097915649414,
          -4.8724517822265625,
          -3.3973495960235596,
          -4.567204475402832,
          -4.612304210662842,
          -4.679333686828613,
          -3.310166120529175,
          -4.850156784057617,
          -3.431706190109253,
          -4.683115005493164,
          -3.263949155807495,
          -4.507321357727051,
          -4.712883949279785,
          -4.7167487144470215,
          -4.785147190093994,
          -6.094186305999756,
          -4.628783702850342,
          -4.683748722076416,
          -6.139629364013672,
          -4.797770023345947,
          -4.696104049682617,
          -4.684728622436523,
          -4.7682037353515625,
          -4.598720073699951,
          -4.719676494598389,
          -4.516645908355713,
          -4.533459663391113,
          -4.884523391723633,
          -6.060692310333252,
          -4.517548561096191,
          -4.888452053070068,
          -4.860448360443115,
          -4.887213230133057,
          -4.884993553161621,
          -4.8670878410339355,
          -6.155458927154541,
          -6.137279987335205,
          -6.153809070587158,
          -6.026211261749268,
          -6.068780899047852,
          -4.870233058929443,
          -6.019603729248047,
          -6.505405902862549,
          -4.547551155090332,
          -4.726996898651123,
          -4.710812091827393,
          -6.06052827835083,
          -11.064332008361816,
          -10.975247383117676,
          -11.583941459655762,
          10.893814086914062,
          -11.577595710754395,
          -11.651426315307617,
          -11.649322509765625,
          -11.658617973327637,
          -11.84469223022461,
          10.37423324584961,
          -11.8637056350708,
          -11.959521293640137,
          -11.786458969116211,
          -11.854823112487793,
          -11.9133939743042,
          -11.846446990966797,
          -12.899654388427734,
          -11.885741233825684,
          10.112933158874512,
          -12.78317642211914,
          -13.233780860900879,
          -13.168696403503418,
          -13.33146858215332,
          -13.7496976852417,
          -11.720171928405762,
          -11.710437774658203,
          -11.755756378173828,
          -11.663529396057129,
          -11.592602729797363,
          -11.602486610412598,
          -11.925643920898438,
          -14.853456497192383,
          -14.775219917297363,
          -11.936038970947266,
          -15.170112609863281,
          -11.982817649841309,
          -12.107114791870117,
          -11.999966621398926
         ],
         "xaxis": "x",
         "y": [
          -11.619053840637207,
          -14.072493553161621,
          -14.404187202453613,
          -11.933940887451172,
          -13.870229721069336,
          -12.375550270080566,
          -14.064921379089355,
          -12.324233055114746,
          -13.760085105895996,
          -13.98681926727295,
          -13.947000503540039,
          -12.426201820373535,
          -12.33194351196289,
          -12.26964282989502,
          -12.294840812683105,
          -12.270264625549316,
          -12.304370880126953,
          -14.035985946655273,
          -14.058614730834961,
          -14.325007438659668,
          -12.309881210327148,
          -12.27835464477539,
          -12.738698959350586,
          -12.256524085998535,
          -14.405173301696777,
          -13.91012191772461,
          -12.342491149902344,
          -12.277130126953125,
          -14.371004104614258,
          -13.425711631774902,
          -13.974363327026367,
          -13.351395606994629,
          -13.979805946350098,
          -13.814046859741211,
          -13.931907653808594,
          -13.555506706237793,
          -13.357239723205566,
          -13.400260925292969,
          -14.295283317565918,
          -14.471871376037598,
          -13.420263290405273,
          -14.066854476928711,
          -14.556097984313965,
          -13.317147254943848,
          -13.37726879119873,
          -13.418158531188965,
          -14.494507789611816,
          -14.49262809753418,
          -13.573179244995117,
          -13.306492805480957,
          -13.388704299926758,
          -13.450352668762207,
          -13.560909271240234,
          -13.333638191223145,
          -14.546815872192383,
          -13.557872772216797,
          -14.402684211730957,
          -14.096193313598633,
          -12.437276840209961,
          -14.319341659545898,
          -14.410845756530762,
          -12.473655700683594,
          -14.133025169372559,
          -14.395782470703125,
          -14.427764892578125,
          -14.049407005310059,
          -14.294371604919434,
          -14.351113319396973,
          -14.547564506530762,
          -14.539316177368164,
          -13.428873062133789,
          -12.406105041503906,
          -14.541482925415039,
          -13.392633438110352,
          -13.406079292297363,
          -13.390851974487305,
          -13.392374992370605,
          -13.391712188720703,
          -12.475225448608398,
          -12.485617637634277,
          -12.47858715057373,
          -12.390559196472168,
          -12.427682876586914,
          -13.412969589233398,
          -12.409314155578613,
          -12.551885604858398,
          -14.508927345275879,
          -13.998388290405273,
          -14.388694763183594,
          -12.418477058410645,
          6.712179660797119,
          6.626173496246338,
          6.7566423416137695,
          18.6742000579834,
          6.805012226104736,
          6.786350250244141,
          6.823226451873779,
          6.82391357421875,
          -3.7915396690368652,
          19.429203033447266,
          -3.875826120376587,
          -4.025925636291504,
          -3.8761675357818604,
          -3.9647319316864014,
          -3.915896415710449,
          -3.9596943855285645,
          7.5323286056518555,
          -3.853048086166382,
          19.918737411499023,
          7.400482177734375,
          7.773977279663086,
          7.869145393371582,
          7.858623504638672,
          8.26594066619873,
          -4.08024263381958,
          -4.090967178344727,
          -4.074146270751953,
          -4.198077201843262,
          -4.436377048492432,
          -4.539121627807617,
          -4.450323581695557,
          8.919805526733398,
          9.127232551574707,
          -4.0693583488464355,
          9.14397144317627,
          -4.688384056091309,
          -4.790900707244873,
          -4.691792011260986
         ],
         "yaxis": "y"
        },
        {
         "customdata": [
          [
           1956,
           "USSR",
           "SURFACE",
           "ATMOSPHERIC",
           "KAZAKH",
           1956
          ],
          [
           1972,
           "USSR",
           "SHAFT",
           "UNDERGROUND",
           "KAZAKH",
           1972
          ],
          [
           1972,
           "USSR",
           "SHAFT",
           "UNDERGROUND",
           "KAZAKH",
           1972
          ],
          [
           1973,
           "USSR",
           "SHAFT",
           "UNDERGROUND",
           "KAZAKH",
           1973
          ],
          [
           1973,
           "USSR",
           "SHAFT",
           "UNDERGROUND",
           "KAZAKH",
           1973
          ],
          [
           1973,
           "USSR",
           "SHAFT",
           "UNDERGROUND",
           "KAZAKH",
           1973
          ],
          [
           1983,
           "USSR",
           "SHAFT",
           "UNDERGROUND",
           "KAZAKH",
           1983
          ],
          [
           1983,
           "USSR",
           "SHAFT",
           "UNDERGROUND",
           "KAZAKH",
           1983
          ],
          [
           1983,
           "USSR",
           "SHAFT",
           "UNDERGROUND",
           "KAZAKH",
           1983
          ]
         ],
         "hoverlabel": {
          "namelength": 0
         },
         "hovertemplate": "region=%{customdata[4]}<br>x=%{x}<br>y=%{y}<br>year=%{customdata[5]}<br>country=%{customdata[1]}<br>type=%{customdata[2]}<br>type_cat=%{customdata[3]}",
         "legendgroup": "region=KAZAKH",
         "marker": {
          "color": "#00cc96",
          "symbol": "circle"
         },
         "mode": "markers",
         "name": "region=KAZAKH",
         "showlegend": true,
         "type": "scattergl",
         "uid": "a2b27a1e-8187-46f0-8476-e0bc741871ed",
         "x": [
          -4.235075950622559,
          -12.234365463256836,
          -12.349977493286133,
          -12.56430721282959,
          -12.529093742370605,
          -12.563199996948242,
          -14.714388847351074,
          -14.748262405395508,
          -14.682564735412598
         ],
         "xaxis": "x",
         "y": [
          -11.68689250946045,
          7.173759937286377,
          7.2936482429504395,
          7.4084601402282715,
          7.379289627075195,
          7.418245315551758,
          8.957656860351562,
          8.979475975036621,
          8.993027687072754
         ],
         "yaxis": "y"
        },
        {
         "customdata": [
          [
           1956,
           "UK",
           "TOWER",
           "ATMOSPHERIC",
           "MARALI AUSTR",
           1956
          ],
          [
           1956,
           "UK",
           "SURFACE",
           "ATMOSPHERIC",
           "MARALI AUSTR",
           1956
          ],
          [
           1956,
           "UK",
           "AIRDROP",
           "ATMOSPHERIC",
           "MARALI AUSTR",
           1956
          ],
          [
           1956,
           "UK",
           "TOWER",
           "ATMOSPHERIC",
           "MARALI AUSTR",
           1956
          ],
          [
           1957,
           "UK",
           "TOWER",
           "ATMOSPHERIC",
           "MARALI AUSTR",
           1957
          ],
          [
           1957,
           "UK",
           "TOWER",
           "ATMOSPHERIC",
           "MARALI AUSTR",
           1957
          ],
          [
           1957,
           "UK",
           "BALLOON",
           "ATMOSPHERIC",
           "MARALI AUSTR",
           1957
          ]
         ],
         "hoverlabel": {
          "namelength": 0
         },
         "hovertemplate": "region=%{customdata[4]}<br>x=%{x}<br>y=%{y}<br>year=%{customdata[5]}<br>country=%{customdata[1]}<br>type=%{customdata[2]}<br>type_cat=%{customdata[3]}",
         "legendgroup": "region=MARALI AUSTR",
         "marker": {
          "color": "#ab63fa",
          "symbol": "circle"
         },
         "mode": "markers",
         "name": "region=MARALI AUSTR",
         "showlegend": true,
         "type": "scattergl",
         "uid": "1537c23b-2040-41e1-bbda-ad9dc2fdf592",
         "x": [
          -5.294401168823242,
          -5.279176712036133,
          -5.282810211181641,
          -5.273297309875488,
          -5.279151916503906,
          -5.269820213317871,
          -5.265203475952148
         ],
         "xaxis": "x",
         "y": [
          -16.222375869750977,
          -16.225934982299805,
          -16.227176666259766,
          -16.22730255126953,
          -16.22559356689453,
          -16.23417091369629,
          -16.22933578491211
         ],
         "yaxis": "y"
        },
        {
         "customdata": [
          [
           1957,
           "USSR",
           "ATMOSPH",
           "ATMOSPHERIC",
           "MTR RUSS",
           1957
          ],
          [
           1958,
           "USSR",
           "ATMOSPH",
           "ATMOSPHERIC",
           "MTR RUSS",
           1958
          ],
          [
           1961,
           "USSR",
           "ATMOSPH",
           "ATMOSPHERIC",
           "MTR RUSS",
           1961
          ],
          [
           1961,
           "USSR",
           "ATMOSPH",
           "ATMOSPHERIC",
           "MTR RUSS",
           1961
          ],
          [
           1961,
           "USSR",
           "SPACE",
           "ATMOSPHERIC",
           "MTR RUSS",
           1961
          ],
          [
           1961,
           "USSR",
           "SPACE",
           "ATMOSPHERIC",
           "MTR RUSS",
           1961
          ],
          [
           1962,
           "USSR",
           "SPACE",
           "ATMOSPHERIC",
           "MTR RUSS",
           1962
          ],
          [
           1962,
           "USSR",
           "SPACE",
           "ATMOSPHERIC",
           "MTR RUSS",
           1962
          ],
          [
           1962,
           "USSR",
           "ATMOSPH",
           "ATMOSPHERIC",
           "MTR RUSS",
           1962
          ]
         ],
         "hoverlabel": {
          "namelength": 0
         },
         "hovertemplate": "region=%{customdata[4]}<br>x=%{x}<br>y=%{y}<br>year=%{customdata[5]}<br>country=%{customdata[1]}<br>type=%{customdata[2]}<br>type_cat=%{customdata[3]}",
         "legendgroup": "region=MTR RUSS",
         "marker": {
          "color": "#19d3f3",
          "symbol": "circle"
         },
         "mode": "markers",
         "name": "region=MTR RUSS",
         "showlegend": true,
         "type": "scattergl",
         "uid": "43ada5dc-00fe-4c6d-acec-3d55f4ae0844",
         "x": [
          -4.313999176025391,
          -4.1005353927612305,
          -3.345783233642578,
          -3.4497365951538086,
          -3.088089942932129,
          -3.0728530883789062,
          -4.8821892738342285,
          -4.889526844024658,
          -4.890322685241699
         ],
         "xaxis": "x",
         "y": [
          -11.9169282913208,
          -12.268759727478027,
          -13.390388488769531,
          -13.448495864868164,
          -13.223581314086914,
          -13.211621284484863,
          -13.394645690917969,
          -13.396149635314941,
          -13.40289306640625
         ],
         "yaxis": "y"
        },
        {
         "customdata": [
          [
           1957,
           "USA",
           "SURFACE",
           "ATMOSPHERIC",
           "MELLIS NV",
           1957
          ]
         ],
         "hoverlabel": {
          "namelength": 0
         },
         "hovertemplate": "region=%{customdata[4]}<br>x=%{x}<br>y=%{y}<br>year=%{customdata[5]}<br>country=%{customdata[1]}<br>type=%{customdata[2]}<br>type_cat=%{customdata[3]}",
         "legendgroup": "region=MELLIS NV",
         "marker": {
          "color": "#e763fa",
          "symbol": "circle"
         },
         "mode": "markers",
         "name": "region=MELLIS NV",
         "showlegend": true,
         "type": "scattergl",
         "uid": "ef2d2f0e-4789-49d6-b46a-bd2e69169c61",
         "x": [
          -4.712101936340332
         ],
         "xaxis": "x",
         "y": [
          -16.86662483215332
         ],
         "yaxis": "y"
        },
        {
         "customdata": [
          [
           1957,
           "UK",
           "AIRDROP",
           "ATMOSPHERIC",
           "MALDEN IS",
           1957
          ],
          [
           1957,
           "UK",
           "AIRDROP",
           "ATMOSPHERIC",
           "MALDEN IS",
           1957
          ],
          [
           1957,
           "UK",
           "AIRDROP",
           "ATMOSPHERIC",
           "MALDEN IS",
           1957
          ]
         ],
         "hoverlabel": {
          "namelength": 0
         },
         "hovertemplate": "region=%{customdata[4]}<br>x=%{x}<br>y=%{y}<br>year=%{customdata[5]}<br>country=%{customdata[1]}<br>type=%{customdata[2]}<br>type_cat=%{customdata[3]}",
         "legendgroup": "region=MALDEN IS",
         "marker": {
          "color": "#FECB52",
          "symbol": "circle"
         },
         "mode": "markers",
         "name": "region=MALDEN IS",
         "showlegend": true,
         "type": "scattergl",
         "uid": "022341e0-6b60-47cc-8e21-5a29b7072bb4",
         "x": [
          -5.1637492179870605,
          -5.011910438537598,
          -5.25142240524292
         ],
         "xaxis": "x",
         "y": [
          -16.2685546875,
          -16.082395553588867,
          -16.24180793762207
         ],
         "yaxis": "y"
        },
        {
         "customdata": [
          [
           1957,
           "USSR",
           "SURFACE",
           "ATMOSPHERIC",
           "N2 RUSS",
           1957
          ]
         ],
         "hoverlabel": {
          "namelength": 0
         },
         "hovertemplate": "region=%{customdata[4]}<br>x=%{x}<br>y=%{y}<br>year=%{customdata[5]}<br>country=%{customdata[1]}<br>type=%{customdata[2]}<br>type_cat=%{customdata[3]}",
         "legendgroup": "region=N2 RUSS",
         "marker": {
          "color": "#FFA15A",
          "symbol": "circle"
         },
         "mode": "markers",
         "name": "region=N2 RUSS",
         "showlegend": true,
         "type": "scattergl",
         "uid": "caa9a0a2-71ef-404d-aa04-a1823708119d",
         "x": [
          -4.336550712585449
         ],
         "xaxis": "x",
         "y": [
          -11.891655921936035
         ],
         "yaxis": "y"
        },
        {
         "customdata": [
          [
           1957,
           "UK",
           "AIRDROP",
           "ATMOSPHERIC",
           "CHRISTMAS IS",
           1957
          ],
          [
           1958,
           "UK",
           "AIRDROP",
           "ATMOSPHERIC",
           "CHRISTMAS IS",
           1958
          ],
          [
           1958,
           "UK",
           "BALLOON",
           "ATMOSPHERIC",
           "CHRISTMAS IS",
           1958
          ],
          [
           1958,
           "UK",
           "AIRDROP",
           "ATMOSPHERIC",
           "CHRISTMAS IS",
           1958
          ],
          [
           1958,
           "UK",
           "AIRDROP",
           "ATMOSPHERIC",
           "CHRISTMAS IS",
           1958
          ],
          [
           1958,
           "UK",
           "BALLOON",
           "ATMOSPHERIC",
           "CHRISTMAS IS",
           1958
          ],
          [
           1962,
           "USA",
           "AIRDROP",
           "ATMOSPHERIC",
           "CHRISTMAS IS",
           1962
          ],
          [
           1962,
           "USA",
           "AIRDROP",
           "ATMOSPHERIC",
           "CHRISTMAS IS",
           1962
          ],
          [
           1962,
           "USA",
           "AIRDROP",
           "ATMOSPHERIC",
           "CHRISTMAS IS",
           1962
          ],
          [
           1962,
           "USA",
           "AIRDROP",
           "ATMOSPHERIC",
           "CHRISTMAS IS",
           1962
          ],
          [
           1962,
           "USA",
           "AIRDROP",
           "ATMOSPHERIC",
           "CHRISTMAS IS",
           1962
          ],
          [
           1962,
           "USA",
           "AIRDROP",
           "ATMOSPHERIC",
           "CHRISTMAS IS",
           1962
          ],
          [
           1962,
           "USA",
           "AIRDROP",
           "ATMOSPHERIC",
           "CHRISTMAS IS",
           1962
          ],
          [
           1962,
           "USA",
           "AIRDROP",
           "ATMOSPHERIC",
           "CHRISTMAS IS",
           1962
          ],
          [
           1962,
           "USA",
           "AIRDROP",
           "ATMOSPHERIC",
           "CHRISTMAS IS",
           1962
          ],
          [
           1962,
           "USA",
           "AIRDROP",
           "ATMOSPHERIC",
           "CHRISTMAS IS",
           1962
          ],
          [
           1962,
           "USA",
           "AIRDROP",
           "ATMOSPHERIC",
           "CHRISTMAS IS",
           1962
          ],
          [
           1962,
           "USA",
           "AIRDROP",
           "ATMOSPHERIC",
           "CHRISTMAS IS",
           1962
          ],
          [
           1962,
           "USA",
           "AIRDROP",
           "ATMOSPHERIC",
           "CHRISTMAS IS",
           1962
          ],
          [
           1962,
           "USA",
           "AIRDROP",
           "ATMOSPHERIC",
           "CHRISTMAS IS",
           1962
          ],
          [
           1962,
           "USA",
           "AIRDROP",
           "ATMOSPHERIC",
           "CHRISTMAS IS",
           1962
          ],
          [
           1962,
           "USA",
           "AIRDROP",
           "ATMOSPHERIC",
           "CHRISTMAS IS",
           1962
          ],
          [
           1962,
           "USA",
           "AIRDROP",
           "ATMOSPHERIC",
           "CHRISTMAS IS",
           1962
          ],
          [
           1962,
           "USA",
           "AIRDROP",
           "ATMOSPHERIC",
           "CHRISTMAS IS",
           1962
          ],
          [
           1962,
           "USA",
           "AIRDROP",
           "ATMOSPHERIC",
           "CHRISTMAS IS",
           1962
          ],
          [
           1962,
           "USA",
           "AIRDROP",
           "ATMOSPHERIC",
           "CHRISTMAS IS",
           1962
          ],
          [
           1962,
           "USA",
           "AIRDROP",
           "ATMOSPHERIC",
           "CHRISTMAS IS",
           1962
          ],
          [
           1962,
           "USA",
           "AIRDROP",
           "ATMOSPHERIC",
           "CHRISTMAS IS",
           1962
          ],
          [
           1962,
           "USA",
           "AIRDROP",
           "ATMOSPHERIC",
           "CHRISTMAS IS",
           1962
          ],
          [
           1962,
           "USA",
           "AIRDROP",
           "ATMOSPHERIC",
           "CHRISTMAS IS",
           1962
          ]
         ],
         "hoverlabel": {
          "namelength": 0
         },
         "hovertemplate": "region=%{customdata[4]}<br>x=%{x}<br>y=%{y}<br>year=%{customdata[5]}<br>country=%{customdata[1]}<br>type=%{customdata[2]}<br>type_cat=%{customdata[3]}",
         "legendgroup": "region=CHRISTMAS IS",
         "marker": {
          "color": "#FF6692",
          "symbol": "circle"
         },
         "mode": "markers",
         "name": "region=CHRISTMAS IS",
         "showlegend": true,
         "type": "scattergl",
         "uid": "6e6f143c-b69e-4a34-8082-9cd29907ad0e",
         "x": [
          -4.941956996917725,
          -4.75394344329834,
          -5.195217609405518,
          -4.946063041687012,
          -5.003410816192627,
          -5.201910972595215,
          -5.985520362854004,
          -5.754449844360352,
          -5.148637771606445,
          -5.332435131072998,
          -5.995429039001465,
          -5.975863456726074,
          -5.982772350311279,
          -5.527658939361572,
          -5.935328960418701,
          -5.958887577056885,
          -6.048858642578125,
          -5.98728084564209,
          -5.321481704711914,
          -5.943220138549805,
          -4.711680889129639,
          -5.056788921356201,
          -5.264320373535156,
          -6.000277042388916,
          -6.017999172210693,
          -5.968993663787842,
          -4.557133674621582,
          -5.034063816070557,
          -5.226408958435059,
          -4.686376571655273
         ],
         "xaxis": "x",
         "y": [
          -14.484140396118164,
          -14.451189041137695,
          -16.315717697143555,
          -16.021760940551758,
          -16.026451110839844,
          -16.310848236083984,
          -14.5355806350708,
          -14.59032917022705,
          -14.53437328338623,
          -14.577031135559082,
          -14.537927627563477,
          -14.555088996887207,
          -14.553542137145996,
          -14.573938369750977,
          -14.576478958129883,
          -14.572827339172363,
          -14.483845710754395,
          -14.551841735839844,
          -14.54715347290039,
          -14.538216590881348,
          -14.409502983093262,
          -14.440788269042969,
          -14.556304931640625,
          -14.529839515686035,
          -14.511033058166504,
          -14.560216903686523,
          -14.50347900390625,
          -14.452014923095703,
          -14.54595947265625,
          -14.420165061950684
         ],
         "yaxis": "y"
        },
        {
         "customdata": [
          [
           1958,
           "USA",
           "BALLOON",
           "ATMOSPHERIC",
           "PACIFIC",
           1958
          ],
          [
           1962,
           "USA",
           "ROCKET",
           "ATMOSPHERIC",
           "PACIFIC",
           1962
          ],
          [
           1962,
           "USA",
           "UW",
           "ATMOSPHERIC",
           "PACIFIC",
           1962
          ]
         ],
         "hoverlabel": {
          "namelength": 0
         },
         "hovertemplate": "region=%{customdata[4]}<br>x=%{x}<br>y=%{y}<br>year=%{customdata[5]}<br>country=%{customdata[1]}<br>type=%{customdata[2]}<br>type_cat=%{customdata[3]}",
         "legendgroup": "region=PACIFIC",
         "marker": {
          "color": "#B6E880",
          "symbol": "circle"
         },
         "mode": "markers",
         "name": "region=PACIFIC",
         "showlegend": true,
         "type": "scattergl",
         "uid": "9c298fa7-811f-42eb-a076-edd9e20ffee2",
         "x": [
          -4.741755962371826,
          -5.881833076477051,
          -6.049319744110107
         ],
         "xaxis": "x",
         "y": [
          -16.7437686920166,
          -14.586409568786621,
          -14.501978874206543
         ],
         "yaxis": "y"
        },
        {
         "customdata": [
          [
           1958,
           "USA",
           "ROCKET",
           "ATMOSPHERIC",
           "JOHNSTON IS",
           1958
          ],
          [
           1958,
           "USA",
           "ROCKET",
           "ATMOSPHERIC",
           "JOHNSTON IS",
           1958
          ],
          [
           1962,
           "USA",
           "ROCKET",
           "ATMOSPHERIC",
           "JOHNSTON IS",
           1962
          ],
          [
           1962,
           "USA",
           "AIRDROP",
           "ATMOSPHERIC",
           "JOHNSTON IS",
           1962
          ],
          [
           1962,
           "USA",
           "AIRDROP",
           "ATMOSPHERIC",
           "JOHNSTON IS",
           1962
          ],
          [
           1962,
           "USA",
           "AIRDROP",
           "ATMOSPHERIC",
           "JOHNSTON IS",
           1962
          ],
          [
           1962,
           "USA",
           "ROCKET",
           "ATMOSPHERIC",
           "JOHNSTON IS",
           1962
          ],
          [
           1962,
           "USA",
           "ROCKET",
           "ATMOSPHERIC",
           "JOHNSTON IS",
           1962
          ],
          [
           1962,
           "USA",
           "AIRDROP",
           "ATMOSPHERIC",
           "JOHNSTON IS",
           1962
          ],
          [
           1962,
           "USA",
           "AIRDROP",
           "ATMOSPHERIC",
           "JOHNSTON IS",
           1962
          ],
          [
           1962,
           "USA",
           "ROCKET",
           "ATMOSPHERIC",
           "JOHNSTON IS",
           1962
          ],
          [
           1962,
           "USA",
           "ROCKET",
           "ATMOSPHERIC",
           "JOHNSTON IS",
           1962
          ]
         ],
         "hoverlabel": {
          "namelength": 0
         },
         "hovertemplate": "region=%{customdata[4]}<br>x=%{x}<br>y=%{y}<br>year=%{customdata[5]}<br>country=%{customdata[1]}<br>type=%{customdata[2]}<br>type_cat=%{customdata[3]}",
         "legendgroup": "region=JOHNSTON IS",
         "marker": {
          "color": "#636efa",
          "symbol": "circle"
         },
         "mode": "markers",
         "name": "region=JOHNSTON IS",
         "showlegend": true,
         "type": "scattergl",
         "uid": "8a420f24-40b3-4593-afca-58c8755004bc",
         "x": [
          -4.773298263549805,
          -4.733285427093506,
          -4.6671648025512695,
          -5.953446388244629,
          -6.030754089355469,
          -4.966902732849121,
          -6.0418219566345215,
          -5.51504373550415,
          -5.245743274688721,
          -4.556187152862549,
          -5.5134735107421875,
          -6.032594203948975
         ],
         "xaxis": "x",
         "y": [
          -14.957722663879395,
          -14.490250587463379,
          -16.250919342041016,
          -14.547533988952637,
          -14.493492126464844,
          -14.427584648132324,
          -14.493473052978516,
          -14.588866233825684,
          -14.551276206970215,
          -14.50439453125,
          -14.579349517822266,
          -14.504108428955078
         ],
         "yaxis": "y"
        },
        {
         "customdata": [
          [
           1958,
           "USA",
           "ROCKET",
           "ATMOSPHERIC",
           "S. ATLANTIC",
           1958
          ]
         ],
         "hoverlabel": {
          "namelength": 0
         },
         "hovertemplate": "region=%{customdata[4]}<br>x=%{x}<br>y=%{y}<br>year=%{customdata[5]}<br>country=%{customdata[1]}<br>type=%{customdata[2]}<br>type_cat=%{customdata[3]}",
         "legendgroup": "region=S. ATLANTIC",
         "marker": {
          "color": "#EF553B",
          "symbol": "circle"
         },
         "mode": "markers",
         "name": "region=S. ATLANTIC",
         "showlegend": true,
         "type": "scattergl",
         "uid": "4b18a969-d5aa-405f-9bfa-c96a1ba18422",
         "x": [
          -4.6518731117248535
         ],
         "xaxis": "x",
         "y": [
          -16.222766876220703
         ],
         "yaxis": "y"
        },
        {
         "customdata": [
          [
           1958,
           "USA",
           "ROCKET",
           "ATMOSPHERIC",
           "S.ATLANTIC",
           1958
          ],
          [
           1958,
           "USA",
           "ROCKET",
           "ATMOSPHERIC",
           "S.ATLANTIC",
           1958
          ]
         ],
         "hoverlabel": {
          "namelength": 0
         },
         "hovertemplate": "region=%{customdata[4]}<br>x=%{x}<br>y=%{y}<br>year=%{customdata[5]}<br>country=%{customdata[1]}<br>type=%{customdata[2]}<br>type_cat=%{customdata[3]}",
         "legendgroup": "region=S.ATLANTIC",
         "marker": {
          "color": "#00cc96",
          "symbol": "circle"
         },
         "mode": "markers",
         "name": "region=S.ATLANTIC",
         "showlegend": true,
         "type": "scattergl",
         "uid": "32c065ce-5d38-4e99-beba-481d31e3aecd",
         "x": [
          -4.669290065765381,
          -4.667846202850342
         ],
         "xaxis": "x",
         "y": [
          -16.242164611816406,
          -16.241836547851562
         ],
         "yaxis": "y"
        },
        {
         "customdata": [
          [
           1958,
           "USSR",
           "ATMOSPH",
           "ATMOSPHERIC",
           "HTR RUSS",
           1958
          ]
         ],
         "hoverlabel": {
          "namelength": 0
         },
         "hovertemplate": "region=%{customdata[4]}<br>x=%{x}<br>y=%{y}<br>year=%{customdata[5]}<br>country=%{customdata[1]}<br>type=%{customdata[2]}<br>type_cat=%{customdata[3]}",
         "legendgroup": "region=HTR RUSS",
         "marker": {
          "color": "#ab63fa",
          "symbol": "circle"
         },
         "mode": "markers",
         "name": "region=HTR RUSS",
         "showlegend": true,
         "type": "scattergl",
         "uid": "25aebddc-be70-4ecd-814c-77ef3ea8459c",
         "x": [
          -4.102770805358887
         ],
         "xaxis": "x",
         "y": [
          -12.278669357299805
         ],
         "yaxis": "y"
        },
        {
         "customdata": [
          [
           1960,
           "FRANCE",
           "TOWER",
           "ATMOSPHERIC",
           "REGGANE ALG",
           1960
          ],
          [
           1960,
           "FRANCE",
           "SURFACE",
           "ATMOSPHERIC",
           "REGGANE ALG",
           1960
          ],
          [
           1960,
           "FRANCE",
           "TOWER",
           "ATMOSPHERIC",
           "REGGANE ALG",
           1960
          ],
          [
           1961,
           "FRANCE",
           "TOWER",
           "ATMOSPHERIC",
           "REGGANE ALG",
           1961
          ]
         ],
         "hoverlabel": {
          "namelength": 0
         },
         "hovertemplate": "region=%{customdata[4]}<br>x=%{x}<br>y=%{y}<br>year=%{customdata[5]}<br>country=%{customdata[1]}<br>type=%{customdata[2]}<br>type_cat=%{customdata[3]}",
         "legendgroup": "region=REGGANE ALG",
         "marker": {
          "color": "#19d3f3",
          "symbol": "circle"
         },
         "mode": "markers",
         "name": "region=REGGANE ALG",
         "showlegend": true,
         "type": "scattergl",
         "uid": "ac3bbbb8-c409-4b93-8629-75db3d6cd1c5",
         "x": [
          -17.055051803588867,
          -17.053674697875977,
          -17.095727920532227,
          -17.0398006439209
         ],
         "xaxis": "x",
         "y": [
          3.473004102706909,
          3.44464111328125,
          3.4333653450012207,
          3.465451240539551
         ],
         "yaxis": "y"
        },
        {
         "customdata": [
          [
           1961,
           "FRANCE",
           "GALLERY",
           "UNDERGROUND",
           "IN ECKER ALG",
           1961
          ],
          [
           1962,
           "FRANCE",
           "GALLERY",
           "UNDERGROUND",
           "IN ECKER ALG",
           1962
          ],
          [
           1963,
           "FRANCE",
           "GALLERY",
           "UNDERGROUND",
           "IN ECKER ALG",
           1963
          ],
          [
           1963,
           "FRANCE",
           "GALLERY",
           "UNDERGROUND",
           "IN ECKER ALG",
           1963
          ],
          [
           1963,
           "FRANCE",
           "GALLERY",
           "UNDERGROUND",
           "IN ECKER ALG",
           1963
          ],
          [
           1964,
           "FRANCE",
           "GALLERY",
           "UNDERGROUND",
           "IN ECKER ALG",
           1964
          ],
          [
           1964,
           "FRANCE",
           "GALLERY",
           "UNDERGROUND",
           "IN ECKER ALG",
           1964
          ],
          [
           1964,
           "FRANCE",
           "GALLERY",
           "UNDERGROUND",
           "IN ECKER ALG",
           1964
          ],
          [
           1965,
           "FRANCE",
           "GALLERY",
           "UNDERGROUND",
           "IN ECKER ALG",
           1965
          ],
          [
           1965,
           "FRANCE",
           "GALLERY",
           "UNDERGROUND",
           "IN ECKER ALG",
           1965
          ],
          [
           1965,
           "FRANCE",
           "GALLERY",
           "UNDERGROUND",
           "IN ECKER ALG",
           1965
          ],
          [
           1965,
           "FRANCE",
           "GALLERY",
           "UNDERGROUND",
           "IN ECKER ALG",
           1965
          ],
          [
           1966,
           "FRANCE",
           "GALLERY",
           "UNDERGROUND",
           "IN ECKER ALG",
           1966
          ]
         ],
         "hoverlabel": {
          "namelength": 0
         },
         "hovertemplate": "region=%{customdata[4]}<br>x=%{x}<br>y=%{y}<br>year=%{customdata[5]}<br>country=%{customdata[1]}<br>type=%{customdata[2]}<br>type_cat=%{customdata[3]}",
         "legendgroup": "region=IN ECKER ALG",
         "marker": {
          "color": "#e763fa",
          "symbol": "circle"
         },
         "mode": "markers",
         "name": "region=IN ECKER ALG",
         "showlegend": true,
         "type": "scattergl",
         "uid": "f45d59b7-b63a-472b-9bff-ab9bfa383123",
         "x": [
          -4.979816436767578,
          -4.991538047790527,
          -4.979617595672607,
          -4.979440212249756,
          -4.979405879974365,
          -4.979262351989746,
          -4.979159832000732,
          -4.964200496673584,
          -7.012448787689209,
          -4.978971004486084,
          -4.979015827178955,
          -7.038433074951172,
          -4.978992938995361
         ],
         "xaxis": "x",
         "y": [
          14.2710542678833,
          14.277497291564941,
          14.270875930786133,
          14.270553588867188,
          14.270604133605957,
          14.270370483398438,
          14.270360946655273,
          14.254467964172363,
          9.3231201171875,
          14.270259857177734,
          14.270234107971191,
          9.327146530151367,
          14.270200729370117
         ],
         "yaxis": "y"
        },
        {
         "customdata": [
          [
           1961,
           "USA",
           "SHAFT",
           "UNDERGROUND",
           "CARLSBAD NM",
           1961
          ]
         ],
         "hoverlabel": {
          "namelength": 0
         },
         "hovertemplate": "region=%{customdata[4]}<br>x=%{x}<br>y=%{y}<br>year=%{customdata[5]}<br>country=%{customdata[1]}<br>type=%{customdata[2]}<br>type_cat=%{customdata[3]}",
         "legendgroup": "region=CARLSBAD NM",
         "marker": {
          "color": "#FECB52",
          "symbol": "circle"
         },
         "mode": "markers",
         "name": "region=CARLSBAD NM",
         "showlegend": true,
         "type": "scattergl",
         "uid": "358d24d5-1b39-4400-95ca-83fe594afbde",
         "x": [
          3.3563034534454346
         ],
         "xaxis": "x",
         "y": [
          -10.5558500289917
         ],
         "yaxis": "y"
        },
        {
         "customdata": [
          [
           1963,
           "USA",
           "SURFACE",
           "ATMOSPHERIC",
           "NELLIS NV",
           1963
          ],
          [
           1963,
           "USA",
           "SURFACE",
           "ATMOSPHERIC",
           "NELLIS NV",
           1963
          ],
          [
           1963,
           "USA",
           "SURFACE",
           "ATMOSPHERIC",
           "NELLIS NV",
           1963
          ],
          [
           1963,
           "USA",
           "SURFACE",
           "ATMOSPHERIC",
           "NELLIS NV",
           1963
          ]
         ],
         "hoverlabel": {
          "namelength": 0
         },
         "hovertemplate": "region=%{customdata[4]}<br>x=%{x}<br>y=%{y}<br>year=%{customdata[5]}<br>country=%{customdata[1]}<br>type=%{customdata[2]}<br>type_cat=%{customdata[3]}",
         "legendgroup": "region=NELLIS NV",
         "marker": {
          "color": "#FFA15A",
          "symbol": "circle"
         },
         "mode": "markers",
         "name": "region=NELLIS NV",
         "showlegend": true,
         "type": "scattergl",
         "uid": "3e63242c-6859-488b-a24d-bfeba4a4b933",
         "x": [
          -6.038267135620117,
          -6.0400261878967285,
          -6.05545711517334,
          -6.061277866363525
         ],
         "xaxis": "x",
         "y": [
          -14.48597240447998,
          -14.486473083496094,
          -14.469736099243164,
          -14.464705467224121
         ],
         "yaxis": "y"
        },
        {
         "customdata": [
          [
           1963,
           "USA",
           "SHAFT",
           "UNDERGROUND",
           "FALLON NV",
           1963
          ]
         ],
         "hoverlabel": {
          "namelength": 0
         },
         "hovertemplate": "region=%{customdata[4]}<br>x=%{x}<br>y=%{y}<br>year=%{customdata[5]}<br>country=%{customdata[1]}<br>type=%{customdata[2]}<br>type_cat=%{customdata[3]}",
         "legendgroup": "region=FALLON NV",
         "marker": {
          "color": "#FF6692",
          "symbol": "circle"
         },
         "mode": "markers",
         "name": "region=FALLON NV",
         "showlegend": true,
         "type": "scattergl",
         "uid": "cb0176f2-3f58-403d-9095-2a2c1ba2a4a3",
         "x": [
          25.768077850341797
         ],
         "xaxis": "x",
         "y": [
          3.6472644805908203
         ],
         "yaxis": "y"
        },
        {
         "customdata": [
          [
           1964,
           "CHINA",
           "TOWER",
           "ATMOSPHERIC",
           "LOP NOR",
           1964
          ],
          [
           1965,
           "CHINA",
           "AIRDROP",
           "ATMOSPHERIC",
           "LOP NOR",
           1965
          ],
          [
           1966,
           "CHINA",
           "AIRDROP",
           "ATMOSPHERIC",
           "LOP NOR",
           1966
          ],
          [
           1966,
           "CHINA",
           "ROCKET",
           "ATMOSPHERIC",
           "LOP NOR",
           1966
          ],
          [
           1966,
           "CHINA",
           "TOWER",
           "ATMOSPHERIC",
           "LOP NOR",
           1966
          ],
          [
           1967,
           "CHINA",
           "AIRDROP",
           "ATMOSPHERIC",
           "LOP NOR",
           1967
          ],
          [
           1967,
           "CHINA",
           "AIRDROP",
           "ATMOSPHERIC",
           "LOP NOR",
           1967
          ],
          [
           1968,
           "CHINA",
           "AIRDROP",
           "ATMOSPHERIC",
           "LOP NOR",
           1968
          ],
          [
           1969,
           "CHINA",
           "UG",
           "UNDERGROUND",
           "LOP NOR",
           1969
          ],
          [
           1969,
           "CHINA",
           "AIRDROP",
           "ATMOSPHERIC",
           "LOP NOR",
           1969
          ],
          [
           1970,
           "CHINA",
           "AIRDROP",
           "ATMOSPHERIC",
           "LOP NOR",
           1970
          ],
          [
           1971,
           "CHINA",
           "TOWER",
           "ATMOSPHERIC",
           "LOP NOR",
           1971
          ],
          [
           1972,
           "CHINA",
           "AIRDROP",
           "ATMOSPHERIC",
           "LOP NOR",
           1972
          ],
          [
           1972,
           "CHINA",
           "AIRDROP",
           "ATMOSPHERIC",
           "LOP NOR",
           1972
          ],
          [
           1973,
           "CHINA",
           "AIRDROP",
           "ATMOSPHERIC",
           "LOP NOR",
           1973
          ],
          [
           1974,
           "CHINA",
           "ATMOSPH",
           "ATMOSPHERIC",
           "LOP NOR",
           1974
          ],
          [
           1975,
           "CHINA",
           "UG",
           "UNDERGROUND",
           "LOP NOR",
           1975
          ],
          [
           1976,
           "CHINA",
           "ATMOSPH",
           "ATMOSPHERIC",
           "LOP NOR",
           1976
          ],
          [
           1976,
           "CHINA",
           "ATMOSPH",
           "ATMOSPHERIC",
           "LOP NOR",
           1976
          ],
          [
           1976,
           "CHINA",
           "UG",
           "UNDERGROUND",
           "LOP NOR",
           1976
          ],
          [
           1976,
           "CHINA",
           "AIRDROP",
           "ATMOSPHERIC",
           "LOP NOR",
           1976
          ],
          [
           1977,
           "CHINA",
           "ATMOSPH",
           "ATMOSPHERIC",
           "LOP NOR",
           1977
          ],
          [
           1978,
           "CHINA",
           "ATMOSPH",
           "ATMOSPHERIC",
           "LOP NOR",
           1978
          ],
          [
           1978,
           "CHINA",
           "UG",
           "UNDERGROUND",
           "LOP NOR",
           1978
          ],
          [
           1978,
           "CHINA",
           "ATMOSPH",
           "ATMOSPHERIC",
           "LOP NOR",
           1978
          ],
          [
           1979,
           "CHINA",
           "ATMOSPH",
           "ATMOSPHERIC",
           "LOP NOR",
           1979
          ],
          [
           1980,
           "CHINA",
           "ATMOSPH",
           "ATMOSPHERIC",
           "LOP NOR",
           1980
          ],
          [
           1982,
           "CHINA",
           "UG",
           "UNDERGROUND",
           "LOP NOR",
           1982
          ],
          [
           1983,
           "CHINA",
           "UG",
           "UNDERGROUND",
           "LOP NOR",
           1983
          ],
          [
           1983,
           "CHINA",
           "UG",
           "UNDERGROUND",
           "LOP NOR",
           1983
          ],
          [
           1984,
           "CHINA",
           "UG",
           "UNDERGROUND",
           "LOP NOR",
           1984
          ],
          [
           1984,
           "CHINA",
           "UG",
           "UNDERGROUND",
           "LOP NOR",
           1984
          ],
          [
           1987,
           "CHINA",
           "UG",
           "UNDERGROUND",
           "LOP NOR",
           1987
          ],
          [
           1988,
           "CHINA",
           "UG",
           "UNDERGROUND",
           "LOP NOR",
           1988
          ],
          [
           1990,
           "CHINA",
           "UG",
           "UNDERGROUND",
           "LOP NOR",
           1990
          ],
          [
           1990,
           "CHINA",
           "UG",
           "UNDERGROUND",
           "LOP NOR",
           1990
          ],
          [
           1992,
           "CHINA",
           "UG",
           "UNDERGROUND",
           "LOP NOR",
           1992
          ],
          [
           1992,
           "CHINA",
           "UG",
           "UNDERGROUND",
           "LOP NOR",
           1992
          ],
          [
           1993,
           "CHINA",
           "UG",
           "UNDERGROUND",
           "LOP NOR",
           1993
          ],
          [
           1994,
           "CHINA",
           "UG",
           "UNDERGROUND",
           "LOP NOR",
           1994
          ],
          [
           1994,
           "CHINA",
           "UG",
           "UNDERGROUND",
           "LOP NOR",
           1994
          ],
          [
           1995,
           "CHINA",
           "UG",
           "UNDERGROUND",
           "LOP NOR",
           1995
          ],
          [
           1995,
           "CHINA",
           "UG",
           "UNDERGROUND",
           "LOP NOR",
           1995
          ],
          [
           1996,
           "CHINA",
           "UG",
           "UNDERGROUND",
           "LOP NOR",
           1996
          ],
          [
           1996,
           "CHINA",
           "UG",
           "UNDERGROUND",
           "LOP NOR",
           1996
          ]
         ],
         "hoverlabel": {
          "namelength": 0
         },
         "hovertemplate": "region=%{customdata[4]}<br>x=%{x}<br>y=%{y}<br>year=%{customdata[5]}<br>country=%{customdata[1]}<br>type=%{customdata[2]}<br>type_cat=%{customdata[3]}",
         "legendgroup": "region=LOP NOR",
         "marker": {
          "color": "#B6E880",
          "symbol": "circle"
         },
         "mode": "markers",
         "name": "region=LOP NOR",
         "showlegend": true,
         "type": "scattergl",
         "uid": "4ee20b9a-6dc5-457e-ae94-88bcb9a93c60",
         "x": [
          -16.919193267822266,
          -16.813262939453125,
          -16.972665786743164,
          -16.892391204833984,
          -16.955827713012695,
          -16.81582260131836,
          -16.865327835083008,
          -16.863971710205078,
          -7.050267219543457,
          -16.856048583984375,
          -16.882158279418945,
          -16.756336212158203,
          -16.78691291809082,
          -16.753564834594727,
          -16.828514099121094,
          -12.723854064941406,
          -6.936565399169922,
          -16.656017303466797,
          -16.671716690063477,
          -6.972147464752197,
          -16.81315803527832,
          -16.678041458129883,
          -16.695707321166992,
          -6.9156413078308105,
          -16.710445404052734,
          -16.707027435302734,
          -12.696216583251953,
          -3.5002875328063965,
          -3.54170823097229,
          -6.849634170532227,
          -6.832579612731934,
          -6.797603130340576,
          -12.758984565734863,
          -6.763866424560547,
          -6.766104221343994,
          -12.741207122802734,
          -12.743000984191895,
          -6.773325443267822,
          -12.739909172058105,
          -12.73307991027832,
          -6.721656799316406,
          -6.758415222167969,
          -6.767281532287598,
          -6.753412246704102,
          -6.749388694763184
         ],
         "xaxis": "x",
         "y": [
          3.4154112339019775,
          3.44698429107666,
          3.3841421604156494,
          3.408630847930908,
          3.4272336959838867,
          3.5188496112823486,
          3.4081404209136963,
          3.5072176456451416,
          9.344156265258789,
          3.528791904449463,
          3.5108566284179688,
          3.436861515045166,
          3.4372799396514893,
          3.3722610473632812,
          3.594576835632324,
          -3.9671852588653564,
          9.22962760925293,
          3.5163650512695312,
          3.5071399211883545,
          9.263031005859375,
          3.506256341934204,
          3.4637398719787598,
          3.4651806354522705,
          9.196828842163086,
          3.4881391525268555,
          3.4863669872283936,
          -4.018136978149414,
          17.296600341796875,
          17.297260284423828,
          9.126688957214355,
          9.106640815734863,
          9.070438385009766,
          -4.0067548751831055,
          9.029155731201172,
          9.032425880432129,
          -3.9892737865448,
          -3.991326093673706,
          9.03747272491455,
          -3.987783908843994,
          -3.9891257286071777,
          8.97580337524414,
          9.02050495147705,
          9.030641555786133,
          9.01605224609375,
          9.010947227478027
         ],
         "yaxis": "y"
        },
        {
         "customdata": [
          [
           1964,
           "USA",
           "SHAFT",
           "UNDERGROUND",
           "HATTIESB MS",
           1964
          ]
         ],
         "hoverlabel": {
          "namelength": 0
         },
         "hovertemplate": "region=%{customdata[4]}<br>x=%{x}<br>y=%{y}<br>year=%{customdata[5]}<br>country=%{customdata[1]}<br>type=%{customdata[2]}<br>type_cat=%{customdata[3]}",
         "legendgroup": "region=HATTIESB MS",
         "marker": {
          "color": "#636efa",
          "symbol": "circle"
         },
         "mode": "markers",
         "name": "region=HATTIESB MS",
         "showlegend": true,
         "type": "scattergl",
         "uid": "c51a6d15-a7fe-4d56-9af1-39924a2e4332",
         "x": [
          28.436681747436523
         ],
         "xaxis": "x",
         "y": [
          -4.897367477416992
         ],
         "yaxis": "y"
        },
        {
         "customdata": [
          [
           1965,
           "USSR",
           "SHAFT",
           "UNDERGROUND",
           "BASHKIR RUSS",
           1965
          ],
          [
           1965,
           "USSR",
           "SHAFT",
           "UNDERGROUND",
           "BASHKIR RUSS",
           1965
          ],
          [
           1973,
           "USSR",
           "SHAFT",
           "UNDERGROUND",
           "BASHKIR RUSS",
           1973
          ],
          [
           1974,
           "USSR",
           "SHAFT",
           "UNDERGROUND",
           "BASHKIR RUSS",
           1974
          ],
          [
           1980,
           "USSR",
           "SHAFT",
           "UNDERGROUND",
           "BASHKIR RUSS",
           1980
          ]
         ],
         "hoverlabel": {
          "namelength": 0
         },
         "hovertemplate": "region=%{customdata[4]}<br>x=%{x}<br>y=%{y}<br>year=%{customdata[5]}<br>country=%{customdata[1]}<br>type=%{customdata[2]}<br>type_cat=%{customdata[3]}",
         "legendgroup": "region=BASHKIR RUSS",
         "marker": {
          "color": "#EF553B",
          "symbol": "circle"
         },
         "mode": "markers",
         "name": "region=BASHKIR RUSS",
         "showlegend": true,
         "type": "scattergl",
         "uid": "6917f26e-4680-401b-8654-67ff2174a907",
         "x": [
          10.896596908569336,
          10.903675079345703,
          -12.624704360961914,
          10.170700073242188,
          9.619678497314453
         ],
         "xaxis": "x",
         "y": [
          18.668119430541992,
          18.661211013793945,
          7.507558822631836,
          19.791345596313477,
          20.88832664489746
         ],
         "yaxis": "y"
        },
        {
         "customdata": [
          [
           1965,
           "USA",
           "SHAFT",
           "UNDERGROUND",
           "AMCHITKA AK",
           1965
          ],
          [
           1969,
           "USA",
           "SHAFT",
           "UNDERGROUND",
           "AMCHITKA AK",
           1969
          ],
          [
           1971,
           "USA",
           "SHAFT",
           "UNDERGROUND",
           "AMCHITKA AK",
           1971
          ]
         ],
         "hoverlabel": {
          "namelength": 0
         },
         "hovertemplate": "region=%{customdata[4]}<br>x=%{x}<br>y=%{y}<br>year=%{customdata[5]}<br>country=%{customdata[1]}<br>type=%{customdata[2]}<br>type_cat=%{customdata[3]}",
         "legendgroup": "region=AMCHITKA AK",
         "marker": {
          "color": "#00cc96",
          "symbol": "circle"
         },
         "mode": "markers",
         "name": "region=AMCHITKA AK",
         "showlegend": true,
         "type": "scattergl",
         "uid": "4173074e-b854-45e7-ac5e-e8812b8845d8",
         "x": [
          3.491144895553589,
          3.4184815883636475,
          -11.872941970825195
         ],
         "xaxis": "x",
         "y": [
          -11.200421333312988,
          -11.389229774475098,
          -3.8486156463623047
         ],
         "yaxis": "y"
        },
        {
         "customdata": [
          [
           1966,
           "USSR",
           "SHAFT",
           "UNDERGROUND",
           "AZGIR KAZAKH",
           1966
          ],
          [
           1968,
           "USSR",
           "SHAFT",
           "UNDERGROUND",
           "AZGIR KAZAKH",
           1968
          ],
          [
           1971,
           "USSR",
           "SHAFT",
           "UNDERGROUND",
           "AZGIR KAZAKH",
           1971
          ],
          [
           1975,
           "USSR",
           "SHAFT",
           "UNDERGROUND",
           "AZGIR KAZAKH",
           1975
          ],
          [
           1976,
           "USSR",
           "SHAFT",
           "UNDERGROUND",
           "AZGIR KAZAKH",
           1976
          ],
          [
           1976,
           "USSR",
           "SHAFT",
           "UNDERGROUND",
           "AZGIR KAZAKH",
           1976
          ],
          [
           1977,
           "USSR",
           "SHAFT",
           "UNDERGROUND",
           "AZGIR KAZAKH",
           1977
          ],
          [
           1977,
           "USSR",
           "SHAFT",
           "UNDERGROUND",
           "AZGIR KAZAKH",
           1977
          ],
          [
           1977,
           "USSR",
           "SHAFT",
           "UNDERGROUND",
           "AZGIR KAZAKH",
           1977
          ],
          [
           1978,
           "USSR",
           "SHAFT",
           "UNDERGROUND",
           "AZGIR KAZAKH",
           1978
          ],
          [
           1978,
           "USSR",
           "SHAFT",
           "UNDERGROUND",
           "AZGIR KAZAKH",
           1978
          ],
          [
           1978,
           "USSR",
           "SHAFT",
           "UNDERGROUND",
           "AZGIR KAZAKH",
           1978
          ],
          [
           1979,
           "USSR",
           "SHAFT",
           "UNDERGROUND",
           "AZGIR KAZAKH",
           1979
          ]
         ],
         "hoverlabel": {
          "namelength": 0
         },
         "hovertemplate": "region=%{customdata[4]}<br>x=%{x}<br>y=%{y}<br>year=%{customdata[5]}<br>country=%{customdata[1]}<br>type=%{customdata[2]}<br>type_cat=%{customdata[3]}",
         "legendgroup": "region=AZGIR KAZAKH",
         "marker": {
          "color": "#ab63fa",
          "symbol": "circle"
         },
         "mode": "markers",
         "name": "region=AZGIR KAZAKH",
         "showlegend": true,
         "type": "scattergl",
         "uid": "47a65366-44ac-4f31-a457-a95a0a4537b0",
         "x": [
          10.877706527709961,
          -11.472403526306152,
          -12.061850547790527,
          -12.902030944824219,
          10.00671100616455,
          -11.682046890258789,
          -13.463282585144043,
          9.887798309326172,
          9.890409469604492,
          9.845465660095215,
          -11.75363826751709,
          9.820999145507812,
          -11.858397483825684
         ],
         "xaxis": "x",
         "y": [
          18.693185806274414,
          6.897834300994873,
          7.027446269989014,
          7.705643177032471,
          20.125995635986328,
          -4.035045146942139,
          8.063139915466309,
          20.34931755065918,
          20.34040641784668,
          20.436201095581055,
          -4.063777923583984,
          20.47943687438965,
          -3.985382556915283
         ],
         "yaxis": "y"
        },
        {
         "customdata": [
          [
           1966,
           "FRANCE",
           "BARGE",
           "ATMOSPHERIC",
           "MURUHOA",
           1966
          ]
         ],
         "hoverlabel": {
          "namelength": 0
         },
         "hovertemplate": "region=%{customdata[4]}<br>x=%{x}<br>y=%{y}<br>year=%{customdata[5]}<br>country=%{customdata[1]}<br>type=%{customdata[2]}<br>type_cat=%{customdata[3]}",
         "legendgroup": "region=MURUHOA",
         "marker": {
          "color": "#19d3f3",
          "symbol": "circle"
         },
         "mode": "markers",
         "name": "region=MURUHOA",
         "showlegend": true,
         "type": "scattergl",
         "uid": "6059897d-f329-4fef-b19c-dcff875c77da",
         "x": [
          -17.094385147094727
         ],
         "xaxis": "x",
         "y": [
          3.423652172088623
         ],
         "yaxis": "y"
        },
        {
         "customdata": [
          [
           1966,
           "FRANCE",
           "AIRDROP",
           "ATMOSPHERIC",
           "MURUROA",
           1966
          ],
          [
           1966,
           "FRANCE",
           "TOWER",
           "ATMOSPHERIC",
           "MURUROA",
           1966
          ],
          [
           1966,
           "FRANCE",
           "BALLOON",
           "ATMOSPHERIC",
           "MURUROA",
           1966
          ],
          [
           1966,
           "FRANCE",
           "BARGE",
           "ATMOSPHERIC",
           "MURUROA",
           1966
          ],
          [
           1967,
           "FRANCE",
           "BALLOON",
           "ATMOSPHERIC",
           "MURUROA",
           1967
          ],
          [
           1967,
           "FRANCE",
           "BARGE",
           "ATMOSPHERIC",
           "MURUROA",
           1967
          ],
          [
           1968,
           "FRANCE",
           "BALLOON",
           "ATMOSPHERIC",
           "MURUROA",
           1968
          ],
          [
           1968,
           "FRANCE",
           "BALLOON",
           "ATMOSPHERIC",
           "MURUROA",
           1968
          ],
          [
           1968,
           "FRANCE",
           "BALLOON",
           "ATMOSPHERIC",
           "MURUROA",
           1968
          ],
          [
           1968,
           "FRANCE",
           "BALLOON",
           "ATMOSPHERIC",
           "MURUROA",
           1968
          ],
          [
           1970,
           "FRANCE",
           "BALLOON",
           "ATMOSPHERIC",
           "MURUROA",
           1970
          ],
          [
           1970,
           "FRANCE",
           "BALLOON",
           "ATMOSPHERIC",
           "MURUROA",
           1970
          ],
          [
           1970,
           "FRANCE",
           "BALLOON",
           "ATMOSPHERIC",
           "MURUROA",
           1970
          ],
          [
           1970,
           "FRANCE",
           "BALLOON",
           "ATMOSPHERIC",
           "MURUROA",
           1970
          ],
          [
           1970,
           "FRANCE",
           "BALLOON",
           "ATMOSPHERIC",
           "MURUROA",
           1970
          ],
          [
           1970,
           "FRANCE",
           "BALLOON",
           "ATMOSPHERIC",
           "MURUROA",
           1970
          ],
          [
           1971,
           "FRANCE",
           "BALLOON",
           "ATMOSPHERIC",
           "MURUROA",
           1971
          ],
          [
           1971,
           "FRANCE",
           "BALLOON",
           "ATMOSPHERIC",
           "MURUROA",
           1971
          ],
          [
           1971,
           "FRANCE",
           "BALLOON",
           "ATMOSPHERIC",
           "MURUROA",
           1971
          ],
          [
           1971,
           "FRANCE",
           "BALLOON",
           "ATMOSPHERIC",
           "MURUROA",
           1971
          ],
          [
           1971,
           "FRANCE",
           "BALLOON",
           "ATMOSPHERIC",
           "MURUROA",
           1971
          ],
          [
           1972,
           "FRANCE",
           "BALLOON",
           "ATMOSPHERIC",
           "MURUROA",
           1972
          ],
          [
           1972,
           "FRANCE",
           "BALLOON",
           "ATMOSPHERIC",
           "MURUROA",
           1972
          ],
          [
           1972,
           "FRANCE",
           "BALLOON",
           "ATMOSPHERIC",
           "MURUROA",
           1972
          ],
          [
           1972,
           "FRANCE",
           "TOWER",
           "ATMOSPHERIC",
           "MURUROA",
           1972
          ],
          [
           1973,
           "FRANCE",
           "BALLOON",
           "ATMOSPHERIC",
           "MURUROA",
           1973
          ],
          [
           1973,
           "FRANCE",
           "BALLOON",
           "ATMOSPHERIC",
           "MURUROA",
           1973
          ],
          [
           1973,
           "FRANCE",
           "BALLOON",
           "ATMOSPHERIC",
           "MURUROA",
           1973
          ],
          [
           1973,
           "FRANCE",
           "BALLOON",
           "ATMOSPHERIC",
           "MURUROA",
           1973
          ],
          [
           1973,
           "FRANCE",
           "TOWER",
           "ATMOSPHERIC",
           "MURUROA",
           1973
          ],
          [
           1974,
           "FRANCE",
           "BALLOON",
           "ATMOSPHERIC",
           "MURUROA",
           1974
          ],
          [
           1974,
           "FRANCE",
           "TOWER",
           "ATMOSPHERIC",
           "MURUROA",
           1974
          ],
          [
           1974,
           "FRANCE",
           "BALLOON",
           "ATMOSPHERIC",
           "MURUROA",
           1974
          ],
          [
           1974,
           "FRANCE",
           "BALLOON",
           "ATMOSPHERIC",
           "MURUROA",
           1974
          ],
          [
           1974,
           "FRANCE",
           "TOWER",
           "ATMOSPHERIC",
           "MURUROA",
           1974
          ],
          [
           1974,
           "FRANCE",
           "BALLOON",
           "ATMOSPHERIC",
           "MURUROA",
           1974
          ],
          [
           1974,
           "FRANCE",
           "BALLOON",
           "ATMOSPHERIC",
           "MURUROA",
           1974
          ],
          [
           1974,
           "FRANCE",
           "BALLOON",
           "ATMOSPHERIC",
           "MURUROA",
           1974
          ],
          [
           1976,
           "FRANCE",
           "SHAFT/GR",
           "UNDERGROUND",
           "MURUROA",
           1976
          ],
          [
           1976,
           "FRANCE",
           "SHAFT/GR",
           "UNDERGROUND",
           "MURUROA",
           1976
          ],
          [
           1976,
           "FRANCE",
           "SHAFT/GR",
           "UNDERGROUND",
           "MURUROA",
           1976
          ],
          [
           1976,
           "FRANCE",
           "SHAFT/GR",
           "UNDERGROUND",
           "MURUROA",
           1976
          ],
          [
           1976,
           "FRANCE",
           "SHAFT/GR",
           "UNDERGROUND",
           "MURUROA",
           1976
          ],
          [
           1977,
           "FRANCE",
           "SHAFT/GR",
           "UNDERGROUND",
           "MURUROA",
           1977
          ],
          [
           1977,
           "FRANCE",
           "SHAFT/GR",
           "UNDERGROUND",
           "MURUROA",
           1977
          ],
          [
           1977,
           "FRANCE",
           "SHAFT/GR",
           "UNDERGROUND",
           "MURUROA",
           1977
          ],
          [
           1977,
           "FRANCE",
           "SHAFT/GR",
           "UNDERGROUND",
           "MURUROA",
           1977
          ],
          [
           1977,
           "FRANCE",
           "SHAFT/GR",
           "UNDERGROUND",
           "MURUROA",
           1977
          ],
          [
           1977,
           "FRANCE",
           "SHAFT/GR",
           "UNDERGROUND",
           "MURUROA",
           1977
          ],
          [
           1977,
           "FRANCE",
           "SHAFT/GR",
           "UNDERGROUND",
           "MURUROA",
           1977
          ],
          [
           1977,
           "FRANCE",
           "SHAFT/GR",
           "UNDERGROUND",
           "MURUROA",
           1977
          ],
          [
           1977,
           "FRANCE",
           "SHAFT/GR",
           "UNDERGROUND",
           "MURUROA",
           1977
          ],
          [
           1978,
           "FRANCE",
           "SHAFT/GR",
           "UNDERGROUND",
           "MURUROA",
           1978
          ],
          [
           1978,
           "FRANCE",
           "SHAFT/GR",
           "UNDERGROUND",
           "MURUROA",
           1978
          ],
          [
           1978,
           "FRANCE",
           "SHAFT/GR",
           "UNDERGROUND",
           "MURUROA",
           1978
          ],
          [
           1978,
           "FRANCE",
           "SHAFT/GR",
           "UNDERGROUND",
           "MURUROA",
           1978
          ],
          [
           1978,
           "FRANCE",
           "SHAFT/GR",
           "UNDERGROUND",
           "MURUROA",
           1978
          ],
          [
           1978,
           "FRANCE",
           "SHAFT/GR",
           "UNDERGROUND",
           "MURUROA",
           1978
          ],
          [
           1978,
           "FRANCE",
           "SHAFT/GR",
           "UNDERGROUND",
           "MURUROA",
           1978
          ],
          [
           1978,
           "FRANCE",
           "SHAFT/GR",
           "UNDERGROUND",
           "MURUROA",
           1978
          ],
          [
           1978,
           "FRANCE",
           "SHAFT/GR",
           "UNDERGROUND",
           "MURUROA",
           1978
          ],
          [
           1978,
           "FRANCE",
           "SHAFT/GR",
           "UNDERGROUND",
           "MURUROA",
           1978
          ],
          [
           1978,
           "FRANCE",
           "SHAFT/GR",
           "UNDERGROUND",
           "MURUROA",
           1978
          ],
          [
           1979,
           "FRANCE",
           "SHAFT/GR",
           "UNDERGROUND",
           "MURUROA",
           1979
          ],
          [
           1979,
           "FRANCE",
           "SHAFT/GR",
           "UNDERGROUND",
           "MURUROA",
           1979
          ],
          [
           1979,
           "FRANCE",
           "SHAFT/GR",
           "UNDERGROUND",
           "MURUROA",
           1979
          ],
          [
           1979,
           "FRANCE",
           "SHAFT/GR",
           "UNDERGROUND",
           "MURUROA",
           1979
          ],
          [
           1979,
           "FRANCE",
           "SHAFT/GR",
           "UNDERGROUND",
           "MURUROA",
           1979
          ],
          [
           1979,
           "FRANCE",
           "SHAFT/GR",
           "UNDERGROUND",
           "MURUROA",
           1979
          ],
          [
           1979,
           "FRANCE",
           "SHAFT/GR",
           "UNDERGROUND",
           "MURUROA",
           1979
          ],
          [
           1979,
           "FRANCE",
           "SHAFT/GR",
           "UNDERGROUND",
           "MURUROA",
           1979
          ],
          [
           1979,
           "FRANCE",
           "SHAFT/GR",
           "UNDERGROUND",
           "MURUROA",
           1979
          ],
          [
           1980,
           "FRANCE",
           "SHAFT/GR",
           "UNDERGROUND",
           "MURUROA",
           1980
          ],
          [
           1980,
           "FRANCE",
           "SHAFT/GR",
           "UNDERGROUND",
           "MURUROA",
           1980
          ],
          [
           1980,
           "FRANCE",
           "SHAFT/GR",
           "UNDERGROUND",
           "MURUROA",
           1980
          ],
          [
           1980,
           "FRANCE",
           "SHAFT/GR",
           "UNDERGROUND",
           "MURUROA",
           1980
          ],
          [
           1980,
           "FRANCE",
           "SHAFT/GR",
           "UNDERGROUND",
           "MURUROA",
           1980
          ],
          [
           1980,
           "FRANCE",
           "SHAFT/GR",
           "UNDERGROUND",
           "MURUROA",
           1980
          ],
          [
           1980,
           "FRANCE",
           "SHAFT/GR",
           "UNDERGROUND",
           "MURUROA",
           1980
          ],
          [
           1980,
           "FRANCE",
           "SHAFT/GR",
           "UNDERGROUND",
           "MURUROA",
           1980
          ],
          [
           1980,
           "FRANCE",
           "SHAFT/GR",
           "UNDERGROUND",
           "MURUROA",
           1980
          ],
          [
           1980,
           "FRANCE",
           "SHAFT/GR",
           "UNDERGROUND",
           "MURUROA",
           1980
          ],
          [
           1980,
           "FRANCE",
           "SHAFT/GR",
           "UNDERGROUND",
           "MURUROA",
           1980
          ],
          [
           1981,
           "FRANCE",
           "SHAFT/GR",
           "UNDERGROUND",
           "MURUROA",
           1981
          ],
          [
           1981,
           "FRANCE",
           "SHAFT/GR",
           "UNDERGROUND",
           "MURUROA",
           1981
          ],
          [
           1981,
           "FRANCE",
           "SHAFT/GR",
           "UNDERGROUND",
           "MURUROA",
           1981
          ],
          [
           1981,
           "FRANCE",
           "SHAFT/LG",
           "UNDERGROUND",
           "MURUROA",
           1981
          ],
          [
           1981,
           "FRANCE",
           "SHAFT/GR",
           "UNDERGROUND",
           "MURUROA",
           1981
          ],
          [
           1981,
           "FRANCE",
           "SHAFT/GR",
           "UNDERGROUND",
           "MURUROA",
           1981
          ],
          [
           1981,
           "FRANCE",
           "SHAFT/GR",
           "UNDERGROUND",
           "MURUROA",
           1981
          ],
          [
           1981,
           "FRANCE",
           "SHAFT/GR",
           "UNDERGROUND",
           "MURUROA",
           1981
          ],
          [
           1981,
           "FRANCE",
           "SHAFT/GR",
           "UNDERGROUND",
           "MURUROA",
           1981
          ],
          [
           1981,
           "FRANCE",
           "SHAFT/GR",
           "UNDERGROUND",
           "MURUROA",
           1981
          ],
          [
           1981,
           "FRANCE",
           "SHAFT/GR",
           "UNDERGROUND",
           "MURUROA",
           1981
          ],
          [
           1981,
           "FRANCE",
           "SHAFT/LG",
           "UNDERGROUND",
           "MURUROA",
           1981
          ],
          [
           1982,
           "FRANCE",
           "SHAFT/GR",
           "UNDERGROUND",
           "MURUROA",
           1982
          ],
          [
           1982,
           "FRANCE",
           "SHAFT/GR",
           "UNDERGROUND",
           "MURUROA",
           1982
          ],
          [
           1982,
           "FRANCE",
           "SHAFT/LG",
           "UNDERGROUND",
           "MURUROA",
           1982
          ],
          [
           1982,
           "FRANCE",
           "SHAFT/GR",
           "UNDERGROUND",
           "MURUROA",
           1982
          ],
          [
           1982,
           "FRANCE",
           "SHAFT/GR",
           "UNDERGROUND",
           "MURUROA",
           1982
          ],
          [
           1982,
           "FRANCE",
           "SHAFT/GR",
           "UNDERGROUND",
           "MURUROA",
           1982
          ],
          [
           1982,
           "FRANCE",
           "SHAFT/GR",
           "UNDERGROUND",
           "MURUROA",
           1982
          ],
          [
           1982,
           "FRANCE",
           "SHAFT/GR",
           "UNDERGROUND",
           "MURUROA",
           1982
          ],
          [
           1982,
           "FRANCE",
           "SHAFT/LG",
           "UNDERGROUND",
           "MURUROA",
           1982
          ],
          [
           1982,
           "FRANCE",
           "SHAFT/GR",
           "UNDERGROUND",
           "MURUROA",
           1982
          ],
          [
           1983,
           "FRANCE",
           "SHAFT/LG",
           "UNDERGROUND",
           "MURUROA",
           1983
          ],
          [
           1983,
           "FRANCE",
           "SHAFT/GR",
           "UNDERGROUND",
           "MURUROA",
           1983
          ],
          [
           1983,
           "FRANCE",
           "SHAFT/LG",
           "UNDERGROUND",
           "MURUROA",
           1983
          ],
          [
           1983,
           "FRANCE",
           "SHAFT/GR",
           "UNDERGROUND",
           "MURUROA",
           1983
          ],
          [
           1983,
           "FRANCE",
           "SHAFT/LG",
           "UNDERGROUND",
           "MURUROA",
           1983
          ],
          [
           1983,
           "FRANCE",
           "SHAFT/GR",
           "UNDERGROUND",
           "MURUROA",
           1983
          ],
          [
           1983,
           "FRANCE",
           "SHAFT/LG",
           "UNDERGROUND",
           "MURUROA",
           1983
          ],
          [
           1983,
           "FRANCE",
           "SHAFT/GR",
           "UNDERGROUND",
           "MURUROA",
           1983
          ],
          [
           1983,
           "FRANCE",
           "SHAFT/LG",
           "UNDERGROUND",
           "MURUROA",
           1983
          ],
          [
           1984,
           "FRANCE",
           "SHAFT/GR",
           "UNDERGROUND",
           "MURUROA",
           1984
          ],
          [
           1984,
           "FRANCE",
           "SHAFT/LG",
           "UNDERGROUND",
           "MURUROA",
           1984
          ],
          [
           1984,
           "FRANCE",
           "SHAFT/GR",
           "UNDERGROUND",
           "MURUROA",
           1984
          ],
          [
           1984,
           "FRANCE",
           "SHAFT/LG",
           "UNDERGROUND",
           "MURUROA",
           1984
          ],
          [
           1984,
           "FRANCE",
           "SHAFT/GR",
           "UNDERGROUND",
           "MURUROA",
           1984
          ],
          [
           1984,
           "FRANCE",
           "SHAFT/LG",
           "UNDERGROUND",
           "MURUROA",
           1984
          ],
          [
           1984,
           "FRANCE",
           "SHAFT/GR",
           "UNDERGROUND",
           "MURUROA",
           1984
          ],
          [
           1984,
           "FRANCE",
           "SHAFT/LG",
           "UNDERGROUND",
           "MURUROA",
           1984
          ],
          [
           1985,
           "FRANCE",
           "SHAFT/GR",
           "UNDERGROUND",
           "MURUROA",
           1985
          ],
          [
           1985,
           "FRANCE",
           "SHAFT/LG",
           "UNDERGROUND",
           "MURUROA",
           1985
          ],
          [
           1985,
           "FRANCE",
           "SHAFT/GR",
           "UNDERGROUND",
           "MURUROA",
           1985
          ],
          [
           1985,
           "FRANCE",
           "SHAFT/LG",
           "UNDERGROUND",
           "MURUROA",
           1985
          ],
          [
           1985,
           "FRANCE",
           "SHAFT/GR",
           "UNDERGROUND",
           "MURUROA",
           1985
          ],
          [
           1985,
           "FRANCE",
           "SHAFT/LG",
           "UNDERGROUND",
           "MURUROA",
           1985
          ],
          [
           1985,
           "FRANCE",
           "SHAFT/GR",
           "UNDERGROUND",
           "MURUROA",
           1985
          ],
          [
           1985,
           "FRANCE",
           "SHAFT/LG",
           "UNDERGROUND",
           "MURUROA",
           1985
          ],
          [
           1986,
           "FRANCE",
           "SHAFT/GR",
           "UNDERGROUND",
           "MURUROA",
           1986
          ],
          [
           1986,
           "FRANCE",
           "SHAFT/GR",
           "UNDERGROUND",
           "MURUROA",
           1986
          ],
          [
           1986,
           "FRANCE",
           "SHAFT/GR",
           "UNDERGROUND",
           "MURUROA",
           1986
          ],
          [
           1986,
           "FRANCE",
           "SHAFT/LG",
           "UNDERGROUND",
           "MURUROA",
           1986
          ],
          [
           1986,
           "FRANCE",
           "SHAFT/GR",
           "UNDERGROUND",
           "MURUROA",
           1986
          ],
          [
           1986,
           "FRANCE",
           "SHAFT/LG",
           "UNDERGROUND",
           "MURUROA",
           1986
          ],
          [
           1986,
           "FRANCE",
           "SHAFT/GR",
           "UNDERGROUND",
           "MURUROA",
           1986
          ],
          [
           1986,
           "FRANCE",
           "SHAFT/LG",
           "UNDERGROUND",
           "MURUROA",
           1986
          ],
          [
           1987,
           "FRANCE",
           "SHAFT/LG",
           "UNDERGROUND",
           "MURUROA",
           1987
          ],
          [
           1987,
           "FRANCE",
           "SHAFT/LG",
           "UNDERGROUND",
           "MURUROA",
           1987
          ],
          [
           1987,
           "FRANCE",
           "SHAFT/LG",
           "UNDERGROUND",
           "MURUROA",
           1987
          ],
          [
           1987,
           "FRANCE",
           "SHAFT/LG",
           "UNDERGROUND",
           "MURUROA",
           1987
          ],
          [
           1987,
           "FRANCE",
           "SHAFT/LG",
           "UNDERGROUND",
           "MURUROA",
           1987
          ],
          [
           1987,
           "FRANCE",
           "SHAFT/LG",
           "UNDERGROUND",
           "MURUROA",
           1987
          ],
          [
           1987,
           "FRANCE",
           "SHAFT/LG",
           "UNDERGROUND",
           "MURUROA",
           1987
          ],
          [
           1988,
           "FRANCE",
           "SHAFT/LG",
           "UNDERGROUND",
           "MURUROA",
           1988
          ],
          [
           1988,
           "FRANCE",
           "SHAFT/LG",
           "UNDERGROUND",
           "MURUROA",
           1988
          ],
          [
           1988,
           "FRANCE",
           "SHAFT/LG",
           "UNDERGROUND",
           "MURUROA",
           1988
          ],
          [
           1988,
           "FRANCE",
           "SHAFT/LG",
           "UNDERGROUND",
           "MURUROA",
           1988
          ],
          [
           1988,
           "FRANCE",
           "SHAFT/LG",
           "UNDERGROUND",
           "MURUROA",
           1988
          ],
          [
           1988,
           "FRANCE",
           "SHAFT/LG",
           "UNDERGROUND",
           "MURUROA",
           1988
          ],
          [
           1988,
           "FRANCE",
           "SHAFT/LG",
           "UNDERGROUND",
           "MURUROA",
           1988
          ],
          [
           1989,
           "FRANCE",
           "SHAFT/LG",
           "UNDERGROUND",
           "MURUROA",
           1989
          ],
          [
           1989,
           "FRANCE",
           "SHAFT/LG",
           "UNDERGROUND",
           "MURUROA",
           1989
          ],
          [
           1989,
           "FRANCE",
           "SHAFT/LG",
           "UNDERGROUND",
           "MURUROA",
           1989
          ],
          [
           1989,
           "FRANCE",
           "SHAFT/LG",
           "UNDERGROUND",
           "MURUROA",
           1989
          ],
          [
           1989,
           "FRANCE",
           "SHAFT/LG",
           "UNDERGROUND",
           "MURUROA",
           1989
          ],
          [
           1989,
           "FRANCE",
           "SHAFT/LG",
           "UNDERGROUND",
           "MURUROA",
           1989
          ],
          [
           1989,
           "FRANCE",
           "SHAFT/GR",
           "UNDERGROUND",
           "MURUROA",
           1989
          ],
          [
           1990,
           "FRANCE",
           "SHAFT/LG",
           "UNDERGROUND",
           "MURUROA",
           1990
          ],
          [
           1990,
           "FRANCE",
           "SHAFT/LG",
           "UNDERGROUND",
           "MURUROA",
           1990
          ],
          [
           1990,
           "FRANCE",
           "SHAFT/LG",
           "UNDERGROUND",
           "MURUROA",
           1990
          ],
          [
           1990,
           "FRANCE",
           "SHAFT/LG",
           "UNDERGROUND",
           "MURUROA",
           1990
          ],
          [
           1991,
           "FRANCE",
           "SHAFT/LG",
           "UNDERGROUND",
           "MURUROA",
           1991
          ],
          [
           1991,
           "FRANCE",
           "SHAFT/LG",
           "UNDERGROUND",
           "MURUROA",
           1991
          ],
          [
           1991,
           "FRANCE",
           "SHAFT/LG",
           "UNDERGROUND",
           "MURUROA",
           1991
          ],
          [
           1991,
           "FRANCE",
           "SHAFT/LG",
           "UNDERGROUND",
           "MURUROA",
           1991
          ],
          [
           1991,
           "FRANCE",
           "SHAFT/LG",
           "UNDERGROUND",
           "MURUROA",
           1991
          ],
          [
           1995,
           "FRANCE",
           "UG",
           "UNDERGROUND",
           "MURUROA",
           1995
          ],
          [
           1995,
           "FRANCE",
           "UG",
           "UNDERGROUND",
           "MURUROA",
           1995
          ],
          [
           1995,
           "FRANCE",
           "UG",
           "UNDERGROUND",
           "MURUROA",
           1995
          ],
          [
           1995,
           "FRANCE",
           "UG",
           "UNDERGROUND",
           "MURUROA",
           1995
          ]
         ],
         "hoverlabel": {
          "namelength": 0
         },
         "hovertemplate": "region=%{customdata[4]}<br>x=%{x}<br>y=%{y}<br>year=%{customdata[5]}<br>country=%{customdata[1]}<br>type=%{customdata[2]}<br>type_cat=%{customdata[3]}",
         "legendgroup": "region=MURUROA",
         "marker": {
          "color": "#e763fa",
          "symbol": "circle"
         },
         "mode": "markers",
         "name": "region=MURUROA",
         "showlegend": true,
         "type": "scattergl",
         "uid": "40f22cb5-f748-41ca-974d-6594c3f848f6",
         "x": [
          -17.10882568359375,
          -17.102794647216797,
          -17.09520721435547,
          -17.06165313720703,
          -17.062580108642578,
          -17.070892333984375,
          -17.031936645507812,
          -16.98123550415039,
          -17.056896209716797,
          -16.849348068237305,
          -16.860158920288086,
          -16.84164047241211,
          -16.82596778869629,
          -16.815946578979492,
          -16.822484970092773,
          -16.839900970458984,
          -16.794342041015625,
          -16.84888458251953,
          -16.7590389251709,
          -16.83354377746582,
          -16.81280517578125,
          -16.664371490478516,
          -16.690336227416992,
          -16.720191955566406,
          -16.702302932739258,
          -16.62238311767578,
          -16.62641716003418,
          -16.63737678527832,
          -16.608713150024414,
          -16.618406295776367,
          -16.567584991455078,
          -16.5584659576416,
          -16.7252254486084,
          -16.6026611328125,
          -16.581544876098633,
          -16.553556442260742,
          -16.55861473083496,
          -16.722299575805664,
          -4.256752014160156,
          -7.050424098968506,
          -4.2425761222839355,
          -4.248856544494629,
          -4.249664306640625,
          -7.0209059715271,
          -7.042774677276611,
          -4.221042633056641,
          -4.21746301651001,
          -7.0287981033325195,
          -4.2318196296691895,
          -7.046324253082275,
          -12.738991737365723,
          -7.0322675704956055,
          -6.994779586791992,
          -7.01901388168335,
          -4.206970691680908,
          -4.169009208679199,
          -4.204683303833008,
          -7.010349273681641,
          -4.208905220031738,
          -4.1532793045043945,
          -12.723413467407227,
          -6.990007400512695,
          -7.006795406341553,
          -4.212003707885742,
          -4.208984851837158,
          -7.00522518157959,
          -4.176448345184326,
          -6.987024784088135,
          -12.745490074157715,
          -6.973011016845703,
          -4.16965913772583,
          -4.139951705932617,
          -4.00894832611084,
          -6.911736965179443,
          -6.982654571533203,
          -6.972251892089844,
          -6.989502906799316,
          -6.944690227508545,
          -6.967255115509033,
          -3.9802277088165283,
          -12.728242874145508,
          -3.964543581008911,
          -6.910295486450195,
          -3.8993139266967773,
          -3.890744209289551,
          -6.947682857513428,
          -6.923689365386963,
          -6.922367572784424,
          -3.8951454162597656,
          -3.8851966857910156,
          -6.916023254394531,
          -3.896467447280884,
          -6.926887512207031,
          -6.910894393920898,
          -6.904497146606445,
          -3.8750863075256348,
          -3.867593288421631,
          -12.721612930297852,
          -3.8592915534973145,
          -3.872466564178467,
          -3.87503981590271,
          -6.9051289558410645,
          -3.844336748123169,
          -6.866278171539307,
          -3.860581636428833,
          -6.882591724395752,
          -3.684541940689087,
          -12.734193801879883,
          -3.701824903488159,
          -12.732876777648926,
          -3.7252516746520996,
          -6.873305797576904,
          -3.697065591812134,
          -3.7181313037872314,
          -6.847715377807617,
          -12.751415252685547,
          -6.8287434577941895,
          -6.872761249542236,
          -6.869619846343994,
          -3.373488426208496,
          -6.807147979736328,
          -3.368870258331299,
          -3.2286126613616943,
          -3.2557404041290283,
          -3.1979339122772217,
          -3.208617687225342,
          -6.8482890129089355,
          -3.257314443588257,
          -6.837668418884277,
          -6.822629451751709,
          -6.815069198608398,
          -3.0886011123657227,
          -3.128202438354492,
          -6.795009136199951,
          -3.0983893871307373,
          -3.1306312084198,
          -3.0944154262542725,
          -6.789206504821777,
          -2.7889273166656494,
          -2.7628135681152344,
          -2.7927463054656982,
          -2.759099245071411,
          -2.7784245014190674,
          -2.7778351306915283,
          -2.7869274616241455,
          -2.4577126502990723,
          -2.419480323791504,
          -2.413222551345825,
          -2.467233419418335,
          -2.4370737075805664,
          -2.4608066082000732,
          -2.466770648956299,
          -2.2496895790100098,
          -2.2901976108551025,
          -2.2713375091552734,
          -2.265150308609009,
          -2.228403091430664,
          -2.2209131717681885,
          -2.2986507415771484,
          -2.066241502761841,
          -2.0458099842071533,
          -2.059382915496826,
          -1.9859113693237305,
          -2.0103185176849365,
          -1.9879788160324097,
          -2.005340337753296,
          -2.0128414630889893,
          -1.9993560314178467,
          -2.0543172359466553,
          -2.0492470264434814,
          -2.046687126159668,
          -2.0348148345947266
         ],
         "xaxis": "x",
         "y": [
          3.408568859100342,
          3.4235033988952637,
          3.4171695709228516,
          3.4329144954681396,
          3.4105894565582275,
          3.3761255741119385,
          3.435847520828247,
          3.4375317096710205,
          3.413545846939087,
          3.568593740463257,
          3.546259641647339,
          3.484583616256714,
          3.5391488075256348,
          3.6022286415100098,
          3.538315534591675,
          3.496375799179077,
          3.5060508251190186,
          3.4726738929748535,
          3.558310031890869,
          3.5778985023498535,
          3.578204870223999,
          3.5843234062194824,
          3.586076498031616,
          3.555746555328369,
          3.540987014770508,
          3.5361595153808594,
          3.540835380554199,
          3.501418352127075,
          3.5161333084106445,
          3.536686897277832,
          3.541393280029297,
          3.521015167236328,
          3.4851911067962646,
          3.5196709632873535,
          3.5496904850006104,
          3.5302224159240723,
          3.5551297664642334,
          3.5111279487609863,
          17.015539169311523,
          9.348257064819336,
          17.024457931518555,
          17.020606994628906,
          17.01985740661621,
          9.314597129821777,
          9.33623218536377,
          17.040185928344727,
          17.041940689086914,
          9.322591781616211,
          17.029998779296875,
          9.34132194519043,
          -3.980473756790161,
          9.327853202819824,
          9.295561790466309,
          9.315913200378418,
          17.048974990844727,
          17.06956672668457,
          17.051488876342773,
          9.304242134094238,
          17.04949188232422,
          17.084976196289062,
          -3.990438461303711,
          9.281778335571289,
          9.300029754638672,
          17.041635513305664,
          17.04792594909668,
          9.29595947265625,
          17.07013702392578,
          9.278970718383789,
          -3.983247995376587,
          9.264263153076172,
          17.073955535888672,
          17.09968376159668,
          17.152862548828125,
          9.195627212524414,
          9.271686553955078,
          9.261107444763184,
          9.276845932006836,
          9.230374336242676,
          9.255821228027344,
          17.174245834350586,
          -3.9912350177764893,
          17.184986114501953,
          9.194331169128418,
          17.218151092529297,
          17.224212646484375,
          9.23169994354248,
          9.20755672454834,
          9.207736015319824,
          17.223798751831055,
          17.232248306274414,
          9.1988525390625,
          17.2186336517334,
          9.211823463439941,
          9.19347858428955,
          9.187239646911621,
          17.23284912109375,
          17.23675537109375,
          -3.9977192878723145,
          17.241689682006836,
          17.235515594482422,
          17.239818572998047,
          9.185564994812012,
          17.25460433959961,
          9.144960403442383,
          17.24107551574707,
          9.159153938293457,
          17.291378021240234,
          -3.9902637004852295,
          17.284772872924805,
          -3.9841208457946777,
          17.273183822631836,
          9.150907516479492,
          17.285839080810547,
          17.27686882019043,
          9.123224258422852,
          -4.006990909576416,
          9.103362083435059,
          9.147845268249512,
          9.14488410949707,
          17.359601974487305,
          9.081487655639648,
          17.360769271850586,
          17.408527374267578,
          17.393089294433594,
          17.41208839416504,
          17.4078426361084,
          9.121943473815918,
          17.388385772705078,
          9.111116409301758,
          9.095495223999023,
          9.086609840393066,
          17.442157745361328,
          17.43024444580078,
          9.0645170211792,
          17.444026947021484,
          17.429784774780273,
          17.442047119140625,
          9.058515548706055,
          17.53828239440918,
          17.541961669921875,
          17.536823272705078,
          17.542497634887695,
          17.541213989257812,
          17.54154396057129,
          17.53892707824707,
          17.555665969848633,
          17.56130599975586,
          17.564857482910156,
          17.56138038635254,
          17.562965393066406,
          17.556211471557617,
          17.558229446411133,
          17.56047248840332,
          17.5616455078125,
          17.579299926757812,
          17.573972702026367,
          17.58788299560547,
          17.590978622436523,
          17.563669204711914,
          17.640275955200195,
          17.652172088623047,
          17.646459579467773,
          17.64176368713379,
          17.646705627441406,
          17.628639221191406,
          17.648574829101562,
          17.662277221679688,
          17.662872314453125,
          17.706233978271484,
          17.717926025390625,
          17.71314811706543,
          17.71687889099121
         ],
         "yaxis": "y"
        },
        {
         "customdata": [
          [
           1966,
           "FRANCE",
           "BARGE",
           "ATMOSPHERIC",
           "FANGATAUFA",
           1966
          ],
          [
           1968,
           "FRANCE",
           "BALLOON",
           "ATMOSPHERIC",
           "FANGATAUFA",
           1968
          ],
          [
           1970,
           "FRANCE",
           "BALLOON",
           "ATMOSPHERIC",
           "FANGATAUFA",
           1970
          ],
          [
           1970,
           "FRANCE",
           "BALLOON",
           "ATMOSPHERIC",
           "FANGATAUFA",
           1970
          ],
          [
           1975,
           "FRANCE",
           "SHAFT/GR",
           "UNDERGROUND",
           "FANGATAUFA",
           1975
          ],
          [
           1975,
           "FRANCE",
           "SHAFT/GR",
           "UNDERGROUND",
           "FANGATAUFA",
           1975
          ],
          [
           1988,
           "FRANCE",
           "SHAFT/LG",
           "UNDERGROUND",
           "FANGATAUFA",
           1988
          ],
          [
           1989,
           "FRANCE",
           "SHAFT/LG",
           "UNDERGROUND",
           "FANGATAUFA",
           1989
          ],
          [
           1990,
           "FRANCE",
           "SHAFT/LG",
           "UNDERGROUND",
           "FANGATAUFA",
           1990
          ],
          [
           1990,
           "FRANCE",
           "SHAFT/LG",
           "UNDERGROUND",
           "FANGATAUFA",
           1990
          ],
          [
           1991,
           "FRANCE",
           "SHAFT/LG",
           "UNDERGROUND",
           "FANGATAUFA",
           1991
          ],
          [
           1995,
           "FRANCE",
           "UG",
           "UNDERGROUND",
           "FANGATAUFA",
           1995
          ],
          [
           1996,
           "FRANCE",
           "UG",
           "UNDERGROUND",
           "FANGATAUFA",
           1996
          ]
         ],
         "hoverlabel": {
          "namelength": 0
         },
         "hovertemplate": "region=%{customdata[4]}<br>x=%{x}<br>y=%{y}<br>year=%{customdata[5]}<br>country=%{customdata[1]}<br>type=%{customdata[2]}<br>type_cat=%{customdata[3]}",
         "legendgroup": "region=FANGATAUFA",
         "marker": {
          "color": "#FECB52",
          "symbol": "circle"
         },
         "mode": "markers",
         "name": "region=FANGATAUFA",
         "showlegend": true,
         "type": "scattergl",
         "uid": "b885fbd0-ca87-466c-9e79-00b510bf6eca",
         "x": [
          -17.097496032714844,
          -16.79559898376465,
          -16.81670379638672,
          -16.818260192871094,
          -7.05798864364624,
          -7.04445743560791,
          -2.4453821182250977,
          -2.2993195056915283,
          -2.057319402694702,
          -2.048387289047241,
          -1.9937976598739624,
          -2.0249581336975098,
          -2.0511631965637207
         ],
         "xaxis": "x",
         "y": [
          3.41707444190979,
          3.600970506668091,
          3.640516519546509,
          3.5301220417022705,
          9.354925155639648,
          9.340645790100098,
          17.559358596801758,
          17.567378997802734,
          17.640457153320312,
          17.65189552307129,
          17.63098907470703,
          17.704387664794922,
          17.71297264099121
         ],
         "yaxis": "y"
        },
        {
         "customdata": [
          [
           1966,
           "USSR",
           "SHAFT",
           "UNDERGROUND",
           "UZBEK",
           1966
          ]
         ],
         "hoverlabel": {
          "namelength": 0
         },
         "hovertemplate": "region=%{customdata[4]}<br>x=%{x}<br>y=%{y}<br>year=%{customdata[5]}<br>country=%{customdata[1]}<br>type=%{customdata[2]}<br>type_cat=%{customdata[3]}",
         "legendgroup": "region=UZBEK",
         "marker": {
          "color": "#FFA15A",
          "symbol": "circle"
         },
         "mode": "markers",
         "name": "region=UZBEK",
         "showlegend": true,
         "type": "scattergl",
         "uid": "dbec0685-2e16-4f5e-8e67-b9406b89001c",
         "x": [
          -11.083887100219727
         ],
         "xaxis": "x",
         "y": [
          6.7427568435668945
         ],
         "yaxis": "y"
        },
        {
         "customdata": [
          [
           1966,
           "USA",
           "SHAFT",
           "UNDERGROUND",
           "HATTIESE MS",
           1966
          ]
         ],
         "hoverlabel": {
          "namelength": 0
         },
         "hovertemplate": "region=%{customdata[4]}<br>x=%{x}<br>y=%{y}<br>year=%{customdata[5]}<br>country=%{customdata[1]}<br>type=%{customdata[2]}<br>type_cat=%{customdata[3]}",
         "legendgroup": "region=HATTIESE MS",
         "marker": {
          "color": "#FF6692",
          "symbol": "circle"
         },
         "mode": "markers",
         "name": "region=HATTIESE MS",
         "showlegend": true,
         "type": "scattergl",
         "uid": "6a3db7a6-cfb6-4c76-9534-6aeeba69368e",
         "x": [
          26.426843643188477
         ],
         "xaxis": "x",
         "y": [
          -11.313095092773438
         ],
         "yaxis": "y"
        },
        {
         "customdata": [
          [
           1967,
           "FRANCE",
           "BALLOON",
           "ATMOSPHERIC",
           "MURUEOA",
           1967
          ]
         ],
         "hoverlabel": {
          "namelength": 0
         },
         "hovertemplate": "region=%{customdata[4]}<br>x=%{x}<br>y=%{y}<br>year=%{customdata[5]}<br>country=%{customdata[1]}<br>type=%{customdata[2]}<br>type_cat=%{customdata[3]}",
         "legendgroup": "region=MURUEOA",
         "marker": {
          "color": "#B6E880",
          "symbol": "circle"
         },
         "mode": "markers",
         "name": "region=MURUEOA",
         "showlegend": true,
         "type": "scattergl",
         "uid": "ec86f1e9-60d8-4bfe-938b-0925ed1f7613",
         "x": [
          -17.068092346191406
         ],
         "xaxis": "x",
         "y": [
          3.4228076934814453
         ],
         "yaxis": "y"
        },
        {
         "customdata": [
          [
           1967,
           "USSR",
           "SHAFT",
           "UNDERGROUND",
           "TYUMEN RUSS",
           1967
          ],
          [
           1974,
           "USSR",
           "SHAFT",
           "UNDERGROUND",
           "TYUMEN RUSS",
           1974
          ],
          [
           1978,
           "USSR",
           "SHAFT",
           "UNDERGROUND",
           "TYUMEN RUSS",
           1978
          ],
          [
           1979,
           "USSR",
           "SHAFT",
           "UNDERGROUND",
           "TYUMEN RUSS",
           1979
          ],
          [
           1980,
           "USSR",
           "SHAFT",
           "UNDERGROUND",
           "TYUMEN RUSS",
           1980
          ],
          [
           1984,
           "USSR",
           "SHAFT",
           "UNDERGROUND",
           "TYUMEN RUSS",
           1984
          ],
          [
           1988,
           "USSR",
           "SHAFT",
           "UNDERGROUND",
           "TYUMEN RUSS",
           1988
          ]
         ],
         "hoverlabel": {
          "namelength": 0
         },
         "hovertemplate": "region=%{customdata[4]}<br>x=%{x}<br>y=%{y}<br>year=%{customdata[5]}<br>country=%{customdata[1]}<br>type=%{customdata[2]}<br>type_cat=%{customdata[3]}",
         "legendgroup": "region=TYUMEN RUSS",
         "marker": {
          "color": "#636efa",
          "symbol": "circle"
         },
         "mode": "markers",
         "name": "region=TYUMEN RUSS",
         "showlegend": true,
         "type": "scattergl",
         "uid": "5c7b81bf-6c36-4299-a9f4-a8b112422b9e",
         "x": [
          10.813647270202637,
          -12.720476150512695,
          -11.520827293395996,
          -11.532739639282227,
          -11.558087348937988,
          -14.838125228881836,
          -11.78961181640625
         ],
         "xaxis": "x",
         "y": [
          18.78294563293457,
          7.493900299072266,
          -4.467062473297119,
          -4.454867362976074,
          -4.532703876495361,
          9.029450416564941,
          -4.629054069519043
         ],
         "yaxis": "y"
        },
        {
         "customdata": [
          [
           1967,
           "USA",
           "SHAFT",
           "UNDERGROUND",
           "FARMINGT NM",
           1967
          ]
         ],
         "hoverlabel": {
          "namelength": 0
         },
         "hovertemplate": "region=%{customdata[4]}<br>x=%{x}<br>y=%{y}<br>year=%{customdata[5]}<br>country=%{customdata[1]}<br>type=%{customdata[2]}<br>type_cat=%{customdata[3]}",
         "legendgroup": "region=FARMINGT NM",
         "marker": {
          "color": "#EF553B",
          "symbol": "circle"
         },
         "mode": "markers",
         "name": "region=FARMINGT NM",
         "showlegend": true,
         "type": "scattergl",
         "uid": "cdf01e2a-973e-4b36-bd10-c3606bb14924",
         "x": [
          3.1740427017211914
         ],
         "xaxis": "x",
         "y": [
          -11.142155647277832
         ],
         "yaxis": "y"
        },
        {
         "customdata": [
          [
           1968,
           "USA",
           "SHAFT",
           "UNDERGROUND",
           "C. NEVADA",
           1968
          ]
         ],
         "hoverlabel": {
          "namelength": 0
         },
         "hovertemplate": "region=%{customdata[4]}<br>x=%{x}<br>y=%{y}<br>year=%{customdata[5]}<br>country=%{customdata[1]}<br>type=%{customdata[2]}<br>type_cat=%{customdata[3]}",
         "legendgroup": "region=C. NEVADA",
         "marker": {
          "color": "#00cc96",
          "symbol": "circle"
         },
         "mode": "markers",
         "name": "region=C. NEVADA",
         "showlegend": true,
         "type": "scattergl",
         "uid": "025f0236-8811-479d-b9f2-2e849f99b235",
         "x": [
          3.396775484085083
         ],
         "xaxis": "x",
         "y": [
          -11.410038948059082
         ],
         "yaxis": "y"
        },
        {
         "customdata": [
          [
           1968,
           "USSR",
           "SHAFT",
           "UNDERGROUND",
           "PAMUK UZBEK",
           1968
          ]
         ],
         "hoverlabel": {
          "namelength": 0
         },
         "hovertemplate": "region=%{customdata[4]}<br>x=%{x}<br>y=%{y}<br>year=%{customdata[5]}<br>country=%{customdata[1]}<br>type=%{customdata[2]}<br>type_cat=%{customdata[3]}",
         "legendgroup": "region=PAMUK UZBEK",
         "marker": {
          "color": "#ab63fa",
          "symbol": "circle"
         },
         "mode": "markers",
         "name": "region=PAMUK UZBEK",
         "showlegend": true,
         "type": "scattergl",
         "uid": "8e0e00b5-2f97-45c0-a8ef-eed76afe62aa",
         "x": [
          10.727416038513184
         ],
         "xaxis": "x",
         "y": [
          18.89586067199707
         ],
         "yaxis": "y"
        },
        {
         "customdata": [
          [
           1969,
           "USSR",
           "SHAFT",
           "UNDERGROUND",
           "PERM RUSS",
           1969
          ],
          [
           1969,
           "USSR",
           "SHAFT",
           "UNDERGROUND",
           "PERM RUSS",
           1969
          ],
          [
           1971,
           "USSR",
           "SHAFT",
           "UNDERGROUND",
           "PERM RUSS",
           1971
          ],
          [
           1981,
           "USSR",
           "SHAFT",
           "UNDERGROUND",
           "PERM RUSS",
           1981
          ],
          [
           1984,
           "USSR",
           "SHAFT",
           "UNDERGROUND",
           "PERM RUSS",
           1984
          ],
          [
           1984,
           "USSR",
           "SHAFT",
           "UNDERGROUND",
           "PERM RUSS",
           1984
          ],
          [
           1987,
           "USSR",
           "SHAFT",
           "UNDERGROUND",
           "PERM RUSS",
           1987
          ],
          [
           1987,
           "USSR",
           "SHAFT",
           "UNDERGROUND",
           "PERM RUSS",
           1987
          ]
         ],
         "hoverlabel": {
          "namelength": 0
         },
         "hovertemplate": "region=%{customdata[4]}<br>x=%{x}<br>y=%{y}<br>year=%{customdata[5]}<br>country=%{customdata[1]}<br>type=%{customdata[2]}<br>type_cat=%{customdata[3]}",
         "legendgroup": "region=PERM RUSS",
         "marker": {
          "color": "#19d3f3",
          "symbol": "circle"
         },
         "mode": "markers",
         "name": "region=PERM RUSS",
         "showlegend": true,
         "type": "scattergl",
         "uid": "b2260c52-5f21-4454-a5e2-fde17d22374f",
         "x": [
          -11.506487846374512,
          -11.509160995483398,
          -12.084589958190918,
          -14.294703483581543,
          -14.79973316192627,
          -14.78504753112793,
          -15.015085220336914,
          -15.064797401428223
         ],
         "xaxis": "x",
         "y": [
          6.98415470123291,
          6.932150363922119,
          7.090847492218018,
          8.690521240234375,
          9.104557037353516,
          9.14773178100586,
          9.209648132324219,
          9.211043357849121
         ],
         "yaxis": "y"
        },
        {
         "customdata": [
          [
           1969,
           "USA",
           "SHAFT",
           "UNDERGROUND",
           "GRAND V CO",
           1969
          ]
         ],
         "hoverlabel": {
          "namelength": 0
         },
         "hovertemplate": "region=%{customdata[4]}<br>x=%{x}<br>y=%{y}<br>year=%{customdata[5]}<br>country=%{customdata[1]}<br>type=%{customdata[2]}<br>type_cat=%{customdata[3]}",
         "legendgroup": "region=GRAND V CO",
         "marker": {
          "color": "#e763fa",
          "symbol": "circle"
         },
         "mode": "markers",
         "name": "region=GRAND V CO",
         "showlegend": true,
         "type": "scattergl",
         "uid": "80c01365-752d-4863-a35f-abbaf2bcaea9",
         "x": [
          3.1125969886779785
         ],
         "xaxis": "x",
         "y": [
          -11.575592041015625
         ],
         "yaxis": "y"
        },
        {
         "customdata": [
          [
           1969,
           "USSR",
           "SHAFT",
           "UNDERGROUND",
           "STAVRO RUSS",
           1969
          ]
         ],
         "hoverlabel": {
          "namelength": 0
         },
         "hovertemplate": "region=%{customdata[4]}<br>x=%{x}<br>y=%{y}<br>year=%{customdata[5]}<br>country=%{customdata[1]}<br>type=%{customdata[2]}<br>type_cat=%{customdata[3]}",
         "legendgroup": "region=STAVRO RUSS",
         "marker": {
          "color": "#FECB52",
          "symbol": "circle"
         },
         "mode": "markers",
         "name": "region=STAVRO RUSS",
         "showlegend": true,
         "type": "scattergl",
         "uid": "5d99c189-b667-4ebb-925f-14b0737d453b",
         "x": [
          -11.765446662902832
         ],
         "xaxis": "x",
         "y": [
          6.954423427581787
         ],
         "yaxis": "y"
        },
        {
         "customdata": [
          [
           1969,
           "USSR",
           "SHAFT",
           "UNDERGROUND",
           "MANGY KAZAKH",
           1969
          ],
          [
           1970,
           "USSR",
           "SHAFT",
           "UNDERGROUND",
           "MANGY KAZAKH",
           1970
          ],
          [
           1970,
           "USSR",
           "SHAFT",
           "UNDERGROUND",
           "MANGY KAZAKH",
           1970
          ]
         ],
         "hoverlabel": {
          "namelength": 0
         },
         "hovertemplate": "region=%{customdata[4]}<br>x=%{x}<br>y=%{y}<br>year=%{customdata[5]}<br>country=%{customdata[1]}<br>type=%{customdata[2]}<br>type_cat=%{customdata[3]}",
         "legendgroup": "region=MANGY KAZAKH",
         "marker": {
          "color": "#FFA15A",
          "symbol": "circle"
         },
         "mode": "markers",
         "name": "region=MANGY KAZAKH",
         "showlegend": true,
         "type": "scattergl",
         "uid": "777642ef-a1b8-4275-b313-188c5643f542",
         "x": [
          -11.803366661071777,
          -11.950011253356934,
          -11.934995651245117
         ],
         "xaxis": "x",
         "y": [
          6.973593235015869,
          6.992098331451416,
          7.004550933837891
         ],
         "yaxis": "y"
        },
        {
         "customdata": [
          [
           1971,
           "USSR",
           "SHAFT",
           "UNDERGROUND",
           "URAL RUSS",
           1971
          ],
          [
           1971,
           "USSR",
           "SHAFT",
           "UNDERGROUND",
           "URAL RUSS",
           1971
          ],
          [
           1971,
           "USSR",
           "SHAFT",
           "UNDERGROUND",
           "URAL RUSS",
           1971
          ]
         ],
         "hoverlabel": {
          "namelength": 0
         },
         "hovertemplate": "region=%{customdata[4]}<br>x=%{x}<br>y=%{y}<br>year=%{customdata[5]}<br>country=%{customdata[1]}<br>type=%{customdata[2]}<br>type_cat=%{customdata[3]}",
         "legendgroup": "region=URAL RUSS",
         "marker": {
          "color": "#FF6692",
          "symbol": "circle"
         },
         "mode": "markers",
         "name": "region=URAL RUSS",
         "showlegend": true,
         "type": "scattergl",
         "uid": "3612704c-5349-48da-9f21-abb35743051b",
         "x": [
          10.451181411743164,
          -12.164722442626953,
          -12.21941089630127
         ],
         "xaxis": "x",
         "y": [
          19.30695915222168,
          7.191652297973633,
          7.2603960037231445
         ],
         "yaxis": "y"
        },
        {
         "customdata": [
          [
           1971,
           "USSR",
           "SHAFT",
           "UNDERGROUND",
           "ARKHAN RUSS",
           1971
          ],
          [
           1981,
           "USSR",
           "SHAFT",
           "UNDERGROUND",
           "ARKHAN RUSS",
           1981
          ],
          [
           1985,
           "USSR",
           "SHAFT",
           "UNDERGROUND",
           "ARKHAN RUSS",
           1985
          ],
          [
           1988,
           "USSR",
           "SHAFT",
           "UNDERGROUND",
           "ARKHAN RUSS",
           1988
          ]
         ],
         "hoverlabel": {
          "namelength": 0
         },
         "hovertemplate": "region=%{customdata[4]}<br>x=%{x}<br>y=%{y}<br>year=%{customdata[5]}<br>country=%{customdata[1]}<br>type=%{customdata[2]}<br>type_cat=%{customdata[3]}",
         "legendgroup": "region=ARKHAN RUSS",
         "marker": {
          "color": "#B6E880",
          "symbol": "circle"
         },
         "mode": "markers",
         "name": "region=ARKHAN RUSS",
         "showlegend": true,
         "type": "scattergl",
         "uid": "6eab64ca-5973-4c87-b9cc-15a4ff0deb64",
         "x": [
          -12.162703514099121,
          -11.66173267364502,
          -14.859567642211914,
          -11.723372459411621
         ],
         "xaxis": "x",
         "y": [
          7.230170249938965,
          -4.325372695922852,
          9.118327140808105,
          -4.6292853355407715
         ],
         "yaxis": "y"
        },
        {
         "customdata": [
          [
           1972,
           "USSR",
           "SHAFT",
           "UNDERGROUND",
           "MARY TURKMEN",
           1972
          ]
         ],
         "hoverlabel": {
          "namelength": 0
         },
         "hovertemplate": "region=%{customdata[4]}<br>x=%{x}<br>y=%{y}<br>year=%{customdata[5]}<br>country=%{customdata[1]}<br>type=%{customdata[2]}<br>type_cat=%{customdata[3]}",
         "legendgroup": "region=MARY TURKMEN",
         "marker": {
          "color": "#636efa",
          "symbol": "circle"
         },
         "mode": "markers",
         "name": "region=MARY TURKMEN",
         "showlegend": true,
         "type": "scattergl",
         "uid": "e4314af9-064c-4ff0-b993-5a805a46ba49",
         "x": [
          10.370887756347656
         ],
         "xaxis": "x",
         "y": [
          19.42399787902832
         ],
         "yaxis": "y"
        },
        {
         "customdata": [
          [
           1972,
           "USSR",
           "SHAFT",
           "UNDERGROUND",
           "UKRAINE",
           1972
          ]
         ],
         "hoverlabel": {
          "namelength": 0
         },
         "hovertemplate": "region=%{customdata[4]}<br>x=%{x}<br>y=%{y}<br>year=%{customdata[5]}<br>country=%{customdata[1]}<br>type=%{customdata[2]}<br>type_cat=%{customdata[3]}",
         "legendgroup": "region=UKRAINE",
         "marker": {
          "color": "#EF553B",
          "symbol": "circle"
         },
         "mode": "markers",
         "name": "region=UKRAINE",
         "showlegend": true,
         "type": "scattergl",
         "uid": "efcdd6d2-dc6c-498a-8cb9-bc54551d4df0",
         "x": [
          10.404973030090332
         ],
         "xaxis": "x",
         "y": [
          19.38250732421875
         ],
         "yaxis": "y"
        },
        {
         "customdata": [
          [
           1972,
           "USSR",
           "TUNNEL",
           "UNDERGROUND",
           "MURM RUSS",
           1972
          ],
          [
           1984,
           "USSR",
           "TUNNEL",
           "UNDERGROUND",
           "MURM RUSS",
           1984
          ]
         ],
         "hoverlabel": {
          "namelength": 0
         },
         "hovertemplate": "region=%{customdata[4]}<br>x=%{x}<br>y=%{y}<br>year=%{customdata[5]}<br>country=%{customdata[1]}<br>type=%{customdata[2]}<br>type_cat=%{customdata[3]}",
         "legendgroup": "region=MURM RUSS",
         "marker": {
          "color": "#00cc96",
          "symbol": "circle"
         },
         "mode": "markers",
         "name": "region=MURM RUSS",
         "showlegend": true,
         "type": "scattergl",
         "uid": "5df2a60b-3b4c-4653-910b-c966a020550a",
         "x": [
          -12.336487770080566,
          9.455780029296875
         ],
         "xaxis": "x",
         "y": [
          7.317107677459717,
          21.185272216796875
         ],
         "yaxis": "y"
        },
        {
         "customdata": [
          [
           1972,
           "USSR",
           "SHAFT",
           "UNDERGROUND",
           "KALMYK RUSS",
           1972
          ]
         ],
         "hoverlabel": {
          "namelength": 0
         },
         "hovertemplate": "region=%{customdata[4]}<br>x=%{x}<br>y=%{y}<br>year=%{customdata[5]}<br>country=%{customdata[1]}<br>type=%{customdata[2]}<br>type_cat=%{customdata[3]}",
         "legendgroup": "region=KALMYK RUSS",
         "marker": {
          "color": "#ab63fa",
          "symbol": "circle"
         },
         "mode": "markers",
         "name": "region=KALMYK RUSS",
         "showlegend": true,
         "type": "scattergl",
         "uid": "1256df76-7a73-4d20-9330-9c6ae70af113",
         "x": [
          -12.19450569152832
         ],
         "xaxis": "x",
         "y": [
          7.144734859466553
         ],
         "yaxis": "y"
        },
        {
         "customdata": [
          [
           1973,
           "USA",
           "SHAFT",
           "UNDERGROUND",
           "RIFLE CO",
           1973
          ]
         ],
         "hoverlabel": {
          "namelength": 0
         },
         "hovertemplate": "region=%{customdata[4]}<br>x=%{x}<br>y=%{y}<br>year=%{customdata[5]}<br>country=%{customdata[1]}<br>type=%{customdata[2]}<br>type_cat=%{customdata[3]}",
         "legendgroup": "region=RIFLE CO",
         "marker": {
          "color": "#19d3f3",
          "symbol": "circle"
         },
         "mode": "markers",
         "name": "region=RIFLE CO",
         "showlegend": true,
         "type": "scattergl",
         "uid": "ffa8e659-0d59-4f18-b440-a51b7a71dd45",
         "x": [
          -12.245162010192871
         ],
         "xaxis": "x",
         "y": [
          -3.984215497970581
         ],
         "yaxis": "y"
        },
        {
         "customdata": [
          [
           1973,
           "FRANCE",
           "AIRDROP",
           "ATMOSPHERIC",
           "W MURUROA",
           1973
          ]
         ],
         "hoverlabel": {
          "namelength": 0
         },
         "hovertemplate": "region=%{customdata[4]}<br>x=%{x}<br>y=%{y}<br>year=%{customdata[5]}<br>country=%{customdata[1]}<br>type=%{customdata[2]}<br>type_cat=%{customdata[3]}",
         "legendgroup": "region=W MURUROA",
         "marker": {
          "color": "#e763fa",
          "symbol": "circle"
         },
         "mode": "markers",
         "name": "region=W MURUROA",
         "showlegend": true,
         "type": "scattergl",
         "uid": "44d2ee7c-773e-4301-be51-45803db41edc",
         "x": [
          -16.577653884887695
         ],
         "xaxis": "x",
         "y": [
          3.576653003692627
         ],
         "yaxis": "y"
        },
        {
         "customdata": [
          [
           1974,
           "INDIA",
           "SHAFT",
           "UNDERGROUND",
           "POKHRAN",
           1974
          ],
          [
           1998,
           "INDIA",
           "UG",
           "UNDERGROUND",
           "POKHRAN",
           1998
          ],
          [
           1998,
           "INDIA",
           "UG",
           "UNDERGROUND",
           "POKHRAN",
           1998
          ]
         ],
         "hoverlabel": {
          "namelength": 0
         },
         "hovertemplate": "region=%{customdata[4]}<br>x=%{x}<br>y=%{y}<br>year=%{customdata[5]}<br>country=%{customdata[1]}<br>type=%{customdata[2]}<br>type_cat=%{customdata[3]}",
         "legendgroup": "region=POKHRAN",
         "marker": {
          "color": "#FECB52",
          "symbol": "circle"
         },
         "mode": "markers",
         "name": "region=POKHRAN",
         "showlegend": true,
         "type": "scattergl",
         "uid": "800efb96-a795-4e72-b2e3-d2e18bf446cd",
         "x": [
          -7.071264743804932,
          -6.743893146514893,
          -2.032566547393799
         ],
         "xaxis": "x",
         "y": [
          9.370001792907715,
          9.010805130004883,
          17.73763656616211
         ],
         "yaxis": "y"
        },
        {
         "customdata": [
          [
           1974,
           "FRANCE",
           "AIRDROP",
           "ATMOSPHERIC",
           "WSW MURUROA",
           1974
          ]
         ],
         "hoverlabel": {
          "namelength": 0
         },
         "hovertemplate": "region=%{customdata[4]}<br>x=%{x}<br>y=%{y}<br>year=%{customdata[5]}<br>country=%{customdata[1]}<br>type=%{customdata[2]}<br>type_cat=%{customdata[3]}",
         "legendgroup": "region=WSW MURUROA",
         "marker": {
          "color": "#FFA15A",
          "symbol": "circle"
         },
         "mode": "markers",
         "name": "region=WSW MURUROA",
         "showlegend": true,
         "type": "scattergl",
         "uid": "164d5ca4-8f92-46f4-b283-7b7bc4cb5140",
         "x": [
          -16.57091522216797
         ],
         "xaxis": "x",
         "y": [
          3.5499095916748047
         ],
         "yaxis": "y"
        },
        {
         "customdata": [
          [
           1974,
           "USSR",
           "SHAFT",
           "UNDERGROUND",
           "KOMI RUSS",
           1974
          ],
          [
           1984,
           "USSR",
           "SHAFT",
           "UNDERGROUND",
           "KOMI RUSS",
           1984
          ]
         ],
         "hoverlabel": {
          "namelength": 0
         },
         "hovertemplate": "region=%{customdata[4]}<br>x=%{x}<br>y=%{y}<br>year=%{customdata[5]}<br>country=%{customdata[1]}<br>type=%{customdata[2]}<br>type_cat=%{customdata[3]}",
         "legendgroup": "region=KOMI RUSS",
         "marker": {
          "color": "#FF6692",
          "symbol": "circle"
         },
         "mode": "markers",
         "name": "region=KOMI RUSS",
         "showlegend": true,
         "type": "scattergl",
         "uid": "77cd4042-a7bf-4d8d-8acc-be1abcac397b",
         "x": [
          -12.740289688110352,
          -14.830686569213867
         ],
         "xaxis": "x",
         "y": [
          7.542430400848389,
          9.013319969177246
         ],
         "yaxis": "y"
        },
        {
         "customdata": [
          [
           1974,
           "USSR",
           "SHAFT",
           "UNDERGROUND",
           "JAKUTS RUSS",
           1974
          ],
          [
           1975,
           "USSR",
           "SHAFT",
           "UNDERGROUND",
           "JAKUTS RUSS",
           1975
          ],
          [
           1976,
           "USSR",
           "SHAFT",
           "UNDERGROUND",
           "JAKUTS RUSS",
           1976
          ],
          [
           1978,
           "USSR",
           "SHAFT",
           "UNDERGROUND",
           "JAKUTS RUSS",
           1978
          ],
          [
           1978,
           "USSR",
           "SHAFT",
           "UNDERGROUND",
           "JAKUTS RUSS",
           1978
          ],
          [
           1979,
           "USSR",
           "SHAFT",
           "UNDERGROUND",
           "JAKUTS RUSS",
           1979
          ],
          [
           1979,
           "USSR",
           "SHAFT",
           "UNDERGROUND",
           "JAKUTS RUSS",
           1979
          ],
          [
           1982,
           "USSR",
           "SHAFT",
           "UNDERGROUND",
           "JAKUTS RUSS",
           1982
          ],
          [
           1987,
           "USSR",
           "SHAFT",
           "UNDERGROUND",
           "JAKUTS RUSS",
           1987
          ],
          [
           1987,
           "USSR",
           "SHAFT",
           "UNDERGROUND",
           "JAKUTS RUSS",
           1987
          ],
          [
           1987,
           "USSR",
           "SHAFT",
           "UNDERGROUND",
           "JAKUTS RUSS",
           1987
          ]
         ],
         "hoverlabel": {
          "namelength": 0
         },
         "hovertemplate": "region=%{customdata[4]}<br>x=%{x}<br>y=%{y}<br>year=%{customdata[5]}<br>country=%{customdata[1]}<br>type=%{customdata[2]}<br>type_cat=%{customdata[3]}",
         "legendgroup": "region=JAKUTS RUSS",
         "marker": {
          "color": "#B6E880",
          "symbol": "circle"
         },
         "mode": "markers",
         "name": "region=JAKUTS RUSS",
         "showlegend": true,
         "type": "scattergl",
         "uid": "3a52acba-37ec-4c4f-b271-1952513e7396",
         "x": [
          10.164166450500488,
          10.104791641235352,
          -13.145303726196289,
          -11.511768341064453,
          -11.518680572509766,
          -11.551177024841309,
          -13.937240600585938,
          -14.661126136779785,
          -15.11463451385498,
          -15.168404579162598,
          -15.17306137084961
         ],
         "xaxis": "x",
         "y": [
          19.793188095092773,
          19.922344207763672,
          7.85735559463501,
          -4.408888339996338,
          -4.475649356842041,
          -4.5190110206604,
          8.39659595489502,
          8.907036781311035,
          9.133289337158203,
          9.182052612304688,
          9.18154239654541
         ],
         "yaxis": "y"
        },
        {
         "customdata": [
          [
           1975,
           "USSR",
           "SHAFT",
           "UNDERGROUND",
           "KRASNO RUSS",
           1975
          ],
          [
           1977,
           "USSR",
           "SHAFT",
           "UNDERGROUND",
           "KRASNO RUSS",
           1977
          ],
          [
           1977,
           "USSR",
           "SHAFT",
           "UNDERGROUND",
           "KRASNO RUSS",
           1977
          ],
          [
           1978,
           "USSR",
           "TUNNEL",
           "UNDERGROUND",
           "KRASNO RUSS",
           1978
          ],
          [
           1979,
           "USSR",
           "SHAFT",
           "UNDERGROUND",
           "KRASNO RUSS",
           1979
          ],
          [
           1980,
           "USSR",
           "SHAFT",
           "UNDERGROUND",
           "KRASNO RUSS",
           1980
          ],
          [
           1981,
           "USSR",
           "SHAFT",
           "UNDERGROUND",
           "KRASNO RUSS",
           1981
          ],
          [
           1982,
           "USSR",
           "SHAFT",
           "UNDERGROUND",
           "KRASNO RUSS",
           1982
          ],
          [
           1982,
           "USSR",
           "SHAFT",
           "UNDERGROUND",
           "KRASNO RUSS",
           1982
          ]
         ],
         "hoverlabel": {
          "namelength": 0
         },
         "hovertemplate": "region=%{customdata[4]}<br>x=%{x}<br>y=%{y}<br>year=%{customdata[5]}<br>country=%{customdata[1]}<br>type=%{customdata[2]}<br>type_cat=%{customdata[3]}",
         "legendgroup": "region=KRASNO RUSS",
         "marker": {
          "color": "#636efa",
          "symbol": "circle"
         },
         "mode": "markers",
         "name": "region=KRASNO RUSS",
         "showlegend": true,
         "type": "scattergl",
         "uid": "9bfa42bf-60fe-463b-8ce5-fbad58c90d7f",
         "x": [
          -12.91207218170166,
          -13.518153190612793,
          -13.487065315246582,
          -13.709590911865234,
          -13.926885604858398,
          -14.184810638427734,
          -14.407702445983887,
          -11.524473190307617,
          -14.581704139709473
         ],
         "xaxis": "x",
         "y": [
          7.717076301574707,
          8.10739803314209,
          8.077676773071289,
          8.210485458374023,
          8.391576766967773,
          8.568953514099121,
          8.7508544921875,
          -4.574610710144043,
          8.899721145629883
         ],
         "yaxis": "y"
        },
        {
         "customdata": [
          [
           1977,
           "USSR",
           "SHAFT",
           "UNDERGROUND",
           "CHITA RUSS",
           1977
          ]
         ],
         "hoverlabel": {
          "namelength": 0
         },
         "hovertemplate": "region=%{customdata[4]}<br>x=%{x}<br>y=%{y}<br>year=%{customdata[5]}<br>country=%{customdata[1]}<br>type=%{customdata[2]}<br>type_cat=%{customdata[3]}",
         "legendgroup": "region=CHITA RUSS",
         "marker": {
          "color": "#EF553B",
          "symbol": "circle"
         },
         "mode": "markers",
         "name": "region=CHITA RUSS",
         "showlegend": true,
         "type": "scattergl",
         "uid": "e9da00a2-82f5-4c9f-975f-b97109cc5a88",
         "x": [
          -13.448101997375488
         ],
         "xaxis": "x",
         "y": [
          8.041630744934082
         ],
         "yaxis": "y"
        },
        {
         "customdata": [
          [
           1977,
           "USSR",
           "SHAFT",
           "UNDERGROUND",
           "IRKUTS RUSS",
           1977
          ],
          [
           1982,
           "USSR",
           "SHAFT",
           "UNDERGROUND",
           "IRKUTS RUSS",
           1982
          ]
         ],
         "hoverlabel": {
          "namelength": 0
         },
         "hovertemplate": "region=%{customdata[4]}<br>x=%{x}<br>y=%{y}<br>year=%{customdata[5]}<br>country=%{customdata[1]}<br>type=%{customdata[2]}<br>type_cat=%{customdata[3]}",
         "legendgroup": "region=IRKUTS RUSS",
         "marker": {
          "color": "#00cc96",
          "symbol": "circle"
         },
         "mode": "markers",
         "name": "region=IRKUTS RUSS",
         "showlegend": true,
         "type": "scattergl",
         "uid": "56a72154-3121-4152-a68a-9bde82017e91",
         "x": [
          -13.5986909866333,
          -11.56337833404541
         ],
         "xaxis": "x",
         "y": [
          8.166620254516602,
          -4.531793117523193
         ],
         "yaxis": "y"
        },
        {
         "customdata": [
          [
           1978,
           "USSR",
           "TUNNEL",
           "UNDERGROUND",
           "JAKUTS RUSE",
           1978
          ]
         ],
         "hoverlabel": {
          "namelength": 0
         },
         "hovertemplate": "region=%{customdata[4]}<br>x=%{x}<br>y=%{y}<br>year=%{customdata[5]}<br>country=%{customdata[1]}<br>type=%{customdata[2]}<br>type_cat=%{customdata[3]}",
         "legendgroup": "region=JAKUTS RUSE",
         "marker": {
          "color": "#ab63fa",
          "symbol": "circle"
         },
         "mode": "markers",
         "name": "region=JAKUTS RUSE",
         "showlegend": true,
         "type": "scattergl",
         "uid": "2d5d0d9d-1e43-4765-8da2-824a1cd63062",
         "x": [
          -13.737997055053711
         ],
         "xaxis": "x",
         "y": [
          8.233257293701172
         ],
         "yaxis": "y"
        },
        {
         "customdata": [
          [
           1978,
           "USSR",
           "SHAFT",
           "UNDERGROUND",
           "AZGIE KAZAKH",
           1978
          ]
         ],
         "hoverlabel": {
          "namelength": 0
         },
         "hovertemplate": "region=%{customdata[4]}<br>x=%{x}<br>y=%{y}<br>year=%{customdata[5]}<br>country=%{customdata[1]}<br>type=%{customdata[2]}<br>type_cat=%{customdata[3]}",
         "legendgroup": "region=AZGIE KAZAKH",
         "marker": {
          "color": "#19d3f3",
          "symbol": "circle"
         },
         "mode": "markers",
         "name": "region=AZGIE KAZAKH",
         "showlegend": true,
         "type": "scattergl",
         "uid": "f7a20ecf-fd1f-4124-a631-3db17368607b",
         "x": [
          -11.890911102294922
         ],
         "xaxis": "x",
         "y": [
          -3.939415216445923
         ],
         "yaxis": "y"
        },
        {
         "customdata": [
          [
           1979,
           "USSR",
           "SHAFT",
           "UNDERGROUND",
           "AZGIR",
           1979
          ],
          [
           1979,
           "USSR",
           "SHAFT",
           "UNDERGROUND",
           "AZGIR",
           1979
          ],
          [
           1979,
           "USSR",
           "SHAFT",
           "UNDERGROUND",
           "AZGIR",
           1979
          ]
         ],
         "hoverlabel": {
          "namelength": 0
         },
         "hovertemplate": "region=%{customdata[4]}<br>x=%{x}<br>y=%{y}<br>year=%{customdata[5]}<br>country=%{customdata[1]}<br>type=%{customdata[2]}<br>type_cat=%{customdata[3]}",
         "legendgroup": "region=AZGIR",
         "marker": {
          "color": "#e763fa",
          "symbol": "circle"
         },
         "mode": "markers",
         "name": "region=AZGIR",
         "showlegend": true,
         "type": "scattergl",
         "uid": "ec9f1f72-4cb4-49b2-83c8-eeffd3f959f5",
         "x": [
          -13.962342262268066,
          -11.799752235412598,
          -11.950479507446289
         ],
         "xaxis": "x",
         "y": [
          8.417912483215332,
          -4.188459873199463,
          -4.014104843139648
         ],
         "yaxis": "y"
        },
        {
         "customdata": [
          [
           1979,
           "FRANCE",
           "SHAFT/GR",
           "UNDERGROUND",
           "MUEUEOA",
           1979
          ],
          [
           1980,
           "FRANCE",
           "SHAFT/GR",
           "UNDERGROUND",
           "MUEUEOA",
           1980
          ]
         ],
         "hoverlabel": {
          "namelength": 0
         },
         "hovertemplate": "region=%{customdata[4]}<br>x=%{x}<br>y=%{y}<br>year=%{customdata[5]}<br>country=%{customdata[1]}<br>type=%{customdata[2]}<br>type_cat=%{customdata[3]}",
         "legendgroup": "region=MUEUEOA",
         "marker": {
          "color": "#FECB52",
          "symbol": "circle"
         },
         "mode": "markers",
         "name": "region=MUEUEOA",
         "showlegend": true,
         "type": "scattergl",
         "uid": "1189ba88-0acc-427d-b5d6-36017e68f80d",
         "x": [
          -6.907424449920654,
          -4.019499778747559
         ],
         "xaxis": "x",
         "y": [
          9.193415641784668,
          17.147382736206055
         ],
         "yaxis": "y"
        },
        {
         "customdata": [
          [
           1979,
           "USSR",
           "MINE",
           "UNDERGROUND",
           "UKEAINE",
           1979
          ]
         ],
         "hoverlabel": {
          "namelength": 0
         },
         "hovertemplate": "region=%{customdata[4]}<br>x=%{x}<br>y=%{y}<br>year=%{customdata[5]}<br>country=%{customdata[1]}<br>type=%{customdata[2]}<br>type_cat=%{customdata[3]}",
         "legendgroup": "region=UKEAINE",
         "marker": {
          "color": "#FFA15A",
          "symbol": "circle"
         },
         "mode": "markers",
         "name": "region=UKEAINE",
         "showlegend": true,
         "type": "scattergl",
         "uid": "3e45cc8b-2d83-4a6f-9ae2-7de38b06faec",
         "x": [
          9.70362663269043
         ],
         "xaxis": "x",
         "y": [
          20.74574089050293
         ],
         "yaxis": "y"
        },
        {
         "customdata": [
          [
           1980,
           "USSR",
           "SHAFT",
           "UNDERGROUND",
           "BASHKI RUSS",
           1980
          ]
         ],
         "hoverlabel": {
          "namelength": 0
         },
         "hovertemplate": "region=%{customdata[4]}<br>x=%{x}<br>y=%{y}<br>year=%{customdata[5]}<br>country=%{customdata[1]}<br>type=%{customdata[2]}<br>type_cat=%{customdata[3]}",
         "legendgroup": "region=BASHKI RUSS",
         "marker": {
          "color": "#FF6692",
          "symbol": "circle"
         },
         "mode": "markers",
         "name": "region=BASHKI RUSS",
         "showlegend": true,
         "type": "scattergl",
         "uid": "caa4af3e-8864-460e-8354-5e64bf113195",
         "x": [
          9.609535217285156
         ],
         "xaxis": "x",
         "y": [
          20.901948928833008
         ],
         "yaxis": "y"
        },
        {
         "customdata": [
          [
           1980,
           "USSR",
           "SHAFT",
           "UNDERGROUND",
           "ASTRAK RUSS",
           1980
          ],
          [
           1981,
           "USSR",
           "SHAFT",
           "UNDERGROUND",
           "ASTRAK RUSS",
           1981
          ],
          [
           1981,
           "USSR",
           "SHAFT",
           "UNDERGROUND",
           "ASTRAK RUSS",
           1981
          ],
          [
           1982,
           "USSR",
           "SHAFT",
           "UNDERGROUND",
           "ASTRAK RUSS",
           1982
          ],
          [
           1982,
           "USSR",
           "SHAFT",
           "UNDERGROUND",
           "ASTRAK RUSS",
           1982
          ],
          [
           1982,
           "USSR",
           "SHAFT",
           "UNDERGROUND",
           "ASTRAK RUSS",
           1982
          ],
          [
           1982,
           "USSR",
           "SHAFT",
           "UNDERGROUND",
           "ASTRAK RUSS",
           1982
          ],
          [
           1983,
           "USSR",
           "SHAFT",
           "UNDERGROUND",
           "ASTRAK RUSS",
           1983
          ],
          [
           1983,
           "USSR",
           "SHAFT",
           "UNDERGROUND",
           "ASTRAK RUSS",
           1983
          ],
          [
           1983,
           "USSR",
           "SHAFT",
           "UNDERGROUND",
           "ASTRAK RUSS",
           1983
          ],
          [
           1983,
           "USSR",
           "SHAFT",
           "UNDERGROUND",
           "ASTRAK RUSS",
           1983
          ],
          [
           1983,
           "USSR",
           "SHAFT",
           "UNDERGROUND",
           "ASTRAK RUSS",
           1983
          ],
          [
           1983,
           "USSR",
           "SHAFT",
           "UNDERGROUND",
           "ASTRAK RUSS",
           1983
          ],
          [
           1984,
           "USSR",
           "SHAFT",
           "UNDERGROUND",
           "ASTRAK RUSS",
           1984
          ],
          [
           1984,
           "USSR",
           "SHAFT",
           "UNDERGROUND",
           "ASTRAK RUSS",
           1984
          ]
         ],
         "hoverlabel": {
          "namelength": 0
         },
         "hovertemplate": "region=%{customdata[4]}<br>x=%{x}<br>y=%{y}<br>year=%{customdata[5]}<br>country=%{customdata[1]}<br>type=%{customdata[2]}<br>type_cat=%{customdata[3]}",
         "legendgroup": "region=ASTRAK RUSS",
         "marker": {
          "color": "#B6E880",
          "symbol": "circle"
         },
         "mode": "markers",
         "name": "region=ASTRAK RUSS",
         "showlegend": true,
         "type": "scattergl",
         "uid": "f9a990f3-8e6b-4926-9201-b3333339aa93",
         "x": [
          -11.576539993286133,
          -14.400965690612793,
          -14.3684663772583,
          -11.557656288146973,
          -11.559937477111816,
          -11.592392921447754,
          -11.580121994018555,
          -14.751744270324707,
          -14.735920906066895,
          -14.692071914672852,
          -14.747753143310547,
          -14.742084503173828,
          -14.741325378417969,
          -14.801262855529785,
          -14.816123962402344
         ],
         "xaxis": "x",
         "y": [
          -4.5600104331970215,
          8.739147186279297,
          8.710175514221191,
          -4.566459655761719,
          -4.579378604888916,
          -4.58762264251709,
          -4.5614094734191895,
          9.066543579101562,
          9.076334953308105,
          9.058403968811035,
          8.976362228393555,
          8.97811508178711,
          8.998790740966797,
          9.112019538879395,
          9.125264167785645
         ],
         "yaxis": "y"
        },
        {
         "customdata": [
          [
           1980,
           "USSR",
           "TUNNEL",
           "UNDERGROUND",
           "KZ RUSS",
           1980
          ]
         ],
         "hoverlabel": {
          "namelength": 0
         },
         "hovertemplate": "region=%{customdata[4]}<br>x=%{x}<br>y=%{y}<br>year=%{customdata[5]}<br>country=%{customdata[1]}<br>type=%{customdata[2]}<br>type_cat=%{customdata[3]}",
         "legendgroup": "region=KZ RUSS",
         "marker": {
          "color": "#636efa",
          "symbol": "circle"
         },
         "mode": "markers",
         "name": "region=KZ RUSS",
         "showlegend": true,
         "type": "scattergl",
         "uid": "b385add8-9717-4c16-9bf8-b3a6fc17f6fe",
         "x": [
          -11.620417594909668
         ],
         "xaxis": "x",
         "y": [
          -4.342836856842041
         ],
         "yaxis": "y"
        },
        {
         "customdata": [
          [
           1984,
           "USSR",
           "SHAFT",
           "UNDERGROUND",
           "KAZAKHSTAN",
           1984
          ],
          [
           1984,
           "USSR",
           "SHAFT",
           "UNDERGROUND",
           "KAZAKHSTAN",
           1984
          ],
          [
           1984,
           "USSR",
           "SHAFT",
           "UNDERGROUND",
           "KAZAKHSTAN",
           1984
          ]
         ],
         "hoverlabel": {
          "namelength": 0
         },
         "hovertemplate": "region=%{customdata[4]}<br>x=%{x}<br>y=%{y}<br>year=%{customdata[5]}<br>country=%{customdata[1]}<br>type=%{customdata[2]}<br>type_cat=%{customdata[3]}",
         "legendgroup": "region=KAZAKHSTAN",
         "marker": {
          "color": "#EF553B",
          "symbol": "circle"
         },
         "mode": "markers",
         "name": "region=KAZAKHSTAN",
         "showlegend": true,
         "type": "scattergl",
         "uid": "f1a85c44-fa81-4802-9eca-3d6c1b831459",
         "x": [
          -14.830717086791992,
          -14.835952758789062,
          -14.840157508850098
         ],
         "xaxis": "x",
         "y": [
          9.039819717407227,
          9.002961158752441,
          9.037555694580078
         ],
         "yaxis": "y"
        },
        {
         "customdata": [
          [
           1984,
           "USSR",
           "SHAFT",
           "UNDERGROUND",
           "KEMERO RUSS",
           1984
          ]
         ],
         "hoverlabel": {
          "namelength": 0
         },
         "hovertemplate": "region=%{customdata[4]}<br>x=%{x}<br>y=%{y}<br>year=%{customdata[5]}<br>country=%{customdata[1]}<br>type=%{customdata[2]}<br>type_cat=%{customdata[3]}",
         "legendgroup": "region=KEMERO RUSS",
         "marker": {
          "color": "#00cc96",
          "symbol": "circle"
         },
         "mode": "markers",
         "name": "region=KEMERO RUSS",
         "showlegend": true,
         "type": "scattergl",
         "uid": "659483ac-ef0d-4360-a83d-c4e038f693be",
         "x": [
          -14.809054374694824
         ],
         "xaxis": "x",
         "y": [
          9.090518951416016
         ],
         "yaxis": "y"
        },
        {
         "customdata": [
          [
           1985,
           "USSR",
           "SHAFT",
           "UNDERGROUND",
           "TUYMEN RUSS",
           1985
          ]
         ],
         "hoverlabel": {
          "namelength": 0
         },
         "hovertemplate": "region=%{customdata[4]}<br>x=%{x}<br>y=%{y}<br>year=%{customdata[5]}<br>country=%{customdata[1]}<br>type=%{customdata[2]}<br>type_cat=%{customdata[3]}",
         "legendgroup": "region=TUYMEN RUSS",
         "marker": {
          "color": "#ab63fa",
          "symbol": "circle"
         },
         "mode": "markers",
         "name": "region=TUYMEN RUSS",
         "showlegend": true,
         "type": "scattergl",
         "uid": "5bfeab60-2adb-42c6-85c4-7e367d6835bd",
         "x": [
          9.512173652648926
         ],
         "xaxis": "x",
         "y": [
          21.097518920898438
         ],
         "yaxis": "y"
        },
        {
         "customdata": [
          [
           1987,
           "USSR",
           "SHAFT",
           "UNDERGROUND",
           "W KAZAKH",
           1987
          ]
         ],
         "hoverlabel": {
          "namelength": 0
         },
         "hovertemplate": "region=%{customdata[4]}<br>x=%{x}<br>y=%{y}<br>year=%{customdata[5]}<br>country=%{customdata[1]}<br>type=%{customdata[2]}<br>type_cat=%{customdata[3]}",
         "legendgroup": "region=W KAZAKH",
         "marker": {
          "color": "#19d3f3",
          "symbol": "circle"
         },
         "mode": "markers",
         "name": "region=W KAZAKH",
         "showlegend": true,
         "type": "scattergl",
         "uid": "e8b46a69-cb77-430b-a6c6-77460b4813ed",
         "x": [
          -11.653608322143555
         ],
         "xaxis": "x",
         "y": [
          -4.608617305755615
         ],
         "yaxis": "y"
        },
        {
         "customdata": [
          [
           1987,
           "FRANCE",
           "SHAFT/LG",
           "UNDERGROUND",
           "HURUROA",
           1987
          ]
         ],
         "hoverlabel": {
          "namelength": 0
         },
         "hovertemplate": "region=%{customdata[4]}<br>x=%{x}<br>y=%{y}<br>year=%{customdata[5]}<br>country=%{customdata[1]}<br>type=%{customdata[2]}<br>type_cat=%{customdata[3]}",
         "legendgroup": "region=HURUROA",
         "marker": {
          "color": "#e763fa",
          "symbol": "circle"
         },
         "mode": "markers",
         "name": "region=HURUROA",
         "showlegend": true,
         "type": "scattergl",
         "uid": "518b164f-1ef6-4318-aba9-c3bcadc02550",
         "x": [
          -2.7606964111328125
         ],
         "xaxis": "x",
         "y": [
          17.541980743408203
         ],
         "yaxis": "y"
        },
        {
         "customdata": [
          [
           1989,
           "FRANCE",
           "SHAFT/LG",
           "UNDERGROUND",
           "FANGATAUFAA",
           1989
          ]
         ],
         "hoverlabel": {
          "namelength": 0
         },
         "hovertemplate": "region=%{customdata[4]}<br>x=%{x}<br>y=%{y}<br>year=%{customdata[5]}<br>country=%{customdata[1]}<br>type=%{customdata[2]}<br>type_cat=%{customdata[3]}",
         "legendgroup": "region=FANGATAUFAA",
         "marker": {
          "color": "#FECB52",
          "symbol": "circle"
         },
         "mode": "markers",
         "name": "region=FANGATAUFAA",
         "showlegend": true,
         "type": "scattergl",
         "uid": "7ae55dc8-485f-4607-b849-16a73655545e",
         "x": [
          -2.3003957271575928
         ],
         "xaxis": "x",
         "y": [
          17.56653594970703
         ],
         "yaxis": "y"
        },
        {
         "customdata": [
          [
           1998,
           "PAKIST",
           "UG",
           "UNDERGROUND",
           "CHAGAI",
           1998
          ]
         ],
         "hoverlabel": {
          "namelength": 0
         },
         "hovertemplate": "region=%{customdata[4]}<br>x=%{x}<br>y=%{y}<br>year=%{customdata[5]}<br>country=%{customdata[1]}<br>type=%{customdata[2]}<br>type_cat=%{customdata[3]}",
         "legendgroup": "region=CHAGAI",
         "marker": {
          "color": "#FFA15A",
          "symbol": "circle"
         },
         "mode": "markers",
         "name": "region=CHAGAI",
         "showlegend": true,
         "type": "scattergl",
         "uid": "ec3c772c-f998-4365-9385-b9a38ecce04f",
         "x": [
          -2.09915828704834
         ],
         "xaxis": "x",
         "y": [
          17.711164474487305
         ],
         "yaxis": "y"
        },
        {
         "customdata": [
          [
           1998,
           "PAKIST",
           "UG",
           "UNDERGROUND",
           "KHARAN",
           1998
          ]
         ],
         "hoverlabel": {
          "namelength": 0
         },
         "hovertemplate": "region=%{customdata[4]}<br>x=%{x}<br>y=%{y}<br>year=%{customdata[5]}<br>country=%{customdata[1]}<br>type=%{customdata[2]}<br>type_cat=%{customdata[3]}",
         "legendgroup": "region=KHARAN",
         "marker": {
          "color": "#FF6692",
          "symbol": "circle"
         },
         "mode": "markers",
         "name": "region=KHARAN",
         "showlegend": true,
         "type": "scattergl",
         "uid": "91224f4d-4ac1-43a4-b4eb-e392fb86dee5",
         "x": [
          1.6429529190063477
         ],
         "xaxis": "x",
         "y": [
          -14.62547492980957
         ],
         "yaxis": "y"
        }
       ],
       "layout": {
        "grid": {
         "xaxes": [
          "x"
         ],
         "xgap": 0.1,
         "xside": "bottom",
         "yaxes": [
          "y"
         ],
         "ygap": 0.1,
         "yside": "left"
        },
        "height": 600,
        "legend": {
         "tracegroupgap": 0
        },
        "margin": {
         "t": 60
        },
        "template": {
         "data": {
          "bar": [
           {
            "marker": {
             "line": {
              "color": "#E5ECF6",
              "width": 0.5
             }
            },
            "type": "bar"
           }
          ],
          "barpolar": [
           {
            "marker": {
             "line": {
              "color": "#E5ECF6",
              "width": 0.5
             }
            },
            "type": "barpolar"
           }
          ],
          "carpet": [
           {
            "aaxis": {
             "endlinecolor": "#2a3f5f",
             "gridcolor": "white",
             "linecolor": "white",
             "minorgridcolor": "white",
             "startlinecolor": "#2a3f5f"
            },
            "baxis": {
             "endlinecolor": "#2a3f5f",
             "gridcolor": "white",
             "linecolor": "white",
             "minorgridcolor": "white",
             "startlinecolor": "#2a3f5f"
            },
            "type": "carpet"
           }
          ],
          "choropleth": [
           {
            "colorbar": {
             "outlinewidth": 0,
             "ticks": ""
            },
            "type": "choropleth"
           }
          ],
          "contour": [
           {
            "colorbar": {
             "outlinewidth": 0,
             "ticks": ""
            },
            "colorscale": [
             [
              0,
              "#0508b8"
             ],
             [
              0.0893854748603352,
              "#1910d8"
             ],
             [
              0.1787709497206704,
              "#3c19f0"
             ],
             [
              0.2681564245810056,
              "#6b1cfb"
             ],
             [
              0.3575418994413408,
              "#981cfd"
             ],
             [
              0.44692737430167595,
              "#bf1cfd"
             ],
             [
              0.5363128491620112,
              "#dd2bfd"
             ],
             [
              0.6256983240223464,
              "#f246fe"
             ],
             [
              0.7150837988826816,
              "#fc67fd"
             ],
             [
              0.8044692737430168,
              "#fe88fc"
             ],
             [
              0.8938547486033519,
              "#fea5fd"
             ],
             [
              0.9832402234636871,
              "#febefe"
             ],
             [
              1,
              "#fec3fe"
             ]
            ],
            "type": "contour"
           }
          ],
          "contourcarpet": [
           {
            "colorbar": {
             "outlinewidth": 0,
             "ticks": ""
            },
            "type": "contourcarpet"
           }
          ],
          "heatmap": [
           {
            "colorbar": {
             "outlinewidth": 0,
             "ticks": ""
            },
            "colorscale": [
             [
              0,
              "#0508b8"
             ],
             [
              0.0893854748603352,
              "#1910d8"
             ],
             [
              0.1787709497206704,
              "#3c19f0"
             ],
             [
              0.2681564245810056,
              "#6b1cfb"
             ],
             [
              0.3575418994413408,
              "#981cfd"
             ],
             [
              0.44692737430167595,
              "#bf1cfd"
             ],
             [
              0.5363128491620112,
              "#dd2bfd"
             ],
             [
              0.6256983240223464,
              "#f246fe"
             ],
             [
              0.7150837988826816,
              "#fc67fd"
             ],
             [
              0.8044692737430168,
              "#fe88fc"
             ],
             [
              0.8938547486033519,
              "#fea5fd"
             ],
             [
              0.9832402234636871,
              "#febefe"
             ],
             [
              1,
              "#fec3fe"
             ]
            ],
            "type": "heatmap"
           }
          ],
          "heatmapgl": [
           {
            "colorbar": {
             "outlinewidth": 0,
             "ticks": ""
            },
            "type": "heatmapgl"
           }
          ],
          "histogram": [
           {
            "marker": {
             "colorbar": {
              "outlinewidth": 0,
              "ticks": ""
             }
            },
            "type": "histogram"
           }
          ],
          "histogram2d": [
           {
            "colorbar": {
             "outlinewidth": 0,
             "ticks": ""
            },
            "colorscale": [
             [
              0,
              "#0508b8"
             ],
             [
              0.0893854748603352,
              "#1910d8"
             ],
             [
              0.1787709497206704,
              "#3c19f0"
             ],
             [
              0.2681564245810056,
              "#6b1cfb"
             ],
             [
              0.3575418994413408,
              "#981cfd"
             ],
             [
              0.44692737430167595,
              "#bf1cfd"
             ],
             [
              0.5363128491620112,
              "#dd2bfd"
             ],
             [
              0.6256983240223464,
              "#f246fe"
             ],
             [
              0.7150837988826816,
              "#fc67fd"
             ],
             [
              0.8044692737430168,
              "#fe88fc"
             ],
             [
              0.8938547486033519,
              "#fea5fd"
             ],
             [
              0.9832402234636871,
              "#febefe"
             ],
             [
              1,
              "#fec3fe"
             ]
            ],
            "type": "histogram2d"
           }
          ],
          "histogram2dcontour": [
           {
            "colorbar": {
             "outlinewidth": 0,
             "ticks": ""
            },
            "colorscale": [
             [
              0,
              "#0508b8"
             ],
             [
              0.0893854748603352,
              "#1910d8"
             ],
             [
              0.1787709497206704,
              "#3c19f0"
             ],
             [
              0.2681564245810056,
              "#6b1cfb"
             ],
             [
              0.3575418994413408,
              "#981cfd"
             ],
             [
              0.44692737430167595,
              "#bf1cfd"
             ],
             [
              0.5363128491620112,
              "#dd2bfd"
             ],
             [
              0.6256983240223464,
              "#f246fe"
             ],
             [
              0.7150837988826816,
              "#fc67fd"
             ],
             [
              0.8044692737430168,
              "#fe88fc"
             ],
             [
              0.8938547486033519,
              "#fea5fd"
             ],
             [
              0.9832402234636871,
              "#febefe"
             ],
             [
              1,
              "#fec3fe"
             ]
            ],
            "type": "histogram2dcontour"
           }
          ],
          "mesh3d": [
           {
            "colorbar": {
             "outlinewidth": 0,
             "ticks": ""
            },
            "type": "mesh3d"
           }
          ],
          "parcoords": [
           {
            "line": {
             "colorbar": {
              "outlinewidth": 0,
              "ticks": ""
             }
            },
            "type": "parcoords"
           }
          ],
          "scatter": [
           {
            "marker": {
             "colorbar": {
              "outlinewidth": 0,
              "ticks": ""
             }
            },
            "type": "scatter"
           }
          ],
          "scatter3d": [
           {
            "marker": {
             "colorbar": {
              "outlinewidth": 0,
              "ticks": ""
             }
            },
            "type": "scatter3d"
           }
          ],
          "scattercarpet": [
           {
            "marker": {
             "colorbar": {
              "outlinewidth": 0,
              "ticks": ""
             }
            },
            "type": "scattercarpet"
           }
          ],
          "scattergeo": [
           {
            "marker": {
             "colorbar": {
              "outlinewidth": 0,
              "ticks": ""
             }
            },
            "type": "scattergeo"
           }
          ],
          "scattergl": [
           {
            "marker": {
             "colorbar": {
              "outlinewidth": 0,
              "ticks": ""
             }
            },
            "type": "scattergl"
           }
          ],
          "scattermapbox": [
           {
            "marker": {
             "colorbar": {
              "outlinewidth": 0,
              "ticks": ""
             }
            },
            "type": "scattermapbox"
           }
          ],
          "scatterpolar": [
           {
            "marker": {
             "colorbar": {
              "outlinewidth": 0,
              "ticks": ""
             }
            },
            "type": "scatterpolar"
           }
          ],
          "scatterpolargl": [
           {
            "marker": {
             "colorbar": {
              "outlinewidth": 0,
              "ticks": ""
             }
            },
            "type": "scatterpolargl"
           }
          ],
          "scatterternary": [
           {
            "marker": {
             "colorbar": {
              "outlinewidth": 0,
              "ticks": ""
             }
            },
            "type": "scatterternary"
           }
          ],
          "surface": [
           {
            "colorbar": {
             "outlinewidth": 0,
             "ticks": ""
            },
            "type": "surface"
           }
          ],
          "table": [
           {
            "cells": {
             "fill": {
              "color": "#EBF0F8"
             },
             "line": {
              "color": "white"
             }
            },
            "header": {
             "fill": {
              "color": "#C8D4E3"
             },
             "line": {
              "color": "white"
             }
            },
            "type": "table"
           }
          ]
         },
         "layout": {
          "annotationdefaults": {
           "arrowcolor": "#506784",
           "arrowhead": 0,
           "arrowwidth": 1
          },
          "colorscale": {
           "diverging": [
            [
             0,
             "#8e0152"
            ],
            [
             0.1,
             "#c51b7d"
            ],
            [
             0.2,
             "#de77ae"
            ],
            [
             0.3,
             "#f1b6da"
            ],
            [
             0.4,
             "#fde0ef"
            ],
            [
             0.5,
             "#f7f7f7"
            ],
            [
             0.6,
             "#e6f5d0"
            ],
            [
             0.7,
             "#b8e186"
            ],
            [
             0.8,
             "#7fbc41"
            ],
            [
             0.9,
             "#4d9221"
            ],
            [
             1,
             "#276419"
            ]
           ],
           "sequential": [
            [
             0,
             "#0508b8"
            ],
            [
             0.0893854748603352,
             "#1910d8"
            ],
            [
             0.1787709497206704,
             "#3c19f0"
            ],
            [
             0.2681564245810056,
             "#6b1cfb"
            ],
            [
             0.3575418994413408,
             "#981cfd"
            ],
            [
             0.44692737430167595,
             "#bf1cfd"
            ],
            [
             0.5363128491620112,
             "#dd2bfd"
            ],
            [
             0.6256983240223464,
             "#f246fe"
            ],
            [
             0.7150837988826816,
             "#fc67fd"
            ],
            [
             0.8044692737430168,
             "#fe88fc"
            ],
            [
             0.8938547486033519,
             "#fea5fd"
            ],
            [
             0.9832402234636871,
             "#febefe"
            ],
            [
             1,
             "#fec3fe"
            ]
           ],
           "sequentialminus": [
            [
             0,
             "#0508b8"
            ],
            [
             0.0893854748603352,
             "#1910d8"
            ],
            [
             0.1787709497206704,
             "#3c19f0"
            ],
            [
             0.2681564245810056,
             "#6b1cfb"
            ],
            [
             0.3575418994413408,
             "#981cfd"
            ],
            [
             0.44692737430167595,
             "#bf1cfd"
            ],
            [
             0.5363128491620112,
             "#dd2bfd"
            ],
            [
             0.6256983240223464,
             "#f246fe"
            ],
            [
             0.7150837988826816,
             "#fc67fd"
            ],
            [
             0.8044692737430168,
             "#fe88fc"
            ],
            [
             0.8938547486033519,
             "#fea5fd"
            ],
            [
             0.9832402234636871,
             "#febefe"
            ],
            [
             1,
             "#fec3fe"
            ]
           ]
          },
          "colorway": [
           "#636efa",
           "#EF553B",
           "#00cc96",
           "#ab63fa",
           "#19d3f3",
           "#e763fa",
           "#FECB52",
           "#FFA15A",
           "#FF6692",
           "#B6E880"
          ],
          "font": {
           "color": "#2a3f5f"
          },
          "geo": {
           "bgcolor": "white",
           "lakecolor": "white",
           "landcolor": "#E5ECF6",
           "showlakes": true,
           "showland": true,
           "subunitcolor": "white"
          },
          "hoverlabel": {
           "align": "left"
          },
          "hovermode": "closest",
          "mapbox": {
           "style": "light"
          },
          "paper_bgcolor": "white",
          "plot_bgcolor": "#E5ECF6",
          "polar": {
           "angularaxis": {
            "gridcolor": "white",
            "linecolor": "white",
            "ticks": ""
           },
           "bgcolor": "#E5ECF6",
           "radialaxis": {
            "gridcolor": "white",
            "linecolor": "white",
            "ticks": ""
           }
          },
          "scene": {
           "xaxis": {
            "backgroundcolor": "#E5ECF6",
            "gridcolor": "white",
            "gridwidth": 2,
            "linecolor": "white",
            "showbackground": true,
            "ticks": "",
            "zerolinecolor": "white"
           },
           "yaxis": {
            "backgroundcolor": "#E5ECF6",
            "gridcolor": "white",
            "gridwidth": 2,
            "linecolor": "white",
            "showbackground": true,
            "ticks": "",
            "zerolinecolor": "white"
           },
           "zaxis": {
            "backgroundcolor": "#E5ECF6",
            "gridcolor": "white",
            "gridwidth": 2,
            "linecolor": "white",
            "showbackground": true,
            "ticks": "",
            "zerolinecolor": "white"
           }
          },
          "shapedefaults": {
           "fillcolor": "#506784",
           "line": {
            "width": 0
           },
           "opacity": 0.4
          },
          "ternary": {
           "aaxis": {
            "gridcolor": "white",
            "linecolor": "white",
            "ticks": ""
           },
           "baxis": {
            "gridcolor": "white",
            "linecolor": "white",
            "ticks": ""
           },
           "bgcolor": "#E5ECF6",
           "caxis": {
            "gridcolor": "white",
            "linecolor": "white",
            "ticks": ""
           }
          },
          "title": {
           "x": 0.05
          },
          "xaxis": {
           "automargin": true,
           "gridcolor": "white",
           "linecolor": "white",
           "ticks": "",
           "zerolinecolor": "white",
           "zerolinewidth": 2
          },
          "yaxis": {
           "automargin": true,
           "gridcolor": "white",
           "linecolor": "white",
           "ticks": "",
           "zerolinecolor": "white",
           "zerolinewidth": 2
          }
         }
        },
        "xaxis": {
         "title": {
          "text": "x"
         }
        },
        "yaxis": {
         "title": {
          "text": "y"
         }
        }
       }
      },
      "text/html": [
       "<div>\n",
       "        \n",
       "        \n",
       "            <div id=\"caf520f5-6aa0-4246-91e3-6cdb09ad9b64\" class=\"plotly-graph-div\" style=\"height:600px; width:100%;\"></div>\n",
       "            <script type=\"text/javascript\">\n",
       "                require([\"plotly\"], function(Plotly) {\n",
       "                    window.PLOTLYENV=window.PLOTLYENV || {};\n",
       "                    window.PLOTLYENV.BASE_URL='https://plot.ly';\n",
       "                    \n",
       "                if (document.getElementById(\"caf520f5-6aa0-4246-91e3-6cdb09ad9b64\")) {\n",
       "                    Plotly.newPlot(\n",
       "                        'caf520f5-6aa0-4246-91e3-6cdb09ad9b64',\n",
       "                        [{\"customdata\": [[1945, \"USA\", \"TOWER\", \"ATMOSPHERIC\", \"ALAMOGORDO\", 1945]], \"hoverlabel\": {\"namelength\": 0}, \"hovertemplate\": \"region=%{customdata[4]}<br>x=%{x}<br>y=%{y}<br>year=%{customdata[5]}<br>country=%{customdata[1]}<br>type=%{customdata[2]}<br>type_cat=%{customdata[3]}\", \"legendgroup\": \"region=ALAMOGORDO\", \"marker\": {\"color\": \"#636efa\", \"symbol\": \"circle\"}, \"mode\": \"markers\", \"name\": \"region=ALAMOGORDO\", \"showlegend\": true, \"type\": \"scattergl\", \"uid\": \"9ff368f3-8f89-4449-a6cd-ffe20047e442\", \"x\": [-6.857891082763672], \"xaxis\": \"x\", \"y\": [-16.797060012817383], \"yaxis\": \"y\"}, {\"customdata\": [[1945, \"USA\", \"AIRDROP\", \"ATMOSPHERIC\", \"HIROSHIMA\", 1945]], \"hoverlabel\": {\"namelength\": 0}, \"hovertemplate\": \"region=%{customdata[4]}<br>x=%{x}<br>y=%{y}<br>year=%{customdata[5]}<br>country=%{customdata[1]}<br>type=%{customdata[2]}<br>type_cat=%{customdata[3]}\", \"legendgroup\": \"region=HIROSHIMA\", \"marker\": {\"color\": \"#EF553B\", \"symbol\": \"circle\"}, \"mode\": \"markers\", \"name\": \"region=HIROSHIMA\", \"showlegend\": true, \"type\": \"scattergl\", \"uid\": \"4a3e344a-77bd-40f2-b1f5-b56af9cf112b\", \"x\": [-6.8616943359375], \"xaxis\": \"x\", \"y\": [-16.79298210144043], \"yaxis\": \"y\"}, {\"customdata\": [[1945, \"USA\", \"AIRDROP\", \"ATMOSPHERIC\", \"NAGASAKI\", 1945]], \"hoverlabel\": {\"namelength\": 0}, \"hovertemplate\": \"region=%{customdata[4]}<br>x=%{x}<br>y=%{y}<br>year=%{customdata[5]}<br>country=%{customdata[1]}<br>type=%{customdata[2]}<br>type_cat=%{customdata[3]}\", \"legendgroup\": \"region=NAGASAKI\", \"marker\": {\"color\": \"#00cc96\", \"symbol\": \"circle\"}, \"mode\": \"markers\", \"name\": \"region=NAGASAKI\", \"showlegend\": true, \"type\": \"scattergl\", \"uid\": \"81b2b313-2ff3-4878-8ea9-f62ab82d795f\", \"x\": [-6.8267822265625], \"xaxis\": \"x\", \"y\": [-16.81055450439453], \"yaxis\": \"y\"}, {\"customdata\": [[1946, \"USA\", \"AIRDROP\", \"ATMOSPHERIC\", \"BIKINI\", 1946], [1946, \"USA\", \"UW\", \"ATMOSPHERIC\", \"BIKINI\", 1946], [1954, \"USA\", \"SURFACE\", \"ATMOSPHERIC\", \"BIKINI\", 1954], [1954, \"USA\", \"BARGE\", \"ATMOSPHERIC\", \"BIKINI\", 1954], [1954, \"USA\", \"SURFACE\", \"ATMOSPHERIC\", \"BIKINI\", 1954], [1954, \"USA\", \"BARGE\", \"ATMOSPHERIC\", \"BIKINI\", 1954], [1954, \"USA\", \"BARGE\", \"ATMOSPHERIC\", \"BIKINI\", 1954], [1956, \"USA\", \"AIRDROP\", \"ATMOSPHERIC\", \"BIKINI\", 1956], [1956, \"USA\", \"SURFACE\", \"ATMOSPHERIC\", \"BIKINI\", 1956], [1956, \"USA\", \"BARGE\", \"ATMOSPHERIC\", \"BIKINI\", 1956], [1956, \"USA\", \"BARGE\", \"ATMOSPHERIC\", \"BIKINI\", 1956], [1956, \"USA\", \"BARGE\", \"ATMOSPHERIC\", \"BIKINI\", 1956], [1956, \"USA\", \"BARGE\", \"ATMOSPHERIC\", \"BIKINI\", 1956], [1958, \"USA\", \"BARGE\", \"ATMOSPHERIC\", \"BIKINI\", 1958], [1958, \"USA\", \"BARGE\", \"ATMOSPHERIC\", \"BIKINI\", 1958], [1958, \"USA\", \"BARGE\", \"ATMOSPHERIC\", \"BIKINI\", 1958], [1958, \"USA\", \"BARGE\", \"ATMOSPHERIC\", \"BIKINI\", 1958], [1958, \"USA\", \"BARGE\", \"ATMOSPHERIC\", \"BIKINI\", 1958], [1958, \"USA\", \"BARGE\", \"ATMOSPHERIC\", \"BIKINI\", 1958], [1958, \"USA\", \"BARGE\", \"ATMOSPHERIC\", \"BIKINI\", 1958], [1958, \"USA\", \"BARGE\", \"ATMOSPHERIC\", \"BIKINI\", 1958], [1958, \"USA\", \"BARGE\", \"ATMOSPHERIC\", \"BIKINI\", 1958], [1958, \"USA\", \"BARGE\", \"ATMOSPHERIC\", \"BIKINI\", 1958]], \"hoverlabel\": {\"namelength\": 0}, \"hovertemplate\": \"region=%{customdata[4]}<br>x=%{x}<br>y=%{y}<br>year=%{customdata[5]}<br>country=%{customdata[1]}<br>type=%{customdata[2]}<br>type_cat=%{customdata[3]}\", \"legendgroup\": \"region=BIKINI\", \"marker\": {\"color\": \"#ab63fa\", \"symbol\": \"circle\"}, \"mode\": \"markers\", \"name\": \"region=BIKINI\", \"showlegend\": true, \"type\": \"scattergl\", \"uid\": \"5efbfc17-538b-40a2-b420-cf7b29c50116\", \"x\": [-6.8739166259765625, -6.816501617431641, -4.464802265167236, -4.532745361328125, -6.177918910980225, -4.550962448120117, -4.489987850189209, -4.6556715965271, -4.702268600463867, -4.491791248321533, -4.976086616516113, -4.643605709075928, -4.626570701599121, -4.948553085327148, -3.904247522354126, -3.9373779296875, -4.3350348472595215, -4.308861255645752, -4.3590264320373535, -3.8539154529571533, -4.357484817504883, -4.507093906402588, -4.0020751953125], \"xaxis\": \"x\", \"y\": [-16.814632415771484, -16.84231948852539, -14.586102485656738, -14.519474983215332, -17.0346736907959, -14.523579597473145, -14.575789451599121, -14.445642471313477, -14.407055854797363, -16.596691131591797, -14.566648483276367, -14.470849990844727, -14.484118461608887, -14.434479713439941, -16.7283992767334, -16.724878311157227, -16.646764755249023, -16.61548614501953, -16.575626373291016, -16.767093658447266, -16.62175750732422, -14.56000804901123, -16.680334091186523], \"yaxis\": \"y\"}, {\"customdata\": [[1948, \"USA\", \"TOWER\", \"ATMOSPHERIC\", \"ENEWETAK\", 1948], [1948, \"USA\", \"TOWER\", \"ATMOSPHERIC\", \"ENEWETAK\", 1948], [1948, \"USA\", \"TOWER\", \"ATMOSPHERIC\", \"ENEWETAK\", 1948], [1951, \"USA\", \"TOWER\", \"ATMOSPHERIC\", \"ENEWETAK\", 1951], [1951, \"USA\", \"TOWER\", \"ATMOSPHERIC\", \"ENEWETAK\", 1951], [1951, \"USA\", \"TOWER\", \"ATMOSPHERIC\", \"ENEWETAK\", 1951], [1951, \"USA\", \"TOWER\", \"ATMOSPHERIC\", \"ENEWETAK\", 1951], [1952, \"USA\", \"SURFACE\", \"ATMOSPHERIC\", \"ENEWETAK\", 1952], [1952, \"USA\", \"AIRDROP\", \"ATMOSPHERIC\", \"ENEWETAK\", 1952], [1954, \"USA\", \"BARGE\", \"ATMOSPHERIC\", \"ENEWETAK\", 1954], [1956, \"USA\", \"SURFACE\", \"ATMOSPHERIC\", \"ENEWETAK\", 1956], [1956, \"USA\", \"TOWER\", \"ATMOSPHERIC\", \"ENEWETAK\", 1956], [1956, \"USA\", \"TOWER\", \"ATMOSPHERIC\", \"ENEWETAK\", 1956], [1956, \"USA\", \"SURFACE\", \"ATMOSPHERIC\", \"ENEWETAK\", 1956], [1956, \"USA\", \"TOWER\", \"ATMOSPHERIC\", \"ENEWETAK\", 1956], [1956, \"USA\", \"TOWER\", \"ATMOSPHERIC\", \"ENEWETAK\", 1956], [1956, \"USA\", \"AIRDROP\", \"ATMOSPHERIC\", \"ENEWETAK\", 1956], [1956, \"USA\", \"TOWER\", \"ATMOSPHERIC\", \"ENEWETAK\", 1956], [1956, \"USA\", \"TOWER\", \"ATMOSPHERIC\", \"ENEWETAK\", 1956], [1956, \"USA\", \"BARGE\", \"ATMOSPHERIC\", \"ENEWETAK\", 1956], [1956, \"USA\", \"BARGE\", \"ATMOSPHERIC\", \"ENEWETAK\", 1956], [1958, \"USA\", \"SURFACE\", \"ATMOSPHERIC\", \"ENEWETAK\", 1958], [1958, \"USA\", \"BARGE\", \"ATMOSPHERIC\", \"ENEWETAK\", 1958], [1958, \"USA\", \"SURFACE\", \"ATMOSPHERIC\", \"ENEWETAK\", 1958], [1958, \"USA\", \"UW\", \"ATMOSPHERIC\", \"ENEWETAK\", 1958], [1958, \"USA\", \"BARGE\", \"ATMOSPHERIC\", \"ENEWETAK\", 1958], [1958, \"USA\", \"BARGE\", \"ATMOSPHERIC\", \"ENEWETAK\", 1958], [1958, \"USA\", \"BARGE\", \"ATMOSPHERIC\", \"ENEWETAK\", 1958], [1958, \"USA\", \"BARGE\", \"ATMOSPHERIC\", \"ENEWETAK\", 1958], [1958, \"USA\", \"BARGE\", \"ATMOSPHERIC\", \"ENEWETAK\", 1958], [1958, \"USA\", \"UW\", \"ATMOSPHERIC\", \"ENEWETAK\", 1958], [1958, \"USA\", \"BARGE\", \"ATMOSPHERIC\", \"ENEWETAK\", 1958], [1958, \"USA\", \"BARGE\", \"ATMOSPHERIC\", \"ENEWETAK\", 1958], [1958, \"USA\", \"BARGE\", \"ATMOSPHERIC\", \"ENEWETAK\", 1958], [1958, \"USA\", \"BARGE\", \"ATMOSPHERIC\", \"ENEWETAK\", 1958], [1958, \"USA\", \"BARGE\", \"ATMOSPHERIC\", \"ENEWETAK\", 1958], [1958, \"USA\", \"BARGE\", \"ATMOSPHERIC\", \"ENEWETAK\", 1958], [1958, \"USA\", \"BARGE\", \"ATMOSPHERIC\", \"ENEWETAK\", 1958], [1958, \"USA\", \"BARGE\", \"ATMOSPHERIC\", \"ENEWETAK\", 1958], [1958, \"USA\", \"BARGE\", \"ATMOSPHERIC\", \"ENEWETAK\", 1958], [1958, \"USA\", \"BARGE\", \"ATMOSPHERIC\", \"ENEWETAK\", 1958], [1958, \"USA\", \"SURFACE\", \"ATMOSPHERIC\", \"ENEWETAK\", 1958], [1958, \"USA\", \"SURFACE\", \"ATMOSPHERIC\", \"ENEWETAK\", 1958]], \"hoverlabel\": {\"namelength\": 0}, \"hovertemplate\": \"region=%{customdata[4]}<br>x=%{x}<br>y=%{y}<br>year=%{customdata[5]}<br>country=%{customdata[1]}<br>type=%{customdata[2]}<br>type_cat=%{customdata[3]}\", \"legendgroup\": \"region=ENEWETAK\", \"marker\": {\"color\": \"#19d3f3\", \"symbol\": \"circle\"}, \"mode\": \"markers\", \"name\": \"region=ENEWETAK\", \"showlegend\": true, \"type\": \"scattergl\", \"uid\": \"bed8f22b-3fcc-4e85-8a2e-7ad7a542f1c6\", \"x\": [-6.8951191902160645, -6.892535209655762, -6.792673587799072, -6.921408653259277, -6.876763820648193, -6.862260341644287, -6.88928747177124, -4.51138973236084, -6.727851390838623, -4.903061389923096, -5.13408899307251, -5.144587516784668, -5.15564489364624, -5.144309997558594, -5.135511875152588, -5.143871307373047, -5.142096996307373, -5.1273274421691895, -4.55623722076416, -4.899763107299805, -4.535398006439209, -3.8671600818634033, -3.99540114402771, -4.955017566680908, -3.7713253498077393, -3.8292551040649414, -4.337722301483154, -3.8444905281066895, -3.848445415496826, -3.887709379196167, -3.8491976261138916, -4.9559173583984375, -3.8619773387908936, -5.0968403816223145, -4.521956443786621, -3.8245177268981934, -4.359534740447998, -3.793520450592041, -4.370876312255859, -4.325313568115234, -4.889882564544678, -3.7558603286743164, -3.7758970260620117], \"xaxis\": \"x\", \"y\": [-16.823686599731445, -16.822612762451172, -16.851716995239258, -16.838197708129883, -16.824424743652344, -16.82807731628418, -16.854021072387695, -14.541131973266602, -16.837162017822266, -14.390058517456055, -16.93842315673828, -16.924821853637695, -16.940122604370117, -16.940393447875977, -16.931772232055664, -16.92926025390625, -16.931798934936523, -16.93158721923828, -16.626317977905273, -14.385152816772461, -16.627763748168945, -16.754621505737305, -16.691810607910156, -14.43271541595459, -16.840906143188477, -16.779884338378906, -16.592884063720703, -16.770523071289062, -16.7657527923584, -16.727489471435547, -16.78068733215332, -14.411571502685547, -16.751510620117188, -14.620589256286621, -14.543532371520996, -16.778650283813477, -16.548532485961914, -16.805580139160156, -16.617313385009766, -16.632156372070312, -14.36057186126709, -16.829814910888672, -16.828943252563477], \"yaxis\": \"y\"}, {\"customdata\": [[1949, \"USSR\", \"SURFACE\", \"ATMOSPHERIC\", \"SEMI KAZAKH\", 1949], [1951, \"USSR\", \"SURFACE\", \"ATMOSPHERIC\", \"SEMI KAZAKH\", 1951], [1951, \"USSR\", \"AIRDROP\", \"ATMOSPHERIC\", \"SEMI KAZAKH\", 1951], [1953, \"USSR\", \"SURFACE\", \"ATMOSPHERIC\", \"SEMI KAZAKH\", 1953], [1953, \"USSR\", \"ATMOSPH\", \"ATMOSPHERIC\", \"SEMI KAZAKH\", 1953], [1953, \"USSR\", \"ATMOSPH\", \"ATMOSPHERIC\", \"SEMI KAZAKH\", 1953], [1953, \"USSR\", \"ATMOSPH\", \"ATMOSPHERIC\", \"SEMI KAZAKH\", 1953], [1953, \"USSR\", \"ATMOSPH\", \"ATMOSPHERIC\", \"SEMI KAZAKH\", 1953], [1954, \"USSR\", \"ATMOSPH\", \"ATMOSPHERIC\", \"SEMI KAZAKH\", 1954], [1954, \"USSR\", \"ATMOSPH\", \"ATMOSPHERIC\", \"SEMI KAZAKH\", 1954], [1954, \"USSR\", \"ATMOSPH\", \"ATMOSPHERIC\", \"SEMI KAZAKH\", 1954], [1954, \"USSR\", \"SURFACE\", \"ATMOSPHERIC\", \"SEMI KAZAKH\", 1954], [1954, \"USSR\", \"ATMOSPH\", \"ATMOSPHERIC\", \"SEMI KAZAKH\", 1954], [1954, \"USSR\", \"SURFACE\", \"ATMOSPHERIC\", \"SEMI KAZAKH\", 1954], [1954, \"USSR\", \"ATMOSPH\", \"ATMOSPHERIC\", \"SEMI KAZAKH\", 1954], [1954, \"USSR\", \"ATMOSPH\", \"ATMOSPHERIC\", \"SEMI KAZAKH\", 1954], [1954, \"USSR\", \"SURFACE\", \"ATMOSPHERIC\", \"SEMI KAZAKH\", 1954], [1955, \"USSR\", \"SURFACE\", \"ATMOSPHERIC\", \"SEMI KAZAKH\", 1955], [1955, \"USSR\", \"SURFACE\", \"ATMOSPHERIC\", \"SEMI KAZAKH\", 1955], [1955, \"USSR\", \"SURFACE\", \"ATMOSPHERIC\", \"SEMI KAZAKH\", 1955], [1955, \"USSR\", \"ATMOSPH\", \"ATMOSPHERIC\", \"SEMI KAZAKH\", 1955], [1955, \"USSR\", \"ATMOSPH\", \"ATMOSPHERIC\", \"SEMI KAZAKH\", 1955], [1956, \"USSR\", \"SURFACE\", \"ATMOSPHERIC\", \"SEMI KAZAKH\", 1956], [1956, \"USSR\", \"SURFACE\", \"ATMOSPHERIC\", \"SEMI KAZAKH\", 1956], [1956, \"USSR\", \"SURFACE\", \"ATMOSPHERIC\", \"SEMI KAZAKH\", 1956], [1956, \"USSR\", \"ATMOSPH\", \"ATMOSPHERIC\", \"SEMI KAZAKH\", 1956], [1956, \"USSR\", \"ATMOSPH\", \"ATMOSPHERIC\", \"SEMI KAZAKH\", 1956], [1956, \"USSR\", \"ATMOSPH\", \"ATMOSPHERIC\", \"SEMI KAZAKH\", 1956], [1956, \"USSR\", \"ATMOSPH\", \"ATMOSPHERIC\", \"SEMI KAZAKH\", 1956], [1956, \"USSR\", \"ATMOSPH\", \"ATMOSPHERIC\", \"SEMI KAZAKH\", 1956], [1957, \"USSR\", \"ATMOSPH\", \"ATMOSPHERIC\", \"SEMI KAZAKH\", 1957], [1957, \"USSR\", \"ATMOSPH\", \"ATMOSPHERIC\", \"SEMI KAZAKH\", 1957], [1957, \"USSR\", \"ATMOSPH\", \"ATMOSPHERIC\", \"SEMI KAZAKH\", 1957], [1957, \"USSR\", \"ATMOSPH\", \"ATMOSPHERIC\", \"SEMI KAZAKH\", 1957], [1957, \"USSR\", \"ATMOSPH\", \"ATMOSPHERIC\", \"SEMI KAZAKH\", 1957], [1957, \"USSR\", \"ATMOSPH\", \"ATMOSPHERIC\", \"SEMI KAZAKH\", 1957], [1957, \"USSR\", \"ATMOSPH\", \"ATMOSPHERIC\", \"SEMI KAZAKH\", 1957], [1957, \"USSR\", \"ATMOSPH\", \"ATMOSPHERIC\", \"SEMI KAZAKH\", 1957], [1957, \"USSR\", \"ATMOSPH\", \"ATMOSPHERIC\", \"SEMI KAZAKH\", 1957], [1957, \"USSR\", \"ATMOSPH\", \"ATMOSPHERIC\", \"SEMI KAZAKH\", 1957], [1957, \"USSR\", \"ATMOSPH\", \"ATMOSPHERIC\", \"SEMI KAZAKH\", 1957], [1958, \"USSR\", \"ATMOSPH\", \"ATMOSPHERIC\", \"SEMI KAZAKH\", 1958], [1958, \"USSR\", \"ATMOSPH\", \"ATMOSPHERIC\", \"SEMI KAZAKH\", 1958], [1958, \"USSR\", \"ATMOSPH\", \"ATMOSPHERIC\", \"SEMI KAZAKH\", 1958], [1958, \"USSR\", \"ATMOSPH\", \"ATMOSPHERIC\", \"SEMI KAZAKH\", 1958], [1958, \"USSR\", \"ATMOSPH\", \"ATMOSPHERIC\", \"SEMI KAZAKH\", 1958], [1958, \"USSR\", \"ATMOSPH\", \"ATMOSPHERIC\", \"SEMI KAZAKH\", 1958], [1958, \"USSR\", \"ATMOSPH\", \"ATMOSPHERIC\", \"SEMI KAZAKH\", 1958], [1958, \"USSR\", \"ATMOSPH\", \"ATMOSPHERIC\", \"SEMI KAZAKH\", 1958], [1961, \"USSR\", \"ATMOSPH\", \"ATMOSPHERIC\", \"SEMI KAZAKH\", 1961], [1961, \"USSR\", \"ATMOSPH\", \"ATMOSPHERIC\", \"SEMI KAZAKH\", 1961], [1961, \"USSR\", \"ATMOSPH\", \"ATMOSPHERIC\", \"SEMI KAZAKH\", 1961], [1961, \"USSR\", \"ATMOSPH\", \"ATMOSPHERIC\", \"SEMI KAZAKH\", 1961], [1961, \"USSR\", \"SURFACE\", \"ATMOSPHERIC\", \"SEMI KAZAKH\", 1961], [1961, \"USSR\", \"ATMOSPH\", \"ATMOSPHERIC\", \"SEMI KAZAKH\", 1961], [1961, \"USSR\", \"ATMOSPH\", \"ATMOSPHERIC\", \"SEMI KAZAKH\", 1961], [1961, \"USSR\", \"ATMOSPH\", \"ATMOSPHERIC\", \"SEMI KAZAKH\", 1961], [1961, \"USSR\", \"SURFACE\", \"ATMOSPHERIC\", \"SEMI KAZAKH\", 1961], [1961, \"USSR\", \"ATMOSPH\", \"ATMOSPHERIC\", \"SEMI KAZAKH\", 1961], [1961, \"USSR\", \"SURFACE\", \"ATMOSPHERIC\", \"SEMI KAZAKH\", 1961], [1961, \"USSR\", \"ATMOSPH\", \"ATMOSPHERIC\", \"SEMI KAZAKH\", 1961], [1961, \"USSR\", \"SURFACE\", \"ATMOSPHERIC\", \"SEMI KAZAKH\", 1961], [1961, \"USSR\", \"ATMOSPH\", \"ATMOSPHERIC\", \"SEMI KAZAKH\", 1961], [1961, \"USSR\", \"ATMOSPH\", \"ATMOSPHERIC\", \"SEMI KAZAKH\", 1961], [1961, \"USSR\", \"ATMOSPH\", \"ATMOSPHERIC\", \"SEMI KAZAKH\", 1961], [1961, \"USSR\", \"ATMOSPH\", \"ATMOSPHERIC\", \"SEMI KAZAKH\", 1961], [1961, \"USSR\", \"ATMOSPH\", \"ATMOSPHERIC\", \"SEMI KAZAKH\", 1961], [1961, \"USSR\", \"TUNNEL\", \"UNDERGROUND\", \"SEMI KAZAKH\", 1961], [1961, \"USSR\", \"ATMOSPH\", \"ATMOSPHERIC\", \"SEMI KAZAKH\", 1961], [1961, \"USSR\", \"ATMOSPH\", \"ATMOSPHERIC\", \"SEMI KAZAKH\", 1961], [1961, \"USSR\", \"ATMOSPH\", \"ATMOSPHERIC\", \"SEMI KAZAKH\", 1961], [1961, \"USSR\", \"ATMOSPH\", \"ATMOSPHERIC\", \"SEMI KAZAKH\", 1961], [1961, \"USSR\", \"ATMOSPH\", \"ATMOSPHERIC\", \"SEMI KAZAKH\", 1961], [1961, \"USSR\", \"ATMOSPH\", \"ATMOSPHERIC\", \"SEMI KAZAKH\", 1961], [1961, \"USSR\", \"ATMOSPH\", \"ATMOSPHERIC\", \"SEMI KAZAKH\", 1961], [1961, \"USSR\", \"SURFACE\", \"ATMOSPHERIC\", \"SEMI KAZAKH\", 1961], [1961, \"USSR\", \"ATMOSPH\", \"ATMOSPHERIC\", \"SEMI KAZAKH\", 1961], [1961, \"USSR\", \"SURFACE\", \"ATMOSPHERIC\", \"SEMI KAZAKH\", 1961], [1962, \"USSR\", \"TUNNEL\", \"UNDERGROUND\", \"SEMI KAZAKH\", 1962], [1962, \"USSR\", \"ATMOSPH\", \"ATMOSPHERIC\", \"SEMI KAZAKH\", 1962], [1962, \"USSR\", \"ATMOSPH\", \"ATMOSPHERIC\", \"SEMI KAZAKH\", 1962], [1962, \"USSR\", \"ATMOSPH\", \"ATMOSPHERIC\", \"SEMI KAZAKH\", 1962], [1962, \"USSR\", \"SURFACE\", \"ATMOSPHERIC\", \"SEMI KAZAKH\", 1962], [1962, \"USSR\", \"ATMOSPH\", \"ATMOSPHERIC\", \"SEMI KAZAKH\", 1962], [1962, \"USSR\", \"ATMOSPH\", \"ATMOSPHERIC\", \"SEMI KAZAKH\", 1962], [1962, \"USSR\", \"ATMOSPH\", \"ATMOSPHERIC\", \"SEMI KAZAKH\", 1962], [1962, \"USSR\", \"ATMOSPH\", \"ATMOSPHERIC\", \"SEMI KAZAKH\", 1962], [1962, \"USSR\", \"ATMOSPH\", \"ATMOSPHERIC\", \"SEMI KAZAKH\", 1962], [1962, \"USSR\", \"ATMOSPH\", \"ATMOSPHERIC\", \"SEMI KAZAKH\", 1962], [1962, \"USSR\", \"ATMOSPH\", \"ATMOSPHERIC\", \"SEMI KAZAKH\", 1962], [1962, \"USSR\", \"ATMOSPH\", \"ATMOSPHERIC\", \"SEMI KAZAKH\", 1962], [1962, \"USSR\", \"SURFACE\", \"ATMOSPHERIC\", \"SEMI KAZAKH\", 1962], [1962, \"USSR\", \"ATMOSPH\", \"ATMOSPHERIC\", \"SEMI KAZAKH\", 1962], [1962, \"USSR\", \"SURFACE\", \"ATMOSPHERIC\", \"SEMI KAZAKH\", 1962], [1962, \"USSR\", \"ATMOSPH\", \"ATMOSPHERIC\", \"SEMI KAZAKH\", 1962], [1962, \"USSR\", \"ATMOSPH\", \"ATMOSPHERIC\", \"SEMI KAZAKH\", 1962], [1962, \"USSR\", \"ATMOSPH\", \"ATMOSPHERIC\", \"SEMI KAZAKH\", 1962], [1962, \"USSR\", \"ATMOSPH\", \"ATMOSPHERIC\", \"SEMI KAZAKH\", 1962], [1962, \"USSR\", \"ATMOSPH\", \"ATMOSPHERIC\", \"SEMI KAZAKH\", 1962], [1962, \"USSR\", \"ATMOSPH\", \"ATMOSPHERIC\", \"SEMI KAZAKH\", 1962], [1962, \"USSR\", \"ATMOSPH\", \"ATMOSPHERIC\", \"SEMI KAZAKH\", 1962], [1962, \"USSR\", \"ATMOSPH\", \"ATMOSPHERIC\", \"SEMI KAZAKH\", 1962], [1962, \"USSR\", \"SURFACE\", \"ATMOSPHERIC\", \"SEMI KAZAKH\", 1962], [1962, \"USSR\", \"ATMOSPH\", \"ATMOSPHERIC\", \"SEMI KAZAKH\", 1962], [1962, \"USSR\", \"ATMOSPH\", \"ATMOSPHERIC\", \"SEMI KAZAKH\", 1962], [1962, \"USSR\", \"ATMOSPH\", \"ATMOSPHERIC\", \"SEMI KAZAKH\", 1962], [1962, \"USSR\", \"ATMOSPH\", \"ATMOSPHERIC\", \"SEMI KAZAKH\", 1962], [1962, \"USSR\", \"SURFACE\", \"ATMOSPHERIC\", \"SEMI KAZAKH\", 1962], [1962, \"USSR\", \"SURFACE\", \"ATMOSPHERIC\", \"SEMI KAZAKH\", 1962], [1962, \"USSR\", \"SURFACE\", \"ATMOSPHERIC\", \"SEMI KAZAKH\", 1962], [1962, \"USSR\", \"ATMOSPH\", \"ATMOSPHERIC\", \"SEMI KAZAKH\", 1962], [1962, \"USSR\", \"ATMOSPH\", \"ATMOSPHERIC\", \"SEMI KAZAKH\", 1962], [1962, \"USSR\", \"SURFACE\", \"ATMOSPHERIC\", \"SEMI KAZAKH\", 1962], [1962, \"USSR\", \"SURFACE\", \"ATMOSPHERIC\", \"SEMI KAZAKH\", 1962], [1962, \"USSR\", \"ATMOSPH\", \"ATMOSPHERIC\", \"SEMI KAZAKH\", 1962], [1962, \"USSR\", \"SURFACE\", \"ATMOSPHERIC\", \"SEMI KAZAKH\", 1962], [1962, \"USSR\", \"SURFACE\", \"ATMOSPHERIC\", \"SEMI KAZAKH\", 1962], [1962, \"USSR\", \"SURFACE\", \"ATMOSPHERIC\", \"SEMI KAZAKH\", 1962], [1964, \"USSR\", \"TUNNEL\", \"UNDERGROUND\", \"SEMI KAZAKH\", 1964], [1964, \"USSR\", \"TUNNEL\", \"UNDERGROUND\", \"SEMI KAZAKH\", 1964], [1964, \"USSR\", \"TUNNEL\", \"UNDERGROUND\", \"SEMI KAZAKH\", 1964], [1964, \"USSR\", \"TUNNEL\", \"UNDERGROUND\", \"SEMI KAZAKH\", 1964], [1964, \"USSR\", \"TUNNEL\", \"UNDERGROUND\", \"SEMI KAZAKH\", 1964], [1964, \"USSR\", \"TUNNEL\", \"UNDERGROUND\", \"SEMI KAZAKH\", 1964], [1964, \"USSR\", \"TUNNEL\", \"UNDERGROUND\", \"SEMI KAZAKH\", 1964], [1965, \"USSR\", \"SHAFT\", \"UNDERGROUND\", \"SEMI KAZAKH\", 1965], [1965, \"USSR\", \"TUNNEL\", \"UNDERGROUND\", \"SEMI KAZAKH\", 1965], [1965, \"USSR\", \"TUNNEL\", \"UNDERGROUND\", \"SEMI KAZAKH\", 1965], [1965, \"USSR\", \"TUNNEL\", \"UNDERGROUND\", \"SEMI KAZAKH\", 1965], [1965, \"USSR\", \"TUNNEL\", \"UNDERGROUND\", \"SEMI KAZAKH\", 1965], [1965, \"USSR\", \"TUNNEL\", \"UNDERGROUND\", \"SEMI KAZAKH\", 1965], [1965, \"USSR\", \"TUNNEL\", \"UNDERGROUND\", \"SEMI KAZAKH\", 1965], [1965, \"USSR\", \"TUNNEL\", \"UNDERGROUND\", \"SEMI KAZAKH\", 1965], [1965, \"USSR\", \"TUNNEL\", \"UNDERGROUND\", \"SEMI KAZAKH\", 1965], [1965, \"USSR\", \"SHAFT\", \"UNDERGROUND\", \"SEMI KAZAKH\", 1965], [1965, \"USSR\", \"TUNNEL\", \"UNDERGROUND\", \"SEMI KAZAKH\", 1965], [1965, \"USSR\", \"TUNNEL\", \"UNDERGROUND\", \"SEMI KAZAKH\", 1965], [1966, \"USSR\", \"TUNNEL\", \"UNDERGROUND\", \"SEMI KAZAKH\", 1966], [1966, \"USSR\", \"TUNNEL\", \"UNDERGROUND\", \"SEMI KAZAKH\", 1966], [1966, \"USSR\", \"TUNNEL\", \"UNDERGROUND\", \"SEMI KAZAKH\", 1966], [1966, \"USSR\", \"TUNNEL\", \"UNDERGROUND\", \"SEMI KAZAKH\", 1966], [1966, \"USSR\", \"TUNNEL\", \"UNDERGROUND\", \"SEMI KAZAKH\", 1966], [1966, \"USSR\", \"TUNNEL\", \"UNDERGROUND\", \"SEMI KAZAKH\", 1966], [1966, \"USSR\", \"TUNNEL\", \"UNDERGROUND\", \"SEMI KAZAKH\", 1966], [1966, \"USSR\", \"TUNNEL\", \"UNDERGROUND\", \"SEMI KAZAKH\", 1966], [1966, \"USSR\", \"TUNNEL\", \"UNDERGROUND\", \"SEMI KAZAKH\", 1966], [1966, \"USSR\", \"TUNNEL\", \"UNDERGROUND\", \"SEMI KAZAKH\", 1966], [1966, \"USSR\", \"TUNNEL\", \"UNDERGROUND\", \"SEMI KAZAKH\", 1966], [1966, \"USSR\", \"TUNNEL\", \"UNDERGROUND\", \"SEMI KAZAKH\", 1966], [1966, \"USSR\", \"SHAFT\", \"UNDERGROUND\", \"SEMI KAZAKH\", 1966], [1966, \"USSR\", \"SHAFT\", \"UNDERGROUND\", \"SEMI KAZAKH\", 1966], [1967, \"USSR\", \"TUNNEL\", \"UNDERGROUND\", \"SEMI KAZAKH\", 1967], [1967, \"USSR\", \"TUNNEL\", \"UNDERGROUND\", \"SEMI KAZAKH\", 1967], [1967, \"USSR\", \"TUNNEL\", \"UNDERGROUND\", \"SEMI KAZAKH\", 1967], [1967, \"USSR\", \"TUNNEL\", \"UNDERGROUND\", \"SEMI KAZAKH\", 1967], [1967, \"USSR\", \"TUNNEL\", \"UNDERGROUND\", \"SEMI KAZAKH\", 1967], [1967, \"USSR\", \"TUNNEL\", \"UNDERGROUND\", \"SEMI KAZAKH\", 1967], [1967, \"USSR\", \"TUNNEL\", \"UNDERGROUND\", \"SEMI KAZAKH\", 1967], [1967, \"USSR\", \"TUNNEL\", \"UNDERGROUND\", \"SEMI KAZAKH\", 1967], [1967, \"USSR\", \"TUNNEL\", \"UNDERGROUND\", \"SEMI KAZAKH\", 1967], [1967, \"USSR\", \"SHAFT\", \"UNDERGROUND\", \"SEMI KAZAKH\", 1967], [1967, \"USSR\", \"SHAFT\", \"UNDERGROUND\", \"SEMI KAZAKH\", 1967], [1967, \"USSR\", \"TUNNEL\", \"UNDERGROUND\", \"SEMI KAZAKH\", 1967], [1967, \"USSR\", \"TUNNEL\", \"UNDERGROUND\", \"SEMI KAZAKH\", 1967], [1967, \"USSR\", \"SHAFT\", \"UNDERGROUND\", \"SEMI KAZAKH\", 1967], [1967, \"USSR\", \"TUNNEL\", \"UNDERGROUND\", \"SEMI KAZAKH\", 1967], [1968, \"USSR\", \"TUNNEL\", \"UNDERGROUND\", \"SEMI KAZAKH\", 1968], [1968, \"USSR\", \"TUNNEL\", \"UNDERGROUND\", \"SEMI KAZAKH\", 1968], [1968, \"USSR\", \"TUNNEL\", \"UNDERGROUND\", \"SEMI KAZAKH\", 1968], [1968, \"USSR\", \"TUNNEL\", \"UNDERGROUND\", \"SEMI KAZAKH\", 1968], [1968, \"USSR\", \"SHAFT\", \"UNDERGROUND\", \"SEMI KAZAKH\", 1968], [1968, \"USSR\", \"TUNNEL\", \"UNDERGROUND\", \"SEMI KAZAKH\", 1968], [1968, \"USSR\", \"TUNNEL\", \"UNDERGROUND\", \"SEMI KAZAKH\", 1968], [1968, \"USSR\", \"TUNNEL\", \"UNDERGROUND\", \"SEMI KAZAKH\", 1968], [1968, \"USSR\", \"TUNNEL\", \"UNDERGROUND\", \"SEMI KAZAKH\", 1968], [1968, \"USSR\", \"SHAFT\", \"UNDERGROUND\", \"SEMI KAZAKH\", 1968], [1968, \"USSR\", \"TUNNEL\", \"UNDERGROUND\", \"SEMI KAZAKH\", 1968], [1968, \"USSR\", \"TUNNEL\", \"UNDERGROUND\", \"SEMI KAZAKH\", 1968], [1968, \"USSR\", \"SHAFT\", \"UNDERGROUND\", \"SEMI KAZAKH\", 1968], [1968, \"USSR\", \"TUNNEL\", \"UNDERGROUND\", \"SEMI KAZAKH\", 1968], [1969, \"USSR\", \"TUNNEL\", \"UNDERGROUND\", \"SEMI KAZAKH\", 1969], [1969, \"USSR\", \"TUNNEL\", \"UNDERGROUND\", \"SEMI KAZAKH\", 1969], [1969, \"USSR\", \"TUNNEL\", \"UNDERGROUND\", \"SEMI KAZAKH\", 1969], [1969, \"USSR\", \"TUNNEL\", \"UNDERGROUND\", \"SEMI KAZAKH\", 1969], [1969, \"USSR\", \"SHAFT\", \"UNDERGROUND\", \"SEMI KAZAKH\", 1969], [1969, \"USSR\", \"TUNNEL\", \"UNDERGROUND\", \"SEMI KAZAKH\", 1969], [1969, \"USSR\", \"TUNNEL\", \"UNDERGROUND\", \"SEMI KAZAKH\", 1969], [1969, \"USSR\", \"TUNNEL\", \"UNDERGROUND\", \"SEMI KAZAKH\", 1969], [1969, \"USSR\", \"TUNNEL\", \"UNDERGROUND\", \"SEMI KAZAKH\", 1969], [1969, \"USSR\", \"TUNNEL\", \"UNDERGROUND\", \"SEMI KAZAKH\", 1969], [1969, \"USSR\", \"TUNNEL\", \"UNDERGROUND\", \"SEMI KAZAKH\", 1969], [1969, \"USSR\", \"SHAFT\", \"UNDERGROUND\", \"SEMI KAZAKH\", 1969], [1969, \"USSR\", \"SHAFT\", \"UNDERGROUND\", \"SEMI KAZAKH\", 1969], [1969, \"USSR\", \"TUNNEL\", \"UNDERGROUND\", \"SEMI KAZAKH\", 1969], [1970, \"USSR\", \"TUNNEL\", \"UNDERGROUND\", \"SEMI KAZAKH\", 1970], [1970, \"USSR\", \"TUNNEL\", \"UNDERGROUND\", \"SEMI KAZAKH\", 1970], [1970, \"USSR\", \"TUNNEL\", \"UNDERGROUND\", \"SEMI KAZAKH\", 1970], [1970, \"USSR\", \"TUNNEL\", \"UNDERGROUND\", \"SEMI KAZAKH\", 1970], [1970, \"USSR\", \"TUNNEL\", \"UNDERGROUND\", \"SEMI KAZAKH\", 1970], [1970, \"USSR\", \"TUNNEL\", \"UNDERGROUND\", \"SEMI KAZAKH\", 1970], [1970, \"USSR\", \"SHAFT\", \"UNDERGROUND\", \"SEMI KAZAKH\", 1970], [1970, \"USSR\", \"TUNNEL\", \"UNDERGROUND\", \"SEMI KAZAKH\", 1970], [1970, \"USSR\", \"TUNNEL\", \"UNDERGROUND\", \"SEMI KAZAKH\", 1970], [1970, \"USSR\", \"TUNNEL\", \"UNDERGROUND\", \"SEMI KAZAKH\", 1970], [1970, \"USSR\", \"SHAFT\", \"UNDERGROUND\", \"SEMI KAZAKH\", 1970], [1970, \"USSR\", \"TUNNEL\", \"UNDERGROUND\", \"SEMI KAZAKH\", 1970], [1971, \"USSR\", \"TUNNEL\", \"UNDERGROUND\", \"SEMI KAZAKH\", 1971], [1971, \"USSR\", \"TUNNEL\", \"UNDERGROUND\", \"SEMI KAZAKH\", 1971], [1971, \"USSR\", \"TUNNEL\", \"UNDERGROUND\", \"SEMI KAZAKH\", 1971], [1971, \"USSR\", \"TUNNEL\", \"UNDERGROUND\", \"SEMI KAZAKH\", 1971], [1971, \"USSR\", \"TUNNEL\", \"UNDERGROUND\", \"SEMI KAZAKH\", 1971], [1971, \"USSR\", \"TUNNEL\", \"UNDERGROUND\", \"SEMI KAZAKH\", 1971], [1971, \"USSR\", \"SHAFT\", \"UNDERGROUND\", \"SEMI KAZAKH\", 1971], [1971, \"USSR\", \"SHAFT\", \"UNDERGROUND\", \"SEMI KAZAKH\", 1971], [1971, \"USSR\", \"SHAFT\", \"UNDERGROUND\", \"SEMI KAZAKH\", 1971], [1971, \"USSR\", \"SHAFT\", \"UNDERGROUND\", \"SEMI KAZAKH\", 1971], [1971, \"USSR\", \"SHAFT\", \"UNDERGROUND\", \"SEMI KAZAKH\", 1971], [1971, \"USSR\", \"TUNNEL\", \"UNDERGROUND\", \"SEMI KAZAKH\", 1971], [1971, \"USSR\", \"TUNNEL\", \"UNDERGROUND\", \"SEMI KAZAKH\", 1971], [1971, \"USSR\", \"TUNNEL\", \"UNDERGROUND\", \"SEMI KAZAKH\", 1971], [1971, \"USSR\", \"TUNNEL\", \"UNDERGROUND\", \"SEMI KAZAKH\", 1971], [1972, \"USSR\", \"SHAFT\", \"UNDERGROUND\", \"SEMI KAZAKH\", 1972], [1972, \"USSR\", \"TUNNEL\", \"UNDERGROUND\", \"SEMI KAZAKH\", 1972], [1972, \"USSR\", \"TUNNEL\", \"UNDERGROUND\", \"SEMI KAZAKH\", 1972], [1972, \"USSR\", \"TUNNEL\", \"UNDERGROUND\", \"SEMI KAZAKH\", 1972], [1972, \"USSR\", \"TUNNEL\", \"UNDERGROUND\", \"SEMI KAZAKH\", 1972], [1972, \"USSR\", \"TUNNEL\", \"UNDERGROUND\", \"SEMI KAZAKH\", 1972], [1972, \"USSR\", \"TUNNEL\", \"UNDERGROUND\", \"SEMI KAZAKH\", 1972], [1972, \"USSR\", \"SHAFT\", \"UNDERGROUND\", \"SEMI KAZAKH\", 1972], [1972, \"USSR\", \"SHAFT\", \"UNDERGROUND\", \"SEMI KAZAKH\", 1972], [1972, \"USSR\", \"SHAFT\", \"UNDERGROUND\", \"SEMI KAZAKH\", 1972], [1972, \"USSR\", \"TUNNEL\", \"UNDERGROUND\", \"SEMI KAZAKH\", 1972], [1972, \"USSR\", \"SHAFT\", \"UNDERGROUND\", \"SEMI KAZAKH\", 1972], [1972, \"USSR\", \"TUNNEL\", \"UNDERGROUND\", \"SEMI KAZAKH\", 1972], [1973, \"USSR\", \"TUNNEL\", \"UNDERGROUND\", \"SEMI KAZAKH\", 1973], [1973, \"USSR\", \"SHAFT\", \"UNDERGROUND\", \"SEMI KAZAKH\", 1973], [1973, \"USSR\", \"TUNNEL\", \"UNDERGROUND\", \"SEMI KAZAKH\", 1973], [1973, \"USSR\", \"SHAFT\", \"UNDERGROUND\", \"SEMI KAZAKH\", 1973], [1973, \"USSR\", \"SHAFT\", \"UNDERGROUND\", \"SEMI KAZAKH\", 1973], [1973, \"USSR\", \"TUNNEL\", \"UNDERGROUND\", \"SEMI KAZAKH\", 1973], [1973, \"USSR\", \"SHAFT\", \"UNDERGROUND\", \"SEMI KAZAKH\", 1973], [1973, \"USSR\", \"SHAFT\", \"UNDERGROUND\", \"SEMI KAZAKH\", 1973], [1973, \"USSR\", \"TUNNEL\", \"UNDERGROUND\", \"SEMI KAZAKH\", 1973], [1974, \"USSR\", \"TUNNEL\", \"UNDERGROUND\", \"SEMI KAZAKH\", 1974], [1974, \"USSR\", \"TUNNEL\", \"UNDERGROUND\", \"SEMI KAZAKH\", 1974], [1974, \"USSR\", \"SHAFT\", \"UNDERGROUND\", \"SEMI KAZAKH\", 1974], [1974, \"USSR\", \"TUNNEL\", \"UNDERGROUND\", \"SEMI KAZAKH\", 1974], [1974, \"USSR\", \"SHAFT\", \"UNDERGROUND\", \"SEMI KAZAKH\", 1974], [1974, \"USSR\", \"TUNNEL\", \"UNDERGROUND\", \"SEMI KAZAKH\", 1974], [1974, \"USSR\", \"SHAFT\", \"UNDERGROUND\", \"SEMI KAZAKH\", 1974], [1974, \"USSR\", \"SHAFT\", \"UNDERGROUND\", \"SEMI KAZAKH\", 1974], [1974, \"USSR\", \"TUNNEL\", \"UNDERGROUND\", \"SEMI KAZAKH\", 1974], [1974, \"USSR\", \"SHAFT\", \"UNDERGROUND\", \"SEMI KAZAKH\", 1974], [1974, \"USSR\", \"SHAFT\", \"UNDERGROUND\", \"SEMI KAZAKH\", 1974], [1974, \"USSR\", \"SHAFT\", \"UNDERGROUND\", \"SEMI KAZAKH\", 1974], [1974, \"USSR\", \"TUNNEL\", \"UNDERGROUND\", \"SEMI KAZAKH\", 1974], [1974, \"USSR\", \"TUNNEL\", \"UNDERGROUND\", \"SEMI KAZAKH\", 1974], [1974, \"USSR\", \"SHAFT\", \"UNDERGROUND\", \"SEMI KAZAKH\", 1974], [1975, \"USSR\", \"TUNNEL\", \"UNDERGROUND\", \"SEMI KAZAKH\", 1975], [1975, \"USSR\", \"TUNNEL\", \"UNDERGROUND\", \"SEMI KAZAKH\", 1975], [1975, \"USSR\", \"TUNNEL\", \"UNDERGROUND\", \"SEMI KAZAKH\", 1975], [1975, \"USSR\", \"SHAFT\", \"UNDERGROUND\", \"SEMI KAZAKH\", 1975], [1975, \"USSR\", \"TUNNEL\", \"UNDERGROUND\", \"SEMI KAZAKH\", 1975], [1975, \"USSR\", \"SHAFT\", \"UNDERGROUND\", \"SEMI KAZAKH\", 1975], [1975, \"USSR\", \"SHAFT\", \"UNDERGROUND\", \"SEMI KAZAKH\", 1975], [1975, \"USSR\", \"TUNNEL\", \"UNDERGROUND\", \"SEMI KAZAKH\", 1975], [1975, \"USSR\", \"TUNNEL\", \"UNDERGROUND\", \"SEMI KAZAKH\", 1975], [1975, \"USSR\", \"SHAFT\", \"UNDERGROUND\", \"SEMI KAZAKH\", 1975], [1975, \"USSR\", \"TUNNEL\", \"UNDERGROUND\", \"SEMI KAZAKH\", 1975], [1975, \"USSR\", \"SHAFT\", \"UNDERGROUND\", \"SEMI KAZAKH\", 1975], [1976, \"USSR\", \"TUNNEL\", \"UNDERGROUND\", \"SEMI KAZAKH\", 1976], [1976, \"USSR\", \"TUNNEL\", \"UNDERGROUND\", \"SEMI KAZAKH\", 1976], [1976, \"USSR\", \"TUNNEL\", \"UNDERGROUND\", \"SEMI KAZAKH\", 1976], [1976, \"USSR\", \"SHAFT\", \"UNDERGROUND\", \"SEMI KAZAKH\", 1976], [1976, \"USSR\", \"TUNNEL\", \"UNDERGROUND\", \"SEMI KAZAKH\", 1976], [1976, \"USSR\", \"TUNNEL\", \"UNDERGROUND\", \"SEMI KAZAKH\", 1976], [1976, \"USSR\", \"SHAFT\", \"UNDERGROUND\", \"SEMI KAZAKH\", 1976], [1976, \"USSR\", \"SHAFT\", \"UNDERGROUND\", \"SEMI KAZAKH\", 1976], [1976, \"USSR\", \"TUNNEL\", \"UNDERGROUND\", \"SEMI KAZAKH\", 1976], [1976, \"USSR\", \"SHAFT\", \"UNDERGROUND\", \"SEMI KAZAKH\", 1976], [1976, \"USSR\", \"SHAFT\", \"UNDERGROUND\", \"SEMI KAZAKH\", 1976], [1976, \"USSR\", \"TUNNEL\", \"UNDERGROUND\", \"SEMI KAZAKH\", 1976], [1976, \"USSR\", \"SHAFT\", \"UNDERGROUND\", \"SEMI KAZAKH\", 1976], [1976, \"USSR\", \"SHAFT\", \"UNDERGROUND\", \"SEMI KAZAKH\", 1976], [1976, \"USSR\", \"SHAFT\", \"UNDERGROUND\", \"SEMI KAZAKH\", 1976], [1976, \"USSR\", \"TUNNEL\", \"UNDERGROUND\", \"SEMI KAZAKH\", 1976], [1977, \"USSR\", \"SHAFT\", \"UNDERGROUND\", \"SEMI KAZAKH\", 1977], [1977, \"USSR\", \"TUNNEL\", \"UNDERGROUND\", \"SEMI KAZAKH\", 1977], [1977, \"USSR\", \"TUNNEL\", \"UNDERGROUND\", \"SEMI KAZAKH\", 1977], [1977, \"USSR\", \"SHAFT\", \"UNDERGROUND\", \"SEMI KAZAKH\", 1977], [1977, \"USSR\", \"SHAFT\", \"UNDERGROUND\", \"SEMI KAZAKH\", 1977], [1977, \"USSR\", \"TUNNEL\", \"UNDERGROUND\", \"SEMI KAZAKH\", 1977], [1977, \"USSR\", \"TUNNEL\", \"UNDERGROUND\", \"SEMI KAZAKH\", 1977], [1977, \"USSR\", \"SHAFT\", \"UNDERGROUND\", \"SEMI KAZAKH\", 1977], [1977, \"USSR\", \"TUNNEL\", \"UNDERGROUND\", \"SEMI KAZAKH\", 1977], [1977, \"USSR\", \"SHAFT\", \"UNDERGROUND\", \"SEMI KAZAKH\", 1977], [1977, \"USSR\", \"SHAFT\", \"UNDERGROUND\", \"SEMI KAZAKH\", 1977], [1977, \"USSR\", \"TUNNEL\", \"UNDERGROUND\", \"SEMI KAZAKH\", 1977], [1977, \"USSR\", \"SHAFT\", \"UNDERGROUND\", \"SEMI KAZAKH\", 1977], [1977, \"USSR\", \"TUNNEL\", \"UNDERGROUND\", \"SEMI KAZAKH\", 1977], [1977, \"USSR\", \"TUNNEL\", \"UNDERGROUND\", \"SEMI KAZAKH\", 1977], [1978, \"USSR\", \"SHAFT\", \"UNDERGROUND\", \"SEMI KAZAKH\", 1978], [1978, \"USSR\", \"TUNNEL\", \"UNDERGROUND\", \"SEMI KAZAKH\", 1978], [1978, \"USSR\", \"TUNNEL\", \"UNDERGROUND\", \"SEMI KAZAKH\", 1978], [1978, \"USSR\", \"TUNNEL\", \"UNDERGROUND\", \"SEMI KAZAKH\", 1978], [1978, \"USSR\", \"TUNNEL\", \"UNDERGROUND\", \"SEMI KAZAKH\", 1978], [1978, \"USSR\", \"TUNNEL\", \"UNDERGROUND\", \"SEMI KAZAKH\", 1978], [1978, \"USSR\", \"SHAFT\", \"UNDERGROUND\", \"SEMI KAZAKH\", 1978], [1978, \"USSR\", \"SHAFT\", \"UNDERGROUND\", \"SEMI KAZAKH\", 1978], [1978, \"USSR\", \"TUNNEL\", \"UNDERGROUND\", \"SEMI KAZAKH\", 1978], [1978, \"USSR\", \"TUNNEL\", \"UNDERGROUND\", \"SEMI KAZAKH\", 1978], [1978, \"USSR\", \"SHAFT\", \"UNDERGROUND\", \"SEMI KAZAKH\", 1978], [1978, \"USSR\", \"SHAFT\", \"UNDERGROUND\", \"SEMI KAZAKH\", 1978], [1978, \"USSR\", \"TUNNEL\", \"UNDERGROUND\", \"SEMI KAZAKH\", 1978], [1978, \"USSR\", \"TUNNEL\", \"UNDERGROUND\", \"SEMI KAZAKH\", 1978], [1978, \"USSR\", \"TUNNEL\", \"UNDERGROUND\", \"SEMI KAZAKH\", 1978], [1978, \"USSR\", \"SHAFT\", \"UNDERGROUND\", \"SEMI KAZAKH\", 1978], [1978, \"USSR\", \"SHAFT\", \"UNDERGROUND\", \"SEMI KAZAKH\", 1978], [1978, \"USSR\", \"TUNNEL\", \"UNDERGROUND\", \"SEMI KAZAKH\", 1978], [1978, \"USSR\", \"TUNNEL\", \"UNDERGROUND\", \"SEMI KAZAKH\", 1978], [1978, \"USSR\", \"TUNNEL\", \"UNDERGROUND\", \"SEMI KAZAKH\", 1978], [1979, \"USSR\", \"SHAFT\", \"UNDERGROUND\", \"SEMI KAZAKH\", 1979], [1979, \"USSR\", \"SHAFT\", \"UNDERGROUND\", \"SEMI KAZAKH\", 1979], [1979, \"USSR\", \"TUNNEL\", \"UNDERGROUND\", \"SEMI KAZAKH\", 1979], [1979, \"USSR\", \"TUNNEL\", \"UNDERGROUND\", \"SEMI KAZAKH\", 1979], [1979, \"USSR\", \"TUNNEL\", \"UNDERGROUND\", \"SEMI KAZAKH\", 1979], [1979, \"USSR\", \"TUNNEL\", \"UNDERGROUND\", \"SEMI KAZAKH\", 1979], [1979, \"USSR\", \"TUNNEL\", \"UNDERGROUND\", \"SEMI KAZAKH\", 1979], [1979, \"USSR\", \"SHAFT\", \"UNDERGROUND\", \"SEMI KAZAKH\", 1979], [1979, \"USSR\", \"SHAFT\", \"UNDERGROUND\", \"SEMI KAZAKH\", 1979], [1979, \"USSR\", \"SHAFT\", \"UNDERGROUND\", \"SEMI KAZAKH\", 1979], [1979, \"USSR\", \"TUNNEL\", \"UNDERGROUND\", \"SEMI KAZAKH\", 1979], [1979, \"USSR\", \"SHAFT\", \"UNDERGROUND\", \"SEMI KAZAKH\", 1979], [1979, \"USSR\", \"SHAFT\", \"UNDERGROUND\", \"SEMI KAZAKH\", 1979], [1979, \"USSR\", \"TUNNEL\", \"UNDERGROUND\", \"SEMI KAZAKH\", 1979], [1979, \"USSR\", \"TUNNEL\", \"UNDERGROUND\", \"SEMI KAZAKH\", 1979], [1979, \"USSR\", \"SHAFT\", \"UNDERGROUND\", \"SEMI KAZAKH\", 1979], [1979, \"USSR\", \"TUNNEL\", \"UNDERGROUND\", \"SEMI KAZAKH\", 1979], [1979, \"USSR\", \"SHAFT\", \"UNDERGROUND\", \"SEMI KAZAKH\", 1979], [1979, \"USSR\", \"TUNNEL\", \"UNDERGROUND\", \"SEMI KAZAKH\", 1979], [1979, \"USSR\", \"SHAFT\", \"UNDERGROUND\", \"SEMI KAZAKH\", 1979], [1980, \"USSR\", \"TUNNEL\", \"UNDERGROUND\", \"SEMI KAZAKH\", 1980], [1980, \"USSR\", \"SHAFT\", \"UNDERGROUND\", \"SEMI KAZAKH\", 1980], [1980, \"USSR\", \"TUNNEL\", \"UNDERGROUND\", \"SEMI KAZAKH\", 1980], [1980, \"USSR\", \"SHAFT\", \"UNDERGROUND\", \"SEMI KAZAKH\", 1980], [1980, \"USSR\", \"TUNNEL\", \"UNDERGROUND\", \"SEMI KAZAKH\", 1980], [1980, \"USSR\", \"SHAFT\", \"UNDERGROUND\", \"SEMI KAZAKH\", 1980], [1980, \"USSR\", \"TUNNEL\", \"UNDERGROUND\", \"SEMI KAZAKH\", 1980], [1980, \"USSR\", \"SHAFT\", \"UNDERGROUND\", \"SEMI KAZAKH\", 1980], [1980, \"USSR\", \"TUNNEL\", \"UNDERGROUND\", \"SEMI KAZAKH\", 1980], [1980, \"USSR\", \"SHAFT\", \"UNDERGROUND\", \"SEMI KAZAKH\", 1980], [1980, \"USSR\", \"TUNNEL\", \"UNDERGROUND\", \"SEMI KAZAKH\", 1980], [1980, \"USSR\", \"SHAFT\", \"UNDERGROUND\", \"SEMI KAZAKH\", 1980], [1980, \"USSR\", \"TUNNEL\", \"UNDERGROUND\", \"SEMI KAZAKH\", 1980], [1980, \"USSR\", \"TUNNEL\", \"UNDERGROUND\", \"SEMI KAZAKH\", 1980], [1980, \"USSR\", \"TUNNEL\", \"UNDERGROUND\", \"SEMI KAZAKH\", 1980], [1980, \"USSR\", \"SHAFT\", \"UNDERGROUND\", \"SEMI KAZAKH\", 1980], [1980, \"USSR\", \"TUNNEL\", \"UNDERGROUND\", \"SEMI KAZAKH\", 1980], [1980, \"USSR\", \"SHAFT\", \"UNDERGROUND\", \"SEMI KAZAKH\", 1980], [1981, \"USSR\", \"TUNNEL\", \"UNDERGROUND\", \"SEMI KAZAKH\", 1981], [1981, \"USSR\", \"SHAFT\", \"UNDERGROUND\", \"SEMI KAZAKH\", 1981], [1981, \"USSR\", \"SHAFT\", \"UNDERGROUND\", \"SEMI KAZAKH\", 1981], [1981, \"USSR\", \"SHAFT\", \"UNDERGROUND\", \"SEMI KAZAKH\", 1981], [1981, \"USSR\", \"TUNNEL\", \"UNDERGROUND\", \"SEMI KAZAKH\", 1981], [1981, \"USSR\", \"TUNNEL\", \"UNDERGROUND\", \"SEMI KAZAKH\", 1981], [1981, \"USSR\", \"TUNNEL\", \"UNDERGROUND\", \"SEMI KAZAKH\", 1981], [1981, \"USSR\", \"TUNNEL\", \"UNDERGROUND\", \"SEMI KAZAKH\", 1981], [1981, \"USSR\", \"SHAFT\", \"UNDERGROUND\", \"SEMI KAZAKH\", 1981], [1981, \"USSR\", \"TUNNEL\", \"UNDERGROUND\", \"SEMI KAZAKH\", 1981], [1981, \"USSR\", \"SHAFT\", \"UNDERGROUND\", \"SEMI KAZAKH\", 1981], [1981, \"USSR\", \"TUNNEL\", \"UNDERGROUND\", \"SEMI KAZAKH\", 1981], [1981, \"USSR\", \"SHAFT\", \"UNDERGROUND\", \"SEMI KAZAKH\", 1981], [1981, \"USSR\", \"TUNNEL\", \"UNDERGROUND\", \"SEMI KAZAKH\", 1981], [1981, \"USSR\", \"SHAFT\", \"UNDERGROUND\", \"SEMI KAZAKH\", 1981], [1982, \"USSR\", \"TUNNEL\", \"UNDERGROUND\", \"SEMI KAZAKH\", 1982], [1982, \"USSR\", \"SHAFT\", \"UNDERGROUND\", \"SEMI KAZAKH\", 1982], [1982, \"USSR\", \"TUNNEL\", \"UNDERGROUND\", \"SEMI KAZAKH\", 1982], [1982, \"USSR\", \"SHAFT\", \"UNDERGROUND\", \"SEMI KAZAKH\", 1982], [1982, \"USSR\", \"TUNNEL\", \"UNDERGROUND\", \"SEMI KAZAKH\", 1982], [1982, \"USSR\", \"SHAFT\", \"UNDERGROUND\", \"SEMI KAZAKH\", 1982], [1982, \"USSR\", \"TUNNEL\", \"UNDERGROUND\", \"SEMI KAZAKH\", 1982], [1982, \"USSR\", \"SHAFT\", \"UNDERGROUND\", \"SEMI KAZAKH\", 1982], [1982, \"USSR\", \"TUNNEL\", \"UNDERGROUND\", \"SEMI KAZAKH\", 1982], [1982, \"USSR\", \"SHAFT\", \"UNDERGROUND\", \"SEMI KAZAKH\", 1982], [1983, \"USSR\", \"TUNNEL\", \"UNDERGROUND\", \"SEMI KAZAKH\", 1983], [1983, \"USSR\", \"TUNNEL\", \"UNDERGROUND\", \"SEMI KAZAKH\", 1983], [1983, \"USSR\", \"TUNNEL\", \"UNDERGROUND\", \"SEMI KAZAKH\", 1983], [1983, \"USSR\", \"TUNNEL\", \"UNDERGROUND\", \"SEMI KAZAKH\", 1983], [1983, \"USSR\", \"SHAFT\", \"UNDERGROUND\", \"SEMI KAZAKH\", 1983], [1983, \"USSR\", \"TUNNEL\", \"UNDERGROUND\", \"SEMI KAZAKH\", 1983], [1983, \"USSR\", \"TUNNEL\", \"UNDERGROUND\", \"SEMI KAZAKH\", 1983], [1983, \"USSR\", \"SHAFT\", \"UNDERGROUND\", \"SEMI KAZAKH\", 1983], [1983, \"USSR\", \"SHAFT\", \"UNDERGROUND\", \"SEMI KAZAKH\", 1983], [1983, \"USSR\", \"TUNNEL\", \"UNDERGROUND\", \"SEMI KAZAKH\", 1983], [1983, \"USSR\", \"SHAFT\", \"UNDERGROUND\", \"SEMI KAZAKH\", 1983], [1983, \"USSR\", \"TUNNEL\", \"UNDERGROUND\", \"SEMI KAZAKH\", 1983], [1983, \"USSR\", \"TUNNEL\", \"UNDERGROUND\", \"SEMI KAZAKH\", 1983], [1983, \"USSR\", \"TUNNEL\", \"UNDERGROUND\", \"SEMI KAZAKH\", 1983], [1984, \"USSR\", \"SHAFT\", \"UNDERGROUND\", \"SEMI KAZAKH\", 1984], [1984, \"USSR\", \"SHAFT\", \"UNDERGROUND\", \"SEMI KAZAKH\", 1984], [1984, \"USSR\", \"SHAFT\", \"UNDERGROUND\", \"SEMI KAZAKH\", 1984], [1984, \"USSR\", \"TUNNEL\", \"UNDERGROUND\", \"SEMI KAZAKH\", 1984], [1984, \"USSR\", \"SHAFT\", \"UNDERGROUND\", \"SEMI KAZAKH\", 1984], [1984, \"USSR\", \"SHAFT\", \"UNDERGROUND\", \"SEMI KAZAKH\", 1984], [1984, \"USSR\", \"SHAFT\", \"UNDERGROUND\", \"SEMI KAZAKH\", 1984], [1984, \"USSR\", \"TUNNEL\", \"UNDERGROUND\", \"SEMI KAZAKH\", 1984], [1984, \"USSR\", \"TUNNEL\", \"UNDERGROUND\", \"SEMI KAZAKH\", 1984], [1984, \"USSR\", \"SHAFT\", \"UNDERGROUND\", \"SEMI KAZAKH\", 1984], [1984, \"USSR\", \"TUNNEL\", \"UNDERGROUND\", \"SEMI KAZAKH\", 1984], [1984, \"USSR\", \"SHAFT\", \"UNDERGROUND\", \"SEMI KAZAKH\", 1984], [1984, \"USSR\", \"SHAFT\", \"UNDERGROUND\", \"SEMI KAZAKH\", 1984], [1984, \"USSR\", \"SHAFT\", \"UNDERGROUND\", \"SEMI KAZAKH\", 1984], [1985, \"USSR\", \"SHAFT\", \"UNDERGROUND\", \"SEMI KAZAKH\", 1985], [1985, \"USSR\", \"SHAFT\", \"UNDERGROUND\", \"SEMI KAZAKH\", 1985], [1985, \"USSR\", \"SHAFT\", \"UNDERGROUND\", \"SEMI KAZAKH\", 1985], [1985, \"USSR\", \"SHAFT\", \"UNDERGROUND\", \"SEMI KAZAKH\", 1985], [1985, \"USSR\", \"TUNNEL\", \"UNDERGROUND\", \"SEMI KAZAKH\", 1985], [1985, \"USSR\", \"TUNNEL\", \"UNDERGROUND\", \"SEMI KAZAKH\", 1985], [1985, \"USSR\", \"SHAFT\", \"UNDERGROUND\", \"SEMI KAZAKH\", 1985], [1985, \"USSR\", \"TUNNEL\", \"UNDERGROUND\", \"SEMI KAZAKH\", 1985], [1987, \"USSR\", \"TUNNEL\", \"UNDERGROUND\", \"SEMI KAZAKH\", 1987], [1987, \"USSR\", \"SHAFT\", \"UNDERGROUND\", \"SEMI KAZAKH\", 1987], [1987, \"USSR\", \"SHAFT\", \"UNDERGROUND\", \"SEMI KAZAKH\", 1987], [1987, \"USSR\", \"TUNNEL\", \"UNDERGROUND\", \"SEMI KAZAKH\", 1987], [1987, \"USSR\", \"SHAFT\", \"UNDERGROUND\", \"SEMI KAZAKH\", 1987], [1987, \"USSR\", \"TUNNEL\", \"UNDERGROUND\", \"SEMI KAZAKH\", 1987], [1987, \"USSR\", \"TUNNEL\", \"UNDERGROUND\", \"SEMI KAZAKH\", 1987], [1987, \"USSR\", \"SHAFT\", \"UNDERGROUND\", \"SEMI KAZAKH\", 1987], [1987, \"USSR\", \"TUNNEL\", \"UNDERGROUND\", \"SEMI KAZAKH\", 1987], [1987, \"USSR\", \"SHAFT\", \"UNDERGROUND\", \"SEMI KAZAKH\", 1987], [1987, \"USSR\", \"TUNNEL\", \"UNDERGROUND\", \"SEMI KAZAKH\", 1987], [1987, \"USSR\", \"TUNNEL\", \"UNDERGROUND\", \"SEMI KAZAKH\", 1987], [1987, \"USSR\", \"SHAFT\", \"UNDERGROUND\", \"SEMI KAZAKH\", 1987], [1987, \"USSR\", \"SHAFT\", \"UNDERGROUND\", \"SEMI KAZAKH\", 1987], [1987, \"USSR\", \"TUNNEL\", \"UNDERGROUND\", \"SEMI KAZAKH\", 1987], [1987, \"USSR\", \"SHAFT\", \"UNDERGROUND\", \"SEMI KAZAKH\", 1987], [1988, \"USSR\", \"TUNNEL\", \"UNDERGROUND\", \"SEMI KAZAKH\", 1988], [1988, \"USSR\", \"SHAFT\", \"UNDERGROUND\", \"SEMI KAZAKH\", 1988], [1988, \"USSR\", \"SHAFT\", \"UNDERGROUND\", \"SEMI KAZAKH\", 1988], [1988, \"USSR\", \"TUNNEL\", \"UNDERGROUND\", \"SEMI KAZAKH\", 1988], [1988, \"USSR\", \"SHAFT\", \"UNDERGROUND\", \"SEMI KAZAKH\", 1988], [1988, \"USSR\", \"SHAFT\", \"UNDERGROUND\", \"SEMI KAZAKH\", 1988], [1988, \"USSR\", \"SHAFT\", \"UNDERGROUND\", \"SEMI KAZAKH\", 1988], [1988, \"USSR\", \"TUNNEL\", \"UNDERGROUND\", \"SEMI KAZAKH\", 1988], [1988, \"USSR\", \"SHAFT\", \"UNDERGROUND\", \"SEMI KAZAKH\", 1988], [1988, \"USSR\", \"TUNNEL\", \"UNDERGROUND\", \"SEMI KAZAKH\", 1988], [1988, \"USSR\", \"SHAFT\", \"UNDERGROUND\", \"SEMI KAZAKH\", 1988], [1988, \"USSR\", \"TUNNEL\", \"UNDERGROUND\", \"SEMI KAZAKH\", 1988], [1989, \"USSR\", \"SHAFT\", \"UNDERGROUND\", \"SEMI KAZAKH\", 1989], [1989, \"USSR\", \"SHAFT\", \"UNDERGROUND\", \"SEMI KAZAKH\", 1989], [1989, \"USSR\", \"TUNNEL\", \"UNDERGROUND\", \"SEMI KAZAKH\", 1989], [1989, \"USSR\", \"SHAFT\", \"UNDERGROUND\", \"SEMI KAZAKH\", 1989], [1989, \"USSR\", \"SHAFT\", \"UNDERGROUND\", \"SEMI KAZAKH\", 1989], [1989, \"USSR\", \"TUNNEL\", \"UNDERGROUND\", \"SEMI KAZAKH\", 1989], [1989, \"USSR\", \"SHAFT\", \"UNDERGROUND\", \"SEMI KAZAKH\", 1989]], \"hoverlabel\": {\"namelength\": 0}, \"hovertemplate\": \"region=%{customdata[4]}<br>x=%{x}<br>y=%{y}<br>year=%{customdata[5]}<br>country=%{customdata[1]}<br>type=%{customdata[2]}<br>type_cat=%{customdata[3]}\", \"legendgroup\": \"region=SEMI KAZAKH\", \"marker\": {\"color\": \"#e763fa\", \"symbol\": \"circle\"}, \"mode\": \"markers\", \"name\": \"region=SEMI KAZAKH\", \"showlegend\": true, \"type\": \"scattergl\", \"uid\": \"e4daa687-de8e-430c-8878-db93ffec4fd9\", \"x\": [-4.099156379699707, -4.101940631866455, -4.110116481781006, -4.1551432609558105, -4.134659767150879, -4.168168544769287, -4.130486488342285, -4.132348537445068, -4.12492036819458, -4.1412434577941895, -4.141899108886719, -4.13526725769043, -4.134971618652344, -4.1385297775268555, -4.143625259399414, -4.136481761932373, -4.136841297149658, -4.205085277557373, -4.2195963859558105, -4.203779697418213, -4.172005653381348, -4.742173194885254, -4.278809070587158, -4.282100200653076, -4.21720552444458, -4.692020416259766, -4.2272186279296875, -4.248961925506592, -4.663239002227783, -4.233549118041992, -4.330424785614014, -4.363896369934082, -4.328169345855713, -4.6436448097229, -4.333978652954102, -4.228036403656006, -4.537719249725342, -4.2596821784973145, -4.338850975036621, -4.339454650878906, -4.32631254196167, -4.111454963684082, -4.110249042510986, -4.1184539794921875, -4.102997779846191, -4.090692520141602, -4.11241340637207, -4.092194557189941, -4.106964588165283, -3.4030978679656982, -3.3221096992492676, -3.404301166534424, -3.0810182094573975, -3.0743486881256104, -3.099337577819824, -3.0507171154022217, -3.3137569427490234, -3.0926012992858887, -3.331156015396118, -3.060208559036255, -3.0811803340911865, -3.0767650604248047, -3.2657980918884277, -3.0683674812316895, -3.056222677230835, -3.172844409942627, -3.3762006759643555, 10.973039627075195, -3.3971054553985596, -3.2698709964752197, -3.3319568634033203, -3.081508159637451, -3.0958950519561768, -3.1355719566345215, -3.0663821697235107, -3.079587459564209, -3.0761191844940186, -3.0657670497894287, 10.935626983642578, -6.492570400238037, -6.531791687011719, -6.403477191925049, -6.072983741760254, -6.045233726501465, -6.0760064125061035, -6.170799732208252, -6.458838939666748, -6.484458923339844, -6.025289535522461, -6.063226699829102, -6.4732818603515625, -6.621100902557373, -6.615401268005371, -6.044922828674316, -6.567245006561279, -6.035002708435059, -6.062439918518066, -6.172478199005127, -6.051533222198486, -6.04498291015625, -6.019862651824951, -6.039855480194092, -6.586339473724365, -6.059206008911133, -6.452601909637451, -6.288355827331543, -6.0596208572387695, -6.610249042510986, -6.613361835479736, -6.645702362060547, -6.093503952026367, -6.079291343688965, -6.622016906738281, -6.615470886230469, -6.515453815460205, -6.615246772766113, -6.6399664878845215, -6.61586856842041, -10.910293579101562, -10.915101051330566, 10.921509742736816, -10.924112319946289, 10.912421226501465, 10.907492637634277, -10.964600563049316, -10.972494125366211, 10.92455768585205, -10.954475402832031, 10.891237258911133, -11.05461597442627, -11.003067970275879, -11.05605697631836, -11.019062995910645, -10.993803977966309, 10.902849197387695, -10.99216365814209, -11.0055570602417, -11.038052558898926, -11.102811813354492, -11.05532455444336, -11.110322952270508, -11.005542755126953, -11.072196960449219, -11.076983451843262, -11.071200370788574, -11.10236930847168, -11.095048904418945, 10.870744705200195, 10.866240501403809, 10.856539726257324, -11.07442855834961, 10.795026779174805, -11.146087646484375, -11.125115394592285, -11.168953895568848, -11.126800537109375, -11.129623413085938, -11.13193130493164, -11.14394760131836, 10.78392505645752, -11.109511375427246, -11.135302543640137, -11.138736724853516, -11.130664825439453, -11.215126991271973, -11.158564567565918, -11.36491584777832, -11.425419807434082, 10.721391677856445, -11.364178657531738, -11.413549423217773, -11.347302436828613, -11.412169456481934, -11.401345252990723, -11.281743049621582, 10.719332695007324, 10.71568775177002, -11.374174118041992, 10.720844268798828, -11.363844871520996, -11.768604278564453, 10.638723373413086, 10.637557029724121, -11.563824653625488, -11.580056190490723, -11.531915664672852, -11.724923133850098, -11.531238555908203, -11.509675025939941, 10.632431030273438, 10.636404037475586, -11.822325706481934, -11.79532241821289, -11.522734642028809, -11.91453742980957, 10.532183647155762, -11.818913459777832, 10.523966789245605, -11.94000244140625, 10.551522254943848, -11.890175819396973, -11.901114463806152, -11.917247772216797, 10.519549369812012, -11.908802032470703, -11.868059158325195, 10.456574440002441, -12.02377986907959, 10.42264175415039, 10.45968246459961, -12.037921905517578, -12.106224060058594, -12.042342185974121, -12.113253593444824, -12.092063903808594, -12.073796272277832, -12.067873001098633, -12.12121868133545, -12.135101318359375, -12.03492259979248, 10.43266487121582, -12.233658790588379, -12.197710990905762, -12.322630882263184, 10.384099960327148, -12.204060554504395, -12.339460372924805, -12.33865737915039, -12.156752586364746, -12.320516586303711, -12.063105583190918, -12.178411483764648, 10.373854637145996, 10.360525131225586, -12.537354469299316, -12.534790992736816, -12.514606475830078, -11.826127052307129, 10.291007995605469, -11.76091480255127, 10.260903358459473, -11.720047950744629, 10.26695728302002, -12.784981727600098, 10.187413215637207, 10.192193031311035, -12.696783065795898, -12.857948303222656, -12.78446102142334, -12.704937934875488, 10.186302185058594, -12.764870643615723, -12.703639030456543, 10.19137191772461, -12.771414756774902, -12.766103744506836, -12.787429809570312, -11.838706016540527, -13.016180992126465, 10.093881607055664, -12.970268249511719, -12.967630386352539, -13.012500762939453, -12.956668853759766, 10.11021900177002, -12.96587085723877, -12.905306816101074, -11.903502464294434, -12.976699829101562, -11.894302368164062, -13.114310264587402, 9.98392391204834, 9.982906341552734, -13.11141300201416, -13.187957763671875, -13.050148010253906, -13.185430526733398, -13.234286308288574, -13.14107608795166, 9.991519927978516, -13.241344451904297, -13.170731544494629, -13.254571914672852, -13.174606323242188, 10.006043434143066, -11.664999961853027, -13.389604568481445, 9.904623031616211, -13.420169830322266, -13.341060638427734, -11.952439308166504, -13.44570255279541, -13.452399253845215, -13.336877822875977, -13.31727123260498, -13.316438674926758, 9.896294593811035, 9.878893852233887, -11.520163536071777, -13.570378303527832, 9.88687801361084, -13.760573387145996, -13.490030288696289, -11.501710891723633, 9.839735984802246, -13.822441101074219, 9.805057525634766, -11.686351776123047, -11.512914657592773, -13.496575355529785, -13.723275184631348, -11.619743347167969, -11.706298828125, -13.850507736206055, -13.702173233032227, -13.732278823852539, -11.625121116638184, -13.667654037475586, -11.667165756225586, -13.822755813598633, -13.821104049682617, -13.925315856933594, -13.915608406066895, 9.70989990234375, 9.701886177062988, -13.949446678161621, -13.974958419799805, 9.705777168273926, -11.7149076461792, -11.897262573242188, -11.627364158630371, 9.730298042297363, -11.9113187789917, -11.686396598815918, -13.9012451171875, -13.969464302062988, -11.763705253601074, -13.838367462158203, -11.760882377624512, -13.89203929901123, -11.758176803588867, 9.628697395324707, -14.11636734008789, -14.19787883758545, -14.231842041015625, -14.209942817687988, -14.207352638244629, 9.615557670593262, -11.579087257385254, -14.216421127319336, -11.697199821472168, -14.088783264160156, -11.679951667785645, 9.616561889648438, 9.616427421569824, 9.612833023071289, -11.665746688842773, -14.046565055847168, -14.158860206604004, 9.603108406066895, -14.365559577941895, -11.88143253326416, -11.555699348449707, 9.600828170776367, -14.375678062438965, -14.36682415008545, -14.376055717468262, -11.964177131652832, 9.598591804504395, -11.84895133972168, -14.425722122192383, -11.674077987670898, -14.392666816711426, -11.936058044433594, -14.627901077270508, -11.991724014282227, -14.604033470153809, -11.93065357208252, -14.630417823791504, -11.567662239074707, -14.585091590881348, -11.903261184692383, -11.587713241577148, -14.664399147033691, 9.456369400024414, -14.708486557006836, -14.701576232910156, -14.725565910339355, -11.96003532409668, -14.739331245422363, -14.711187362670898, -14.843960762023926, -11.987236022949219, 9.4729642868042, -14.759594917297363, -14.72406005859375, 9.475628852844238, -14.77344036102295, -11.974111557006836, -14.886011123657227, -11.968306541442871, -14.871546745300293, -11.95253849029541, -14.969823837280273, -11.979753494262695, -14.772058486938477, -14.788959503173828, -11.943778038024902, -14.765973091125488, -14.906039237976074, -14.959089279174805, -14.957733154296875, -11.995351791381836, -11.99675464630127, -12.13740062713623, -12.164510726928711, 9.478537559509277, 9.47580623626709, -15.119409561157227, -14.898606300354004, -15.152164459228516, -15.127544403076172, -12.176458358764648, 9.397266387939453, -12.173861503601074, -15.135919570922852, 9.41110897064209, 9.435471534729004, -12.116072654724121, -15.138620376586914, -14.966651916503906, -15.032062530517578, -12.180191993713379, -12.175557136535645, -15.145003318786621, -12.170768737792969, -15.138426780700684, -12.176520347595215, -12.170477867126465, -15.149545669555664, -12.163847923278809, -15.161629676818848, -12.178229331970215, -15.162076950073242, -15.131757736206055, -15.117265701293945, -11.989412307739258, -15.001666069030762, -11.960135459899902, -12.148961067199707, -15.155715942382812, -15.1465482711792, -11.873528480529785, -15.121963500976562, -12.165037155151367], \"xaxis\": \"x\", \"y\": [-11.424264907836914, -11.576620101928711, -11.625903129577637, -11.393631935119629, -11.350528717041016, -11.384618759155273, -11.353249549865723, -11.352614402770996, -11.345727920532227, -11.30886459350586, -11.335809707641602, -11.341318130493164, -11.341044425964355, -11.345108032226562, -11.371410369873047, -11.3471040725708, -11.349984169006348, -11.512247085571289, -11.473543167114258, -11.514019966125488, -11.472078323364258, -14.082353591918945, -11.710454940795898, -11.747271537780762, -11.723771095275879, -13.912537574768066, -11.70017147064209, -11.710907936096191, -13.88281536102295, -11.742859840393066, -11.909783363342285, -11.89144515991211, -11.907133102416992, -13.774524688720703, -11.892684936523438, -12.454766273498535, -13.550516128540039, -11.985417366027832, -11.929425239562988, -11.886738777160645, -11.921457290649414, -12.270130157470703, -12.239201545715332, -12.273713111877441, -12.297161102294922, -12.252462387084961, -12.274274826049805, -12.250211715698242, -12.271705627441406, -13.426549911499023, -13.373398780822754, -13.424825668334961, -13.217218399047852, -13.216697692871094, -13.17402172088623, -13.194981575012207, -13.361947059631348, -13.233570098876953, -13.371973037719727, -13.207791328430176, -13.21893310546875, -13.220467567443848, -13.34870433807373, -13.212125778198242, -13.205437660217285, -13.28076457977295, -13.404138565063477, 18.58462905883789, -13.416662216186523, -13.339282989501953, -13.367887496948242, -13.221942901611328, -13.23458480834961, -13.254007339477539, -13.206704139709473, -13.218246459960938, -13.203048706054688, -13.209129333496094, 18.62187957763672, -12.546748161315918, -12.564764976501465, -12.524797439575195, -12.42284870147705, -12.401581764221191, -12.436819076538086, -12.491310119628906, -12.532221794128418, -12.536551475524902, -12.39707088470459, -12.414015769958496, -12.52830982208252, -12.596882820129395, -12.610493659973145, -12.406612396240234, -12.583244323730469, -12.393671989440918, -12.432737350463867, -12.447628021240234, -12.411076545715332, -12.398726463317871, -12.373062133789062, -12.399572372436523, -12.602920532226562, -12.41474723815918, -12.543085098266602, -12.506667137145996, -12.417262077331543, -12.591581344604492, -12.590719223022461, -12.583118438720703, -12.403861045837402, -12.406801223754883, -12.59158706665039, -12.590874671936035, -12.559795379638672, -12.595718383789062, -12.61264419555664, -12.598223686218262, 6.537246227264404, 6.574943542480469, 18.641332626342773, 6.532464027404785, 18.65033721923828, 18.655542373657227, 6.556309223175049, 6.570371150970459, 18.641389846801758, 6.581274032592773, 18.67543601989746, 6.708930492401123, 6.559421062469482, 6.719934940338135, 6.662174701690674, 6.614389896392822, 18.66094207763672, 6.597432613372803, 6.686159133911133, 6.535031795501709, 6.5684356689453125, 6.558941841125488, 6.74752140045166, 6.604990482330322, 6.566776275634766, 6.715303421020508, 6.712071418762207, 6.7610602378845215, 6.542466163635254, 18.70126724243164, 18.70797348022461, 18.71928596496582, 6.581018447875977, 18.804954528808594, 6.531462669372559, 6.755549907684326, 6.585877418518066, 6.746396064758301, 6.764707088470459, 6.742186069488525, 6.774538040161133, 18.818073272705078, 6.739454746246338, 6.770133018493652, 6.751471519470215, 6.7600178718566895, 6.80901575088501, 6.764653205871582, 6.890436172485352, 6.872680187225342, 18.904769897460938, 6.880848407745361, 6.8903632164001465, 6.863892555236816, 6.8899383544921875, 6.8853559494018555, 6.7041239738464355, 18.906949996948242, 18.91084098815918, 6.865888595581055, 18.905519485473633, 6.870270729064941, 6.945874214172363, 19.026193618774414, 19.028470993041992, 6.944550037384033, 6.970025539398193, 6.935268402099609, 7.000070571899414, 6.9424004554748535, 6.915472030639648, 19.035451889038086, 19.03094482421875, 6.960848331451416, 6.957696437835693, 6.936965465545654, 7.045287609100342, 19.184696197509766, 7.06858491897583, 19.195762634277344, 7.0151848793029785, 19.160913467407227, 7.044193744659424, 7.0648369789123535, 7.047397613525391, 19.20274543762207, 7.050263404846191, 7.0177130699157715, 19.304309844970703, 6.988036632537842, 19.35202980041504, 19.293790817260742, 7.049124240875244, 7.1837592124938965, 7.073630332946777, 7.122491359710693, 7.125916481018066, 7.09796142578125, 7.055411338806152, 7.126838684082031, 7.183605670928955, 7.0526909828186035, 19.33774185180664, 7.188573360443115, 7.155858039855957, 7.293808937072754, 19.412466049194336, 7.162127494812012, 7.332348346710205, 7.291064262390137, 7.126067638397217, 7.279184818267822, 7.059840202331543, 7.115783214569092, 19.429136276245117, 19.450820922851562, 7.3666205406188965, 7.3806867599487305, 7.368255615234375, -3.9102728366851807, 19.583290100097656, -3.9256367683410645, 19.632427215576172, -3.981344223022461, 19.62233543395996, 7.6541619300842285, 19.762746810913086, 19.758546829223633, 7.504910469055176, 7.554287910461426, 7.612564563751221, 7.500589847564697, 19.764667510986328, 7.580041885375977, 7.485197067260742, 19.756811141967773, 7.623135566711426, 7.58583402633667, 7.620974063873291, -3.8576431274414062, 7.661887168884277, 19.931396484375, 7.67165470123291, 7.640853404998779, 7.680361747741699, 7.741273403167725, 19.913267135620117, 7.6935224533081055, 7.718898296356201, -3.9112319946289062, 7.737665176391602, -3.9268722534179688, 7.862201690673828, 20.166868209838867, 20.16670036315918, 7.897660255432129, 7.8680100440979, 7.92401647567749, 7.867572784423828, 7.7722697257995605, 7.902559280395508, 20.16077423095703, 7.7830023765563965, 7.901533603668213, 7.794326305389404, 7.727383613586426, 20.1356258392334, -4.105922698974609, 7.9525275230407715, 20.31733512878418, 8.03026294708252, 7.866539478302002, -3.892965793609619, 8.05465030670166, 8.051833152770996, 7.80278205871582, 7.87665319442749, 7.8490447998046875, 20.335357666015625, 20.360414505004883, -4.463975429534912, 8.149255752563477, 20.344112396240234, 8.258742332458496, 8.008910179138184, -4.460118770599365, 20.451677322387695, 8.320101737976074, 20.488157272338867, -4.093357086181641, -4.432837009429932, 8.010245323181152, 8.221049308776855, -4.267883777618408, -4.0992865562438965, 8.347530364990234, 8.202751159667969, 8.229833602905273, -4.207249164581299, 8.17679214477539, -4.098056316375732, 8.318209648132324, 8.318617820739746, 8.380658149719238, 8.37043571472168, 20.735126495361328, 20.749038696289062, 8.401336669921875, 8.433794021606445, 20.743383407592773, -4.097545146942139, -4.000697612762451, -4.263708114624023, 20.691925048828125, -3.908174991607666, -4.197346210479736, 8.381559371948242, 8.405167579650879, -4.113954067230225, 8.325573921203613, -4.135781288146973, 8.390646934509277, -4.12421989440918, 20.872591018676758, 8.532100677490234, 8.583663940429688, 8.589193344116211, 8.571684837341309, 8.576203346252441, 20.896602630615234, -4.461927890777588, 8.579815864562988, -4.230134963989258, 8.519722938537598, -4.245431423187256, 20.89370346069336, 20.895254135131836, 20.8953857421875, -4.250077724456787, 8.498002052307129, 8.526503562927246, 20.91758918762207, 8.678385734558105, -4.172003746032715, -4.594174861907959, 20.921592712402344, 8.721224784851074, 8.718080520629883, 8.726505279541016, -4.156732082366943, 20.924320220947266, -4.200250625610352, 8.774615287780762, -4.3712077140808105, 8.738740921020508, -4.268563270568848, 8.868700981140137, -4.293212413787842, 8.956951141357422, -4.1300225257873535, 8.97103500366211, -4.523778438568115, 8.876221656799316, -4.332030296325684, -4.575125694274902, 8.823295593261719, 21.182106018066406, 9.013821601867676, 9.025849342346191, 8.957820892333984, -4.365634918212891, 9.10721492767334, 9.119989395141602, 8.93059253692627, -4.361205101013184, 21.149084091186523, 8.947966575622559, 8.97537899017334, 21.14783477783203, 8.937204360961914, -4.393676280975342, 8.969205856323242, -4.454751491546631, 8.96545124053955, -4.144466400146484, 8.945494651794434, -4.418912410736084, 9.082595825195312, 9.116869926452637, -4.427626609802246, 9.133877754211426, 8.950125694274902, 8.938764572143555, 8.927018165588379, -4.4791975021362305, -4.483701705932617, -4.820657253265381, -4.840478897094727, 21.143112182617188, 21.149089813232422, 9.020845413208008, 9.052755355834961, 9.171463012695312, 9.061553955078125, -4.87341833114624, 21.273618698120117, -4.86731481552124, 9.128488540649414, 21.2614803314209, 21.208904266357422, -4.783840656280518, 9.10281753540039, 9.172383308410645, 9.212034225463867, -4.8715949058532715, -4.872267246246338, 9.179641723632812, -4.868804931640625, 9.179180145263672, -4.870888710021973, -4.864927291870117, 9.178485870361328, -4.86427116394043, 9.181780815124512, -4.879206657409668, 9.183554649353027, 9.102075576782227, 9.156785011291504, -4.353707790374756, 9.207988739013672, -4.353814125061035, -4.829073905944824, 9.173224449157715, 9.094643592834473, -4.69265604019165, 9.165715217590332, -4.8611741065979], \"yaxis\": \"y\"}, {\"customdata\": [[1951, \"USA\", \"AIRDROP\", \"ATMOSPHERIC\", \"NTS\", 1951], [1951, \"USA\", \"AIRDROP\", \"ATMOSPHERIC\", \"NTS\", 1951], [1951, \"USA\", \"AIRDROP\", \"ATMOSPHERIC\", \"NTS\", 1951], [1951, \"USA\", \"AIRDROP\", \"ATMOSPHERIC\", \"NTS\", 1951], [1951, \"USA\", \"AIRDROP\", \"ATMOSPHERIC\", \"NTS\", 1951], [1951, \"USA\", \"TOWER\", \"ATMOSPHERIC\", \"NTS\", 1951], [1951, \"USA\", \"AIRDROP\", \"ATMOSPHERIC\", \"NTS\", 1951], [1951, \"USA\", \"AIRDROP\", \"ATMOSPHERIC\", \"NTS\", 1951], [1951, \"USA\", \"AIRDROP\", \"ATMOSPHERIC\", \"NTS\", 1951], [1951, \"USA\", \"AIRDROP\", \"ATMOSPHERIC\", \"NTS\", 1951], [1951, \"USA\", \"SURFACE\", \"ATMOSPHERIC\", \"NTS\", 1951], [1951, \"USA\", \"CRATER\", \"ATMOSPHERIC\", \"NTS\", 1951], [1952, \"USA\", \"AIRDROP\", \"ATMOSPHERIC\", \"NTS\", 1952], [1952, \"USA\", \"AIRDROP\", \"ATMOSPHERIC\", \"NTS\", 1952], [1952, \"USA\", \"AIRDROP\", \"ATMOSPHERIC\", \"NTS\", 1952], [1952, \"USA\", \"AIRDROP\", \"ATMOSPHERIC\", \"NTS\", 1952], [1952, \"USA\", \"TOWER\", \"ATMOSPHERIC\", \"NTS\", 1952], [1952, \"USA\", \"TOWER\", \"ATMOSPHERIC\", \"NTS\", 1952], [1952, \"USA\", \"TOWER\", \"ATMOSPHERIC\", \"NTS\", 1952], [1952, \"USA\", \"TOWER\", \"ATMOSPHERIC\", \"NTS\", 1952], [1953, \"USA\", \"TOWER\", \"ATMOSPHERIC\", \"NTS\", 1953], [1953, \"USA\", \"TOWER\", \"ATMOSPHERIC\", \"NTS\", 1953], [1953, \"USA\", \"TOWER\", \"ATMOSPHERIC\", \"NTS\", 1953], [1953, \"USA\", \"AIRDROP\", \"ATMOSPHERIC\", \"NTS\", 1953], [1953, \"USA\", \"TOWER\", \"ATMOSPHERIC\", \"NTS\", 1953], [1953, \"USA\", \"TOWER\", \"ATMOSPHERIC\", \"NTS\", 1953], [1953, \"USA\", \"TOWER\", \"ATMOSPHERIC\", \"NTS\", 1953], [1953, \"USA\", \"AIRDROP\", \"ATMOSPHERIC\", \"NTS\", 1953], [1953, \"USA\", \"TOWER\", \"ATMOSPHERIC\", \"NTS\", 1953], [1953, \"USA\", \"ATMOSPH\", \"ATMOSPHERIC\", \"NTS\", 1953], [1953, \"USA\", \"AIRDROP\", \"ATMOSPHERIC\", \"NTS\", 1953], [1955, \"USA\", \"AIRDROP\", \"ATMOSPHERIC\", \"NTS\", 1955], [1955, \"USA\", \"TOWER\", \"ATMOSPHERIC\", \"NTS\", 1955], [1955, \"USA\", \"TOWER\", \"ATMOSPHERIC\", \"NTS\", 1955], [1955, \"USA\", \"TOWER\", \"ATMOSPHERIC\", \"NTS\", 1955], [1955, \"USA\", \"TOWER\", \"ATMOSPHERIC\", \"NTS\", 1955], [1955, \"USA\", \"TOWER\", \"ATMOSPHERIC\", \"NTS\", 1955], [1955, \"USA\", \"CRATER\", \"ATMOSPHERIC\", \"NTS\", 1955], [1955, \"USA\", \"TOWER\", \"ATMOSPHERIC\", \"NTS\", 1955], [1955, \"USA\", \"AIRDROP\", \"ATMOSPHERIC\", \"NTS\", 1955], [1955, \"USA\", \"AIRDROP\", \"ATMOSPHERIC\", \"NTS\", 1955], [1955, \"USA\", \"TOWER\", \"ATMOSPHERIC\", \"NTS\", 1955], [1955, \"USA\", \"TOWER\", \"ATMOSPHERIC\", \"NTS\", 1955], [1955, \"USA\", \"TOWER\", \"ATMOSPHERIC\", \"NTS\", 1955], [1955, \"USA\", \"TOWER\", \"ATMOSPHERIC\", \"NTS\", 1955], [1955, \"USA\", \"SURFACE\", \"ATMOSPHERIC\", \"NTS\", 1955], [1955, \"USA\", \"SURFACE\", \"ATMOSPHERIC\", \"NTS\", 1955], [1955, \"USA\", \"SURFACE\", \"ATMOSPHERIC\", \"NTS\", 1955], [1956, \"USA\", \"SURFACE\", \"ATMOSPHERIC\", \"NTS\", 1956], [1957, \"USA\", \"TOWER\", \"ATMOSPHERIC\", \"NTS\", 1957], [1957, \"USA\", \"TOWER\", \"ATMOSPHERIC\", \"NTS\", 1957], [1957, \"USA\", \"BALLOON\", \"ATMOSPHERIC\", \"NTS\", 1957], [1957, \"USA\", \"BALLOON\", \"ATMOSPHERIC\", \"NTS\", 1957], [1957, \"USA\", \"BALLOON\", \"ATMOSPHERIC\", \"NTS\", 1957], [1957, \"USA\", \"SURFACE\", \"ATMOSPHERIC\", \"NTS\", 1957], [1957, \"USA\", \"BALLOON\", \"ATMOSPHERIC\", \"NTS\", 1957], [1957, \"USA\", \"TOWER\", \"ATMOSPHERIC\", \"NTS\", 1957], [1957, \"USA\", \"ROCKET\", \"ATMOSPHERIC\", \"NTS\", 1957], [1957, \"USA\", \"TOWER\", \"ATMOSPHERIC\", \"NTS\", 1957], [1957, \"USA\", \"BALLOON\", \"ATMOSPHERIC\", \"NTS\", 1957], [1957, \"USA\", \"SHAFT\", \"UNDERGROUND\", \"NTS\", 1957], [1957, \"USA\", \"BALLOON\", \"ATMOSPHERIC\", \"NTS\", 1957], [1957, \"USA\", \"TUNNEL\", \"UNDERGROUND\", \"NTS\", 1957], [1957, \"USA\", \"TOWER\", \"ATMOSPHERIC\", \"NTS\", 1957], [1957, \"USA\", \"BALLOON\", \"ATMOSPHERIC\", \"NTS\", 1957], [1957, \"USA\", \"SHAFT\", \"UNDERGROUND\", \"NTS\", 1957], [1957, \"USA\", \"BALLOON\", \"ATMOSPHERIC\", \"NTS\", 1957], [1957, \"USA\", \"TOWER\", \"ATMOSPHERIC\", \"NTS\", 1957], [1957, \"USA\", \"TOWER\", \"ATMOSPHERIC\", \"NTS\", 1957], [1957, \"USA\", \"BALLOON\", \"ATMOSPHERIC\", \"NTS\", 1957], [1957, \"USA\", \"SURFACE\", \"ATMOSPHERIC\", \"NTS\", 1957], [1957, \"USA\", \"BALLOON\", \"ATMOSPHERIC\", \"NTS\", 1957], [1957, \"USA\", \"TOWER\", \"ATMOSPHERIC\", \"NTS\", 1957], [1957, \"USA\", \"BALLOON\", \"ATMOSPHERIC\", \"NTS\", 1957], [1957, \"USA\", \"TUNNEL\", \"UNDERGROUND\", \"NTS\", 1957], [1957, \"USA\", \"TOWER\", \"ATMOSPHERIC\", \"NTS\", 1957], [1957, \"USA\", \"BALLOON\", \"ATMOSPHERIC\", \"NTS\", 1957], [1957, \"USA\", \"BALLOON\", \"ATMOSPHERIC\", \"NTS\", 1957], [1957, \"USA\", \"SHAFT\", \"UNDERGROUND\", \"NTS\", 1957], [1957, \"USA\", \"SURFACE\", \"ATMOSPHERIC\", \"NTS\", 1957], [1958, \"USA\", \"TUNNEL\", \"UNDERGROUND\", \"NTS\", 1958], [1958, \"USA\", \"TUNNEL\", \"UNDERGROUND\", \"NTS\", 1958], [1958, \"USA\", \"SHAFT\", \"UNDERGROUND\", \"NTS\", 1958], [1958, \"USA\", \"SHAFT\", \"UNDERGROUND\", \"NTS\", 1958], [1958, \"USA\", \"BALLOON\", \"ATMOSPHERIC\", \"NTS\", 1958], [1958, \"USA\", \"SHAFT\", \"UNDERGROUND\", \"NTS\", 1958], [1958, \"USA\", \"TUNNEL\", \"UNDERGROUND\", \"NTS\", 1958], [1958, \"USA\", \"SHAFT\", \"UNDERGROUND\", \"NTS\", 1958], [1958, \"USA\", \"TUNNEL\", \"UNDERGROUND\", \"NTS\", 1958], [1958, \"USA\", \"BALLOON\", \"ATMOSPHERIC\", \"NTS\", 1958], [1958, \"USA\", \"BALLOON\", \"ATMOSPHERIC\", \"NTS\", 1958], [1958, \"USA\", \"SHAFT\", \"UNDERGROUND\", \"NTS\", 1958], [1958, \"USA\", \"TUNNEL\", \"UNDERGROUND\", \"NTS\", 1958], [1958, \"USA\", \"TOWER\", \"ATMOSPHERIC\", \"NTS\", 1958], [1958, \"USA\", \"BALLOON\", \"ATMOSPHERIC\", \"NTS\", 1958], [1958, \"USA\", \"TUNNEL\", \"UNDERGROUND\", \"NTS\", 1958], [1958, \"USA\", \"TOWER\", \"ATMOSPHERIC\", \"NTS\", 1958], [1958, \"USA\", \"TUNNEL\", \"UNDERGROUND\", \"NTS\", 1958], [1958, \"USA\", \"BALLOON\", \"ATMOSPHERIC\", \"NTS\", 1958], [1958, \"USA\", \"SURFACE\", \"ATMOSPHERIC\", \"NTS\", 1958], [1958, \"USA\", \"TOWER\", \"ATMOSPHERIC\", \"NTS\", 1958], [1958, \"USA\", \"SHAFT\", \"UNDERGROUND\", \"NTS\", 1958], [1958, \"USA\", \"BALLOON\", \"ATMOSPHERIC\", \"NTS\", 1958], [1958, \"USA\", \"BALLOON\", \"ATMOSPHERIC\", \"NTS\", 1958], [1958, \"USA\", \"BALLOON\", \"ATMOSPHERIC\", \"NTS\", 1958], [1958, \"USA\", \"TOWER\", \"ATMOSPHERIC\", \"NTS\", 1958], [1958, \"USA\", \"TOWER\", \"ATMOSPHERIC\", \"NTS\", 1958], [1958, \"USA\", \"SURFACE\", \"ATMOSPHERIC\", \"NTS\", 1958], [1958, \"USA\", \"TOWER\", \"ATMOSPHERIC\", \"NTS\", 1958], [1958, \"USA\", \"BALLOON\", \"ATMOSPHERIC\", \"NTS\", 1958], [1958, \"USA\", \"BALLOON\", \"ATMOSPHERIC\", \"NTS\", 1958], [1958, \"USA\", \"TOWER\", \"ATMOSPHERIC\", \"NTS\", 1958], [1958, \"USA\", \"TUNNEL\", \"UNDERGROUND\", \"NTS\", 1958], [1958, \"USA\", \"TOWER\", \"ATMOSPHERIC\", \"NTS\", 1958], [1958, \"USA\", \"TOWER\", \"ATMOSPHERIC\", \"NTS\", 1958], [1958, \"USA\", \"BALLOON\", \"ATMOSPHERIC\", \"NTS\", 1958], [1958, \"USA\", \"TUNNEL\", \"UNDERGROUND\", \"NTS\", 1958], [1958, \"USA\", \"TOWER\", \"ATMOSPHERIC\", \"NTS\", 1958], [1958, \"USA\", \"SURFACE\", \"ATMOSPHERIC\", \"NTS\", 1958], [1961, \"USA\", \"TUNNEL\", \"UNDERGROUND\", \"NTS\", 1961], [1961, \"USA\", \"SHAFT\", \"UNDERGROUND\", \"NTS\", 1961], [1961, \"USA\", \"SHAFT\", \"UNDERGROUND\", \"NTS\", 1961], [1961, \"USA\", \"TUNNEL\", \"UNDERGROUND\", \"NTS\", 1961], [1961, \"USA\", \"SHAFT\", \"UNDERGROUND\", \"NTS\", 1961], [1961, \"USA\", \"SHAFT\", \"UNDERGROUND\", \"NTS\", 1961], [1961, \"USA\", \"SHAFT\", \"UNDERGROUND\", \"NTS\", 1961], [1961, \"USA\", \"SHAFT\", \"UNDERGROUND\", \"NTS\", 1961], [1961, \"USA\", \"TUNNEL\", \"UNDERGROUND\", \"NTS\", 1961], [1962, \"USA\", \"SHAFT\", \"UNDERGROUND\", \"NTS\", 1962], [1962, \"USA\", \"SHAFT\", \"UNDERGROUND\", \"NTS\", 1962], [1962, \"USA\", \"SHAFT\", \"UNDERGROUND\", \"NTS\", 1962], [1962, \"USA\", \"SHAFT\", \"UNDERGROUND\", \"NTS\", 1962], [1962, \"USA\", \"SHAFT\", \"UNDERGROUND\", \"NTS\", 1962], [1962, \"USA\", \"SHAFT\", \"UNDERGROUND\", \"NTS\", 1962], [1962, \"USA\", \"SHAFT\", \"UNDERGROUND\", \"NTS\", 1962], [1962, \"USA\", \"SHAFT\", \"UNDERGROUND\", \"NTS\", 1962], [1962, \"USA\", \"SHAFT\", \"UNDERGROUND\", \"NTS\", 1962], [1962, \"USA\", \"SHAFT\", \"UNDERGROUND\", \"NTS\", 1962], [1962, \"UK\", \"SHAFT\", \"UNDERGROUND\", \"NTS\", 1962], [1962, \"USA\", \"CRATER\", \"ATMOSPHERIC\", \"NTS\", 1962], [1962, \"USA\", \"SHAFT\", \"UNDERGROUND\", \"NTS\", 1962], [1962, \"USA\", \"SHAFT\", \"UNDERGROUND\", \"NTS\", 1962], [1962, \"USA\", \"SHAFT\", \"UNDERGROUND\", \"NTS\", 1962], [1962, \"USA\", \"SHAFT\", \"UNDERGROUND\", \"NTS\", 1962], [1962, \"USA\", \"SHAFT\", \"UNDERGROUND\", \"NTS\", 1962], [1962, \"USA\", \"SHAFT\", \"UNDERGROUND\", \"NTS\", 1962], [1962, \"USA\", \"SHAFT\", \"UNDERGROUND\", \"NTS\", 1962], [1962, \"USA\", \"SHAFT\", \"UNDERGROUND\", \"NTS\", 1962], [1962, \"USA\", \"TUNNEL\", \"UNDERGROUND\", \"NTS\", 1962], [1962, \"USA\", \"SHAFT\", \"UNDERGROUND\", \"NTS\", 1962], [1962, \"USA\", \"SHAFT\", \"UNDERGROUND\", \"NTS\", 1962], [1962, \"USA\", \"SHAFT\", \"UNDERGROUND\", \"NTS\", 1962], [1962, \"USA\", \"SHAFT\", \"UNDERGROUND\", \"NTS\", 1962], [1962, \"USA\", \"SHAFT\", \"UNDERGROUND\", \"NTS\", 1962], [1962, \"USA\", \"SHAFT\", \"UNDERGROUND\", \"NTS\", 1962], [1962, \"USA\", \"SHAFT\", \"UNDERGROUND\", \"NTS\", 1962], [1962, \"USA\", \"SHAFT\", \"UNDERGROUND\", \"NTS\", 1962], [1962, \"USA\", \"SHAFT\", \"UNDERGROUND\", \"NTS\", 1962], [1962, \"USA\", \"TUNNEL\", \"UNDERGROUND\", \"NTS\", 1962], [1962, \"USA\", \"SHAFT\", \"UNDERGROUND\", \"NTS\", 1962], [1962, \"USA\", \"SHAFT\", \"UNDERGROUND\", \"NTS\", 1962], [1962, \"USA\", \"TUNNEL\", \"UNDERGROUND\", \"NTS\", 1962], [1962, \"USA\", \"SHAFT\", \"UNDERGROUND\", \"NTS\", 1962], [1962, \"USA\", \"CRATER\", \"ATMOSPHERIC\", \"NTS\", 1962], [1962, \"USA\", \"SURFACE\", \"ATMOSPHERIC\", \"NTS\", 1962], [1962, \"USA\", \"CRATER\", \"ATMOSPHERIC\", \"NTS\", 1962], [1962, \"USA\", \"SHAFT\", \"UNDERGROUND\", \"NTS\", 1962], [1962, \"USA\", \"TOWER\", \"ATMOSPHERIC\", \"NTS\", 1962], [1962, \"USA\", \"SURFACE\", \"ATMOSPHERIC\", \"NTS\", 1962], [1962, \"USA\", \"SHAFT\", \"UNDERGROUND\", \"NTS\", 1962], [1962, \"USA\", \"SHAFT\", \"UNDERGROUND\", \"NTS\", 1962], [1962, \"USA\", \"SHAFT\", \"UNDERGROUND\", \"NTS\", 1962], [1962, \"USA\", \"SHAFT\", \"UNDERGROUND\", \"NTS\", 1962], [1962, \"USA\", \"SHAFT\", \"UNDERGROUND\", \"NTS\", 1962], [1962, \"USA\", \"SHAFT\", \"UNDERGROUND\", \"NTS\", 1962], [1962, \"USA\", \"SHAFT\", \"UNDERGROUND\", \"NTS\", 1962], [1962, \"USA\", \"SHAFT\", \"UNDERGROUND\", \"NTS\", 1962], [1962, \"USA\", \"SHAFT\", \"UNDERGROUND\", \"NTS\", 1962], [1962, \"USA\", \"SHAFT\", \"UNDERGROUND\", \"NTS\", 1962], [1962, \"USA\", \"SHAFT\", \"UNDERGROUND\", \"NTS\", 1962], [1962, \"USA\", \"SHAFT\", \"UNDERGROUND\", \"NTS\", 1962], [1962, \"USA\", \"SHAFT\", \"UNDERGROUND\", \"NTS\", 1962], [1962, \"USA\", \"SHAFT\", \"UNDERGROUND\", \"NTS\", 1962], [1962, \"USA\", \"SHAFT\", \"UNDERGROUND\", \"NTS\", 1962], [1962, \"USA\", \"SHAFT\", \"UNDERGROUND\", \"NTS\", 1962], [1962, \"USA\", \"SHAFT\", \"UNDERGROUND\", \"NTS\", 1962], [1962, \"UK\", \"SHAFT\", \"UNDERGROUND\", \"NTS\", 1962], [1962, \"USA\", \"TUNNEL\", \"UNDERGROUND\", \"NTS\", 1962], [1962, \"USA\", \"SHAFT\", \"UNDERGROUND\", \"NTS\", 1962], [1962, \"USA\", \"SHAFT\", \"UNDERGROUND\", \"NTS\", 1962], [1963, \"USA\", \"SHAFT\", \"UNDERGROUND\", \"NTS\", 1963], [1963, \"USA\", \"SHAFT\", \"UNDERGROUND\", \"NTS\", 1963], [1963, \"USA\", \"SHAFT\", \"UNDERGROUND\", \"NTS\", 1963], [1963, \"USA\", \"SHAFT\", \"UNDERGROUND\", \"NTS\", 1963], [1963, \"USA\", \"SHAFT\", \"UNDERGROUND\", \"NTS\", 1963], [1963, \"USA\", \"SHAFT\", \"UNDERGROUND\", \"NTS\", 1963], [1963, \"USA\", \"SHAFT\", \"UNDERGROUND\", \"NTS\", 1963], [1963, \"USA\", \"SHAFT\", \"UNDERGROUND\", \"NTS\", 1963], [1963, \"USA\", \"SHAFT\", \"UNDERGROUND\", \"NTS\", 1963], [1963, \"USA\", \"SHAFT\", \"UNDERGROUND\", \"NTS\", 1963], [1963, \"USA\", \"SHAFT\", \"UNDERGROUND\", \"NTS\", 1963], [1963, \"USA\", \"SHAFT\", \"UNDERGROUND\", \"NTS\", 1963], [1963, \"USA\", \"SHAFT\", \"UNDERGROUND\", \"NTS\", 1963], [1963, \"USA\", \"SHAFT\", \"UNDERGROUND\", \"NTS\", 1963], [1963, \"USA\", \"SHAFT\", \"UNDERGROUND\", \"NTS\", 1963], [1963, \"USA\", \"SHAFT\", \"UNDERGROUND\", \"NTS\", 1963], [1963, \"USA\", \"SHAFT\", \"UNDERGROUND\", \"NTS\", 1963], [1963, \"USA\", \"SHAFT\", \"UNDERGROUND\", \"NTS\", 1963], [1963, \"USA\", \"SHAFT\", \"UNDERGROUND\", \"NTS\", 1963], [1963, \"USA\", \"SHAFT\", \"UNDERGROUND\", \"NTS\", 1963], [1963, \"USA\", \"TUNNEL\", \"UNDERGROUND\", \"NTS\", 1963], [1963, \"USA\", \"SHAFT\", \"UNDERGROUND\", \"NTS\", 1963], [1963, \"USA\", \"SHAFT\", \"UNDERGROUND\", \"NTS\", 1963], [1963, \"USA\", \"SHAFT\", \"UNDERGROUND\", \"NTS\", 1963], [1963, \"USA\", \"SHAFT\", \"UNDERGROUND\", \"NTS\", 1963], [1963, \"USA\", \"SHAFT\", \"UNDERGROUND\", \"NTS\", 1963], [1963, \"USA\", \"SHAFT\", \"UNDERGROUND\", \"NTS\", 1963], [1963, \"USA\", \"SHAFT\", \"UNDERGROUND\", \"NTS\", 1963], [1963, \"USA\", \"SHAFT\", \"UNDERGROUND\", \"NTS\", 1963], [1963, \"USA\", \"SHAFT\", \"UNDERGROUND\", \"NTS\", 1963], [1963, \"USA\", \"SHAFT\", \"UNDERGROUND\", \"NTS\", 1963], [1963, \"USA\", \"SHAFT\", \"UNDERGROUND\", \"NTS\", 1963], [1963, \"USA\", \"SHAFT\", \"UNDERGROUND\", \"NTS\", 1963], [1963, \"USA\", \"SHAFT\", \"UNDERGROUND\", \"NTS\", 1963], [1963, \"USA\", \"SHAFT\", \"UNDERGROUND\", \"NTS\", 1963], [1963, \"USA\", \"SHAFT\", \"UNDERGROUND\", \"NTS\", 1963], [1963, \"USA\", \"SHAFT\", \"UNDERGROUND\", \"NTS\", 1963], [1963, \"USA\", \"SHAFT\", \"UNDERGROUND\", \"NTS\", 1963], [1963, \"USA\", \"SHAFT\", \"UNDERGROUND\", \"NTS\", 1963], [1963, \"USA\", \"SHAFT\", \"UNDERGROUND\", \"NTS\", 1963], [1963, \"USA\", \"SHAFT\", \"UNDERGROUND\", \"NTS\", 1963], [1963, \"USA\", \"SHAFT\", \"UNDERGROUND\", \"NTS\", 1963], [1964, \"USA\", \"SHAFT\", \"UNDERGROUND\", \"NTS\", 1964], [1964, \"USA\", \"SHAFT\", \"UNDERGROUND\", \"NTS\", 1964], [1964, \"USA\", \"SHAFT\", \"UNDERGROUND\", \"NTS\", 1964], [1964, \"USA\", \"SHAFT\", \"UNDERGROUND\", \"NTS\", 1964], [1964, \"USA\", \"SHAFT\", \"UNDERGROUND\", \"NTS\", 1964], [1964, \"USA\", \"SHAFT\", \"UNDERGROUND\", \"NTS\", 1964], [1964, \"USA\", \"SHAFT\", \"UNDERGROUND\", \"NTS\", 1964], [1964, \"USA\", \"SHAFT\", \"UNDERGROUND\", \"NTS\", 1964], [1964, \"USA\", \"SHAFT\", \"UNDERGROUND\", \"NTS\", 1964], [1964, \"USA\", \"SHAFT\", \"UNDERGROUND\", \"NTS\", 1964], [1964, \"USA\", \"SHAFT\", \"UNDERGROUND\", \"NTS\", 1964], [1964, \"USA\", \"SHAFT\", \"UNDERGROUND\", \"NTS\", 1964], [1964, \"USA\", \"SHAFT\", \"UNDERGROUND\", \"NTS\", 1964], [1964, \"USA\", \"SHAFT\", \"UNDERGROUND\", \"NTS\", 1964], [1964, \"USA\", \"SHAFT\", \"UNDERGROUND\", \"NTS\", 1964], [1964, \"USA\", \"SHAFT\", \"UNDERGROUND\", \"NTS\", 1964], [1964, \"USA\", \"SHAFT\", \"UNDERGROUND\", \"NTS\", 1964], [1964, \"USA\", \"SHAFT\", \"UNDERGROUND\", \"NTS\", 1964], [1964, \"USA\", \"SHAFT\", \"UNDERGROUND\", \"NTS\", 1964], [1964, \"USA\", \"SHAFT\", \"UNDERGROUND\", \"NTS\", 1964], [1964, \"USA\", \"SHAFT\", \"UNDERGROUND\", \"NTS\", 1964], [1964, \"USA\", \"SHAFT\", \"UNDERGROUND\", \"NTS\", 1964], [1964, \"USA\", \"SHAFT\", \"UNDERGROUND\", \"NTS\", 1964], [1964, \"USA\", \"SHAFT\", \"UNDERGROUND\", \"NTS\", 1964], [1964, \"UK\", \"SHAFT\", \"UNDERGROUND\", \"NTS\", 1964], [1964, \"USA\", \"SHAFT\", \"UNDERGROUND\", \"NTS\", 1964], [1964, \"USA\", \"SHAFT\", \"UNDERGROUND\", \"NTS\", 1964], [1964, \"USA\", \"SHAFT\", \"UNDERGROUND\", \"NTS\", 1964], [1964, \"USA\", \"SHAFT\", \"UNDERGROUND\", \"NTS\", 1964], [1964, \"USA\", \"SHAFT\", \"UNDERGROUND\", \"NTS\", 1964], [1964, \"USA\", \"SHAFT\", \"UNDERGROUND\", \"NTS\", 1964], [1964, \"USA\", \"SHAFT\", \"UNDERGROUND\", \"NTS\", 1964], [1964, \"USA\", \"SHAFT\", \"UNDERGROUND\", \"NTS\", 1964], [1964, \"UK\", \"SHAFT\", \"UNDERGROUND\", \"NTS\", 1964], [1964, \"USA\", \"SHAFT\", \"UNDERGROUND\", \"NTS\", 1964], [1964, \"USA\", \"SHAFT\", \"UNDERGROUND\", \"NTS\", 1964], [1964, \"USA\", \"SHAFT\", \"UNDERGROUND\", \"NTS\", 1964], [1964, \"USA\", \"SHAFT\", \"UNDERGROUND\", \"NTS\", 1964], [1964, \"USA\", \"SHAFT\", \"UNDERGROUND\", \"NTS\", 1964], [1964, \"USA\", \"SHAFT\", \"UNDERGROUND\", \"NTS\", 1964], [1964, \"USA\", \"SHAFT\", \"UNDERGROUND\", \"NTS\", 1964], [1964, \"USA\", \"SHAFT\", \"UNDERGROUND\", \"NTS\", 1964], [1964, \"USA\", \"SHAFT\", \"UNDERGROUND\", \"NTS\", 1964], [1964, \"USA\", \"SHAFT\", \"UNDERGROUND\", \"NTS\", 1964], [1964, \"USA\", \"SHAFT\", \"UNDERGROUND\", \"NTS\", 1964], [1964, \"USA\", \"SHAFT\", \"UNDERGROUND\", \"NTS\", 1964], [1965, \"USA\", \"SHAFT\", \"UNDERGROUND\", \"NTS\", 1965], [1965, \"USA\", \"SHAFT\", \"UNDERGROUND\", \"NTS\", 1965], [1965, \"USA\", \"SHAFT\", \"UNDERGROUND\", \"NTS\", 1965], [1965, \"USA\", \"SHAFT\", \"UNDERGROUND\", \"NTS\", 1965], [1965, \"USA\", \"SHAFT\", \"UNDERGROUND\", \"NTS\", 1965], [1965, \"USA\", \"SHAFT\", \"UNDERGROUND\", \"NTS\", 1965], [1965, \"USA\", \"SHAFT\", \"UNDERGROUND\", \"NTS\", 1965], [1965, \"USA\", \"SHAFT\", \"UNDERGROUND\", \"NTS\", 1965], [1965, \"USA\", \"SHAFT\", \"UNDERGROUND\", \"NTS\", 1965], [1965, \"USA\", \"SHAFT\", \"UNDERGROUND\", \"NTS\", 1965], [1965, \"USA\", \"SHAFT\", \"UNDERGROUND\", \"NTS\", 1965], [1965, \"USA\", \"CRATER\", \"ATMOSPHERIC\", \"NTS\", 1965], [1965, \"USA\", \"TUNNEL\", \"UNDERGROUND\", \"NTS\", 1965], [1965, \"USA\", \"SHAFT\", \"UNDERGROUND\", \"NTS\", 1965], [1965, \"USA\", \"SHAFT\", \"UNDERGROUND\", \"NTS\", 1965], [1965, \"USA\", \"SHAFT\", \"UNDERGROUND\", \"NTS\", 1965], [1965, \"USA\", \"SHAFT\", \"UNDERGROUND\", \"NTS\", 1965], [1965, \"USA\", \"SHAFT\", \"UNDERGROUND\", \"NTS\", 1965], [1965, \"USA\", \"SHAFT\", \"UNDERGROUND\", \"NTS\", 1965], [1965, \"USA\", \"SHAFT\", \"UNDERGROUND\", \"NTS\", 1965], [1965, \"USA\", \"SHAFT\", \"UNDERGROUND\", \"NTS\", 1965], [1965, \"USA\", \"SHAFT\", \"UNDERGROUND\", \"NTS\", 1965], [1965, \"USA\", \"SHAFT\", \"UNDERGROUND\", \"NTS\", 1965], [1965, \"USA\", \"TUNNEL\", \"UNDERGROUND\", \"NTS\", 1965], [1965, \"USA\", \"SHAFT\", \"UNDERGROUND\", \"NTS\", 1965], [1965, \"USA\", \"SHAFT\", \"UNDERGROUND\", \"NTS\", 1965], [1965, \"USA\", \"SHAFT\", \"UNDERGROUND\", \"NTS\", 1965], [1965, \"USA\", \"SHAFT\", \"UNDERGROUND\", \"NTS\", 1965], [1965, \"USA\", \"SHAFT\", \"UNDERGROUND\", \"NTS\", 1965], [1965, \"USA\", \"SHAFT\", \"UNDERGROUND\", \"NTS\", 1965], [1965, \"USA\", \"SHAFT\", \"UNDERGROUND\", \"NTS\", 1965], [1965, \"UK\", \"SHAFT\", \"UNDERGROUND\", \"NTS\", 1965], [1965, \"USA\", \"SHAFT\", \"UNDERGROUND\", \"NTS\", 1965], [1965, \"USA\", \"SHAFT\", \"UNDERGROUND\", \"NTS\", 1965], [1965, \"USA\", \"SHAFT\", \"UNDERGROUND\", \"NTS\", 1965], [1965, \"USA\", \"SHAFT\", \"UNDERGROUND\", \"NTS\", 1965], [1965, \"USA\", \"SHAFT\", \"UNDERGROUND\", \"NTS\", 1965], [1965, \"USA\", \"SHAFT\", \"UNDERGROUND\", \"NTS\", 1965], [1966, \"USA\", \"SHAFT\", \"UNDERGROUND\", \"NTS\", 1966], [1966, \"USA\", \"SHAFT\", \"UNDERGROUND\", \"NTS\", 1966], [1966, \"USA\", \"SHAFT\", \"UNDERGROUND\", \"NTS\", 1966], [1966, \"USA\", \"SHAFT\", \"UNDERGROUND\", \"NTS\", 1966], [1966, \"USA\", \"SHAFT\", \"UNDERGROUND\", \"NTS\", 1966], [1966, \"USA\", \"SHAFT\", \"UNDERGROUND\", \"NTS\", 1966], [1966, \"USA\", \"SHAFT\", \"UNDERGROUND\", \"NTS\", 1966], [1966, \"USA\", \"TUNNEL\", \"UNDERGROUND\", \"NTS\", 1966], [1966, \"USA\", \"SHAFT\", \"UNDERGROUND\", \"NTS\", 1966], [1966, \"USA\", \"SHAFT\", \"UNDERGROUND\", \"NTS\", 1966], [1966, \"USA\", \"SHAFT\", \"UNDERGROUND\", \"NTS\", 1966], [1966, \"USA\", \"SHAFT\", \"UNDERGROUND\", \"NTS\", 1966], [1966, \"USA\", \"SHAFT\", \"UNDERGROUND\", \"NTS\", 1966], [1966, \"USA\", \"SHAFT\", \"UNDERGROUND\", \"NTS\", 1966], [1966, \"USA\", \"SHAFT\", \"UNDERGROUND\", \"NTS\", 1966], [1966, \"USA\", \"SHAFT\", \"UNDERGROUND\", \"NTS\", 1966], [1966, \"USA\", \"SHAFT\", \"UNDERGROUND\", \"NTS\", 1966], [1966, \"USA\", \"SHAFT\", \"UNDERGROUND\", \"NTS\", 1966], [1966, \"USA\", \"SHAFT\", \"UNDERGROUND\", \"NTS\", 1966], [1966, \"USA\", \"SHAFT\", \"UNDERGROUND\", \"NTS\", 1966], [1966, \"USA\", \"SHAFT\", \"UNDERGROUND\", \"NTS\", 1966], [1966, \"USA\", \"SHAFT\", \"UNDERGROUND\", \"NTS\", 1966], [1966, \"USA\", \"SHAFT\", \"UNDERGROUND\", \"NTS\", 1966], [1966, \"USA\", \"SHAFT\", \"UNDERGROUND\", \"NTS\", 1966], [1966, \"USA\", \"SHAFT\", \"UNDERGROUND\", \"NTS\", 1966], [1966, \"USA\", \"SHAFT\", \"UNDERGROUND\", \"NTS\", 1966], [1966, \"USA\", \"TUNNEL\", \"UNDERGROUND\", \"NTS\", 1966], [1966, \"USA\", \"SHAFT\", \"UNDERGROUND\", \"NTS\", 1966], [1966, \"USA\", \"SHAFT\", \"UNDERGROUND\", \"NTS\", 1966], [1966, \"USA\", \"TUNNEL\", \"UNDERGROUND\", \"NTS\", 1966], [1966, \"USA\", \"SHAFT\", \"UNDERGROUND\", \"NTS\", 1966], [1966, \"USA\", \"SHAFT\", \"UNDERGROUND\", \"NTS\", 1966], [1966, \"USA\", \"SHAFT\", \"UNDERGROUND\", \"NTS\", 1966], [1966, \"USA\", \"SHAFT\", \"UNDERGROUND\", \"NTS\", 1966], [1966, \"USA\", \"SHAFT\", \"UNDERGROUND\", \"NTS\", 1966], [1966, \"USA\", \"SHAFT\", \"UNDERGROUND\", \"NTS\", 1966], [1966, \"USA\", \"SHAFT\", \"UNDERGROUND\", \"NTS\", 1966], [1966, \"USA\", \"SHAFT\", \"UNDERGROUND\", \"NTS\", 1966], [1966, \"USA\", \"SHAFT\", \"UNDERGROUND\", \"NTS\", 1966], [1966, \"USA\", \"SHAFT\", \"UNDERGROUND\", \"NTS\", 1966], [1966, \"USA\", \"SHAFT\", \"UNDERGROUND\", \"NTS\", 1966], [1966, \"USA\", \"SHAFT\", \"UNDERGROUND\", \"NTS\", 1966], [1966, \"USA\", \"SHAFT\", \"UNDERGROUND\", \"NTS\", 1966], [1966, \"USA\", \"SHAFT\", \"UNDERGROUND\", \"NTS\", 1966], [1966, \"USA\", \"SHAFT\", \"UNDERGROUND\", \"NTS\", 1966], [1966, \"USA\", \"SHAFT\", \"UNDERGROUND\", \"NTS\", 1966], [1966, \"USA\", \"SHAFT\", \"UNDERGROUND\", \"NTS\", 1966], [1967, \"USA\", \"SHAFT\", \"UNDERGROUND\", \"NTS\", 1967], [1967, \"USA\", \"SHAFT\", \"UNDERGROUND\", \"NTS\", 1967], [1967, \"USA\", \"SHAFT\", \"UNDERGROUND\", \"NTS\", 1967], [1967, \"USA\", \"SHAFT\", \"UNDERGROUND\", \"NTS\", 1967], [1967, \"USA\", \"SHAFT\", \"UNDERGROUND\", \"NTS\", 1967], [1967, \"USA\", \"SHAFT\", \"UNDERGROUND\", \"NTS\", 1967], [1967, \"USA\", \"SHAFT\", \"UNDERGROUND\", \"NTS\", 1967], [1967, \"USA\", \"SHAFT\", \"UNDERGROUND\", \"NTS\", 1967], [1967, \"USA\", \"SHAFT\", \"UNDERGROUND\", \"NTS\", 1967], [1967, \"USA\", \"SHAFT\", \"UNDERGROUND\", \"NTS\", 1967], [1967, \"USA\", \"SHAFT\", \"UNDERGROUND\", \"NTS\", 1967], [1967, \"USA\", \"SHAFT\", \"UNDERGROUND\", \"NTS\", 1967], [1967, \"USA\", \"SHAFT\", \"UNDERGROUND\", \"NTS\", 1967], [1967, \"USA\", \"SHAFT\", \"UNDERGROUND\", \"NTS\", 1967], [1967, \"USA\", \"SHAFT\", \"UNDERGROUND\", \"NTS\", 1967], [1967, \"USA\", \"SHAFT\", \"UNDERGROUND\", \"NTS\", 1967], [1967, \"USA\", \"SHAFT\", \"UNDERGROUND\", \"NTS\", 1967], [1967, \"USA\", \"SHAFT\", \"UNDERGROUND\", \"NTS\", 1967], [1967, \"USA\", \"SHAFT\", \"UNDERGROUND\", \"NTS\", 1967], [1967, \"USA\", \"SHAFT\", \"UNDERGROUND\", \"NTS\", 1967], [1967, \"USA\", \"SHAFT\", \"UNDERGROUND\", \"NTS\", 1967], [1967, \"USA\", \"TUNNEL\", \"UNDERGROUND\", \"NTS\", 1967], [1967, \"USA\", \"SHAFT\", \"UNDERGROUND\", \"NTS\", 1967], [1967, \"USA\", \"SHAFT\", \"UNDERGROUND\", \"NTS\", 1967], [1967, \"USA\", \"SHAFT\", \"UNDERGROUND\", \"NTS\", 1967], [1967, \"USA\", \"SHAFT\", \"UNDERGROUND\", \"NTS\", 1967], [1967, \"USA\", \"SHAFT\", \"UNDERGROUND\", \"NTS\", 1967], [1967, \"USA\", \"SHAFT\", \"UNDERGROUND\", \"NTS\", 1967], [1967, \"USA\", \"SHAFT\", \"UNDERGROUND\", \"NTS\", 1967], [1967, \"USA\", \"TUNNEL\", \"UNDERGROUND\", \"NTS\", 1967], [1967, \"USA\", \"SHAFT\", \"UNDERGROUND\", \"NTS\", 1967], [1967, \"USA\", \"SHAFT\", \"UNDERGROUND\", \"NTS\", 1967], [1967, \"USA\", \"SHAFT\", \"UNDERGROUND\", \"NTS\", 1967], [1967, \"USA\", \"SHAFT\", \"UNDERGROUND\", \"NTS\", 1967], [1967, \"USA\", \"SHAFT\", \"UNDERGROUND\", \"NTS\", 1967], [1967, \"USA\", \"SHAFT\", \"UNDERGROUND\", \"NTS\", 1967], [1967, \"USA\", \"SHAFT\", \"UNDERGROUND\", \"NTS\", 1967], [1967, \"USA\", \"SHAFT\", \"UNDERGROUND\", \"NTS\", 1967], [1967, \"USA\", \"SHAFT\", \"UNDERGROUND\", \"NTS\", 1967], [1967, \"USA\", \"SHAFT\", \"UNDERGROUND\", \"NTS\", 1967], [1967, \"USA\", \"SHAFT\", \"UNDERGROUND\", \"NTS\", 1967], [1968, \"USA\", \"SHAFT\", \"UNDERGROUND\", \"NTS\", 1968], [1968, \"USA\", \"SHAFT\", \"UNDERGROUND\", \"NTS\", 1968], [1968, \"USA\", \"SHAFT\", \"UNDERGROUND\", \"NTS\", 1968], [1968, \"USA\", \"CRATER\", \"ATMOSPHERIC\", \"NTS\", 1968], [1968, \"USA\", \"SHAFT\", \"UNDERGROUND\", \"NTS\", 1968], [1968, \"USA\", \"SHAFT\", \"UNDERGROUND\", \"NTS\", 1968], [1968, \"USA\", \"SHAFT\", \"UNDERGROUND\", \"NTS\", 1968], [1968, \"USA\", \"TUNNEL\", \"UNDERGROUND\", \"NTS\", 1968], [1968, \"USA\", \"SHAFT\", \"UNDERGROUND\", \"NTS\", 1968], [1968, \"USA\", \"CRATER\", \"ATMOSPHERIC\", \"NTS\", 1968], [1968, \"USA\", \"SHAFT\", \"UNDERGROUND\", \"NTS\", 1968], [1968, \"USA\", \"SHAFT\", \"UNDERGROUND\", \"NTS\", 1968], [1968, \"USA\", \"SHAFT\", \"UNDERGROUND\", \"NTS\", 1968], [1968, \"USA\", \"SHAFT\", \"UNDERGROUND\", \"NTS\", 1968], [1968, \"USA\", \"SHAFT\", \"UNDERGROUND\", \"NTS\", 1968], [1968, \"USA\", \"SHAFT\", \"UNDERGROUND\", \"NTS\", 1968], [1968, \"USA\", \"SHAFT\", \"UNDERGROUND\", \"NTS\", 1968], [1968, \"USA\", \"SHAFT\", \"UNDERGROUND\", \"NTS\", 1968], [1968, \"USA\", \"SHAFT\", \"UNDERGROUND\", \"NTS\", 1968], [1968, \"USA\", \"SHAFT\", \"UNDERGROUND\", \"NTS\", 1968], [1968, \"USA\", \"SHAFT\", \"UNDERGROUND\", \"NTS\", 1968], [1968, \"USA\", \"SHAFT\", \"UNDERGROUND\", \"NTS\", 1968], [1968, \"USA\", \"SHAFT\", \"UNDERGROUND\", \"NTS\", 1968], [1968, \"USA\", \"SHAFT\", \"UNDERGROUND\", \"NTS\", 1968], [1968, \"USA\", \"SHAFT\", \"UNDERGROUND\", \"NTS\", 1968], [1968, \"USA\", \"SHAFT\", \"UNDERGROUND\", \"NTS\", 1968], [1968, \"USA\", \"SHAFT\", \"UNDERGROUND\", \"NTS\", 1968], [1968, \"USA\", \"SHAFT\", \"UNDERGROUND\", \"NTS\", 1968], [1968, \"USA\", \"SHAFT\", \"UNDERGROUND\", \"NTS\", 1968], [1968, \"USA\", \"SHAFT\", \"UNDERGROUND\", \"NTS\", 1968], [1968, \"USA\", \"SHAFT\", \"UNDERGROUND\", \"NTS\", 1968], [1968, \"USA\", \"SHAFT\", \"UNDERGROUND\", \"NTS\", 1968], [1968, \"USA\", \"SHAFT\", \"UNDERGROUND\", \"NTS\", 1968], [1968, \"USA\", \"SHAFT\", \"UNDERGROUND\", \"NTS\", 1968], [1968, \"USA\", \"SHAFT\", \"UNDERGROUND\", \"NTS\", 1968], [1968, \"USA\", \"SHAFT\", \"UNDERGROUND\", \"NTS\", 1968], [1968, \"USA\", \"SHAFT\", \"UNDERGROUND\", \"NTS\", 1968], [1968, \"USA\", \"TUNNEL\", \"UNDERGROUND\", \"NTS\", 1968], [1968, \"USA\", \"SHAFT\", \"UNDERGROUND\", \"NTS\", 1968], [1968, \"USA\", \"SHAFT\", \"UNDERGROUND\", \"NTS\", 1968], [1968, \"USA\", \"SHAFT\", \"UNDERGROUND\", \"NTS\", 1968], [1968, \"USA\", \"SHAFT\", \"UNDERGROUND\", \"NTS\", 1968], [1968, \"USA\", \"SHAFT\", \"UNDERGROUND\", \"NTS\", 1968], [1968, \"USA\", \"SHAFT\", \"UNDERGROUND\", \"NTS\", 1968], [1968, \"USA\", \"SHAFT\", \"UNDERGROUND\", \"NTS\", 1968], [1968, \"USA\", \"SHAFT\", \"UNDERGROUND\", \"NTS\", 1968], [1968, \"USA\", \"SHAFT\", \"UNDERGROUND\", \"NTS\", 1968], [1968, \"USA\", \"SHAFT\", \"UNDERGROUND\", \"NTS\", 1968], [1968, \"USA\", \"TUNNEL\", \"UNDERGROUND\", \"NTS\", 1968], [1968, \"USA\", \"SHAFT\", \"UNDERGROUND\", \"NTS\", 1968], [1968, \"USA\", \"CRATER\", \"ATMOSPHERIC\", \"NTS\", 1968], [1968, \"USA\", \"SHAFT\", \"UNDERGROUND\", \"NTS\", 1968], [1968, \"USA\", \"SHAFT\", \"UNDERGROUND\", \"NTS\", 1968], [1968, \"USA\", \"SHAFT\", \"UNDERGROUND\", \"NTS\", 1968], [1968, \"USA\", \"SHAFT\", \"UNDERGROUND\", \"NTS\", 1968], [1969, \"USA\", \"SHAFT\", \"UNDERGROUND\", \"NTS\", 1969], [1969, \"USA\", \"SHAFT\", \"UNDERGROUND\", \"NTS\", 1969], [1969, \"USA\", \"SHAFT\", \"UNDERGROUND\", \"NTS\", 1969], [1969, \"USA\", \"SHAFT\", \"UNDERGROUND\", \"NTS\", 1969], [1969, \"USA\", \"SHAFT\", \"UNDERGROUND\", \"NTS\", 1969], [1969, \"USA\", \"SHAFT\", \"UNDERGROUND\", \"NTS\", 1969], [1969, \"USA\", \"SHAFT\", \"UNDERGROUND\", \"NTS\", 1969], [1969, \"USA\", \"TUNNEL\", \"UNDERGROUND\", \"NTS\", 1969], [1969, \"USA\", \"SHAFT\", \"UNDERGROUND\", \"NTS\", 1969], [1969, \"USA\", \"SHAFT\", \"UNDERGROUND\", \"NTS\", 1969], [1969, \"USA\", \"SHAFT\", \"UNDERGROUND\", \"NTS\", 1969], [1969, \"USA\", \"SHAFT\", \"UNDERGROUND\", \"NTS\", 1969], [1969, \"USA\", \"SHAFT\", \"UNDERGROUND\", \"NTS\", 1969], [1969, \"USA\", \"SHAFT\", \"UNDERGROUND\", \"NTS\", 1969], [1969, \"USA\", \"SHAFT\", \"UNDERGROUND\", \"NTS\", 1969], [1969, \"USA\", \"SHAFT\", \"UNDERGROUND\", \"NTS\", 1969], [1969, \"USA\", \"SHAFT\", \"UNDERGROUND\", \"NTS\", 1969], [1969, \"USA\", \"SHAFT\", \"UNDERGROUND\", \"NTS\", 1969], [1969, \"USA\", \"SHAFT\", \"UNDERGROUND\", \"NTS\", 1969], [1969, \"USA\", \"SHAFT\", \"UNDERGROUND\", \"NTS\", 1969], [1969, \"USA\", \"SHAFT\", \"UNDERGROUND\", \"NTS\", 1969], [1969, \"USA\", \"SHAFT\", \"UNDERGROUND\", \"NTS\", 1969], [1969, \"USA\", \"SHAFT\", \"UNDERGROUND\", \"NTS\", 1969], [1969, \"USA\", \"TUNNEL\", \"UNDERGROUND\", \"NTS\", 1969], [1969, \"USA\", \"SHAFT\", \"UNDERGROUND\", \"NTS\", 1969], [1969, \"USA\", \"SHAFT\", \"UNDERGROUND\", \"NTS\", 1969], [1969, \"USA\", \"SHAFT\", \"UNDERGROUND\", \"NTS\", 1969], [1969, \"USA\", \"SHAFT\", \"UNDERGROUND\", \"NTS\", 1969], [1969, \"USA\", \"SHAFT\", \"UNDERGROUND\", \"NTS\", 1969], [1969, \"USA\", \"SHAFT\", \"UNDERGROUND\", \"NTS\", 1969], [1969, \"USA\", \"SHAFT\", \"UNDERGROUND\", \"NTS\", 1969], [1969, \"USA\", \"SHAFT\", \"UNDERGROUND\", \"NTS\", 1969], [1969, \"USA\", \"SHAFT\", \"UNDERGROUND\", \"NTS\", 1969], [1969, \"USA\", \"SHAFT\", \"UNDERGROUND\", \"NTS\", 1969], [1969, \"USA\", \"SHAFT\", \"UNDERGROUND\", \"NTS\", 1969], [1969, \"USA\", \"SHAFT\", \"UNDERGROUND\", \"NTS\", 1969], [1969, \"USA\", \"SHAFT\", \"UNDERGROUND\", \"NTS\", 1969], [1969, \"USA\", \"SHAFT\", \"UNDERGROUND\", \"NTS\", 1969], [1969, \"USA\", \"TUNNEL\", \"UNDERGROUND\", \"NTS\", 1969], [1969, \"USA\", \"SHAFT\", \"UNDERGROUND\", \"NTS\", 1969], [1969, \"USA\", \"SHAFT\", \"UNDERGROUND\", \"NTS\", 1969], [1969, \"USA\", \"SHAFT\", \"UNDERGROUND\", \"NTS\", 1969], [1969, \"USA\", \"SHAFT\", \"UNDERGROUND\", \"NTS\", 1969], [1969, \"USA\", \"SHAFT\", \"UNDERGROUND\", \"NTS\", 1969], [1970, \"USA\", \"SHAFT\", \"UNDERGROUND\", \"NTS\", 1970], [1970, \"USA\", \"SHAFT\", \"UNDERGROUND\", \"NTS\", 1970], [1970, \"USA\", \"SHAFT\", \"UNDERGROUND\", \"NTS\", 1970], [1970, \"USA\", \"SHAFT\", \"UNDERGROUND\", \"NTS\", 1970], [1970, \"USA\", \"SHAFT\", \"UNDERGROUND\", \"NTS\", 1970], [1970, \"USA\", \"TUNNEL\", \"UNDERGROUND\", \"NTS\", 1970], [1970, \"USA\", \"SHAFT\", \"UNDERGROUND\", \"NTS\", 1970], [1970, \"USA\", \"SHAFT\", \"UNDERGROUND\", \"NTS\", 1970], [1970, \"USA\", \"SHAFT\", \"UNDERGROUND\", \"NTS\", 1970], [1970, \"USA\", \"SHAFT\", \"UNDERGROUND\", \"NTS\", 1970], [1970, \"USA\", \"SHAFT\", \"UNDERGROUND\", \"NTS\", 1970], [1970, \"USA\", \"SHAFT\", \"UNDERGROUND\", \"NTS\", 1970], [1970, \"USA\", \"SHAFT\", \"UNDERGROUND\", \"NTS\", 1970], [1970, \"USA\", \"SHAFT\", \"UNDERGROUND\", \"NTS\", 1970], [1970, \"USA\", \"SHAFT\", \"UNDERGROUND\", \"NTS\", 1970], [1970, \"USA\", \"SHAFT\", \"UNDERGROUND\", \"NTS\", 1970], [1970, \"USA\", \"SHAFT\", \"UNDERGROUND\", \"NTS\", 1970], [1970, \"USA\", \"SHAFT\", \"UNDERGROUND\", \"NTS\", 1970], [1970, \"USA\", \"TUNNEL\", \"UNDERGROUND\", \"NTS\", 1970], [1970, \"USA\", \"TUNNEL\", \"UNDERGROUND\", \"NTS\", 1970], [1970, \"USA\", \"SHAFT\", \"UNDERGROUND\", \"NTS\", 1970], [1970, \"USA\", \"SHAFT\", \"UNDERGROUND\", \"NTS\", 1970], [1970, \"USA\", \"SHAFT\", \"UNDERGROUND\", \"NTS\", 1970], [1970, \"USA\", \"TUNNEL\", \"UNDERGROUND\", \"NTS\", 1970], [1970, \"USA\", \"SHAFT\", \"UNDERGROUND\", \"NTS\", 1970], [1970, \"USA\", \"SHAFT\", \"UNDERGROUND\", \"NTS\", 1970], [1970, \"USA\", \"SHAFT\", \"UNDERGROUND\", \"NTS\", 1970], [1970, \"USA\", \"SHAFT\", \"UNDERGROUND\", \"NTS\", 1970], [1970, \"USA\", \"SHAFT\", \"UNDERGROUND\", \"NTS\", 1970], [1970, \"USA\", \"SHAFT\", \"UNDERGROUND\", \"NTS\", 1970], [1970, \"USA\", \"SHAFT\", \"UNDERGROUND\", \"NTS\", 1970], [1970, \"USA\", \"SHAFT\", \"UNDERGROUND\", \"NTS\", 1970], [1970, \"USA\", \"SHAFT\", \"UNDERGROUND\", \"NTS\", 1970], [1970, \"USA\", \"SHAFT\", \"UNDERGROUND\", \"NTS\", 1970], [1970, \"USA\", \"SHAFT\", \"UNDERGROUND\", \"NTS\", 1970], [1970, \"USA\", \"SHAFT\", \"UNDERGROUND\", \"NTS\", 1970], [1970, \"USA\", \"SHAFT\", \"UNDERGROUND\", \"NTS\", 1970], [1970, \"USA\", \"SHAFT\", \"UNDERGROUND\", \"NTS\", 1970], [1970, \"USA\", \"SHAFT\", \"UNDERGROUND\", \"NTS\", 1970], [1971, \"USA\", \"SHAFT\", \"UNDERGROUND\", \"NTS\", 1971], [1971, \"USA\", \"SHAFT\", \"UNDERGROUND\", \"NTS\", 1971], [1971, \"USA\", \"SHAFT\", \"UNDERGROUND\", \"NTS\", 1971], [1971, \"USA\", \"SHAFT\", \"UNDERGROUND\", \"NTS\", 1971], [1971, \"USA\", \"TUNNEL\", \"UNDERGROUND\", \"NTS\", 1971], [1971, \"USA\", \"TUNNEL\", \"UNDERGROUND\", \"NTS\", 1971], [1971, \"USA\", \"SHAFT\", \"UNDERGROUND\", \"NTS\", 1971], [1971, \"USA\", \"SHAFT\", \"UNDERGROUND\", \"NTS\", 1971], [1971, \"USA\", \"SHAFT\", \"UNDERGROUND\", \"NTS\", 1971], [1971, \"USA\", \"SHAFT\", \"UNDERGROUND\", \"NTS\", 1971], [1971, \"USA\", \"SHAFT\", \"UNDERGROUND\", \"NTS\", 1971], [1971, \"USA\", \"SHAFT\", \"UNDERGROUND\", \"NTS\", 1971], [1971, \"USA\", \"SHAFT\", \"UNDERGROUND\", \"NTS\", 1971], [1971, \"USA\", \"SHAFT\", \"UNDERGROUND\", \"NTS\", 1971], [1971, \"USA\", \"SHAFT\", \"UNDERGROUND\", \"NTS\", 1971], [1971, \"USA\", \"SHAFT\", \"UNDERGROUND\", \"NTS\", 1971], [1971, \"USA\", \"SHAFT\", \"UNDERGROUND\", \"NTS\", 1971], [1971, \"USA\", \"SHAFT\", \"UNDERGROUND\", \"NTS\", 1971], [1971, \"USA\", \"SHAFT\", \"UNDERGROUND\", \"NTS\", 1971], [1971, \"USA\", \"SHAFT\", \"UNDERGROUND\", \"NTS\", 1971], [1971, \"USA\", \"SHAFT\", \"UNDERGROUND\", \"NTS\", 1971], [1971, \"USA\", \"SHAFT\", \"UNDERGROUND\", \"NTS\", 1971], [1971, \"USA\", \"SHAFT\", \"UNDERGROUND\", \"NTS\", 1971], [1972, \"USA\", \"SHAFT\", \"UNDERGROUND\", \"NTS\", 1972], [1972, \"USA\", \"SHAFT\", \"UNDERGROUND\", \"NTS\", 1972], [1972, \"USA\", \"SHAFT\", \"UNDERGROUND\", \"NTS\", 1972], [1972, \"USA\", \"SHAFT\", \"UNDERGROUND\", \"NTS\", 1972], [1972, \"USA\", \"SHAFT\", \"UNDERGROUND\", \"NTS\", 1972], [1972, \"USA\", \"SHAFT\", \"UNDERGROUND\", \"NTS\", 1972], [1972, \"USA\", \"SHAFT\", \"UNDERGROUND\", \"NTS\", 1972], [1972, \"USA\", \"TUNNEL\", \"UNDERGROUND\", \"NTS\", 1972], [1972, \"USA\", \"SHAFT\", \"UNDERGROUND\", \"NTS\", 1972], [1972, \"USA\", \"SHAFT\", \"UNDERGROUND\", \"NTS\", 1972], [1972, \"USA\", \"SHAFT\", \"UNDERGROUND\", \"NTS\", 1972], [1972, \"USA\", \"SHAFT\", \"UNDERGROUND\", \"NTS\", 1972], [1972, \"USA\", \"SHAFT\", \"UNDERGROUND\", \"NTS\", 1972], [1972, \"USA\", \"SHAFT\", \"UNDERGROUND\", \"NTS\", 1972], [1972, \"USA\", \"SHAFT\", \"UNDERGROUND\", \"NTS\", 1972], [1972, \"USA\", \"TUNNEL\", \"UNDERGROUND\", \"NTS\", 1972], [1972, \"USA\", \"SHAFT\", \"UNDERGROUND\", \"NTS\", 1972], [1972, \"USA\", \"SHAFT\", \"UNDERGROUND\", \"NTS\", 1972], [1972, \"USA\", \"SHAFT\", \"UNDERGROUND\", \"NTS\", 1972], [1972, \"USA\", \"SHAFT\", \"UNDERGROUND\", \"NTS\", 1972], [1972, \"USA\", \"SHAFT\", \"UNDERGROUND\", \"NTS\", 1972], [1972, \"USA\", \"SHAFT\", \"UNDERGROUND\", \"NTS\", 1972], [1972, \"USA\", \"SHAFT\", \"UNDERGROUND\", \"NTS\", 1972], [1972, \"USA\", \"SHAFT\", \"UNDERGROUND\", \"NTS\", 1972], [1972, \"USA\", \"SHAFT\", \"UNDERGROUND\", \"NTS\", 1972], [1972, \"USA\", \"SHAFT\", \"UNDERGROUND\", \"NTS\", 1972], [1972, \"USA\", \"SHAFT\", \"UNDERGROUND\", \"NTS\", 1972], [1973, \"USA\", \"SHAFT\", \"UNDERGROUND\", \"NTS\", 1973], [1973, \"USA\", \"SHAFT\", \"UNDERGROUND\", \"NTS\", 1973], [1973, \"USA\", \"SHAFT\", \"UNDERGROUND\", \"NTS\", 1973], [1973, \"USA\", \"SHAFT\", \"UNDERGROUND\", \"NTS\", 1973], [1973, \"USA\", \"SHAFT\", \"UNDERGROUND\", \"NTS\", 1973], [1973, \"USA\", \"SHAFT\", \"UNDERGROUND\", \"NTS\", 1973], [1973, \"USA\", \"SHAFT\", \"UNDERGROUND\", \"NTS\", 1973], [1973, \"USA\", \"SHAFT\", \"UNDERGROUND\", \"NTS\", 1973], [1973, \"USA\", \"SHAFT\", \"UNDERGROUND\", \"NTS\", 1973], [1973, \"USA\", \"SHAFT\", \"UNDERGROUND\", \"NTS\", 1973], [1973, \"USA\", \"TUNNEL\", \"UNDERGROUND\", \"NTS\", 1973], [1973, \"USA\", \"SHAFT\", \"UNDERGROUND\", \"NTS\", 1973], [1973, \"USA\", \"SHAFT\", \"UNDERGROUND\", \"NTS\", 1973], [1973, \"USA\", \"SHAFT\", \"UNDERGROUND\", \"NTS\", 1973], [1973, \"USA\", \"SHAFT\", \"UNDERGROUND\", \"NTS\", 1973], [1973, \"USA\", \"SHAFT\", \"UNDERGROUND\", \"NTS\", 1973], [1973, \"USA\", \"SHAFT\", \"UNDERGROUND\", \"NTS\", 1973], [1973, \"USA\", \"TUNNEL\", \"UNDERGROUND\", \"NTS\", 1973], [1973, \"USA\", \"SHAFT\", \"UNDERGROUND\", \"NTS\", 1973], [1973, \"USA\", \"SHAFT\", \"UNDERGROUND\", \"NTS\", 1973], [1973, \"USA\", \"SHAFT\", \"UNDERGROUND\", \"NTS\", 1973], [1973, \"USA\", \"SHAFT\", \"UNDERGROUND\", \"NTS\", 1973], [1973, \"USA\", \"SHAFT\", \"UNDERGROUND\", \"NTS\", 1973], [1974, \"USA\", \"SHAFT\", \"UNDERGROUND\", \"NTS\", 1974], [1974, \"USA\", \"SHAFT\", \"UNDERGROUND\", \"NTS\", 1974], [1974, \"USA\", \"SHAFT\", \"UNDERGROUND\", \"NTS\", 1974], [1974, \"USA\", \"SHAFT\", \"UNDERGROUND\", \"NTS\", 1974], [1974, \"USA\", \"SHAFT\", \"UNDERGROUND\", \"NTS\", 1974], [1974, \"USA\", \"SHAFT\", \"UNDERGROUND\", \"NTS\", 1974], [1974, \"USA\", \"SHAFT\", \"UNDERGROUND\", \"NTS\", 1974], [1974, \"USA\", \"SHAFT\", \"UNDERGROUND\", \"NTS\", 1974], [1974, \"UK\", \"SHAFT\", \"UNDERGROUND\", \"NTS\", 1974], [1974, \"USA\", \"SHAFT\", \"UNDERGROUND\", \"NTS\", 1974], [1974, \"USA\", \"TUNNEL\", \"UNDERGROUND\", \"NTS\", 1974], [1974, \"USA\", \"SHAFT\", \"UNDERGROUND\", \"NTS\", 1974], [1974, \"USA\", \"SHAFT\", \"UNDERGROUND\", \"NTS\", 1974], [1974, \"USA\", \"SHAFT\", \"UNDERGROUND\", \"NTS\", 1974], [1974, \"USA\", \"SHAFT\", \"UNDERGROUND\", \"NTS\", 1974], [1974, \"USA\", \"SHAFT\", \"UNDERGROUND\", \"NTS\", 1974], [1974, \"USA\", \"SHAFT\", \"UNDERGROUND\", \"NTS\", 1974], [1974, \"USA\", \"SHAFT\", \"UNDERGROUND\", \"NTS\", 1974], [1974, \"USA\", \"SHAFT\", \"UNDERGROUND\", \"NTS\", 1974], [1974, \"USA\", \"TUNNEL\", \"UNDERGROUND\", \"NTS\", 1974], [1974, \"USA\", \"SHAFT\", \"UNDERGROUND\", \"NTS\", 1974], [1974, \"USA\", \"SHAFT\", \"UNDERGROUND\", \"NTS\", 1974], [1974, \"USA\", \"SHAFT\", \"UNDERGROUND\", \"NTS\", 1974], [1975, \"USA\", \"SHAFT\", \"UNDERGROUND\", \"NTS\", 1975], [1975, \"USA\", \"SHAFT\", \"UNDERGROUND\", \"NTS\", 1975], [1975, \"USA\", \"SHAFT\", \"UNDERGROUND\", \"NTS\", 1975], [1975, \"USA\", \"SHAFT\", \"UNDERGROUND\", \"NTS\", 1975], [1975, \"USA\", \"SHAFT\", \"UNDERGROUND\", \"NTS\", 1975], [1975, \"USA\", \"TUNNEL\", \"UNDERGROUND\", \"NTS\", 1975], [1975, \"USA\", \"SHAFT\", \"UNDERGROUND\", \"NTS\", 1975], [1975, \"USA\", \"SHAFT\", \"UNDERGROUND\", \"NTS\", 1975], [1975, \"USA\", \"SHAFT\", \"UNDERGROUND\", \"NTS\", 1975], [1975, \"USA\", \"SHAFT\", \"UNDERGROUND\", \"NTS\", 1975], [1975, \"USA\", \"SHAFT\", \"UNDERGROUND\", \"NTS\", 1975], [1975, \"USA\", \"SHAFT\", \"UNDERGROUND\", \"NTS\", 1975], [1975, \"USA\", \"SHAFT\", \"UNDERGROUND\", \"NTS\", 1975], [1975, \"USA\", \"SHAFT\", \"UNDERGROUND\", \"NTS\", 1975], [1975, \"USA\", \"SHAFT\", \"UNDERGROUND\", \"NTS\", 1975], [1975, \"USA\", \"SHAFT\", \"UNDERGROUND\", \"NTS\", 1975], [1975, \"USA\", \"TUNNEL\", \"UNDERGROUND\", \"NTS\", 1975], [1975, \"USA\", \"SHAFT\", \"UNDERGROUND\", \"NTS\", 1975], [1975, \"USA\", \"SHAFT\", \"UNDERGROUND\", \"NTS\", 1975], [1975, \"USA\", \"SHAFT\", \"UNDERGROUND\", \"NTS\", 1975], [1975, \"USA\", \"SHAFT\", \"UNDERGROUND\", \"NTS\", 1975], [1975, \"USA\", \"SHAFT\", \"UNDERGROUND\", \"NTS\", 1975], [1976, \"USA\", \"SHAFT\", \"UNDERGROUND\", \"NTS\", 1976], [1976, \"USA\", \"SHAFT\", \"UNDERGROUND\", \"NTS\", 1976], [1976, \"USA\", \"SHAFT\", \"UNDERGROUND\", \"NTS\", 1976], [1976, \"USA\", \"SHAFT\", \"UNDERGROUND\", \"NTS\", 1976], [1976, \"USA\", \"SHAFT\", \"UNDERGROUND\", \"NTS\", 1976], [1976, \"USA\", \"SHAFT\", \"UNDERGROUND\", \"NTS\", 1976], [1976, \"USA\", \"SHAFT\", \"UNDERGROUND\", \"NTS\", 1976], [1976, \"USA\", \"SHAFT\", \"UNDERGROUND\", \"NTS\", 1976], [1976, \"USA\", \"SHAFT\", \"UNDERGROUND\", \"NTS\", 1976], [1976, \"USA\", \"SHAFT\", \"UNDERGROUND\", \"NTS\", 1976], [1976, \"USA\", \"TUNNEL\", \"UNDERGROUND\", \"NTS\", 1976], [1976, \"USA\", \"SHAFT\", \"UNDERGROUND\", \"NTS\", 1976], [1976, \"USA\", \"SHAFT\", \"UNDERGROUND\", \"NTS\", 1976], [1976, \"UK\", \"SHAFT\", \"UNDERGROUND\", \"NTS\", 1976], [1976, \"USA\", \"SHAFT\", \"UNDERGROUND\", \"NTS\", 1976], [1976, \"USA\", \"SHAFT\", \"UNDERGROUND\", \"NTS\", 1976], [1976, \"USA\", \"SHAFT\", \"UNDERGROUND\", \"NTS\", 1976], [1976, \"USA\", \"SHAFT\", \"UNDERGROUND\", \"NTS\", 1976], [1976, \"USA\", \"SHAFT\", \"UNDERGROUND\", \"NTS\", 1976], [1976, \"USA\", \"SHAFT\", \"UNDERGROUND\", \"NTS\", 1976], [1976, \"USA\", \"SHAFT\", \"UNDERGROUND\", \"NTS\", 1976], [1977, \"USA\", \"SHAFT\", \"UNDERGROUND\", \"NTS\", 1977], [1977, \"USA\", \"SHAFT\", \"UNDERGROUND\", \"NTS\", 1977], [1977, \"USA\", \"SHAFT\", \"UNDERGROUND\", \"NTS\", 1977], [1977, \"USA\", \"SHAFT\", \"UNDERGROUND\", \"NTS\", 1977], [1977, \"USA\", \"SHAFT\", \"UNDERGROUND\", \"NTS\", 1977], [1977, \"USA\", \"SHAFT\", \"UNDERGROUND\", \"NTS\", 1977], [1977, \"USA\", \"SHAFT\", \"UNDERGROUND\", \"NTS\", 1977], [1977, \"USA\", \"SHAFT\", \"UNDERGROUND\", \"NTS\", 1977], [1977, \"USA\", \"SHAFT\", \"UNDERGROUND\", \"NTS\", 1977], [1977, \"USA\", \"SHAFT\", \"UNDERGROUND\", \"NTS\", 1977], [1977, \"USA\", \"SHAFT\", \"UNDERGROUND\", \"NTS\", 1977], [1977, \"USA\", \"SHAFT\", \"UNDERGROUND\", \"NTS\", 1977], [1977, \"USA\", \"SHAFT\", \"UNDERGROUND\", \"NTS\", 1977], [1977, \"USA\", \"SHAFT\", \"UNDERGROUND\", \"NTS\", 1977], [1977, \"USA\", \"SHAFT\", \"UNDERGROUND\", \"NTS\", 1977], [1977, \"USA\", \"TUNNEL\", \"UNDERGROUND\", \"NTS\", 1977], [1977, \"USA\", \"SHAFT\", \"UNDERGROUND\", \"NTS\", 1977], [1977, \"USA\", \"SHAFT\", \"UNDERGROUND\", \"NTS\", 1977], [1977, \"USA\", \"SHAFT\", \"UNDERGROUND\", \"NTS\", 1977], [1977, \"USA\", \"SHAFT\", \"UNDERGROUND\", \"NTS\", 1977], [1978, \"USA\", \"SHAFT\", \"UNDERGROUND\", \"NTS\", 1978], [1978, \"USA\", \"SHAFT\", \"UNDERGROUND\", \"NTS\", 1978], [1978, \"USA\", \"SHAFT\", \"UNDERGROUND\", \"NTS\", 1978], [1978, \"USA\", \"SHAFT\", \"UNDERGROUND\", \"NTS\", 1978], [1978, \"USA\", \"SHAFT\", \"UNDERGROUND\", \"NTS\", 1978], [1978, \"UK\", \"SHAFT\", \"UNDERGROUND\", \"NTS\", 1978], [1978, \"USA\", \"SHAFT\", \"UNDERGROUND\", \"NTS\", 1978], [1978, \"USA\", \"SHAFT\", \"UNDERGROUND\", \"NTS\", 1978], [1978, \"USA\", \"SHAFT\", \"UNDERGROUND\", \"NTS\", 1978], [1978, \"USA\", \"SHAFT\", \"UNDERGROUND\", \"NTS\", 1978], [1978, \"USA\", \"SHAFT\", \"UNDERGROUND\", \"NTS\", 1978], [1978, \"USA\", \"SHAFT\", \"UNDERGROUND\", \"NTS\", 1978], [1978, \"USA\", \"SHAFT\", \"UNDERGROUND\", \"NTS\", 1978], [1978, \"USA\", \"TUNNEL\", \"UNDERGROUND\", \"NTS\", 1978], [1978, \"USA\", \"SHAFT\", \"UNDERGROUND\", \"NTS\", 1978], [1978, \"USA\", \"SHAFT\", \"UNDERGROUND\", \"NTS\", 1978], [1978, \"USA\", \"SHAFT\", \"UNDERGROUND\", \"NTS\", 1978], [1978, \"USA\", \"SHAFT\", \"UNDERGROUND\", \"NTS\", 1978], [1978, \"UK\", \"SHAFT\", \"UNDERGROUND\", \"NTS\", 1978], [1978, \"USA\", \"SHAFT\", \"UNDERGROUND\", \"NTS\", 1978], [1978, \"USA\", \"SHAFT\", \"UNDERGROUND\", \"NTS\", 1978], [1979, \"USA\", \"SHAFT\", \"UNDERGROUND\", \"NTS\", 1979], [1979, \"USA\", \"SHAFT\", \"UNDERGROUND\", \"NTS\", 1979], [1979, \"USA\", \"SHAFT\", \"UNDERGROUND\", \"NTS\", 1979], [1979, \"USA\", \"SHAFT\", \"UNDERGROUND\", \"NTS\", 1979], [1979, \"USA\", \"SHAFT\", \"UNDERGROUND\", \"NTS\", 1979], [1979, \"USA\", \"SHAFT\", \"UNDERGROUND\", \"NTS\", 1979], [1979, \"USA\", \"SHAFT\", \"UNDERGROUND\", \"NTS\", 1979], [1979, \"USA\", \"SHAFT\", \"UNDERGROUND\", \"NTS\", 1979], [1979, \"USA\", \"SHAFT\", \"UNDERGROUND\", \"NTS\", 1979], [1979, \"USA\", \"SHAFT\", \"UNDERGROUND\", \"NTS\", 1979], [1979, \"UK\", \"SHAFT\", \"UNDERGROUND\", \"NTS\", 1979], [1979, \"USA\", \"SHAFT\", \"UNDERGROUND\", \"NTS\", 1979], [1979, \"USA\", \"SHAFT\", \"UNDERGROUND\", \"NTS\", 1979], [1979, \"USA\", \"SHAFT\", \"UNDERGROUND\", \"NTS\", 1979], [1979, \"USA\", \"SHAFT\", \"UNDERGROUND\", \"NTS\", 1979], [1979, \"USA\", \"SHAFT\", \"UNDERGROUND\", \"NTS\", 1979], [1980, \"USA\", \"SHAFT\", \"UNDERGROUND\", \"NTS\", 1980], [1980, \"USA\", \"SHAFT\", \"UNDERGROUND\", \"NTS\", 1980], [1980, \"USA\", \"SHAFT\", \"UNDERGROUND\", \"NTS\", 1980], [1980, \"USA\", \"SHAFT\", \"UNDERGROUND\", \"NTS\", 1980], [1980, \"UK\", \"SHAFT\", \"UNDERGROUND\", \"NTS\", 1980], [1980, \"USA\", \"SHAFT\", \"UNDERGROUND\", \"NTS\", 1980], [1980, \"USA\", \"SHAFT\", \"UNDERGROUND\", \"NTS\", 1980], [1980, \"USA\", \"SHAFT\", \"UNDERGROUND\", \"NTS\", 1980], [1980, \"USA\", \"SHAFT\", \"UNDERGROUND\", \"NTS\", 1980], [1980, \"USA\", \"SHAFT\", \"UNDERGROUND\", \"NTS\", 1980], [1980, \"USA\", \"SHAFT\", \"UNDERGROUND\", \"NTS\", 1980], [1980, \"USA\", \"SHAFT\", \"UNDERGROUND\", \"NTS\", 1980], [1980, \"USA\", \"SHAFT\", \"UNDERGROUND\", \"NTS\", 1980], [1980, \"UK\", \"SHAFT\", \"UNDERGROUND\", \"NTS\", 1980], [1980, \"USA\", \"TUNNEL\", \"UNDERGROUND\", \"NTS\", 1980], [1980, \"USA\", \"SHAFT\", \"UNDERGROUND\", \"NTS\", 1980], [1980, \"UK\", \"SHAFT\", \"UNDERGROUND\", \"NTS\", 1980], [1981, \"USA\", \"SHAFT\", \"UNDERGROUND\", \"NTS\", 1981], [1981, \"USA\", \"SHAFT\", \"UNDERGROUND\", \"NTS\", 1981], [1981, \"USA\", \"SHAFT\", \"UNDERGROUND\", \"NTS\", 1981], [1981, \"USA\", \"SHAFT\", \"UNDERGROUND\", \"NTS\", 1981], [1981, \"USA\", \"SHAFT\", \"UNDERGROUND\", \"NTS\", 1981], [1981, \"USA\", \"SHAFT\", \"UNDERGROUND\", \"NTS\", 1981], [1981, \"USA\", \"SHAFT\", \"UNDERGROUND\", \"NTS\", 1981], [1981, \"USA\", \"SHAFT\", \"UNDERGROUND\", \"NTS\", 1981], [1981, \"USA\", \"SHAFT\", \"UNDERGROUND\", \"NTS\", 1981], [1981, \"USA\", \"SHAFT\", \"UNDERGROUND\", \"NTS\", 1981], [1981, \"USA\", \"SHAFT\", \"UNDERGROUND\", \"NTS\", 1981], [1981, \"USA\", \"SHAFT\", \"UNDERGROUND\", \"NTS\", 1981], [1981, \"USA\", \"SHAFT\", \"UNDERGROUND\", \"NTS\", 1981], [1981, \"USA\", \"SHAFT\", \"UNDERGROUND\", \"NTS\", 1981], [1981, \"UK\", \"SHAFT\", \"UNDERGROUND\", \"NTS\", 1981], [1981, \"USA\", \"SHAFT\", \"UNDERGROUND\", \"NTS\", 1981], [1981, \"USA\", \"SHAFT\", \"UNDERGROUND\", \"NTS\", 1981], [1982, \"USA\", \"SHAFT\", \"UNDERGROUND\", \"NTS\", 1982], [1982, \"USA\", \"SHAFT\", \"UNDERGROUND\", \"NTS\", 1982], [1982, \"USA\", \"SHAFT\", \"UNDERGROUND\", \"NTS\", 1982], [1982, \"USA\", \"SHAFT\", \"UNDERGROUND\", \"NTS\", 1982], [1982, \"UK\", \"SHAFT\", \"UNDERGROUND\", \"NTS\", 1982], [1982, \"USA\", \"SHAFT\", \"UNDERGROUND\", \"NTS\", 1982], [1982, \"USA\", \"SHAFT\", \"UNDERGROUND\", \"NTS\", 1982], [1982, \"USA\", \"SHAFT\", \"UNDERGROUND\", \"NTS\", 1982], [1982, \"USA\", \"SHAFT\", \"UNDERGROUND\", \"NTS\", 1982], [1982, \"USA\", \"SHAFT\", \"UNDERGROUND\", \"NTS\", 1982], [1982, \"USA\", \"SHAFT\", \"UNDERGROUND\", \"NTS\", 1982], [1982, \"USA\", \"SHAFT\", \"UNDERGROUND\", \"NTS\", 1982], [1982, \"USA\", \"SHAFT\", \"UNDERGROUND\", \"NTS\", 1982], [1982, \"USA\", \"TUNNEL\", \"UNDERGROUND\", \"NTS\", 1982], [1982, \"USA\", \"TUNNEL\", \"UNDERGROUND\", \"NTS\", 1982], [1982, \"USA\", \"SHAFT\", \"UNDERGROUND\", \"NTS\", 1982], [1982, \"USA\", \"SHAFT\", \"UNDERGROUND\", \"NTS\", 1982], [1982, \"USA\", \"SHAFT\", \"UNDERGROUND\", \"NTS\", 1982], [1982, \"USA\", \"SHAFT\", \"UNDERGROUND\", \"NTS\", 1982], [1983, \"USA\", \"SHAFT\", \"UNDERGROUND\", \"NTS\", 1983], [1983, \"USA\", \"SHAFT\", \"UNDERGROUND\", \"NTS\", 1983], [1983, \"USA\", \"SHAFT\", \"UNDERGROUND\", \"NTS\", 1983], [1983, \"USA\", \"SHAFT\", \"UNDERGROUND\", \"NTS\", 1983], [1983, \"UK\", \"SHAFT\", \"UNDERGROUND\", \"NTS\", 1983], [1983, \"USA\", \"SHAFT\", \"UNDERGROUND\", \"NTS\", 1983], [1983, \"USA\", \"SHAFT\", \"UNDERGROUND\", \"NTS\", 1983], [1983, \"USA\", \"TUNNEL\", \"UNDERGROUND\", \"NTS\", 1983], [1983, \"USA\", \"SHAFT\", \"UNDERGROUND\", \"NTS\", 1983], [1983, \"USA\", \"SHAFT\", \"UNDERGROUND\", \"NTS\", 1983], [1983, \"USA\", \"SHAFT\", \"UNDERGROUND\", \"NTS\", 1983], [1983, \"USA\", \"SHAFT\", \"UNDERGROUND\", \"NTS\", 1983], [1983, \"USA\", \"SHAFT\", \"UNDERGROUND\", \"NTS\", 1983], [1983, \"USA\", \"TUNNEL\", \"UNDERGROUND\", \"NTS\", 1983], [1983, \"USA\", \"SHAFT\", \"UNDERGROUND\", \"NTS\", 1983], [1983, \"USA\", \"SHAFT\", \"UNDERGROUND\", \"NTS\", 1983], [1983, \"USA\", \"SHAFT\", \"UNDERGROUND\", \"NTS\", 1983], [1983, \"USA\", \"SHAFT\", \"UNDERGROUND\", \"NTS\", 1983], [1983, \"USA\", \"SHAFT\", \"UNDERGROUND\", \"NTS\", 1983], [1984, \"USA\", \"SHAFT\", \"UNDERGROUND\", \"NTS\", 1984], [1984, \"USA\", \"TUNNEL\", \"UNDERGROUND\", \"NTS\", 1984], [1984, \"USA\", \"SHAFT\", \"UNDERGROUND\", \"NTS\", 1984], [1984, \"USA\", \"SHAFT\", \"UNDERGROUND\", \"NTS\", 1984], [1984, \"UK\", \"SHAFT\", \"UNDERGROUND\", \"NTS\", 1984], [1984, \"USA\", \"SHAFT\", \"UNDERGROUND\", \"NTS\", 1984], [1984, \"USA\", \"SHAFT\", \"UNDERGROUND\", \"NTS\", 1984], [1984, \"USA\", \"SHAFT\", \"UNDERGROUND\", \"NTS\", 1984], [1984, \"USA\", \"SHAFT\", \"UNDERGROUND\", \"NTS\", 1984], [1984, \"USA\", \"SHAFT\", \"UNDERGROUND\", \"NTS\", 1984], [1984, \"USA\", \"SHAFT\", \"UNDERGROUND\", \"NTS\", 1984], [1984, \"USA\", \"SHAFT\", \"UNDERGROUND\", \"NTS\", 1984], [1984, \"USA\", \"SHAFT\", \"UNDERGROUND\", \"NTS\", 1984], [1984, \"USA\", \"SHAFT\", \"UNDERGROUND\", \"NTS\", 1984], [1984, \"USA\", \"SHAFT\", \"UNDERGROUND\", \"NTS\", 1984], [1984, \"USA\", \"SHAFT\", \"UNDERGROUND\", \"NTS\", 1984], [1984, \"USA\", \"SHAFT\", \"UNDERGROUND\", \"NTS\", 1984], [1984, \"UK\", \"SHAFT\", \"UNDERGROUND\", \"NTS\", 1984], [1984, \"USA\", \"SHAFT\", \"UNDERGROUND\", \"NTS\", 1984], [1984, \"USA\", \"SHAFT\", \"UNDERGROUND\", \"NTS\", 1984], [1985, \"USA\", \"SHAFT\", \"UNDERGROUND\", \"NTS\", 1985], [1985, \"USA\", \"SHAFT\", \"UNDERGROUND\", \"NTS\", 1985], [1985, \"USA\", \"SHAFT\", \"UNDERGROUND\", \"NTS\", 1985], [1985, \"USA\", \"TUNNEL\", \"UNDERGROUND\", \"NTS\", 1985], [1985, \"USA\", \"SHAFT\", \"UNDERGROUND\", \"NTS\", 1985], [1985, \"USA\", \"SHAFT\", \"UNDERGROUND\", \"NTS\", 1985], [1985, \"USA\", \"SHAFT\", \"UNDERGROUND\", \"NTS\", 1985], [1985, \"USA\", \"SHAFT\", \"UNDERGROUND\", \"NTS\", 1985], [1985, \"USA\", \"SHAFT\", \"UNDERGROUND\", \"NTS\", 1985], [1985, \"USA\", \"SHAFT\", \"UNDERGROUND\", \"NTS\", 1985], [1985, \"USA\", \"SHAFT\", \"UNDERGROUND\", \"NTS\", 1985], [1985, \"USA\", \"SHAFT\", \"UNDERGROUND\", \"NTS\", 1985], [1985, \"USA\", \"TUNNEL\", \"UNDERGROUND\", \"NTS\", 1985], [1985, \"USA\", \"TUNNEL\", \"UNDERGROUND\", \"NTS\", 1985], [1985, \"USA\", \"SHAFT\", \"UNDERGROUND\", \"NTS\", 1985], [1985, \"USA\", \"SHAFT\", \"UNDERGROUND\", \"NTS\", 1985], [1985, \"UK\", \"SHAFT\", \"UNDERGROUND\", \"NTS\", 1985], [1985, \"USA\", \"SHAFT\", \"UNDERGROUND\", \"NTS\", 1985], [1986, \"USA\", \"SHAFT\", \"UNDERGROUND\", \"NTS\", 1986], [1986, \"USA\", \"TUNNEL\", \"UNDERGROUND\", \"NTS\", 1986], [1986, \"USA\", \"SHAFT\", \"UNDERGROUND\", \"NTS\", 1986], [1986, \"USA\", \"SHAFT\", \"UNDERGROUND\", \"NTS\", 1986], [1986, \"USA\", \"SHAFT\", \"UNDERGROUND\", \"NTS\", 1986], [1986, \"USA\", \"SHAFT\", \"UNDERGROUND\", \"NTS\", 1986], [1986, \"UK\", \"SHAFT\", \"UNDERGROUND\", \"NTS\", 1986], [1986, \"USA\", \"SHAFT\", \"UNDERGROUND\", \"NTS\", 1986], [1986, \"USA\", \"SHAFT\", \"UNDERGROUND\", \"NTS\", 1986], [1986, \"USA\", \"SHAFT\", \"UNDERGROUND\", \"NTS\", 1986], [1986, \"USA\", \"SHAFT\", \"UNDERGROUND\", \"NTS\", 1986], [1986, \"USA\", \"SHAFT\", \"UNDERGROUND\", \"NTS\", 1986], [1986, \"USA\", \"SHAFT\", \"UNDERGROUND\", \"NTS\", 1986], [1986, \"USA\", \"SHAFT\", \"UNDERGROUND\", \"NTS\", 1986], [1986, \"USA\", \"SHAFT\", \"UNDERGROUND\", \"NTS\", 1986], [1987, \"USA\", \"SHAFT\", \"UNDERGROUND\", \"NTS\", 1987], [1987, \"USA\", \"SHAFT\", \"UNDERGROUND\", \"NTS\", 1987], [1987, \"USA\", \"TUNNEL\", \"UNDERGROUND\", \"NTS\", 1987], [1987, \"USA\", \"SHAFT\", \"UNDERGROUND\", \"NTS\", 1987], [1987, \"USA\", \"SHAFT\", \"UNDERGROUND\", \"NTS\", 1987], [1987, \"USA\", \"SHAFT\", \"UNDERGROUND\", \"NTS\", 1987], [1987, \"USA\", \"SHAFT\", \"UNDERGROUND\", \"NTS\", 1987], [1987, \"USA\", \"TUNNEL\", \"UNDERGROUND\", \"NTS\", 1987], [1987, \"USA\", \"SHAFT\", \"UNDERGROUND\", \"NTS\", 1987], [1987, \"UK\", \"SHAFT\", \"UNDERGROUND\", \"NTS\", 1987], [1987, \"USA\", \"SHAFT\", \"UNDERGROUND\", \"NTS\", 1987], [1987, \"USA\", \"SHAFT\", \"UNDERGROUND\", \"NTS\", 1987], [1987, \"USA\", \"SHAFT\", \"UNDERGROUND\", \"NTS\", 1987], [1987, \"USA\", \"SHAFT\", \"UNDERGROUND\", \"NTS\", 1987], [1987, \"USA\", \"TUNNEL\", \"UNDERGROUND\", \"NTS\", 1987], [1988, \"USA\", \"SHAFT\", \"UNDERGROUND\", \"NTS\", 1988], [1988, \"USA\", \"SHAFT\", \"UNDERGROUND\", \"NTS\", 1988], [1988, \"USA\", \"SHAFT\", \"UNDERGROUND\", \"NTS\", 1988], [1988, \"USA\", \"SHAFT\", \"UNDERGROUND\", \"NTS\", 1988], [1988, \"USA\", \"SHAFT\", \"UNDERGROUND\", \"NTS\", 1988], [1988, \"USA\", \"SHAFT\", \"UNDERGROUND\", \"NTS\", 1988], [1988, \"USA\", \"SHAFT\", \"UNDERGROUND\", \"NTS\", 1988], [1988, \"USA\", \"SHAFT\", \"UNDERGROUND\", \"NTS\", 1988], [1988, \"USA\", \"SHAFT\", \"UNDERGROUND\", \"NTS\", 1988], [1988, \"USA\", \"SHAFT\", \"UNDERGROUND\", \"NTS\", 1988], [1988, \"USA\", \"SHAFT\", \"UNDERGROUND\", \"NTS\", 1988], [1988, \"USA\", \"SHAFT\", \"UNDERGROUND\", \"NTS\", 1988], [1988, \"USA\", \"SHAFT\", \"UNDERGROUND\", \"NTS\", 1988], [1988, \"USA\", \"SHAFT\", \"UNDERGROUND\", \"NTS\", 1988], [1988, \"USA\", \"TUNNEL\", \"UNDERGROUND\", \"NTS\", 1988], [1989, \"USA\", \"SHAFT\", \"UNDERGROUND\", \"NTS\", 1989], [1989, \"USA\", \"SHAFT\", \"UNDERGROUND\", \"NTS\", 1989], [1989, \"USA\", \"SHAFT\", \"UNDERGROUND\", \"NTS\", 1989], [1989, \"USA\", \"SHAFT\", \"UNDERGROUND\", \"NTS\", 1989], [1989, \"USA\", \"SHAFT\", \"UNDERGROUND\", \"NTS\", 1989], [1989, \"USA\", \"SHAFT\", \"UNDERGROUND\", \"NTS\", 1989], [1989, \"USA\", \"SHAFT\", \"UNDERGROUND\", \"NTS\", 1989], [1989, \"USA\", \"TUNNEL\", \"UNDERGROUND\", \"NTS\", 1989], [1989, \"USA\", \"SHAFT\", \"UNDERGROUND\", \"NTS\", 1989], [1989, \"USA\", \"SHAFT\", \"UNDERGROUND\", \"NTS\", 1989], [1989, \"UK\", \"SHAFT\", \"UNDERGROUND\", \"NTS\", 1989], [1989, \"USA\", \"SHAFT\", \"UNDERGROUND\", \"NTS\", 1989], [1990, \"USA\", \"SHAFT\", \"UNDERGROUND\", \"NTS\", 1990], [1990, \"USA\", \"SHAFT\", \"UNDERGROUND\", \"NTS\", 1990], [1990, \"USA\", \"SHAFT\", \"UNDERGROUND\", \"NTS\", 1990], [1990, \"USA\", \"SHAFT\", \"UNDERGROUND\", \"NTS\", 1990], [1990, \"USA\", \"TUNNEL\", \"UNDERGROUND\", \"NTS\", 1990], [1990, \"USA\", \"SHAFT\", \"UNDERGROUND\", \"NTS\", 1990], [1990, \"USA\", \"SHAFT\", \"UNDERGROUND\", \"NTS\", 1990], [1990, \"USA\", \"SHAFT\", \"UNDERGROUND\", \"NTS\", 1990], [1990, \"UK\", \"SHAFT\", \"UNDERGROUND\", \"NTS\", 1990], [1991, \"USA\", \"SHAFT\", \"UNDERGROUND\", \"NTS\", 1991], [1991, \"USA\", \"SHAFT\", \"UNDERGROUND\", \"NTS\", 1991], [1991, \"USA\", \"SHAFT\", \"UNDERGROUND\", \"NTS\", 1991], [1991, \"USA\", \"SHAFT\", \"UNDERGROUND\", \"NTS\", 1991], [1991, \"USA\", \"SHAFT\", \"UNDERGROUND\", \"NTS\", 1991], [1991, \"USA\", \"TUNNEL\", \"UNDERGROUND\", \"NTS\", 1991], [1991, \"USA\", \"SHAFT\", \"UNDERGROUND\", \"NTS\", 1991], [1991, \"UK\", \"SHAFT\", \"UNDERGROUND\", \"NTS\", 1991], [1992, \"USA\", \"SHAFT\", \"UNDERGROUND\", \"NTS\", 1992], [1992, \"USA\", \"TUNNEL\", \"UNDERGROUND\", \"NTS\", 1992], [1992, \"USA\", \"SHAFT\", \"UNDERGROUND\", \"NTS\", 1992], [1992, \"USA\", \"SHAFT\", \"UNDERGROUND\", \"NTS\", 1992], [1992, \"USA\", \"TUNNEL\", \"UNDERGROUND\", \"NTS\", 1992], [1992, \"USA\", \"SHAFT\", \"UNDERGROUND\", \"NTS\", 1992]], \"hoverlabel\": {\"namelength\": 0}, \"hovertemplate\": \"region=%{customdata[4]}<br>x=%{x}<br>y=%{y}<br>year=%{customdata[5]}<br>country=%{customdata[1]}<br>type=%{customdata[2]}<br>type_cat=%{customdata[3]}\", \"legendgroup\": \"region=NTS\", \"marker\": {\"color\": \"#FECB52\", \"symbol\": \"circle\"}, \"mode\": \"markers\", \"name\": \"region=NTS\", \"showlegend\": true, \"type\": \"scattergl\", \"uid\": \"ca46b0a8-d396-4cf9-9ca9-a5922d5e6400\", \"x\": [-6.890990257263184, -6.899757385253906, -6.910024166107178, -6.903582572937012, -6.8785624504089355, -6.928850173950195, -6.900265216827393, -6.906647682189941, -6.904460906982422, -6.894350051879883, -6.9084153175354, -6.898007392883301, -6.7446513175964355, -6.759697437286377, -6.768383026123047, -6.744706630706787, -6.759721755981445, -6.72022819519043, -6.6980390548706055, -6.7365193367004395, -6.567066669464111, -6.562803268432617, -6.592250347137451, -6.563228130340576, -6.570645809173584, -6.569457530975342, -6.53890323638916, -6.563592910766602, -6.557415962219238, -6.5719428062438965, -6.562145709991455, -5.779457092285156, -5.783916473388672, -5.7650065422058105, -5.73465633392334, -5.777542591094971, -5.773773670196533, -5.780789375305176, -5.77617073059082, -5.766567707061768, -4.945301055908203, -5.77493143081665, -5.770881652832031, -5.776797771453857, -5.768500328063965, -5.772706031799316, -5.774572372436523, -5.775278568267822, -5.140385627746582, -4.72068977355957, -4.700887203216553, -4.743466854095459, -4.682894229888916, -4.6891865730285645, -4.7093634605407715, -4.673330783843994, -4.665999412536621, -4.334980010986328, -4.715347766876221, -4.738530158996582, 11.379721641540527, -4.673022747039795, 11.385348320007324, -4.695006847381592, -4.682966232299805, 11.386545181274414, -4.701024532318115, -4.691095352172852, -4.702392578125, -4.714372158050537, -4.695533275604248, -4.703725814819336, -4.696246147155762, -4.671078205108643, 3.358086109161377, -4.698246479034424, -4.657511234283447, -4.717522621154785, 11.375650405883789, -4.703359603881836, 11.38412857055664, 11.384123802185059, 11.383896827697754, 11.38063907623291, -3.8336057662963867, 11.380637168884277, 11.38399887084961, 11.38457202911377, 11.383947372436523, -3.9186995029449463, -3.802182912826538, 11.399261474609375, 3.38590407371521, -3.7733287811279297, -3.9091763496398926, 11.383318901062012, -3.7930757999420166, 3.333192825317383, -3.7861509323120117, -3.778069257736206, -3.7974116802215576, 11.383566856384277, -3.837019205093384, -3.8865108489990234, -3.7791130542755127, -3.785142183303833, -3.784668445587158, -3.7735140323638916, -3.796623706817627, -3.901136636734009, -3.906402349472046, -3.7810218334198, 11.381646156311035, -3.7992780208587646, -3.7685189247131348, -5.173884391784668, 11.382702827453613, -3.786215305328369, -3.7891829013824463, 3.367863893508911, 3.4100780487060547, 29.802169799804688, 29.827877044677734, 29.846466064453125, 3.345905303955078, 3.357692003250122, 29.868261337280273, 3.381246566772461, 29.83478355407715, 29.740169525146484, 30.032718658447266, 3.3584086894989014, 29.672916412353516, 3.3709921836853027, 3.3542022705078125, 29.99399757385254, 29.682497024536133, 30.032005310058594, 26.478858947753906, -4.17158842086792, 29.952207565307617, 29.7037410736084, 30.038419723510742, 29.682584762573242, 3.355100393295288, 29.84593963623047, 30.018688201904297, 30.039737701416016, 3.366929054260254, 30.107831954956055, 30.01300048828125, 30.048412322998047, 30.024682998657227, 29.711854934692383, 29.66042709350586, 30.036170959472656, 30.022262573242188, 3.3239352703094482, 29.92417335510254, 30.06244468688965, 3.3571953773498535, 30.033884048461914, 3.3570892810821533, -5.969627380371094, -6.0590691566467285, -6.044443607330322, 29.919469833374023, -6.050375461578369, -6.046754837036133, 30.005937576293945, 30.019927978515625, 30.031694412231445, 30.018693923950195, 30.048603057861328, 30.033954620361328, 30.03406524658203, 29.77924346923828, 30.03500747680664, 30.03426742553711, 30.032245635986328, 29.903560638427734, 30.021648406982422, 30.00981330871582, 30.00752830505371, 30.02793312072754, 30.019620895385742, 26.477195739746094, 30.019994735717773, 30.0216064453125, 30.022003173828125, 25.779634475708008, 3.3459503650665283, 25.701019287109375, 25.755876541137695, 25.785873413085938, 25.751190185546875, 25.749183654785156, 25.73322296142578, 25.71136474609375, 25.789913177490234, 25.786325454711914, 25.724971771240234, 25.761192321777344, 25.76889991760254, 25.760255813598633, 25.705291748046875, 25.766035079956055, 25.72517204284668, 25.740997314453125, 25.765527725219727, 25.762893676757812, 25.75589370727539, 25.751445770263672, 25.77273178100586, 25.768573760986328, 25.80171012878418, 25.74867057800293, 25.763694763183594, 25.760631561279297, 25.706388473510742, 25.781763076782227, 25.775056838989258, 25.79534149169922, 25.723854064941406, 3.386056423187256, 25.77525520324707, 25.769020080566406, 25.78455924987793, 25.772876739501953, 25.763248443603516, 25.779937744140625, 25.769636154174805, 28.306114196777344, 28.387462615966797, 28.376636505126953, 28.406822204589844, 28.41252899169922, 28.43312644958496, 28.37264060974121, 28.312408447265625, 28.375564575195312, 28.37193489074707, 28.39339256286621, 28.352243423461914, 28.34919548034668, 28.296031951904297, 28.36874771118164, 28.37615966796875, 28.382041931152344, 28.376535415649414, 28.38558578491211, 28.39064598083496, 28.378559112548828, 28.363590240478516, 28.424678802490234, 28.315271377563477, 25.57674789428711, 28.394939422607422, 28.383024215698242, 28.4373836517334, 28.410642623901367, 28.397411346435547, 28.408124923706055, 28.39885711669922, 28.387054443359375, 25.577260971069336, 28.388805389404297, 28.396671295166016, 28.388896942138672, 28.38959503173828, 28.389799118041992, 28.41564178466797, 28.303510665893555, 28.390993118286133, 28.4206485748291, 28.44551658630371, 28.39745330810547, 28.42886734008789, 24.13272476196289, 24.105052947998047, 24.127233505249023, 24.111772537231445, 24.086509704589844, 24.11935043334961, 24.12932777404785, 24.10033416748047, 24.12386703491211, 24.086626052856445, 24.100887298583984, -6.0387043952941895, 3.352069854736328, 24.133041381835938, 24.135379791259766, 24.10513687133789, 24.15830421447754, 24.10786247253418, 24.10888671875, 24.137020111083984, 24.13758087158203, 24.1195125579834, 24.119394302368164, 24.10817527770996, 24.119728088378906, 24.12131690979004, 3.4354302883148193, 24.122947692871094, 24.12318992614746, 24.10654640197754, 3.2183749675750732, 3.367309331893921, 24.120519638061523, 24.12015151977539, 24.12184715270996, 3.463984727859497, 24.120512008666992, 3.439171314239502, 26.543935775756836, 26.50172996520996, 26.57021141052246, 26.569765090942383, 26.572113037109375, 26.576555252075195, 26.515016555786133, 26.59822654724121, 26.554101943969727, 26.576814651489258, 26.538652420043945, 26.56045913696289, 26.61629295349121, 26.566448211669922, 26.573715209960938, 26.546878814697266, 26.562047958374023, 26.554948806762695, 26.535085678100586, 26.558338165283203, 3.1858437061309814, 3.4390478134155273, 3.1659348011016846, 3.494518995285034, 3.474506378173828, 3.309079647064209, 3.4615883827209473, 3.471390724182129, 26.57419776916504, 26.543659210205078, 26.372304916381836, 26.55599594116211, 3.430668354034424, 26.545040130615234, 26.544546127319336, 26.55595588684082, 3.184638500213623, 26.55656623840332, 26.54068374633789, 26.572378158569336, 26.55575942993164, 26.553442001342773, 26.538034439086914, 26.55646324157715, 3.167541265487671, 26.55906867980957, 3.4273300170898438, 19.796770095825195, 3.3523306846618652, 3.4117085933685303, 19.826854705810547, 3.159555435180664, 3.1742067337036133, 3.495208740234375, 19.799419403076172, 19.8103084564209, 19.818912506103516, 19.793394088745117, 19.79006576538086, 19.779943466186523, 19.792911529541016, 19.774900436401367, 3.2459523677825928, 3.454310655593872, 3.477018117904663, 3.4414846897125244, 19.80681037902832, 19.797300338745117, 19.81047248840332, 3.1694111824035645, 19.797758102416992, 3.2533299922943115, 19.77957534790039, 19.796669006347656, 3.1369097232818604, 19.818517684936523, 3.2360000610351562, 3.267648935317993, 19.81223487854004, 19.79587173461914, 3.467592477798462, 3.4563112258911133, 19.7973575592041, 19.797298431396484, 19.796672821044922, 3.294292688369751, 19.796907424926758, 19.797122955322266, 17.996049880981445, 17.959985733032227, 18.036725997924805, -6.0058159828186035, 18.005409240722656, 3.463599681854248, 18.028188705444336, 3.188774585723877, 18.004446029663086, -5.9983015060424805, 18.022077560424805, 3.3897809982299805, 18.00575065612793, 18.00551414489746, 3.154897451400757, 3.161128044128418, 17.990236282348633, 3.4142398834228516, 17.967119216918945, 18.02155113220215, 3.177690029144287, 17.99449920654297, 18.00469207763672, 18.0046329498291, 3.3763515949249268, 18.03725242614746, 18.017953872680664, 3.274752378463745, 17.986122131347656, 17.937131881713867, 18.000843048095703, 17.996158599853516, 18.00600814819336, 17.943288803100586, 3.364004611968994, 3.4138681888580322, 3.2066454887390137, 3.1838290691375732, 18.004575729370117, 18.005765914916992, 18.005163192749023, 17.99750328063965, 18.008697509765625, 18.006399154663086, 17.96636390686035, 18.006593704223633, 17.99215316772461, 18.007793426513672, 3.16776180267334, 18.006202697753906, -5.9693193435668945, 18.006723403930664, 18.007095336914062, 18.00582504272461, 3.415862560272217, 15.786762237548828, 3.198676824569702, 15.787374496459961, 3.131166696548462, 15.78906536102295, 15.797555923461914, 15.796194076538086, 15.801604270935059, 15.80742073059082, 15.803380966186523, 3.0558457374572754, 3.1272099018096924, 15.79444694519043, 3.185349702835083, 3.1662678718566895, 3.249892234802246, 15.825254440307617, 3.1419320106506348, 15.817708015441895, 3.038769245147705, 15.820554733276367, 15.942163467407227, 3.2392311096191406, 15.787718772888184, 15.803120613098145, 15.816595077514648, 15.787809371948242, 3.3361074924468994, 15.80337905883789, 15.80351734161377, 3.3327436447143555, 15.800453186035156, 15.82576847076416, 15.864930152893066, 15.848254203796387, 15.834028244018555, 3.1501388549804688, 15.79967975616455, 3.0617570877075195, 15.81481647491455, 15.803648948669434, 3.2131452560424805, 3.085198163986206, 15.947474479675293, 11.887404441833496, 11.881542205810547, 3.1826670169830322, 11.897453308105469, 11.899476051330566, 11.911375999450684, 11.898625373840332, 3.146204948425293, 3.027984380722046, 11.888290405273438, 11.903337478637695, 11.907293319702148, -4.526735305786133, 3.026972770690918, 3.033745527267456, 11.88885498046875, 3.0177440643310547, 11.891386985778809, 3.089146614074707, 11.875893592834473, 11.929763793945312, 11.877248764038086, 3.1164028644561768, 3.0672662258148193, 3.1860849857330322, 11.887354850769043, 11.887247085571289, 11.887356758117676, 11.887236595153809, 3.2004575729370117, 11.887212753295898, 11.900402069091797, 11.871621131896973, 11.887330055236816, 3.1245152950286865, 3.084185838699341, 11.887371063232422, 3.2110583782196045, 3.0858919620513916, 3.050488233566284, 3.0235910415649414, 8.5984525680542, 3.114173650741577, 8.56898307800293, 8.584378242492676, 3.11142897605896, 8.597580909729004, 8.607232093811035, 8.597949981689453, 8.598026275634766, 8.598067283630371, 3.1218361854553223, 8.609769821166992, 2.9801812171936035, 8.598615646362305, 2.979046106338501, 8.598686218261719, 8.59867000579834, 8.59861946105957, 3.034822702407837, 8.598651885986328, 8.598638534545898, 13.135017395019531, 13.17187213897705, 13.153060913085938, 13.148866653442383, 13.14851188659668, 2.932955265045166, 13.12750244140625, 2.9098644256591797, 13.126093864440918, 2.925090789794922, 2.9178338050842285, 13.15509033203125, 13.13247013092041, 13.174674034118652, 13.143966674804688, 2.916905641555786, 13.14193058013916, 13.150541305541992, -12.274003982543945, 2.9363901615142822, 13.17490291595459, 13.14588451385498, 13.153083801269531, 13.144452095031738, 13.151611328125, 2.9033429622650146, 13.132369041442871, 13.199651718139648, 2.7707173824310303, 13.190978050231934, 13.172111511230469, 2.917942762374878, 2.682299852371216, 13.148412704467773, 13.193598747253418, 13.169108390808105, 13.157783508300781, 2.8561007976531982, 2.666316509246826, 2.8034067153930664, 2.8771579265594482, 13.151009559631348, 13.164453506469727, 13.160505294799805, 2.8826513290405273, 2.8894615173339844, 2.8870928287506104, 13.176152229309082, 13.158373832702637, 13.162043571472168, 13.145113945007324, 2.6052393913269043, 13.170280456542969, 13.147430419921875, 13.16118049621582, 13.186528205871582, 13.170392990112305, 2.8579487800598145, 2.4692959785461426, 13.161392211914062, 2.7994062900543213, 2.639812707901001, 13.162378311157227, 2.8469278812408447, 2.6320078372955322, 2.8641672134399414, -12.338095664978027, 13.162972450256348, 13.155099868774414, 13.131342887878418, 13.1616849899292, 13.163813591003418, 2.858489751815796, 13.12465763092041, 13.1245756149292, 13.154278755187988, 2.588169813156128, 2.5741071701049805, 2.755270481109619, 2.8159995079040527, 2.697556257247925, 13.084921836853027, 2.574270725250244, 2.594726085662842, 13.1527099609375, 13.151365280151367, 2.6327273845672607, 13.046172142028809, 2.816741466522217, 2.7991762161254883, -11.981614112854004, 2.8145508766174316, 2.650736093521118, 2.7399849891662598, -12.329245567321777, -12.03172492980957, 2.5617825984954834, 2.545893669128418, -11.944464683532715, 2.5882694721221924, 13.150774002075195, 2.5907421112060547, -11.934353828430176, -12.18378734588623, -12.287771224975586, 2.7024261951446533, 13.151336669921875, 2.5927369594573975, -12.393056869506836, 13.147693634033203, 13.14667797088623, 13.141204833984375, 2.664477825164795, 13.152249336242676, 13.147917747497559, 2.5521364212036133, 10.611062049865723, 10.590177536010742, -11.983424186706543, -12.316061019897461, 2.527991533279419, 10.585283279418945, 10.583372116088867, -12.000144958496094, 10.572627067565918, 10.579689979553223, 2.544862985610962, 10.576639175415039, 2.573390245437622, 2.5897703170776367, 2.549795389175415, 2.6129934787750244, -12.302190780639648, 2.585421085357666, 2.5238442420959473, 10.572601318359375, 2.5082812309265137, 2.537409543991089, 2.513374090194702, 2.524704933166504, 10.484869003295898, 2.2292797565460205, -12.316909790039062, 10.468929290771484, 10.457247734069824, 10.481742858886719, 2.531111717224121, -12.310547828674316, 2.4896485805511475, 2.549823522567749, 2.475297451019287, -12.303424835205078, 10.497163772583008, 2.522507905960083, 2.190786123275757, 10.483885765075684, 2.496938467025757, 2.4493799209594727, -12.321715354919434, 2.413775682449341, 2.4694764614105225, 10.35694694519043, -12.324992179870605, 2.503690242767334, 2.3812196254730225, 2.4493746757507324, 2.4287068843841553, 2.137211322784424, -12.35495376586914, 10.37393569946289, -12.328519821166992, 2.487457036972046, 10.384535789489746, 2.398874044418335, 2.477965831756592, 2.3573873043060303, -12.356404304504395, -12.384053230285645, 2.4156482219696045, 10.029376983642578, 2.163708448410034, 2.4339308738708496, -12.330443382263184, 2.4324612617492676, 2.3868935108184814, 10.034432411193848, 2.1554901599884033, 2.3845276832580566, 2.4534406661987305, 2.1299612522125244, 2.0170669555664062, 9.949285507202148, 9.959432601928711, 9.963197708129883, 2.3826005458831787, -12.313699722290039, 9.968249320983887, 9.967168807983398, 9.929078102111816, 9.962044715881348, 9.956558227539062, 9.953795433044434, 2.263422727584839, 2.276634931564331, -12.33749771118164, 2.289386034011841, 2.381765842437744, -12.328981399536133, 2.0193183422088623, 1.9560821056365967, 2.297501564025879, 1.9539762735366821, 2.3165581226348877, -12.274256706237793, 9.865612030029297, -12.296279907226562, 2.3290562629699707, -12.305824279785156, 9.851649284362793, 9.877237319946289, 2.233445882797241, 2.2123420238494873, 2.1917574405670166, 9.865234375, 2.312053680419922, 2.2978157997131348, 9.813979148864746, 2.2691283226013184, 1.9662137031555176, 1.8781100511550903, 2.1072916984558105, 2.273202419281006, 2.3228189945220947, 9.754029273986816, 2.3059942722320557, 2.315296173095703, 2.2655348777770996, 2.284071922302246, 1.9273128509521484, 9.814234733581543, 9.758260726928711, 9.82662582397461, 9.767319679260254, 9.761054992675781, 1.982438087463379, 2.206679344177246, 2.1903514862060547, 1.8024379014968872, 2.2305233478546143, 1.8246221542358398, 2.2184581756591797, 2.291511297225952, 1.8384695053100586, 2.1928200721740723, 2.2379066944122314, 1.8840216398239136, 2.2344539165496826, 2.1895482540130615, 9.70805549621582, 1.9542936086654663, 2.2164602279663086, 2.2230026721954346, 1.8194189071655273, 1.975803017616272, 2.2270984649658203, 2.0008950233459473, 1.705694556236267, -12.289077758789062, 1.9370880126953125, -12.285798072814941, 1.7111620903015137, 2.0420310497283936, 2.0994014739990234, 1.7535338401794434, 8.97543716430664, 2.062246084213257, 2.011660575866699, 2.0740671157836914, 8.924933433532715, 1.993560552597046, 8.942490577697754, 1.8136471509933472, 1.717663288116455, 1.6796776056289673, 1.7239463329315186, 8.82718563079834, 1.6887892484664917, 1.9622551202774048, 1.6453701257705688, 1.739173412322998, 1.6709212064743042, 2.048511505126953, 8.810215950012207, 8.83997631072998, 1.6343404054641724, 8.8785400390625, 1.6348501443862915, 1.6710407733917236, 8.797152519226074, 1.9212740659713745, -12.321602821350098, 1.6380373239517212, 8.809292793273926, -12.340049743652344, 8.782499313354492, 8.799857139587402, 8.797096252441406, 1.7216542959213257, -12.344793319702148, -12.353354454040527, 1.6226134300231934, 8.807039260864258, 8.798823356628418, 1.543456792831421, 8.755410194396973, 1.625888466835022, 8.646982192993164, 1.5482405424118042, 8.650327682495117, 8.656532287597656, -12.367147445678711, -12.37106704711914, 8.745810508728027, 1.5558923482894897, -12.371082305908203, 8.755758285522461, 8.753156661987305, 1.5499221086502075, 1.5640041828155518, 8.480031967163086, 1.547227144241333, 1.6409810781478882, 8.46829605102539, 8.484627723693848, 1.5546979904174805, 8.491095542907715, 1.570962905883789, 8.470145225524902, 1.7335944175720215, 8.476527214050293, -12.328568458557129, 8.435821533203125, -12.342963218688965, 8.423352241516113, 1.593673825263977, 8.431169509887695, 8.415396690368652, -12.341814994812012, 1.7395811080932617, 1.5539796352386475, -12.3346529006958, 1.5507651567459106, 8.394608497619629, 8.425603866577148, 8.398894309997559, 1.5355292558670044, 1.609358549118042, 1.557173490524292, 8.386460304260254, 8.387722969055176, 8.389077186584473, 1.5588375329971313, 8.389272689819336], \"xaxis\": \"x\", \"y\": [-16.823129653930664, -16.827783584594727, -16.831897735595703, -16.82303237915039, -16.80900764465332, -16.83879852294922, -16.822423934936523, -16.825292587280273, -16.840341567993164, -16.83149528503418, -16.83472442626953, -16.83559799194336, -16.921852111816406, -16.91324806213379, -16.876819610595703, -16.91635513305664, -16.907852172851562, -16.929821014404297, -16.950149536132812, -16.919803619384766, -17.003196716308594, -17.001821517944336, -16.99749755859375, -16.98650360107422, -17.002643585205078, -16.99910545349121, -17.017532348632812, -17.005189895629883, -17.0013370513916, -16.998571395874023, -16.99684715270996, -17.09389305114746, -17.091354370117188, -17.088584899902344, -17.088808059692383, -17.09444808959961, -17.08979034423828, -17.092021942138672, -17.091588973999023, -17.09025001525879, -16.755205154418945, -17.090259552001953, -17.08937644958496, -17.090351104736328, -17.09001350402832, -17.08989143371582, -17.08980941772461, -17.089879989624023, -16.934118270874023, -16.847137451171875, -16.880462646484375, -16.8904972076416, -16.818103790283203, -16.82822036743164, -16.874908447265625, -16.81905174255371, -16.81208610534668, -16.77933120727539, -16.83008575439453, -16.861473083496094, -1.377448320388794, -16.821823120117188, -1.3659393787384033, -16.83181381225586, -16.818763732910156, -1.3675785064697266, -16.84752082824707, -16.823829650878906, -16.834766387939453, -16.853145599365234, -16.854045867919922, -16.84671401977539, -16.840436935424805, -16.818490982055664, -10.56151294708252, -16.822452545166016, -16.81135368347168, -16.835155487060547, -1.3559151887893677, -16.86433219909668, -1.3665180206298828, -1.366530418395996, -1.3669228553771973, -1.3689512014389038, -16.77018928527832, -1.3701953887939453, -1.366436243057251, -1.3658223152160645, -1.3665764331817627, -16.674589157104492, -16.799842834472656, -1.3535420894622803, -10.503778457641602, -16.83213996887207, -16.681310653686523, -1.3676166534423828, -16.81035614013672, -10.578661918640137, -16.81488037109375, -16.824661254882812, -16.812885284423828, -1.3670709133148193, -16.724817276000977, -16.705434799194336, -16.83368492126465, -16.81795310974121, -16.819456100463867, -16.825122833251953, -16.80600357055664, -16.68939781188965, -16.68381118774414, -16.82127571105957, -1.3694005012512207, -16.810152053833008, -16.830730438232422, -16.85183334350586, -1.36850106716156, -16.817699432373047, -16.812135696411133, -10.54259967803955, -10.465913772583008, 12.605439186096191, 12.601223945617676, 12.585865020751953, -10.534247398376465, -10.565675735473633, 12.569730758666992, -10.565078735351562, 12.528108596801758, 12.593506813049316, 12.547074317932129, -10.551962852478027, 12.61938190460205, -10.605770111083984, -10.55263614654541, 12.517165184020996, 12.615302085876465, 12.489714622497559, 3.302968978881836, -16.557966232299805, 12.56010627746582, 12.608614921569824, 12.47623348236084, 12.609514236450195, -10.57030963897705, 12.577171325683594, 12.494678497314453, 12.472390174865723, -10.552550315856934, 12.424093246459961, 12.515660285949707, 12.474950790405273, 12.491927146911621, 12.611235618591309, 12.6283597946167, 12.483307838439941, 12.491355895996094, -10.548243522644043, 12.522287368774414, 12.451993942260742, -10.657241821289062, 12.485032081604004, -10.54927921295166, -14.547758102416992, -14.480877876281738, -14.484291076660156, 12.5580472946167, -14.48971939086914, -14.490791320800781, 12.508066177368164, 12.491941452026367, 12.484824180603027, 12.492799758911133, 12.491579055786133, 12.48692512512207, 12.478899955749512, 12.617801666259766, 12.477157592773438, 12.477715492248535, 12.483380317687988, 12.550743103027344, 12.4899263381958, 12.493112564086914, 12.502437591552734, 12.484155654907227, 12.490646362304688, 3.3031885623931885, 12.488279342651367, 12.4895601272583, 12.48924732208252, 3.62508225440979, -10.59128189086914, 3.70898699760437, 3.652040481567383, 3.6247949600219727, 3.6598801612854004, 3.662458658218384, 3.6785924434661865, 3.698634147644043, 3.6227896213531494, 3.625192880630493, 3.6605167388916016, 3.6494853496551514, 3.641477346420288, 3.651224374771118, 3.706035614013672, 3.645022392272949, 3.702629804611206, 3.676741361618042, 3.6470143795013428, 3.6540162563323975, 3.654543399810791, 3.6607234477996826, 3.6394195556640625, 3.6432571411132812, 3.6122400760650635, 3.6624929904937744, 3.644697666168213, 3.6523754596710205, 3.722839593887329, 3.632143974304199, 3.6391828060150146, 3.618772029876709, 3.691042900085449, -10.929792404174805, 3.6476998329162598, 3.645174503326416, 3.636464834213257, 3.6482443809509277, 3.6505649089813232, 3.63677978515625, 3.6454973220825195, -5.150742530822754, -4.904437065124512, -5.057312488555908, -5.031007766723633, -5.027135848999023, -5.025110244750977, -5.065277099609375, -5.138314247131348, -5.0625433921813965, -5.069711685180664, -5.046350002288818, -5.087789058685303, -5.078189849853516, -5.1554036140441895, -5.068739891052246, -5.061842441558838, -5.046355724334717, -5.0609965324401855, -5.052657604217529, -5.046655654907227, -5.0594940185546875, -5.074021339416504, -5.013257026672363, -5.1333112716674805, -0.7664385437965393, -5.042991638183594, -5.054693698883057, -4.903077602386475, -5.027049541473389, -5.040215492248535, -5.027497291564941, -5.039059162139893, -5.050573348999023, -0.764542818069458, -5.048728942871094, -5.036008834838867, -5.048417091369629, -5.047703266143799, -5.0474467277526855, -4.962841033935547, -5.145142555236816, -5.046209335327148, -4.935335159301758, -4.895378112792969, -5.039538383483887, -4.949160575866699, -0.5845597386360168, -0.5834600329399109, -0.5567774176597595, -0.6197176575660706, -0.5738410949707031, -0.5974889397621155, -0.5989310145378113, -0.820728600025177, -0.6004344820976257, -0.7780684232711792, -0.57737135887146, -14.471593856811523, -10.965941429138184, -0.6115272641181946, -0.5817006230354309, -0.6115610003471375, -0.5577313899993896, -0.6083953380584717, -0.6207015514373779, -0.5782490372657776, -0.6431995630264282, -0.5970772504806519, -0.5976256728172302, -0.6074755787849426, -0.5976450443267822, -0.5943924188613892, -11.12950611114502, -0.5950502157211304, -0.5951069593429565, -0.5809096693992615, -10.867679595947266, -11.056243896484375, -0.597871720790863, -0.5984922647476196, -0.5997044444084167, -11.12380313873291, -0.5970603227615356, -11.112451553344727, -11.310076713562012, -11.284073829650879, -11.335675239562988, -11.336531639099121, -11.338183403015137, -11.341973304748535, -11.294683456420898, -11.315784454345703, -11.319305419921875, -11.330839157104492, -11.303504943847656, -11.324923515319824, -11.380273818969727, -11.333627700805664, -11.338034629821777, -11.327208518981934, -11.32656192779541, -11.319815635681152, -11.299727439880371, -11.306570053100586, -10.996716499328613, -11.172749519348145, -11.031439781188965, -11.210518836975098, -11.200003623962402, -11.10029125213623, -11.162160873413086, -11.198387145996094, -11.338900566101074, -11.311933517456055, -11.247608184814453, -11.322195053100586, -11.249881744384766, -11.310395240783691, -11.331096649169922, -11.322978019714355, -11.04873275756836, -11.322648048400879, -11.306987762451172, -11.338212013244629, -11.322378158569336, -11.320090293884277, -11.33938217163086, -11.323386192321777, -11.053977966308594, -11.326437950134277, -11.329843521118164, -11.150482177734375, -11.249444007873535, -11.171475410461426, -11.120294570922852, -11.113128662109375, -11.113204002380371, -11.212953567504883, -11.147690773010254, -11.13687801361084, -11.12825870513916, -11.153797149658203, -11.157134056091309, -11.16720199584961, -11.154220581054688, -11.172247886657715, -11.154284477233887, -11.24524211883545, -11.24685001373291, -11.202731132507324, -11.140385627746582, -11.149886131286621, -11.13671875, -11.074723243713379, -11.149648666381836, -11.2285737991333, -11.167601585388184, -11.150588035583496, -11.076029777526855, -11.128705978393555, -11.180305480957031, -11.212398529052734, -11.135045051574707, -11.151422500610352, -11.236616134643555, -11.262340545654297, -11.149876594543457, -11.149946212768555, -11.150593757629395, -11.225883483886719, -11.150352478027344, -11.150128364562988, -15.228171348571777, -15.34140396118164, -15.192704200744629, -14.273313522338867, -15.223804473876953, -11.38519287109375, -15.202061653137207, -11.261603355407715, -15.21561336517334, -14.285531044006348, -15.235746383666992, -11.378413200378418, -15.223989486694336, -15.224093437194824, -11.320976257324219, -11.383255958557129, -15.2070894241333, -11.372518539428711, -15.24771785736084, -15.210087776184082, -11.283209800720215, -15.229952812194824, -15.224026679992676, -15.224523544311523, -11.412732124328613, -15.232133865356445, -15.213739395141602, -11.441649436950684, -15.25260066986084, -15.326521873474121, -15.246086120605469, -15.236736297607422, -15.226340293884277, -15.319794654846191, -11.366801261901855, -11.334310531616211, -11.402806282043457, -11.308977127075195, -15.225292205810547, -15.226194381713867, -15.22691822052002, -15.227633476257324, -15.223251342773438, -15.225065231323242, -15.286192893981934, -15.225955963134766, -15.241336822509766, -15.226929664611816, -11.327857971191406, -15.224552154541016, -14.222528457641602, -15.225625991821289, -15.224220275878906, -15.225648880004883, -11.382648468017578, -16.635358810424805, -11.579171180725098, -16.63372039794922, -11.556769371032715, -16.62832260131836, -16.621076583862305, -16.62139892578125, -16.616111755371094, -16.610055923461914, -16.614334106445312, -11.71179485321045, -11.56821060180664, -16.622163772583008, -11.629396438598633, -11.646286010742188, -11.56938362121582, -16.58989906311035, -11.569775581359863, -16.59954071044922, -11.665154457092285, -16.597034454345703, -16.52204704284668, -11.577859878540039, -16.629474639892578, -16.614757537841797, -16.601240158081055, -16.629657745361328, -11.487980842590332, -16.61396026611328, -16.613893508911133, -11.547698020935059, -16.616966247558594, -16.59101104736328, -16.557722091674805, -16.57680892944336, -16.582990646362305, -11.57719898223877, -16.61787223815918, -11.634002685546875, -16.60226058959961, -16.6137752532959, -11.602045059204102, -11.622058868408203, -16.51546859741211, -18.97208023071289, -18.966211318969727, -11.689005851745605, -18.979093551635742, -18.9836483001709, -18.99559211730957, -18.98023223876953, -11.737565040588379, -11.869468688964844, -18.97294807434082, -18.988027572631836, -18.98849868774414, -14.352702140808105, -11.8839693069458, -11.873764038085938, -18.97347640991211, -11.880175590515137, -18.976055145263672, -11.777168273925781, -18.96054458618164, -19.01090431213379, -18.96199607849121, -11.740327835083008, -11.725874900817871, -11.689969062805176, -18.972003936767578, -18.971899032592773, -18.972000122070312, -18.97186851501465, -11.704424858093262, -18.971942901611328, -18.98161506652832, -18.956256866455078, -18.97197151184082, -11.746832847595215, -11.784770011901855, -18.972021102905273, -11.659202575683594, -11.76506233215332, -11.931028366088867, -11.953778266906738, 27.38228988647461, -11.819531440734863, 27.411863327026367, 27.39643096923828, -11.836298942565918, 27.38319969177246, 27.37654685974121, 27.382999420166016, 27.382898330688477, 27.382844924926758, -11.808127403259277, 27.37063217163086, -12.070744514465332, 27.382246017456055, -12.057680130004883, 27.382160186767578, 27.38215446472168, 27.382221221923828, -11.976531028747559, 27.382122039794922, 27.38214683532715, 31.777116775512695, 31.735759735107422, 31.768346786499023, 31.751930236816406, 31.786497116088867, -12.32500171661377, 31.781049728393555, -12.337835311889648, 31.806114196777344, -12.359350204467773, -12.329662322998047, 31.745525360107422, 31.781700134277344, 31.75264549255371, 31.811662673950195, -12.321453094482422, 31.784469604492188, 31.791648864746094, -3.9858477115631104, -12.358322143554688, 31.727031707763672, 31.76236343383789, 31.746084213256836, 31.753864288330078, 31.74863052368164, -12.350050926208496, 31.788108825683594, 31.644184112548828, -12.539291381835938, 31.638437271118164, 31.64004898071289, -12.470316886901855, -12.66789722442627, 31.6507625579834, 31.614959716796875, 31.642623901367188, 31.618432998657227, -12.438556671142578, -12.670439720153809, -12.599726676940918, -12.473675727844238, 31.659812927246094, 31.62556266784668, 31.660898208618164, -12.4771728515625, -12.545621871948242, -12.542854309082031, 31.65863609313965, 31.632251739501953, 31.648921966552734, 31.56369972229004, -12.823780059814453, 31.597240447998047, 31.575298309326172, 31.557231903076172, 31.530712127685547, 31.573904037475586, -12.663854598999023, -13.182246208190918, 31.565706253051758, -12.760729789733887, -12.763076782226562, 31.546520233154297, -12.668728828430176, -12.787923812866211, -12.611811637878418, -3.9676713943481445, 31.543977737426758, 31.516502380371094, 31.530820846557617, 31.578018188476562, 31.519548416137695, -12.638577461242676, 31.467538833618164, 31.389677047729492, 31.428964614868164, -12.85800552368164, -12.923181533813477, -12.846452713012695, -12.770750045776367, -12.912245750427246, 31.14832878112793, -12.89357852935791, -12.87804126739502, 31.4329891204834, 31.42980194091797, -12.719247817993164, 31.14581871032715, -12.79951000213623, -12.840396881103516, -3.8483715057373047, -12.751888275146484, -12.78466510772705, -12.870155334472656, -3.944352149963379, -3.9094884395599365, -12.95069694519043, -12.96178913116455, -3.878570079803467, -12.903321266174316, 31.34480094909668, -12.89503002166748, -3.871744155883789, -3.966309070587158, -3.966735601425171, -13.125667572021484, 31.331401824951172, -12.964179039001465, -4.035499095916748, 31.335689544677734, 31.331289291381836, 31.2607364654541, -13.02743911743164, 31.348224639892578, 31.33757781982422, -12.98869800567627, 23.967954635620117, 23.947010040283203, -3.890913724899292, -4.005433559417725, -13.080622673034668, 23.940444946289062, 23.937759399414062, -3.9345669746398926, 23.925203323364258, 23.93280029296875, -13.01514720916748, 23.92910385131836, -13.387205123901367, -13.276779174804688, -13.451666831970215, -13.302469253540039, -4.021182060241699, -13.319046020507812, -13.070879936218262, 23.923763275146484, -13.71855354309082, -13.06498908996582, -13.692753791809082, -13.083137512207031, 23.803302764892578, -13.735776901245117, -4.011146545410156, 23.786035537719727, 23.770246505737305, 23.798521041870117, -13.702882766723633, -4.016902923583984, -13.132102012634277, -13.45454216003418, -13.399373054504395, -4.036158561706543, 23.815690994262695, -13.630261421203613, -13.85176944732666, 23.802013397216797, -13.133901596069336, -13.740022659301758, -4.055702209472656, -13.655664443969727, -13.718746185302734, 23.636680603027344, -4.039953231811523, -13.72099494934082, -13.587660789489746, -13.748078346252441, -13.667603492736816, -13.921549797058105, -4.062991619110107, 23.660152435302734, -4.033401966094971, -13.727389335632324, 23.67410659790039, -13.889093399047852, -13.822433471679688, -13.826227188110352, -4.086369514465332, -4.044483661651611, -13.890558242797852, 23.220237731933594, -13.753896713256836, -13.87142562866211, -4.067394733428955, -13.824458122253418, -13.890729904174805, 23.223060607910156, -13.968912124633789, -13.810125350952148, -13.801467895507812, -14.009367942810059, -14.12444019317627, 23.130420684814453, 23.139934539794922, 23.144453048706055, -14.029629707336426, -4.096813201904297, 23.14928436279297, 23.148544311523438, 23.10877799987793, 23.142990112304688, 23.137371063232422, 23.134416580200195, -14.04371452331543, -14.093978881835938, -4.110837459564209, -14.056827545166016, -13.982501983642578, -4.134324073791504, -14.334061622619629, -14.245223045349121, -14.233380317687988, -14.193482398986816, -14.354548454284668, -4.212191104888916, 23.042678833007812, -4.1039652824401855, -14.242526054382324, -4.127547264099121, 23.028886795043945, 23.055126190185547, -14.15157413482666, -14.153754234313965, -14.216962814331055, 23.04206085205078, -14.277379989624023, -14.226968765258789, 22.991222381591797, -14.50039005279541, -14.374306678771973, -14.350646018981934, -14.16242790222168, -14.49301815032959, -14.44782829284668, 22.925432205200195, -14.458406448364258, -14.47695541381836, -14.483932495117188, -14.465594291687012, -14.377877235412598, 22.991567611694336, 22.92776107788086, 23.003278732299805, 22.93553352355957, 22.928743362426758, -14.353196144104004, -14.58220386505127, -14.597162246704102, -14.50507640838623, -14.581948280334473, -14.321470260620117, -14.57304859161377, -14.53091049194336, -14.441812515258789, -14.559139251708984, -14.55035400390625, -14.47136402130127, -14.551756858825684, -14.585930824279785, 22.88908576965332, -14.514427185058594, -14.570985794067383, -14.568085670471191, -14.33632755279541, -14.533698081970215, -14.561933517456055, -14.611780166625977, -14.583054542541504, -4.3281354904174805, -14.632268905639648, -4.322543144226074, -14.557778358459473, -14.634344100952148, -14.657867431640625, -14.582173347473145, 22.273292541503906, -14.639369010925293, -14.605660438537598, -14.652449607849121, 22.237701416015625, -14.60520076751709, 22.25003433227539, -14.409568786621094, -14.600227355957031, -14.649086952209473, -14.66019058227539, 22.17131233215332, -14.586746215820312, -14.660706520080566, -14.676962852478027, -14.465179443359375, -14.60722541809082, -14.641722679138184, 22.158287048339844, 22.1790828704834, -14.63683032989502, 22.218791961669922, -14.634370803833008, -14.608881950378418, 22.153667449951172, -14.678277969360352, -4.434798717498779, -14.619111061096191, 22.16838836669922, -4.471941947937012, 22.13698387145996, 22.156461715698242, 22.153100967407227, -14.510522842407227, -4.433628559112549, -4.47370719909668, -14.681174278259277, 22.16299819946289, 22.155750274658203, -14.728367805480957, 22.119789123535156, -14.73447036743164, 22.05132484436035, -14.724371910095215, 22.0531063079834, 22.060100555419922, -4.510320663452148, -4.478389263153076, 22.11481285095215, -14.705521583557129, -4.50177526473999, 22.125802993774414, 22.12236976623535, -14.728192329406738, -14.709589958190918, 21.945100784301758, -14.734923362731934, -14.724028587341309, 21.935407638549805, 21.947587966918945, -14.732625007629395, 21.95743179321289, -14.710549354553223, 21.937461853027344, -14.488212585449219, 21.945356369018555, -4.485496520996094, 21.908233642578125, -4.5049004554748535, 21.8978214263916, -14.710577011108398, 21.90224266052246, 21.888307571411133, -4.483684539794922, -14.523575782775879, -14.7102689743042, -4.490293502807617, -14.728572845458984, 21.86878776550293, 21.8986873626709, 21.86954689025879, -14.745973587036133, -14.57416820526123, -14.721784591674805, 21.866670608520508, 21.867435455322266, 21.868244171142578, -14.734762191772461, 21.868412017822266], \"yaxis\": \"y\"}, {\"customdata\": [[1952, \"UK\", \"SHIP\", \"ATMOSPHERIC\", \"MONTEB AUSTR\", 1952], [1956, \"UK\", \"TOWER\", \"ATMOSPHERIC\", \"MONTEB AUSTR\", 1956], [1956, \"UK\", \"TOWER\", \"ATMOSPHERIC\", \"MONTEB AUSTR\", 1956]], \"hoverlabel\": {\"namelength\": 0}, \"hovertemplate\": \"region=%{customdata[4]}<br>x=%{x}<br>y=%{y}<br>year=%{customdata[5]}<br>country=%{customdata[1]}<br>type=%{customdata[2]}<br>type_cat=%{customdata[3]}\", \"legendgroup\": \"region=MONTEB AUSTR\", \"marker\": {\"color\": \"#FFA15A\", \"symbol\": \"circle\"}, \"mode\": \"markers\", \"name\": \"region=MONTEB AUSTR\", \"showlegend\": true, \"type\": \"scattergl\", \"uid\": \"ff672426-e9c3-4db7-89e6-26daa12505b2\", \"x\": [-5.329634666442871, -5.30458927154541, -5.264474391937256], \"xaxis\": \"x\", \"y\": [-16.242231369018555, -16.21128273010254, -16.200685501098633], \"yaxis\": \"y\"}, {\"customdata\": [[1953, \"UK\", \"TOWER\", \"ATMOSPHERIC\", \"EMU AUSTR\", 1953], [1953, \"UK\", \"TOWER\", \"ATMOSPHERIC\", \"EMU AUSTR\", 1953]], \"hoverlabel\": {\"namelength\": 0}, \"hovertemplate\": \"region=%{customdata[4]}<br>x=%{x}<br>y=%{y}<br>year=%{customdata[5]}<br>country=%{customdata[1]}<br>type=%{customdata[2]}<br>type_cat=%{customdata[3]}\", \"legendgroup\": \"region=EMU AUSTR\", \"marker\": {\"color\": \"#FF6692\", \"symbol\": \"circle\"}, \"mode\": \"markers\", \"name\": \"region=EMU AUSTR\", \"showlegend\": true, \"type\": \"scattergl\", \"uid\": \"cca27404-fbbd-46ed-a164-b55258511145\", \"x\": [-5.34221076965332, -5.31643009185791], \"xaxis\": \"x\", \"y\": [-16.306442260742188, -16.33827018737793], \"yaxis\": \"y\"}, {\"customdata\": [[1954, \"USSR\", \"ATMOSPH\", \"ATMOSPHERIC\", \"ORENBG RUSS\", 1954], [1970, \"USSR\", \"SHAFT\", \"UNDERGROUND\", \"ORENBG RUSS\", 1970], [1971, \"USSR\", \"SHAFT\", \"UNDERGROUND\", \"ORENBG RUSS\", 1971], [1972, \"USSR\", \"SHAFT\", \"UNDERGROUND\", \"ORENBG RUSS\", 1972], [1972, \"USSR\", \"SHAFT\", \"UNDERGROUND\", \"ORENBG RUSS\", 1972], [1973, \"USSR\", \"SHAFT\", \"UNDERGROUND\", \"ORENBG RUSS\", 1973]], \"hoverlabel\": {\"namelength\": 0}, \"hovertemplate\": \"region=%{customdata[4]}<br>x=%{x}<br>y=%{y}<br>year=%{customdata[5]}<br>country=%{customdata[1]}<br>type=%{customdata[2]}<br>type_cat=%{customdata[3]}\", \"legendgroup\": \"region=ORENBG RUSS\", \"marker\": {\"color\": \"#B6E880\", \"symbol\": \"circle\"}, \"mode\": \"markers\", \"name\": \"region=ORENBG RUSS\", \"showlegend\": true, \"type\": \"scattergl\", \"uid\": \"e432fd11-8168-4e7f-8f2b-f88ccd730e30\", \"x\": [-4.14616584777832, -11.742587089538574, -12.124739646911621, -12.281476974487305, -12.387686729431152, -12.568273544311523], \"xaxis\": \"x\", \"y\": [-11.359123229980469, 7.020112037658691, 7.176426410675049, 7.248500823974609, 7.35791540145874, 7.421329498291016], \"yaxis\": \"y\"}, {\"customdata\": [[1955, \"USA\", \"UW\", \"ATMOSPHERIC\", \"OFFUSWCOAST\", 1955]], \"hoverlabel\": {\"namelength\": 0}, \"hovertemplate\": \"region=%{customdata[4]}<br>x=%{x}<br>y=%{y}<br>year=%{customdata[5]}<br>country=%{customdata[1]}<br>type=%{customdata[2]}<br>type_cat=%{customdata[3]}\", \"legendgroup\": \"region=OFFUSWCOAST\", \"marker\": {\"color\": \"#636efa\", \"symbol\": \"circle\"}, \"mode\": \"markers\", \"name\": \"region=OFFUSWCOAST\", \"showlegend\": true, \"type\": \"scattergl\", \"uid\": \"8489a79a-f4c5-47ee-a796-88107820074f\", \"x\": [-5.771299362182617], \"xaxis\": \"x\", \"y\": [-17.086565017700195], \"yaxis\": \"y\"}, {\"customdata\": [[1955, \"USSR\", \"UW\", \"ATMOSPHERIC\", \"NZ RUSS\", 1955], [1957, \"USSR\", \"AIRDROP\", \"ATMOSPHERIC\", \"NZ RUSS\", 1957], [1957, \"USSR\", \"ATMOSPH\", \"ATMOSPHERIC\", \"NZ RUSS\", 1957], [1957, \"USSR\", \"UW\", \"ATMOSPHERIC\", \"NZ RUSS\", 1957], [1958, \"USSR\", \"ATMOSPH\", \"ATMOSPHERIC\", \"NZ RUSS\", 1958], [1958, \"USSR\", \"ATMOSPH\", \"ATMOSPHERIC\", \"NZ RUSS\", 1958], [1958, \"USSR\", \"ATMOSPH\", \"ATMOSPHERIC\", \"NZ RUSS\", 1958], [1958, \"USSR\", \"ATMOSPH\", \"ATMOSPHERIC\", \"NZ RUSS\", 1958], [1958, \"USSR\", \"ATMOSPH\", \"ATMOSPHERIC\", \"NZ RUSS\", 1958], [1958, \"USSR\", \"ATMOSPH\", \"ATMOSPHERIC\", \"NZ RUSS\", 1958], [1958, \"USSR\", \"ATMOSPH\", \"ATMOSPHERIC\", \"NZ RUSS\", 1958], [1958, \"USSR\", \"ATMOSPH\", \"ATMOSPHERIC\", \"NZ RUSS\", 1958], [1958, \"USSR\", \"ATMOSPH\", \"ATMOSPHERIC\", \"NZ RUSS\", 1958], [1958, \"USSR\", \"ATMOSPH\", \"ATMOSPHERIC\", \"NZ RUSS\", 1958], [1958, \"USSR\", \"ATMOSPH\", \"ATMOSPHERIC\", \"NZ RUSS\", 1958], [1958, \"USSR\", \"ATMOSPH\", \"ATMOSPHERIC\", \"NZ RUSS\", 1958], [1958, \"USSR\", \"ATMOSPH\", \"ATMOSPHERIC\", \"NZ RUSS\", 1958], [1958, \"USSR\", \"ATMOSPH\", \"ATMOSPHERIC\", \"NZ RUSS\", 1958], [1958, \"USSR\", \"ATMOSPH\", \"ATMOSPHERIC\", \"NZ RUSS\", 1958], [1958, \"USSR\", \"ATMOSPH\", \"ATMOSPHERIC\", \"NZ RUSS\", 1958], [1958, \"USSR\", \"ATMOSPH\", \"ATMOSPHERIC\", \"NZ RUSS\", 1958], [1958, \"USSR\", \"ATMOSPH\", \"ATMOSPHERIC\", \"NZ RUSS\", 1958], [1958, \"USSR\", \"ATMOSPH\", \"ATMOSPHERIC\", \"NZ RUSS\", 1958], [1958, \"USSR\", \"ATMOSPH\", \"ATMOSPHERIC\", \"NZ RUSS\", 1958], [1958, \"USSR\", \"ATMOSPH\", \"ATMOSPHERIC\", \"NZ RUSS\", 1958], [1958, \"USSR\", \"ATMOSPH\", \"ATMOSPHERIC\", \"NZ RUSS\", 1958], [1958, \"USSR\", \"ATMOSPH\", \"ATMOSPHERIC\", \"NZ RUSS\", 1958], [1958, \"USSR\", \"ATMOSPH\", \"ATMOSPHERIC\", \"NZ RUSS\", 1958], [1961, \"USSR\", \"ATMOSPH\", \"ATMOSPHERIC\", \"NZ RUSS\", 1961], [1961, \"USSR\", \"ATMOSPH\", \"ATMOSPHERIC\", \"NZ RUSS\", 1961], [1961, \"USSR\", \"ATMOSPH\", \"ATMOSPHERIC\", \"NZ RUSS\", 1961], [1961, \"USSR\", \"ATMOSPH\", \"ATMOSPHERIC\", \"NZ RUSS\", 1961], [1961, \"USSR\", \"ATMOSPH\", \"ATMOSPHERIC\", \"NZ RUSS\", 1961], [1961, \"USSR\", \"ATMOSPH\", \"ATMOSPHERIC\", \"NZ RUSS\", 1961], [1961, \"USSR\", \"ATMOSPH\", \"ATMOSPHERIC\", \"NZ RUSS\", 1961], [1961, \"USSR\", \"ATMOSPH\", \"ATMOSPHERIC\", \"NZ RUSS\", 1961], [1961, \"USSR\", \"ATMOSPH\", \"ATMOSPHERIC\", \"NZ RUSS\", 1961], [1961, \"USSR\", \"ATMOSPH\", \"ATMOSPHERIC\", \"NZ RUSS\", 1961], [1961, \"USSR\", \"ATMOSPH\", \"ATMOSPHERIC\", \"NZ RUSS\", 1961], [1961, \"USSR\", \"ATMOSPH\", \"ATMOSPHERIC\", \"NZ RUSS\", 1961], [1961, \"USSR\", \"ATMOSPH\", \"ATMOSPHERIC\", \"NZ RUSS\", 1961], [1961, \"USSR\", \"ATMOSPH\", \"ATMOSPHERIC\", \"NZ RUSS\", 1961], [1961, \"USSR\", \"ATMOSPH\", \"ATMOSPHERIC\", \"NZ RUSS\", 1961], [1961, \"USSR\", \"UW\", \"ATMOSPHERIC\", \"NZ RUSS\", 1961], [1961, \"USSR\", \"ATMOSPH\", \"ATMOSPHERIC\", \"NZ RUSS\", 1961], [1961, \"USSR\", \"WATERSUR\", \"ATMOSPHERIC\", \"NZ RUSS\", 1961], [1961, \"USSR\", \"ATMOSPH\", \"ATMOSPHERIC\", \"NZ RUSS\", 1961], [1961, \"USSR\", \"ATMOSPH\", \"ATMOSPHERIC\", \"NZ RUSS\", 1961], [1961, \"USSR\", \"ATMOSPH\", \"ATMOSPHERIC\", \"NZ RUSS\", 1961], [1961, \"USSR\", \"ATMOSPH\", \"ATMOSPHERIC\", \"NZ RUSS\", 1961], [1961, \"USSR\", \"ATMOSPH\", \"ATMOSPHERIC\", \"NZ RUSS\", 1961], [1961, \"USSR\", \"ATMOSPH\", \"ATMOSPHERIC\", \"NZ RUSS\", 1961], [1961, \"USSR\", \"ATMOSPH\", \"ATMOSPHERIC\", \"NZ RUSS\", 1961], [1961, \"USSR\", \"ATMOSPH\", \"ATMOSPHERIC\", \"NZ RUSS\", 1961], [1962, \"USSR\", \"ATMOSPH\", \"ATMOSPHERIC\", \"NZ RUSS\", 1962], [1962, \"USSR\", \"ATMOSPH\", \"ATMOSPHERIC\", \"NZ RUSS\", 1962], [1962, \"USSR\", \"ATMOSPH\", \"ATMOSPHERIC\", \"NZ RUSS\", 1962], [1962, \"USSR\", \"ATMOSPH\", \"ATMOSPHERIC\", \"NZ RUSS\", 1962], [1962, \"USSR\", \"WATER SU\", \"ATMOSPHERIC\", \"NZ RUSS\", 1962], [1962, \"USSR\", \"ATMOSPH\", \"ATMOSPHERIC\", \"NZ RUSS\", 1962], [1962, \"USSR\", \"ATMOSPH\", \"ATMOSPHERIC\", \"NZ RUSS\", 1962], [1962, \"USSR\", \"ATMOSPH\", \"ATMOSPHERIC\", \"NZ RUSS\", 1962], [1962, \"USSR\", \"ATMOSPH\", \"ATMOSPHERIC\", \"NZ RUSS\", 1962], [1962, \"USSR\", \"ATMOSPH\", \"ATMOSPHERIC\", \"NZ RUSS\", 1962], [1962, \"USSR\", \"ATMOSPH\", \"ATMOSPHERIC\", \"NZ RUSS\", 1962], [1962, \"USSR\", \"ATMOSPH\", \"ATMOSPHERIC\", \"NZ RUSS\", 1962], [1962, \"USSR\", \"ATMOSPH\", \"ATMOSPHERIC\", \"NZ RUSS\", 1962], [1962, \"USSR\", \"ATMOSPH\", \"ATMOSPHERIC\", \"NZ RUSS\", 1962], [1962, \"USSR\", \"ATMOSPH\", \"ATMOSPHERIC\", \"NZ RUSS\", 1962], [1962, \"USSR\", \"ATMOSPH\", \"ATMOSPHERIC\", \"NZ RUSS\", 1962], [1962, \"USSR\", \"ATMOSPH\", \"ATMOSPHERIC\", \"NZ RUSS\", 1962], [1962, \"USSR\", \"ATMOSPH\", \"ATMOSPHERIC\", \"NZ RUSS\", 1962], [1962, \"USSR\", \"ATMOSPH\", \"ATMOSPHERIC\", \"NZ RUSS\", 1962], [1962, \"USSR\", \"ATMOSPH\", \"ATMOSPHERIC\", \"NZ RUSS\", 1962], [1962, \"USSR\", \"ATMOSPH\", \"ATMOSPHERIC\", \"NZ RUSS\", 1962], [1962, \"USSR\", \"ATMOSPH\", \"ATMOSPHERIC\", \"NZ RUSS\", 1962], [1962, \"USSR\", \"ATMOSPH\", \"ATMOSPHERIC\", \"NZ RUSS\", 1962], [1962, \"USSR\", \"ATMOSPH\", \"ATMOSPHERIC\", \"NZ RUSS\", 1962], [1962, \"USSR\", \"ATMOSPH\", \"ATMOSPHERIC\", \"NZ RUSS\", 1962], [1962, \"USSR\", \"ATMOSPH\", \"ATMOSPHERIC\", \"NZ RUSS\", 1962], [1962, \"USSR\", \"ATMOSPH\", \"ATMOSPHERIC\", \"NZ RUSS\", 1962], [1962, \"USSR\", \"ATMOSPH\", \"ATMOSPHERIC\", \"NZ RUSS\", 1962], [1962, \"USSR\", \"ATMOSPH\", \"ATMOSPHERIC\", \"NZ RUSS\", 1962], [1962, \"USSR\", \"ATMOSPH\", \"ATMOSPHERIC\", \"NZ RUSS\", 1962], [1962, \"USSR\", \"ATMOSPH\", \"ATMOSPHERIC\", \"NZ RUSS\", 1962], [1962, \"USSR\", \"ATMOSPH\", \"ATMOSPHERIC\", \"NZ RUSS\", 1962], [1962, \"USSR\", \"ATMOSPH\", \"ATMOSPHERIC\", \"NZ RUSS\", 1962], [1962, \"USSR\", \"ATMOSPH\", \"ATMOSPHERIC\", \"NZ RUSS\", 1962], [1962, \"USSR\", \"ATMOSPH\", \"ATMOSPHERIC\", \"NZ RUSS\", 1962], [1962, \"USSR\", \"ATMOSPH\", \"ATMOSPHERIC\", \"NZ RUSS\", 1962], [1964, \"USSR\", \"TUNNEL\", \"UNDERGROUND\", \"NZ RUSS\", 1964], [1964, \"USSR\", \"TUNNEL\", \"UNDERGROUND\", \"NZ RUSS\", 1964], [1966, \"USSR\", \"TUNNEL\", \"UNDERGROUND\", \"NZ RUSS\", 1966], [1966, \"USSR\", \"TUNNEL\", \"UNDERGROUND\", \"NZ RUSS\", 1966], [1967, \"USSR\", \"TUNNEL\", \"UNDERGROUND\", \"NZ RUSS\", 1967], [1968, \"USSR\", \"TUNNEL\", \"UNDERGROUND\", \"NZ RUSS\", 1968], [1969, \"USSR\", \"TUNNEL\", \"UNDERGROUND\", \"NZ RUSS\", 1969], [1970, \"USSR\", \"TUNNEL\", \"UNDERGROUND\", \"NZ RUSS\", 1970], [1971, \"USSR\", \"TUNNEL\", \"UNDERGROUND\", \"NZ RUSS\", 1971], [1972, \"USSR\", \"SHAFT\", \"UNDERGROUND\", \"NZ RUSS\", 1972], [1972, \"USSR\", \"TUNNEL\", \"UNDERGROUND\", \"NZ RUSS\", 1972], [1973, \"USSR\", \"TUNNEL\", \"UNDERGROUND\", \"NZ RUSS\", 1973], [1973, \"USSR\", \"SHAFT\", \"UNDERGROUND\", \"NZ RUSS\", 1973], [1973, \"USSR\", \"SHAFT\", \"UNDERGROUND\", \"NZ RUSS\", 1973], [1974, \"USSR\", \"TUNNEL\", \"UNDERGROUND\", \"NZ RUSS\", 1974], [1974, \"USSR\", \"SHAFT\", \"UNDERGROUND\", \"NZ RUSS\", 1974], [1975, \"USSR\", \"TUNNEL\", \"UNDERGROUND\", \"NZ RUSS\", 1975], [1975, \"USSR\", \"SHAFT\", \"UNDERGROUND\", \"NZ RUSS\", 1975], [1975, \"USSR\", \"SHAFT\", \"UNDERGROUND\", \"NZ RUSS\", 1975], [1975, \"USSR\", \"TUNNEL\", \"UNDERGROUND\", \"NZ RUSS\", 1975], [1976, \"USSR\", \"TUNNEL\", \"UNDERGROUND\", \"NZ RUSS\", 1976], [1976, \"USSR\", \"TUNNEL\", \"UNDERGROUND\", \"NZ RUSS\", 1976], [1977, \"USSR\", \"TUNNEL\", \"UNDERGROUND\", \"NZ RUSS\", 1977], [1977, \"USSR\", \"TUNNEL\", \"UNDERGROUND\", \"NZ RUSS\", 1977], [1978, \"USSR\", \"TUNNEL\", \"UNDERGROUND\", \"NZ RUSS\", 1978], [1978, \"USSR\", \"TUNNEL\", \"UNDERGROUND\", \"NZ RUSS\", 1978], [1979, \"USSR\", \"TUNNEL\", \"UNDERGROUND\", \"NZ RUSS\", 1979], [1979, \"USSR\", \"TUNNEL\", \"UNDERGROUND\", \"NZ RUSS\", 1979], [1981, \"USSR\", \"TUNNEL\", \"UNDERGROUND\", \"NZ RUSS\", 1981], [1982, \"USSR\", \"TUNNEL\", \"UNDERGROUND\", \"NZ RUSS\", 1982], [1983, \"USSR\", \"TUNNEL\", \"UNDERGROUND\", \"NZ RUSS\", 1983], [1983, \"USSR\", \"TUNNEL\", \"UNDERGROUND\", \"NZ RUSS\", 1983], [1984, \"USSR\", \"TUNNEL\", \"UNDERGROUND\", \"NZ RUSS\", 1984], [1984, \"USSR\", \"TUNNEL\", \"UNDERGROUND\", \"NZ RUSS\", 1984], [1987, \"USSR\", \"TUNNEL\", \"UNDERGROUND\", \"NZ RUSS\", 1987], [1988, \"USSR\", \"TUNNEL\", \"UNDERGROUND\", \"NZ RUSS\", 1988], [1988, \"USSR\", \"TUNNEL\", \"UNDERGROUND\", \"NZ RUSS\", 1988], [1990, \"USSR\", \"TUNNEL\", \"UNDERGROUND\", \"NZ RUSS\", 1990]], \"hoverlabel\": {\"namelength\": 0}, \"hovertemplate\": \"region=%{customdata[4]}<br>x=%{x}<br>y=%{y}<br>year=%{customdata[5]}<br>country=%{customdata[1]}<br>type=%{customdata[2]}<br>type_cat=%{customdata[3]}\", \"legendgroup\": \"region=NZ RUSS\", \"marker\": {\"color\": \"#EF553B\", \"symbol\": \"circle\"}, \"mode\": \"markers\", \"name\": \"region=NZ RUSS\", \"showlegend\": true, \"type\": \"scattergl\", \"uid\": \"e974747d-f654-4130-96f1-c92d48910f49\", \"x\": [-4.185125827789307, -4.786067485809326, -4.709467887878418, -4.309280872344971, -4.692668914794922, -4.191278457641602, -4.777787685394287, -4.13311767578125, -4.645254611968994, -4.737512111663818, -4.697842121124268, -4.212558746337891, -4.115480422973633, -4.103309631347656, -4.113938808441162, -4.108341693878174, -4.088626384735107, -4.789811134338379, -4.757704734802246, -4.742276668548584, -4.110452175140381, -4.110294818878174, -4.300257682800293, -4.104221343994141, -4.69656229019165, -4.6918559074401855, -4.1669487953186035, -4.11090612411499, -4.717713356018066, -3.3948047161102295, -4.757803916931152, -3.284975051879883, -4.754692077636719, -4.77802848815918, -4.730062961578369, -4.677839756011963, -4.882993698120117, -4.843217372894287, -4.6783447265625, -4.627410411834717, -3.3989405632019043, -4.789764404296875, -4.501369953155518, -3.228097915649414, -4.8724517822265625, -3.3973495960235596, -4.567204475402832, -4.612304210662842, -4.679333686828613, -3.310166120529175, -4.850156784057617, -3.431706190109253, -4.683115005493164, -3.263949155807495, -4.507321357727051, -4.712883949279785, -4.7167487144470215, -4.785147190093994, -6.094186305999756, -4.628783702850342, -4.683748722076416, -6.139629364013672, -4.797770023345947, -4.696104049682617, -4.684728622436523, -4.7682037353515625, -4.598720073699951, -4.719676494598389, -4.516645908355713, -4.533459663391113, -4.884523391723633, -6.060692310333252, -4.517548561096191, -4.888452053070068, -4.860448360443115, -4.887213230133057, -4.884993553161621, -4.8670878410339355, -6.155458927154541, -6.137279987335205, -6.153809070587158, -6.026211261749268, -6.068780899047852, -4.870233058929443, -6.019603729248047, -6.505405902862549, -4.547551155090332, -4.726996898651123, -4.710812091827393, -6.06052827835083, -11.064332008361816, -10.975247383117676, -11.583941459655762, 10.893814086914062, -11.577595710754395, -11.651426315307617, -11.649322509765625, -11.658617973327637, -11.84469223022461, 10.37423324584961, -11.8637056350708, -11.959521293640137, -11.786458969116211, -11.854823112487793, -11.9133939743042, -11.846446990966797, -12.899654388427734, -11.885741233825684, 10.112933158874512, -12.78317642211914, -13.233780860900879, -13.168696403503418, -13.33146858215332, -13.7496976852417, -11.720171928405762, -11.710437774658203, -11.755756378173828, -11.663529396057129, -11.592602729797363, -11.602486610412598, -11.925643920898438, -14.853456497192383, -14.775219917297363, -11.936038970947266, -15.170112609863281, -11.982817649841309, -12.107114791870117, -11.999966621398926], \"xaxis\": \"x\", \"y\": [-11.619053840637207, -14.072493553161621, -14.404187202453613, -11.933940887451172, -13.870229721069336, -12.375550270080566, -14.064921379089355, -12.324233055114746, -13.760085105895996, -13.98681926727295, -13.947000503540039, -12.426201820373535, -12.33194351196289, -12.26964282989502, -12.294840812683105, -12.270264625549316, -12.304370880126953, -14.035985946655273, -14.058614730834961, -14.325007438659668, -12.309881210327148, -12.27835464477539, -12.738698959350586, -12.256524085998535, -14.405173301696777, -13.91012191772461, -12.342491149902344, -12.277130126953125, -14.371004104614258, -13.425711631774902, -13.974363327026367, -13.351395606994629, -13.979805946350098, -13.814046859741211, -13.931907653808594, -13.555506706237793, -13.357239723205566, -13.400260925292969, -14.295283317565918, -14.471871376037598, -13.420263290405273, -14.066854476928711, -14.556097984313965, -13.317147254943848, -13.37726879119873, -13.418158531188965, -14.494507789611816, -14.49262809753418, -13.573179244995117, -13.306492805480957, -13.388704299926758, -13.450352668762207, -13.560909271240234, -13.333638191223145, -14.546815872192383, -13.557872772216797, -14.402684211730957, -14.096193313598633, -12.437276840209961, -14.319341659545898, -14.410845756530762, -12.473655700683594, -14.133025169372559, -14.395782470703125, -14.427764892578125, -14.049407005310059, -14.294371604919434, -14.351113319396973, -14.547564506530762, -14.539316177368164, -13.428873062133789, -12.406105041503906, -14.541482925415039, -13.392633438110352, -13.406079292297363, -13.390851974487305, -13.392374992370605, -13.391712188720703, -12.475225448608398, -12.485617637634277, -12.47858715057373, -12.390559196472168, -12.427682876586914, -13.412969589233398, -12.409314155578613, -12.551885604858398, -14.508927345275879, -13.998388290405273, -14.388694763183594, -12.418477058410645, 6.712179660797119, 6.626173496246338, 6.7566423416137695, 18.6742000579834, 6.805012226104736, 6.786350250244141, 6.823226451873779, 6.82391357421875, -3.7915396690368652, 19.429203033447266, -3.875826120376587, -4.025925636291504, -3.8761675357818604, -3.9647319316864014, -3.915896415710449, -3.9596943855285645, 7.5323286056518555, -3.853048086166382, 19.918737411499023, 7.400482177734375, 7.773977279663086, 7.869145393371582, 7.858623504638672, 8.26594066619873, -4.08024263381958, -4.090967178344727, -4.074146270751953, -4.198077201843262, -4.436377048492432, -4.539121627807617, -4.450323581695557, 8.919805526733398, 9.127232551574707, -4.0693583488464355, 9.14397144317627, -4.688384056091309, -4.790900707244873, -4.691792011260986], \"yaxis\": \"y\"}, {\"customdata\": [[1956, \"USSR\", \"SURFACE\", \"ATMOSPHERIC\", \"KAZAKH\", 1956], [1972, \"USSR\", \"SHAFT\", \"UNDERGROUND\", \"KAZAKH\", 1972], [1972, \"USSR\", \"SHAFT\", \"UNDERGROUND\", \"KAZAKH\", 1972], [1973, \"USSR\", \"SHAFT\", \"UNDERGROUND\", \"KAZAKH\", 1973], [1973, \"USSR\", \"SHAFT\", \"UNDERGROUND\", \"KAZAKH\", 1973], [1973, \"USSR\", \"SHAFT\", \"UNDERGROUND\", \"KAZAKH\", 1973], [1983, \"USSR\", \"SHAFT\", \"UNDERGROUND\", \"KAZAKH\", 1983], [1983, \"USSR\", \"SHAFT\", \"UNDERGROUND\", \"KAZAKH\", 1983], [1983, \"USSR\", \"SHAFT\", \"UNDERGROUND\", \"KAZAKH\", 1983]], \"hoverlabel\": {\"namelength\": 0}, \"hovertemplate\": \"region=%{customdata[4]}<br>x=%{x}<br>y=%{y}<br>year=%{customdata[5]}<br>country=%{customdata[1]}<br>type=%{customdata[2]}<br>type_cat=%{customdata[3]}\", \"legendgroup\": \"region=KAZAKH\", \"marker\": {\"color\": \"#00cc96\", \"symbol\": \"circle\"}, \"mode\": \"markers\", \"name\": \"region=KAZAKH\", \"showlegend\": true, \"type\": \"scattergl\", \"uid\": \"a2b27a1e-8187-46f0-8476-e0bc741871ed\", \"x\": [-4.235075950622559, -12.234365463256836, -12.349977493286133, -12.56430721282959, -12.529093742370605, -12.563199996948242, -14.714388847351074, -14.748262405395508, -14.682564735412598], \"xaxis\": \"x\", \"y\": [-11.68689250946045, 7.173759937286377, 7.2936482429504395, 7.4084601402282715, 7.379289627075195, 7.418245315551758, 8.957656860351562, 8.979475975036621, 8.993027687072754], \"yaxis\": \"y\"}, {\"customdata\": [[1956, \"UK\", \"TOWER\", \"ATMOSPHERIC\", \"MARALI AUSTR\", 1956], [1956, \"UK\", \"SURFACE\", \"ATMOSPHERIC\", \"MARALI AUSTR\", 1956], [1956, \"UK\", \"AIRDROP\", \"ATMOSPHERIC\", \"MARALI AUSTR\", 1956], [1956, \"UK\", \"TOWER\", \"ATMOSPHERIC\", \"MARALI AUSTR\", 1956], [1957, \"UK\", \"TOWER\", \"ATMOSPHERIC\", \"MARALI AUSTR\", 1957], [1957, \"UK\", \"TOWER\", \"ATMOSPHERIC\", \"MARALI AUSTR\", 1957], [1957, \"UK\", \"BALLOON\", \"ATMOSPHERIC\", \"MARALI AUSTR\", 1957]], \"hoverlabel\": {\"namelength\": 0}, \"hovertemplate\": \"region=%{customdata[4]}<br>x=%{x}<br>y=%{y}<br>year=%{customdata[5]}<br>country=%{customdata[1]}<br>type=%{customdata[2]}<br>type_cat=%{customdata[3]}\", \"legendgroup\": \"region=MARALI AUSTR\", \"marker\": {\"color\": \"#ab63fa\", \"symbol\": \"circle\"}, \"mode\": \"markers\", \"name\": \"region=MARALI AUSTR\", \"showlegend\": true, \"type\": \"scattergl\", \"uid\": \"1537c23b-2040-41e1-bbda-ad9dc2fdf592\", \"x\": [-5.294401168823242, -5.279176712036133, -5.282810211181641, -5.273297309875488, -5.279151916503906, -5.269820213317871, -5.265203475952148], \"xaxis\": \"x\", \"y\": [-16.222375869750977, -16.225934982299805, -16.227176666259766, -16.22730255126953, -16.22559356689453, -16.23417091369629, -16.22933578491211], \"yaxis\": \"y\"}, {\"customdata\": [[1957, \"USSR\", \"ATMOSPH\", \"ATMOSPHERIC\", \"MTR RUSS\", 1957], [1958, \"USSR\", \"ATMOSPH\", \"ATMOSPHERIC\", \"MTR RUSS\", 1958], [1961, \"USSR\", \"ATMOSPH\", \"ATMOSPHERIC\", \"MTR RUSS\", 1961], [1961, \"USSR\", \"ATMOSPH\", \"ATMOSPHERIC\", \"MTR RUSS\", 1961], [1961, \"USSR\", \"SPACE\", \"ATMOSPHERIC\", \"MTR RUSS\", 1961], [1961, \"USSR\", \"SPACE\", \"ATMOSPHERIC\", \"MTR RUSS\", 1961], [1962, \"USSR\", \"SPACE\", \"ATMOSPHERIC\", \"MTR RUSS\", 1962], [1962, \"USSR\", \"SPACE\", \"ATMOSPHERIC\", \"MTR RUSS\", 1962], [1962, \"USSR\", \"ATMOSPH\", \"ATMOSPHERIC\", \"MTR RUSS\", 1962]], \"hoverlabel\": {\"namelength\": 0}, \"hovertemplate\": \"region=%{customdata[4]}<br>x=%{x}<br>y=%{y}<br>year=%{customdata[5]}<br>country=%{customdata[1]}<br>type=%{customdata[2]}<br>type_cat=%{customdata[3]}\", \"legendgroup\": \"region=MTR RUSS\", \"marker\": {\"color\": \"#19d3f3\", \"symbol\": \"circle\"}, \"mode\": \"markers\", \"name\": \"region=MTR RUSS\", \"showlegend\": true, \"type\": \"scattergl\", \"uid\": \"43ada5dc-00fe-4c6d-acec-3d55f4ae0844\", \"x\": [-4.313999176025391, -4.1005353927612305, -3.345783233642578, -3.4497365951538086, -3.088089942932129, -3.0728530883789062, -4.8821892738342285, -4.889526844024658, -4.890322685241699], \"xaxis\": \"x\", \"y\": [-11.9169282913208, -12.268759727478027, -13.390388488769531, -13.448495864868164, -13.223581314086914, -13.211621284484863, -13.394645690917969, -13.396149635314941, -13.40289306640625], \"yaxis\": \"y\"}, {\"customdata\": [[1957, \"USA\", \"SURFACE\", \"ATMOSPHERIC\", \"MELLIS NV\", 1957]], \"hoverlabel\": {\"namelength\": 0}, \"hovertemplate\": \"region=%{customdata[4]}<br>x=%{x}<br>y=%{y}<br>year=%{customdata[5]}<br>country=%{customdata[1]}<br>type=%{customdata[2]}<br>type_cat=%{customdata[3]}\", \"legendgroup\": \"region=MELLIS NV\", \"marker\": {\"color\": \"#e763fa\", \"symbol\": \"circle\"}, \"mode\": \"markers\", \"name\": \"region=MELLIS NV\", \"showlegend\": true, \"type\": \"scattergl\", \"uid\": \"ef2d2f0e-4789-49d6-b46a-bd2e69169c61\", \"x\": [-4.712101936340332], \"xaxis\": \"x\", \"y\": [-16.86662483215332], \"yaxis\": \"y\"}, {\"customdata\": [[1957, \"UK\", \"AIRDROP\", \"ATMOSPHERIC\", \"MALDEN IS\", 1957], [1957, \"UK\", \"AIRDROP\", \"ATMOSPHERIC\", \"MALDEN IS\", 1957], [1957, \"UK\", \"AIRDROP\", \"ATMOSPHERIC\", \"MALDEN IS\", 1957]], \"hoverlabel\": {\"namelength\": 0}, \"hovertemplate\": \"region=%{customdata[4]}<br>x=%{x}<br>y=%{y}<br>year=%{customdata[5]}<br>country=%{customdata[1]}<br>type=%{customdata[2]}<br>type_cat=%{customdata[3]}\", \"legendgroup\": \"region=MALDEN IS\", \"marker\": {\"color\": \"#FECB52\", \"symbol\": \"circle\"}, \"mode\": \"markers\", \"name\": \"region=MALDEN IS\", \"showlegend\": true, \"type\": \"scattergl\", \"uid\": \"022341e0-6b60-47cc-8e21-5a29b7072bb4\", \"x\": [-5.1637492179870605, -5.011910438537598, -5.25142240524292], \"xaxis\": \"x\", \"y\": [-16.2685546875, -16.082395553588867, -16.24180793762207], \"yaxis\": \"y\"}, {\"customdata\": [[1957, \"USSR\", \"SURFACE\", \"ATMOSPHERIC\", \"N2 RUSS\", 1957]], \"hoverlabel\": {\"namelength\": 0}, \"hovertemplate\": \"region=%{customdata[4]}<br>x=%{x}<br>y=%{y}<br>year=%{customdata[5]}<br>country=%{customdata[1]}<br>type=%{customdata[2]}<br>type_cat=%{customdata[3]}\", \"legendgroup\": \"region=N2 RUSS\", \"marker\": {\"color\": \"#FFA15A\", \"symbol\": \"circle\"}, \"mode\": \"markers\", \"name\": \"region=N2 RUSS\", \"showlegend\": true, \"type\": \"scattergl\", \"uid\": \"caa9a0a2-71ef-404d-aa04-a1823708119d\", \"x\": [-4.336550712585449], \"xaxis\": \"x\", \"y\": [-11.891655921936035], \"yaxis\": \"y\"}, {\"customdata\": [[1957, \"UK\", \"AIRDROP\", \"ATMOSPHERIC\", \"CHRISTMAS IS\", 1957], [1958, \"UK\", \"AIRDROP\", \"ATMOSPHERIC\", \"CHRISTMAS IS\", 1958], [1958, \"UK\", \"BALLOON\", \"ATMOSPHERIC\", \"CHRISTMAS IS\", 1958], [1958, \"UK\", \"AIRDROP\", \"ATMOSPHERIC\", \"CHRISTMAS IS\", 1958], [1958, \"UK\", \"AIRDROP\", \"ATMOSPHERIC\", \"CHRISTMAS IS\", 1958], [1958, \"UK\", \"BALLOON\", \"ATMOSPHERIC\", \"CHRISTMAS IS\", 1958], [1962, \"USA\", \"AIRDROP\", \"ATMOSPHERIC\", \"CHRISTMAS IS\", 1962], [1962, \"USA\", \"AIRDROP\", \"ATMOSPHERIC\", \"CHRISTMAS IS\", 1962], [1962, \"USA\", \"AIRDROP\", \"ATMOSPHERIC\", \"CHRISTMAS IS\", 1962], [1962, \"USA\", \"AIRDROP\", \"ATMOSPHERIC\", \"CHRISTMAS IS\", 1962], [1962, \"USA\", \"AIRDROP\", \"ATMOSPHERIC\", \"CHRISTMAS IS\", 1962], [1962, \"USA\", \"AIRDROP\", \"ATMOSPHERIC\", \"CHRISTMAS IS\", 1962], [1962, \"USA\", \"AIRDROP\", \"ATMOSPHERIC\", \"CHRISTMAS IS\", 1962], [1962, \"USA\", \"AIRDROP\", \"ATMOSPHERIC\", \"CHRISTMAS IS\", 1962], [1962, \"USA\", \"AIRDROP\", \"ATMOSPHERIC\", \"CHRISTMAS IS\", 1962], [1962, \"USA\", \"AIRDROP\", \"ATMOSPHERIC\", \"CHRISTMAS IS\", 1962], [1962, \"USA\", \"AIRDROP\", \"ATMOSPHERIC\", \"CHRISTMAS IS\", 1962], [1962, \"USA\", \"AIRDROP\", \"ATMOSPHERIC\", \"CHRISTMAS IS\", 1962], [1962, \"USA\", \"AIRDROP\", \"ATMOSPHERIC\", \"CHRISTMAS IS\", 1962], [1962, \"USA\", \"AIRDROP\", \"ATMOSPHERIC\", \"CHRISTMAS IS\", 1962], [1962, \"USA\", \"AIRDROP\", \"ATMOSPHERIC\", \"CHRISTMAS IS\", 1962], [1962, \"USA\", \"AIRDROP\", \"ATMOSPHERIC\", \"CHRISTMAS IS\", 1962], [1962, \"USA\", \"AIRDROP\", \"ATMOSPHERIC\", \"CHRISTMAS IS\", 1962], [1962, \"USA\", \"AIRDROP\", \"ATMOSPHERIC\", \"CHRISTMAS IS\", 1962], [1962, \"USA\", \"AIRDROP\", \"ATMOSPHERIC\", \"CHRISTMAS IS\", 1962], [1962, \"USA\", \"AIRDROP\", \"ATMOSPHERIC\", \"CHRISTMAS IS\", 1962], [1962, \"USA\", \"AIRDROP\", \"ATMOSPHERIC\", \"CHRISTMAS IS\", 1962], [1962, \"USA\", \"AIRDROP\", \"ATMOSPHERIC\", \"CHRISTMAS IS\", 1962], [1962, \"USA\", \"AIRDROP\", \"ATMOSPHERIC\", \"CHRISTMAS IS\", 1962], [1962, \"USA\", \"AIRDROP\", \"ATMOSPHERIC\", \"CHRISTMAS IS\", 1962]], \"hoverlabel\": {\"namelength\": 0}, \"hovertemplate\": \"region=%{customdata[4]}<br>x=%{x}<br>y=%{y}<br>year=%{customdata[5]}<br>country=%{customdata[1]}<br>type=%{customdata[2]}<br>type_cat=%{customdata[3]}\", \"legendgroup\": \"region=CHRISTMAS IS\", \"marker\": {\"color\": \"#FF6692\", \"symbol\": \"circle\"}, \"mode\": \"markers\", \"name\": \"region=CHRISTMAS IS\", \"showlegend\": true, \"type\": \"scattergl\", \"uid\": \"6e6f143c-b69e-4a34-8082-9cd29907ad0e\", \"x\": [-4.941956996917725, -4.75394344329834, -5.195217609405518, -4.946063041687012, -5.003410816192627, -5.201910972595215, -5.985520362854004, -5.754449844360352, -5.148637771606445, -5.332435131072998, -5.995429039001465, -5.975863456726074, -5.982772350311279, -5.527658939361572, -5.935328960418701, -5.958887577056885, -6.048858642578125, -5.98728084564209, -5.321481704711914, -5.943220138549805, -4.711680889129639, -5.056788921356201, -5.264320373535156, -6.000277042388916, -6.017999172210693, -5.968993663787842, -4.557133674621582, -5.034063816070557, -5.226408958435059, -4.686376571655273], \"xaxis\": \"x\", \"y\": [-14.484140396118164, -14.451189041137695, -16.315717697143555, -16.021760940551758, -16.026451110839844, -16.310848236083984, -14.5355806350708, -14.59032917022705, -14.53437328338623, -14.577031135559082, -14.537927627563477, -14.555088996887207, -14.553542137145996, -14.573938369750977, -14.576478958129883, -14.572827339172363, -14.483845710754395, -14.551841735839844, -14.54715347290039, -14.538216590881348, -14.409502983093262, -14.440788269042969, -14.556304931640625, -14.529839515686035, -14.511033058166504, -14.560216903686523, -14.50347900390625, -14.452014923095703, -14.54595947265625, -14.420165061950684], \"yaxis\": \"y\"}, {\"customdata\": [[1958, \"USA\", \"BALLOON\", \"ATMOSPHERIC\", \"PACIFIC\", 1958], [1962, \"USA\", \"ROCKET\", \"ATMOSPHERIC\", \"PACIFIC\", 1962], [1962, \"USA\", \"UW\", \"ATMOSPHERIC\", \"PACIFIC\", 1962]], \"hoverlabel\": {\"namelength\": 0}, \"hovertemplate\": \"region=%{customdata[4]}<br>x=%{x}<br>y=%{y}<br>year=%{customdata[5]}<br>country=%{customdata[1]}<br>type=%{customdata[2]}<br>type_cat=%{customdata[3]}\", \"legendgroup\": \"region=PACIFIC\", \"marker\": {\"color\": \"#B6E880\", \"symbol\": \"circle\"}, \"mode\": \"markers\", \"name\": \"region=PACIFIC\", \"showlegend\": true, \"type\": \"scattergl\", \"uid\": \"9c298fa7-811f-42eb-a076-edd9e20ffee2\", \"x\": [-4.741755962371826, -5.881833076477051, -6.049319744110107], \"xaxis\": \"x\", \"y\": [-16.7437686920166, -14.586409568786621, -14.501978874206543], \"yaxis\": \"y\"}, {\"customdata\": [[1958, \"USA\", \"ROCKET\", \"ATMOSPHERIC\", \"JOHNSTON IS\", 1958], [1958, \"USA\", \"ROCKET\", \"ATMOSPHERIC\", \"JOHNSTON IS\", 1958], [1962, \"USA\", \"ROCKET\", \"ATMOSPHERIC\", \"JOHNSTON IS\", 1962], [1962, \"USA\", \"AIRDROP\", \"ATMOSPHERIC\", \"JOHNSTON IS\", 1962], [1962, \"USA\", \"AIRDROP\", \"ATMOSPHERIC\", \"JOHNSTON IS\", 1962], [1962, \"USA\", \"AIRDROP\", \"ATMOSPHERIC\", \"JOHNSTON IS\", 1962], [1962, \"USA\", \"ROCKET\", \"ATMOSPHERIC\", \"JOHNSTON IS\", 1962], [1962, \"USA\", \"ROCKET\", \"ATMOSPHERIC\", \"JOHNSTON IS\", 1962], [1962, \"USA\", \"AIRDROP\", \"ATMOSPHERIC\", \"JOHNSTON IS\", 1962], [1962, \"USA\", \"AIRDROP\", \"ATMOSPHERIC\", \"JOHNSTON IS\", 1962], [1962, \"USA\", \"ROCKET\", \"ATMOSPHERIC\", \"JOHNSTON IS\", 1962], [1962, \"USA\", \"ROCKET\", \"ATMOSPHERIC\", \"JOHNSTON IS\", 1962]], \"hoverlabel\": {\"namelength\": 0}, \"hovertemplate\": \"region=%{customdata[4]}<br>x=%{x}<br>y=%{y}<br>year=%{customdata[5]}<br>country=%{customdata[1]}<br>type=%{customdata[2]}<br>type_cat=%{customdata[3]}\", \"legendgroup\": \"region=JOHNSTON IS\", \"marker\": {\"color\": \"#636efa\", \"symbol\": \"circle\"}, \"mode\": \"markers\", \"name\": \"region=JOHNSTON IS\", \"showlegend\": true, \"type\": \"scattergl\", \"uid\": \"8a420f24-40b3-4593-afca-58c8755004bc\", \"x\": [-4.773298263549805, -4.733285427093506, -4.6671648025512695, -5.953446388244629, -6.030754089355469, -4.966902732849121, -6.0418219566345215, -5.51504373550415, -5.245743274688721, -4.556187152862549, -5.5134735107421875, -6.032594203948975], \"xaxis\": \"x\", \"y\": [-14.957722663879395, -14.490250587463379, -16.250919342041016, -14.547533988952637, -14.493492126464844, -14.427584648132324, -14.493473052978516, -14.588866233825684, -14.551276206970215, -14.50439453125, -14.579349517822266, -14.504108428955078], \"yaxis\": \"y\"}, {\"customdata\": [[1958, \"USA\", \"ROCKET\", \"ATMOSPHERIC\", \"S. ATLANTIC\", 1958]], \"hoverlabel\": {\"namelength\": 0}, \"hovertemplate\": \"region=%{customdata[4]}<br>x=%{x}<br>y=%{y}<br>year=%{customdata[5]}<br>country=%{customdata[1]}<br>type=%{customdata[2]}<br>type_cat=%{customdata[3]}\", \"legendgroup\": \"region=S. ATLANTIC\", \"marker\": {\"color\": \"#EF553B\", \"symbol\": \"circle\"}, \"mode\": \"markers\", \"name\": \"region=S. ATLANTIC\", \"showlegend\": true, \"type\": \"scattergl\", \"uid\": \"4b18a969-d5aa-405f-9bfa-c96a1ba18422\", \"x\": [-4.6518731117248535], \"xaxis\": \"x\", \"y\": [-16.222766876220703], \"yaxis\": \"y\"}, {\"customdata\": [[1958, \"USA\", \"ROCKET\", \"ATMOSPHERIC\", \"S.ATLANTIC\", 1958], [1958, \"USA\", \"ROCKET\", \"ATMOSPHERIC\", \"S.ATLANTIC\", 1958]], \"hoverlabel\": {\"namelength\": 0}, \"hovertemplate\": \"region=%{customdata[4]}<br>x=%{x}<br>y=%{y}<br>year=%{customdata[5]}<br>country=%{customdata[1]}<br>type=%{customdata[2]}<br>type_cat=%{customdata[3]}\", \"legendgroup\": \"region=S.ATLANTIC\", \"marker\": {\"color\": \"#00cc96\", \"symbol\": \"circle\"}, \"mode\": \"markers\", \"name\": \"region=S.ATLANTIC\", \"showlegend\": true, \"type\": \"scattergl\", \"uid\": \"32c065ce-5d38-4e99-beba-481d31e3aecd\", \"x\": [-4.669290065765381, -4.667846202850342], \"xaxis\": \"x\", \"y\": [-16.242164611816406, -16.241836547851562], \"yaxis\": \"y\"}, {\"customdata\": [[1958, \"USSR\", \"ATMOSPH\", \"ATMOSPHERIC\", \"HTR RUSS\", 1958]], \"hoverlabel\": {\"namelength\": 0}, \"hovertemplate\": \"region=%{customdata[4]}<br>x=%{x}<br>y=%{y}<br>year=%{customdata[5]}<br>country=%{customdata[1]}<br>type=%{customdata[2]}<br>type_cat=%{customdata[3]}\", \"legendgroup\": \"region=HTR RUSS\", \"marker\": {\"color\": \"#ab63fa\", \"symbol\": \"circle\"}, \"mode\": \"markers\", \"name\": \"region=HTR RUSS\", \"showlegend\": true, \"type\": \"scattergl\", \"uid\": \"25aebddc-be70-4ecd-814c-77ef3ea8459c\", \"x\": [-4.102770805358887], \"xaxis\": \"x\", \"y\": [-12.278669357299805], \"yaxis\": \"y\"}, {\"customdata\": [[1960, \"FRANCE\", \"TOWER\", \"ATMOSPHERIC\", \"REGGANE ALG\", 1960], [1960, \"FRANCE\", \"SURFACE\", \"ATMOSPHERIC\", \"REGGANE ALG\", 1960], [1960, \"FRANCE\", \"TOWER\", \"ATMOSPHERIC\", \"REGGANE ALG\", 1960], [1961, \"FRANCE\", \"TOWER\", \"ATMOSPHERIC\", \"REGGANE ALG\", 1961]], \"hoverlabel\": {\"namelength\": 0}, \"hovertemplate\": \"region=%{customdata[4]}<br>x=%{x}<br>y=%{y}<br>year=%{customdata[5]}<br>country=%{customdata[1]}<br>type=%{customdata[2]}<br>type_cat=%{customdata[3]}\", \"legendgroup\": \"region=REGGANE ALG\", \"marker\": {\"color\": \"#19d3f3\", \"symbol\": \"circle\"}, \"mode\": \"markers\", \"name\": \"region=REGGANE ALG\", \"showlegend\": true, \"type\": \"scattergl\", \"uid\": \"ac3bbbb8-c409-4b93-8629-75db3d6cd1c5\", \"x\": [-17.055051803588867, -17.053674697875977, -17.095727920532227, -17.0398006439209], \"xaxis\": \"x\", \"y\": [3.473004102706909, 3.44464111328125, 3.4333653450012207, 3.465451240539551], \"yaxis\": \"y\"}, {\"customdata\": [[1961, \"FRANCE\", \"GALLERY\", \"UNDERGROUND\", \"IN ECKER ALG\", 1961], [1962, \"FRANCE\", \"GALLERY\", \"UNDERGROUND\", \"IN ECKER ALG\", 1962], [1963, \"FRANCE\", \"GALLERY\", \"UNDERGROUND\", \"IN ECKER ALG\", 1963], [1963, \"FRANCE\", \"GALLERY\", \"UNDERGROUND\", \"IN ECKER ALG\", 1963], [1963, \"FRANCE\", \"GALLERY\", \"UNDERGROUND\", \"IN ECKER ALG\", 1963], [1964, \"FRANCE\", \"GALLERY\", \"UNDERGROUND\", \"IN ECKER ALG\", 1964], [1964, \"FRANCE\", \"GALLERY\", \"UNDERGROUND\", \"IN ECKER ALG\", 1964], [1964, \"FRANCE\", \"GALLERY\", \"UNDERGROUND\", \"IN ECKER ALG\", 1964], [1965, \"FRANCE\", \"GALLERY\", \"UNDERGROUND\", \"IN ECKER ALG\", 1965], [1965, \"FRANCE\", \"GALLERY\", \"UNDERGROUND\", \"IN ECKER ALG\", 1965], [1965, \"FRANCE\", \"GALLERY\", \"UNDERGROUND\", \"IN ECKER ALG\", 1965], [1965, \"FRANCE\", \"GALLERY\", \"UNDERGROUND\", \"IN ECKER ALG\", 1965], [1966, \"FRANCE\", \"GALLERY\", \"UNDERGROUND\", \"IN ECKER ALG\", 1966]], \"hoverlabel\": {\"namelength\": 0}, \"hovertemplate\": \"region=%{customdata[4]}<br>x=%{x}<br>y=%{y}<br>year=%{customdata[5]}<br>country=%{customdata[1]}<br>type=%{customdata[2]}<br>type_cat=%{customdata[3]}\", \"legendgroup\": \"region=IN ECKER ALG\", \"marker\": {\"color\": \"#e763fa\", \"symbol\": \"circle\"}, \"mode\": \"markers\", \"name\": \"region=IN ECKER ALG\", \"showlegend\": true, \"type\": \"scattergl\", \"uid\": \"f45d59b7-b63a-472b-9bff-ab9bfa383123\", \"x\": [-4.979816436767578, -4.991538047790527, -4.979617595672607, -4.979440212249756, -4.979405879974365, -4.979262351989746, -4.979159832000732, -4.964200496673584, -7.012448787689209, -4.978971004486084, -4.979015827178955, -7.038433074951172, -4.978992938995361], \"xaxis\": \"x\", \"y\": [14.2710542678833, 14.277497291564941, 14.270875930786133, 14.270553588867188, 14.270604133605957, 14.270370483398438, 14.270360946655273, 14.254467964172363, 9.3231201171875, 14.270259857177734, 14.270234107971191, 9.327146530151367, 14.270200729370117], \"yaxis\": \"y\"}, {\"customdata\": [[1961, \"USA\", \"SHAFT\", \"UNDERGROUND\", \"CARLSBAD NM\", 1961]], \"hoverlabel\": {\"namelength\": 0}, \"hovertemplate\": \"region=%{customdata[4]}<br>x=%{x}<br>y=%{y}<br>year=%{customdata[5]}<br>country=%{customdata[1]}<br>type=%{customdata[2]}<br>type_cat=%{customdata[3]}\", \"legendgroup\": \"region=CARLSBAD NM\", \"marker\": {\"color\": \"#FECB52\", \"symbol\": \"circle\"}, \"mode\": \"markers\", \"name\": \"region=CARLSBAD NM\", \"showlegend\": true, \"type\": \"scattergl\", \"uid\": \"358d24d5-1b39-4400-95ca-83fe594afbde\", \"x\": [3.3563034534454346], \"xaxis\": \"x\", \"y\": [-10.5558500289917], \"yaxis\": \"y\"}, {\"customdata\": [[1963, \"USA\", \"SURFACE\", \"ATMOSPHERIC\", \"NELLIS NV\", 1963], [1963, \"USA\", \"SURFACE\", \"ATMOSPHERIC\", \"NELLIS NV\", 1963], [1963, \"USA\", \"SURFACE\", \"ATMOSPHERIC\", \"NELLIS NV\", 1963], [1963, \"USA\", \"SURFACE\", \"ATMOSPHERIC\", \"NELLIS NV\", 1963]], \"hoverlabel\": {\"namelength\": 0}, \"hovertemplate\": \"region=%{customdata[4]}<br>x=%{x}<br>y=%{y}<br>year=%{customdata[5]}<br>country=%{customdata[1]}<br>type=%{customdata[2]}<br>type_cat=%{customdata[3]}\", \"legendgroup\": \"region=NELLIS NV\", \"marker\": {\"color\": \"#FFA15A\", \"symbol\": \"circle\"}, \"mode\": \"markers\", \"name\": \"region=NELLIS NV\", \"showlegend\": true, \"type\": \"scattergl\", \"uid\": \"3e63242c-6859-488b-a24d-bfeba4a4b933\", \"x\": [-6.038267135620117, -6.0400261878967285, -6.05545711517334, -6.061277866363525], \"xaxis\": \"x\", \"y\": [-14.48597240447998, -14.486473083496094, -14.469736099243164, -14.464705467224121], \"yaxis\": \"y\"}, {\"customdata\": [[1963, \"USA\", \"SHAFT\", \"UNDERGROUND\", \"FALLON NV\", 1963]], \"hoverlabel\": {\"namelength\": 0}, \"hovertemplate\": \"region=%{customdata[4]}<br>x=%{x}<br>y=%{y}<br>year=%{customdata[5]}<br>country=%{customdata[1]}<br>type=%{customdata[2]}<br>type_cat=%{customdata[3]}\", \"legendgroup\": \"region=FALLON NV\", \"marker\": {\"color\": \"#FF6692\", \"symbol\": \"circle\"}, \"mode\": \"markers\", \"name\": \"region=FALLON NV\", \"showlegend\": true, \"type\": \"scattergl\", \"uid\": \"cb0176f2-3f58-403d-9095-2a2c1ba2a4a3\", \"x\": [25.768077850341797], \"xaxis\": \"x\", \"y\": [3.6472644805908203], \"yaxis\": \"y\"}, {\"customdata\": [[1964, \"CHINA\", \"TOWER\", \"ATMOSPHERIC\", \"LOP NOR\", 1964], [1965, \"CHINA\", \"AIRDROP\", \"ATMOSPHERIC\", \"LOP NOR\", 1965], [1966, \"CHINA\", \"AIRDROP\", \"ATMOSPHERIC\", \"LOP NOR\", 1966], [1966, \"CHINA\", \"ROCKET\", \"ATMOSPHERIC\", \"LOP NOR\", 1966], [1966, \"CHINA\", \"TOWER\", \"ATMOSPHERIC\", \"LOP NOR\", 1966], [1967, \"CHINA\", \"AIRDROP\", \"ATMOSPHERIC\", \"LOP NOR\", 1967], [1967, \"CHINA\", \"AIRDROP\", \"ATMOSPHERIC\", \"LOP NOR\", 1967], [1968, \"CHINA\", \"AIRDROP\", \"ATMOSPHERIC\", \"LOP NOR\", 1968], [1969, \"CHINA\", \"UG\", \"UNDERGROUND\", \"LOP NOR\", 1969], [1969, \"CHINA\", \"AIRDROP\", \"ATMOSPHERIC\", \"LOP NOR\", 1969], [1970, \"CHINA\", \"AIRDROP\", \"ATMOSPHERIC\", \"LOP NOR\", 1970], [1971, \"CHINA\", \"TOWER\", \"ATMOSPHERIC\", \"LOP NOR\", 1971], [1972, \"CHINA\", \"AIRDROP\", \"ATMOSPHERIC\", \"LOP NOR\", 1972], [1972, \"CHINA\", \"AIRDROP\", \"ATMOSPHERIC\", \"LOP NOR\", 1972], [1973, \"CHINA\", \"AIRDROP\", \"ATMOSPHERIC\", \"LOP NOR\", 1973], [1974, \"CHINA\", \"ATMOSPH\", \"ATMOSPHERIC\", \"LOP NOR\", 1974], [1975, \"CHINA\", \"UG\", \"UNDERGROUND\", \"LOP NOR\", 1975], [1976, \"CHINA\", \"ATMOSPH\", \"ATMOSPHERIC\", \"LOP NOR\", 1976], [1976, \"CHINA\", \"ATMOSPH\", \"ATMOSPHERIC\", \"LOP NOR\", 1976], [1976, \"CHINA\", \"UG\", \"UNDERGROUND\", \"LOP NOR\", 1976], [1976, \"CHINA\", \"AIRDROP\", \"ATMOSPHERIC\", \"LOP NOR\", 1976], [1977, \"CHINA\", \"ATMOSPH\", \"ATMOSPHERIC\", \"LOP NOR\", 1977], [1978, \"CHINA\", \"ATMOSPH\", \"ATMOSPHERIC\", \"LOP NOR\", 1978], [1978, \"CHINA\", \"UG\", \"UNDERGROUND\", \"LOP NOR\", 1978], [1978, \"CHINA\", \"ATMOSPH\", \"ATMOSPHERIC\", \"LOP NOR\", 1978], [1979, \"CHINA\", \"ATMOSPH\", \"ATMOSPHERIC\", \"LOP NOR\", 1979], [1980, \"CHINA\", \"ATMOSPH\", \"ATMOSPHERIC\", \"LOP NOR\", 1980], [1982, \"CHINA\", \"UG\", \"UNDERGROUND\", \"LOP NOR\", 1982], [1983, \"CHINA\", \"UG\", \"UNDERGROUND\", \"LOP NOR\", 1983], [1983, \"CHINA\", \"UG\", \"UNDERGROUND\", \"LOP NOR\", 1983], [1984, \"CHINA\", \"UG\", \"UNDERGROUND\", \"LOP NOR\", 1984], [1984, \"CHINA\", \"UG\", \"UNDERGROUND\", \"LOP NOR\", 1984], [1987, \"CHINA\", \"UG\", \"UNDERGROUND\", \"LOP NOR\", 1987], [1988, \"CHINA\", \"UG\", \"UNDERGROUND\", \"LOP NOR\", 1988], [1990, \"CHINA\", \"UG\", \"UNDERGROUND\", \"LOP NOR\", 1990], [1990, \"CHINA\", \"UG\", \"UNDERGROUND\", \"LOP NOR\", 1990], [1992, \"CHINA\", \"UG\", \"UNDERGROUND\", \"LOP NOR\", 1992], [1992, \"CHINA\", \"UG\", \"UNDERGROUND\", \"LOP NOR\", 1992], [1993, \"CHINA\", \"UG\", \"UNDERGROUND\", \"LOP NOR\", 1993], [1994, \"CHINA\", \"UG\", \"UNDERGROUND\", \"LOP NOR\", 1994], [1994, \"CHINA\", \"UG\", \"UNDERGROUND\", \"LOP NOR\", 1994], [1995, \"CHINA\", \"UG\", \"UNDERGROUND\", \"LOP NOR\", 1995], [1995, \"CHINA\", \"UG\", \"UNDERGROUND\", \"LOP NOR\", 1995], [1996, \"CHINA\", \"UG\", \"UNDERGROUND\", \"LOP NOR\", 1996], [1996, \"CHINA\", \"UG\", \"UNDERGROUND\", \"LOP NOR\", 1996]], \"hoverlabel\": {\"namelength\": 0}, \"hovertemplate\": \"region=%{customdata[4]}<br>x=%{x}<br>y=%{y}<br>year=%{customdata[5]}<br>country=%{customdata[1]}<br>type=%{customdata[2]}<br>type_cat=%{customdata[3]}\", \"legendgroup\": \"region=LOP NOR\", \"marker\": {\"color\": \"#B6E880\", \"symbol\": \"circle\"}, \"mode\": \"markers\", \"name\": \"region=LOP NOR\", \"showlegend\": true, \"type\": \"scattergl\", \"uid\": \"4ee20b9a-6dc5-457e-ae94-88bcb9a93c60\", \"x\": [-16.919193267822266, -16.813262939453125, -16.972665786743164, -16.892391204833984, -16.955827713012695, -16.81582260131836, -16.865327835083008, -16.863971710205078, -7.050267219543457, -16.856048583984375, -16.882158279418945, -16.756336212158203, -16.78691291809082, -16.753564834594727, -16.828514099121094, -12.723854064941406, -6.936565399169922, -16.656017303466797, -16.671716690063477, -6.972147464752197, -16.81315803527832, -16.678041458129883, -16.695707321166992, -6.9156413078308105, -16.710445404052734, -16.707027435302734, -12.696216583251953, -3.5002875328063965, -3.54170823097229, -6.849634170532227, -6.832579612731934, -6.797603130340576, -12.758984565734863, -6.763866424560547, -6.766104221343994, -12.741207122802734, -12.743000984191895, -6.773325443267822, -12.739909172058105, -12.73307991027832, -6.721656799316406, -6.758415222167969, -6.767281532287598, -6.753412246704102, -6.749388694763184], \"xaxis\": \"x\", \"y\": [3.4154112339019775, 3.44698429107666, 3.3841421604156494, 3.408630847930908, 3.4272336959838867, 3.5188496112823486, 3.4081404209136963, 3.5072176456451416, 9.344156265258789, 3.528791904449463, 3.5108566284179688, 3.436861515045166, 3.4372799396514893, 3.3722610473632812, 3.594576835632324, -3.9671852588653564, 9.22962760925293, 3.5163650512695312, 3.5071399211883545, 9.263031005859375, 3.506256341934204, 3.4637398719787598, 3.4651806354522705, 9.196828842163086, 3.4881391525268555, 3.4863669872283936, -4.018136978149414, 17.296600341796875, 17.297260284423828, 9.126688957214355, 9.106640815734863, 9.070438385009766, -4.0067548751831055, 9.029155731201172, 9.032425880432129, -3.9892737865448, -3.991326093673706, 9.03747272491455, -3.987783908843994, -3.9891257286071777, 8.97580337524414, 9.02050495147705, 9.030641555786133, 9.01605224609375, 9.010947227478027], \"yaxis\": \"y\"}, {\"customdata\": [[1964, \"USA\", \"SHAFT\", \"UNDERGROUND\", \"HATTIESB MS\", 1964]], \"hoverlabel\": {\"namelength\": 0}, \"hovertemplate\": \"region=%{customdata[4]}<br>x=%{x}<br>y=%{y}<br>year=%{customdata[5]}<br>country=%{customdata[1]}<br>type=%{customdata[2]}<br>type_cat=%{customdata[3]}\", \"legendgroup\": \"region=HATTIESB MS\", \"marker\": {\"color\": \"#636efa\", \"symbol\": \"circle\"}, \"mode\": \"markers\", \"name\": \"region=HATTIESB MS\", \"showlegend\": true, \"type\": \"scattergl\", \"uid\": \"c51a6d15-a7fe-4d56-9af1-39924a2e4332\", \"x\": [28.436681747436523], \"xaxis\": \"x\", \"y\": [-4.897367477416992], \"yaxis\": \"y\"}, {\"customdata\": [[1965, \"USSR\", \"SHAFT\", \"UNDERGROUND\", \"BASHKIR RUSS\", 1965], [1965, \"USSR\", \"SHAFT\", \"UNDERGROUND\", \"BASHKIR RUSS\", 1965], [1973, \"USSR\", \"SHAFT\", \"UNDERGROUND\", \"BASHKIR RUSS\", 1973], [1974, \"USSR\", \"SHAFT\", \"UNDERGROUND\", \"BASHKIR RUSS\", 1974], [1980, \"USSR\", \"SHAFT\", \"UNDERGROUND\", \"BASHKIR RUSS\", 1980]], \"hoverlabel\": {\"namelength\": 0}, \"hovertemplate\": \"region=%{customdata[4]}<br>x=%{x}<br>y=%{y}<br>year=%{customdata[5]}<br>country=%{customdata[1]}<br>type=%{customdata[2]}<br>type_cat=%{customdata[3]}\", \"legendgroup\": \"region=BASHKIR RUSS\", \"marker\": {\"color\": \"#EF553B\", \"symbol\": \"circle\"}, \"mode\": \"markers\", \"name\": \"region=BASHKIR RUSS\", \"showlegend\": true, \"type\": \"scattergl\", \"uid\": \"6917f26e-4680-401b-8654-67ff2174a907\", \"x\": [10.896596908569336, 10.903675079345703, -12.624704360961914, 10.170700073242188, 9.619678497314453], \"xaxis\": \"x\", \"y\": [18.668119430541992, 18.661211013793945, 7.507558822631836, 19.791345596313477, 20.88832664489746], \"yaxis\": \"y\"}, {\"customdata\": [[1965, \"USA\", \"SHAFT\", \"UNDERGROUND\", \"AMCHITKA AK\", 1965], [1969, \"USA\", \"SHAFT\", \"UNDERGROUND\", \"AMCHITKA AK\", 1969], [1971, \"USA\", \"SHAFT\", \"UNDERGROUND\", \"AMCHITKA AK\", 1971]], \"hoverlabel\": {\"namelength\": 0}, \"hovertemplate\": \"region=%{customdata[4]}<br>x=%{x}<br>y=%{y}<br>year=%{customdata[5]}<br>country=%{customdata[1]}<br>type=%{customdata[2]}<br>type_cat=%{customdata[3]}\", \"legendgroup\": \"region=AMCHITKA AK\", \"marker\": {\"color\": \"#00cc96\", \"symbol\": \"circle\"}, \"mode\": \"markers\", \"name\": \"region=AMCHITKA AK\", \"showlegend\": true, \"type\": \"scattergl\", \"uid\": \"4173074e-b854-45e7-ac5e-e8812b8845d8\", \"x\": [3.491144895553589, 3.4184815883636475, -11.872941970825195], \"xaxis\": \"x\", \"y\": [-11.200421333312988, -11.389229774475098, -3.8486156463623047], \"yaxis\": \"y\"}, {\"customdata\": [[1966, \"USSR\", \"SHAFT\", \"UNDERGROUND\", \"AZGIR KAZAKH\", 1966], [1968, \"USSR\", \"SHAFT\", \"UNDERGROUND\", \"AZGIR KAZAKH\", 1968], [1971, \"USSR\", \"SHAFT\", \"UNDERGROUND\", \"AZGIR KAZAKH\", 1971], [1975, \"USSR\", \"SHAFT\", \"UNDERGROUND\", \"AZGIR KAZAKH\", 1975], [1976, \"USSR\", \"SHAFT\", \"UNDERGROUND\", \"AZGIR KAZAKH\", 1976], [1976, \"USSR\", \"SHAFT\", \"UNDERGROUND\", \"AZGIR KAZAKH\", 1976], [1977, \"USSR\", \"SHAFT\", \"UNDERGROUND\", \"AZGIR KAZAKH\", 1977], [1977, \"USSR\", \"SHAFT\", \"UNDERGROUND\", \"AZGIR KAZAKH\", 1977], [1977, \"USSR\", \"SHAFT\", \"UNDERGROUND\", \"AZGIR KAZAKH\", 1977], [1978, \"USSR\", \"SHAFT\", \"UNDERGROUND\", \"AZGIR KAZAKH\", 1978], [1978, \"USSR\", \"SHAFT\", \"UNDERGROUND\", \"AZGIR KAZAKH\", 1978], [1978, \"USSR\", \"SHAFT\", \"UNDERGROUND\", \"AZGIR KAZAKH\", 1978], [1979, \"USSR\", \"SHAFT\", \"UNDERGROUND\", \"AZGIR KAZAKH\", 1979]], \"hoverlabel\": {\"namelength\": 0}, \"hovertemplate\": \"region=%{customdata[4]}<br>x=%{x}<br>y=%{y}<br>year=%{customdata[5]}<br>country=%{customdata[1]}<br>type=%{customdata[2]}<br>type_cat=%{customdata[3]}\", \"legendgroup\": \"region=AZGIR KAZAKH\", \"marker\": {\"color\": \"#ab63fa\", \"symbol\": \"circle\"}, \"mode\": \"markers\", \"name\": \"region=AZGIR KAZAKH\", \"showlegend\": true, \"type\": \"scattergl\", \"uid\": \"47a65366-44ac-4f31-a457-a95a0a4537b0\", \"x\": [10.877706527709961, -11.472403526306152, -12.061850547790527, -12.902030944824219, 10.00671100616455, -11.682046890258789, -13.463282585144043, 9.887798309326172, 9.890409469604492, 9.845465660095215, -11.75363826751709, 9.820999145507812, -11.858397483825684], \"xaxis\": \"x\", \"y\": [18.693185806274414, 6.897834300994873, 7.027446269989014, 7.705643177032471, 20.125995635986328, -4.035045146942139, 8.063139915466309, 20.34931755065918, 20.34040641784668, 20.436201095581055, -4.063777923583984, 20.47943687438965, -3.985382556915283], \"yaxis\": \"y\"}, {\"customdata\": [[1966, \"FRANCE\", \"BARGE\", \"ATMOSPHERIC\", \"MURUHOA\", 1966]], \"hoverlabel\": {\"namelength\": 0}, \"hovertemplate\": \"region=%{customdata[4]}<br>x=%{x}<br>y=%{y}<br>year=%{customdata[5]}<br>country=%{customdata[1]}<br>type=%{customdata[2]}<br>type_cat=%{customdata[3]}\", \"legendgroup\": \"region=MURUHOA\", \"marker\": {\"color\": \"#19d3f3\", \"symbol\": \"circle\"}, \"mode\": \"markers\", \"name\": \"region=MURUHOA\", \"showlegend\": true, \"type\": \"scattergl\", \"uid\": \"6059897d-f329-4fef-b19c-dcff875c77da\", \"x\": [-17.094385147094727], \"xaxis\": \"x\", \"y\": [3.423652172088623], \"yaxis\": \"y\"}, {\"customdata\": [[1966, \"FRANCE\", \"AIRDROP\", \"ATMOSPHERIC\", \"MURUROA\", 1966], [1966, \"FRANCE\", \"TOWER\", \"ATMOSPHERIC\", \"MURUROA\", 1966], [1966, \"FRANCE\", \"BALLOON\", \"ATMOSPHERIC\", \"MURUROA\", 1966], [1966, \"FRANCE\", \"BARGE\", \"ATMOSPHERIC\", \"MURUROA\", 1966], [1967, \"FRANCE\", \"BALLOON\", \"ATMOSPHERIC\", \"MURUROA\", 1967], [1967, \"FRANCE\", \"BARGE\", \"ATMOSPHERIC\", \"MURUROA\", 1967], [1968, \"FRANCE\", \"BALLOON\", \"ATMOSPHERIC\", \"MURUROA\", 1968], [1968, \"FRANCE\", \"BALLOON\", \"ATMOSPHERIC\", \"MURUROA\", 1968], [1968, \"FRANCE\", \"BALLOON\", \"ATMOSPHERIC\", \"MURUROA\", 1968], [1968, \"FRANCE\", \"BALLOON\", \"ATMOSPHERIC\", \"MURUROA\", 1968], [1970, \"FRANCE\", \"BALLOON\", \"ATMOSPHERIC\", \"MURUROA\", 1970], [1970, \"FRANCE\", \"BALLOON\", \"ATMOSPHERIC\", \"MURUROA\", 1970], [1970, \"FRANCE\", \"BALLOON\", \"ATMOSPHERIC\", \"MURUROA\", 1970], [1970, \"FRANCE\", \"BALLOON\", \"ATMOSPHERIC\", \"MURUROA\", 1970], [1970, \"FRANCE\", \"BALLOON\", \"ATMOSPHERIC\", \"MURUROA\", 1970], [1970, \"FRANCE\", \"BALLOON\", \"ATMOSPHERIC\", \"MURUROA\", 1970], [1971, \"FRANCE\", \"BALLOON\", \"ATMOSPHERIC\", \"MURUROA\", 1971], [1971, \"FRANCE\", \"BALLOON\", \"ATMOSPHERIC\", \"MURUROA\", 1971], [1971, \"FRANCE\", \"BALLOON\", \"ATMOSPHERIC\", \"MURUROA\", 1971], [1971, \"FRANCE\", \"BALLOON\", \"ATMOSPHERIC\", \"MURUROA\", 1971], [1971, \"FRANCE\", \"BALLOON\", \"ATMOSPHERIC\", \"MURUROA\", 1971], [1972, \"FRANCE\", \"BALLOON\", \"ATMOSPHERIC\", \"MURUROA\", 1972], [1972, \"FRANCE\", \"BALLOON\", \"ATMOSPHERIC\", \"MURUROA\", 1972], [1972, \"FRANCE\", \"BALLOON\", \"ATMOSPHERIC\", \"MURUROA\", 1972], [1972, \"FRANCE\", \"TOWER\", \"ATMOSPHERIC\", \"MURUROA\", 1972], [1973, \"FRANCE\", \"BALLOON\", \"ATMOSPHERIC\", \"MURUROA\", 1973], [1973, \"FRANCE\", \"BALLOON\", \"ATMOSPHERIC\", \"MURUROA\", 1973], [1973, \"FRANCE\", \"BALLOON\", \"ATMOSPHERIC\", \"MURUROA\", 1973], [1973, \"FRANCE\", \"BALLOON\", \"ATMOSPHERIC\", \"MURUROA\", 1973], [1973, \"FRANCE\", \"TOWER\", \"ATMOSPHERIC\", \"MURUROA\", 1973], [1974, \"FRANCE\", \"BALLOON\", \"ATMOSPHERIC\", \"MURUROA\", 1974], [1974, \"FRANCE\", \"TOWER\", \"ATMOSPHERIC\", \"MURUROA\", 1974], [1974, \"FRANCE\", \"BALLOON\", \"ATMOSPHERIC\", \"MURUROA\", 1974], [1974, \"FRANCE\", \"BALLOON\", \"ATMOSPHERIC\", \"MURUROA\", 1974], [1974, \"FRANCE\", \"TOWER\", \"ATMOSPHERIC\", \"MURUROA\", 1974], [1974, \"FRANCE\", \"BALLOON\", \"ATMOSPHERIC\", \"MURUROA\", 1974], [1974, \"FRANCE\", \"BALLOON\", \"ATMOSPHERIC\", \"MURUROA\", 1974], [1974, \"FRANCE\", \"BALLOON\", \"ATMOSPHERIC\", \"MURUROA\", 1974], [1976, \"FRANCE\", \"SHAFT/GR\", \"UNDERGROUND\", \"MURUROA\", 1976], [1976, \"FRANCE\", \"SHAFT/GR\", \"UNDERGROUND\", \"MURUROA\", 1976], [1976, \"FRANCE\", \"SHAFT/GR\", \"UNDERGROUND\", \"MURUROA\", 1976], [1976, \"FRANCE\", \"SHAFT/GR\", \"UNDERGROUND\", \"MURUROA\", 1976], [1976, \"FRANCE\", \"SHAFT/GR\", \"UNDERGROUND\", \"MURUROA\", 1976], [1977, \"FRANCE\", \"SHAFT/GR\", \"UNDERGROUND\", \"MURUROA\", 1977], [1977, \"FRANCE\", \"SHAFT/GR\", \"UNDERGROUND\", \"MURUROA\", 1977], [1977, \"FRANCE\", \"SHAFT/GR\", \"UNDERGROUND\", \"MURUROA\", 1977], [1977, \"FRANCE\", \"SHAFT/GR\", \"UNDERGROUND\", \"MURUROA\", 1977], [1977, \"FRANCE\", \"SHAFT/GR\", \"UNDERGROUND\", \"MURUROA\", 1977], [1977, \"FRANCE\", \"SHAFT/GR\", \"UNDERGROUND\", \"MURUROA\", 1977], [1977, \"FRANCE\", \"SHAFT/GR\", \"UNDERGROUND\", \"MURUROA\", 1977], [1977, \"FRANCE\", \"SHAFT/GR\", \"UNDERGROUND\", \"MURUROA\", 1977], [1977, \"FRANCE\", \"SHAFT/GR\", \"UNDERGROUND\", \"MURUROA\", 1977], [1978, \"FRANCE\", \"SHAFT/GR\", \"UNDERGROUND\", \"MURUROA\", 1978], [1978, \"FRANCE\", \"SHAFT/GR\", \"UNDERGROUND\", \"MURUROA\", 1978], [1978, \"FRANCE\", \"SHAFT/GR\", \"UNDERGROUND\", \"MURUROA\", 1978], [1978, \"FRANCE\", \"SHAFT/GR\", \"UNDERGROUND\", \"MURUROA\", 1978], [1978, \"FRANCE\", \"SHAFT/GR\", \"UNDERGROUND\", \"MURUROA\", 1978], [1978, \"FRANCE\", \"SHAFT/GR\", \"UNDERGROUND\", \"MURUROA\", 1978], [1978, \"FRANCE\", \"SHAFT/GR\", \"UNDERGROUND\", \"MURUROA\", 1978], [1978, \"FRANCE\", \"SHAFT/GR\", \"UNDERGROUND\", \"MURUROA\", 1978], [1978, \"FRANCE\", \"SHAFT/GR\", \"UNDERGROUND\", \"MURUROA\", 1978], [1978, \"FRANCE\", \"SHAFT/GR\", \"UNDERGROUND\", \"MURUROA\", 1978], [1978, \"FRANCE\", \"SHAFT/GR\", \"UNDERGROUND\", \"MURUROA\", 1978], [1979, \"FRANCE\", \"SHAFT/GR\", \"UNDERGROUND\", \"MURUROA\", 1979], [1979, \"FRANCE\", \"SHAFT/GR\", \"UNDERGROUND\", \"MURUROA\", 1979], [1979, \"FRANCE\", \"SHAFT/GR\", \"UNDERGROUND\", \"MURUROA\", 1979], [1979, \"FRANCE\", \"SHAFT/GR\", \"UNDERGROUND\", \"MURUROA\", 1979], [1979, \"FRANCE\", \"SHAFT/GR\", \"UNDERGROUND\", \"MURUROA\", 1979], [1979, \"FRANCE\", \"SHAFT/GR\", \"UNDERGROUND\", \"MURUROA\", 1979], [1979, \"FRANCE\", \"SHAFT/GR\", \"UNDERGROUND\", \"MURUROA\", 1979], [1979, \"FRANCE\", \"SHAFT/GR\", \"UNDERGROUND\", \"MURUROA\", 1979], [1979, \"FRANCE\", \"SHAFT/GR\", \"UNDERGROUND\", \"MURUROA\", 1979], [1980, \"FRANCE\", \"SHAFT/GR\", \"UNDERGROUND\", \"MURUROA\", 1980], [1980, \"FRANCE\", \"SHAFT/GR\", \"UNDERGROUND\", \"MURUROA\", 1980], [1980, \"FRANCE\", \"SHAFT/GR\", \"UNDERGROUND\", \"MURUROA\", 1980], [1980, \"FRANCE\", \"SHAFT/GR\", \"UNDERGROUND\", \"MURUROA\", 1980], [1980, \"FRANCE\", \"SHAFT/GR\", \"UNDERGROUND\", \"MURUROA\", 1980], [1980, \"FRANCE\", \"SHAFT/GR\", \"UNDERGROUND\", \"MURUROA\", 1980], [1980, \"FRANCE\", \"SHAFT/GR\", \"UNDERGROUND\", \"MURUROA\", 1980], [1980, \"FRANCE\", \"SHAFT/GR\", \"UNDERGROUND\", \"MURUROA\", 1980], [1980, \"FRANCE\", \"SHAFT/GR\", \"UNDERGROUND\", \"MURUROA\", 1980], [1980, \"FRANCE\", \"SHAFT/GR\", \"UNDERGROUND\", \"MURUROA\", 1980], [1980, \"FRANCE\", \"SHAFT/GR\", \"UNDERGROUND\", \"MURUROA\", 1980], [1981, \"FRANCE\", \"SHAFT/GR\", \"UNDERGROUND\", \"MURUROA\", 1981], [1981, \"FRANCE\", \"SHAFT/GR\", \"UNDERGROUND\", \"MURUROA\", 1981], [1981, \"FRANCE\", \"SHAFT/GR\", \"UNDERGROUND\", \"MURUROA\", 1981], [1981, \"FRANCE\", \"SHAFT/LG\", \"UNDERGROUND\", \"MURUROA\", 1981], [1981, \"FRANCE\", \"SHAFT/GR\", \"UNDERGROUND\", \"MURUROA\", 1981], [1981, \"FRANCE\", \"SHAFT/GR\", \"UNDERGROUND\", \"MURUROA\", 1981], [1981, \"FRANCE\", \"SHAFT/GR\", \"UNDERGROUND\", \"MURUROA\", 1981], [1981, \"FRANCE\", \"SHAFT/GR\", \"UNDERGROUND\", \"MURUROA\", 1981], [1981, \"FRANCE\", \"SHAFT/GR\", \"UNDERGROUND\", \"MURUROA\", 1981], [1981, \"FRANCE\", \"SHAFT/GR\", \"UNDERGROUND\", \"MURUROA\", 1981], [1981, \"FRANCE\", \"SHAFT/GR\", \"UNDERGROUND\", \"MURUROA\", 1981], [1981, \"FRANCE\", \"SHAFT/LG\", \"UNDERGROUND\", \"MURUROA\", 1981], [1982, \"FRANCE\", \"SHAFT/GR\", \"UNDERGROUND\", \"MURUROA\", 1982], [1982, \"FRANCE\", \"SHAFT/GR\", \"UNDERGROUND\", \"MURUROA\", 1982], [1982, \"FRANCE\", \"SHAFT/LG\", \"UNDERGROUND\", \"MURUROA\", 1982], [1982, \"FRANCE\", \"SHAFT/GR\", \"UNDERGROUND\", \"MURUROA\", 1982], [1982, \"FRANCE\", \"SHAFT/GR\", \"UNDERGROUND\", \"MURUROA\", 1982], [1982, \"FRANCE\", \"SHAFT/GR\", \"UNDERGROUND\", \"MURUROA\", 1982], [1982, \"FRANCE\", \"SHAFT/GR\", \"UNDERGROUND\", \"MURUROA\", 1982], [1982, \"FRANCE\", \"SHAFT/GR\", \"UNDERGROUND\", \"MURUROA\", 1982], [1982, \"FRANCE\", \"SHAFT/LG\", \"UNDERGROUND\", \"MURUROA\", 1982], [1982, \"FRANCE\", \"SHAFT/GR\", \"UNDERGROUND\", \"MURUROA\", 1982], [1983, \"FRANCE\", \"SHAFT/LG\", \"UNDERGROUND\", \"MURUROA\", 1983], [1983, \"FRANCE\", \"SHAFT/GR\", \"UNDERGROUND\", \"MURUROA\", 1983], [1983, \"FRANCE\", \"SHAFT/LG\", \"UNDERGROUND\", \"MURUROA\", 1983], [1983, \"FRANCE\", \"SHAFT/GR\", \"UNDERGROUND\", \"MURUROA\", 1983], [1983, \"FRANCE\", \"SHAFT/LG\", \"UNDERGROUND\", \"MURUROA\", 1983], [1983, \"FRANCE\", \"SHAFT/GR\", \"UNDERGROUND\", \"MURUROA\", 1983], [1983, \"FRANCE\", \"SHAFT/LG\", \"UNDERGROUND\", \"MURUROA\", 1983], [1983, \"FRANCE\", \"SHAFT/GR\", \"UNDERGROUND\", \"MURUROA\", 1983], [1983, \"FRANCE\", \"SHAFT/LG\", \"UNDERGROUND\", \"MURUROA\", 1983], [1984, \"FRANCE\", \"SHAFT/GR\", \"UNDERGROUND\", \"MURUROA\", 1984], [1984, \"FRANCE\", \"SHAFT/LG\", \"UNDERGROUND\", \"MURUROA\", 1984], [1984, \"FRANCE\", \"SHAFT/GR\", \"UNDERGROUND\", \"MURUROA\", 1984], [1984, \"FRANCE\", \"SHAFT/LG\", \"UNDERGROUND\", \"MURUROA\", 1984], [1984, \"FRANCE\", \"SHAFT/GR\", \"UNDERGROUND\", \"MURUROA\", 1984], [1984, \"FRANCE\", \"SHAFT/LG\", \"UNDERGROUND\", \"MURUROA\", 1984], [1984, \"FRANCE\", \"SHAFT/GR\", \"UNDERGROUND\", \"MURUROA\", 1984], [1984, \"FRANCE\", \"SHAFT/LG\", \"UNDERGROUND\", \"MURUROA\", 1984], [1985, \"FRANCE\", \"SHAFT/GR\", \"UNDERGROUND\", \"MURUROA\", 1985], [1985, \"FRANCE\", \"SHAFT/LG\", \"UNDERGROUND\", \"MURUROA\", 1985], [1985, \"FRANCE\", \"SHAFT/GR\", \"UNDERGROUND\", \"MURUROA\", 1985], [1985, \"FRANCE\", \"SHAFT/LG\", \"UNDERGROUND\", \"MURUROA\", 1985], [1985, \"FRANCE\", \"SHAFT/GR\", \"UNDERGROUND\", \"MURUROA\", 1985], [1985, \"FRANCE\", \"SHAFT/LG\", \"UNDERGROUND\", \"MURUROA\", 1985], [1985, \"FRANCE\", \"SHAFT/GR\", \"UNDERGROUND\", \"MURUROA\", 1985], [1985, \"FRANCE\", \"SHAFT/LG\", \"UNDERGROUND\", \"MURUROA\", 1985], [1986, \"FRANCE\", \"SHAFT/GR\", \"UNDERGROUND\", \"MURUROA\", 1986], [1986, \"FRANCE\", \"SHAFT/GR\", \"UNDERGROUND\", \"MURUROA\", 1986], [1986, \"FRANCE\", \"SHAFT/GR\", \"UNDERGROUND\", \"MURUROA\", 1986], [1986, \"FRANCE\", \"SHAFT/LG\", \"UNDERGROUND\", \"MURUROA\", 1986], [1986, \"FRANCE\", \"SHAFT/GR\", \"UNDERGROUND\", \"MURUROA\", 1986], [1986, \"FRANCE\", \"SHAFT/LG\", \"UNDERGROUND\", \"MURUROA\", 1986], [1986, \"FRANCE\", \"SHAFT/GR\", \"UNDERGROUND\", \"MURUROA\", 1986], [1986, \"FRANCE\", \"SHAFT/LG\", \"UNDERGROUND\", \"MURUROA\", 1986], [1987, \"FRANCE\", \"SHAFT/LG\", \"UNDERGROUND\", \"MURUROA\", 1987], [1987, \"FRANCE\", \"SHAFT/LG\", \"UNDERGROUND\", \"MURUROA\", 1987], [1987, \"FRANCE\", \"SHAFT/LG\", \"UNDERGROUND\", \"MURUROA\", 1987], [1987, \"FRANCE\", \"SHAFT/LG\", \"UNDERGROUND\", \"MURUROA\", 1987], [1987, \"FRANCE\", \"SHAFT/LG\", \"UNDERGROUND\", \"MURUROA\", 1987], [1987, \"FRANCE\", \"SHAFT/LG\", \"UNDERGROUND\", \"MURUROA\", 1987], [1987, \"FRANCE\", \"SHAFT/LG\", \"UNDERGROUND\", \"MURUROA\", 1987], [1988, \"FRANCE\", \"SHAFT/LG\", \"UNDERGROUND\", \"MURUROA\", 1988], [1988, \"FRANCE\", \"SHAFT/LG\", \"UNDERGROUND\", \"MURUROA\", 1988], [1988, \"FRANCE\", \"SHAFT/LG\", \"UNDERGROUND\", \"MURUROA\", 1988], [1988, \"FRANCE\", \"SHAFT/LG\", \"UNDERGROUND\", \"MURUROA\", 1988], [1988, \"FRANCE\", \"SHAFT/LG\", \"UNDERGROUND\", \"MURUROA\", 1988], [1988, \"FRANCE\", \"SHAFT/LG\", \"UNDERGROUND\", \"MURUROA\", 1988], [1988, \"FRANCE\", \"SHAFT/LG\", \"UNDERGROUND\", \"MURUROA\", 1988], [1989, \"FRANCE\", \"SHAFT/LG\", \"UNDERGROUND\", \"MURUROA\", 1989], [1989, \"FRANCE\", \"SHAFT/LG\", \"UNDERGROUND\", \"MURUROA\", 1989], [1989, \"FRANCE\", \"SHAFT/LG\", \"UNDERGROUND\", \"MURUROA\", 1989], [1989, \"FRANCE\", \"SHAFT/LG\", \"UNDERGROUND\", \"MURUROA\", 1989], [1989, \"FRANCE\", \"SHAFT/LG\", \"UNDERGROUND\", \"MURUROA\", 1989], [1989, \"FRANCE\", \"SHAFT/LG\", \"UNDERGROUND\", \"MURUROA\", 1989], [1989, \"FRANCE\", \"SHAFT/GR\", \"UNDERGROUND\", \"MURUROA\", 1989], [1990, \"FRANCE\", \"SHAFT/LG\", \"UNDERGROUND\", \"MURUROA\", 1990], [1990, \"FRANCE\", \"SHAFT/LG\", \"UNDERGROUND\", \"MURUROA\", 1990], [1990, \"FRANCE\", \"SHAFT/LG\", \"UNDERGROUND\", \"MURUROA\", 1990], [1990, \"FRANCE\", \"SHAFT/LG\", \"UNDERGROUND\", \"MURUROA\", 1990], [1991, \"FRANCE\", \"SHAFT/LG\", \"UNDERGROUND\", \"MURUROA\", 1991], [1991, \"FRANCE\", \"SHAFT/LG\", \"UNDERGROUND\", \"MURUROA\", 1991], [1991, \"FRANCE\", \"SHAFT/LG\", \"UNDERGROUND\", \"MURUROA\", 1991], [1991, \"FRANCE\", \"SHAFT/LG\", \"UNDERGROUND\", \"MURUROA\", 1991], [1991, \"FRANCE\", \"SHAFT/LG\", \"UNDERGROUND\", \"MURUROA\", 1991], [1995, \"FRANCE\", \"UG\", \"UNDERGROUND\", \"MURUROA\", 1995], [1995, \"FRANCE\", \"UG\", \"UNDERGROUND\", \"MURUROA\", 1995], [1995, \"FRANCE\", \"UG\", \"UNDERGROUND\", \"MURUROA\", 1995], [1995, \"FRANCE\", \"UG\", \"UNDERGROUND\", \"MURUROA\", 1995]], \"hoverlabel\": {\"namelength\": 0}, \"hovertemplate\": \"region=%{customdata[4]}<br>x=%{x}<br>y=%{y}<br>year=%{customdata[5]}<br>country=%{customdata[1]}<br>type=%{customdata[2]}<br>type_cat=%{customdata[3]}\", \"legendgroup\": \"region=MURUROA\", \"marker\": {\"color\": \"#e763fa\", \"symbol\": \"circle\"}, \"mode\": \"markers\", \"name\": \"region=MURUROA\", \"showlegend\": true, \"type\": \"scattergl\", \"uid\": \"40f22cb5-f748-41ca-974d-6594c3f848f6\", \"x\": [-17.10882568359375, -17.102794647216797, -17.09520721435547, -17.06165313720703, -17.062580108642578, -17.070892333984375, -17.031936645507812, -16.98123550415039, -17.056896209716797, -16.849348068237305, -16.860158920288086, -16.84164047241211, -16.82596778869629, -16.815946578979492, -16.822484970092773, -16.839900970458984, -16.794342041015625, -16.84888458251953, -16.7590389251709, -16.83354377746582, -16.81280517578125, -16.664371490478516, -16.690336227416992, -16.720191955566406, -16.702302932739258, -16.62238311767578, -16.62641716003418, -16.63737678527832, -16.608713150024414, -16.618406295776367, -16.567584991455078, -16.5584659576416, -16.7252254486084, -16.6026611328125, -16.581544876098633, -16.553556442260742, -16.55861473083496, -16.722299575805664, -4.256752014160156, -7.050424098968506, -4.2425761222839355, -4.248856544494629, -4.249664306640625, -7.0209059715271, -7.042774677276611, -4.221042633056641, -4.21746301651001, -7.0287981033325195, -4.2318196296691895, -7.046324253082275, -12.738991737365723, -7.0322675704956055, -6.994779586791992, -7.01901388168335, -4.206970691680908, -4.169009208679199, -4.204683303833008, -7.010349273681641, -4.208905220031738, -4.1532793045043945, -12.723413467407227, -6.990007400512695, -7.006795406341553, -4.212003707885742, -4.208984851837158, -7.00522518157959, -4.176448345184326, -6.987024784088135, -12.745490074157715, -6.973011016845703, -4.16965913772583, -4.139951705932617, -4.00894832611084, -6.911736965179443, -6.982654571533203, -6.972251892089844, -6.989502906799316, -6.944690227508545, -6.967255115509033, -3.9802277088165283, -12.728242874145508, -3.964543581008911, -6.910295486450195, -3.8993139266967773, -3.890744209289551, -6.947682857513428, -6.923689365386963, -6.922367572784424, -3.8951454162597656, -3.8851966857910156, -6.916023254394531, -3.896467447280884, -6.926887512207031, -6.910894393920898, -6.904497146606445, -3.8750863075256348, -3.867593288421631, -12.721612930297852, -3.8592915534973145, -3.872466564178467, -3.87503981590271, -6.9051289558410645, -3.844336748123169, -6.866278171539307, -3.860581636428833, -6.882591724395752, -3.684541940689087, -12.734193801879883, -3.701824903488159, -12.732876777648926, -3.7252516746520996, -6.873305797576904, -3.697065591812134, -3.7181313037872314, -6.847715377807617, -12.751415252685547, -6.8287434577941895, -6.872761249542236, -6.869619846343994, -3.373488426208496, -6.807147979736328, -3.368870258331299, -3.2286126613616943, -3.2557404041290283, -3.1979339122772217, -3.208617687225342, -6.8482890129089355, -3.257314443588257, -6.837668418884277, -6.822629451751709, -6.815069198608398, -3.0886011123657227, -3.128202438354492, -6.795009136199951, -3.0983893871307373, -3.1306312084198, -3.0944154262542725, -6.789206504821777, -2.7889273166656494, -2.7628135681152344, -2.7927463054656982, -2.759099245071411, -2.7784245014190674, -2.7778351306915283, -2.7869274616241455, -2.4577126502990723, -2.419480323791504, -2.413222551345825, -2.467233419418335, -2.4370737075805664, -2.4608066082000732, -2.466770648956299, -2.2496895790100098, -2.2901976108551025, -2.2713375091552734, -2.265150308609009, -2.228403091430664, -2.2209131717681885, -2.2986507415771484, -2.066241502761841, -2.0458099842071533, -2.059382915496826, -1.9859113693237305, -2.0103185176849365, -1.9879788160324097, -2.005340337753296, -2.0128414630889893, -1.9993560314178467, -2.0543172359466553, -2.0492470264434814, -2.046687126159668, -2.0348148345947266], \"xaxis\": \"x\", \"y\": [3.408568859100342, 3.4235033988952637, 3.4171695709228516, 3.4329144954681396, 3.4105894565582275, 3.3761255741119385, 3.435847520828247, 3.4375317096710205, 3.413545846939087, 3.568593740463257, 3.546259641647339, 3.484583616256714, 3.5391488075256348, 3.6022286415100098, 3.538315534591675, 3.496375799179077, 3.5060508251190186, 3.4726738929748535, 3.558310031890869, 3.5778985023498535, 3.578204870223999, 3.5843234062194824, 3.586076498031616, 3.555746555328369, 3.540987014770508, 3.5361595153808594, 3.540835380554199, 3.501418352127075, 3.5161333084106445, 3.536686897277832, 3.541393280029297, 3.521015167236328, 3.4851911067962646, 3.5196709632873535, 3.5496904850006104, 3.5302224159240723, 3.5551297664642334, 3.5111279487609863, 17.015539169311523, 9.348257064819336, 17.024457931518555, 17.020606994628906, 17.01985740661621, 9.314597129821777, 9.33623218536377, 17.040185928344727, 17.041940689086914, 9.322591781616211, 17.029998779296875, 9.34132194519043, -3.980473756790161, 9.327853202819824, 9.295561790466309, 9.315913200378418, 17.048974990844727, 17.06956672668457, 17.051488876342773, 9.304242134094238, 17.04949188232422, 17.084976196289062, -3.990438461303711, 9.281778335571289, 9.300029754638672, 17.041635513305664, 17.04792594909668, 9.29595947265625, 17.07013702392578, 9.278970718383789, -3.983247995376587, 9.264263153076172, 17.073955535888672, 17.09968376159668, 17.152862548828125, 9.195627212524414, 9.271686553955078, 9.261107444763184, 9.276845932006836, 9.230374336242676, 9.255821228027344, 17.174245834350586, -3.9912350177764893, 17.184986114501953, 9.194331169128418, 17.218151092529297, 17.224212646484375, 9.23169994354248, 9.20755672454834, 9.207736015319824, 17.223798751831055, 17.232248306274414, 9.1988525390625, 17.2186336517334, 9.211823463439941, 9.19347858428955, 9.187239646911621, 17.23284912109375, 17.23675537109375, -3.9977192878723145, 17.241689682006836, 17.235515594482422, 17.239818572998047, 9.185564994812012, 17.25460433959961, 9.144960403442383, 17.24107551574707, 9.159153938293457, 17.291378021240234, -3.9902637004852295, 17.284772872924805, -3.9841208457946777, 17.273183822631836, 9.150907516479492, 17.285839080810547, 17.27686882019043, 9.123224258422852, -4.006990909576416, 9.103362083435059, 9.147845268249512, 9.14488410949707, 17.359601974487305, 9.081487655639648, 17.360769271850586, 17.408527374267578, 17.393089294433594, 17.41208839416504, 17.4078426361084, 9.121943473815918, 17.388385772705078, 9.111116409301758, 9.095495223999023, 9.086609840393066, 17.442157745361328, 17.43024444580078, 9.0645170211792, 17.444026947021484, 17.429784774780273, 17.442047119140625, 9.058515548706055, 17.53828239440918, 17.541961669921875, 17.536823272705078, 17.542497634887695, 17.541213989257812, 17.54154396057129, 17.53892707824707, 17.555665969848633, 17.56130599975586, 17.564857482910156, 17.56138038635254, 17.562965393066406, 17.556211471557617, 17.558229446411133, 17.56047248840332, 17.5616455078125, 17.579299926757812, 17.573972702026367, 17.58788299560547, 17.590978622436523, 17.563669204711914, 17.640275955200195, 17.652172088623047, 17.646459579467773, 17.64176368713379, 17.646705627441406, 17.628639221191406, 17.648574829101562, 17.662277221679688, 17.662872314453125, 17.706233978271484, 17.717926025390625, 17.71314811706543, 17.71687889099121], \"yaxis\": \"y\"}, {\"customdata\": [[1966, \"FRANCE\", \"BARGE\", \"ATMOSPHERIC\", \"FANGATAUFA\", 1966], [1968, \"FRANCE\", \"BALLOON\", \"ATMOSPHERIC\", \"FANGATAUFA\", 1968], [1970, \"FRANCE\", \"BALLOON\", \"ATMOSPHERIC\", \"FANGATAUFA\", 1970], [1970, \"FRANCE\", \"BALLOON\", \"ATMOSPHERIC\", \"FANGATAUFA\", 1970], [1975, \"FRANCE\", \"SHAFT/GR\", \"UNDERGROUND\", \"FANGATAUFA\", 1975], [1975, \"FRANCE\", \"SHAFT/GR\", \"UNDERGROUND\", \"FANGATAUFA\", 1975], [1988, \"FRANCE\", \"SHAFT/LG\", \"UNDERGROUND\", \"FANGATAUFA\", 1988], [1989, \"FRANCE\", \"SHAFT/LG\", \"UNDERGROUND\", \"FANGATAUFA\", 1989], [1990, \"FRANCE\", \"SHAFT/LG\", \"UNDERGROUND\", \"FANGATAUFA\", 1990], [1990, \"FRANCE\", \"SHAFT/LG\", \"UNDERGROUND\", \"FANGATAUFA\", 1990], [1991, \"FRANCE\", \"SHAFT/LG\", \"UNDERGROUND\", \"FANGATAUFA\", 1991], [1995, \"FRANCE\", \"UG\", \"UNDERGROUND\", \"FANGATAUFA\", 1995], [1996, \"FRANCE\", \"UG\", \"UNDERGROUND\", \"FANGATAUFA\", 1996]], \"hoverlabel\": {\"namelength\": 0}, \"hovertemplate\": \"region=%{customdata[4]}<br>x=%{x}<br>y=%{y}<br>year=%{customdata[5]}<br>country=%{customdata[1]}<br>type=%{customdata[2]}<br>type_cat=%{customdata[3]}\", \"legendgroup\": \"region=FANGATAUFA\", \"marker\": {\"color\": \"#FECB52\", \"symbol\": \"circle\"}, \"mode\": \"markers\", \"name\": \"region=FANGATAUFA\", \"showlegend\": true, \"type\": \"scattergl\", \"uid\": \"b885fbd0-ca87-466c-9e79-00b510bf6eca\", \"x\": [-17.097496032714844, -16.79559898376465, -16.81670379638672, -16.818260192871094, -7.05798864364624, -7.04445743560791, -2.4453821182250977, -2.2993195056915283, -2.057319402694702, -2.048387289047241, -1.9937976598739624, -2.0249581336975098, -2.0511631965637207], \"xaxis\": \"x\", \"y\": [3.41707444190979, 3.600970506668091, 3.640516519546509, 3.5301220417022705, 9.354925155639648, 9.340645790100098, 17.559358596801758, 17.567378997802734, 17.640457153320312, 17.65189552307129, 17.63098907470703, 17.704387664794922, 17.71297264099121], \"yaxis\": \"y\"}, {\"customdata\": [[1966, \"USSR\", \"SHAFT\", \"UNDERGROUND\", \"UZBEK\", 1966]], \"hoverlabel\": {\"namelength\": 0}, \"hovertemplate\": \"region=%{customdata[4]}<br>x=%{x}<br>y=%{y}<br>year=%{customdata[5]}<br>country=%{customdata[1]}<br>type=%{customdata[2]}<br>type_cat=%{customdata[3]}\", \"legendgroup\": \"region=UZBEK\", \"marker\": {\"color\": \"#FFA15A\", \"symbol\": \"circle\"}, \"mode\": \"markers\", \"name\": \"region=UZBEK\", \"showlegend\": true, \"type\": \"scattergl\", \"uid\": \"dbec0685-2e16-4f5e-8e67-b9406b89001c\", \"x\": [-11.083887100219727], \"xaxis\": \"x\", \"y\": [6.7427568435668945], \"yaxis\": \"y\"}, {\"customdata\": [[1966, \"USA\", \"SHAFT\", \"UNDERGROUND\", \"HATTIESE MS\", 1966]], \"hoverlabel\": {\"namelength\": 0}, \"hovertemplate\": \"region=%{customdata[4]}<br>x=%{x}<br>y=%{y}<br>year=%{customdata[5]}<br>country=%{customdata[1]}<br>type=%{customdata[2]}<br>type_cat=%{customdata[3]}\", \"legendgroup\": \"region=HATTIESE MS\", \"marker\": {\"color\": \"#FF6692\", \"symbol\": \"circle\"}, \"mode\": \"markers\", \"name\": \"region=HATTIESE MS\", \"showlegend\": true, \"type\": \"scattergl\", \"uid\": \"6a3db7a6-cfb6-4c76-9534-6aeeba69368e\", \"x\": [26.426843643188477], \"xaxis\": \"x\", \"y\": [-11.313095092773438], \"yaxis\": \"y\"}, {\"customdata\": [[1967, \"FRANCE\", \"BALLOON\", \"ATMOSPHERIC\", \"MURUEOA\", 1967]], \"hoverlabel\": {\"namelength\": 0}, \"hovertemplate\": \"region=%{customdata[4]}<br>x=%{x}<br>y=%{y}<br>year=%{customdata[5]}<br>country=%{customdata[1]}<br>type=%{customdata[2]}<br>type_cat=%{customdata[3]}\", \"legendgroup\": \"region=MURUEOA\", \"marker\": {\"color\": \"#B6E880\", \"symbol\": \"circle\"}, \"mode\": \"markers\", \"name\": \"region=MURUEOA\", \"showlegend\": true, \"type\": \"scattergl\", \"uid\": \"ec86f1e9-60d8-4bfe-938b-0925ed1f7613\", \"x\": [-17.068092346191406], \"xaxis\": \"x\", \"y\": [3.4228076934814453], \"yaxis\": \"y\"}, {\"customdata\": [[1967, \"USSR\", \"SHAFT\", \"UNDERGROUND\", \"TYUMEN RUSS\", 1967], [1974, \"USSR\", \"SHAFT\", \"UNDERGROUND\", \"TYUMEN RUSS\", 1974], [1978, \"USSR\", \"SHAFT\", \"UNDERGROUND\", \"TYUMEN RUSS\", 1978], [1979, \"USSR\", \"SHAFT\", \"UNDERGROUND\", \"TYUMEN RUSS\", 1979], [1980, \"USSR\", \"SHAFT\", \"UNDERGROUND\", \"TYUMEN RUSS\", 1980], [1984, \"USSR\", \"SHAFT\", \"UNDERGROUND\", \"TYUMEN RUSS\", 1984], [1988, \"USSR\", \"SHAFT\", \"UNDERGROUND\", \"TYUMEN RUSS\", 1988]], \"hoverlabel\": {\"namelength\": 0}, \"hovertemplate\": \"region=%{customdata[4]}<br>x=%{x}<br>y=%{y}<br>year=%{customdata[5]}<br>country=%{customdata[1]}<br>type=%{customdata[2]}<br>type_cat=%{customdata[3]}\", \"legendgroup\": \"region=TYUMEN RUSS\", \"marker\": {\"color\": \"#636efa\", \"symbol\": \"circle\"}, \"mode\": \"markers\", \"name\": \"region=TYUMEN RUSS\", \"showlegend\": true, \"type\": \"scattergl\", \"uid\": \"5c7b81bf-6c36-4299-a9f4-a8b112422b9e\", \"x\": [10.813647270202637, -12.720476150512695, -11.520827293395996, -11.532739639282227, -11.558087348937988, -14.838125228881836, -11.78961181640625], \"xaxis\": \"x\", \"y\": [18.78294563293457, 7.493900299072266, -4.467062473297119, -4.454867362976074, -4.532703876495361, 9.029450416564941, -4.629054069519043], \"yaxis\": \"y\"}, {\"customdata\": [[1967, \"USA\", \"SHAFT\", \"UNDERGROUND\", \"FARMINGT NM\", 1967]], \"hoverlabel\": {\"namelength\": 0}, \"hovertemplate\": \"region=%{customdata[4]}<br>x=%{x}<br>y=%{y}<br>year=%{customdata[5]}<br>country=%{customdata[1]}<br>type=%{customdata[2]}<br>type_cat=%{customdata[3]}\", \"legendgroup\": \"region=FARMINGT NM\", \"marker\": {\"color\": \"#EF553B\", \"symbol\": \"circle\"}, \"mode\": \"markers\", \"name\": \"region=FARMINGT NM\", \"showlegend\": true, \"type\": \"scattergl\", \"uid\": \"cdf01e2a-973e-4b36-bd10-c3606bb14924\", \"x\": [3.1740427017211914], \"xaxis\": \"x\", \"y\": [-11.142155647277832], \"yaxis\": \"y\"}, {\"customdata\": [[1968, \"USA\", \"SHAFT\", \"UNDERGROUND\", \"C. NEVADA\", 1968]], \"hoverlabel\": {\"namelength\": 0}, \"hovertemplate\": \"region=%{customdata[4]}<br>x=%{x}<br>y=%{y}<br>year=%{customdata[5]}<br>country=%{customdata[1]}<br>type=%{customdata[2]}<br>type_cat=%{customdata[3]}\", \"legendgroup\": \"region=C. NEVADA\", \"marker\": {\"color\": \"#00cc96\", \"symbol\": \"circle\"}, \"mode\": \"markers\", \"name\": \"region=C. NEVADA\", \"showlegend\": true, \"type\": \"scattergl\", \"uid\": \"025f0236-8811-479d-b9f2-2e849f99b235\", \"x\": [3.396775484085083], \"xaxis\": \"x\", \"y\": [-11.410038948059082], \"yaxis\": \"y\"}, {\"customdata\": [[1968, \"USSR\", \"SHAFT\", \"UNDERGROUND\", \"PAMUK UZBEK\", 1968]], \"hoverlabel\": {\"namelength\": 0}, \"hovertemplate\": \"region=%{customdata[4]}<br>x=%{x}<br>y=%{y}<br>year=%{customdata[5]}<br>country=%{customdata[1]}<br>type=%{customdata[2]}<br>type_cat=%{customdata[3]}\", \"legendgroup\": \"region=PAMUK UZBEK\", \"marker\": {\"color\": \"#ab63fa\", \"symbol\": \"circle\"}, \"mode\": \"markers\", \"name\": \"region=PAMUK UZBEK\", \"showlegend\": true, \"type\": \"scattergl\", \"uid\": \"8e0e00b5-2f97-45c0-a8ef-eed76afe62aa\", \"x\": [10.727416038513184], \"xaxis\": \"x\", \"y\": [18.89586067199707], \"yaxis\": \"y\"}, {\"customdata\": [[1969, \"USSR\", \"SHAFT\", \"UNDERGROUND\", \"PERM RUSS\", 1969], [1969, \"USSR\", \"SHAFT\", \"UNDERGROUND\", \"PERM RUSS\", 1969], [1971, \"USSR\", \"SHAFT\", \"UNDERGROUND\", \"PERM RUSS\", 1971], [1981, \"USSR\", \"SHAFT\", \"UNDERGROUND\", \"PERM RUSS\", 1981], [1984, \"USSR\", \"SHAFT\", \"UNDERGROUND\", \"PERM RUSS\", 1984], [1984, \"USSR\", \"SHAFT\", \"UNDERGROUND\", \"PERM RUSS\", 1984], [1987, \"USSR\", \"SHAFT\", \"UNDERGROUND\", \"PERM RUSS\", 1987], [1987, \"USSR\", \"SHAFT\", \"UNDERGROUND\", \"PERM RUSS\", 1987]], \"hoverlabel\": {\"namelength\": 0}, \"hovertemplate\": \"region=%{customdata[4]}<br>x=%{x}<br>y=%{y}<br>year=%{customdata[5]}<br>country=%{customdata[1]}<br>type=%{customdata[2]}<br>type_cat=%{customdata[3]}\", \"legendgroup\": \"region=PERM RUSS\", \"marker\": {\"color\": \"#19d3f3\", \"symbol\": \"circle\"}, \"mode\": \"markers\", \"name\": \"region=PERM RUSS\", \"showlegend\": true, \"type\": \"scattergl\", \"uid\": \"b2260c52-5f21-4454-a5e2-fde17d22374f\", \"x\": [-11.506487846374512, -11.509160995483398, -12.084589958190918, -14.294703483581543, -14.79973316192627, -14.78504753112793, -15.015085220336914, -15.064797401428223], \"xaxis\": \"x\", \"y\": [6.98415470123291, 6.932150363922119, 7.090847492218018, 8.690521240234375, 9.104557037353516, 9.14773178100586, 9.209648132324219, 9.211043357849121], \"yaxis\": \"y\"}, {\"customdata\": [[1969, \"USA\", \"SHAFT\", \"UNDERGROUND\", \"GRAND V CO\", 1969]], \"hoverlabel\": {\"namelength\": 0}, \"hovertemplate\": \"region=%{customdata[4]}<br>x=%{x}<br>y=%{y}<br>year=%{customdata[5]}<br>country=%{customdata[1]}<br>type=%{customdata[2]}<br>type_cat=%{customdata[3]}\", \"legendgroup\": \"region=GRAND V CO\", \"marker\": {\"color\": \"#e763fa\", \"symbol\": \"circle\"}, \"mode\": \"markers\", \"name\": \"region=GRAND V CO\", \"showlegend\": true, \"type\": \"scattergl\", \"uid\": \"80c01365-752d-4863-a35f-abbaf2bcaea9\", \"x\": [3.1125969886779785], \"xaxis\": \"x\", \"y\": [-11.575592041015625], \"yaxis\": \"y\"}, {\"customdata\": [[1969, \"USSR\", \"SHAFT\", \"UNDERGROUND\", \"STAVRO RUSS\", 1969]], \"hoverlabel\": {\"namelength\": 0}, \"hovertemplate\": \"region=%{customdata[4]}<br>x=%{x}<br>y=%{y}<br>year=%{customdata[5]}<br>country=%{customdata[1]}<br>type=%{customdata[2]}<br>type_cat=%{customdata[3]}\", \"legendgroup\": \"region=STAVRO RUSS\", \"marker\": {\"color\": \"#FECB52\", \"symbol\": \"circle\"}, \"mode\": \"markers\", \"name\": \"region=STAVRO RUSS\", \"showlegend\": true, \"type\": \"scattergl\", \"uid\": \"5d99c189-b667-4ebb-925f-14b0737d453b\", \"x\": [-11.765446662902832], \"xaxis\": \"x\", \"y\": [6.954423427581787], \"yaxis\": \"y\"}, {\"customdata\": [[1969, \"USSR\", \"SHAFT\", \"UNDERGROUND\", \"MANGY KAZAKH\", 1969], [1970, \"USSR\", \"SHAFT\", \"UNDERGROUND\", \"MANGY KAZAKH\", 1970], [1970, \"USSR\", \"SHAFT\", \"UNDERGROUND\", \"MANGY KAZAKH\", 1970]], \"hoverlabel\": {\"namelength\": 0}, \"hovertemplate\": \"region=%{customdata[4]}<br>x=%{x}<br>y=%{y}<br>year=%{customdata[5]}<br>country=%{customdata[1]}<br>type=%{customdata[2]}<br>type_cat=%{customdata[3]}\", \"legendgroup\": \"region=MANGY KAZAKH\", \"marker\": {\"color\": \"#FFA15A\", \"symbol\": \"circle\"}, \"mode\": \"markers\", \"name\": \"region=MANGY KAZAKH\", \"showlegend\": true, \"type\": \"scattergl\", \"uid\": \"777642ef-a1b8-4275-b313-188c5643f542\", \"x\": [-11.803366661071777, -11.950011253356934, -11.934995651245117], \"xaxis\": \"x\", \"y\": [6.973593235015869, 6.992098331451416, 7.004550933837891], \"yaxis\": \"y\"}, {\"customdata\": [[1971, \"USSR\", \"SHAFT\", \"UNDERGROUND\", \"URAL RUSS\", 1971], [1971, \"USSR\", \"SHAFT\", \"UNDERGROUND\", \"URAL RUSS\", 1971], [1971, \"USSR\", \"SHAFT\", \"UNDERGROUND\", \"URAL RUSS\", 1971]], \"hoverlabel\": {\"namelength\": 0}, \"hovertemplate\": \"region=%{customdata[4]}<br>x=%{x}<br>y=%{y}<br>year=%{customdata[5]}<br>country=%{customdata[1]}<br>type=%{customdata[2]}<br>type_cat=%{customdata[3]}\", \"legendgroup\": \"region=URAL RUSS\", \"marker\": {\"color\": \"#FF6692\", \"symbol\": \"circle\"}, \"mode\": \"markers\", \"name\": \"region=URAL RUSS\", \"showlegend\": true, \"type\": \"scattergl\", \"uid\": \"3612704c-5349-48da-9f21-abb35743051b\", \"x\": [10.451181411743164, -12.164722442626953, -12.21941089630127], \"xaxis\": \"x\", \"y\": [19.30695915222168, 7.191652297973633, 7.2603960037231445], \"yaxis\": \"y\"}, {\"customdata\": [[1971, \"USSR\", \"SHAFT\", \"UNDERGROUND\", \"ARKHAN RUSS\", 1971], [1981, \"USSR\", \"SHAFT\", \"UNDERGROUND\", \"ARKHAN RUSS\", 1981], [1985, \"USSR\", \"SHAFT\", \"UNDERGROUND\", \"ARKHAN RUSS\", 1985], [1988, \"USSR\", \"SHAFT\", \"UNDERGROUND\", \"ARKHAN RUSS\", 1988]], \"hoverlabel\": {\"namelength\": 0}, \"hovertemplate\": \"region=%{customdata[4]}<br>x=%{x}<br>y=%{y}<br>year=%{customdata[5]}<br>country=%{customdata[1]}<br>type=%{customdata[2]}<br>type_cat=%{customdata[3]}\", \"legendgroup\": \"region=ARKHAN RUSS\", \"marker\": {\"color\": \"#B6E880\", \"symbol\": \"circle\"}, \"mode\": \"markers\", \"name\": \"region=ARKHAN RUSS\", \"showlegend\": true, \"type\": \"scattergl\", \"uid\": \"6eab64ca-5973-4c87-b9cc-15a4ff0deb64\", \"x\": [-12.162703514099121, -11.66173267364502, -14.859567642211914, -11.723372459411621], \"xaxis\": \"x\", \"y\": [7.230170249938965, -4.325372695922852, 9.118327140808105, -4.6292853355407715], \"yaxis\": \"y\"}, {\"customdata\": [[1972, \"USSR\", \"SHAFT\", \"UNDERGROUND\", \"MARY TURKMEN\", 1972]], \"hoverlabel\": {\"namelength\": 0}, \"hovertemplate\": \"region=%{customdata[4]}<br>x=%{x}<br>y=%{y}<br>year=%{customdata[5]}<br>country=%{customdata[1]}<br>type=%{customdata[2]}<br>type_cat=%{customdata[3]}\", \"legendgroup\": \"region=MARY TURKMEN\", \"marker\": {\"color\": \"#636efa\", \"symbol\": \"circle\"}, \"mode\": \"markers\", \"name\": \"region=MARY TURKMEN\", \"showlegend\": true, \"type\": \"scattergl\", \"uid\": \"e4314af9-064c-4ff0-b993-5a805a46ba49\", \"x\": [10.370887756347656], \"xaxis\": \"x\", \"y\": [19.42399787902832], \"yaxis\": \"y\"}, {\"customdata\": [[1972, \"USSR\", \"SHAFT\", \"UNDERGROUND\", \"UKRAINE\", 1972]], \"hoverlabel\": {\"namelength\": 0}, \"hovertemplate\": \"region=%{customdata[4]}<br>x=%{x}<br>y=%{y}<br>year=%{customdata[5]}<br>country=%{customdata[1]}<br>type=%{customdata[2]}<br>type_cat=%{customdata[3]}\", \"legendgroup\": \"region=UKRAINE\", \"marker\": {\"color\": \"#EF553B\", \"symbol\": \"circle\"}, \"mode\": \"markers\", \"name\": \"region=UKRAINE\", \"showlegend\": true, \"type\": \"scattergl\", \"uid\": \"efcdd6d2-dc6c-498a-8cb9-bc54551d4df0\", \"x\": [10.404973030090332], \"xaxis\": \"x\", \"y\": [19.38250732421875], \"yaxis\": \"y\"}, {\"customdata\": [[1972, \"USSR\", \"TUNNEL\", \"UNDERGROUND\", \"MURM RUSS\", 1972], [1984, \"USSR\", \"TUNNEL\", \"UNDERGROUND\", \"MURM RUSS\", 1984]], \"hoverlabel\": {\"namelength\": 0}, \"hovertemplate\": \"region=%{customdata[4]}<br>x=%{x}<br>y=%{y}<br>year=%{customdata[5]}<br>country=%{customdata[1]}<br>type=%{customdata[2]}<br>type_cat=%{customdata[3]}\", \"legendgroup\": \"region=MURM RUSS\", \"marker\": {\"color\": \"#00cc96\", \"symbol\": \"circle\"}, \"mode\": \"markers\", \"name\": \"region=MURM RUSS\", \"showlegend\": true, \"type\": \"scattergl\", \"uid\": \"5df2a60b-3b4c-4653-910b-c966a020550a\", \"x\": [-12.336487770080566, 9.455780029296875], \"xaxis\": \"x\", \"y\": [7.317107677459717, 21.185272216796875], \"yaxis\": \"y\"}, {\"customdata\": [[1972, \"USSR\", \"SHAFT\", \"UNDERGROUND\", \"KALMYK RUSS\", 1972]], \"hoverlabel\": {\"namelength\": 0}, \"hovertemplate\": \"region=%{customdata[4]}<br>x=%{x}<br>y=%{y}<br>year=%{customdata[5]}<br>country=%{customdata[1]}<br>type=%{customdata[2]}<br>type_cat=%{customdata[3]}\", \"legendgroup\": \"region=KALMYK RUSS\", \"marker\": {\"color\": \"#ab63fa\", \"symbol\": \"circle\"}, \"mode\": \"markers\", \"name\": \"region=KALMYK RUSS\", \"showlegend\": true, \"type\": \"scattergl\", \"uid\": \"1256df76-7a73-4d20-9330-9c6ae70af113\", \"x\": [-12.19450569152832], \"xaxis\": \"x\", \"y\": [7.144734859466553], \"yaxis\": \"y\"}, {\"customdata\": [[1973, \"USA\", \"SHAFT\", \"UNDERGROUND\", \"RIFLE CO\", 1973]], \"hoverlabel\": {\"namelength\": 0}, \"hovertemplate\": \"region=%{customdata[4]}<br>x=%{x}<br>y=%{y}<br>year=%{customdata[5]}<br>country=%{customdata[1]}<br>type=%{customdata[2]}<br>type_cat=%{customdata[3]}\", \"legendgroup\": \"region=RIFLE CO\", \"marker\": {\"color\": \"#19d3f3\", \"symbol\": \"circle\"}, \"mode\": \"markers\", \"name\": \"region=RIFLE CO\", \"showlegend\": true, \"type\": \"scattergl\", \"uid\": \"ffa8e659-0d59-4f18-b440-a51b7a71dd45\", \"x\": [-12.245162010192871], \"xaxis\": \"x\", \"y\": [-3.984215497970581], \"yaxis\": \"y\"}, {\"customdata\": [[1973, \"FRANCE\", \"AIRDROP\", \"ATMOSPHERIC\", \"W MURUROA\", 1973]], \"hoverlabel\": {\"namelength\": 0}, \"hovertemplate\": \"region=%{customdata[4]}<br>x=%{x}<br>y=%{y}<br>year=%{customdata[5]}<br>country=%{customdata[1]}<br>type=%{customdata[2]}<br>type_cat=%{customdata[3]}\", \"legendgroup\": \"region=W MURUROA\", \"marker\": {\"color\": \"#e763fa\", \"symbol\": \"circle\"}, \"mode\": \"markers\", \"name\": \"region=W MURUROA\", \"showlegend\": true, \"type\": \"scattergl\", \"uid\": \"44d2ee7c-773e-4301-be51-45803db41edc\", \"x\": [-16.577653884887695], \"xaxis\": \"x\", \"y\": [3.576653003692627], \"yaxis\": \"y\"}, {\"customdata\": [[1974, \"INDIA\", \"SHAFT\", \"UNDERGROUND\", \"POKHRAN\", 1974], [1998, \"INDIA\", \"UG\", \"UNDERGROUND\", \"POKHRAN\", 1998], [1998, \"INDIA\", \"UG\", \"UNDERGROUND\", \"POKHRAN\", 1998]], \"hoverlabel\": {\"namelength\": 0}, \"hovertemplate\": \"region=%{customdata[4]}<br>x=%{x}<br>y=%{y}<br>year=%{customdata[5]}<br>country=%{customdata[1]}<br>type=%{customdata[2]}<br>type_cat=%{customdata[3]}\", \"legendgroup\": \"region=POKHRAN\", \"marker\": {\"color\": \"#FECB52\", \"symbol\": \"circle\"}, \"mode\": \"markers\", \"name\": \"region=POKHRAN\", \"showlegend\": true, \"type\": \"scattergl\", \"uid\": \"800efb96-a795-4e72-b2e3-d2e18bf446cd\", \"x\": [-7.071264743804932, -6.743893146514893, -2.032566547393799], \"xaxis\": \"x\", \"y\": [9.370001792907715, 9.010805130004883, 17.73763656616211], \"yaxis\": \"y\"}, {\"customdata\": [[1974, \"FRANCE\", \"AIRDROP\", \"ATMOSPHERIC\", \"WSW MURUROA\", 1974]], \"hoverlabel\": {\"namelength\": 0}, \"hovertemplate\": \"region=%{customdata[4]}<br>x=%{x}<br>y=%{y}<br>year=%{customdata[5]}<br>country=%{customdata[1]}<br>type=%{customdata[2]}<br>type_cat=%{customdata[3]}\", \"legendgroup\": \"region=WSW MURUROA\", \"marker\": {\"color\": \"#FFA15A\", \"symbol\": \"circle\"}, \"mode\": \"markers\", \"name\": \"region=WSW MURUROA\", \"showlegend\": true, \"type\": \"scattergl\", \"uid\": \"164d5ca4-8f92-46f4-b283-7b7bc4cb5140\", \"x\": [-16.57091522216797], \"xaxis\": \"x\", \"y\": [3.5499095916748047], \"yaxis\": \"y\"}, {\"customdata\": [[1974, \"USSR\", \"SHAFT\", \"UNDERGROUND\", \"KOMI RUSS\", 1974], [1984, \"USSR\", \"SHAFT\", \"UNDERGROUND\", \"KOMI RUSS\", 1984]], \"hoverlabel\": {\"namelength\": 0}, \"hovertemplate\": \"region=%{customdata[4]}<br>x=%{x}<br>y=%{y}<br>year=%{customdata[5]}<br>country=%{customdata[1]}<br>type=%{customdata[2]}<br>type_cat=%{customdata[3]}\", \"legendgroup\": \"region=KOMI RUSS\", \"marker\": {\"color\": \"#FF6692\", \"symbol\": \"circle\"}, \"mode\": \"markers\", \"name\": \"region=KOMI RUSS\", \"showlegend\": true, \"type\": \"scattergl\", \"uid\": \"77cd4042-a7bf-4d8d-8acc-be1abcac397b\", \"x\": [-12.740289688110352, -14.830686569213867], \"xaxis\": \"x\", \"y\": [7.542430400848389, 9.013319969177246], \"yaxis\": \"y\"}, {\"customdata\": [[1974, \"USSR\", \"SHAFT\", \"UNDERGROUND\", \"JAKUTS RUSS\", 1974], [1975, \"USSR\", \"SHAFT\", \"UNDERGROUND\", \"JAKUTS RUSS\", 1975], [1976, \"USSR\", \"SHAFT\", \"UNDERGROUND\", \"JAKUTS RUSS\", 1976], [1978, \"USSR\", \"SHAFT\", \"UNDERGROUND\", \"JAKUTS RUSS\", 1978], [1978, \"USSR\", \"SHAFT\", \"UNDERGROUND\", \"JAKUTS RUSS\", 1978], [1979, \"USSR\", \"SHAFT\", \"UNDERGROUND\", \"JAKUTS RUSS\", 1979], [1979, \"USSR\", \"SHAFT\", \"UNDERGROUND\", \"JAKUTS RUSS\", 1979], [1982, \"USSR\", \"SHAFT\", \"UNDERGROUND\", \"JAKUTS RUSS\", 1982], [1987, \"USSR\", \"SHAFT\", \"UNDERGROUND\", \"JAKUTS RUSS\", 1987], [1987, \"USSR\", \"SHAFT\", \"UNDERGROUND\", \"JAKUTS RUSS\", 1987], [1987, \"USSR\", \"SHAFT\", \"UNDERGROUND\", \"JAKUTS RUSS\", 1987]], \"hoverlabel\": {\"namelength\": 0}, \"hovertemplate\": \"region=%{customdata[4]}<br>x=%{x}<br>y=%{y}<br>year=%{customdata[5]}<br>country=%{customdata[1]}<br>type=%{customdata[2]}<br>type_cat=%{customdata[3]}\", \"legendgroup\": \"region=JAKUTS RUSS\", \"marker\": {\"color\": \"#B6E880\", \"symbol\": \"circle\"}, \"mode\": \"markers\", \"name\": \"region=JAKUTS RUSS\", \"showlegend\": true, \"type\": \"scattergl\", \"uid\": \"3a52acba-37ec-4c4f-b271-1952513e7396\", \"x\": [10.164166450500488, 10.104791641235352, -13.145303726196289, -11.511768341064453, -11.518680572509766, -11.551177024841309, -13.937240600585938, -14.661126136779785, -15.11463451385498, -15.168404579162598, -15.17306137084961], \"xaxis\": \"x\", \"y\": [19.793188095092773, 19.922344207763672, 7.85735559463501, -4.408888339996338, -4.475649356842041, -4.5190110206604, 8.39659595489502, 8.907036781311035, 9.133289337158203, 9.182052612304688, 9.18154239654541], \"yaxis\": \"y\"}, {\"customdata\": [[1975, \"USSR\", \"SHAFT\", \"UNDERGROUND\", \"KRASNO RUSS\", 1975], [1977, \"USSR\", \"SHAFT\", \"UNDERGROUND\", \"KRASNO RUSS\", 1977], [1977, \"USSR\", \"SHAFT\", \"UNDERGROUND\", \"KRASNO RUSS\", 1977], [1978, \"USSR\", \"TUNNEL\", \"UNDERGROUND\", \"KRASNO RUSS\", 1978], [1979, \"USSR\", \"SHAFT\", \"UNDERGROUND\", \"KRASNO RUSS\", 1979], [1980, \"USSR\", \"SHAFT\", \"UNDERGROUND\", \"KRASNO RUSS\", 1980], [1981, \"USSR\", \"SHAFT\", \"UNDERGROUND\", \"KRASNO RUSS\", 1981], [1982, \"USSR\", \"SHAFT\", \"UNDERGROUND\", \"KRASNO RUSS\", 1982], [1982, \"USSR\", \"SHAFT\", \"UNDERGROUND\", \"KRASNO RUSS\", 1982]], \"hoverlabel\": {\"namelength\": 0}, \"hovertemplate\": \"region=%{customdata[4]}<br>x=%{x}<br>y=%{y}<br>year=%{customdata[5]}<br>country=%{customdata[1]}<br>type=%{customdata[2]}<br>type_cat=%{customdata[3]}\", \"legendgroup\": \"region=KRASNO RUSS\", \"marker\": {\"color\": \"#636efa\", \"symbol\": \"circle\"}, \"mode\": \"markers\", \"name\": \"region=KRASNO RUSS\", \"showlegend\": true, \"type\": \"scattergl\", \"uid\": \"9bfa42bf-60fe-463b-8ce5-fbad58c90d7f\", \"x\": [-12.91207218170166, -13.518153190612793, -13.487065315246582, -13.709590911865234, -13.926885604858398, -14.184810638427734, -14.407702445983887, -11.524473190307617, -14.581704139709473], \"xaxis\": \"x\", \"y\": [7.717076301574707, 8.10739803314209, 8.077676773071289, 8.210485458374023, 8.391576766967773, 8.568953514099121, 8.7508544921875, -4.574610710144043, 8.899721145629883], \"yaxis\": \"y\"}, {\"customdata\": [[1977, \"USSR\", \"SHAFT\", \"UNDERGROUND\", \"CHITA RUSS\", 1977]], \"hoverlabel\": {\"namelength\": 0}, \"hovertemplate\": \"region=%{customdata[4]}<br>x=%{x}<br>y=%{y}<br>year=%{customdata[5]}<br>country=%{customdata[1]}<br>type=%{customdata[2]}<br>type_cat=%{customdata[3]}\", \"legendgroup\": \"region=CHITA RUSS\", \"marker\": {\"color\": \"#EF553B\", \"symbol\": \"circle\"}, \"mode\": \"markers\", \"name\": \"region=CHITA RUSS\", \"showlegend\": true, \"type\": \"scattergl\", \"uid\": \"e9da00a2-82f5-4c9f-975f-b97109cc5a88\", \"x\": [-13.448101997375488], \"xaxis\": \"x\", \"y\": [8.041630744934082], \"yaxis\": \"y\"}, {\"customdata\": [[1977, \"USSR\", \"SHAFT\", \"UNDERGROUND\", \"IRKUTS RUSS\", 1977], [1982, \"USSR\", \"SHAFT\", \"UNDERGROUND\", \"IRKUTS RUSS\", 1982]], \"hoverlabel\": {\"namelength\": 0}, \"hovertemplate\": \"region=%{customdata[4]}<br>x=%{x}<br>y=%{y}<br>year=%{customdata[5]}<br>country=%{customdata[1]}<br>type=%{customdata[2]}<br>type_cat=%{customdata[3]}\", \"legendgroup\": \"region=IRKUTS RUSS\", \"marker\": {\"color\": \"#00cc96\", \"symbol\": \"circle\"}, \"mode\": \"markers\", \"name\": \"region=IRKUTS RUSS\", \"showlegend\": true, \"type\": \"scattergl\", \"uid\": \"56a72154-3121-4152-a68a-9bde82017e91\", \"x\": [-13.5986909866333, -11.56337833404541], \"xaxis\": \"x\", \"y\": [8.166620254516602, -4.531793117523193], \"yaxis\": \"y\"}, {\"customdata\": [[1978, \"USSR\", \"TUNNEL\", \"UNDERGROUND\", \"JAKUTS RUSE\", 1978]], \"hoverlabel\": {\"namelength\": 0}, \"hovertemplate\": \"region=%{customdata[4]}<br>x=%{x}<br>y=%{y}<br>year=%{customdata[5]}<br>country=%{customdata[1]}<br>type=%{customdata[2]}<br>type_cat=%{customdata[3]}\", \"legendgroup\": \"region=JAKUTS RUSE\", \"marker\": {\"color\": \"#ab63fa\", \"symbol\": \"circle\"}, \"mode\": \"markers\", \"name\": \"region=JAKUTS RUSE\", \"showlegend\": true, \"type\": \"scattergl\", \"uid\": \"2d5d0d9d-1e43-4765-8da2-824a1cd63062\", \"x\": [-13.737997055053711], \"xaxis\": \"x\", \"y\": [8.233257293701172], \"yaxis\": \"y\"}, {\"customdata\": [[1978, \"USSR\", \"SHAFT\", \"UNDERGROUND\", \"AZGIE KAZAKH\", 1978]], \"hoverlabel\": {\"namelength\": 0}, \"hovertemplate\": \"region=%{customdata[4]}<br>x=%{x}<br>y=%{y}<br>year=%{customdata[5]}<br>country=%{customdata[1]}<br>type=%{customdata[2]}<br>type_cat=%{customdata[3]}\", \"legendgroup\": \"region=AZGIE KAZAKH\", \"marker\": {\"color\": \"#19d3f3\", \"symbol\": \"circle\"}, \"mode\": \"markers\", \"name\": \"region=AZGIE KAZAKH\", \"showlegend\": true, \"type\": \"scattergl\", \"uid\": \"f7a20ecf-fd1f-4124-a631-3db17368607b\", \"x\": [-11.890911102294922], \"xaxis\": \"x\", \"y\": [-3.939415216445923], \"yaxis\": \"y\"}, {\"customdata\": [[1979, \"USSR\", \"SHAFT\", \"UNDERGROUND\", \"AZGIR\", 1979], [1979, \"USSR\", \"SHAFT\", \"UNDERGROUND\", \"AZGIR\", 1979], [1979, \"USSR\", \"SHAFT\", \"UNDERGROUND\", \"AZGIR\", 1979]], \"hoverlabel\": {\"namelength\": 0}, \"hovertemplate\": \"region=%{customdata[4]}<br>x=%{x}<br>y=%{y}<br>year=%{customdata[5]}<br>country=%{customdata[1]}<br>type=%{customdata[2]}<br>type_cat=%{customdata[3]}\", \"legendgroup\": \"region=AZGIR\", \"marker\": {\"color\": \"#e763fa\", \"symbol\": \"circle\"}, \"mode\": \"markers\", \"name\": \"region=AZGIR\", \"showlegend\": true, \"type\": \"scattergl\", \"uid\": \"ec9f1f72-4cb4-49b2-83c8-eeffd3f959f5\", \"x\": [-13.962342262268066, -11.799752235412598, -11.950479507446289], \"xaxis\": \"x\", \"y\": [8.417912483215332, -4.188459873199463, -4.014104843139648], \"yaxis\": \"y\"}, {\"customdata\": [[1979, \"FRANCE\", \"SHAFT/GR\", \"UNDERGROUND\", \"MUEUEOA\", 1979], [1980, \"FRANCE\", \"SHAFT/GR\", \"UNDERGROUND\", \"MUEUEOA\", 1980]], \"hoverlabel\": {\"namelength\": 0}, \"hovertemplate\": \"region=%{customdata[4]}<br>x=%{x}<br>y=%{y}<br>year=%{customdata[5]}<br>country=%{customdata[1]}<br>type=%{customdata[2]}<br>type_cat=%{customdata[3]}\", \"legendgroup\": \"region=MUEUEOA\", \"marker\": {\"color\": \"#FECB52\", \"symbol\": \"circle\"}, \"mode\": \"markers\", \"name\": \"region=MUEUEOA\", \"showlegend\": true, \"type\": \"scattergl\", \"uid\": \"1189ba88-0acc-427d-b5d6-36017e68f80d\", \"x\": [-6.907424449920654, -4.019499778747559], \"xaxis\": \"x\", \"y\": [9.193415641784668, 17.147382736206055], \"yaxis\": \"y\"}, {\"customdata\": [[1979, \"USSR\", \"MINE\", \"UNDERGROUND\", \"UKEAINE\", 1979]], \"hoverlabel\": {\"namelength\": 0}, \"hovertemplate\": \"region=%{customdata[4]}<br>x=%{x}<br>y=%{y}<br>year=%{customdata[5]}<br>country=%{customdata[1]}<br>type=%{customdata[2]}<br>type_cat=%{customdata[3]}\", \"legendgroup\": \"region=UKEAINE\", \"marker\": {\"color\": \"#FFA15A\", \"symbol\": \"circle\"}, \"mode\": \"markers\", \"name\": \"region=UKEAINE\", \"showlegend\": true, \"type\": \"scattergl\", \"uid\": \"3e45cc8b-2d83-4a6f-9ae2-7de38b06faec\", \"x\": [9.70362663269043], \"xaxis\": \"x\", \"y\": [20.74574089050293], \"yaxis\": \"y\"}, {\"customdata\": [[1980, \"USSR\", \"SHAFT\", \"UNDERGROUND\", \"BASHKI RUSS\", 1980]], \"hoverlabel\": {\"namelength\": 0}, \"hovertemplate\": \"region=%{customdata[4]}<br>x=%{x}<br>y=%{y}<br>year=%{customdata[5]}<br>country=%{customdata[1]}<br>type=%{customdata[2]}<br>type_cat=%{customdata[3]}\", \"legendgroup\": \"region=BASHKI RUSS\", \"marker\": {\"color\": \"#FF6692\", \"symbol\": \"circle\"}, \"mode\": \"markers\", \"name\": \"region=BASHKI RUSS\", \"showlegend\": true, \"type\": \"scattergl\", \"uid\": \"caa4af3e-8864-460e-8354-5e64bf113195\", \"x\": [9.609535217285156], \"xaxis\": \"x\", \"y\": [20.901948928833008], \"yaxis\": \"y\"}, {\"customdata\": [[1980, \"USSR\", \"SHAFT\", \"UNDERGROUND\", \"ASTRAK RUSS\", 1980], [1981, \"USSR\", \"SHAFT\", \"UNDERGROUND\", \"ASTRAK RUSS\", 1981], [1981, \"USSR\", \"SHAFT\", \"UNDERGROUND\", \"ASTRAK RUSS\", 1981], [1982, \"USSR\", \"SHAFT\", \"UNDERGROUND\", \"ASTRAK RUSS\", 1982], [1982, \"USSR\", \"SHAFT\", \"UNDERGROUND\", \"ASTRAK RUSS\", 1982], [1982, \"USSR\", \"SHAFT\", \"UNDERGROUND\", \"ASTRAK RUSS\", 1982], [1982, \"USSR\", \"SHAFT\", \"UNDERGROUND\", \"ASTRAK RUSS\", 1982], [1983, \"USSR\", \"SHAFT\", \"UNDERGROUND\", \"ASTRAK RUSS\", 1983], [1983, \"USSR\", \"SHAFT\", \"UNDERGROUND\", \"ASTRAK RUSS\", 1983], [1983, \"USSR\", \"SHAFT\", \"UNDERGROUND\", \"ASTRAK RUSS\", 1983], [1983, \"USSR\", \"SHAFT\", \"UNDERGROUND\", \"ASTRAK RUSS\", 1983], [1983, \"USSR\", \"SHAFT\", \"UNDERGROUND\", \"ASTRAK RUSS\", 1983], [1983, \"USSR\", \"SHAFT\", \"UNDERGROUND\", \"ASTRAK RUSS\", 1983], [1984, \"USSR\", \"SHAFT\", \"UNDERGROUND\", \"ASTRAK RUSS\", 1984], [1984, \"USSR\", \"SHAFT\", \"UNDERGROUND\", \"ASTRAK RUSS\", 1984]], \"hoverlabel\": {\"namelength\": 0}, \"hovertemplate\": \"region=%{customdata[4]}<br>x=%{x}<br>y=%{y}<br>year=%{customdata[5]}<br>country=%{customdata[1]}<br>type=%{customdata[2]}<br>type_cat=%{customdata[3]}\", \"legendgroup\": \"region=ASTRAK RUSS\", \"marker\": {\"color\": \"#B6E880\", \"symbol\": \"circle\"}, \"mode\": \"markers\", \"name\": \"region=ASTRAK RUSS\", \"showlegend\": true, \"type\": \"scattergl\", \"uid\": \"f9a990f3-8e6b-4926-9201-b3333339aa93\", \"x\": [-11.576539993286133, -14.400965690612793, -14.3684663772583, -11.557656288146973, -11.559937477111816, -11.592392921447754, -11.580121994018555, -14.751744270324707, -14.735920906066895, -14.692071914672852, -14.747753143310547, -14.742084503173828, -14.741325378417969, -14.801262855529785, -14.816123962402344], \"xaxis\": \"x\", \"y\": [-4.5600104331970215, 8.739147186279297, 8.710175514221191, -4.566459655761719, -4.579378604888916, -4.58762264251709, -4.5614094734191895, 9.066543579101562, 9.076334953308105, 9.058403968811035, 8.976362228393555, 8.97811508178711, 8.998790740966797, 9.112019538879395, 9.125264167785645], \"yaxis\": \"y\"}, {\"customdata\": [[1980, \"USSR\", \"TUNNEL\", \"UNDERGROUND\", \"KZ RUSS\", 1980]], \"hoverlabel\": {\"namelength\": 0}, \"hovertemplate\": \"region=%{customdata[4]}<br>x=%{x}<br>y=%{y}<br>year=%{customdata[5]}<br>country=%{customdata[1]}<br>type=%{customdata[2]}<br>type_cat=%{customdata[3]}\", \"legendgroup\": \"region=KZ RUSS\", \"marker\": {\"color\": \"#636efa\", \"symbol\": \"circle\"}, \"mode\": \"markers\", \"name\": \"region=KZ RUSS\", \"showlegend\": true, \"type\": \"scattergl\", \"uid\": \"b385add8-9717-4c16-9bf8-b3a6fc17f6fe\", \"x\": [-11.620417594909668], \"xaxis\": \"x\", \"y\": [-4.342836856842041], \"yaxis\": \"y\"}, {\"customdata\": [[1984, \"USSR\", \"SHAFT\", \"UNDERGROUND\", \"KAZAKHSTAN\", 1984], [1984, \"USSR\", \"SHAFT\", \"UNDERGROUND\", \"KAZAKHSTAN\", 1984], [1984, \"USSR\", \"SHAFT\", \"UNDERGROUND\", \"KAZAKHSTAN\", 1984]], \"hoverlabel\": {\"namelength\": 0}, \"hovertemplate\": \"region=%{customdata[4]}<br>x=%{x}<br>y=%{y}<br>year=%{customdata[5]}<br>country=%{customdata[1]}<br>type=%{customdata[2]}<br>type_cat=%{customdata[3]}\", \"legendgroup\": \"region=KAZAKHSTAN\", \"marker\": {\"color\": \"#EF553B\", \"symbol\": \"circle\"}, \"mode\": \"markers\", \"name\": \"region=KAZAKHSTAN\", \"showlegend\": true, \"type\": \"scattergl\", \"uid\": \"f1a85c44-fa81-4802-9eca-3d6c1b831459\", \"x\": [-14.830717086791992, -14.835952758789062, -14.840157508850098], \"xaxis\": \"x\", \"y\": [9.039819717407227, 9.002961158752441, 9.037555694580078], \"yaxis\": \"y\"}, {\"customdata\": [[1984, \"USSR\", \"SHAFT\", \"UNDERGROUND\", \"KEMERO RUSS\", 1984]], \"hoverlabel\": {\"namelength\": 0}, \"hovertemplate\": \"region=%{customdata[4]}<br>x=%{x}<br>y=%{y}<br>year=%{customdata[5]}<br>country=%{customdata[1]}<br>type=%{customdata[2]}<br>type_cat=%{customdata[3]}\", \"legendgroup\": \"region=KEMERO RUSS\", \"marker\": {\"color\": \"#00cc96\", \"symbol\": \"circle\"}, \"mode\": \"markers\", \"name\": \"region=KEMERO RUSS\", \"showlegend\": true, \"type\": \"scattergl\", \"uid\": \"659483ac-ef0d-4360-a83d-c4e038f693be\", \"x\": [-14.809054374694824], \"xaxis\": \"x\", \"y\": [9.090518951416016], \"yaxis\": \"y\"}, {\"customdata\": [[1985, \"USSR\", \"SHAFT\", \"UNDERGROUND\", \"TUYMEN RUSS\", 1985]], \"hoverlabel\": {\"namelength\": 0}, \"hovertemplate\": \"region=%{customdata[4]}<br>x=%{x}<br>y=%{y}<br>year=%{customdata[5]}<br>country=%{customdata[1]}<br>type=%{customdata[2]}<br>type_cat=%{customdata[3]}\", \"legendgroup\": \"region=TUYMEN RUSS\", \"marker\": {\"color\": \"#ab63fa\", \"symbol\": \"circle\"}, \"mode\": \"markers\", \"name\": \"region=TUYMEN RUSS\", \"showlegend\": true, \"type\": \"scattergl\", \"uid\": \"5bfeab60-2adb-42c6-85c4-7e367d6835bd\", \"x\": [9.512173652648926], \"xaxis\": \"x\", \"y\": [21.097518920898438], \"yaxis\": \"y\"}, {\"customdata\": [[1987, \"USSR\", \"SHAFT\", \"UNDERGROUND\", \"W KAZAKH\", 1987]], \"hoverlabel\": {\"namelength\": 0}, \"hovertemplate\": \"region=%{customdata[4]}<br>x=%{x}<br>y=%{y}<br>year=%{customdata[5]}<br>country=%{customdata[1]}<br>type=%{customdata[2]}<br>type_cat=%{customdata[3]}\", \"legendgroup\": \"region=W KAZAKH\", \"marker\": {\"color\": \"#19d3f3\", \"symbol\": \"circle\"}, \"mode\": \"markers\", \"name\": \"region=W KAZAKH\", \"showlegend\": true, \"type\": \"scattergl\", \"uid\": \"e8b46a69-cb77-430b-a6c6-77460b4813ed\", \"x\": [-11.653608322143555], \"xaxis\": \"x\", \"y\": [-4.608617305755615], \"yaxis\": \"y\"}, {\"customdata\": [[1987, \"FRANCE\", \"SHAFT/LG\", \"UNDERGROUND\", \"HURUROA\", 1987]], \"hoverlabel\": {\"namelength\": 0}, \"hovertemplate\": \"region=%{customdata[4]}<br>x=%{x}<br>y=%{y}<br>year=%{customdata[5]}<br>country=%{customdata[1]}<br>type=%{customdata[2]}<br>type_cat=%{customdata[3]}\", \"legendgroup\": \"region=HURUROA\", \"marker\": {\"color\": \"#e763fa\", \"symbol\": \"circle\"}, \"mode\": \"markers\", \"name\": \"region=HURUROA\", \"showlegend\": true, \"type\": \"scattergl\", \"uid\": \"518b164f-1ef6-4318-aba9-c3bcadc02550\", \"x\": [-2.7606964111328125], \"xaxis\": \"x\", \"y\": [17.541980743408203], \"yaxis\": \"y\"}, {\"customdata\": [[1989, \"FRANCE\", \"SHAFT/LG\", \"UNDERGROUND\", \"FANGATAUFAA\", 1989]], \"hoverlabel\": {\"namelength\": 0}, \"hovertemplate\": \"region=%{customdata[4]}<br>x=%{x}<br>y=%{y}<br>year=%{customdata[5]}<br>country=%{customdata[1]}<br>type=%{customdata[2]}<br>type_cat=%{customdata[3]}\", \"legendgroup\": \"region=FANGATAUFAA\", \"marker\": {\"color\": \"#FECB52\", \"symbol\": \"circle\"}, \"mode\": \"markers\", \"name\": \"region=FANGATAUFAA\", \"showlegend\": true, \"type\": \"scattergl\", \"uid\": \"7ae55dc8-485f-4607-b849-16a73655545e\", \"x\": [-2.3003957271575928], \"xaxis\": \"x\", \"y\": [17.56653594970703], \"yaxis\": \"y\"}, {\"customdata\": [[1998, \"PAKIST\", \"UG\", \"UNDERGROUND\", \"CHAGAI\", 1998]], \"hoverlabel\": {\"namelength\": 0}, \"hovertemplate\": \"region=%{customdata[4]}<br>x=%{x}<br>y=%{y}<br>year=%{customdata[5]}<br>country=%{customdata[1]}<br>type=%{customdata[2]}<br>type_cat=%{customdata[3]}\", \"legendgroup\": \"region=CHAGAI\", \"marker\": {\"color\": \"#FFA15A\", \"symbol\": \"circle\"}, \"mode\": \"markers\", \"name\": \"region=CHAGAI\", \"showlegend\": true, \"type\": \"scattergl\", \"uid\": \"ec3c772c-f998-4365-9385-b9a38ecce04f\", \"x\": [-2.09915828704834], \"xaxis\": \"x\", \"y\": [17.711164474487305], \"yaxis\": \"y\"}, {\"customdata\": [[1998, \"PAKIST\", \"UG\", \"UNDERGROUND\", \"KHARAN\", 1998]], \"hoverlabel\": {\"namelength\": 0}, \"hovertemplate\": \"region=%{customdata[4]}<br>x=%{x}<br>y=%{y}<br>year=%{customdata[5]}<br>country=%{customdata[1]}<br>type=%{customdata[2]}<br>type_cat=%{customdata[3]}\", \"legendgroup\": \"region=KHARAN\", \"marker\": {\"color\": \"#FF6692\", \"symbol\": \"circle\"}, \"mode\": \"markers\", \"name\": \"region=KHARAN\", \"showlegend\": true, \"type\": \"scattergl\", \"uid\": \"91224f4d-4ac1-43a4-b4eb-e392fb86dee5\", \"x\": [1.6429529190063477], \"xaxis\": \"x\", \"y\": [-14.62547492980957], \"yaxis\": \"y\"}],\n",
       "                        {\"grid\": {\"xaxes\": [\"x\"], \"xgap\": 0.1, \"xside\": \"bottom\", \"yaxes\": [\"y\"], \"ygap\": 0.1, \"yside\": \"left\"}, \"height\": 600, \"legend\": {\"tracegroupgap\": 0}, \"margin\": {\"t\": 60}, \"template\": {\"data\": {\"bar\": [{\"marker\": {\"line\": {\"color\": \"#E5ECF6\", \"width\": 0.5}}, \"type\": \"bar\"}], \"barpolar\": [{\"marker\": {\"line\": {\"color\": \"#E5ECF6\", \"width\": 0.5}}, \"type\": \"barpolar\"}], \"carpet\": [{\"aaxis\": {\"endlinecolor\": \"#2a3f5f\", \"gridcolor\": \"white\", \"linecolor\": \"white\", \"minorgridcolor\": \"white\", \"startlinecolor\": \"#2a3f5f\"}, \"baxis\": {\"endlinecolor\": \"#2a3f5f\", \"gridcolor\": \"white\", \"linecolor\": \"white\", \"minorgridcolor\": \"white\", \"startlinecolor\": \"#2a3f5f\"}, \"type\": \"carpet\"}], \"choropleth\": [{\"colorbar\": {\"outlinewidth\": 0, \"ticks\": \"\"}, \"type\": \"choropleth\"}], \"contour\": [{\"colorbar\": {\"outlinewidth\": 0, \"ticks\": \"\"}, \"colorscale\": [[0.0, \"#0508b8\"], [0.0893854748603352, \"#1910d8\"], [0.1787709497206704, \"#3c19f0\"], [0.2681564245810056, \"#6b1cfb\"], [0.3575418994413408, \"#981cfd\"], [0.44692737430167595, \"#bf1cfd\"], [0.5363128491620112, \"#dd2bfd\"], [0.6256983240223464, \"#f246fe\"], [0.7150837988826816, \"#fc67fd\"], [0.8044692737430168, \"#fe88fc\"], [0.8938547486033519, \"#fea5fd\"], [0.9832402234636871, \"#febefe\"], [1.0, \"#fec3fe\"]], \"type\": \"contour\"}], \"contourcarpet\": [{\"colorbar\": {\"outlinewidth\": 0, \"ticks\": \"\"}, \"type\": \"contourcarpet\"}], \"heatmap\": [{\"colorbar\": {\"outlinewidth\": 0, \"ticks\": \"\"}, \"colorscale\": [[0.0, \"#0508b8\"], [0.0893854748603352, \"#1910d8\"], [0.1787709497206704, \"#3c19f0\"], [0.2681564245810056, \"#6b1cfb\"], [0.3575418994413408, \"#981cfd\"], [0.44692737430167595, \"#bf1cfd\"], [0.5363128491620112, \"#dd2bfd\"], [0.6256983240223464, \"#f246fe\"], [0.7150837988826816, \"#fc67fd\"], [0.8044692737430168, \"#fe88fc\"], [0.8938547486033519, \"#fea5fd\"], [0.9832402234636871, \"#febefe\"], [1.0, \"#fec3fe\"]], \"type\": \"heatmap\"}], \"heatmapgl\": [{\"colorbar\": {\"outlinewidth\": 0, \"ticks\": \"\"}, \"type\": \"heatmapgl\"}], \"histogram\": [{\"marker\": {\"colorbar\": {\"outlinewidth\": 0, \"ticks\": \"\"}}, \"type\": \"histogram\"}], \"histogram2d\": [{\"colorbar\": {\"outlinewidth\": 0, \"ticks\": \"\"}, \"colorscale\": [[0.0, \"#0508b8\"], [0.0893854748603352, \"#1910d8\"], [0.1787709497206704, \"#3c19f0\"], [0.2681564245810056, \"#6b1cfb\"], [0.3575418994413408, \"#981cfd\"], [0.44692737430167595, \"#bf1cfd\"], [0.5363128491620112, \"#dd2bfd\"], [0.6256983240223464, \"#f246fe\"], [0.7150837988826816, \"#fc67fd\"], [0.8044692737430168, \"#fe88fc\"], [0.8938547486033519, \"#fea5fd\"], [0.9832402234636871, \"#febefe\"], [1.0, \"#fec3fe\"]], \"type\": \"histogram2d\"}], \"histogram2dcontour\": [{\"colorbar\": {\"outlinewidth\": 0, \"ticks\": \"\"}, \"colorscale\": [[0.0, \"#0508b8\"], [0.0893854748603352, \"#1910d8\"], [0.1787709497206704, \"#3c19f0\"], [0.2681564245810056, \"#6b1cfb\"], [0.3575418994413408, \"#981cfd\"], [0.44692737430167595, \"#bf1cfd\"], [0.5363128491620112, \"#dd2bfd\"], [0.6256983240223464, \"#f246fe\"], [0.7150837988826816, \"#fc67fd\"], [0.8044692737430168, \"#fe88fc\"], [0.8938547486033519, \"#fea5fd\"], [0.9832402234636871, \"#febefe\"], [1.0, \"#fec3fe\"]], \"type\": \"histogram2dcontour\"}], \"mesh3d\": [{\"colorbar\": {\"outlinewidth\": 0, \"ticks\": \"\"}, \"type\": \"mesh3d\"}], \"parcoords\": [{\"line\": {\"colorbar\": {\"outlinewidth\": 0, \"ticks\": \"\"}}, \"type\": \"parcoords\"}], \"scatter\": [{\"marker\": {\"colorbar\": {\"outlinewidth\": 0, \"ticks\": \"\"}}, \"type\": \"scatter\"}], \"scatter3d\": [{\"marker\": {\"colorbar\": {\"outlinewidth\": 0, \"ticks\": \"\"}}, \"type\": \"scatter3d\"}], \"scattercarpet\": [{\"marker\": {\"colorbar\": {\"outlinewidth\": 0, \"ticks\": \"\"}}, \"type\": \"scattercarpet\"}], \"scattergeo\": [{\"marker\": {\"colorbar\": {\"outlinewidth\": 0, \"ticks\": \"\"}}, \"type\": \"scattergeo\"}], \"scattergl\": [{\"marker\": {\"colorbar\": {\"outlinewidth\": 0, \"ticks\": \"\"}}, \"type\": \"scattergl\"}], \"scattermapbox\": [{\"marker\": {\"colorbar\": {\"outlinewidth\": 0, \"ticks\": \"\"}}, \"type\": \"scattermapbox\"}], \"scatterpolar\": [{\"marker\": {\"colorbar\": {\"outlinewidth\": 0, \"ticks\": \"\"}}, \"type\": \"scatterpolar\"}], \"scatterpolargl\": [{\"marker\": {\"colorbar\": {\"outlinewidth\": 0, \"ticks\": \"\"}}, \"type\": \"scatterpolargl\"}], \"scatterternary\": [{\"marker\": {\"colorbar\": {\"outlinewidth\": 0, \"ticks\": \"\"}}, \"type\": \"scatterternary\"}], \"surface\": [{\"colorbar\": {\"outlinewidth\": 0, \"ticks\": \"\"}, \"type\": \"surface\"}], \"table\": [{\"cells\": {\"fill\": {\"color\": \"#EBF0F8\"}, \"line\": {\"color\": \"white\"}}, \"header\": {\"fill\": {\"color\": \"#C8D4E3\"}, \"line\": {\"color\": \"white\"}}, \"type\": \"table\"}]}, \"layout\": {\"annotationdefaults\": {\"arrowcolor\": \"#506784\", \"arrowhead\": 0, \"arrowwidth\": 1}, \"colorscale\": {\"diverging\": [[0, \"#8e0152\"], [0.1, \"#c51b7d\"], [0.2, \"#de77ae\"], [0.3, \"#f1b6da\"], [0.4, \"#fde0ef\"], [0.5, \"#f7f7f7\"], [0.6, \"#e6f5d0\"], [0.7, \"#b8e186\"], [0.8, \"#7fbc41\"], [0.9, \"#4d9221\"], [1, \"#276419\"]], \"sequential\": [[0.0, \"#0508b8\"], [0.0893854748603352, \"#1910d8\"], [0.1787709497206704, \"#3c19f0\"], [0.2681564245810056, \"#6b1cfb\"], [0.3575418994413408, \"#981cfd\"], [0.44692737430167595, \"#bf1cfd\"], [0.5363128491620112, \"#dd2bfd\"], [0.6256983240223464, \"#f246fe\"], [0.7150837988826816, \"#fc67fd\"], [0.8044692737430168, \"#fe88fc\"], [0.8938547486033519, \"#fea5fd\"], [0.9832402234636871, \"#febefe\"], [1.0, \"#fec3fe\"]], \"sequentialminus\": [[0.0, \"#0508b8\"], [0.0893854748603352, \"#1910d8\"], [0.1787709497206704, \"#3c19f0\"], [0.2681564245810056, \"#6b1cfb\"], [0.3575418994413408, \"#981cfd\"], [0.44692737430167595, \"#bf1cfd\"], [0.5363128491620112, \"#dd2bfd\"], [0.6256983240223464, \"#f246fe\"], [0.7150837988826816, \"#fc67fd\"], [0.8044692737430168, \"#fe88fc\"], [0.8938547486033519, \"#fea5fd\"], [0.9832402234636871, \"#febefe\"], [1.0, \"#fec3fe\"]]}, \"colorway\": [\"#636efa\", \"#EF553B\", \"#00cc96\", \"#ab63fa\", \"#19d3f3\", \"#e763fa\", \"#FECB52\", \"#FFA15A\", \"#FF6692\", \"#B6E880\"], \"font\": {\"color\": \"#2a3f5f\"}, \"geo\": {\"bgcolor\": \"white\", \"lakecolor\": \"white\", \"landcolor\": \"#E5ECF6\", \"showlakes\": true, \"showland\": true, \"subunitcolor\": \"white\"}, \"hoverlabel\": {\"align\": \"left\"}, \"hovermode\": \"closest\", \"mapbox\": {\"style\": \"light\"}, \"paper_bgcolor\": \"white\", \"plot_bgcolor\": \"#E5ECF6\", \"polar\": {\"angularaxis\": {\"gridcolor\": \"white\", \"linecolor\": \"white\", \"ticks\": \"\"}, \"bgcolor\": \"#E5ECF6\", \"radialaxis\": {\"gridcolor\": \"white\", \"linecolor\": \"white\", \"ticks\": \"\"}}, \"scene\": {\"xaxis\": {\"backgroundcolor\": \"#E5ECF6\", \"gridcolor\": \"white\", \"gridwidth\": 2, \"linecolor\": \"white\", \"showbackground\": true, \"ticks\": \"\", \"zerolinecolor\": \"white\"}, \"yaxis\": {\"backgroundcolor\": \"#E5ECF6\", \"gridcolor\": \"white\", \"gridwidth\": 2, \"linecolor\": \"white\", \"showbackground\": true, \"ticks\": \"\", \"zerolinecolor\": \"white\"}, \"zaxis\": {\"backgroundcolor\": \"#E5ECF6\", \"gridcolor\": \"white\", \"gridwidth\": 2, \"linecolor\": \"white\", \"showbackground\": true, \"ticks\": \"\", \"zerolinecolor\": \"white\"}}, \"shapedefaults\": {\"fillcolor\": \"#506784\", \"line\": {\"width\": 0}, \"opacity\": 0.4}, \"ternary\": {\"aaxis\": {\"gridcolor\": \"white\", \"linecolor\": \"white\", \"ticks\": \"\"}, \"baxis\": {\"gridcolor\": \"white\", \"linecolor\": \"white\", \"ticks\": \"\"}, \"bgcolor\": \"#E5ECF6\", \"caxis\": {\"gridcolor\": \"white\", \"linecolor\": \"white\", \"ticks\": \"\"}}, \"title\": {\"x\": 0.05}, \"xaxis\": {\"automargin\": true, \"gridcolor\": \"white\", \"linecolor\": \"white\", \"ticks\": \"\", \"zerolinecolor\": \"white\", \"zerolinewidth\": 2}, \"yaxis\": {\"automargin\": true, \"gridcolor\": \"white\", \"linecolor\": \"white\", \"ticks\": \"\", \"zerolinecolor\": \"white\", \"zerolinewidth\": 2}}}, \"xaxis\": {\"title\": {\"text\": \"x\"}}, \"yaxis\": {\"title\": {\"text\": \"y\"}}},\n",
       "                        {\"showLink\": false, \"linkText\": \"Export to plot.ly\", \"plotlyServerURL\": \"https://plot.ly\", \"responsive\": true}\n",
       "                    ).then(function(){\n",
       "                            \n",
       "var gd = document.getElementById('caf520f5-6aa0-4246-91e3-6cdb09ad9b64');\n",
       "var x = new MutationObserver(function (mutations, observer) {{\n",
       "        var display = window.getComputedStyle(gd).display;\n",
       "        if (!display || display === 'none') {{\n",
       "            console.log([gd, 'removed!']);\n",
       "            Plotly.purge(gd);\n",
       "            observer.disconnect();\n",
       "        }}\n",
       "}});\n",
       "\n",
       "// Listen for the removal of the full notebook cells\n",
       "var notebookContainer = gd.closest('#notebook-container');\n",
       "if (notebookContainer) {{\n",
       "    x.observe(notebookContainer, {childList: true});\n",
       "}}\n",
       "\n",
       "// Listen for the clearing of the current output cell\n",
       "var outputEl = gd.closest('.output');\n",
       "if (outputEl) {{\n",
       "    x.observe(outputEl, {childList: true});\n",
       "}}\n",
       "\n",
       "                        })\n",
       "                };\n",
       "                });\n",
       "            </script>\n",
       "        </div>"
      ]
     },
     "metadata": {},
     "output_type": "display_data"
    }
   ],
   "source": [
    "plotly_express.scatter(df1,x='x', y='y', color='region', \n",
    "                       hover_data=['year','country','type','type_cat','region','year'])"
   ]
  },
  {
   "cell_type": "code",
   "execution_count": 32,
   "metadata": {},
   "outputs": [
    {
     "data": {
      "text/html": [
       "<div>\n",
       "<style scoped>\n",
       "    .dataframe tbody tr th:only-of-type {\n",
       "        vertical-align: middle;\n",
       "    }\n",
       "\n",
       "    .dataframe tbody tr th {\n",
       "        vertical-align: top;\n",
       "    }\n",
       "\n",
       "    .dataframe thead th {\n",
       "        text-align: right;\n",
       "    }\n",
       "</style>\n",
       "<table border=\"1\" class=\"dataframe\">\n",
       "  <thead>\n",
       "    <tr style=\"text-align: right;\">\n",
       "      <th></th>\n",
       "      <th>origin_t</th>\n",
       "      <th>country</th>\n",
       "      <th>region</th>\n",
       "      <th>source</th>\n",
       "      <th>latitude</th>\n",
       "      <th>longitude</th>\n",
       "      <th>mb</th>\n",
       "      <th>Ms</th>\n",
       "      <th>depth</th>\n",
       "      <th>yield_1</th>\n",
       "      <th>...</th>\n",
       "      <th>_Is_quarter_start</th>\n",
       "      <th>_Is_year_end</th>\n",
       "      <th>_Is_year_start</th>\n",
       "      <th>_Elapsed</th>\n",
       "      <th>hour</th>\n",
       "      <th>type_cat</th>\n",
       "      <th>mb_I</th>\n",
       "      <th>Ms_I</th>\n",
       "      <th>x</th>\n",
       "      <th>y</th>\n",
       "    </tr>\n",
       "    <tr>\n",
       "      <th>id_no</th>\n",
       "      <th></th>\n",
       "      <th></th>\n",
       "      <th></th>\n",
       "      <th></th>\n",
       "      <th></th>\n",
       "      <th></th>\n",
       "      <th></th>\n",
       "      <th></th>\n",
       "      <th></th>\n",
       "      <th></th>\n",
       "      <th></th>\n",
       "      <th></th>\n",
       "      <th></th>\n",
       "      <th></th>\n",
       "      <th></th>\n",
       "      <th></th>\n",
       "      <th></th>\n",
       "      <th></th>\n",
       "      <th></th>\n",
       "      <th></th>\n",
       "      <th></th>\n",
       "    </tr>\n",
       "  </thead>\n",
       "  <tbody>\n",
       "    <tr>\n",
       "      <th>45001</th>\n",
       "      <td>123000.0</td>\n",
       "      <td>USA</td>\n",
       "      <td>ALAMOGORDO</td>\n",
       "      <td>DOE</td>\n",
       "      <td>32.540</td>\n",
       "      <td>-105.570</td>\n",
       "      <td>0.0</td>\n",
       "      <td>0.0</td>\n",
       "      <td>-0.100</td>\n",
       "      <td>21.0</td>\n",
       "      <td>...</td>\n",
       "      <td>False</td>\n",
       "      <td>False</td>\n",
       "      <td>False</td>\n",
       "      <td>-771984000</td>\n",
       "      <td>12</td>\n",
       "      <td>ATMOSPHERIC</td>\n",
       "      <td>0</td>\n",
       "      <td>0</td>\n",
       "      <td>-6.857891</td>\n",
       "      <td>-16.797060</td>\n",
       "    </tr>\n",
       "    <tr>\n",
       "      <th>45002</th>\n",
       "      <td>231500.0</td>\n",
       "      <td>USA</td>\n",
       "      <td>HIROSHIMA</td>\n",
       "      <td>DOE</td>\n",
       "      <td>34.230</td>\n",
       "      <td>132.270</td>\n",
       "      <td>0.0</td>\n",
       "      <td>0.0</td>\n",
       "      <td>-0.600</td>\n",
       "      <td>15.0</td>\n",
       "      <td>...</td>\n",
       "      <td>False</td>\n",
       "      <td>False</td>\n",
       "      <td>False</td>\n",
       "      <td>-770256000</td>\n",
       "      <td>23</td>\n",
       "      <td>ATMOSPHERIC</td>\n",
       "      <td>0</td>\n",
       "      <td>0</td>\n",
       "      <td>-6.861694</td>\n",
       "      <td>-16.792982</td>\n",
       "    </tr>\n",
       "    <tr>\n",
       "      <th>45003</th>\n",
       "      <td>15800.0</td>\n",
       "      <td>USA</td>\n",
       "      <td>NAGASAKI</td>\n",
       "      <td>DOE</td>\n",
       "      <td>32.450</td>\n",
       "      <td>129.520</td>\n",
       "      <td>0.0</td>\n",
       "      <td>0.0</td>\n",
       "      <td>-0.600</td>\n",
       "      <td>21.0</td>\n",
       "      <td>...</td>\n",
       "      <td>False</td>\n",
       "      <td>False</td>\n",
       "      <td>False</td>\n",
       "      <td>-769910400</td>\n",
       "      <td>15</td>\n",
       "      <td>ATMOSPHERIC</td>\n",
       "      <td>0</td>\n",
       "      <td>0</td>\n",
       "      <td>-6.826782</td>\n",
       "      <td>-16.810555</td>\n",
       "    </tr>\n",
       "    <tr>\n",
       "      <th>46001</th>\n",
       "      <td>220100.0</td>\n",
       "      <td>USA</td>\n",
       "      <td>BIKINI</td>\n",
       "      <td>DOE</td>\n",
       "      <td>11.350</td>\n",
       "      <td>165.200</td>\n",
       "      <td>0.0</td>\n",
       "      <td>0.0</td>\n",
       "      <td>-0.200</td>\n",
       "      <td>21.0</td>\n",
       "      <td>...</td>\n",
       "      <td>False</td>\n",
       "      <td>False</td>\n",
       "      <td>False</td>\n",
       "      <td>-741830400</td>\n",
       "      <td>22</td>\n",
       "      <td>ATMOSPHERIC</td>\n",
       "      <td>0</td>\n",
       "      <td>0</td>\n",
       "      <td>-6.873917</td>\n",
       "      <td>-16.814632</td>\n",
       "    </tr>\n",
       "    <tr>\n",
       "      <th>46002</th>\n",
       "      <td>213500.0</td>\n",
       "      <td>USA</td>\n",
       "      <td>BIKINI</td>\n",
       "      <td>DOE</td>\n",
       "      <td>11.350</td>\n",
       "      <td>165.200</td>\n",
       "      <td>0.0</td>\n",
       "      <td>0.0</td>\n",
       "      <td>0.030</td>\n",
       "      <td>21.0</td>\n",
       "      <td>...</td>\n",
       "      <td>False</td>\n",
       "      <td>False</td>\n",
       "      <td>False</td>\n",
       "      <td>-739756800</td>\n",
       "      <td>21</td>\n",
       "      <td>ATMOSPHERIC</td>\n",
       "      <td>0</td>\n",
       "      <td>0</td>\n",
       "      <td>-6.816502</td>\n",
       "      <td>-16.842319</td>\n",
       "    </tr>\n",
       "    <tr>\n",
       "      <th>48001</th>\n",
       "      <td>181700.0</td>\n",
       "      <td>USA</td>\n",
       "      <td>ENEWETAK</td>\n",
       "      <td>DOE</td>\n",
       "      <td>11.300</td>\n",
       "      <td>162.150</td>\n",
       "      <td>0.0</td>\n",
       "      <td>0.0</td>\n",
       "      <td>-0.080</td>\n",
       "      <td>37.0</td>\n",
       "      <td>...</td>\n",
       "      <td>False</td>\n",
       "      <td>False</td>\n",
       "      <td>False</td>\n",
       "      <td>-685324800</td>\n",
       "      <td>18</td>\n",
       "      <td>ATMOSPHERIC</td>\n",
       "      <td>0</td>\n",
       "      <td>0</td>\n",
       "      <td>-6.895119</td>\n",
       "      <td>-16.823687</td>\n",
       "    </tr>\n",
       "    <tr>\n",
       "      <th>48002</th>\n",
       "      <td>180900.0</td>\n",
       "      <td>USA</td>\n",
       "      <td>ENEWETAK</td>\n",
       "      <td>DOE</td>\n",
       "      <td>11.300</td>\n",
       "      <td>162.150</td>\n",
       "      <td>0.0</td>\n",
       "      <td>0.0</td>\n",
       "      <td>-0.080</td>\n",
       "      <td>49.0</td>\n",
       "      <td>...</td>\n",
       "      <td>False</td>\n",
       "      <td>False</td>\n",
       "      <td>False</td>\n",
       "      <td>-683942400</td>\n",
       "      <td>18</td>\n",
       "      <td>ATMOSPHERIC</td>\n",
       "      <td>0</td>\n",
       "      <td>0</td>\n",
       "      <td>-6.892535</td>\n",
       "      <td>-16.822613</td>\n",
       "    </tr>\n",
       "    <tr>\n",
       "      <th>48003</th>\n",
       "      <td>180400.0</td>\n",
       "      <td>USA</td>\n",
       "      <td>ENEWETAK</td>\n",
       "      <td>DOE</td>\n",
       "      <td>11.300</td>\n",
       "      <td>162.150</td>\n",
       "      <td>0.0</td>\n",
       "      <td>0.0</td>\n",
       "      <td>-0.080</td>\n",
       "      <td>18.0</td>\n",
       "      <td>...</td>\n",
       "      <td>False</td>\n",
       "      <td>False</td>\n",
       "      <td>False</td>\n",
       "      <td>-682732800</td>\n",
       "      <td>18</td>\n",
       "      <td>ATMOSPHERIC</td>\n",
       "      <td>0</td>\n",
       "      <td>0</td>\n",
       "      <td>-6.792674</td>\n",
       "      <td>-16.851717</td>\n",
       "    </tr>\n",
       "    <tr>\n",
       "      <th>49001</th>\n",
       "      <td>12000.0</td>\n",
       "      <td>USSR</td>\n",
       "      <td>SEMI KAZAKH</td>\n",
       "      <td>DOE</td>\n",
       "      <td>48.000</td>\n",
       "      <td>76.000</td>\n",
       "      <td>0.0</td>\n",
       "      <td>0.0</td>\n",
       "      <td>0.000</td>\n",
       "      <td>22.0</td>\n",
       "      <td>...</td>\n",
       "      <td>False</td>\n",
       "      <td>False</td>\n",
       "      <td>False</td>\n",
       "      <td>-641952000</td>\n",
       "      <td>12</td>\n",
       "      <td>ATMOSPHERIC</td>\n",
       "      <td>0</td>\n",
       "      <td>0</td>\n",
       "      <td>-4.099156</td>\n",
       "      <td>-11.424265</td>\n",
       "    </tr>\n",
       "    <tr>\n",
       "      <th>51001</th>\n",
       "      <td>134500.0</td>\n",
       "      <td>USA</td>\n",
       "      <td>NTS</td>\n",
       "      <td>DOE</td>\n",
       "      <td>37.000</td>\n",
       "      <td>-116.000</td>\n",
       "      <td>0.0</td>\n",
       "      <td>0.0</td>\n",
       "      <td>-0.350</td>\n",
       "      <td>1.0</td>\n",
       "      <td>...</td>\n",
       "      <td>False</td>\n",
       "      <td>False</td>\n",
       "      <td>False</td>\n",
       "      <td>-597369600</td>\n",
       "      <td>13</td>\n",
       "      <td>ATMOSPHERIC</td>\n",
       "      <td>0</td>\n",
       "      <td>0</td>\n",
       "      <td>-6.890990</td>\n",
       "      <td>-16.823130</td>\n",
       "    </tr>\n",
       "    <tr>\n",
       "      <th>51002</th>\n",
       "      <td>135200.0</td>\n",
       "      <td>USA</td>\n",
       "      <td>NTS</td>\n",
       "      <td>DOE</td>\n",
       "      <td>37.000</td>\n",
       "      <td>-116.000</td>\n",
       "      <td>0.0</td>\n",
       "      <td>0.0</td>\n",
       "      <td>-0.350</td>\n",
       "      <td>8.0</td>\n",
       "      <td>...</td>\n",
       "      <td>False</td>\n",
       "      <td>False</td>\n",
       "      <td>False</td>\n",
       "      <td>-597283200</td>\n",
       "      <td>13</td>\n",
       "      <td>ATMOSPHERIC</td>\n",
       "      <td>0</td>\n",
       "      <td>0</td>\n",
       "      <td>-6.899757</td>\n",
       "      <td>-16.827784</td>\n",
       "    </tr>\n",
       "    <tr>\n",
       "      <th>51003</th>\n",
       "      <td>134700.0</td>\n",
       "      <td>USA</td>\n",
       "      <td>NTS</td>\n",
       "      <td>DOE</td>\n",
       "      <td>37.000</td>\n",
       "      <td>-116.000</td>\n",
       "      <td>0.0</td>\n",
       "      <td>0.0</td>\n",
       "      <td>-0.350</td>\n",
       "      <td>1.0</td>\n",
       "      <td>...</td>\n",
       "      <td>False</td>\n",
       "      <td>False</td>\n",
       "      <td>False</td>\n",
       "      <td>-596937600</td>\n",
       "      <td>13</td>\n",
       "      <td>ATMOSPHERIC</td>\n",
       "      <td>0</td>\n",
       "      <td>0</td>\n",
       "      <td>-6.910024</td>\n",
       "      <td>-16.831898</td>\n",
       "    </tr>\n",
       "    <tr>\n",
       "      <th>51004</th>\n",
       "      <td>134900.0</td>\n",
       "      <td>USA</td>\n",
       "      <td>NTS</td>\n",
       "      <td>DOE</td>\n",
       "      <td>37.000</td>\n",
       "      <td>-116.000</td>\n",
       "      <td>0.0</td>\n",
       "      <td>0.0</td>\n",
       "      <td>-0.400</td>\n",
       "      <td>8.0</td>\n",
       "      <td>...</td>\n",
       "      <td>False</td>\n",
       "      <td>False</td>\n",
       "      <td>False</td>\n",
       "      <td>-596851200</td>\n",
       "      <td>13</td>\n",
       "      <td>ATMOSPHERIC</td>\n",
       "      <td>0</td>\n",
       "      <td>0</td>\n",
       "      <td>-6.903583</td>\n",
       "      <td>-16.823032</td>\n",
       "    </tr>\n",
       "    <tr>\n",
       "      <th>51005</th>\n",
       "      <td>134700.0</td>\n",
       "      <td>USA</td>\n",
       "      <td>NTS</td>\n",
       "      <td>DOE</td>\n",
       "      <td>37.000</td>\n",
       "      <td>-116.000</td>\n",
       "      <td>0.0</td>\n",
       "      <td>0.0</td>\n",
       "      <td>-0.500</td>\n",
       "      <td>22.0</td>\n",
       "      <td>...</td>\n",
       "      <td>False</td>\n",
       "      <td>False</td>\n",
       "      <td>False</td>\n",
       "      <td>-596505600</td>\n",
       "      <td>13</td>\n",
       "      <td>ATMOSPHERIC</td>\n",
       "      <td>0</td>\n",
       "      <td>0</td>\n",
       "      <td>-6.878562</td>\n",
       "      <td>-16.809008</td>\n",
       "    </tr>\n",
       "    <tr>\n",
       "      <th>51006</th>\n",
       "      <td>183400.0</td>\n",
       "      <td>USA</td>\n",
       "      <td>ENEWETAK</td>\n",
       "      <td>DOE</td>\n",
       "      <td>11.300</td>\n",
       "      <td>162.150</td>\n",
       "      <td>0.0</td>\n",
       "      <td>0.0</td>\n",
       "      <td>-0.100</td>\n",
       "      <td>81.0</td>\n",
       "      <td>...</td>\n",
       "      <td>False</td>\n",
       "      <td>False</td>\n",
       "      <td>False</td>\n",
       "      <td>-591321600</td>\n",
       "      <td>18</td>\n",
       "      <td>ATMOSPHERIC</td>\n",
       "      <td>0</td>\n",
       "      <td>0</td>\n",
       "      <td>-6.921409</td>\n",
       "      <td>-16.838198</td>\n",
       "    </tr>\n",
       "    <tr>\n",
       "      <th>51007</th>\n",
       "      <td>182700.0</td>\n",
       "      <td>USA</td>\n",
       "      <td>ENEWETAK</td>\n",
       "      <td>DOE</td>\n",
       "      <td>11.300</td>\n",
       "      <td>162.150</td>\n",
       "      <td>0.0</td>\n",
       "      <td>0.0</td>\n",
       "      <td>-0.100</td>\n",
       "      <td>47.0</td>\n",
       "      <td>...</td>\n",
       "      <td>False</td>\n",
       "      <td>False</td>\n",
       "      <td>False</td>\n",
       "      <td>-590198400</td>\n",
       "      <td>18</td>\n",
       "      <td>ATMOSPHERIC</td>\n",
       "      <td>0</td>\n",
       "      <td>0</td>\n",
       "      <td>-6.876764</td>\n",
       "      <td>-16.824425</td>\n",
       "    </tr>\n",
       "    <tr>\n",
       "      <th>51008</th>\n",
       "      <td>213000.0</td>\n",
       "      <td>USA</td>\n",
       "      <td>ENEWETAK</td>\n",
       "      <td>DOE</td>\n",
       "      <td>11.300</td>\n",
       "      <td>162.150</td>\n",
       "      <td>0.0</td>\n",
       "      <td>0.0</td>\n",
       "      <td>-0.070</td>\n",
       "      <td>225.0</td>\n",
       "      <td>...</td>\n",
       "      <td>False</td>\n",
       "      <td>False</td>\n",
       "      <td>False</td>\n",
       "      <td>-588643200</td>\n",
       "      <td>21</td>\n",
       "      <td>ATMOSPHERIC</td>\n",
       "      <td>0</td>\n",
       "      <td>0</td>\n",
       "      <td>-6.862260</td>\n",
       "      <td>-16.828077</td>\n",
       "    </tr>\n",
       "    <tr>\n",
       "      <th>51009</th>\n",
       "      <td>181700.0</td>\n",
       "      <td>USA</td>\n",
       "      <td>ENEWETAK</td>\n",
       "      <td>DOE</td>\n",
       "      <td>11.300</td>\n",
       "      <td>162.150</td>\n",
       "      <td>0.0</td>\n",
       "      <td>0.0</td>\n",
       "      <td>-0.070</td>\n",
       "      <td>45.5</td>\n",
       "      <td>...</td>\n",
       "      <td>False</td>\n",
       "      <td>False</td>\n",
       "      <td>False</td>\n",
       "      <td>-587260800</td>\n",
       "      <td>18</td>\n",
       "      <td>ATMOSPHERIC</td>\n",
       "      <td>0</td>\n",
       "      <td>0</td>\n",
       "      <td>-6.889287</td>\n",
       "      <td>-16.854021</td>\n",
       "    </tr>\n",
       "    <tr>\n",
       "      <th>51010</th>\n",
       "      <td>0.0</td>\n",
       "      <td>USSR</td>\n",
       "      <td>SEMI KAZAKH</td>\n",
       "      <td>DOE</td>\n",
       "      <td>48.000</td>\n",
       "      <td>76.000</td>\n",
       "      <td>0.0</td>\n",
       "      <td>0.0</td>\n",
       "      <td>0.000</td>\n",
       "      <td>38.0</td>\n",
       "      <td>...</td>\n",
       "      <td>False</td>\n",
       "      <td>False</td>\n",
       "      <td>False</td>\n",
       "      <td>-576633600</td>\n",
       "      <td>0</td>\n",
       "      <td>ATMOSPHERIC</td>\n",
       "      <td>0</td>\n",
       "      <td>0</td>\n",
       "      <td>-4.101941</td>\n",
       "      <td>-11.576620</td>\n",
       "    </tr>\n",
       "    <tr>\n",
       "      <th>51011</th>\n",
       "      <td>0.0</td>\n",
       "      <td>USSR</td>\n",
       "      <td>SEMI KAZAKH</td>\n",
       "      <td>DOE</td>\n",
       "      <td>48.000</td>\n",
       "      <td>76.000</td>\n",
       "      <td>0.0</td>\n",
       "      <td>0.0</td>\n",
       "      <td>0.000</td>\n",
       "      <td>42.0</td>\n",
       "      <td>...</td>\n",
       "      <td>False</td>\n",
       "      <td>False</td>\n",
       "      <td>False</td>\n",
       "      <td>-574560000</td>\n",
       "      <td>0</td>\n",
       "      <td>ATMOSPHERIC</td>\n",
       "      <td>0</td>\n",
       "      <td>0</td>\n",
       "      <td>-4.110116</td>\n",
       "      <td>-11.625903</td>\n",
       "    </tr>\n",
       "    <tr>\n",
       "      <th>51012</th>\n",
       "      <td>140000.0</td>\n",
       "      <td>USA</td>\n",
       "      <td>NTS</td>\n",
       "      <td>DOE</td>\n",
       "      <td>37.000</td>\n",
       "      <td>-116.000</td>\n",
       "      <td>0.0</td>\n",
       "      <td>0.0</td>\n",
       "      <td>-0.030</td>\n",
       "      <td>0.0</td>\n",
       "      <td>...</td>\n",
       "      <td>False</td>\n",
       "      <td>False</td>\n",
       "      <td>False</td>\n",
       "      <td>-574214400</td>\n",
       "      <td>14</td>\n",
       "      <td>ATMOSPHERIC</td>\n",
       "      <td>0</td>\n",
       "      <td>0</td>\n",
       "      <td>-6.928850</td>\n",
       "      <td>-16.838799</td>\n",
       "    </tr>\n",
       "    <tr>\n",
       "      <th>51013</th>\n",
       "      <td>152000.0</td>\n",
       "      <td>USA</td>\n",
       "      <td>NTS</td>\n",
       "      <td>DOE</td>\n",
       "      <td>37.000</td>\n",
       "      <td>-116.000</td>\n",
       "      <td>0.0</td>\n",
       "      <td>0.0</td>\n",
       "      <td>-0.400</td>\n",
       "      <td>3.5</td>\n",
       "      <td>...</td>\n",
       "      <td>False</td>\n",
       "      <td>False</td>\n",
       "      <td>False</td>\n",
       "      <td>-573696000</td>\n",
       "      <td>15</td>\n",
       "      <td>ATMOSPHERIC</td>\n",
       "      <td>0</td>\n",
       "      <td>0</td>\n",
       "      <td>-6.900265</td>\n",
       "      <td>-16.822424</td>\n",
       "    </tr>\n",
       "    <tr>\n",
       "      <th>51014</th>\n",
       "      <td>150000.0</td>\n",
       "      <td>USA</td>\n",
       "      <td>NTS</td>\n",
       "      <td>DOE</td>\n",
       "      <td>37.000</td>\n",
       "      <td>-116.000</td>\n",
       "      <td>0.0</td>\n",
       "      <td>0.0</td>\n",
       "      <td>-0.400</td>\n",
       "      <td>14.0</td>\n",
       "      <td>...</td>\n",
       "      <td>False</td>\n",
       "      <td>False</td>\n",
       "      <td>False</td>\n",
       "      <td>-573523200</td>\n",
       "      <td>15</td>\n",
       "      <td>ATMOSPHERIC</td>\n",
       "      <td>0</td>\n",
       "      <td>0</td>\n",
       "      <td>-6.906648</td>\n",
       "      <td>-16.825293</td>\n",
       "    </tr>\n",
       "    <tr>\n",
       "      <th>51015</th>\n",
       "      <td>153000.0</td>\n",
       "      <td>USA</td>\n",
       "      <td>NTS</td>\n",
       "      <td>DOE</td>\n",
       "      <td>37.000</td>\n",
       "      <td>-116.000</td>\n",
       "      <td>0.0</td>\n",
       "      <td>0.0</td>\n",
       "      <td>-0.500</td>\n",
       "      <td>21.0</td>\n",
       "      <td>...</td>\n",
       "      <td>False</td>\n",
       "      <td>False</td>\n",
       "      <td>False</td>\n",
       "      <td>-573350400</td>\n",
       "      <td>15</td>\n",
       "      <td>ATMOSPHERIC</td>\n",
       "      <td>0</td>\n",
       "      <td>0</td>\n",
       "      <td>-6.904461</td>\n",
       "      <td>-16.840342</td>\n",
       "    </tr>\n",
       "    <tr>\n",
       "      <th>51016</th>\n",
       "      <td>163000.0</td>\n",
       "      <td>USA</td>\n",
       "      <td>NTS</td>\n",
       "      <td>DOE</td>\n",
       "      <td>37.000</td>\n",
       "      <td>-116.000</td>\n",
       "      <td>0.0</td>\n",
       "      <td>0.0</td>\n",
       "      <td>-0.450</td>\n",
       "      <td>31.0</td>\n",
       "      <td>...</td>\n",
       "      <td>False</td>\n",
       "      <td>False</td>\n",
       "      <td>False</td>\n",
       "      <td>-573004800</td>\n",
       "      <td>16</td>\n",
       "      <td>ATMOSPHERIC</td>\n",
       "      <td>0</td>\n",
       "      <td>0</td>\n",
       "      <td>-6.894350</td>\n",
       "      <td>-16.831495</td>\n",
       "    </tr>\n",
       "    <tr>\n",
       "      <th>51017</th>\n",
       "      <td>170000.0</td>\n",
       "      <td>USA</td>\n",
       "      <td>NTS</td>\n",
       "      <td>DOE</td>\n",
       "      <td>37.000</td>\n",
       "      <td>-116.000</td>\n",
       "      <td>0.0</td>\n",
       "      <td>0.0</td>\n",
       "      <td>-0.001</td>\n",
       "      <td>1.2</td>\n",
       "      <td>...</td>\n",
       "      <td>False</td>\n",
       "      <td>False</td>\n",
       "      <td>False</td>\n",
       "      <td>-571795200</td>\n",
       "      <td>17</td>\n",
       "      <td>ATMOSPHERIC</td>\n",
       "      <td>0</td>\n",
       "      <td>0</td>\n",
       "      <td>-6.908415</td>\n",
       "      <td>-16.834724</td>\n",
       "    </tr>\n",
       "    <tr>\n",
       "      <th>51018</th>\n",
       "      <td>200000.0</td>\n",
       "      <td>USA</td>\n",
       "      <td>NTS</td>\n",
       "      <td>DOE</td>\n",
       "      <td>37.000</td>\n",
       "      <td>-116.000</td>\n",
       "      <td>0.0</td>\n",
       "      <td>0.0</td>\n",
       "      <td>0.010</td>\n",
       "      <td>1.2</td>\n",
       "      <td>...</td>\n",
       "      <td>False</td>\n",
       "      <td>False</td>\n",
       "      <td>False</td>\n",
       "      <td>-570931200</td>\n",
       "      <td>20</td>\n",
       "      <td>ATMOSPHERIC</td>\n",
       "      <td>0</td>\n",
       "      <td>0</td>\n",
       "      <td>-6.898007</td>\n",
       "      <td>-16.835598</td>\n",
       "    </tr>\n",
       "    <tr>\n",
       "      <th>52001</th>\n",
       "      <td>170000.0</td>\n",
       "      <td>USA</td>\n",
       "      <td>NTS</td>\n",
       "      <td>DOE</td>\n",
       "      <td>37.000</td>\n",
       "      <td>-116.000</td>\n",
       "      <td>0.0</td>\n",
       "      <td>0.0</td>\n",
       "      <td>-0.250</td>\n",
       "      <td>1.0</td>\n",
       "      <td>...</td>\n",
       "      <td>True</td>\n",
       "      <td>False</td>\n",
       "      <td>False</td>\n",
       "      <td>-560217600</td>\n",
       "      <td>17</td>\n",
       "      <td>ATMOSPHERIC</td>\n",
       "      <td>0</td>\n",
       "      <td>0</td>\n",
       "      <td>-6.744651</td>\n",
       "      <td>-16.921852</td>\n",
       "    </tr>\n",
       "    <tr>\n",
       "      <th>52002</th>\n",
       "      <td>173000.0</td>\n",
       "      <td>USA</td>\n",
       "      <td>NTS</td>\n",
       "      <td>DOE</td>\n",
       "      <td>37.000</td>\n",
       "      <td>-116.000</td>\n",
       "      <td>0.0</td>\n",
       "      <td>0.0</td>\n",
       "      <td>-0.350</td>\n",
       "      <td>1.0</td>\n",
       "      <td>...</td>\n",
       "      <td>False</td>\n",
       "      <td>False</td>\n",
       "      <td>False</td>\n",
       "      <td>-559008000</td>\n",
       "      <td>17</td>\n",
       "      <td>ATMOSPHERIC</td>\n",
       "      <td>0</td>\n",
       "      <td>0</td>\n",
       "      <td>-6.759697</td>\n",
       "      <td>-16.913248</td>\n",
       "    </tr>\n",
       "    <tr>\n",
       "      <th>52003</th>\n",
       "      <td>173000.0</td>\n",
       "      <td>USA</td>\n",
       "      <td>NTS</td>\n",
       "      <td>DOE</td>\n",
       "      <td>37.000</td>\n",
       "      <td>-116.000</td>\n",
       "      <td>0.0</td>\n",
       "      <td>0.0</td>\n",
       "      <td>-1.150</td>\n",
       "      <td>31.0</td>\n",
       "      <td>...</td>\n",
       "      <td>False</td>\n",
       "      <td>False</td>\n",
       "      <td>False</td>\n",
       "      <td>-558403200</td>\n",
       "      <td>17</td>\n",
       "      <td>ATMOSPHERIC</td>\n",
       "      <td>0</td>\n",
       "      <td>0</td>\n",
       "      <td>-6.768383</td>\n",
       "      <td>-16.876820</td>\n",
       "    </tr>\n",
       "    <tr>\n",
       "      <th>...</th>\n",
       "      <td>...</td>\n",
       "      <td>...</td>\n",
       "      <td>...</td>\n",
       "      <td>...</td>\n",
       "      <td>...</td>\n",
       "      <td>...</td>\n",
       "      <td>...</td>\n",
       "      <td>...</td>\n",
       "      <td>...</td>\n",
       "      <td>...</td>\n",
       "      <td>...</td>\n",
       "      <td>...</td>\n",
       "      <td>...</td>\n",
       "      <td>...</td>\n",
       "      <td>...</td>\n",
       "      <td>...</td>\n",
       "      <td>...</td>\n",
       "      <td>...</td>\n",
       "      <td>...</td>\n",
       "      <td>...</td>\n",
       "      <td>...</td>\n",
       "    </tr>\n",
       "    <tr>\n",
       "      <th>91010</th>\n",
       "      <td>160000.0</td>\n",
       "      <td>USA</td>\n",
       "      <td>NTS</td>\n",
       "      <td>DOE</td>\n",
       "      <td>37.087</td>\n",
       "      <td>-116.002</td>\n",
       "      <td>0.0</td>\n",
       "      <td>0.0</td>\n",
       "      <td>0.000</td>\n",
       "      <td>0.0</td>\n",
       "      <td>...</td>\n",
       "      <td>False</td>\n",
       "      <td>False</td>\n",
       "      <td>False</td>\n",
       "      <td>682214400</td>\n",
       "      <td>16</td>\n",
       "      <td>UNDERGROUND</td>\n",
       "      <td>0</td>\n",
       "      <td>0</td>\n",
       "      <td>8.394608</td>\n",
       "      <td>21.868788</td>\n",
       "    </tr>\n",
       "    <tr>\n",
       "      <th>91011</th>\n",
       "      <td>190000.0</td>\n",
       "      <td>USA</td>\n",
       "      <td>NTS</td>\n",
       "      <td>HFS</td>\n",
       "      <td>37.226</td>\n",
       "      <td>-116.428</td>\n",
       "      <td>0.0</td>\n",
       "      <td>0.0</td>\n",
       "      <td>0.000</td>\n",
       "      <td>20.0</td>\n",
       "      <td>...</td>\n",
       "      <td>False</td>\n",
       "      <td>False</td>\n",
       "      <td>False</td>\n",
       "      <td>684806400</td>\n",
       "      <td>19</td>\n",
       "      <td>UNDERGROUND</td>\n",
       "      <td>0</td>\n",
       "      <td>0</td>\n",
       "      <td>8.425604</td>\n",
       "      <td>21.898687</td>\n",
       "    </tr>\n",
       "    <tr>\n",
       "      <th>91012</th>\n",
       "      <td>163000.0</td>\n",
       "      <td>USA</td>\n",
       "      <td>NTS</td>\n",
       "      <td>DOE</td>\n",
       "      <td>37.236</td>\n",
       "      <td>-116.166</td>\n",
       "      <td>0.0</td>\n",
       "      <td>0.0</td>\n",
       "      <td>0.000</td>\n",
       "      <td>0.0</td>\n",
       "      <td>...</td>\n",
       "      <td>False</td>\n",
       "      <td>False</td>\n",
       "      <td>False</td>\n",
       "      <td>685238400</td>\n",
       "      <td>16</td>\n",
       "      <td>UNDERGROUND</td>\n",
       "      <td>0</td>\n",
       "      <td>0</td>\n",
       "      <td>8.398894</td>\n",
       "      <td>21.869547</td>\n",
       "    </tr>\n",
       "    <tr>\n",
       "      <th>91013</th>\n",
       "      <td>191200.0</td>\n",
       "      <td>USA</td>\n",
       "      <td>NTS</td>\n",
       "      <td>HFS</td>\n",
       "      <td>37.063</td>\n",
       "      <td>-116.045</td>\n",
       "      <td>5.4</td>\n",
       "      <td>0.0</td>\n",
       "      <td>0.000</td>\n",
       "      <td>20.0</td>\n",
       "      <td>...</td>\n",
       "      <td>False</td>\n",
       "      <td>False</td>\n",
       "      <td>False</td>\n",
       "      <td>687744000</td>\n",
       "      <td>19</td>\n",
       "      <td>UNDERGROUND</td>\n",
       "      <td>1</td>\n",
       "      <td>0</td>\n",
       "      <td>1.535529</td>\n",
       "      <td>-14.745974</td>\n",
       "    </tr>\n",
       "    <tr>\n",
       "      <th>91014</th>\n",
       "      <td>183500.0</td>\n",
       "      <td>UK</td>\n",
       "      <td>NTS</td>\n",
       "      <td>HFS</td>\n",
       "      <td>37.096</td>\n",
       "      <td>-116.070</td>\n",
       "      <td>4.6</td>\n",
       "      <td>0.0</td>\n",
       "      <td>0.000</td>\n",
       "      <td>0.0</td>\n",
       "      <td>...</td>\n",
       "      <td>False</td>\n",
       "      <td>False</td>\n",
       "      <td>False</td>\n",
       "      <td>691113600</td>\n",
       "      <td>18</td>\n",
       "      <td>UNDERGROUND</td>\n",
       "      <td>1</td>\n",
       "      <td>0</td>\n",
       "      <td>1.609359</td>\n",
       "      <td>-14.574168</td>\n",
       "    </tr>\n",
       "    <tr>\n",
       "      <th>92001</th>\n",
       "      <td>163000.0</td>\n",
       "      <td>USA</td>\n",
       "      <td>NTS</td>\n",
       "      <td>HFS</td>\n",
       "      <td>37.272</td>\n",
       "      <td>-116.360</td>\n",
       "      <td>5.6</td>\n",
       "      <td>0.0</td>\n",
       "      <td>0.000</td>\n",
       "      <td>20.0</td>\n",
       "      <td>...</td>\n",
       "      <td>False</td>\n",
       "      <td>False</td>\n",
       "      <td>False</td>\n",
       "      <td>701568000</td>\n",
       "      <td>16</td>\n",
       "      <td>UNDERGROUND</td>\n",
       "      <td>1</td>\n",
       "      <td>0</td>\n",
       "      <td>1.557173</td>\n",
       "      <td>-14.721785</td>\n",
       "    </tr>\n",
       "    <tr>\n",
       "      <th>92002</th>\n",
       "      <td>173000.0</td>\n",
       "      <td>USA</td>\n",
       "      <td>NTS</td>\n",
       "      <td>DOE</td>\n",
       "      <td>37.000</td>\n",
       "      <td>-116.000</td>\n",
       "      <td>0.0</td>\n",
       "      <td>0.0</td>\n",
       "      <td>0.000</td>\n",
       "      <td>0.0</td>\n",
       "      <td>...</td>\n",
       "      <td>False</td>\n",
       "      <td>False</td>\n",
       "      <td>False</td>\n",
       "      <td>704592000</td>\n",
       "      <td>17</td>\n",
       "      <td>UNDERGROUND</td>\n",
       "      <td>0</td>\n",
       "      <td>0</td>\n",
       "      <td>8.386460</td>\n",
       "      <td>21.866671</td>\n",
       "    </tr>\n",
       "    <tr>\n",
       "      <th>92003</th>\n",
       "      <td>45957.5</td>\n",
       "      <td>CHINA</td>\n",
       "      <td>LOP NOR</td>\n",
       "      <td>HFS</td>\n",
       "      <td>41.604</td>\n",
       "      <td>88.813</td>\n",
       "      <td>7.1</td>\n",
       "      <td>5.0</td>\n",
       "      <td>0.000</td>\n",
       "      <td>660.0</td>\n",
       "      <td>...</td>\n",
       "      <td>False</td>\n",
       "      <td>False</td>\n",
       "      <td>False</td>\n",
       "      <td>706406400</td>\n",
       "      <td>4</td>\n",
       "      <td>UNDERGROUND</td>\n",
       "      <td>1</td>\n",
       "      <td>1</td>\n",
       "      <td>-12.743001</td>\n",
       "      <td>-3.991326</td>\n",
       "    </tr>\n",
       "    <tr>\n",
       "      <th>92004</th>\n",
       "      <td>164500.0</td>\n",
       "      <td>USA</td>\n",
       "      <td>NTS</td>\n",
       "      <td>DOE</td>\n",
       "      <td>37.005</td>\n",
       "      <td>-116.010</td>\n",
       "      <td>0.0</td>\n",
       "      <td>0.0</td>\n",
       "      <td>0.000</td>\n",
       "      <td>0.0</td>\n",
       "      <td>...</td>\n",
       "      <td>False</td>\n",
       "      <td>False</td>\n",
       "      <td>False</td>\n",
       "      <td>708912000</td>\n",
       "      <td>16</td>\n",
       "      <td>UNDERGROUND</td>\n",
       "      <td>0</td>\n",
       "      <td>0</td>\n",
       "      <td>8.387723</td>\n",
       "      <td>21.867435</td>\n",
       "    </tr>\n",
       "    <tr>\n",
       "      <th>92005</th>\n",
       "      <td>150000.0</td>\n",
       "      <td>USA</td>\n",
       "      <td>NTS</td>\n",
       "      <td>DOE</td>\n",
       "      <td>37.124</td>\n",
       "      <td>-116.031</td>\n",
       "      <td>0.0</td>\n",
       "      <td>0.0</td>\n",
       "      <td>0.000</td>\n",
       "      <td>0.0</td>\n",
       "      <td>...</td>\n",
       "      <td>False</td>\n",
       "      <td>False</td>\n",
       "      <td>False</td>\n",
       "      <td>709257600</td>\n",
       "      <td>15</td>\n",
       "      <td>UNDERGROUND</td>\n",
       "      <td>0</td>\n",
       "      <td>0</td>\n",
       "      <td>8.389077</td>\n",
       "      <td>21.868244</td>\n",
       "    </tr>\n",
       "    <tr>\n",
       "      <th>92006</th>\n",
       "      <td>170000.0</td>\n",
       "      <td>USA</td>\n",
       "      <td>NTS</td>\n",
       "      <td>HFS</td>\n",
       "      <td>37.207</td>\n",
       "      <td>-116.210</td>\n",
       "      <td>4.4</td>\n",
       "      <td>0.0</td>\n",
       "      <td>0.000</td>\n",
       "      <td>0.0</td>\n",
       "      <td>...</td>\n",
       "      <td>False</td>\n",
       "      <td>False</td>\n",
       "      <td>False</td>\n",
       "      <td>716774400</td>\n",
       "      <td>17</td>\n",
       "      <td>UNDERGROUND</td>\n",
       "      <td>1</td>\n",
       "      <td>0</td>\n",
       "      <td>1.558838</td>\n",
       "      <td>-14.734762</td>\n",
       "    </tr>\n",
       "    <tr>\n",
       "      <th>92007</th>\n",
       "      <td>150400.0</td>\n",
       "      <td>USA</td>\n",
       "      <td>NTS</td>\n",
       "      <td>DOE</td>\n",
       "      <td>37.021</td>\n",
       "      <td>-115.988</td>\n",
       "      <td>0.0</td>\n",
       "      <td>0.0</td>\n",
       "      <td>0.000</td>\n",
       "      <td>0.0</td>\n",
       "      <td>...</td>\n",
       "      <td>False</td>\n",
       "      <td>False</td>\n",
       "      <td>False</td>\n",
       "      <td>717206400</td>\n",
       "      <td>15</td>\n",
       "      <td>UNDERGROUND</td>\n",
       "      <td>0</td>\n",
       "      <td>0</td>\n",
       "      <td>8.389273</td>\n",
       "      <td>21.868412</td>\n",
       "    </tr>\n",
       "    <tr>\n",
       "      <th>92008</th>\n",
       "      <td>75959.9</td>\n",
       "      <td>CHINA</td>\n",
       "      <td>LOP NOR</td>\n",
       "      <td>HFS</td>\n",
       "      <td>41.763</td>\n",
       "      <td>88.387</td>\n",
       "      <td>5.4</td>\n",
       "      <td>0.0</td>\n",
       "      <td>0.000</td>\n",
       "      <td>1.0</td>\n",
       "      <td>...</td>\n",
       "      <td>False</td>\n",
       "      <td>False</td>\n",
       "      <td>False</td>\n",
       "      <td>717379200</td>\n",
       "      <td>7</td>\n",
       "      <td>UNDERGROUND</td>\n",
       "      <td>1</td>\n",
       "      <td>0</td>\n",
       "      <td>-6.773325</td>\n",
       "      <td>9.037473</td>\n",
       "    </tr>\n",
       "    <tr>\n",
       "      <th>93001</th>\n",
       "      <td>15956.6</td>\n",
       "      <td>CHINA</td>\n",
       "      <td>LOP NOR</td>\n",
       "      <td>HFS</td>\n",
       "      <td>41.667</td>\n",
       "      <td>88.695</td>\n",
       "      <td>6.4</td>\n",
       "      <td>4.1</td>\n",
       "      <td>0.000</td>\n",
       "      <td>40.0</td>\n",
       "      <td>...</td>\n",
       "      <td>False</td>\n",
       "      <td>False</td>\n",
       "      <td>False</td>\n",
       "      <td>749779200</td>\n",
       "      <td>15</td>\n",
       "      <td>UNDERGROUND</td>\n",
       "      <td>1</td>\n",
       "      <td>1</td>\n",
       "      <td>-12.739909</td>\n",
       "      <td>-3.987784</td>\n",
       "    </tr>\n",
       "    <tr>\n",
       "      <th>94001</th>\n",
       "      <td>62557.8</td>\n",
       "      <td>CHINA</td>\n",
       "      <td>LOP NOR</td>\n",
       "      <td>HFS</td>\n",
       "      <td>41.527</td>\n",
       "      <td>88.710</td>\n",
       "      <td>6.3</td>\n",
       "      <td>3.6</td>\n",
       "      <td>0.000</td>\n",
       "      <td>30.0</td>\n",
       "      <td>...</td>\n",
       "      <td>False</td>\n",
       "      <td>False</td>\n",
       "      <td>False</td>\n",
       "      <td>771206400</td>\n",
       "      <td>6</td>\n",
       "      <td>UNDERGROUND</td>\n",
       "      <td>1</td>\n",
       "      <td>1</td>\n",
       "      <td>-12.733080</td>\n",
       "      <td>-3.989126</td>\n",
       "    </tr>\n",
       "    <tr>\n",
       "      <th>94002</th>\n",
       "      <td>32558.1</td>\n",
       "      <td>CHINA</td>\n",
       "      <td>LOP NOR</td>\n",
       "      <td>HFS</td>\n",
       "      <td>41.662</td>\n",
       "      <td>88.753</td>\n",
       "      <td>6.3</td>\n",
       "      <td>0.0</td>\n",
       "      <td>0.000</td>\n",
       "      <td>30.0</td>\n",
       "      <td>...</td>\n",
       "      <td>False</td>\n",
       "      <td>False</td>\n",
       "      <td>False</td>\n",
       "      <td>781488000</td>\n",
       "      <td>3</td>\n",
       "      <td>UNDERGROUND</td>\n",
       "      <td>1</td>\n",
       "      <td>0</td>\n",
       "      <td>-6.721657</td>\n",
       "      <td>8.975803</td>\n",
       "    </tr>\n",
       "    <tr>\n",
       "      <th>95001</th>\n",
       "      <td>40557.8</td>\n",
       "      <td>CHINA</td>\n",
       "      <td>LOP NOR</td>\n",
       "      <td>HFS</td>\n",
       "      <td>41.603</td>\n",
       "      <td>88.820</td>\n",
       "      <td>6.5</td>\n",
       "      <td>0.0</td>\n",
       "      <td>0.000</td>\n",
       "      <td>50.0</td>\n",
       "      <td>...</td>\n",
       "      <td>False</td>\n",
       "      <td>False</td>\n",
       "      <td>False</td>\n",
       "      <td>800496000</td>\n",
       "      <td>4</td>\n",
       "      <td>UNDERGROUND</td>\n",
       "      <td>1</td>\n",
       "      <td>0</td>\n",
       "      <td>-6.758415</td>\n",
       "      <td>9.020505</td>\n",
       "    </tr>\n",
       "    <tr>\n",
       "      <th>95002</th>\n",
       "      <td>5957.7</td>\n",
       "      <td>CHINA</td>\n",
       "      <td>LOP NOR</td>\n",
       "      <td>HFS</td>\n",
       "      <td>41.559</td>\n",
       "      <td>88.800</td>\n",
       "      <td>6.4</td>\n",
       "      <td>0.0</td>\n",
       "      <td>0.000</td>\n",
       "      <td>40.0</td>\n",
       "      <td>...</td>\n",
       "      <td>False</td>\n",
       "      <td>False</td>\n",
       "      <td>False</td>\n",
       "      <td>808617600</td>\n",
       "      <td>5</td>\n",
       "      <td>UNDERGROUND</td>\n",
       "      <td>1</td>\n",
       "      <td>0</td>\n",
       "      <td>-6.767282</td>\n",
       "      <td>9.030642</td>\n",
       "    </tr>\n",
       "    <tr>\n",
       "      <th>95003</th>\n",
       "      <td>212958.4</td>\n",
       "      <td>FRANCE</td>\n",
       "      <td>MURUROA</td>\n",
       "      <td>WTN</td>\n",
       "      <td>-21.852</td>\n",
       "      <td>-138.844</td>\n",
       "      <td>0.0</td>\n",
       "      <td>0.0</td>\n",
       "      <td>0.000</td>\n",
       "      <td>0.0</td>\n",
       "      <td>...</td>\n",
       "      <td>False</td>\n",
       "      <td>False</td>\n",
       "      <td>False</td>\n",
       "      <td>810259200</td>\n",
       "      <td>21</td>\n",
       "      <td>UNDERGROUND</td>\n",
       "      <td>0</td>\n",
       "      <td>0</td>\n",
       "      <td>-2.054317</td>\n",
       "      <td>17.706234</td>\n",
       "    </tr>\n",
       "    <tr>\n",
       "      <th>95004</th>\n",
       "      <td>232957.9</td>\n",
       "      <td>FRANCE</td>\n",
       "      <td>FANGATAUFA</td>\n",
       "      <td>WTN</td>\n",
       "      <td>-22.250</td>\n",
       "      <td>-138.745</td>\n",
       "      <td>0.0</td>\n",
       "      <td>0.0</td>\n",
       "      <td>0.000</td>\n",
       "      <td>0.0</td>\n",
       "      <td>...</td>\n",
       "      <td>True</td>\n",
       "      <td>False</td>\n",
       "      <td>False</td>\n",
       "      <td>812505600</td>\n",
       "      <td>23</td>\n",
       "      <td>UNDERGROUND</td>\n",
       "      <td>0</td>\n",
       "      <td>0</td>\n",
       "      <td>-2.024958</td>\n",
       "      <td>17.704388</td>\n",
       "    </tr>\n",
       "    <tr>\n",
       "      <th>95005</th>\n",
       "      <td>215958.1</td>\n",
       "      <td>FRANCE</td>\n",
       "      <td>MURUROA</td>\n",
       "      <td>WTN</td>\n",
       "      <td>-21.891</td>\n",
       "      <td>-138.983</td>\n",
       "      <td>0.0</td>\n",
       "      <td>0.0</td>\n",
       "      <td>0.000</td>\n",
       "      <td>0.0</td>\n",
       "      <td>...</td>\n",
       "      <td>False</td>\n",
       "      <td>False</td>\n",
       "      <td>False</td>\n",
       "      <td>814752000</td>\n",
       "      <td>21</td>\n",
       "      <td>UNDERGROUND</td>\n",
       "      <td>0</td>\n",
       "      <td>0</td>\n",
       "      <td>-2.049247</td>\n",
       "      <td>17.717926</td>\n",
       "    </tr>\n",
       "    <tr>\n",
       "      <th>95006</th>\n",
       "      <td>212958.0</td>\n",
       "      <td>FRANCE</td>\n",
       "      <td>MURUROA</td>\n",
       "      <td>WTN</td>\n",
       "      <td>-21.879</td>\n",
       "      <td>-139.032</td>\n",
       "      <td>0.0</td>\n",
       "      <td>0.0</td>\n",
       "      <td>0.000</td>\n",
       "      <td>0.0</td>\n",
       "      <td>...</td>\n",
       "      <td>False</td>\n",
       "      <td>False</td>\n",
       "      <td>False</td>\n",
       "      <td>816912000</td>\n",
       "      <td>21</td>\n",
       "      <td>UNDERGROUND</td>\n",
       "      <td>0</td>\n",
       "      <td>0</td>\n",
       "      <td>-2.046687</td>\n",
       "      <td>17.713148</td>\n",
       "    </tr>\n",
       "    <tr>\n",
       "      <th>95007</th>\n",
       "      <td>212958.0</td>\n",
       "      <td>FRANCE</td>\n",
       "      <td>MURUROA</td>\n",
       "      <td>WTN</td>\n",
       "      <td>-21.881</td>\n",
       "      <td>-138.973</td>\n",
       "      <td>0.0</td>\n",
       "      <td>0.0</td>\n",
       "      <td>0.000</td>\n",
       "      <td>0.0</td>\n",
       "      <td>...</td>\n",
       "      <td>False</td>\n",
       "      <td>False</td>\n",
       "      <td>False</td>\n",
       "      <td>820022400</td>\n",
       "      <td>21</td>\n",
       "      <td>UNDERGROUND</td>\n",
       "      <td>0</td>\n",
       "      <td>0</td>\n",
       "      <td>-2.034815</td>\n",
       "      <td>17.716879</td>\n",
       "    </tr>\n",
       "    <tr>\n",
       "      <th>96001</th>\n",
       "      <td>212957.7</td>\n",
       "      <td>FRANCE</td>\n",
       "      <td>FANGATAUFA</td>\n",
       "      <td>WTN</td>\n",
       "      <td>-22.236</td>\n",
       "      <td>-138.815</td>\n",
       "      <td>0.0</td>\n",
       "      <td>0.0</td>\n",
       "      <td>0.000</td>\n",
       "      <td>0.0</td>\n",
       "      <td>...</td>\n",
       "      <td>False</td>\n",
       "      <td>False</td>\n",
       "      <td>False</td>\n",
       "      <td>822700800</td>\n",
       "      <td>21</td>\n",
       "      <td>UNDERGROUND</td>\n",
       "      <td>0</td>\n",
       "      <td>0</td>\n",
       "      <td>-2.051163</td>\n",
       "      <td>17.712973</td>\n",
       "    </tr>\n",
       "    <tr>\n",
       "      <th>96002</th>\n",
       "      <td>25559.4</td>\n",
       "      <td>CHINA</td>\n",
       "      <td>LOP NOR</td>\n",
       "      <td>HFS</td>\n",
       "      <td>41.650</td>\n",
       "      <td>88.760</td>\n",
       "      <td>6.3</td>\n",
       "      <td>0.0</td>\n",
       "      <td>0.000</td>\n",
       "      <td>30.0</td>\n",
       "      <td>...</td>\n",
       "      <td>False</td>\n",
       "      <td>False</td>\n",
       "      <td>False</td>\n",
       "      <td>834192000</td>\n",
       "      <td>2</td>\n",
       "      <td>UNDERGROUND</td>\n",
       "      <td>1</td>\n",
       "      <td>0</td>\n",
       "      <td>-6.753412</td>\n",
       "      <td>9.016052</td>\n",
       "    </tr>\n",
       "    <tr>\n",
       "      <th>96003</th>\n",
       "      <td>14859.1</td>\n",
       "      <td>CHINA</td>\n",
       "      <td>LOP NOR</td>\n",
       "      <td>HFS</td>\n",
       "      <td>41.690</td>\n",
       "      <td>88.350</td>\n",
       "      <td>5.3</td>\n",
       "      <td>0.0</td>\n",
       "      <td>0.000</td>\n",
       "      <td>3.0</td>\n",
       "      <td>...</td>\n",
       "      <td>False</td>\n",
       "      <td>False</td>\n",
       "      <td>False</td>\n",
       "      <td>838598400</td>\n",
       "      <td>14</td>\n",
       "      <td>UNDERGROUND</td>\n",
       "      <td>1</td>\n",
       "      <td>0</td>\n",
       "      <td>-6.749389</td>\n",
       "      <td>9.010947</td>\n",
       "    </tr>\n",
       "    <tr>\n",
       "      <th>98001</th>\n",
       "      <td>101344.0</td>\n",
       "      <td>INDIA</td>\n",
       "      <td>POKHRAN</td>\n",
       "      <td>HFS</td>\n",
       "      <td>27.070</td>\n",
       "      <td>71.700</td>\n",
       "      <td>5.3</td>\n",
       "      <td>0.0</td>\n",
       "      <td>0.000</td>\n",
       "      <td>0.0</td>\n",
       "      <td>...</td>\n",
       "      <td>False</td>\n",
       "      <td>False</td>\n",
       "      <td>False</td>\n",
       "      <td>894844800</td>\n",
       "      <td>10</td>\n",
       "      <td>UNDERGROUND</td>\n",
       "      <td>1</td>\n",
       "      <td>0</td>\n",
       "      <td>-6.743893</td>\n",
       "      <td>9.010805</td>\n",
       "    </tr>\n",
       "    <tr>\n",
       "      <th>98003</th>\n",
       "      <td>65100.0</td>\n",
       "      <td>INDIA</td>\n",
       "      <td>POKHRAN</td>\n",
       "      <td>NRD</td>\n",
       "      <td>27.070</td>\n",
       "      <td>71.700</td>\n",
       "      <td>0.0</td>\n",
       "      <td>0.0</td>\n",
       "      <td>0.000</td>\n",
       "      <td>0.0</td>\n",
       "      <td>...</td>\n",
       "      <td>False</td>\n",
       "      <td>False</td>\n",
       "      <td>False</td>\n",
       "      <td>895017600</td>\n",
       "      <td>6</td>\n",
       "      <td>UNDERGROUND</td>\n",
       "      <td>0</td>\n",
       "      <td>0</td>\n",
       "      <td>-2.032567</td>\n",
       "      <td>17.737637</td>\n",
       "    </tr>\n",
       "    <tr>\n",
       "      <th>98004</th>\n",
       "      <td>101617.6</td>\n",
       "      <td>PAKIST</td>\n",
       "      <td>CHAGAI</td>\n",
       "      <td>HFS</td>\n",
       "      <td>28.900</td>\n",
       "      <td>64.890</td>\n",
       "      <td>0.0</td>\n",
       "      <td>0.0</td>\n",
       "      <td>0.000</td>\n",
       "      <td>0.0</td>\n",
       "      <td>...</td>\n",
       "      <td>False</td>\n",
       "      <td>False</td>\n",
       "      <td>False</td>\n",
       "      <td>896313600</td>\n",
       "      <td>10</td>\n",
       "      <td>UNDERGROUND</td>\n",
       "      <td>0</td>\n",
       "      <td>0</td>\n",
       "      <td>-2.099158</td>\n",
       "      <td>17.711164</td>\n",
       "    </tr>\n",
       "    <tr>\n",
       "      <th>98005</th>\n",
       "      <td>65457.1</td>\n",
       "      <td>PAKIST</td>\n",
       "      <td>KHARAN</td>\n",
       "      <td>HFS</td>\n",
       "      <td>28.490</td>\n",
       "      <td>63.780</td>\n",
       "      <td>5.0</td>\n",
       "      <td>0.0</td>\n",
       "      <td>0.000</td>\n",
       "      <td>0.0</td>\n",
       "      <td>...</td>\n",
       "      <td>False</td>\n",
       "      <td>False</td>\n",
       "      <td>False</td>\n",
       "      <td>896486400</td>\n",
       "      <td>6</td>\n",
       "      <td>UNDERGROUND</td>\n",
       "      <td>1</td>\n",
       "      <td>0</td>\n",
       "      <td>1.642953</td>\n",
       "      <td>-14.625475</td>\n",
       "    </tr>\n",
       "  </tbody>\n",
       "</table>\n",
       "<p>2051 rows × 36 columns</p>\n",
       "</div>"
      ],
      "text/plain": [
       "       origin_t country       region source  latitude  longitude   mb   Ms  \\\n",
       "id_no                                                                        \n",
       "45001  123000.0     USA   ALAMOGORDO    DOE    32.540   -105.570  0.0  0.0   \n",
       "45002  231500.0     USA    HIROSHIMA    DOE    34.230    132.270  0.0  0.0   \n",
       "45003   15800.0     USA     NAGASAKI    DOE    32.450    129.520  0.0  0.0   \n",
       "46001  220100.0     USA       BIKINI    DOE    11.350    165.200  0.0  0.0   \n",
       "46002  213500.0     USA       BIKINI    DOE    11.350    165.200  0.0  0.0   \n",
       "48001  181700.0     USA     ENEWETAK    DOE    11.300    162.150  0.0  0.0   \n",
       "48002  180900.0     USA     ENEWETAK    DOE    11.300    162.150  0.0  0.0   \n",
       "48003  180400.0     USA     ENEWETAK    DOE    11.300    162.150  0.0  0.0   \n",
       "49001   12000.0    USSR  SEMI KAZAKH    DOE    48.000     76.000  0.0  0.0   \n",
       "51001  134500.0     USA          NTS    DOE    37.000   -116.000  0.0  0.0   \n",
       "51002  135200.0     USA          NTS    DOE    37.000   -116.000  0.0  0.0   \n",
       "51003  134700.0     USA          NTS    DOE    37.000   -116.000  0.0  0.0   \n",
       "51004  134900.0     USA          NTS    DOE    37.000   -116.000  0.0  0.0   \n",
       "51005  134700.0     USA          NTS    DOE    37.000   -116.000  0.0  0.0   \n",
       "51006  183400.0     USA     ENEWETAK    DOE    11.300    162.150  0.0  0.0   \n",
       "51007  182700.0     USA     ENEWETAK    DOE    11.300    162.150  0.0  0.0   \n",
       "51008  213000.0     USA     ENEWETAK    DOE    11.300    162.150  0.0  0.0   \n",
       "51009  181700.0     USA     ENEWETAK    DOE    11.300    162.150  0.0  0.0   \n",
       "51010       0.0    USSR  SEMI KAZAKH    DOE    48.000     76.000  0.0  0.0   \n",
       "51011       0.0    USSR  SEMI KAZAKH    DOE    48.000     76.000  0.0  0.0   \n",
       "51012  140000.0     USA          NTS    DOE    37.000   -116.000  0.0  0.0   \n",
       "51013  152000.0     USA          NTS    DOE    37.000   -116.000  0.0  0.0   \n",
       "51014  150000.0     USA          NTS    DOE    37.000   -116.000  0.0  0.0   \n",
       "51015  153000.0     USA          NTS    DOE    37.000   -116.000  0.0  0.0   \n",
       "51016  163000.0     USA          NTS    DOE    37.000   -116.000  0.0  0.0   \n",
       "51017  170000.0     USA          NTS    DOE    37.000   -116.000  0.0  0.0   \n",
       "51018  200000.0     USA          NTS    DOE    37.000   -116.000  0.0  0.0   \n",
       "52001  170000.0     USA          NTS    DOE    37.000   -116.000  0.0  0.0   \n",
       "52002  173000.0     USA          NTS    DOE    37.000   -116.000  0.0  0.0   \n",
       "52003  173000.0     USA          NTS    DOE    37.000   -116.000  0.0  0.0   \n",
       "...         ...     ...          ...    ...       ...        ...  ...  ...   \n",
       "91010  160000.0     USA          NTS    DOE    37.087   -116.002  0.0  0.0   \n",
       "91011  190000.0     USA          NTS    HFS    37.226   -116.428  0.0  0.0   \n",
       "91012  163000.0     USA          NTS    DOE    37.236   -116.166  0.0  0.0   \n",
       "91013  191200.0     USA          NTS    HFS    37.063   -116.045  5.4  0.0   \n",
       "91014  183500.0      UK          NTS    HFS    37.096   -116.070  4.6  0.0   \n",
       "92001  163000.0     USA          NTS    HFS    37.272   -116.360  5.6  0.0   \n",
       "92002  173000.0     USA          NTS    DOE    37.000   -116.000  0.0  0.0   \n",
       "92003   45957.5   CHINA      LOP NOR    HFS    41.604     88.813  7.1  5.0   \n",
       "92004  164500.0     USA          NTS    DOE    37.005   -116.010  0.0  0.0   \n",
       "92005  150000.0     USA          NTS    DOE    37.124   -116.031  0.0  0.0   \n",
       "92006  170000.0     USA          NTS    HFS    37.207   -116.210  4.4  0.0   \n",
       "92007  150400.0     USA          NTS    DOE    37.021   -115.988  0.0  0.0   \n",
       "92008   75959.9   CHINA      LOP NOR    HFS    41.763     88.387  5.4  0.0   \n",
       "93001   15956.6   CHINA      LOP NOR    HFS    41.667     88.695  6.4  4.1   \n",
       "94001   62557.8   CHINA      LOP NOR    HFS    41.527     88.710  6.3  3.6   \n",
       "94002   32558.1   CHINA      LOP NOR    HFS    41.662     88.753  6.3  0.0   \n",
       "95001   40557.8   CHINA      LOP NOR    HFS    41.603     88.820  6.5  0.0   \n",
       "95002    5957.7   CHINA      LOP NOR    HFS    41.559     88.800  6.4  0.0   \n",
       "95003  212958.4  FRANCE      MURUROA    WTN   -21.852   -138.844  0.0  0.0   \n",
       "95004  232957.9  FRANCE   FANGATAUFA    WTN   -22.250   -138.745  0.0  0.0   \n",
       "95005  215958.1  FRANCE      MURUROA    WTN   -21.891   -138.983  0.0  0.0   \n",
       "95006  212958.0  FRANCE      MURUROA    WTN   -21.879   -139.032  0.0  0.0   \n",
       "95007  212958.0  FRANCE      MURUROA    WTN   -21.881   -138.973  0.0  0.0   \n",
       "96001  212957.7  FRANCE   FANGATAUFA    WTN   -22.236   -138.815  0.0  0.0   \n",
       "96002   25559.4   CHINA      LOP NOR    HFS    41.650     88.760  6.3  0.0   \n",
       "96003   14859.1   CHINA      LOP NOR    HFS    41.690     88.350  5.3  0.0   \n",
       "98001  101344.0   INDIA      POKHRAN    HFS    27.070     71.700  5.3  0.0   \n",
       "98003   65100.0   INDIA      POKHRAN    NRD    27.070     71.700  0.0  0.0   \n",
       "98004  101617.6  PAKIST       CHAGAI    HFS    28.900     64.890  0.0  0.0   \n",
       "98005   65457.1  PAKIST       KHARAN    HFS    28.490     63.780  5.0  0.0   \n",
       "\n",
       "       depth  yield_1  ...  _Is_quarter_start _Is_year_end _Is_year_start  \\\n",
       "id_no                  ...                                                  \n",
       "45001 -0.100     21.0  ...              False        False          False   \n",
       "45002 -0.600     15.0  ...              False        False          False   \n",
       "45003 -0.600     21.0  ...              False        False          False   \n",
       "46001 -0.200     21.0  ...              False        False          False   \n",
       "46002  0.030     21.0  ...              False        False          False   \n",
       "48001 -0.080     37.0  ...              False        False          False   \n",
       "48002 -0.080     49.0  ...              False        False          False   \n",
       "48003 -0.080     18.0  ...              False        False          False   \n",
       "49001  0.000     22.0  ...              False        False          False   \n",
       "51001 -0.350      1.0  ...              False        False          False   \n",
       "51002 -0.350      8.0  ...              False        False          False   \n",
       "51003 -0.350      1.0  ...              False        False          False   \n",
       "51004 -0.400      8.0  ...              False        False          False   \n",
       "51005 -0.500     22.0  ...              False        False          False   \n",
       "51006 -0.100     81.0  ...              False        False          False   \n",
       "51007 -0.100     47.0  ...              False        False          False   \n",
       "51008 -0.070    225.0  ...              False        False          False   \n",
       "51009 -0.070     45.5  ...              False        False          False   \n",
       "51010  0.000     38.0  ...              False        False          False   \n",
       "51011  0.000     42.0  ...              False        False          False   \n",
       "51012 -0.030      0.0  ...              False        False          False   \n",
       "51013 -0.400      3.5  ...              False        False          False   \n",
       "51014 -0.400     14.0  ...              False        False          False   \n",
       "51015 -0.500     21.0  ...              False        False          False   \n",
       "51016 -0.450     31.0  ...              False        False          False   \n",
       "51017 -0.001      1.2  ...              False        False          False   \n",
       "51018  0.010      1.2  ...              False        False          False   \n",
       "52001 -0.250      1.0  ...               True        False          False   \n",
       "52002 -0.350      1.0  ...              False        False          False   \n",
       "52003 -1.150     31.0  ...              False        False          False   \n",
       "...      ...      ...  ...                ...          ...            ...   \n",
       "91010  0.000      0.0  ...              False        False          False   \n",
       "91011  0.000     20.0  ...              False        False          False   \n",
       "91012  0.000      0.0  ...              False        False          False   \n",
       "91013  0.000     20.0  ...              False        False          False   \n",
       "91014  0.000      0.0  ...              False        False          False   \n",
       "92001  0.000     20.0  ...              False        False          False   \n",
       "92002  0.000      0.0  ...              False        False          False   \n",
       "92003  0.000    660.0  ...              False        False          False   \n",
       "92004  0.000      0.0  ...              False        False          False   \n",
       "92005  0.000      0.0  ...              False        False          False   \n",
       "92006  0.000      0.0  ...              False        False          False   \n",
       "92007  0.000      0.0  ...              False        False          False   \n",
       "92008  0.000      1.0  ...              False        False          False   \n",
       "93001  0.000     40.0  ...              False        False          False   \n",
       "94001  0.000     30.0  ...              False        False          False   \n",
       "94002  0.000     30.0  ...              False        False          False   \n",
       "95001  0.000     50.0  ...              False        False          False   \n",
       "95002  0.000     40.0  ...              False        False          False   \n",
       "95003  0.000      0.0  ...              False        False          False   \n",
       "95004  0.000      0.0  ...               True        False          False   \n",
       "95005  0.000      0.0  ...              False        False          False   \n",
       "95006  0.000      0.0  ...              False        False          False   \n",
       "95007  0.000      0.0  ...              False        False          False   \n",
       "96001  0.000      0.0  ...              False        False          False   \n",
       "96002  0.000     30.0  ...              False        False          False   \n",
       "96003  0.000      3.0  ...              False        False          False   \n",
       "98001  0.000      0.0  ...              False        False          False   \n",
       "98003  0.000      0.0  ...              False        False          False   \n",
       "98004  0.000      0.0  ...              False        False          False   \n",
       "98005  0.000      0.0  ...              False        False          False   \n",
       "\n",
       "        _Elapsed  hour     type_cat  mb_I  Ms_I          x          y  \n",
       "id_no                                                                  \n",
       "45001 -771984000    12  ATMOSPHERIC     0     0  -6.857891 -16.797060  \n",
       "45002 -770256000    23  ATMOSPHERIC     0     0  -6.861694 -16.792982  \n",
       "45003 -769910400    15  ATMOSPHERIC     0     0  -6.826782 -16.810555  \n",
       "46001 -741830400    22  ATMOSPHERIC     0     0  -6.873917 -16.814632  \n",
       "46002 -739756800    21  ATMOSPHERIC     0     0  -6.816502 -16.842319  \n",
       "48001 -685324800    18  ATMOSPHERIC     0     0  -6.895119 -16.823687  \n",
       "48002 -683942400    18  ATMOSPHERIC     0     0  -6.892535 -16.822613  \n",
       "48003 -682732800    18  ATMOSPHERIC     0     0  -6.792674 -16.851717  \n",
       "49001 -641952000    12  ATMOSPHERIC     0     0  -4.099156 -11.424265  \n",
       "51001 -597369600    13  ATMOSPHERIC     0     0  -6.890990 -16.823130  \n",
       "51002 -597283200    13  ATMOSPHERIC     0     0  -6.899757 -16.827784  \n",
       "51003 -596937600    13  ATMOSPHERIC     0     0  -6.910024 -16.831898  \n",
       "51004 -596851200    13  ATMOSPHERIC     0     0  -6.903583 -16.823032  \n",
       "51005 -596505600    13  ATMOSPHERIC     0     0  -6.878562 -16.809008  \n",
       "51006 -591321600    18  ATMOSPHERIC     0     0  -6.921409 -16.838198  \n",
       "51007 -590198400    18  ATMOSPHERIC     0     0  -6.876764 -16.824425  \n",
       "51008 -588643200    21  ATMOSPHERIC     0     0  -6.862260 -16.828077  \n",
       "51009 -587260800    18  ATMOSPHERIC     0     0  -6.889287 -16.854021  \n",
       "51010 -576633600     0  ATMOSPHERIC     0     0  -4.101941 -11.576620  \n",
       "51011 -574560000     0  ATMOSPHERIC     0     0  -4.110116 -11.625903  \n",
       "51012 -574214400    14  ATMOSPHERIC     0     0  -6.928850 -16.838799  \n",
       "51013 -573696000    15  ATMOSPHERIC     0     0  -6.900265 -16.822424  \n",
       "51014 -573523200    15  ATMOSPHERIC     0     0  -6.906648 -16.825293  \n",
       "51015 -573350400    15  ATMOSPHERIC     0     0  -6.904461 -16.840342  \n",
       "51016 -573004800    16  ATMOSPHERIC     0     0  -6.894350 -16.831495  \n",
       "51017 -571795200    17  ATMOSPHERIC     0     0  -6.908415 -16.834724  \n",
       "51018 -570931200    20  ATMOSPHERIC     0     0  -6.898007 -16.835598  \n",
       "52001 -560217600    17  ATMOSPHERIC     0     0  -6.744651 -16.921852  \n",
       "52002 -559008000    17  ATMOSPHERIC     0     0  -6.759697 -16.913248  \n",
       "52003 -558403200    17  ATMOSPHERIC     0     0  -6.768383 -16.876820  \n",
       "...          ...   ...          ...   ...   ...        ...        ...  \n",
       "91010  682214400    16  UNDERGROUND     0     0   8.394608  21.868788  \n",
       "91011  684806400    19  UNDERGROUND     0     0   8.425604  21.898687  \n",
       "91012  685238400    16  UNDERGROUND     0     0   8.398894  21.869547  \n",
       "91013  687744000    19  UNDERGROUND     1     0   1.535529 -14.745974  \n",
       "91014  691113600    18  UNDERGROUND     1     0   1.609359 -14.574168  \n",
       "92001  701568000    16  UNDERGROUND     1     0   1.557173 -14.721785  \n",
       "92002  704592000    17  UNDERGROUND     0     0   8.386460  21.866671  \n",
       "92003  706406400     4  UNDERGROUND     1     1 -12.743001  -3.991326  \n",
       "92004  708912000    16  UNDERGROUND     0     0   8.387723  21.867435  \n",
       "92005  709257600    15  UNDERGROUND     0     0   8.389077  21.868244  \n",
       "92006  716774400    17  UNDERGROUND     1     0   1.558838 -14.734762  \n",
       "92007  717206400    15  UNDERGROUND     0     0   8.389273  21.868412  \n",
       "92008  717379200     7  UNDERGROUND     1     0  -6.773325   9.037473  \n",
       "93001  749779200    15  UNDERGROUND     1     1 -12.739909  -3.987784  \n",
       "94001  771206400     6  UNDERGROUND     1     1 -12.733080  -3.989126  \n",
       "94002  781488000     3  UNDERGROUND     1     0  -6.721657   8.975803  \n",
       "95001  800496000     4  UNDERGROUND     1     0  -6.758415   9.020505  \n",
       "95002  808617600     5  UNDERGROUND     1     0  -6.767282   9.030642  \n",
       "95003  810259200    21  UNDERGROUND     0     0  -2.054317  17.706234  \n",
       "95004  812505600    23  UNDERGROUND     0     0  -2.024958  17.704388  \n",
       "95005  814752000    21  UNDERGROUND     0     0  -2.049247  17.717926  \n",
       "95006  816912000    21  UNDERGROUND     0     0  -2.046687  17.713148  \n",
       "95007  820022400    21  UNDERGROUND     0     0  -2.034815  17.716879  \n",
       "96001  822700800    21  UNDERGROUND     0     0  -2.051163  17.712973  \n",
       "96002  834192000     2  UNDERGROUND     1     0  -6.753412   9.016052  \n",
       "96003  838598400    14  UNDERGROUND     1     0  -6.749389   9.010947  \n",
       "98001  894844800    10  UNDERGROUND     1     0  -6.743893   9.010805  \n",
       "98003  895017600     6  UNDERGROUND     0     0  -2.032567  17.737637  \n",
       "98004  896313600    10  UNDERGROUND     0     0  -2.099158  17.711164  \n",
       "98005  896486400     6  UNDERGROUND     1     0   1.642953 -14.625475  \n",
       "\n",
       "[2051 rows x 36 columns]"
      ]
     },
     "execution_count": 32,
     "metadata": {},
     "output_type": "execute_result"
    }
   ],
   "source": [
    "df1"
   ]
  },
  {
   "cell_type": "code",
   "execution_count": null,
   "metadata": {},
   "outputs": [],
   "source": []
  }
 ],
 "metadata": {
  "kernelspec": {
   "display_name": "Python 3",
   "language": "python",
   "name": "python3"
  },
  "language_info": {
   "codemirror_mode": {
    "name": "ipython",
    "version": 3
   },
   "file_extension": ".py",
   "mimetype": "text/x-python",
   "name": "python",
   "nbconvert_exporter": "python",
   "pygments_lexer": "ipython3",
   "version": "3.7.3"
  }
 },
 "nbformat": 4,
 "nbformat_minor": 2
}
